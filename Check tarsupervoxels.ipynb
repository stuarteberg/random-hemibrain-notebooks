{
 "cells": [
  {
   "cell_type": "code",
   "execution_count": 1,
   "metadata": {},
   "outputs": [],
   "source": [
    "%load_ext autoreload\n",
    "%autoreload 2"
   ]
  },
  {
   "cell_type": "code",
   "execution_count": 2,
   "metadata": {},
   "outputs": [],
   "source": [
    "import os\n",
    "import sys\n",
    "import glob\n",
    "import logging\n",
    "\n",
    "import requests\n",
    "from tqdm import tqdm, tqdm_notebook\n",
    "\n",
    "import numpy as np\n",
    "import pandas as pd\n",
    "\n",
    "from dvidutils import LabelMapper\n",
    "from libdvid import DVIDNodeService\n",
    "\n",
    "from neuclease import configure_default_logging\n",
    "from neuclease.dvid import *"
   ]
  },
  {
   "cell_type": "code",
   "execution_count": 22,
   "metadata": {},
   "outputs": [],
   "source": [
    "##\n",
    "## DELETE ME\n",
    "##\n",
    "def check_tarsupervoxels_status(server, uuid, instance, bodies):\n",
    "    \"\"\"\n",
    "    For the given bodies, query the given tarsupervoxels instance and return a\n",
    "    DataFrame indicating which supervoxels are 'missing' from the instance,\n",
    "    along with their sizes.\n",
    "    \"\"\"\n",
    "    body_sv_sizes = []\n",
    "    for body in tqdm(bodies):\n",
    "        try:\n",
    "            missing_svs = fetch_missing(*master_node, 'segmentation_sv_meshes', body)\n",
    "        except requests.RequestException as ex:\n",
    "            if 'has no supervoxels' in ex.args[0]:\n",
    "                continue\n",
    "            else:\n",
    "                raise\n",
    "\n",
    "        sizes = fetch_sizes(*master_node, 'segmentation', missing_svs, supervoxels=True)\n",
    "        body_sv_sizes += [(body, sv, size) for (sv, size) in zip(missing_svs, sizes)]\n",
    "\n",
    "    df = pd.DataFrame(body_sv_sizes, columns=['body', 'sv', 'size'], dtype=np.uint64)\n",
    "    df.set_index('sv', inplace=True)\n",
    "    return df\n"
   ]
  },
  {
   "cell_type": "code",
   "execution_count": 8,
   "metadata": {},
   "outputs": [
    {
     "data": {
      "text/plain": [
       "'/nrs/flyem/bergs/complete-ffn-agglo'"
      ]
     },
     "execution_count": 8,
     "metadata": {},
     "output_type": "execute_result"
    }
   ],
   "source": [
    "pwd"
   ]
  },
  {
   "cell_type": "code",
   "execution_count": 15,
   "metadata": {},
   "outputs": [],
   "source": [
    "master_node = ('emdata3:8900', '7254')"
   ]
  },
  {
   "cell_type": "code",
   "execution_count": 14,
   "metadata": {},
   "outputs": [
    {
     "name": "stdout",
     "output_type": "stream",
     "text": [
      "Loaded 589420 bodies\n"
     ]
    },
    {
     "data": {
      "text/html": [
       "<div>\n",
       "<style scoped>\n",
       "    .dataframe tbody tr th:only-of-type {\n",
       "        vertical-align: middle;\n",
       "    }\n",
       "\n",
       "    .dataframe tbody tr th {\n",
       "        vertical-align: top;\n",
       "    }\n",
       "\n",
       "    .dataframe thead th {\n",
       "        text-align: right;\n",
       "    }\n",
       "</style>\n",
       "<table border=\"1\" class=\"dataframe\">\n",
       "  <thead>\n",
       "    <tr style=\"text-align: right;\">\n",
       "      <th></th>\n",
       "      <th>voxel_count</th>\n",
       "      <th>PostSyn</th>\n",
       "      <th>PreSyn</th>\n",
       "    </tr>\n",
       "    <tr>\n",
       "      <th>body</th>\n",
       "      <th></th>\n",
       "      <th></th>\n",
       "      <th></th>\n",
       "    </tr>\n",
       "  </thead>\n",
       "  <tbody>\n",
       "    <tr>\n",
       "      <th>1497973422</th>\n",
       "      <td>11823856010</td>\n",
       "      <td>8308</td>\n",
       "      <td>65</td>\n",
       "    </tr>\n",
       "    <tr>\n",
       "      <th>5813024096</th>\n",
       "      <td>10992947053</td>\n",
       "      <td>7393</td>\n",
       "      <td>111</td>\n",
       "    </tr>\n",
       "    <tr>\n",
       "      <th>262840563</th>\n",
       "      <td>10356857879</td>\n",
       "      <td>716</td>\n",
       "      <td>615</td>\n",
       "    </tr>\n",
       "    <tr>\n",
       "      <th>263199096</th>\n",
       "      <td>9677149202</td>\n",
       "      <td>51</td>\n",
       "      <td>36</td>\n",
       "    </tr>\n",
       "    <tr>\n",
       "      <th>262504004</th>\n",
       "      <td>8350396028</td>\n",
       "      <td>215</td>\n",
       "      <td>326</td>\n",
       "    </tr>\n",
       "  </tbody>\n",
       "</table>\n",
       "</div>"
      ],
      "text/plain": [
       "            voxel_count  PostSyn  PreSyn\n",
       "body                                    \n",
       "1497973422  11823856010     8308      65\n",
       "5813024096  10992947053     7393     111\n",
       "262840563   10356857879      716     615\n",
       "263199096    9677149202       51      36\n",
       "262504004    8350396028      215     326"
      ]
     },
     "execution_count": 14,
     "metadata": {},
     "output_type": "execute_result"
    }
   ],
   "source": [
    "focused_bodies = pd.DataFrame(np.load('focused-7254-2tbars-2psds-10.0Mv.npy'))\n",
    "focused_bodies.set_index('body', inplace=True)\n",
    "\n",
    "# Filter for 0.5 criteria\n",
    "focused_bodies.query('PostSyn >= 10 or PreSyn >= 2 or voxel_count >= 10e6', inplace=True)\n",
    "print(f\"Loaded {len(focused_bodies)} bodies\")\n",
    "focused_bodies.head()"
   ]
  },
  {
   "cell_type": "code",
   "execution_count": 23,
   "metadata": {},
   "outputs": [
    {
     "name": "stderr",
     "output_type": "stream",
     "text": [
      "\n",
      "  0%|          | 0/589420 [00:00<?, ?it/s]\u001b[A\n",
      "  0%|          | 1/589420 [00:03<530:50:45,  3.24s/it]\u001b[A\n",
      "  0%|          | 2/589420 [00:05<436:59:28,  2.67s/it]\u001b[A\n",
      "Exception in thread Thread-4:\n",
      "Traceback (most recent call last):\n",
      "  File \"/groups/flyem/proj/cluster/miniforge/envs/flyem/lib/python3.6/threading.py\", line 916, in _bootstrap_inner\n",
      "    self.run()\n",
      "  File \"/groups/flyem/proj/cluster/miniforge/envs/flyem/lib/python3.6/site-packages/tqdm/_monitor.py\", line 63, in run\n",
      "    for instance in self.tqdm_cls._instances:\n",
      "  File \"/groups/flyem/proj/cluster/miniforge/envs/flyem/lib/python3.6/_weakrefset.py\", line 60, in __iter__\n",
      "    for itemref in self.data:\n",
      "RuntimeError: Set changed size during iteration\n",
      "\n",
      "100%|██████████| 589420/589420 [1:26:48<00:00, 113.16it/s]\n"
     ]
    }
   ],
   "source": [
    "missing_sv_df = check_tarsupervoxels_status(*master_node, 'segmentation_sv_meshes', focused_bodies.index)"
   ]
  },
  {
   "cell_type": "code",
   "execution_count": 24,
   "metadata": {},
   "outputs": [],
   "source": [
    "missing_sv_df.to_csv('missing-focused-tarsupervoxels-7254.csv', index=True, header=True)"
   ]
  },
  {
   "cell_type": "code",
   "execution_count": 25,
   "metadata": {},
   "outputs": [
    {
     "data": {
      "text/plain": [
       "(152538, 2)"
      ]
     },
     "execution_count": 25,
     "metadata": {},
     "output_type": "execute_result"
    }
   ],
   "source": [
    "missing_sv_df.shape"
   ]
  },
  {
   "cell_type": "code",
   "execution_count": 26,
   "metadata": {},
   "outputs": [
    {
     "data": {
      "text/html": [
       "<div>\n",
       "<style scoped>\n",
       "    .dataframe tbody tr th:only-of-type {\n",
       "        vertical-align: middle;\n",
       "    }\n",
       "\n",
       "    .dataframe tbody tr th {\n",
       "        vertical-align: top;\n",
       "    }\n",
       "\n",
       "    .dataframe thead th {\n",
       "        text-align: right;\n",
       "    }\n",
       "</style>\n",
       "<table border=\"1\" class=\"dataframe\">\n",
       "  <thead>\n",
       "    <tr style=\"text-align: right;\">\n",
       "      <th></th>\n",
       "      <th>body</th>\n",
       "      <th>size</th>\n",
       "    </tr>\n",
       "    <tr>\n",
       "      <th>sv</th>\n",
       "      <th></th>\n",
       "      <th></th>\n",
       "    </tr>\n",
       "  </thead>\n",
       "  <tbody>\n",
       "    <tr>\n",
       "      <th>1814854285</th>\n",
       "      <td>1497973422</td>\n",
       "      <td>48</td>\n",
       "    </tr>\n",
       "    <tr>\n",
       "      <th>1784656557</th>\n",
       "      <td>1497973422</td>\n",
       "      <td>1320</td>\n",
       "    </tr>\n",
       "    <tr>\n",
       "      <th>1847425779</th>\n",
       "      <td>1497973422</td>\n",
       "      <td>48</td>\n",
       "    </tr>\n",
       "    <tr>\n",
       "      <th>1814526345</th>\n",
       "      <td>1497973422</td>\n",
       "      <td>58</td>\n",
       "    </tr>\n",
       "    <tr>\n",
       "      <th>1814888534</th>\n",
       "      <td>1497973422</td>\n",
       "      <td>40</td>\n",
       "    </tr>\n",
       "  </tbody>\n",
       "</table>\n",
       "</div>"
      ],
      "text/plain": [
       "                  body  size\n",
       "sv                          \n",
       "1814854285  1497973422    48\n",
       "1784656557  1497973422  1320\n",
       "1847425779  1497973422    48\n",
       "1814526345  1497973422    58\n",
       "1814888534  1497973422    40"
      ]
     },
     "execution_count": 26,
     "metadata": {},
     "output_type": "execute_result"
    }
   ],
   "source": [
    "missing_sv_df.head()"
   ]
  },
  {
   "cell_type": "code",
   "execution_count": 30,
   "metadata": {},
   "outputs": [],
   "source": [
    "pd.Series(pd.unique(missing_sv_df['body']), name='body').to_csv('missing-focused-tsv-bodies-7254.csv', index=False, header=True)"
   ]
  },
  {
   "cell_type": "code",
   "execution_count": 54,
   "metadata": {},
   "outputs": [
    {
     "data": {
      "text/plain": [
       "(45466,)"
      ]
     },
     "execution_count": 54,
     "metadata": {},
     "output_type": "execute_result"
    }
   ],
   "source": [
    "pd.unique(missing_sv_df['body']).shape"
   ]
  },
  {
   "cell_type": "code",
   "execution_count": 46,
   "metadata": {},
   "outputs": [
    {
     "data": {
      "image/png": "[encoded data removed]",
      "text/plain": [
       "<Figure size 432x288 with 1 Axes>"
      ]
     },
     "metadata": {},
     "output_type": "display_data"
    }
   ],
   "source": [
    "big_missing_svs = missing_sv_df.query('size > 50')\n",
    "big_missing_svs['size'].hist()\n",
    "\n",
    "big_missing_bodies = np.unique(big_missing_svs['body'])\n",
    "pd.Series(big_missing_bodies, name='body').to_csv('missing-focused-tsv-bodies-7254.csv', index=False)"
   ]
  },
  {
   "cell_type": "code",
   "execution_count": 47,
   "metadata": {},
   "outputs": [
    {
     "data": {
      "text/plain": [
       "(21011,)"
      ]
     },
     "execution_count": 47,
     "metadata": {},
     "output_type": "execute_result"
    }
   ],
   "source": [
    "big_missing_bodies.shape"
   ]
  },
  {
   "cell_type": "code",
   "execution_count": 53,
   "metadata": {},
   "outputs": [
    {
     "data": {
      "text/plain": [
       "10122272876.0"
      ]
     },
     "execution_count": 53,
     "metadata": {},
     "output_type": "execute_result"
    }
   ],
   "source": [
    "missing_sv_df['size'].sum() / 2**3"
   ]
  },
  {
   "cell_type": "code",
   "execution_count": 51,
   "metadata": {},
   "outputs": [
    {
     "data": {
      "text/plain": [
       "sv\n",
       "941123943     549851174\n",
       "2164060604    533071010\n",
       "2012991506    495639457\n",
       "1505352075    485443432\n",
       "2128812711    463382121\n",
       "2064851506    440595276\n",
       "916828607     430570330\n",
       "1283906702    405928027\n",
       "1702318668    388694165\n",
       "2137804660    386866514\n",
       "1310408243    383404624\n",
       "1590775989    379963891\n",
       "1279740448    359639863\n",
       "1049723094    332768718\n",
       "1074727153    324537533\n",
       "5322572807    318835592\n",
       "893296225     317029625\n",
       "1406682728    313512236\n",
       "362037062     306531195\n",
       "1352663924    304003653\n",
       "1193901404    302774931\n",
       "295133513     302551099\n",
       "1344041939    286284276\n",
       "953418430     274549491\n",
       "452405459     265088856\n",
       "976873647     264005516\n",
       "2189289649    262527948\n",
       "727522794     262059813\n",
       "1560924689    261444490\n",
       "760405490     256790073\n",
       "                ...    \n",
       "1165085866     10666476\n",
       "1845647668     10660340\n",
       "456510567      10653299\n",
       "1807929630     10614665\n",
       "1558031472     10613448\n",
       "1592986563     10604835\n",
       "1712748351     10576360\n",
       "758367948      10565240\n",
       "578663780      10564378\n",
       "1134478349     10551655\n",
       "1745294703     10543469\n",
       "1512430965     10540222\n",
       "1202142924     10530867\n",
       "1906137875     10516429\n",
       "1751519971     10514226\n",
       "1187425722     10509272\n",
       "1911335233     10505405\n",
       "2028693486     10490867\n",
       "608624632      10485266\n",
       "2059788666     10438591\n",
       "1757128272     10438033\n",
       "1946847429     10424520\n",
       "1010774234     10421932\n",
       "2284198932     10418367\n",
       "1226818766     10412563\n",
       "2492187450     10408119\n",
       "1683207609     10398395\n",
       "1015203506     10393366\n",
       "862273389      10383439\n",
       "1702685935     10364573\n",
       "Name: size, Length: 1040, dtype: uint64"
      ]
     },
     "execution_count": 51,
     "metadata": {},
     "output_type": "execute_result"
    }
   ],
   "source": [
    "missing_sv_df.query('size > 1e7')['size'].sort_values(ascending=False)"
   ]
  },
  {
   "cell_type": "code",
   "execution_count": null,
   "metadata": {},
   "outputs": [],
   "source": []
  }
 ],
 "metadata": {
  "kernelspec": {
   "display_name": "Python 3",
   "language": "python",
   "name": "python3"
  },
  "language_info": {
   "codemirror_mode": {
    "name": "ipython",
    "version": 3
   },
   "file_extension": ".py",
   "mimetype": "text/x-python",
   "name": "python",
   "nbconvert_exporter": "python",
   "pygments_lexer": "ipython3",
   "version": "3.6.3"
  }
 },
 "nbformat": 4,
 "nbformat_minor": 2
}
