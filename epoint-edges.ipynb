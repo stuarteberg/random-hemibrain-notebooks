{
 "cells": [
  {
   "cell_type": "code",
   "execution_count": 1,
   "metadata": {},
   "outputs": [],
   "source": [
    "%load_ext autoreload\n",
    "%autoreload 2"
   ]
  },
  {
   "cell_type": "code",
   "execution_count": 64,
   "metadata": {},
   "outputs": [],
   "source": [
    "import os\n",
    "import sys\n",
    "import json\n",
    "import logging\n",
    "from itertools import chain\n",
    "\n",
    "import requests\n",
    "from tqdm import tqdm_notebook\n",
    "\n",
    "import numpy as np\n",
    "import pandas as pd\n",
    "\n",
    "from dvidutils import LabelMapper\n",
    "from libdvid import DVIDNodeService\n",
    "\n",
    "from neuclease.dvid import *\n",
    "from neuclease.merge_table import normalize_recarray_inplace, generate_focused_assignment\n",
    "from neuclease.bin.adjust_focused_points import adjust_focused_points"
   ]
  },
  {
   "cell_type": "code",
   "execution_count": 3,
   "metadata": {},
   "outputs": [],
   "source": [
    "handler = logging.StreamHandler(sys.stdout)\n",
    "root_logger = logging.getLogger()\n",
    "root_logger.handlers = []\n",
    "root_logger.addHandler(handler)\n",
    "root_logger.setLevel(logging.INFO)\n",
    "logging.getLogger('kafka').setLevel(logging.WARNING)"
   ]
  },
  {
   "cell_type": "code",
   "execution_count": 4,
   "metadata": {},
   "outputs": [
    {
     "data": {
      "text/plain": [
       "'/nrs/flyem/bergs/complete-ffn-agglo'"
      ]
     },
     "execution_count": 4,
     "metadata": {},
     "output_type": "execute_result"
    }
   ],
   "source": [
    "pwd"
   ]
  },
  {
   "cell_type": "code",
   "execution_count": 16,
   "metadata": {},
   "outputs": [],
   "source": [
    "analysis_node = ('emdata3:8900', '662e')\n",
    "master_node = ('emdata3:8900', '7254f5a8aacf4e6f804dcbddfdac4f7f')"
   ]
  },
  {
   "cell_type": "code",
   "execution_count": 6,
   "metadata": {},
   "outputs": [
    {
     "name": "stdout",
     "output_type": "stream",
     "text": [
      "Reading kafka messages from kafka.int.janelia.org:9092 for emdata3:8900 / 662e / segmentation\n",
      "Reading 149462 kafka messages took 8.116905212402344 seconds\n",
      "Fetching http://emdata3:8900/api/node/662e/segmentation/mappings...\n",
      "Fetching http://emdata3:8900/api/node/662e/segmentation/mappings took 0:00:32.737639\n",
      "Parsing mapping...\n",
      "Parsing mapping took 0:00:09.443706\n",
      "Constructing missing identity-mappings...\n",
      "Constructing missing identity-mappings took 0:00:21.295255\n"
     ]
    }
   ],
   "source": [
    "analysis_mapping = fetch_complete_mappings(*analysis_node, 'segmentation')\n",
    "analysis_mapper = LabelMapper(analysis_mapping.index.values, analysis_mapping.values)"
   ]
  },
  {
   "cell_type": "markdown",
   "metadata": {},
   "source": [
    "### Load neo4j-defined important bodies; append final splits"
   ]
  },
  {
   "cell_type": "code",
   "execution_count": null,
   "metadata": {},
   "outputs": [],
   "source": [
    "# This list was generated from node 52f9\n",
    "important_bodies_path = '/nrs/flyem/bergs/complete-ffn-agglo/bodies-0.5-from-neuprint-52f9.csv'\n",
    "important_bodies = pd.read_csv(important_bodies_path, header=0, usecols=['bodyId'], dtype=np.uint64)['bodyId']\n",
    "important_bodies = set(important_bodies)\n",
    "\n",
    "# Read last set of new bodies (from analysis node, after neo4j was loaded).\n",
    "msgs = read_kafka_messages(*analysis_node, 'segmentation', 'split', 'leaf-only')\n",
    "final_new_bodies = set(chain(*((msg['Target'], msg['NewLabel']) for msg in msgs)))\n",
    "\n",
    "# Append final set\n",
    "important_bodies |= final_new_bodies"
   ]
  },
  {
   "cell_type": "markdown",
   "metadata": {},
   "source": [
    "### Load edges"
   ]
  },
  {
   "cell_type": "code",
   "execution_count": 113,
   "metadata": {},
   "outputs": [
    {
     "name": "stdout",
     "output_type": "stream",
     "text": [
      "Loaded 698895 edges\n"
     ]
    }
   ],
   "source": [
    "dtype = { 'id_a': np.uint64, 'id_b': np.uint64,\n",
    "          'xa': np.int32, 'ya': np.int32, 'za': np.int32,\n",
    "          'xb': np.int32, 'yb': np.int32, 'zb': np.int32 }\n",
    "\n",
    "df = pd.read_csv('hemibrain_662edc_equivs_from_epoints_0.95.csv',\n",
    "                       names=list(dtype.keys()), header=None, dtype=dtype)\n",
    "table = df.to_records(index=False)\n",
    "del df\n",
    "\n",
    "cols_a = ['id_a', 'xa', 'ya', 'za']\n",
    "cols_b = ['id_b', 'xb', 'yb', 'zb']\n",
    "normalize_recarray_inplace(table, 'id_a', 'id_b', cols_a, cols_b)\n",
    "epoint_df = pd.DataFrame(table)\n",
    "\n",
    "epoint_df[['xa', 'ya', 'za']] *= 4\n",
    "epoint_df[['xb', 'yb', 'zb']] *= 4\n",
    "\n",
    "epoint_df['body_a'] = analysis_mapper.apply(epoint_df['id_a'].values, True)\n",
    "epoint_df['body_b'] = analysis_mapper.apply(epoint_df['id_b'].values, True)\n",
    "\n",
    "print(f\"Loaded {len(epoint_df)} edges\")"
   ]
  },
  {
   "cell_type": "code",
   "execution_count": null,
   "metadata": {},
   "outputs": [],
   "source": []
  },
  {
   "cell_type": "markdown",
   "metadata": {},
   "source": [
    "### Drop non-important (one-hop only)"
   ]
  },
  {
   "cell_type": "code",
   "execution_count": 103,
   "metadata": {},
   "outputs": [
    {
     "name": "stdout",
     "output_type": "stream",
     "text": [
      "Kept 13701 out of 698895 edges\n"
     ]
    }
   ],
   "source": [
    "epoint_onehop_df = epoint_df.query('body_a in @important_bodies and body_b in @important_bodies')\n",
    "print(f\"Kept {len(epoint_onehop_df)} out of {len(epoint_df)} edges\")"
   ]
  },
  {
   "cell_type": "markdown",
   "metadata": {},
   "source": [
    "### Load previously assigned"
   ]
  },
  {
   "cell_type": "code",
   "execution_count": null,
   "metadata": {},
   "outputs": [],
   "source": [
    "instances = \"\"\"\\\n",
    "focused_assign\n",
    "focused_complete\n",
    "focused_complete_01\n",
    "focused_complete_02\n",
    "focused_complete_03\n",
    "\"\"\".split()\n",
    "\n",
    "all_assigned = []\n",
    "for instance in tqdm_notebook(instances):\n",
    "    keys = fetch_keys(*master_node, instance)\n",
    "    def _edges():\n",
    "        for key in keys:\n",
    "            a,b = key.split('_')\n",
    "            yield (int(a), int(b))\n",
    "    edges = np.asarray(list(_edges()), np.uint64)\n",
    "    edges.sort(axis=1)\n",
    "    all_assigned.append(edges)\n",
    "\n",
    "assigned_df = pd.DataFrame(np.concatenate(all_assigned), columns=['id_a', 'id_b'])\n",
    "assigned_df['body_a'] = analysis_mapper.apply(assigned_df['id_a'].values, True)\n",
    "assigned_df['body_b'] = analysis_mapper.apply(assigned_df['id_b'].values, True)"
   ]
  },
  {
   "cell_type": "markdown",
   "metadata": {},
   "source": [
    "### Drop previously assigned"
   ]
  },
  {
   "cell_type": "code",
   "execution_count": 104,
   "metadata": {},
   "outputs": [
    {
     "name": "stdout",
     "output_type": "stream",
     "text": [
      "Dropped 3237 previously assigned edges, kept 10464\n"
     ]
    }
   ],
   "source": [
    "epoint_bodies = epoint_onehop_df[['body_a', 'body_b']]\n",
    "assigned_bodies = assigned_df[['body_a', 'body_b']]\n",
    "\n",
    "drop_flags = pd.concat((epoint_bodies, assigned_bodies)).duplicated(keep='last')\n",
    "unassigned_epoint_df = epoint_onehop_df.iloc[~drop_flags[:len(epoint_onehop_df)].values]\n",
    "drop_count = len(epoint_onehop_df) - len(unassigned_epoint_df)\n",
    "print(f\"Dropped {drop_count} previously assigned edges, kept {len(unassigned_epoint_df)}\")"
   ]
  },
  {
   "cell_type": "markdown",
   "metadata": {},
   "source": [
    "### Generate sample assignment"
   ]
  },
  {
   "cell_type": "code",
   "execution_count": 105,
   "metadata": {},
   "outputs": [
    {
     "data": {
      "application/vnd.jupyter.widget-view+json": {
       "model_id": "a42299644fb14c3784af3d369098c050",
       "version_major": 2,
       "version_minor": 0
      },
      "text/html": [
       "<p>Failed to display Jupyter Widget of type <code>HBox</code>.</p>\n",
       "<p>\n",
       "  If you're reading this message in the Jupyter Notebook or JupyterLab Notebook, it may mean\n",
       "  that the widgets JavaScript is still loading. If this message persists, it\n",
       "  likely means that the widgets JavaScript library is either not installed or\n",
       "  not enabled. See the <a href=\"https://ipywidgets.readthedocs.io/en/stable/user_install.html\">Jupyter\n",
       "  Widgets Documentation</a> for setup instructions.\n",
       "</p>\n",
       "<p>\n",
       "  If you're reading this message in another frontend (for example, a static\n",
       "  rendering on GitHub or <a href=\"https://nbviewer.jupyter.org/\">NBViewer</a>),\n",
       "  it may mean that your frontend doesn't currently support widgets.\n",
       "</p>\n"
      ],
      "text/plain": [
       "HBox(children=(IntProgress(value=0), HTML(value='')))"
      ]
     },
     "metadata": {},
     "output_type": "display_data"
    },
    {
     "name": "stdout",
     "output_type": "stream",
     "text": [
      "\n",
      "Wrote to /nrs/flyem/bergs/complete-ffn-agglo/hemibrain_662edc_equivs_from_epoints_0.95-SAMPLE-ASSIGNMENT.json\n"
     ]
    }
   ],
   "source": [
    "np.random.seed(0)\n",
    "random_edges = np.random.choice(unassigned_epoint_df.index.values, 100, False)\n",
    "assignment_table = unassigned_epoint_df.loc[random_edges]\n",
    "\n",
    "assignment_json = generate_focused_assignment(assignment_table, filename)\n",
    "adjusted_assignment_data = adjust_focused_points(*analysis_node, 'segmentation',\n",
    "                                                 assignment_json, supervoxels=True,\n",
    "                                                 max_search_scale=3)\n",
    "\n",
    "filename = 'hemibrain_662edc_equivs_from_epoints_0.95-SAMPLE-ASSIGNMENT.json'\n",
    "with open(filename, 'w') as f:\n",
    "    json.dump(adjusted_assignment_data, f, indent=2)\n",
    "\n",
    "print(f\"Wrote to {os.path.abspath(filename)}\")"
   ]
  },
  {
   "cell_type": "code",
   "execution_count": 106,
   "metadata": {},
   "outputs": [
    {
     "name": "stdout",
     "output_type": "stream",
     "text": [
      "42\r\n"
     ]
    }
   ],
   "source": [
    "!grep misplaced hemibrain_662edc_equivs_from_epoints_0.95-SAMPLE-ASSIGNMENT.json | wc -l"
   ]
  },
  {
   "cell_type": "markdown",
   "metadata": {},
   "source": [
    "### Tabulate Chris's decisions"
   ]
  },
  {
   "cell_type": "code",
   "execution_count": 109,
   "metadata": {},
   "outputs": [],
   "source": [
    "chris_node = ('emdata1:8400', '363f')"
   ]
  },
  {
   "cell_type": "code",
   "execution_count": 110,
   "metadata": {},
   "outputs": [],
   "source": [
    "decisions = []\n",
    "for row in assignment_table.itertuples(index=False):\n",
    "    key = f\"{row.id_a}+{row.id_b}\"\n",
    "    decision = fetch_key(*chris_node, 'segmentation_merged', key, as_json=True)\n",
    "    decisions.append([row.id_a, row.id_b, decision[\"result\"]])\n",
    "\n",
    "decisions = pd.DataFrame(decisions, columns=['id_a', 'id_b', 'decision'])"
   ]
  },
  {
   "cell_type": "code",
   "execution_count": 111,
   "metadata": {},
   "outputs": [
    {
     "data": {
      "text/plain": [
       "merge         55\n",
       "dontMerge     44\n",
       "mergeLater     1\n",
       "Name: decision, dtype: int64"
      ]
     },
     "execution_count": 111,
     "metadata": {},
     "output_type": "execute_result"
    }
   ],
   "source": [
    "decisions['decision'].value_counts()"
   ]
  },
  {
   "cell_type": "code",
   "execution_count": 112,
   "metadata": {},
   "outputs": [
    {
     "data": {
      "text/plain": [
       "<matplotlib.axes._subplots.AxesSubplot at 0x2aef7442b8d0>"
      ]
     },
     "execution_count": 112,
     "metadata": {},
     "output_type": "execute_result"
    },
    {
     "data": {
      "image/png": "[encoded data removed]",
      "text/plain": [
       "<matplotlib.figure.Figure at 0x2aef74712cc0>"
      ]
     },
     "metadata": {},
     "output_type": "display_data"
    }
   ],
   "source": [
    "decisions['decision'].value_counts().plot(kind='pie')"
   ]
  },
  {
   "cell_type": "code",
   "execution_count": null,
   "metadata": {},
   "outputs": [],
   "source": []
  },
  {
   "cell_type": "code",
   "execution_count": null,
   "metadata": {},
   "outputs": [],
   "source": []
  },
  {
   "cell_type": "code",
   "execution_count": null,
   "metadata": {},
   "outputs": [],
   "source": []
  },
  {
   "cell_type": "code",
   "execution_count": null,
   "metadata": {},
   "outputs": [],
   "source": []
  },
  {
   "cell_type": "code",
   "execution_count": null,
   "metadata": {},
   "outputs": [],
   "source": []
  },
  {
   "cell_type": "code",
   "execution_count": null,
   "metadata": {},
   "outputs": [],
   "source": []
  },
  {
   "cell_type": "code",
   "execution_count": null,
   "metadata": {},
   "outputs": [],
   "source": []
  },
  {
   "cell_type": "code",
   "execution_count": 67,
   "metadata": {},
   "outputs": [],
   "source": [
    "import ipykernel.iostream\n",
    "from tqdm import tqdm, tqdm_notebook\n",
    "\n",
    "def tqdm_proxy(iterable, *, logger=None, level=logging.INFO, **kwargs):\n",
    "    \"\"\"\n",
    "    Useful as an (almost) drop-in replacement for tqdm which can be used\n",
    "    in EITHER an interactive console OR a script that logs to file.\n",
    "    \n",
    "    Automatically detects whether or not sys.stdout is a file or a console,\n",
    "    and configures tqdm accordingly.\n",
    "    \n",
    "    Example:\n",
    "\n",
    "        for i in tqdm_proxy(range(1000)):\n",
    "            # do some stuff\n",
    "    \"\"\"\n",
    "    assert 'file' not in kwargs, \\\n",
    "        \"There's no reason to use this function if you are providing your own output stream\"\n",
    "    \n",
    "    _tqdm = tqdm\n",
    "    if isinstance(sys.stdout, ipykernel.iostream.OutStream):\n",
    "        kwargs['file'] = sys.stdout\n",
    "        _tqdm = tqdm_notebook\n",
    "    elif os.isatty(sys.stdout.fileno()):\n",
    "        kwargs['file'] = sys.stdout\n",
    "    else:\n",
    "        if logger is None:\n",
    "            frame = inspect.stack()[1]\n",
    "            modname = inspect.getmodulename(frame[1])\n",
    "            if modname:\n",
    "                logger = logging.getLogger(modname)\n",
    "            else:\n",
    "                logger = logging.getLogger(\"unknown\")\n",
    "        kwargs['file'] = TqdmToLogger(logger, level)\n",
    "\n",
    "        if 'ncols' not in kwargs:\n",
    "            kwargs['ncols'] = 100\n",
    "        \n",
    "        if 'miniters' not in kwargs:\n",
    "            # Aim for 5% updates\n",
    "            if 'total' in kwargs:\n",
    "                kwargs['total'] = kwargs['total'] // 20\n",
    "\n",
    "    return _tqdm(iterable, **kwargs)"
   ]
  },
  {
   "cell_type": "code",
   "execution_count": 73,
   "metadata": {},
   "outputs": [],
   "source": [
    "import os\n",
    "import json\n",
    "import copy\n",
    "import logging\n",
    "import argparse\n",
    "\n",
    "import numpy as np\n",
    "\n",
    "from neuclease import configure_default_logging\n",
    "from neuclease.util import Timer\n",
    "from neuclease.dvid import fetch_mapping, fetch_labelarray_voxels\n",
    "from neuclease.misc import find_best_plane\n",
    "\n",
    "def adjust_focused_points(server, uuid, instance, assignment_json_data, supervoxels=True, max_search_scale=3):\n",
    "    new_assignment_data = copy.deepcopy(assignment_json_data)\n",
    "    new_tasks = new_assignment_data[\"task list\"]\n",
    "\n",
    "    for task in tqdm_proxy(new_tasks):\n",
    "        sv_1 = task[\"supervoxel ID 1\"]\n",
    "        sv_2 = task[\"supervoxel ID 2\"]\n",
    "        \n",
    "        coord_1 = np.array(task[\"supervoxel point 1\"])\n",
    "        coord_2 = np.array(task[\"supervoxel point 2\"])\n",
    "        \n",
    "        if supervoxels:\n",
    "            label_1 = sv_1\n",
    "            label_2 = sv_2\n",
    "        else:\n",
    "            label_1, label_2 = fetch_mapping(server, uuid, instance, [sv_1, sv_2])\n",
    "        \n",
    "        avg_coord = (coord_1 + coord_2) // 2\n",
    "        \n",
    "        # Search until we find a scale in which the two touch, or give up.\n",
    "        for scale in range(1+max_search_scale):\n",
    "            box_xyz = ( avg_coord // (2**scale) - 64,\n",
    "                        avg_coord // (2**scale) + 64 )\n",
    "            box_zyx = np.array(box_xyz)[:,::-1]\n",
    "            seg_vol = fetch_labelarray_voxels(server, uuid, instance, box_zyx, scale, supervoxels=supervoxels)\n",
    "            \n",
    "            adjusted_coords_zyx = find_best_plane(seg_vol, label_1, label_2)\n",
    "            adjusted_coords_zyx = np.array(adjusted_coords_zyx)\n",
    "\n",
    "            if not (adjusted_coords_zyx == -1).all():\n",
    "                # Found it.\n",
    "                adjusted_coords_zyx += box_zyx[0]\n",
    "                adjusted_coords_zyx *= (2**scale)\n",
    "                break\n",
    "\n",
    "        if (adjusted_coords_zyx == -1).all():\n",
    "            task[\"coordinate-status\"] = \"misplaced\"\n",
    "        else:\n",
    "            task[\"supervoxel point 1\"] = adjusted_coords_zyx[0, ::-1].tolist()\n",
    "            task[\"supervoxel point 2\"] = adjusted_coords_zyx[1, ::-1].tolist()\n",
    "            task[\"coordinate-status\"] = f\"adjusted-at-scale-{scale}\"\n",
    "    \n",
    "    return new_assignment_data\n",
    "    "
   ]
  },
  {
   "cell_type": "code",
   "execution_count": null,
   "metadata": {},
   "outputs": [],
   "source": []
  }
 ],
 "metadata": {
  "kernelspec": {
   "display_name": "Python 3",
   "language": "python",
   "name": "python3"
  },
  "language_info": {
   "codemirror_mode": {
    "name": "ipython",
    "version": 3
   },
   "file_extension": ".py",
   "mimetype": "text/x-python",
   "name": "python",
   "nbconvert_exporter": "python",
   "pygments_lexer": "ipython3",
   "version": "3.6.2"
  }
 },
 "nbformat": 4,
 "nbformat_minor": 2
}
