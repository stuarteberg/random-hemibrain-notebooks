{
 "cells": [
  {
   "cell_type": "code",
   "execution_count": 163,
   "metadata": {},
   "outputs": [
    {
     "name": "stdout",
     "output_type": "stream",
     "text": [
      "The autoreload extension is already loaded. To reload it, use:\n",
      "  %reload_ext autoreload\n"
     ]
    }
   ],
   "source": [
    "%load_ext autoreload\n",
    "%autoreload 2"
   ]
  },
  {
   "cell_type": "code",
   "execution_count": 170,
   "metadata": {},
   "outputs": [],
   "source": [
    "import os\n",
    "import sys\n",
    "import logging\n",
    "\n",
    "import requests\n",
    "from tqdm import tqdm_notebook\n",
    "tqdm = tqdm_notebook\n",
    "\n",
    "import numpy as np\n",
    "import pandas as pd\n",
    "\n",
    "from dvidutils import LabelMapper\n",
    "from libdvid import DVIDNodeService\n",
    "\n",
    "from neuclease import configure_default_logging\n",
    "from neuclease.util.util import drop_unordered_duplicates\n",
    "from neuclease.dvid import *\n",
    "from neuclease.focused.ingest import fetch_focused_decisions, drop_previously_reviewed, load_focused_table\n",
    "from neuclease.merge_table import (normalize_recarray_inplace, load_all_supervoxel_sizes, compute_body_sizes,\n",
    "                                   generate_focused_assignment, generate_assignments)\n",
    "from neuclease.merge_graph import LabelmapMergeGraph"
   ]
  },
  {
   "cell_type": "code",
   "execution_count": 123,
   "metadata": {},
   "outputs": [],
   "source": [
    "from neuclease.dvid.labelmap._split import *\n",
    "from neuclease.dvid.labelmap._labelmap import *"
   ]
  },
  {
   "cell_type": "code",
   "execution_count": 4,
   "metadata": {},
   "outputs": [],
   "source": [
    "configure_default_logging()"
   ]
  },
  {
   "cell_type": "code",
   "execution_count": 5,
   "metadata": {},
   "outputs": [
    {
     "data": {
      "text/plain": [
       "'/nrs/flyem/bergs/complete-ffn-agglo'"
      ]
     },
     "execution_count": 5,
     "metadata": {},
     "output_type": "execute_result"
    }
   ],
   "source": [
    "pwd"
   ]
  },
  {
   "cell_type": "markdown",
   "metadata": {},
   "source": [
    "### UUIDs"
   ]
  },
  {
   "cell_type": "code",
   "execution_count": 93,
   "metadata": {},
   "outputs": [
    {
     "name": "stdout",
     "output_type": "stream",
     "text": [
      "Working with current master UUID: 07160ccb9ee849ad8465c3b617bb90e5\n"
     ]
    }
   ],
   "source": [
    "server = 'emdata3:8900'\n",
    "analysis_node = (server, '662e')\n",
    "analysis_seg = analysis_node + ('segmentation',)\n",
    "\n",
    "master_uuid = find_branch_nodes(server, 'a77', branch=\"\")[-1]\n",
    "master_node = (server, master_uuid)\n",
    "master_seg = master_node + ('segmentation',)\n",
    "print(f\"Working with current master UUID: {master_uuid}\")"
   ]
  },
  {
   "cell_type": "markdown",
   "metadata": {},
   "source": [
    "### Mapping"
   ]
  },
  {
   "cell_type": "code",
   "execution_count": 9,
   "metadata": {},
   "outputs": [
    {
     "name": "stdout",
     "output_type": "stream",
     "text": [
      "INFO [2018-09-11 13:06:46,500] Reading kafka messages from ['kafka.int.janelia.org:9092', 'kafka2.int.janelia.org:9092', 'kafka3.int.janelia.org:9092'] for emdata3:8900 / 662e / segmentation\n",
      "INFO [2018-09-11 13:07:19,754] Reading 912362 kafka messages took 33.252427101135254 seconds\n",
      "INFO [2018-09-11 13:07:27,360] Fetching http://emdata3:8900/api/node/662e/segmentation/mappings...\n",
      "INFO [2018-09-11 13:08:00,088] Fetching http://emdata3:8900/api/node/662e/segmentation/mappings took 0:00:32.726691\n",
      "INFO [2018-09-11 13:08:00,089] Parsing mapping...\n",
      "INFO [2018-09-11 13:08:07,772] Parsing mapping took 0:00:07.682985\n",
      "INFO [2018-09-11 13:08:07,777] Constructing missing identity-mappings...\n",
      "INFO [2018-09-11 13:08:28,879] Constructing missing identity-mappings took 0:00:21.101331\n"
     ]
    }
   ],
   "source": [
    "analysis_mapping = fetch_complete_mappings(*analysis_seg)\n",
    "analysis_mapper = LabelMapper(analysis_mapping.index.values, analysis_mapping.values)"
   ]
  },
  {
   "cell_type": "code",
   "execution_count": 99,
   "metadata": {},
   "outputs": [
    {
     "name": "stdout",
     "output_type": "stream",
     "text": [
      "INFO [2018-09-11 15:36:50,437] Reading kafka messages from ['kafka.int.janelia.org:9092', 'kafka2.int.janelia.org:9092', 'kafka3.int.janelia.org:9092'] for emdata3:8900 / 07160ccb9ee849ad8465c3b617bb90e5 / segmentation\n",
      "INFO [2018-09-11 15:37:26,890] Reading 912422 kafka messages took 36.4522385597229 seconds\n",
      "INFO [2018-09-11 15:37:36,046] Fetching http://emdata3:8900/api/node/07160ccb9ee849ad8465c3b617bb90e5/segmentation/mappings...\n",
      "INFO [2018-09-11 15:38:10,088] Fetching http://emdata3:8900/api/node/07160ccb9ee849ad8465c3b617bb90e5/segmentation/mappings took 0:00:34.039307\n",
      "INFO [2018-09-11 15:38:10,091] Parsing mapping...\n",
      "INFO [2018-09-11 15:38:17,486] Parsing mapping took 0:00:07.395195\n",
      "INFO [2018-09-11 15:38:17,492] Constructing missing identity-mappings...\n",
      "INFO [2018-09-11 15:38:40,748] Constructing missing identity-mappings took 0:00:23.256014\n"
     ]
    }
   ],
   "source": [
    "master_mapping = fetch_complete_mappings(*master_seg)\n",
    "master_mapper = LabelMapper(master_mapping.index.values, master_mapping.values)"
   ]
  },
  {
   "cell_type": "markdown",
   "metadata": {},
   "source": [
    "### Load body sizes (from master node)"
   ]
  },
  {
   "cell_type": "code",
   "execution_count": 124,
   "metadata": {},
   "outputs": [
    {
     "name": "stdout",
     "output_type": "stream",
     "text": [
      "INFO [2018-09-11 16:06:59,860] Volume contains 188243164 supervoxels and 22.5 Teravoxels in total\n",
      "INFO [2018-09-11 16:07:00,071] Reading kafka messages from ['kafka.int.janelia.org:9092', 'kafka2.int.janelia.org:9092', 'kafka3.int.janelia.org:9092'] for emdata3:8900 / 07160ccb9ee849ad8465c3b617bb90e5 / segmentation\n",
      "INFO [2018-09-11 16:07:33,770] Reading 912444 kafka messages took 33.69839787483215 seconds\n",
      "INFO [2018-09-11 16:07:42,436] Fetching sizes for 7874 split supervoxels...\n",
      "INFO [2018-09-11 16:08:10,284] Fetching sizes for 7874 split supervoxels took 0:00:27.846986\n",
      "INFO [2018-09-11 16:08:58,604] Dropping unknown supervoxels\n",
      "INFO [2018-09-11 16:09:37,511] Applying sizes to mapping\n",
      "INFO [2018-09-11 16:10:09,958] Aggregating sizes by body\n",
      "INFO [2018-09-11 16:10:21,648] Appending singleton sizes\n",
      "INFO [2018-09-11 16:12:22,498] Sorting sizes\n"
     ]
    }
   ],
   "source": [
    "copyseg_jobs_dir = '/groups/flyem/data/scratchspace/copyseg-configs/labelmaps/hemibrain/8nm/'\n",
    "root_sv_sizes = f'{copyseg_jobs_dir}/compute-8nm-extended-fixed-STATS-ONLY-20180402.192015/supervoxel-sizes.h5'\n",
    "\n",
    "sv_sizes = load_all_supervoxel_sizes(*master_seg, root_sv_sizes)\n",
    "master_body_stats = compute_body_sizes(sv_sizes, master_mapping, True)"
   ]
  },
  {
   "cell_type": "markdown",
   "metadata": {},
   "source": [
    "### Important bodies"
   ]
  },
  {
   "cell_type": "code",
   "execution_count": 10,
   "metadata": {},
   "outputs": [
    {
     "name": "stdout",
     "output_type": "stream",
     "text": [
      "Working with 702995 focused bodies\n"
     ]
    }
   ],
   "source": [
    "##\n",
    "## Using Analysis node state!\n",
    "##\n",
    "\n",
    "#focused_bodies_path = 'focused-7254-2tbars-2psds-10.0Mv.npy'\n",
    "focused_bodies_path = 'focused-662e-2tbars-2psds-10.0Mv.npy'\n",
    "focused_bodies_table = pd.DataFrame(np.load(focused_bodies_path))\n",
    "focused_bodies_table.set_index('body', inplace=True)\n",
    "\n",
    "# Filter for 0.5 criteria\n",
    "focused_bodies_table.query('PreSyn >= 2 or PostSyn >= 10 or voxel_count >= 10e6', inplace=True)\n",
    "\n",
    "important_bodies = set(focused_bodies_table.index)\n",
    "print(f\"Working with {len(important_bodies)} focused bodies\")"
   ]
  },
  {
   "cell_type": "markdown",
   "metadata": {},
   "source": [
    "### Fetch previous decisions (from MASTER)"
   ]
  },
  {
   "cell_type": "code",
   "execution_count": null,
   "metadata": {},
   "outputs": [],
   "source": [
    "previous_focused_decisions = fetch_focused_decisions(*master_node, 'segmentation_merged',\n",
    "                                                     normalize_pairs='sv')\n",
    "\n",
    "# Body info is nearly useless because they correspond to the body ID\n",
    "# at the time the edge was assigned -- not the current body ID.\n",
    "# Let's delete the body columns to ensure we don't accidentally try to use it for anything.\n",
    "del previous_focused_decisions['body_a']\n",
    "del previous_focused_decisions['body_b']\n",
    "\n",
    "previous_focused_decisions.rename(inplace=True, columns={'sv_a': 'id_a', 'sv_b': 'id_b'})\n",
    "\n",
    "# TODO: To properly handle split IDs,\n",
    "#       Consider reverse-mapping these supervoxel IDs back to their IDs in the analysis node."
   ]
  },
  {
   "cell_type": "code",
   "execution_count": 28,
   "metadata": {},
   "outputs": [
    {
     "name": "stdout",
     "output_type": "stream",
     "text": [
      "Loaded 550713 previous decisions\n"
     ]
    }
   ],
   "source": [
    "assert previous_focused_decisions.eval('id_a <= id_b').all()\n",
    "print(f\"Loaded {len(previous_focused_decisions)} previous decisions\")"
   ]
  },
  {
   "cell_type": "markdown",
   "metadata": {},
   "source": [
    "### Load it1 and it2 only"
   ]
  },
  {
   "cell_type": "code",
   "execution_count": null,
   "metadata": {},
   "outputs": [],
   "source": [
    "# d = 'speculative-iterations'\n",
    "# it1_path = f'{d}/final_20180312_32nm_16nm_all_cbs32_upto10_cb16_upto10_freeze_all_spec_phase1_min0.1.npy'\n",
    "# it2_path = f'{d}/final_20180312_32nm_16nm_all_cbs32_upto10_cb16_upto10_freeze_all_spec_phase2_min0.1.npy'\n",
    "\n",
    "# it1_table = np.load(it1_path)\n",
    "# it2_table = np.load(it2_path)\n",
    "\n",
    "# print(f\"it1: {it1_table.shape}\")\n",
    "# print(f\"it2: {it2_table.shape}\")\n",
    "\n",
    "# merge_table = np.concatenate( (it1_table, it2_table) )\n",
    "# normalize_recarray_inplace(merge_table, 'id_a', 'id_b',\n",
    "#                            ['id_a', 'xa', 'ya', 'za'],\n",
    "#                            ['id_b', 'xb', 'yb', 'zb'])\n",
    "\n",
    "# merge_table_df = pd.DataFrame(merge_table)\n",
    "# del it1_table\n",
    "# del it2_table\n",
    "# del merge_table\n",
    "\n",
    "# print(f\"Loaded combined table: {merge_table_df.shape}\")\n",
    "# merge_table_df.head(3)"
   ]
  },
  {
   "cell_type": "code",
   "execution_count": 129,
   "metadata": {},
   "outputs": [],
   "source": [
    "### It 1 only"
   ]
  },
  {
   "cell_type": "code",
   "execution_count": 130,
   "metadata": {},
   "outputs": [
    {
     "name": "stdout",
     "output_type": "stream",
     "text": [
      "it1: (75446740,)\n",
      "Loaded combined table: (75446740, 9)\n"
     ]
    },
    {
     "data": {
      "text/html": [
       "<div>\n",
       "<style scoped>\n",
       "    .dataframe tbody tr th:only-of-type {\n",
       "        vertical-align: middle;\n",
       "    }\n",
       "\n",
       "    .dataframe tbody tr th {\n",
       "        vertical-align: top;\n",
       "    }\n",
       "\n",
       "    .dataframe thead th {\n",
       "        text-align: right;\n",
       "    }\n",
       "</style>\n",
       "<table border=\"1\" class=\"dataframe\">\n",
       "  <thead>\n",
       "    <tr style=\"text-align: right;\">\n",
       "      <th></th>\n",
       "      <th>id_a</th>\n",
       "      <th>id_b</th>\n",
       "      <th>xa</th>\n",
       "      <th>ya</th>\n",
       "      <th>za</th>\n",
       "      <th>xb</th>\n",
       "      <th>yb</th>\n",
       "      <th>zb</th>\n",
       "      <th>score</th>\n",
       "    </tr>\n",
       "  </thead>\n",
       "  <tbody>\n",
       "    <tr>\n",
       "      <th>0</th>\n",
       "      <td>109025907</td>\n",
       "      <td>140060777</td>\n",
       "      <td>23837</td>\n",
       "      <td>20286</td>\n",
       "      <td>1763</td>\n",
       "      <td>23834</td>\n",
       "      <td>20302</td>\n",
       "      <td>1776</td>\n",
       "      <td>13.0</td>\n",
       "    </tr>\n",
       "    <tr>\n",
       "      <th>1</th>\n",
       "      <td>109025907</td>\n",
       "      <td>109025923</td>\n",
       "      <td>23837</td>\n",
       "      <td>20286</td>\n",
       "      <td>1763</td>\n",
       "      <td>23841</td>\n",
       "      <td>20291</td>\n",
       "      <td>1766</td>\n",
       "      <td>13.0</td>\n",
       "    </tr>\n",
       "    <tr>\n",
       "      <th>2</th>\n",
       "      <td>109707975</td>\n",
       "      <td>110049207</td>\n",
       "      <td>23955</td>\n",
       "      <td>21390</td>\n",
       "      <td>1669</td>\n",
       "      <td>23954</td>\n",
       "      <td>21396</td>\n",
       "      <td>1672</td>\n",
       "      <td>13.0</td>\n",
       "    </tr>\n",
       "  </tbody>\n",
       "</table>\n",
       "</div>"
      ],
      "text/plain": [
       "        id_a       id_b     xa     ya    za     xb     yb    zb  score\n",
       "0  109025907  140060777  23837  20286  1763  23834  20302  1776   13.0\n",
       "1  109025907  109025923  23837  20286  1763  23841  20291  1766   13.0\n",
       "2  109707975  110049207  23955  21390  1669  23954  21396  1672   13.0"
      ]
     },
     "execution_count": 130,
     "metadata": {},
     "output_type": "execute_result"
    }
   ],
   "source": [
    "d = 'speculative-iterations'\n",
    "it1_path = f'{d}/final_20180312_32nm_16nm_all_cbs32_upto10_cb16_upto10_freeze_all_spec_phase1_min0.1.npy'\n",
    "#it2_path = f'{d}/final_20180312_32nm_16nm_all_cbs32_upto10_cb16_upto10_freeze_all_spec_phase2_min0.1.npy'\n",
    "\n",
    "it1_table = np.load(it1_path)\n",
    "#it2_table = np.load(it2_path)\n",
    "\n",
    "print(f\"it1: {it1_table.shape}\")\n",
    "#print(f\"it2: {it2_table.shape}\")\n",
    "\n",
    "#merge_table = np.concatenate( (it1_table, it2_table) )\n",
    "merge_table = it1_table\n",
    "normalize_recarray_inplace(merge_table, 'id_a', 'id_b',\n",
    "                           ['id_a', 'xa', 'ya', 'za'],\n",
    "                           ['id_b', 'xb', 'yb', 'zb'])\n",
    "\n",
    "merge_table_df = pd.DataFrame(merge_table)\n",
    "del it1_table\n",
    "del it2_table\n",
    "del merge_table\n",
    "\n",
    "print(f\"Loaded combined table: {merge_table_df.shape}\")\n",
    "merge_table_df.head(3)"
   ]
  },
  {
   "cell_type": "markdown",
   "metadata": {},
   "source": [
    "### Replace Split SVs"
   ]
  },
  {
   "cell_type": "code",
   "execution_count": 131,
   "metadata": {},
   "outputs": [
    {
     "name": "stdout",
     "output_type": "stream",
     "text": [
      "INFO [2018-09-11 16:20:18,078] Reading kafka messages from ['kafka.int.janelia.org:9092', 'kafka2.int.janelia.org:9092', 'kafka3.int.janelia.org:9092'] for emdata3:8900 / 662e / segmentation\n",
      "INFO [2018-09-11 16:20:55,340] Reading 912446 kafka messages took 37.261221170425415 seconds\n",
      "INFO [2018-09-11 16:22:17,616] Appending 44171 edges with split supervoxel IDs...\n",
      "INFO [2018-09-11 16:22:17,621] Fetching supervoxels from split edge coordinates...\n",
      "INFO [2018-09-11 16:26:17,788] Fetching supervoxels from split edge coordinates took 0:04:00.166187\n",
      "INFO [2018-09-11 16:27:07,088] Appending 44171 edges with split supervoxel IDs took 0:04:49.468175\n"
     ]
    }
   ],
   "source": [
    "merge_graph = LabelmapMergeGraph(merge_table_df)\n",
    "merge_graph.append_edges_for_split_supervoxels(analysis_seg, parent_sv_handling='drop')\n",
    "merge_table_df = merge_graph.merge_table_df"
   ]
  },
  {
   "cell_type": "markdown",
   "metadata": {},
   "source": [
    "#### backup"
   ]
  },
  {
   "cell_type": "code",
   "execution_count": 132,
   "metadata": {},
   "outputs": [],
   "source": [
    "unfiltered_merge_table_df = merge_table_df.copy()"
   ]
  },
  {
   "cell_type": "code",
   "execution_count": 72,
   "metadata": {},
   "outputs": [],
   "source": [
    "#merge_table_df = unfiltered_merge_table_df.copy()"
   ]
  },
  {
   "cell_type": "markdown",
   "metadata": {},
   "source": [
    "### Drop 'dontMerge' decisions"
   ]
  },
  {
   "cell_type": "code",
   "execution_count": 134,
   "metadata": {},
   "outputs": [
    {
     "name": "stdout",
     "output_type": "stream",
     "text": [
      "Dropped 17892 edges, kept 75428717\n"
     ]
    }
   ],
   "source": [
    "orig_len = len(merge_table_df)\n",
    "bad_edges = previous_focused_decisions.query('result == \"dontMerge\"')\n",
    "merge_table_df = drop_previously_reviewed(merge_table_df, bad_edges)\n",
    "merge_table_df = merge_table_df.copy()\n",
    "\n",
    "dropped = orig_len - len(merge_table_df)\n",
    "print(f\"Dropped {dropped} edges, kept {len(merge_table_df)}\")"
   ]
  },
  {
   "cell_type": "code",
   "execution_count": 135,
   "metadata": {},
   "outputs": [],
   "source": [
    "merge_table_df = merge_table_df.copy()"
   ]
  },
  {
   "cell_type": "markdown",
   "metadata": {},
   "source": [
    "### Apply mapping"
   ]
  },
  {
   "cell_type": "code",
   "execution_count": 136,
   "metadata": {},
   "outputs": [],
   "source": [
    "merge_table_df['body_a'] = analysis_mapper.apply(merge_table_df['id_a'].values, True)\n",
    "merge_table_df['body_b'] = analysis_mapper.apply(merge_table_df['id_b'].values, True)"
   ]
  },
  {
   "cell_type": "markdown",
   "metadata": {},
   "source": [
    "#### Drop unmapped bodies (due to uncorrected splits)"
   ]
  },
  {
   "cell_type": "code",
   "execution_count": 137,
   "metadata": {},
   "outputs": [
    {
     "name": "stdout",
     "output_type": "stream",
     "text": [
      "Dropped 69\n"
     ]
    }
   ],
   "source": [
    "orig_len = len(merge_table_df)\n",
    "merge_table_df.query('body_a != 0 and body_b != 0', inplace=True)\n",
    "print(f\"Dropped {orig_len - len(merge_table_df)}\")"
   ]
  },
  {
   "cell_type": "markdown",
   "metadata": {},
   "source": [
    "### Filter internal edges"
   ]
  },
  {
   "cell_type": "code",
   "execution_count": 138,
   "metadata": {},
   "outputs": [
    {
     "name": "stdout",
     "output_type": "stream",
     "text": [
      "Dropped 46063\n"
     ]
    }
   ],
   "source": [
    "orig_len = len(merge_table_df)\n",
    "merge_table_df.query('body_a != body_b', inplace=True)\n",
    "print(f\"Dropped {orig_len - len(merge_table_df)}\")"
   ]
  },
  {
   "cell_type": "markdown",
   "metadata": {},
   "source": [
    "### Filter: Drop edges that are non-adjacent to important bodies (leave 1/2-hop only)"
   ]
  },
  {
   "cell_type": "code",
   "execution_count": 139,
   "metadata": {},
   "outputs": [
    {
     "name": "stdout",
     "output_type": "stream",
     "text": [
      "Dropped 58677390, kept 16705195\n",
      "CPU times: user 1min 24s, sys: 22.5 s, total: 1min 47s\n",
      "Wall time: 34.1 s\n"
     ]
    }
   ],
   "source": [
    "%%time\n",
    "orig_len = len(merge_table_df)\n",
    "merge_table_df.query('(body_a in @important_bodies) or (body_b in @important_bodies)', inplace=True)\n",
    "print(f\"Dropped {orig_len - len(merge_table_df)}, kept {len(merge_table_df)}\")"
   ]
  },
  {
   "cell_type": "code",
   "execution_count": 140,
   "metadata": {},
   "outputs": [
    {
     "data": {
      "text/plain": [
       "388296"
      ]
     },
     "execution_count": 140,
     "metadata": {},
     "output_type": "execute_result"
    }
   ],
   "source": [
    "merge_table_df[['body_a', 'body_b']].duplicated().sum()"
   ]
  },
  {
   "cell_type": "markdown",
   "metadata": {},
   "source": [
    "### Drop \"dangling\" edges"
   ]
  },
  {
   "cell_type": "code",
   "execution_count": 141,
   "metadata": {},
   "outputs": [
    {
     "name": "stdout",
     "output_type": "stream",
     "text": [
      "Dropped 15870611, kept 834584\n"
     ]
    }
   ],
   "source": [
    "# Every body must be present in at least two edges\n",
    "body_counts_a = merge_table_df['body_a'].value_counts()\n",
    "body_counts_b = merge_table_df['body_b'].value_counts()\n",
    "\n",
    "body_counts_a, body_counts_b = body_counts_a.align(body_counts_b, fill_value=0)\n",
    "body_counts = body_counts_a + body_counts_b\n",
    "\n",
    "dangling_bodies = body_counts[body_counts < 2].index\n",
    "\n",
    "orig_len = len(merge_table_df)\n",
    "q = '(body_a not in @dangling_bodies) and (body_b not in @dangling_bodies)'\n",
    "merge_table_df.query(q, inplace=True)\n",
    "print(f\"Dropped {orig_len - len(merge_table_df)}, kept {len(merge_table_df)}\")"
   ]
  },
  {
   "cell_type": "code",
   "execution_count": 142,
   "metadata": {},
   "outputs": [
    {
     "data": {
      "text/html": [
       "<div>\n",
       "<style scoped>\n",
       "    .dataframe tbody tr th:only-of-type {\n",
       "        vertical-align: middle;\n",
       "    }\n",
       "\n",
       "    .dataframe tbody tr th {\n",
       "        vertical-align: top;\n",
       "    }\n",
       "\n",
       "    .dataframe thead th {\n",
       "        text-align: right;\n",
       "    }\n",
       "</style>\n",
       "<table border=\"1\" class=\"dataframe\">\n",
       "  <thead>\n",
       "    <tr style=\"text-align: right;\">\n",
       "      <th></th>\n",
       "      <th>id_a</th>\n",
       "      <th>id_b</th>\n",
       "      <th>xa</th>\n",
       "      <th>ya</th>\n",
       "      <th>za</th>\n",
       "      <th>xb</th>\n",
       "      <th>yb</th>\n",
       "      <th>zb</th>\n",
       "      <th>score</th>\n",
       "      <th>body_a</th>\n",
       "      <th>body_b</th>\n",
       "    </tr>\n",
       "  </thead>\n",
       "  <tbody>\n",
       "    <tr>\n",
       "      <th>180</th>\n",
       "      <td>175693343</td>\n",
       "      <td>176034445</td>\n",
       "      <td>5812</td>\n",
       "      <td>26622</td>\n",
       "      <td>2402</td>\n",
       "      <td>5816</td>\n",
       "      <td>26628</td>\n",
       "      <td>2404</td>\n",
       "      <td>13.0</td>\n",
       "      <td>175693343</td>\n",
       "      <td>144313001</td>\n",
       "    </tr>\n",
       "    <tr>\n",
       "      <th>186</th>\n",
       "      <td>175693343</td>\n",
       "      <td>176034445</td>\n",
       "      <td>5812</td>\n",
       "      <td>26622</td>\n",
       "      <td>2402</td>\n",
       "      <td>5816</td>\n",
       "      <td>26628</td>\n",
       "      <td>2404</td>\n",
       "      <td>13.0</td>\n",
       "      <td>175693343</td>\n",
       "      <td>144313001</td>\n",
       "    </tr>\n",
       "    <tr>\n",
       "      <th>486</th>\n",
       "      <td>205977861</td>\n",
       "      <td>237011972</td>\n",
       "      <td>33319</td>\n",
       "      <td>24936</td>\n",
       "      <td>3082</td>\n",
       "      <td>33322</td>\n",
       "      <td>24934</td>\n",
       "      <td>3084</td>\n",
       "      <td>13.0</td>\n",
       "      <td>205977861</td>\n",
       "      <td>205977373</td>\n",
       "    </tr>\n",
       "    <tr>\n",
       "      <th>512</th>\n",
       "      <td>206050461</td>\n",
       "      <td>206050471</td>\n",
       "      <td>6174</td>\n",
       "      <td>25731</td>\n",
       "      <td>2923</td>\n",
       "      <td>6186</td>\n",
       "      <td>25742</td>\n",
       "      <td>2936</td>\n",
       "      <td>13.0</td>\n",
       "      <td>206050461</td>\n",
       "      <td>144313001</td>\n",
       "    </tr>\n",
       "    <tr>\n",
       "      <th>513</th>\n",
       "      <td>206050461</td>\n",
       "      <td>206050471</td>\n",
       "      <td>6174</td>\n",
       "      <td>25731</td>\n",
       "      <td>2923</td>\n",
       "      <td>6186</td>\n",
       "      <td>25742</td>\n",
       "      <td>2936</td>\n",
       "      <td>13.0</td>\n",
       "      <td>206050461</td>\n",
       "      <td>144313001</td>\n",
       "    </tr>\n",
       "  </tbody>\n",
       "</table>\n",
       "</div>"
      ],
      "text/plain": [
       "          id_a       id_b     xa     ya    za     xb     yb    zb  score  \\\n",
       "180  175693343  176034445   5812  26622  2402   5816  26628  2404   13.0   \n",
       "186  175693343  176034445   5812  26622  2402   5816  26628  2404   13.0   \n",
       "486  205977861  237011972  33319  24936  3082  33322  24934  3084   13.0   \n",
       "512  206050461  206050471   6174  25731  2923   6186  25742  2936   13.0   \n",
       "513  206050461  206050471   6174  25731  2923   6186  25742  2936   13.0   \n",
       "\n",
       "        body_a     body_b  \n",
       "180  175693343  144313001  \n",
       "186  175693343  144313001  \n",
       "486  205977861  205977373  \n",
       "512  206050461  144313001  \n",
       "513  206050461  144313001  "
      ]
     },
     "execution_count": 142,
     "metadata": {},
     "output_type": "execute_result"
    }
   ],
   "source": [
    "merge_table_df.head()"
   ]
  },
  {
   "cell_type": "code",
   "execution_count": 143,
   "metadata": {},
   "outputs": [
    {
     "data": {
      "text/plain": [
       "<matplotlib.axes._subplots.AxesSubplot at 0x2b76972b0cc0>"
      ]
     },
     "execution_count": 143,
     "metadata": {},
     "output_type": "execute_result"
    },
    {
     "data": {
      "image/png": "[encoded data removed]",
      "text/plain": [
       "<Figure size 432x288 with 1 Axes>"
      ]
     },
     "metadata": {},
     "output_type": "display_data"
    }
   ],
   "source": [
    "merge_table_df['score'].hist()"
   ]
  },
  {
   "cell_type": "markdown",
   "metadata": {},
   "source": [
    "### Filter internal edges (according to master node)"
   ]
  },
  {
   "cell_type": "code",
   "execution_count": 144,
   "metadata": {},
   "outputs": [
    {
     "name": "stdout",
     "output_type": "stream",
     "text": [
      "Dropped 40 split edges, kept 834544\n",
      "Dropped 38177 internal edges, kept 796367\n"
     ]
    }
   ],
   "source": [
    "master_merge_table_df = merge_table_df.copy()\n",
    "master_merge_table_df['body_a'] = master_mapper.apply(master_merge_table_df['id_a'].values, True)\n",
    "master_merge_table_df['body_b'] = master_mapper.apply(master_merge_table_df['id_b'].values, True)\n",
    "\n",
    "## Drop uncorrected splits\n",
    "orig_len = len(master_merge_table_df)\n",
    "master_merge_table_df.query('body_a != 0 and body_b != 0', inplace=True)\n",
    "new_len = len(master_merge_table_df)\n",
    "print(f\"Dropped {orig_len - new_len} split edges, kept {new_len}\")\n",
    "\n",
    "orig_len = len(master_merge_table_df)\n",
    "master_merge_table_df.query('body_a != body_b', inplace=True)\n",
    "new_len = len(master_merge_table_df)\n",
    "print(f\"Dropped {orig_len - new_len} internal edges, kept {new_len}\")"
   ]
  },
  {
   "cell_type": "markdown",
   "metadata": {},
   "source": [
    "### Drop all previously reviewed"
   ]
  },
  {
   "cell_type": "code",
   "execution_count": 145,
   "metadata": {},
   "outputs": [
    {
     "name": "stdout",
     "output_type": "stream",
     "text": [
      "Found 0.79M edges, touching 0.73M bodies\n"
     ]
    }
   ],
   "source": [
    "# unreviewed_it2_twohop_df = drop_previously_reviewed(master_merge_table_df, previous_focused_decisions)\n",
    "# num_twohop_edges = len(unreviewed_it2_twohop_df)\n",
    "# num_twohop_bodies = len(pd.unique(unreviewed_it2_twohop_df[['body_a', 'body_b']].values.reshape(-1)))\n",
    "# print(f\"Found {num_twohop_edges / 1e6:.2f}M edges, touching {num_twohop_bodies/1e6:.2f}M bodies\")"
   ]
  },
  {
   "cell_type": "markdown",
   "metadata": {},
   "source": [
    "#### How many are 1-hop edges that we've missed so far?"
   ]
  },
  {
   "cell_type": "code",
   "execution_count": 133,
   "metadata": {},
   "outputs": [
    {
     "name": "stdout",
     "output_type": "stream",
     "text": [
      "Found 11861 new 1-hop edges\n"
     ]
    }
   ],
   "source": [
    "# # (we missed these due to previously incomplete focused list)\n",
    "# it2_onehop_df = unreviewed_it2_twohop_df.query('body_a in @important_bodies and body_b in @important_bodies')\n",
    "# print(f\"Found {len(it2_onehop_df)} new 1-hop edges\")\n",
    "# it2_onehop_df.to_csv('it2-onehop.csv', header=True, index=False)"
   ]
  },
  {
   "cell_type": "markdown",
   "metadata": {},
   "source": [
    "#### it2 one-hop assignments"
   ]
  },
  {
   "cell_type": "code",
   "execution_count": 173,
   "metadata": {},
   "outputs": [
    {
     "data": {
      "text/plain": [
       "(11861, 13)"
      ]
     },
     "execution_count": 173,
     "metadata": {},
     "output_type": "execute_result"
    }
   ],
   "source": [
    "it2_onehop_df = load_focused_table('it2-onehop.csv')\n",
    "it2_onehop_df.shape"
   ]
  },
  {
   "cell_type": "code",
   "execution_count": 174,
   "metadata": {},
   "outputs": [
    {
     "data": {
      "text/plain": [
       "(11031, 13)"
      ]
     },
     "execution_count": 174,
     "metadata": {},
     "output_type": "execute_result"
    }
   ],
   "source": [
    "it2_onehop_df.sort_values('score', inplace=True)\n",
    "it2_onehop_df = drop_unordered_duplicates(it2_onehop_df, ['body_a', 'body_b'])\n",
    "it2_onehop_df.shape"
   ]
  },
  {
   "cell_type": "code",
   "execution_count": 176,
   "metadata": {},
   "outputs": [],
   "source": [
    "np.random.seed(0)\n",
    "shuffled_index = np.array(it2_onehop_df.index)\n",
    "np.random.shuffle(shuffled_index)\n",
    "shuffled_it2_onehop_df = it2_onehop_df.loc[shuffled_index]"
   ]
  },
  {
   "cell_type": "code",
   "execution_count": 178,
   "metadata": {},
   "outputs": [
    {
     "name": "stderr",
     "output_type": "stream",
     "text": [
      "100%|██████████| 11/11 [00:00<00:00, 31.93it/s]\n"
     ]
    }
   ],
   "source": [
    "generate_assignments(shuffled_it2_onehop_df, 5000, 'it2-onehop-assignments')"
   ]
  },
  {
   "cell_type": "markdown",
   "metadata": {},
   "source": [
    "#### (it1 only)"
   ]
  },
  {
   "cell_type": "code",
   "execution_count": 146,
   "metadata": {},
   "outputs": [
    {
     "name": "stdout",
     "output_type": "stream",
     "text": [
      "Found 0.79M edges, touching 0.73M bodies\n"
     ]
    }
   ],
   "source": [
    "unreviewed_it1_twohop_df = drop_previously_reviewed(master_merge_table_df, previous_focused_decisions)\n",
    "num_twohop_edges = len(unreviewed_it1_twohop_df)\n",
    "num_twohop_bodies = len(pd.unique(unreviewed_it1_twohop_df[['body_a', 'body_b']].values.reshape(-1)))\n",
    "print(f\"Found {num_twohop_edges / 1e6:.2f}M edges, touching {num_twohop_bodies/1e6:.2f}M bodies\")"
   ]
  },
  {
   "cell_type": "markdown",
   "metadata": {},
   "source": [
    "### Append body sizes"
   ]
  },
  {
   "cell_type": "code",
   "execution_count": 125,
   "metadata": {},
   "outputs": [],
   "source": [
    "unreviewed_it2_twohop_df.drop(columns=['voxel_count_a', 'voxel_count_b'], errors='ignore')\n",
    "unreviewed_it2_twohop_df = unreviewed_it2_twohop_df.merge(\n",
    "                                master_body_stats[['voxel_count']],\n",
    "                                how='left', left_on='body_a', right_index=True)\n",
    "unreviewed_it2_twohop_df = unreviewed_it2_twohop_df.merge(\n",
    "                                master_body_stats[['voxel_count']],\n",
    "                                how='left', left_on='body_b', right_index=True,\n",
    "                                suffixes=['_a', '_b'])"
   ]
  },
  {
   "cell_type": "code",
   "execution_count": 150,
   "metadata": {},
   "outputs": [
    {
     "data": {
      "text/plain": [
       "382881"
      ]
     },
     "execution_count": 150,
     "metadata": {},
     "output_type": "execute_result"
    }
   ],
   "source": [
    "unreviewed_it1_twohop_df[['body_a', 'body_b']].duplicated().sum()"
   ]
  },
  {
   "cell_type": "code",
   "execution_count": 148,
   "metadata": {},
   "outputs": [
    {
     "data": {
      "text/plain": [
       "385201"
      ]
     },
     "execution_count": 148,
     "metadata": {},
     "output_type": "execute_result"
    }
   ],
   "source": [
    "_tmp = np.sort(unreviewed_it1_twohop_df[['body_a', 'body_b']].values, axis=1)\n",
    "pd.DataFrame(_tmp).duplicated().sum()"
   ]
  },
  {
   "cell_type": "code",
   "execution_count": null,
   "metadata": {},
   "outputs": [],
   "source": []
  },
  {
   "cell_type": "code",
   "execution_count": null,
   "metadata": {},
   "outputs": [],
   "source": []
  }
 ],
 "metadata": {
  "kernelspec": {
   "display_name": "Python 3",
   "language": "python",
   "name": "python3"
  },
  "language_info": {
   "codemirror_mode": {
    "name": "ipython",
    "version": 3
   },
   "file_extension": ".py",
   "mimetype": "text/x-python",
   "name": "python",
   "nbconvert_exporter": "python",
   "pygments_lexer": "ipython3",
   "version": "3.6.3"
  }
 },
 "nbformat": 4,
 "nbformat_minor": 2
}
