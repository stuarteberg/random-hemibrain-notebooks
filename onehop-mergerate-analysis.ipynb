{
 "cells": [
  {
   "cell_type": "code",
   "execution_count": 1,
   "metadata": {},
   "outputs": [],
   "source": [
    "%load_ext autoreload\n",
    "%autoreload 2"
   ]
  },
  {
   "cell_type": "code",
   "execution_count": 2,
   "metadata": {},
   "outputs": [],
   "source": [
    "import os\n",
    "import sys\n",
    "import glob\n",
    "import logging\n",
    "\n",
    "import requests\n",
    "from tqdm import tqdm, tqdm_notebook, trange\n",
    "\n",
    "import numpy as np\n",
    "import pandas as pd\n",
    "\n",
    "from dvidutils import LabelMapper\n",
    "from libdvid import DVIDNodeService\n",
    "\n",
    "from neuclease import configure_default_logging\n",
    "from neuclease.dvid import *\n",
    "from neuclease.dvid.keyvalue import fetch_keyvalues\n",
    "from neuclease.util import Timer, closest_approach\n",
    "from neuclease.merge_table import normalize_recarray_inplace, generate_focused_assignment, generate_assignments\n",
    "from neuclease.focused.ingest import *\n",
    "from neuclease.focused.ingest import fetch_focused_decisions\n",
    "from neuclease.focused.scores import calc_speculative_scores\n",
    "from neuclease.focused.favorites import compute_favorites, mark_favorites, extract_favorites"
   ]
  },
  {
   "cell_type": "code",
   "execution_count": 3,
   "metadata": {},
   "outputs": [],
   "source": [
    "from matplotlib import pylab as plt\n",
    "plt.rcParams['figure.figsize'] = [5, 5]"
   ]
  },
  {
   "cell_type": "code",
   "execution_count": 4,
   "metadata": {},
   "outputs": [],
   "source": [
    "#import imp\n",
    "#import neuclease.dvid.kafka\n",
    "#imp.reload(neuclease.dvid.kafka)\n",
    "#from neuclease.dvid.kafka import read_kafka_messages"
   ]
  },
  {
   "cell_type": "code",
   "execution_count": 5,
   "metadata": {},
   "outputs": [
    {
     "name": "stdout",
     "output_type": "stream",
     "text": [
      "This notebook:\n",
      "http://lsf-rtm/cacti/plugins/grid/grid_bjobs.php?action=viewjob&tab=hostgraph&clusterid=1&indexid=0&jobid=46497749&submit_time=1536343895\n"
     ]
    }
   ],
   "source": [
    "from DVIDSparkServices.spark_launch_scripts.janelia_lsf.lsf_utils import get_hostgraph_url\n",
    "print(\"This notebook:\")\n",
    "print(get_hostgraph_url(os.environ[\"LSB_JOBID\"]))\n",
    "#print(\"Cluster:\")\n",
    "#print(get_hostgraph_url(os.environ[\"MASTER_BJOB_ID\"]))"
   ]
  },
  {
   "cell_type": "code",
   "execution_count": 6,
   "metadata": {},
   "outputs": [],
   "source": [
    "root_logger = logging.getLogger()\n",
    "root_logger.handlers = []\n",
    "configure_default_logging()"
   ]
  },
  {
   "cell_type": "code",
   "execution_count": 7,
   "metadata": {},
   "outputs": [
    {
     "data": {
      "text/plain": [
       "'/nrs/flyem/bergs/complete-ffn-agglo'"
      ]
     },
     "execution_count": 7,
     "metadata": {},
     "output_type": "execute_result"
    }
   ],
   "source": [
    "pwd"
   ]
  },
  {
   "cell_type": "code",
   "execution_count": 8,
   "metadata": {},
   "outputs": [
    {
     "data": {
      "text/plain": [
       "''"
      ]
     },
     "execution_count": 8,
     "metadata": {},
     "output_type": "execute_result"
    }
   ],
   "source": [
    "sc"
   ]
  },
  {
   "cell_type": "markdown",
   "metadata": {},
   "source": [
    "### UUIDS"
   ]
  },
  {
   "cell_type": "code",
   "execution_count": 9,
   "metadata": {},
   "outputs": [],
   "source": [
    "# The starting agglo\n",
    "initial_agglo_node = ('emdata3:8900', 'ac901')\n",
    "\n",
    "# # The uuid used when loading the neo4j instance (for 'important bodies')\n",
    "# neo4j_reference = DvidInstanceInfo('emdata3:8900', '52f9', 'segmentation')\n",
    "\n",
    "# # The last supervoxel splits: One past the neo4j node\n",
    "analysis_node = ('emdata3:8900', '662e')\n",
    "\n",
    "# Current master\n",
    "master_node = ('emdata3:8900', '7254')"
   ]
  },
  {
   "cell_type": "markdown",
   "metadata": {},
   "source": [
    "### Analysis Node mapping"
   ]
  },
  {
   "cell_type": "code",
   "execution_count": 10,
   "metadata": {},
   "outputs": [],
   "source": [
    "#msgs = read_kafka_messages(*analysis_node, 'segmentation', consumer_timeout=4.0)"
   ]
  },
  {
   "cell_type": "code",
   "execution_count": 12,
   "metadata": {},
   "outputs": [
    {
     "name": "stdout",
     "output_type": "stream",
     "text": [
      "INFO [2018-09-07 14:18:18,222] Reading kafka messages from ['kafka.int.janelia.org:9092', 'kafka2.int.janelia.org:9092', 'kafka3.int.janelia.org:9092'] for emdata3:8900 / 662e / segmentation\n",
      "INFO [2018-09-07 14:18:51,014] Reading 911374 kafka messages took 32.79068660736084 seconds\n",
      "INFO [2018-09-07 14:19:00,019] Fetching http://emdata3:8900/api/node/662e/segmentation/mappings...\n"
     ]
    },
    {
     "ename": "KeyboardInterrupt",
     "evalue": "",
     "output_type": "error",
     "traceback": [
      "\u001b[0;31m---------------------------------------------------------------------------\u001b[0m",
      "\u001b[0;31mKeyboardInterrupt\u001b[0m                         Traceback (most recent call last)",
      "\u001b[0;32m<ipython-input-12-48486832d9df>\u001b[0m in \u001b[0;36m<module>\u001b[0;34m()\u001b[0m\n\u001b[0;32m----> 1\u001b[0;31m \u001b[0manalysis_mapping\u001b[0m \u001b[0;34m=\u001b[0m \u001b[0mfetch_complete_mappings\u001b[0m\u001b[0;34m(\u001b[0m\u001b[0;34m*\u001b[0m\u001b[0manalysis_node\u001b[0m\u001b[0;34m,\u001b[0m \u001b[0;34m'segmentation'\u001b[0m\u001b[0;34m)\u001b[0m\u001b[0;34m\u001b[0m\u001b[0m\n\u001b[0m",
      "\u001b[0;32m/groups/flyem/proj/cluster/miniforge/envs/flyem/neuclease/neuclease/dvid/_dvid.py\u001b[0m in \u001b[0;36mwrapper\u001b[0;34m(server, session, *args, **kwargs)\u001b[0m\n\u001b[1;32m     81\u001b[0m \u001b[0;34m\u001b[0m\u001b[0m\n\u001b[1;32m     82\u001b[0m         \u001b[0;32mtry\u001b[0m\u001b[0;34m:\u001b[0m\u001b[0;34m\u001b[0m\u001b[0m\n\u001b[0;32m---> 83\u001b[0;31m             \u001b[0;32mreturn\u001b[0m \u001b[0mf\u001b[0m\u001b[0;34m(\u001b[0m\u001b[0mserver\u001b[0m\u001b[0;34m,\u001b[0m \u001b[0;34m*\u001b[0m\u001b[0margs\u001b[0m\u001b[0;34m,\u001b[0m \u001b[0;34m**\u001b[0m\u001b[0mkwargs\u001b[0m\u001b[0;34m,\u001b[0m \u001b[0msession\u001b[0m\u001b[0;34m=\u001b[0m\u001b[0msession\u001b[0m\u001b[0;34m)\u001b[0m\u001b[0;34m\u001b[0m\u001b[0m\n\u001b[0m\u001b[1;32m     84\u001b[0m         \u001b[0;32mexcept\u001b[0m \u001b[0mrequests\u001b[0m\u001b[0;34m.\u001b[0m\u001b[0mHTTPError\u001b[0m \u001b[0;32mas\u001b[0m \u001b[0mex\u001b[0m\u001b[0;34m:\u001b[0m\u001b[0;34m\u001b[0m\u001b[0m\n\u001b[1;32m     85\u001b[0m             \u001b[0;31m# If the error response had content (and it's not super-long),\u001b[0m\u001b[0;34m\u001b[0m\u001b[0;34m\u001b[0m\u001b[0m\n",
      "\u001b[0;32m/groups/flyem/proj/cluster/miniforge/envs/flyem/neuclease/neuclease/dvid/labelmap/_labelmap.py\u001b[0m in \u001b[0;36mfetch_complete_mappings\u001b[0;34m(server, uuid, instance, include_retired, kafka_msgs, session)\u001b[0m\n\u001b[1;32m    289\u001b[0m \u001b[0;34m\u001b[0m\u001b[0m\n\u001b[1;32m    290\u001b[0m     \u001b[0;31m# Fetch base mapping\u001b[0m\u001b[0;34m\u001b[0m\u001b[0;34m\u001b[0m\u001b[0m\n\u001b[0;32m--> 291\u001b[0;31m     \u001b[0mbase_mapping\u001b[0m \u001b[0;34m=\u001b[0m \u001b[0mfetch_mappings\u001b[0m\u001b[0;34m(\u001b[0m\u001b[0mserver\u001b[0m\u001b[0;34m,\u001b[0m \u001b[0muuid\u001b[0m\u001b[0;34m,\u001b[0m \u001b[0minstance\u001b[0m\u001b[0;34m,\u001b[0m \u001b[0mas_array\u001b[0m\u001b[0;34m=\u001b[0m\u001b[0;32mTrue\u001b[0m\u001b[0;34m,\u001b[0m \u001b[0msession\u001b[0m\u001b[0;34m=\u001b[0m\u001b[0msession\u001b[0m\u001b[0;34m)\u001b[0m\u001b[0;34m\u001b[0m\u001b[0m\n\u001b[0m\u001b[1;32m    292\u001b[0m     \u001b[0mbase_svs\u001b[0m \u001b[0;34m=\u001b[0m \u001b[0mbase_mapping\u001b[0m\u001b[0;34m[\u001b[0m\u001b[0;34m:\u001b[0m\u001b[0;34m,\u001b[0m\u001b[0;36m0\u001b[0m\u001b[0;34m]\u001b[0m\u001b[0;34m\u001b[0m\u001b[0m\n\u001b[1;32m    293\u001b[0m     \u001b[0mbase_bodies\u001b[0m \u001b[0;34m=\u001b[0m \u001b[0mbase_mapping\u001b[0m\u001b[0;34m[\u001b[0m\u001b[0;34m:\u001b[0m\u001b[0;34m,\u001b[0m\u001b[0;36m1\u001b[0m\u001b[0;34m]\u001b[0m\u001b[0;34m\u001b[0m\u001b[0m\n",
      "\u001b[0;32m/groups/flyem/proj/cluster/miniforge/envs/flyem/neuclease/neuclease/dvid/_dvid.py\u001b[0m in \u001b[0;36mwrapper\u001b[0;34m(server, session, *args, **kwargs)\u001b[0m\n\u001b[1;32m     81\u001b[0m \u001b[0;34m\u001b[0m\u001b[0m\n\u001b[1;32m     82\u001b[0m         \u001b[0;32mtry\u001b[0m\u001b[0;34m:\u001b[0m\u001b[0;34m\u001b[0m\u001b[0m\n\u001b[0;32m---> 83\u001b[0;31m             \u001b[0;32mreturn\u001b[0m \u001b[0mf\u001b[0m\u001b[0;34m(\u001b[0m\u001b[0mserver\u001b[0m\u001b[0;34m,\u001b[0m \u001b[0;34m*\u001b[0m\u001b[0margs\u001b[0m\u001b[0;34m,\u001b[0m \u001b[0;34m**\u001b[0m\u001b[0mkwargs\u001b[0m\u001b[0;34m,\u001b[0m \u001b[0msession\u001b[0m\u001b[0;34m=\u001b[0m\u001b[0msession\u001b[0m\u001b[0;34m)\u001b[0m\u001b[0;34m\u001b[0m\u001b[0m\n\u001b[0m\u001b[1;32m     84\u001b[0m         \u001b[0;32mexcept\u001b[0m \u001b[0mrequests\u001b[0m\u001b[0;34m.\u001b[0m\u001b[0mHTTPError\u001b[0m \u001b[0;32mas\u001b[0m \u001b[0mex\u001b[0m\u001b[0;34m:\u001b[0m\u001b[0;34m\u001b[0m\u001b[0m\n\u001b[1;32m     85\u001b[0m             \u001b[0;31m# If the error response had content (and it's not super-long),\u001b[0m\u001b[0;34m\u001b[0m\u001b[0;34m\u001b[0m\u001b[0m\n",
      "\u001b[0;32m/groups/flyem/proj/cluster/miniforge/envs/flyem/neuclease/neuclease/dvid/labelmap/_labelmap.py\u001b[0m in \u001b[0;36mfetch_mappings\u001b[0;34m(server, uuid, instance, as_array, session)\u001b[0m\n\u001b[1;32m    218\u001b[0m     \u001b[0muri\u001b[0m \u001b[0;34m=\u001b[0m \u001b[0;34mf\"http://{server}/api/node/{uuid}/{instance}/mappings\"\u001b[0m\u001b[0;34m\u001b[0m\u001b[0m\n\u001b[1;32m    219\u001b[0m     \u001b[0;32mwith\u001b[0m \u001b[0mTimer\u001b[0m\u001b[0;34m(\u001b[0m\u001b[0;34mf\"Fetching {uri}\"\u001b[0m\u001b[0;34m,\u001b[0m \u001b[0mlogger\u001b[0m\u001b[0;34m)\u001b[0m\u001b[0;34m:\u001b[0m\u001b[0;34m\u001b[0m\u001b[0m\n\u001b[0;32m--> 220\u001b[0;31m         \u001b[0mr\u001b[0m \u001b[0;34m=\u001b[0m \u001b[0msession\u001b[0m\u001b[0;34m.\u001b[0m\u001b[0mget\u001b[0m\u001b[0;34m(\u001b[0m\u001b[0muri\u001b[0m\u001b[0;34m)\u001b[0m\u001b[0;34m\u001b[0m\u001b[0m\n\u001b[0m\u001b[1;32m    221\u001b[0m         \u001b[0mr\u001b[0m\u001b[0;34m.\u001b[0m\u001b[0mraise_for_status\u001b[0m\u001b[0;34m(\u001b[0m\u001b[0;34m)\u001b[0m\u001b[0;34m\u001b[0m\u001b[0m\n\u001b[1;32m    222\u001b[0m \u001b[0;34m\u001b[0m\u001b[0m\n",
      "\u001b[0;32m/groups/flyem/proj/cluster/miniforge/envs/flyem/lib/python3.6/site-packages/requests/sessions.py\u001b[0m in \u001b[0;36mget\u001b[0;34m(self, url, **kwargs)\u001b[0m\n\u001b[1;32m    519\u001b[0m \u001b[0;34m\u001b[0m\u001b[0m\n\u001b[1;32m    520\u001b[0m         \u001b[0mkwargs\u001b[0m\u001b[0;34m.\u001b[0m\u001b[0msetdefault\u001b[0m\u001b[0;34m(\u001b[0m\u001b[0;34m'allow_redirects'\u001b[0m\u001b[0;34m,\u001b[0m \u001b[0;32mTrue\u001b[0m\u001b[0;34m)\u001b[0m\u001b[0;34m\u001b[0m\u001b[0m\n\u001b[0;32m--> 521\u001b[0;31m         \u001b[0;32mreturn\u001b[0m \u001b[0mself\u001b[0m\u001b[0;34m.\u001b[0m\u001b[0mrequest\u001b[0m\u001b[0;34m(\u001b[0m\u001b[0;34m'GET'\u001b[0m\u001b[0;34m,\u001b[0m \u001b[0murl\u001b[0m\u001b[0;34m,\u001b[0m \u001b[0;34m**\u001b[0m\u001b[0mkwargs\u001b[0m\u001b[0;34m)\u001b[0m\u001b[0;34m\u001b[0m\u001b[0m\n\u001b[0m\u001b[1;32m    522\u001b[0m \u001b[0;34m\u001b[0m\u001b[0m\n\u001b[1;32m    523\u001b[0m     \u001b[0;32mdef\u001b[0m \u001b[0moptions\u001b[0m\u001b[0;34m(\u001b[0m\u001b[0mself\u001b[0m\u001b[0;34m,\u001b[0m \u001b[0murl\u001b[0m\u001b[0;34m,\u001b[0m \u001b[0;34m**\u001b[0m\u001b[0mkwargs\u001b[0m\u001b[0;34m)\u001b[0m\u001b[0;34m:\u001b[0m\u001b[0;34m\u001b[0m\u001b[0m\n",
      "\u001b[0;32m/groups/flyem/proj/cluster/miniforge/envs/flyem/lib/python3.6/site-packages/requests/sessions.py\u001b[0m in \u001b[0;36mrequest\u001b[0;34m(self, method, url, params, data, headers, cookies, files, auth, timeout, allow_redirects, proxies, hooks, stream, verify, cert, json)\u001b[0m\n\u001b[1;32m    506\u001b[0m         }\n\u001b[1;32m    507\u001b[0m         \u001b[0msend_kwargs\u001b[0m\u001b[0;34m.\u001b[0m\u001b[0mupdate\u001b[0m\u001b[0;34m(\u001b[0m\u001b[0msettings\u001b[0m\u001b[0;34m)\u001b[0m\u001b[0;34m\u001b[0m\u001b[0m\n\u001b[0;32m--> 508\u001b[0;31m         \u001b[0mresp\u001b[0m \u001b[0;34m=\u001b[0m \u001b[0mself\u001b[0m\u001b[0;34m.\u001b[0m\u001b[0msend\u001b[0m\u001b[0;34m(\u001b[0m\u001b[0mprep\u001b[0m\u001b[0;34m,\u001b[0m \u001b[0;34m**\u001b[0m\u001b[0msend_kwargs\u001b[0m\u001b[0;34m)\u001b[0m\u001b[0;34m\u001b[0m\u001b[0m\n\u001b[0m\u001b[1;32m    509\u001b[0m \u001b[0;34m\u001b[0m\u001b[0m\n\u001b[1;32m    510\u001b[0m         \u001b[0;32mreturn\u001b[0m \u001b[0mresp\u001b[0m\u001b[0;34m\u001b[0m\u001b[0m\n",
      "\u001b[0;32m/groups/flyem/proj/cluster/miniforge/envs/flyem/lib/python3.6/site-packages/requests/sessions.py\u001b[0m in \u001b[0;36msend\u001b[0;34m(self, request, **kwargs)\u001b[0m\n\u001b[1;32m    656\u001b[0m \u001b[0;34m\u001b[0m\u001b[0m\n\u001b[1;32m    657\u001b[0m         \u001b[0;32mif\u001b[0m \u001b[0;32mnot\u001b[0m \u001b[0mstream\u001b[0m\u001b[0;34m:\u001b[0m\u001b[0;34m\u001b[0m\u001b[0m\n\u001b[0;32m--> 658\u001b[0;31m             \u001b[0mr\u001b[0m\u001b[0;34m.\u001b[0m\u001b[0mcontent\u001b[0m\u001b[0;34m\u001b[0m\u001b[0m\n\u001b[0m\u001b[1;32m    659\u001b[0m \u001b[0;34m\u001b[0m\u001b[0m\n\u001b[1;32m    660\u001b[0m         \u001b[0;32mreturn\u001b[0m \u001b[0mr\u001b[0m\u001b[0;34m\u001b[0m\u001b[0m\n",
      "\u001b[0;32m/groups/flyem/proj/cluster/miniforge/envs/flyem/lib/python3.6/site-packages/requests/models.py\u001b[0m in \u001b[0;36mcontent\u001b[0;34m(self)\u001b[0m\n\u001b[1;32m    821\u001b[0m                 \u001b[0mself\u001b[0m\u001b[0;34m.\u001b[0m\u001b[0m_content\u001b[0m \u001b[0;34m=\u001b[0m \u001b[0;32mNone\u001b[0m\u001b[0;34m\u001b[0m\u001b[0m\n\u001b[1;32m    822\u001b[0m             \u001b[0;32melse\u001b[0m\u001b[0;34m:\u001b[0m\u001b[0;34m\u001b[0m\u001b[0m\n\u001b[0;32m--> 823\u001b[0;31m                 \u001b[0mself\u001b[0m\u001b[0;34m.\u001b[0m\u001b[0m_content\u001b[0m \u001b[0;34m=\u001b[0m \u001b[0mbytes\u001b[0m\u001b[0;34m(\u001b[0m\u001b[0;34m)\u001b[0m\u001b[0;34m.\u001b[0m\u001b[0mjoin\u001b[0m\u001b[0;34m(\u001b[0m\u001b[0mself\u001b[0m\u001b[0;34m.\u001b[0m\u001b[0miter_content\u001b[0m\u001b[0;34m(\u001b[0m\u001b[0mCONTENT_CHUNK_SIZE\u001b[0m\u001b[0;34m)\u001b[0m\u001b[0;34m)\u001b[0m \u001b[0;32mor\u001b[0m \u001b[0mbytes\u001b[0m\u001b[0;34m(\u001b[0m\u001b[0;34m)\u001b[0m\u001b[0;34m\u001b[0m\u001b[0m\n\u001b[0m\u001b[1;32m    824\u001b[0m \u001b[0;34m\u001b[0m\u001b[0m\n\u001b[1;32m    825\u001b[0m         \u001b[0mself\u001b[0m\u001b[0;34m.\u001b[0m\u001b[0m_content_consumed\u001b[0m \u001b[0;34m=\u001b[0m \u001b[0;32mTrue\u001b[0m\u001b[0;34m\u001b[0m\u001b[0m\n",
      "\u001b[0;32m/groups/flyem/proj/cluster/miniforge/envs/flyem/lib/python3.6/site-packages/requests/models.py\u001b[0m in \u001b[0;36mgenerate\u001b[0;34m()\u001b[0m\n\u001b[1;32m    743\u001b[0m             \u001b[0;32mif\u001b[0m \u001b[0mhasattr\u001b[0m\u001b[0;34m(\u001b[0m\u001b[0mself\u001b[0m\u001b[0;34m.\u001b[0m\u001b[0mraw\u001b[0m\u001b[0;34m,\u001b[0m \u001b[0;34m'stream'\u001b[0m\u001b[0;34m)\u001b[0m\u001b[0;34m:\u001b[0m\u001b[0;34m\u001b[0m\u001b[0m\n\u001b[1;32m    744\u001b[0m                 \u001b[0;32mtry\u001b[0m\u001b[0;34m:\u001b[0m\u001b[0;34m\u001b[0m\u001b[0m\n\u001b[0;32m--> 745\u001b[0;31m                     \u001b[0;32mfor\u001b[0m \u001b[0mchunk\u001b[0m \u001b[0;32min\u001b[0m \u001b[0mself\u001b[0m\u001b[0;34m.\u001b[0m\u001b[0mraw\u001b[0m\u001b[0;34m.\u001b[0m\u001b[0mstream\u001b[0m\u001b[0;34m(\u001b[0m\u001b[0mchunk_size\u001b[0m\u001b[0;34m,\u001b[0m \u001b[0mdecode_content\u001b[0m\u001b[0;34m=\u001b[0m\u001b[0;32mTrue\u001b[0m\u001b[0;34m)\u001b[0m\u001b[0;34m:\u001b[0m\u001b[0;34m\u001b[0m\u001b[0m\n\u001b[0m\u001b[1;32m    746\u001b[0m                         \u001b[0;32myield\u001b[0m \u001b[0mchunk\u001b[0m\u001b[0;34m\u001b[0m\u001b[0m\n\u001b[1;32m    747\u001b[0m                 \u001b[0;32mexcept\u001b[0m \u001b[0mProtocolError\u001b[0m \u001b[0;32mas\u001b[0m \u001b[0me\u001b[0m\u001b[0;34m:\u001b[0m\u001b[0;34m\u001b[0m\u001b[0m\n",
      "\u001b[0;32m/groups/flyem/proj/cluster/miniforge/envs/flyem/lib/python3.6/site-packages/urllib3/response.py\u001b[0m in \u001b[0;36mstream\u001b[0;34m(self, amt, decode_content)\u001b[0m\n\u001b[1;32m    430\u001b[0m         \"\"\"\n\u001b[1;32m    431\u001b[0m         \u001b[0;32mif\u001b[0m \u001b[0mself\u001b[0m\u001b[0;34m.\u001b[0m\u001b[0mchunked\u001b[0m \u001b[0;32mand\u001b[0m \u001b[0mself\u001b[0m\u001b[0;34m.\u001b[0m\u001b[0msupports_chunked_reads\u001b[0m\u001b[0;34m(\u001b[0m\u001b[0;34m)\u001b[0m\u001b[0;34m:\u001b[0m\u001b[0;34m\u001b[0m\u001b[0m\n\u001b[0;32m--> 432\u001b[0;31m             \u001b[0;32mfor\u001b[0m \u001b[0mline\u001b[0m \u001b[0;32min\u001b[0m \u001b[0mself\u001b[0m\u001b[0;34m.\u001b[0m\u001b[0mread_chunked\u001b[0m\u001b[0;34m(\u001b[0m\u001b[0mamt\u001b[0m\u001b[0;34m,\u001b[0m \u001b[0mdecode_content\u001b[0m\u001b[0;34m=\u001b[0m\u001b[0mdecode_content\u001b[0m\u001b[0;34m)\u001b[0m\u001b[0;34m:\u001b[0m\u001b[0;34m\u001b[0m\u001b[0m\n\u001b[0m\u001b[1;32m    433\u001b[0m                 \u001b[0;32myield\u001b[0m \u001b[0mline\u001b[0m\u001b[0;34m\u001b[0m\u001b[0m\n\u001b[1;32m    434\u001b[0m         \u001b[0;32melse\u001b[0m\u001b[0;34m:\u001b[0m\u001b[0;34m\u001b[0m\u001b[0m\n",
      "\u001b[0;32m/groups/flyem/proj/cluster/miniforge/envs/flyem/lib/python3.6/site-packages/urllib3/response.py\u001b[0m in \u001b[0;36mread_chunked\u001b[0;34m(self, amt, decode_content)\u001b[0m\n\u001b[1;32m    599\u001b[0m                 \u001b[0;32mif\u001b[0m \u001b[0mself\u001b[0m\u001b[0;34m.\u001b[0m\u001b[0mchunk_left\u001b[0m \u001b[0;34m==\u001b[0m \u001b[0;36m0\u001b[0m\u001b[0;34m:\u001b[0m\u001b[0;34m\u001b[0m\u001b[0m\n\u001b[1;32m    600\u001b[0m                     \u001b[0;32mbreak\u001b[0m\u001b[0;34m\u001b[0m\u001b[0m\n\u001b[0;32m--> 601\u001b[0;31m                 \u001b[0mchunk\u001b[0m \u001b[0;34m=\u001b[0m \u001b[0mself\u001b[0m\u001b[0;34m.\u001b[0m\u001b[0m_handle_chunk\u001b[0m\u001b[0;34m(\u001b[0m\u001b[0mamt\u001b[0m\u001b[0;34m)\u001b[0m\u001b[0;34m\u001b[0m\u001b[0m\n\u001b[0m\u001b[1;32m    602\u001b[0m                 decoded = self._decode(chunk, decode_content=decode_content,\n\u001b[1;32m    603\u001b[0m                                        flush_decoder=False)\n",
      "\u001b[0;32m/groups/flyem/proj/cluster/miniforge/envs/flyem/lib/python3.6/site-packages/urllib3/response.py\u001b[0m in \u001b[0;36m_handle_chunk\u001b[0;34m(self, amt)\u001b[0m\n\u001b[1;32m    564\u001b[0m             \u001b[0mreturned_chunk\u001b[0m \u001b[0;34m=\u001b[0m \u001b[0mvalue\u001b[0m\u001b[0;34m\u001b[0m\u001b[0m\n\u001b[1;32m    565\u001b[0m         \u001b[0;32melse\u001b[0m\u001b[0;34m:\u001b[0m  \u001b[0;31m# amt > self.chunk_left\u001b[0m\u001b[0;34m\u001b[0m\u001b[0m\n\u001b[0;32m--> 566\u001b[0;31m             \u001b[0mreturned_chunk\u001b[0m \u001b[0;34m=\u001b[0m \u001b[0mself\u001b[0m\u001b[0;34m.\u001b[0m\u001b[0m_fp\u001b[0m\u001b[0;34m.\u001b[0m\u001b[0m_safe_read\u001b[0m\u001b[0;34m(\u001b[0m\u001b[0mself\u001b[0m\u001b[0;34m.\u001b[0m\u001b[0mchunk_left\u001b[0m\u001b[0;34m)\u001b[0m\u001b[0;34m\u001b[0m\u001b[0m\n\u001b[0m\u001b[1;32m    567\u001b[0m             \u001b[0mself\u001b[0m\u001b[0;34m.\u001b[0m\u001b[0m_fp\u001b[0m\u001b[0;34m.\u001b[0m\u001b[0m_safe_read\u001b[0m\u001b[0;34m(\u001b[0m\u001b[0;36m2\u001b[0m\u001b[0;34m)\u001b[0m  \u001b[0;31m# Toss the CRLF at the end of the chunk.\u001b[0m\u001b[0;34m\u001b[0m\u001b[0m\n\u001b[1;32m    568\u001b[0m             \u001b[0mself\u001b[0m\u001b[0;34m.\u001b[0m\u001b[0mchunk_left\u001b[0m \u001b[0;34m=\u001b[0m \u001b[0;32mNone\u001b[0m\u001b[0;34m\u001b[0m\u001b[0m\n",
      "\u001b[0;32m/groups/flyem/proj/cluster/miniforge/envs/flyem/lib/python3.6/http/client.py\u001b[0m in \u001b[0;36m_safe_read\u001b[0;34m(self, amt)\u001b[0m\n\u001b[1;32m    610\u001b[0m         \u001b[0ms\u001b[0m \u001b[0;34m=\u001b[0m \u001b[0;34m[\u001b[0m\u001b[0;34m]\u001b[0m\u001b[0;34m\u001b[0m\u001b[0m\n\u001b[1;32m    611\u001b[0m         \u001b[0;32mwhile\u001b[0m \u001b[0mamt\u001b[0m \u001b[0;34m>\u001b[0m \u001b[0;36m0\u001b[0m\u001b[0;34m:\u001b[0m\u001b[0;34m\u001b[0m\u001b[0m\n\u001b[0;32m--> 612\u001b[0;31m             \u001b[0mchunk\u001b[0m \u001b[0;34m=\u001b[0m \u001b[0mself\u001b[0m\u001b[0;34m.\u001b[0m\u001b[0mfp\u001b[0m\u001b[0;34m.\u001b[0m\u001b[0mread\u001b[0m\u001b[0;34m(\u001b[0m\u001b[0mmin\u001b[0m\u001b[0;34m(\u001b[0m\u001b[0mamt\u001b[0m\u001b[0;34m,\u001b[0m \u001b[0mMAXAMOUNT\u001b[0m\u001b[0;34m)\u001b[0m\u001b[0;34m)\u001b[0m\u001b[0;34m\u001b[0m\u001b[0m\n\u001b[0m\u001b[1;32m    613\u001b[0m             \u001b[0;32mif\u001b[0m \u001b[0;32mnot\u001b[0m \u001b[0mchunk\u001b[0m\u001b[0;34m:\u001b[0m\u001b[0;34m\u001b[0m\u001b[0m\n\u001b[1;32m    614\u001b[0m                 \u001b[0;32mraise\u001b[0m \u001b[0mIncompleteRead\u001b[0m\u001b[0;34m(\u001b[0m\u001b[0;34mb''\u001b[0m\u001b[0;34m.\u001b[0m\u001b[0mjoin\u001b[0m\u001b[0;34m(\u001b[0m\u001b[0ms\u001b[0m\u001b[0;34m)\u001b[0m\u001b[0;34m,\u001b[0m \u001b[0mamt\u001b[0m\u001b[0;34m)\u001b[0m\u001b[0;34m\u001b[0m\u001b[0m\n",
      "\u001b[0;32m/groups/flyem/proj/cluster/miniforge/envs/flyem/lib/python3.6/socket.py\u001b[0m in \u001b[0;36mreadinto\u001b[0;34m(self, b)\u001b[0m\n\u001b[1;32m    584\u001b[0m         \u001b[0;32mwhile\u001b[0m \u001b[0;32mTrue\u001b[0m\u001b[0;34m:\u001b[0m\u001b[0;34m\u001b[0m\u001b[0m\n\u001b[1;32m    585\u001b[0m             \u001b[0;32mtry\u001b[0m\u001b[0;34m:\u001b[0m\u001b[0;34m\u001b[0m\u001b[0m\n\u001b[0;32m--> 586\u001b[0;31m                 \u001b[0;32mreturn\u001b[0m \u001b[0mself\u001b[0m\u001b[0;34m.\u001b[0m\u001b[0m_sock\u001b[0m\u001b[0;34m.\u001b[0m\u001b[0mrecv_into\u001b[0m\u001b[0;34m(\u001b[0m\u001b[0mb\u001b[0m\u001b[0;34m)\u001b[0m\u001b[0;34m\u001b[0m\u001b[0m\n\u001b[0m\u001b[1;32m    587\u001b[0m             \u001b[0;32mexcept\u001b[0m \u001b[0mtimeout\u001b[0m\u001b[0;34m:\u001b[0m\u001b[0;34m\u001b[0m\u001b[0m\n\u001b[1;32m    588\u001b[0m                 \u001b[0mself\u001b[0m\u001b[0;34m.\u001b[0m\u001b[0m_timeout_occurred\u001b[0m \u001b[0;34m=\u001b[0m \u001b[0;32mTrue\u001b[0m\u001b[0;34m\u001b[0m\u001b[0m\n",
      "\u001b[0;31mKeyboardInterrupt\u001b[0m: "
     ]
    }
   ],
   "source": [
    "analysis_mapping = fetch_complete_mappings(*analysis_node, 'segmentation')"
   ]
  },
  {
   "cell_type": "code",
   "execution_count": null,
   "metadata": {},
   "outputs": [],
   "source": [
    "#analysis_mapping = fetch_mappings(*analysis_node, 'segmentation')"
   ]
  },
  {
   "cell_type": "code",
   "execution_count": null,
   "metadata": {},
   "outputs": [],
   "source": [
    "analysis_mapper = LabelMapper(analysis_mapping.index.values, analysis_mapping.values)"
   ]
  },
  {
   "cell_type": "markdown",
   "metadata": {},
   "source": [
    "### Previous decisions"
   ]
  },
  {
   "cell_type": "code",
   "execution_count": null,
   "metadata": {},
   "outputs": [],
   "source": [
    "%%time\n",
    "LOAD_PREVIOUS_FROM_CSV = True\n",
    "_path = f'focused-decisions-{master_node[1]}-2018-08-23.csv'\n",
    "\n",
    "if LOAD_PREVIOUS_FROM_CSV:\n",
    "    df = pd.read_csv(_path)\n",
    "    df.fillna(0.0, inplace=True)\n",
    "    df['sv_a'] = df['sv_a'].astype(np.uint64)\n",
    "    df['sv_b'] = df['sv_b'].astype(np.uint64)\n",
    "    df['body_a'] = df['body_a'].astype(np.uint64)\n",
    "    df['body_b'] = df['body_b'].astype(np.uint64)\n",
    "    previous_focused_decisions = df\n",
    "else:\n",
    "    previous_focused_decisions = fetch_focused_decisions(*master_node, 'segmentation_merged',\n",
    "                                                         normalize_pairs='sv')\n",
    "\n",
    "    previous_focused_decisions.to_csv(_path, index=False, header=True)\n",
    "\n",
    "# Body info is nearly useless because they correspond to the body ID\n",
    "# at the time the edge was assigned -- not the current body ID.\n",
    "# Let's delete the body columns to ensure we don't accidentally try to use it for anything.\n",
    "del previous_focused_decisions['body_a']\n",
    "del previous_focused_decisions['body_b']\n",
    "\n",
    "previous_focused_decisions.rename(inplace=True, columns={'sv_a': 'id_a', 'sv_b': 'id_b'})\n",
    "\n",
    "assert previous_focused_decisions.eval('id_a <= id_b').all()\n",
    "print(f\"Loaded {len(previous_focused_decisions)} previous decisions\")"
   ]
  },
  {
   "cell_type": "code",
   "execution_count": null,
   "metadata": {},
   "outputs": [],
   "source": [
    "print(f\"TOTAL decisions: {len(previous_focused_decisions)}\")\n",
    "merge_decisions = previous_focused_decisions.eval('result == \"merge\" or result == \"mergeLater\"').sum()\n",
    "merge_rate = merge_decisions / len(previous_focused_decisions)\n",
    "print(f\"Merge(later) Decisions: {merge_decisions} ({100*merge_rate:.1f}%)\")\n",
    "previous_focused_decisions['result'].value_counts().plot(kind='pie')"
   ]
  },
  {
   "cell_type": "code",
   "execution_count": null,
   "metadata": {},
   "outputs": [],
   "source": [
    "def drop_previously_reviewed(df, previous_focused_decisions_df):\n",
    "    \"\"\"\n",
    "    Given a DataFrame of speculative focused decisions and \n",
    "    a DataFrame of previously reviewed focused decisions,\n",
    "    drop all previous decisions from the speculative set,\n",
    "    regardless of review results.\n",
    "    \"\"\"\n",
    "    comparison_df = previous_focused_decisions_df[['id_a', 'id_b']].drop_duplicates()\n",
    "    in_prev = df[['id_a', 'id_b']].merge(comparison_df,\n",
    "                                         how='left',\n",
    "                                         on=['id_a', 'id_b'],\n",
    "                                         indicator='side')\n",
    "\n",
    "    keep_rows = (in_prev['side'] == 'left_only')\n",
    "    return df[keep_rows.values]"
   ]
  },
  {
   "cell_type": "markdown",
   "metadata": {},
   "source": [
    "### Important bodies"
   ]
  },
  {
   "cell_type": "code",
   "execution_count": null,
   "metadata": {},
   "outputs": [],
   "source": [
    "##\n",
    "## Using Analysis node state!\n",
    "##\n",
    "\n",
    "#focused_bodies_path = 'focused-7254-2tbars-2psds-10.0Mv.npy'\n",
    "focused_bodies_path = 'focused-662e-2tbars-2psds-10.0Mv.npy'\n",
    "focused_bodies_table = pd.DataFrame(np.load(focused_bodies_path))\n",
    "focused_bodies_table.set_index('body', inplace=True)\n",
    "\n",
    "# Filter for 0.5 criteria\n",
    "focused_bodies_table.query('PreSyn >= 2 or PostSyn >= 10 or voxel_count >= 10e6', inplace=True)\n",
    "\n",
    "important_bodies = set(focused_bodies_table.index)\n",
    "print(f\"Working with {len(important_bodies)} focused bodies\")"
   ]
  },
  {
   "cell_type": "markdown",
   "metadata": {},
   "source": [
    "### Load/filter/score 2-hop tables\n",
    "\n",
    "- load pre-updated tables (coords already fixed, supervoxels updated)\n",
    "- normalize (`a<b`)\n",
    "- filter\n",
    "   - important TWO-HOP\n",
    "   - non-merged\n",
    "   - not yet reviewed\n",
    "     - Note: this will toss out previously reviewed 'favorite' edges, meaning the next 'favorite' we pick below will be e.g. 2nd-favorite (if it survives the threshold).  Is that what we want?\n",
    "- append scores"
   ]
  },
  {
   "cell_type": "code",
   "execution_count": 16,
   "metadata": {},
   "outputs": [],
   "source": [
    "DROP_PREVIOUSLY_REVIEWED = False\n",
    "\n",
    "#NODE = master_node\n",
    "NODE = analysis_node\n",
    "\n",
    "if NODE is master_node:\n",
    "    filter_mapping = master_mapping\n",
    "elif NODE is analysis_node:\n",
    "    filter_mapping = analysis_mapping\n",
    "else:\n",
    "    assert False\n",
    "\n",
    "if DROP_PREVIOUSLY_REVIEWED:\n",
    "    TWOHOP_OUTPUT_DIR = f'twohop-tables-including-reviewed-{NODE[1]}'\n",
    "else:\n",
    "    TWOHOP_OUTPUT_DIR = f'twohop-tables-excluding-reviewed-{NODE[1]}'\n",
    "\n",
    "os.makedirs(f'{TWOHOP_OUTPUT_DIR}/32nm', exist_ok=True)\n",
    "os.makedirs(f'{TWOHOP_OUTPUT_DIR}/16nm', exist_ok=True)\n",
    "os.makedirs(f'{TWOHOP_OUTPUT_DIR}/8nm', exist_ok=True)\n",
    "\n",
    "previous_sv_values = previous_focused_decisions[['id_a', 'id_b']].values\n",
    "\n",
    "driver_cwd = os.getcwd()\n",
    "\n",
    "\n",
    "def apply_mapping_and_filter_to_partition(paths):\n",
    "    print(\"init mapping...\")\n",
    "    # Must create mapper here since it cannot be pickled.\n",
    "    filter_mapper = LabelMapper(filter_mapping.index.values, filter_mapping.values)\n",
    "\n",
    "    # Compute once\n",
    "    print(\"init sv pairs...\")\n",
    "    previous_sv_pairs = set(map(tuple, previous_sv_values))\n",
    "\n",
    "    def apply_mapping_and_filter(npy_path):\n",
    "        \"\"\"\n",
    "        Load the table from the given npy file,\n",
    "        apply the body mapping, and remove rows with matching bodies.\n",
    "        Also remove rows that correspond to decisions that have already been made.\n",
    "        \n",
    "        The resulting filtered table is stored in 'twohop-tables-*-reviewed-*/*nm/',\n",
    "        (See TWOHOP_OUTPUT_DIR, above.)\n",
    "        \"\"\"\n",
    "        print(\"loading table...\")\n",
    "        table = np.load(npy_path)\n",
    "        df = pd.DataFrame(table)\n",
    "\n",
    "        print(\"mapping bodies...\")\n",
    "        # A bug above caused the type to be int64. Fix that now.\n",
    "        df['id_a'] = df['id_a'].astype(np.uint64, copy=False)\n",
    "        df['id_b'] = df['id_b'].astype(np.uint64, copy=False)\n",
    "        \n",
    "        df['body_a'] = filter_mapper.apply(df['id_a'].values, allow_unmapped=True)\n",
    "        df['body_b'] = filter_mapper.apply(df['id_b'].values, allow_unmapped=True)\n",
    "\n",
    "        important_bodies, TWOHOP_OUTPUT_DIR # Referenced to ensure capture in this closure\n",
    "\n",
    "        print(\"filtering out internal edges and compeltely unimportant edges...\")\n",
    "        # Drop internal edges,\n",
    "        # Filter for important bodies (on at least one end -- capture 1-hop and 2-hop)\n",
    "        q = '(body_a != body_b) and ((body_a in @important_bodies) or (body_b in @important_bodies))'\n",
    "        df.query(q, inplace=True)\n",
    "\n",
    "        print(\"normalizing...\")\n",
    "        table = df.to_records(index=False)\n",
    "        normalize_recarray_inplace(table, 'id_a', 'id_b',\n",
    "                                  ['id_a', 'body_a', 'xa', 'ya', 'za', 'caa', 'cba', 'da'],\n",
    "                                  ['id_b', 'body_b', 'xb', 'yb', 'zb', 'cbb', 'cab', 'db'])\n",
    "\n",
    "        df = pd.DataFrame(table)\n",
    "        if DROP_PREVIOUSLY_REVIEWED:\n",
    "            df = drop_previously_reviewed(df, previous_focused_decisions)\n",
    "        \n",
    "        print(\"appending scores...\")\n",
    "        df['score'] = calc_speculative_scores(df[['caa', 'cab', 'cba', 'cbb']].to_records(index=False))\n",
    "        \n",
    "        print(\"writing...\")\n",
    "        res = df['resolution'].iloc[0]\n",
    "        fname = os.path.split(npy_path)[-1]\n",
    "        output_path = f'{driver_cwd}/{TWOHOP_OUTPUT_DIR}/{res}nm/{fname}'\n",
    "        np.save(output_path, df.to_records(index=False))\n",
    "\n",
    "        return len(df)\n",
    "    \n",
    "    return list(map(apply_mapping_and_filter, paths))"
   ]
  },
  {
   "cell_type": "code",
   "execution_count": 17,
   "metadata": {
    "scrolled": false
   },
   "outputs": [],
   "source": [
    "# Test one first\n",
    "#%time apply_mapping_and_filter_to_partition(['updated-tables/32nm/data-00000-of-00100.npy'])"
   ]
  },
  {
   "cell_type": "code",
   "execution_count": 18,
   "metadata": {},
   "outputs": [
    {
     "name": "stdout",
     "output_type": "stream",
     "text": [
      "INFO [2018-08-30 15:00:19,762] Processing 32nm......\n",
      "INFO [2018-08-30 15:02:07,719] Processing 32nm... took 0:01:47.956511\n",
      "INFO [2018-08-30 15:02:07,721] Processing 16nm......\n",
      "INFO [2018-08-30 15:04:28,941] Processing 16nm... took 0:02:21.219285\n",
      "INFO [2018-08-30 15:04:28,942] Processing 8nm......\n",
      "INFO [2018-08-30 15:07:28,096] Processing 8nm... took 0:02:59.153170\n",
      "DONE. Total filtered edges: 906456099\n"
     ]
    }
   ],
   "source": [
    "filtered_totals = {}\n",
    "\n",
    "for res in [32, 16, 8]:\n",
    "    with Timer(f\"Processing {res}nm...\"):\n",
    "        paths = map(os.path.abspath, glob.glob(f'updated-tables/{res}nm/data-*.npy'))\n",
    "        filtered_totals[res] = sc.parallelize(paths).mapPartitions(apply_mapping_and_filter_to_partition).sum()\n",
    "    \n",
    "print(f\"DONE. Total filtered edges: {sum(filtered_totals.values())}\")"
   ]
  },
  {
   "cell_type": "code",
   "execution_count": 19,
   "metadata": {},
   "outputs": [
    {
     "data": {
      "text/plain": [
       "<matplotlib.axes._subplots.AxesSubplot at 0x2b0f83ab3ba8>"
      ]
     },
     "execution_count": 19,
     "metadata": {},
     "output_type": "execute_result"
    },
    {
     "data": {
      "image/png": "[encoded data removed]",
      "text/plain": [
       "<Figure size 360x360 with 1 Axes>"
      ]
     },
     "metadata": {},
     "output_type": "display_data"
    }
   ],
   "source": [
    "pd.Series(filtered_totals).plot(kind='pie')"
   ]
  },
  {
   "cell_type": "markdown",
   "metadata": {},
   "source": [
    "### Select 1-hop edges"
   ]
  },
  {
   "cell_type": "code",
   "execution_count": 59,
   "metadata": {},
   "outputs": [
    {
     "ename": "NameError",
     "evalue": "name 'DROP_PREVIOUSLY_REVIEWED' is not defined",
     "output_type": "error",
     "traceback": [
      "\u001b[0;31m---------------------------------------------------------------------------\u001b[0m",
      "\u001b[0;31mNameError\u001b[0m                                 Traceback (most recent call last)",
      "\u001b[0;32m<ipython-input-59-6d257c1fdaaa>\u001b[0m in \u001b[0;36m<module>\u001b[0;34m()\u001b[0m\n\u001b[1;32m      4\u001b[0m \u001b[0mNODE\u001b[0m \u001b[0;34m=\u001b[0m \u001b[0manalysis_node\u001b[0m\u001b[0;34m\u001b[0m\u001b[0m\n\u001b[1;32m      5\u001b[0m \u001b[0;34m\u001b[0m\u001b[0m\n\u001b[0;32m----> 6\u001b[0;31m \u001b[0;32mif\u001b[0m \u001b[0mDROP_PREVIOUSLY_REVIEWED\u001b[0m\u001b[0;34m:\u001b[0m\u001b[0;34m\u001b[0m\u001b[0m\n\u001b[0m\u001b[1;32m      7\u001b[0m     \u001b[0mONEHOP_OUTPUT_DIR\u001b[0m \u001b[0;34m=\u001b[0m \u001b[0;34mf'{driver_cwd}/onehop-tables-excluding-reviewed-{NODE[1]}'\u001b[0m\u001b[0;34m\u001b[0m\u001b[0m\n\u001b[1;32m      8\u001b[0m \u001b[0;32melse\u001b[0m\u001b[0;34m:\u001b[0m\u001b[0;34m\u001b[0m\u001b[0m\n",
      "\u001b[0;31mNameError\u001b[0m: name 'DROP_PREVIOUSLY_REVIEWED' is not defined"
     ]
    }
   ],
   "source": [
    "driver_cwd = os.getcwd()\n",
    "\n",
    "#NODE = master_node\n",
    "NODE = analysis_node\n",
    "\n",
    "if DROP_PREVIOUSLY_REVIEWED:\n",
    "    ONEHOP_OUTPUT_DIR = f'{driver_cwd}/onehop-tables-excluding-reviewed-{NODE[1]}'\n",
    "else:\n",
    "    ONEHOP_OUTPUT_DIR = f'{driver_cwd}/onehop-tables-including-reviewed-{NODE[1]}'\n",
    "    \n",
    "os.makedirs(f'{ONEHOP_OUTPUT_DIR}/32nm', exist_ok=True)\n",
    "os.makedirs(f'{ONEHOP_OUTPUT_DIR}/16nm', exist_ok=True)\n",
    "os.makedirs(f'{ONEHOP_OUTPUT_DIR}/8nm', exist_ok=True)\n",
    "\n",
    "\n",
    "def select_and_write_onehop(twohop_path):\n",
    "    important_bodies # ref for pickle\n",
    "\n",
    "    print(\"reading...\")\n",
    "    df = pd.DataFrame(np.load(twohop_path))\n",
    "    res = df['resolution'].iloc[0]\n",
    "    \n",
    "    print(\"filtering for 1-hop edges...\")\n",
    "    q = 'body_a in @important_bodies and body_b in @important_bodies'\n",
    "    df.query(q, inplace=True)\n",
    "    \n",
    "    print(\"writing...\")\n",
    "    fname = os.path.split(twohop_path)[-1]\n",
    "    output_path = f'{ONEHOP_OUTPUT_DIR}/{res}nm/{fname}'\n",
    "    np.save(output_path, df.to_records(index=False))\n",
    "    return len(df)"
   ]
  },
  {
   "cell_type": "code",
   "execution_count": 20,
   "metadata": {},
   "outputs": [
    {
     "name": "stdout",
     "output_type": "stream",
     "text": [
      "Selected 233973009 one-hop edges\n"
     ]
    }
   ],
   "source": [
    "all_twohop_chunk_paths = map(os.path.abspath, glob.glob(f'{TWOHOP_OUTPUT_DIR}/*nm/*.npy'))\n",
    "total_onehop_edges = sc.parallelize(all_twohop_chunk_paths).map(select_and_write_onehop).sum()\n",
    "print(f\"Selected {total_onehop_edges} one-hop edges\")"
   ]
  },
  {
   "cell_type": "markdown",
   "metadata": {},
   "source": [
    "### Load into combined table"
   ]
  },
  {
   "cell_type": "code",
   "execution_count": 58,
   "metadata": {},
   "outputs": [
    {
     "ename": "NameError",
     "evalue": "name 'ONEHOP_OUTPUT_DIR' is not defined",
     "output_type": "error",
     "traceback": [
      "\u001b[0;31m---------------------------------------------------------------------------\u001b[0m",
      "\u001b[0;31mNameError\u001b[0m                                 Traceback (most recent call last)",
      "\u001b[0;32m<ipython-input-58-a886615bcae0>\u001b[0m in \u001b[0;36m<module>\u001b[0;34m()\u001b[0m\n\u001b[0;32m----> 1\u001b[0;31m \u001b[0mall_onehop_chunk_paths\u001b[0m \u001b[0;34m=\u001b[0m \u001b[0mglob\u001b[0m\u001b[0;34m.\u001b[0m\u001b[0mglob\u001b[0m\u001b[0;34m(\u001b[0m\u001b[0;34mf'{ONEHOP_OUTPUT_DIR}/*nm/*.npy'\u001b[0m\u001b[0;34m)\u001b[0m\u001b[0;34m\u001b[0m\u001b[0m\n\u001b[0m\u001b[1;32m      2\u001b[0m \u001b[0mall_onehop_chunks\u001b[0m \u001b[0;34m=\u001b[0m \u001b[0mlist\u001b[0m\u001b[0;34m(\u001b[0m\u001b[0mmap\u001b[0m\u001b[0;34m(\u001b[0m\u001b[0mnp\u001b[0m\u001b[0;34m.\u001b[0m\u001b[0mload\u001b[0m\u001b[0;34m,\u001b[0m \u001b[0mtqdm_notebook\u001b[0m\u001b[0;34m(\u001b[0m\u001b[0mall_onehop_chunk_paths\u001b[0m\u001b[0;34m)\u001b[0m\u001b[0;34m)\u001b[0m\u001b[0;34m)\u001b[0m\u001b[0;34m\u001b[0m\u001b[0m\n\u001b[1;32m      3\u001b[0m \u001b[0mcombined_onehop_table\u001b[0m \u001b[0;34m=\u001b[0m \u001b[0mnp\u001b[0m\u001b[0;34m.\u001b[0m\u001b[0mconcatenate\u001b[0m\u001b[0;34m(\u001b[0m\u001b[0mall_onehop_chunks\u001b[0m\u001b[0;34m)\u001b[0m\u001b[0;34m\u001b[0m\u001b[0m\n\u001b[1;32m      4\u001b[0m \u001b[0;32mdel\u001b[0m \u001b[0mall_onehop_chunks\u001b[0m\u001b[0;34m\u001b[0m\u001b[0m\n\u001b[1;32m      5\u001b[0m \u001b[0mprint\u001b[0m\u001b[0;34m(\u001b[0m\u001b[0;34mf\"Combined table is {combined_onehop_table.nbytes / 1e9:.1f} GB\"\u001b[0m\u001b[0;34m)\u001b[0m\u001b[0;34m\u001b[0m\u001b[0m\n",
      "\u001b[0;31mNameError\u001b[0m: name 'ONEHOP_OUTPUT_DIR' is not defined"
     ]
    }
   ],
   "source": [
    "all_onehop_chunk_paths = glob.glob(f'{ONEHOP_OUTPUT_DIR}/*nm/*.npy')\n",
    "all_onehop_chunks = list(map(np.load, tqdm_notebook(all_onehop_chunk_paths)))\n",
    "combined_onehop_table = np.concatenate(all_onehop_chunks)\n",
    "del all_onehop_chunks\n",
    "print(f\"Combined table is {combined_onehop_table.nbytes / 1e9:.1f} GB\")"
   ]
  },
  {
   "cell_type": "code",
   "execution_count": 30,
   "metadata": {},
   "outputs": [
    {
     "name": "stdout",
     "output_type": "stream",
     "text": [
      "CPU times: user 1min 17s, sys: 1min 5s, total: 2min 22s\n",
      "Wall time: 1min 5s\n"
     ]
    }
   ],
   "source": [
    "%time combined_onehop_df = pd.DataFrame(combined_onehop_table)"
   ]
  },
  {
   "cell_type": "code",
   "execution_count": 23,
   "metadata": {},
   "outputs": [
    {
     "data": {
      "text/html": [
       "<div>\n",
       "<style scoped>\n",
       "    .dataframe tbody tr th:only-of-type {\n",
       "        vertical-align: middle;\n",
       "    }\n",
       "\n",
       "    .dataframe tbody tr th {\n",
       "        vertical-align: top;\n",
       "    }\n",
       "\n",
       "    .dataframe thead th {\n",
       "        text-align: right;\n",
       "    }\n",
       "</style>\n",
       "<table border=\"1\" class=\"dataframe\">\n",
       "  <thead>\n",
       "    <tr style=\"text-align: right;\">\n",
       "      <th></th>\n",
       "      <th>id_a</th>\n",
       "      <th>id_b</th>\n",
       "      <th>xa</th>\n",
       "      <th>ya</th>\n",
       "      <th>za</th>\n",
       "      <th>xb</th>\n",
       "      <th>yb</th>\n",
       "      <th>zb</th>\n",
       "      <th>caa</th>\n",
       "      <th>cab</th>\n",
       "      <th>cba</th>\n",
       "      <th>cbb</th>\n",
       "      <th>iou</th>\n",
       "      <th>da</th>\n",
       "      <th>db</th>\n",
       "      <th>resolution</th>\n",
       "      <th>body_a</th>\n",
       "      <th>body_b</th>\n",
       "      <th>score</th>\n",
       "    </tr>\n",
       "  </thead>\n",
       "  <tbody>\n",
       "    <tr>\n",
       "      <th>0</th>\n",
       "      <td>1012359606</td>\n",
       "      <td>1135833306</td>\n",
       "      <td>16448</td>\n",
       "      <td>23743</td>\n",
       "      <td>15961</td>\n",
       "      <td>16401</td>\n",
       "      <td>23783</td>\n",
       "      <td>15924</td>\n",
       "      <td>0.982629</td>\n",
       "      <td>0.000000</td>\n",
       "      <td>0.001461</td>\n",
       "      <td>0.992530</td>\n",
       "      <td>0.000019</td>\n",
       "      <td>0.002408</td>\n",
       "      <td>0.000507</td>\n",
       "      <td>8</td>\n",
       "      <td>5813039957</td>\n",
       "      <td>1135828787</td>\n",
       "      <td>0.001461</td>\n",
       "    </tr>\n",
       "    <tr>\n",
       "      <th>1</th>\n",
       "      <td>1016749434</td>\n",
       "      <td>1016753364</td>\n",
       "      <td>10412</td>\n",
       "      <td>30574</td>\n",
       "      <td>14398</td>\n",
       "      <td>10406</td>\n",
       "      <td>30626</td>\n",
       "      <td>14399</td>\n",
       "      <td>0.986544</td>\n",
       "      <td>0.000000</td>\n",
       "      <td>0.000000</td>\n",
       "      <td>0.947968</td>\n",
       "      <td>0.000000</td>\n",
       "      <td>0.001237</td>\n",
       "      <td>0.002138</td>\n",
       "      <td>8</td>\n",
       "      <td>1016749259</td>\n",
       "      <td>1016749390</td>\n",
       "      <td>0.000000</td>\n",
       "    </tr>\n",
       "    <tr>\n",
       "      <th>2</th>\n",
       "      <td>1049662264</td>\n",
       "      <td>1049662419</td>\n",
       "      <td>27573</td>\n",
       "      <td>32595</td>\n",
       "      <td>14852</td>\n",
       "      <td>27513</td>\n",
       "      <td>32615</td>\n",
       "      <td>14878</td>\n",
       "      <td>0.991906</td>\n",
       "      <td>0.002317</td>\n",
       "      <td>0.000069</td>\n",
       "      <td>0.918828</td>\n",
       "      <td>0.000000</td>\n",
       "      <td>0.002363</td>\n",
       "      <td>0.003926</td>\n",
       "      <td>8</td>\n",
       "      <td>613175370</td>\n",
       "      <td>953154985</td>\n",
       "      <td>0.002317</td>\n",
       "    </tr>\n",
       "    <tr>\n",
       "      <th>3</th>\n",
       "      <td>1075054375</td>\n",
       "      <td>1167852620</td>\n",
       "      <td>12425</td>\n",
       "      <td>24956</td>\n",
       "      <td>16373</td>\n",
       "      <td>12436</td>\n",
       "      <td>24992</td>\n",
       "      <td>16339</td>\n",
       "      <td>0.777855</td>\n",
       "      <td>0.000000</td>\n",
       "      <td>0.000000</td>\n",
       "      <td>0.970840</td>\n",
       "      <td>0.000000</td>\n",
       "      <td>0.009229</td>\n",
       "      <td>0.000394</td>\n",
       "      <td>8</td>\n",
       "      <td>890191637</td>\n",
       "      <td>823058891</td>\n",
       "      <td>0.000000</td>\n",
       "    </tr>\n",
       "    <tr>\n",
       "      <th>4</th>\n",
       "      <td>1097365311</td>\n",
       "      <td>1097706148</td>\n",
       "      <td>23432</td>\n",
       "      <td>14451</td>\n",
       "      <td>15693</td>\n",
       "      <td>23444</td>\n",
       "      <td>14463</td>\n",
       "      <td>15684</td>\n",
       "      <td>0.994048</td>\n",
       "      <td>0.000359</td>\n",
       "      <td>0.000000</td>\n",
       "      <td>0.905296</td>\n",
       "      <td>0.000000</td>\n",
       "      <td>0.000107</td>\n",
       "      <td>0.000662</td>\n",
       "      <td>8</td>\n",
       "      <td>5813040784</td>\n",
       "      <td>973566036</td>\n",
       "      <td>0.000359</td>\n",
       "    </tr>\n",
       "  </tbody>\n",
       "</table>\n",
       "</div>"
      ],
      "text/plain": [
       "         id_a        id_b     xa     ya     za     xb     yb     zb       caa  \\\n",
       "0  1012359606  1135833306  16448  23743  15961  16401  23783  15924  0.982629   \n",
       "1  1016749434  1016753364  10412  30574  14398  10406  30626  14399  0.986544   \n",
       "2  1049662264  1049662419  27573  32595  14852  27513  32615  14878  0.991906   \n",
       "3  1075054375  1167852620  12425  24956  16373  12436  24992  16339  0.777855   \n",
       "4  1097365311  1097706148  23432  14451  15693  23444  14463  15684  0.994048   \n",
       "\n",
       "        cab       cba       cbb       iou        da        db  resolution  \\\n",
       "0  0.000000  0.001461  0.992530  0.000019  0.002408  0.000507           8   \n",
       "1  0.000000  0.000000  0.947968  0.000000  0.001237  0.002138           8   \n",
       "2  0.002317  0.000069  0.918828  0.000000  0.002363  0.003926           8   \n",
       "3  0.000000  0.000000  0.970840  0.000000  0.009229  0.000394           8   \n",
       "4  0.000359  0.000000  0.905296  0.000000  0.000107  0.000662           8   \n",
       "\n",
       "       body_a      body_b     score  \n",
       "0  5813039957  1135828787  0.001461  \n",
       "1  1016749259  1016749390  0.000000  \n",
       "2   613175370   953154985  0.002317  \n",
       "3   890191637   823058891  0.000000  \n",
       "4  5813040784   973566036  0.000359  "
      ]
     },
     "execution_count": 23,
     "metadata": {},
     "output_type": "execute_result"
    }
   ],
   "source": [
    "combined_onehop_df.head()"
   ]
  },
  {
   "cell_type": "code",
   "execution_count": 31,
   "metadata": {},
   "outputs": [],
   "source": [
    "### Discard unneeded columns\n",
    "#%time combined_onehop_df = combined_onehop_df[['id_a', 'id_b', 'body_a', 'body_b', 'score']].copy()"
   ]
  },
  {
   "cell_type": "code",
   "execution_count": 28,
   "metadata": {},
   "outputs": [
    {
     "data": {
      "text/plain": [
       "8.4230284040000001"
      ]
     },
     "execution_count": 28,
     "metadata": {},
     "output_type": "execute_result"
    }
   ],
   "source": [
    "combined_onehop_df.memory_usage().sum() / 1e9"
   ]
  },
  {
   "cell_type": "code",
   "execution_count": 29,
   "metadata": {},
   "outputs": [
    {
     "data": {
      "text/plain": [
       "(233973009, 5)"
      ]
     },
     "execution_count": 29,
     "metadata": {},
     "output_type": "execute_result"
    }
   ],
   "source": [
    "combined_onehop_df.shape"
   ]
  },
  {
   "cell_type": "markdown",
   "metadata": {},
   "source": [
    "### Select decisions: All 1-hop"
   ]
  },
  {
   "cell_type": "code",
   "execution_count": 332,
   "metadata": {},
   "outputs": [
    {
     "name": "stdout",
     "output_type": "stream",
     "text": [
      "CPU times: user 2min 2s, sys: 58.2 s, total: 3min 1s\n",
      "Wall time: 2min 19s\n"
     ]
    }
   ],
   "source": [
    "%%time\n",
    "onehop_decisions = combined_onehop_df.merge(previous_focused_decisions[['id_a', 'id_b', 'result']],\n",
    "                                            how='inner', on=['id_a', 'id_b'])\n",
    "\n",
    "onehop_decisions.drop_duplicates(['id_a', 'id_b'], inplace=True)\n",
    "\n",
    "onehop_decisions = onehop_decisions.merge(focused_bodies_table, how='left', left_on='body_a', right_index=True)\n",
    "onehop_decisions = onehop_decisions.merge(focused_bodies_table, how='left', left_on='body_b', right_index=True,\n",
    "                                          suffixes=['_a', '_b'])\n",
    "\n",
    "PreSyn = np.sort(onehop_decisions[['PreSyn_a', 'PreSyn_b']].values, axis=1)\n",
    "onehop_decisions['PreSyn_smaller'] = PreSyn[:,0]\n",
    "onehop_decisions['PreSyn_larger'] = PreSyn[:,1]\n",
    "\n",
    "PostSyn = np.sort(onehop_decisions[['PostSyn_a', 'PostSyn_b']].values, axis=1)\n",
    "onehop_decisions['PostSyn_smaller'] = PostSyn[:,0]\n",
    "onehop_decisions['PostSyn_larger'] = PostSyn[:,1]\n",
    "\n",
    "onehop_decisions['TotalSyn_a'] = onehop_decisions['PreSyn_a'] + onehop_decisions['PostSyn_a']\n",
    "onehop_decisions['TotalSyn_b'] = onehop_decisions['PreSyn_b'] + onehop_decisions['PostSyn_b']\n",
    "\n",
    "TotalSyn = np.sort(onehop_decisions[['TotalSyn_a', 'TotalSyn_b']].values, axis=1)\n",
    "onehop_decisions['TotalSyn_smaller'] = TotalSyn[:,0]\n",
    "onehop_decisions['TotalSyn_larger'] = TotalSyn[:,1]\n",
    "\n",
    "voxel_count = np.sort(onehop_decisions[['voxel_count_a', 'voxel_count_b']].values, axis=1)\n",
    "onehop_decisions['voxel_count_smaller'] = voxel_count[:,0]\n",
    "onehop_decisions['voxel_count_larger'] = voxel_count[:,1]"
   ]
  },
  {
   "cell_type": "code",
   "execution_count": 334,
   "metadata": {},
   "outputs": [
    {
     "data": {
      "text/html": [
       "<div>\n",
       "<style scoped>\n",
       "    .dataframe tbody tr th:only-of-type {\n",
       "        vertical-align: middle;\n",
       "    }\n",
       "\n",
       "    .dataframe tbody tr th {\n",
       "        vertical-align: top;\n",
       "    }\n",
       "\n",
       "    .dataframe thead th {\n",
       "        text-align: right;\n",
       "    }\n",
       "</style>\n",
       "<table border=\"1\" class=\"dataframe\">\n",
       "  <thead>\n",
       "    <tr style=\"text-align: right;\">\n",
       "      <th></th>\n",
       "      <th>id_a</th>\n",
       "      <th>id_b</th>\n",
       "      <th>xa</th>\n",
       "      <th>ya</th>\n",
       "      <th>za</th>\n",
       "      <th>xb</th>\n",
       "      <th>yb</th>\n",
       "      <th>zb</th>\n",
       "      <th>caa</th>\n",
       "      <th>cab</th>\n",
       "      <th>...</th>\n",
       "      <th>PreSyn_smaller</th>\n",
       "      <th>PreSyn_larger</th>\n",
       "      <th>PostSyn_smaller</th>\n",
       "      <th>PostSyn_larger</th>\n",
       "      <th>TotalSyn_a</th>\n",
       "      <th>TotalSyn_b</th>\n",
       "      <th>TotalSyn_smaller</th>\n",
       "      <th>TotalSyn_larger</th>\n",
       "      <th>voxel_count_smaller</th>\n",
       "      <th>voxel_count_larger</th>\n",
       "    </tr>\n",
       "  </thead>\n",
       "  <tbody>\n",
       "    <tr>\n",
       "      <th>0</th>\n",
       "      <td>925872732</td>\n",
       "      <td>957243288</td>\n",
       "      <td>28384</td>\n",
       "      <td>33258</td>\n",
       "      <td>13167</td>\n",
       "      <td>28351</td>\n",
       "      <td>33288</td>\n",
       "      <td>13192</td>\n",
       "      <td>0.978906</td>\n",
       "      <td>0.728463</td>\n",
       "      <td>...</td>\n",
       "      <td>4</td>\n",
       "      <td>859</td>\n",
       "      <td>2</td>\n",
       "      <td>1492</td>\n",
       "      <td>6</td>\n",
       "      <td>2351</td>\n",
       "      <td>6</td>\n",
       "      <td>2351</td>\n",
       "      <td>2199647</td>\n",
       "      <td>1203227020</td>\n",
       "    </tr>\n",
       "    <tr>\n",
       "      <th>1</th>\n",
       "      <td>978215387</td>\n",
       "      <td>978216166</td>\n",
       "      <td>10726</td>\n",
       "      <td>20941</td>\n",
       "      <td>13865</td>\n",
       "      <td>10740</td>\n",
       "      <td>20910</td>\n",
       "      <td>13867</td>\n",
       "      <td>0.638316</td>\n",
       "      <td>0.164567</td>\n",
       "      <td>...</td>\n",
       "      <td>0</td>\n",
       "      <td>158</td>\n",
       "      <td>26</td>\n",
       "      <td>271</td>\n",
       "      <td>26</td>\n",
       "      <td>429</td>\n",
       "      <td>26</td>\n",
       "      <td>429</td>\n",
       "      <td>10656302</td>\n",
       "      <td>292079600</td>\n",
       "    </tr>\n",
       "    <tr>\n",
       "      <th>2</th>\n",
       "      <td>2180107316</td>\n",
       "      <td>2180452882</td>\n",
       "      <td>16954</td>\n",
       "      <td>10118</td>\n",
       "      <td>30845</td>\n",
       "      <td>16947</td>\n",
       "      <td>10081</td>\n",
       "      <td>30876</td>\n",
       "      <td>0.995444</td>\n",
       "      <td>0.786842</td>\n",
       "      <td>...</td>\n",
       "      <td>8</td>\n",
       "      <td>20</td>\n",
       "      <td>10</td>\n",
       "      <td>92</td>\n",
       "      <td>30</td>\n",
       "      <td>100</td>\n",
       "      <td>30</td>\n",
       "      <td>100</td>\n",
       "      <td>32865094</td>\n",
       "      <td>198468595</td>\n",
       "    </tr>\n",
       "    <tr>\n",
       "      <th>3</th>\n",
       "      <td>1590940221</td>\n",
       "      <td>1590940303</td>\n",
       "      <td>32150</td>\n",
       "      <td>10377</td>\n",
       "      <td>22590</td>\n",
       "      <td>32194</td>\n",
       "      <td>10354</td>\n",
       "      <td>22608</td>\n",
       "      <td>0.988324</td>\n",
       "      <td>0.998660</td>\n",
       "      <td>...</td>\n",
       "      <td>0</td>\n",
       "      <td>3</td>\n",
       "      <td>1</td>\n",
       "      <td>3</td>\n",
       "      <td>4</td>\n",
       "      <td>3</td>\n",
       "      <td>3</td>\n",
       "      <td>4</td>\n",
       "      <td>12787486</td>\n",
       "      <td>13097779</td>\n",
       "    </tr>\n",
       "    <tr>\n",
       "      <th>4</th>\n",
       "      <td>395252105</td>\n",
       "      <td>395252213</td>\n",
       "      <td>32997</td>\n",
       "      <td>28926</td>\n",
       "      <td>5666</td>\n",
       "      <td>32989</td>\n",
       "      <td>28922</td>\n",
       "      <td>5734</td>\n",
       "      <td>0.963968</td>\n",
       "      <td>0.293089</td>\n",
       "      <td>...</td>\n",
       "      <td>32</td>\n",
       "      <td>44</td>\n",
       "      <td>115</td>\n",
       "      <td>134</td>\n",
       "      <td>147</td>\n",
       "      <td>178</td>\n",
       "      <td>147</td>\n",
       "      <td>178</td>\n",
       "      <td>19781078</td>\n",
       "      <td>22731575</td>\n",
       "    </tr>\n",
       "  </tbody>\n",
       "</table>\n",
       "<p>5 rows × 36 columns</p>\n",
       "</div>"
      ],
      "text/plain": [
       "         id_a        id_b     xa     ya     za     xb     yb     zb       caa  \\\n",
       "0   925872732   957243288  28384  33258  13167  28351  33288  13192  0.978906   \n",
       "1   978215387   978216166  10726  20941  13865  10740  20910  13867  0.638316   \n",
       "2  2180107316  2180452882  16954  10118  30845  16947  10081  30876  0.995444   \n",
       "3  1590940221  1590940303  32150  10377  22590  32194  10354  22608  0.988324   \n",
       "4   395252105   395252213  32997  28926   5666  32989  28922   5734  0.963968   \n",
       "\n",
       "        cab        ...          PreSyn_smaller  PreSyn_larger  \\\n",
       "0  0.728463        ...                       4            859   \n",
       "1  0.164567        ...                       0            158   \n",
       "2  0.786842        ...                       8             20   \n",
       "3  0.998660        ...                       0              3   \n",
       "4  0.293089        ...                      32             44   \n",
       "\n",
       "   PostSyn_smaller  PostSyn_larger  TotalSyn_a  TotalSyn_b  TotalSyn_smaller  \\\n",
       "0                2            1492           6        2351                 6   \n",
       "1               26             271          26         429                26   \n",
       "2               10              92          30         100                30   \n",
       "3                1               3           4           3                 3   \n",
       "4              115             134         147         178               147   \n",
       "\n",
       "   TotalSyn_larger  voxel_count_smaller voxel_count_larger  \n",
       "0             2351              2199647         1203227020  \n",
       "1              429             10656302          292079600  \n",
       "2              100             32865094          198468595  \n",
       "3                4             12787486           13097779  \n",
       "4              178             19781078           22731575  \n",
       "\n",
       "[5 rows x 36 columns]"
      ]
     },
     "execution_count": 334,
     "metadata": {},
     "output_type": "execute_result"
    }
   ],
   "source": [
    "onehop_decisions.head()"
   ]
  },
  {
   "cell_type": "code",
   "execution_count": 328,
   "metadata": {},
   "outputs": [
    {
     "name": "stdout",
     "output_type": "stream",
     "text": [
      "\n",
      "Decision ratio: 47.5%\n"
     ]
    },
    {
     "data": {
      "image/png": "[encoded data removed]",
      "text/plain": [
       "<Figure size 360x360 with 1 Axes>"
      ]
     },
     "metadata": {},
     "output_type": "display_data"
    }
   ],
   "source": [
    "decision_counts = onehop_decisions['result'].value_counts()\n",
    "decision_counts.plot(kind='pie')\n",
    "ratio = (decision_counts['merge'] + decision_counts['mergeLater']) / decision_counts.sum()\n",
    "print(f\"\\nDecision ratio: {100*ratio:.1f}%\")"
   ]
  },
  {
   "cell_type": "code",
   "execution_count": 327,
   "metadata": {},
   "outputs": [
    {
     "name": "stdout",
     "output_type": "stream",
     "text": [
      "\n",
      "Scores (higher is better)\n"
     ]
    },
    {
     "data": {
      "image/png": "[encoded data removed]",
      "text/plain": [
       "<Figure size 360x360 with 1 Axes>"
      ]
     },
     "metadata": {},
     "output_type": "display_data"
    }
   ],
   "source": [
    "onehop_decisions['score'].apply(lambda s: f'{s:.1f}').value_counts()\\\n",
    "                         .sort_index().plot(kind='pie', colormap='Paired')\n",
    "print(\"\\nScores (higher is better)\")"
   ]
  },
  {
   "cell_type": "code",
   "execution_count": 379,
   "metadata": {},
   "outputs": [
    {
     "data": {
      "text/plain": [
       "<matplotlib.axes._subplots.AxesSubplot at 0x2b0f986261d0>"
      ]
     },
     "execution_count": 379,
     "metadata": {},
     "output_type": "execute_result"
    },
    {
     "data": {
      "image/png": "[encoded data removed]",
      "text/plain": [
       "<Figure size 360x360 with 1 Axes>"
      ]
     },
     "metadata": {},
     "output_type": "display_data"
    }
   ],
   "source": [
    "onehop_decisions.query('PreSyn_smaller < 2 and PostSyn_smaller < 10')['PostSyn_smaller'].hist()"
   ]
  },
  {
   "cell_type": "code",
   "execution_count": 405,
   "metadata": {},
   "outputs": [
    {
     "name": "stdout",
     "output_type": "stream",
     "text": [
      "27116\n"
     ]
    },
    {
     "data": {
      "text/plain": [
       "0.41842454639327337"
      ]
     },
     "execution_count": 405,
     "metadata": {},
     "output_type": "execute_result"
    }
   ],
   "source": [
    "new_counts = onehop_decisions.query('PreSyn_smaller < 2 and PostSyn_smaller >= 10')['result'].value_counts()\n",
    "print(new_counts.sum())\n",
    "(new_counts['merge'] + new_counts['mergeLater']) / new_counts.sum()"
   ]
  },
  {
   "cell_type": "code",
   "execution_count": 378,
   "metadata": {},
   "outputs": [
    {
     "data": {
      "text/plain": [
       "17521"
      ]
     },
     "execution_count": 378,
     "metadata": {},
     "output_type": "execute_result"
    }
   ],
   "source": [
    "it1_ = onehop_decisions.query('PreSyn_smaller < 2 and PostSyn_smaller > 10')['result'].value_counts()\n"
   ]
  },
  {
   "cell_type": "markdown",
   "metadata": {},
   "source": [
    "### Plot"
   ]
  },
  {
   "cell_type": "code",
   "execution_count": 297,
   "metadata": {},
   "outputs": [
    {
     "data": {
      "text/html": [
       "\n",
       "    <div class=\"bk-root\">\n",
       "        <a href=\"https://bokeh.pydata.org\" target=\"_blank\" class=\"bk-logo bk-logo-small bk-logo-notebook\"></a>\n",
       "        <span id=\"dfe72ccc-9d02-4f54-a0cd-223dd1507795\">Loading BokehJS ...</span>\n",
       "    </div>"
      ]
     },
     "metadata": {},
     "output_type": "display_data"
    },
    {
     "data": {
      "application/javascript": [
       "\n",
       "(function(root) {\n",
       "  function now() {\n",
       "    return new Date();\n",
       "  }\n",
       "\n",
       "  var force = true;\n",
       "\n",
       "  if (typeof (root._bokeh_onload_callbacks) === \"undefined\" || force === true) {\n",
       "    root._bokeh_onload_callbacks = [];\n",
       "    root._bokeh_is_loading = undefined;\n",
       "  }\n",
       "\n",
       "  var JS_MIME_TYPE = 'application/javascript';\n",
       "  var HTML_MIME_TYPE = 'text/html';\n",
       "  var EXEC_MIME_TYPE = 'application/vnd.bokehjs_exec.v0+json';\n",
       "  var CLASS_NAME = 'output_bokeh rendered_html';\n",
       "\n",
       "  /**\n",
       "   * Render data to the DOM node\n",
       "   */\n",
       "  function render(props, node) {\n",
       "    var script = document.createElement(\"script\");\n",
       "    node.appendChild(script);\n",
       "  }\n",
       "\n",
       "  /**\n",
       "   * Handle when an output is cleared or removed\n",
       "   */\n",
       "  function handleClearOutput(event, handle) {\n",
       "    var cell = handle.cell;\n",
       "\n",
       "    var id = cell.output_area._bokeh_element_id;\n",
       "    var server_id = cell.output_area._bokeh_server_id;\n",
       "    // Clean up Bokeh references\n",
       "    if (id != null && id in Bokeh.index) {\n",
       "      Bokeh.index[id].model.document.clear();\n",
       "      delete Bokeh.index[id];\n",
       "    }\n",
       "\n",
       "    if (server_id !== undefined) {\n",
       "      // Clean up Bokeh references\n",
       "      var cmd = \"from bokeh.io.state import curstate; print(curstate().uuid_to_server['\" + server_id + \"'].get_sessions()[0].document.roots[0]._id)\";\n",
       "      cell.notebook.kernel.execute(cmd, {\n",
       "        iopub: {\n",
       "          output: function(msg) {\n",
       "            var id = msg.content.text.trim();\n",
       "            if (id in Bokeh.index) {\n",
       "              Bokeh.index[id].model.document.clear();\n",
       "              delete Bokeh.index[id];\n",
       "            }\n",
       "          }\n",
       "        }\n",
       "      });\n",
       "      // Destroy server and session\n",
       "      var cmd = \"import bokeh.io.notebook as ion; ion.destroy_server('\" + server_id + \"')\";\n",
       "      cell.notebook.kernel.execute(cmd);\n",
       "    }\n",
       "  }\n",
       "\n",
       "  /**\n",
       "   * Handle when a new output is added\n",
       "   */\n",
       "  function handleAddOutput(event, handle) {\n",
       "    var output_area = handle.output_area;\n",
       "    var output = handle.output;\n",
       "\n",
       "    // limit handleAddOutput to display_data with EXEC_MIME_TYPE content only\n",
       "    if ((output.output_type != \"display_data\") || (!output.data.hasOwnProperty(EXEC_MIME_TYPE))) {\n",
       "      return\n",
       "    }\n",
       "\n",
       "    var toinsert = output_area.element.find(\".\" + CLASS_NAME.split(' ')[0]);\n",
       "\n",
       "    if (output.metadata[EXEC_MIME_TYPE][\"id\"] !== undefined) {\n",
       "      toinsert[toinsert.length - 1].firstChild.textContent = output.data[JS_MIME_TYPE];\n",
       "      // store reference to embed id on output_area\n",
       "      output_area._bokeh_element_id = output.metadata[EXEC_MIME_TYPE][\"id\"];\n",
       "    }\n",
       "    if (output.metadata[EXEC_MIME_TYPE][\"server_id\"] !== undefined) {\n",
       "      var bk_div = document.createElement(\"div\");\n",
       "      bk_div.innerHTML = output.data[HTML_MIME_TYPE];\n",
       "      var script_attrs = bk_div.children[0].attributes;\n",
       "      for (var i = 0; i < script_attrs.length; i++) {\n",
       "        toinsert[toinsert.length - 1].firstChild.setAttribute(script_attrs[i].name, script_attrs[i].value);\n",
       "      }\n",
       "      // store reference to server id on output_area\n",
       "      output_area._bokeh_server_id = output.metadata[EXEC_MIME_TYPE][\"server_id\"];\n",
       "    }\n",
       "  }\n",
       "\n",
       "  function register_renderer(events, OutputArea) {\n",
       "\n",
       "    function append_mime(data, metadata, element) {\n",
       "      // create a DOM node to render to\n",
       "      var toinsert = this.create_output_subarea(\n",
       "        metadata,\n",
       "        CLASS_NAME,\n",
       "        EXEC_MIME_TYPE\n",
       "      );\n",
       "      this.keyboard_manager.register_events(toinsert);\n",
       "      // Render to node\n",
       "      var props = {data: data, metadata: metadata[EXEC_MIME_TYPE]};\n",
       "      render(props, toinsert[toinsert.length - 1]);\n",
       "      element.append(toinsert);\n",
       "      return toinsert\n",
       "    }\n",
       "\n",
       "    /* Handle when an output is cleared or removed */\n",
       "    events.on('clear_output.CodeCell', handleClearOutput);\n",
       "    events.on('delete.Cell', handleClearOutput);\n",
       "\n",
       "    /* Handle when a new output is added */\n",
       "    events.on('output_added.OutputArea', handleAddOutput);\n",
       "\n",
       "    /**\n",
       "     * Register the mime type and append_mime function with output_area\n",
       "     */\n",
       "    OutputArea.prototype.register_mime_type(EXEC_MIME_TYPE, append_mime, {\n",
       "      /* Is output safe? */\n",
       "      safe: true,\n",
       "      /* Index of renderer in `output_area.display_order` */\n",
       "      index: 0\n",
       "    });\n",
       "  }\n",
       "\n",
       "  // register the mime type if in Jupyter Notebook environment and previously unregistered\n",
       "  if (root.Jupyter !== undefined) {\n",
       "    var events = require('base/js/events');\n",
       "    var OutputArea = require('notebook/js/outputarea').OutputArea;\n",
       "\n",
       "    if (OutputArea.prototype.mime_types().indexOf(EXEC_MIME_TYPE) == -1) {\n",
       "      register_renderer(events, OutputArea);\n",
       "    }\n",
       "  }\n",
       "\n",
       "  \n",
       "  if (typeof (root._bokeh_timeout) === \"undefined\" || force === true) {\n",
       "    root._bokeh_timeout = Date.now() + 5000;\n",
       "    root._bokeh_failed_load = false;\n",
       "  }\n",
       "\n",
       "  var NB_LOAD_WARNING = {'data': {'text/html':\n",
       "     \"<div style='background-color: #fdd'>\\n\"+\n",
       "     \"<p>\\n\"+\n",
       "     \"BokehJS does not appear to have successfully loaded. If loading BokehJS from CDN, this \\n\"+\n",
       "     \"may be due to a slow or bad network connection. Possible fixes:\\n\"+\n",
       "     \"</p>\\n\"+\n",
       "     \"<ul>\\n\"+\n",
       "     \"<li>re-rerun `output_notebook()` to attempt to load from CDN again, or</li>\\n\"+\n",
       "     \"<li>use INLINE resources instead, as so:</li>\\n\"+\n",
       "     \"</ul>\\n\"+\n",
       "     \"<code>\\n\"+\n",
       "     \"from bokeh.resources import INLINE\\n\"+\n",
       "     \"output_notebook(resources=INLINE)\\n\"+\n",
       "     \"</code>\\n\"+\n",
       "     \"</div>\"}};\n",
       "\n",
       "  function display_loaded() {\n",
       "    var el = document.getElementById(\"dfe72ccc-9d02-4f54-a0cd-223dd1507795\");\n",
       "    if (el != null) {\n",
       "      el.textContent = \"BokehJS is loading...\";\n",
       "    }\n",
       "    if (root.Bokeh !== undefined) {\n",
       "      if (el != null) {\n",
       "        el.textContent = \"BokehJS \" + root.Bokeh.version + \" successfully loaded.\";\n",
       "      }\n",
       "    } else if (Date.now() < root._bokeh_timeout) {\n",
       "      setTimeout(display_loaded, 100)\n",
       "    }\n",
       "  }\n",
       "\n",
       "\n",
       "  function run_callbacks() {\n",
       "    try {\n",
       "      root._bokeh_onload_callbacks.forEach(function(callback) { callback() });\n",
       "    }\n",
       "    finally {\n",
       "      delete root._bokeh_onload_callbacks\n",
       "    }\n",
       "    console.info(\"Bokeh: all callbacks have finished\");\n",
       "  }\n",
       "\n",
       "  function load_libs(js_urls, callback) {\n",
       "    root._bokeh_onload_callbacks.push(callback);\n",
       "    if (root._bokeh_is_loading > 0) {\n",
       "      console.log(\"Bokeh: BokehJS is being loaded, scheduling callback at\", now());\n",
       "      return null;\n",
       "    }\n",
       "    if (js_urls == null || js_urls.length === 0) {\n",
       "      run_callbacks();\n",
       "      return null;\n",
       "    }\n",
       "    console.log(\"Bokeh: BokehJS not loaded, scheduling load and callback at\", now());\n",
       "    root._bokeh_is_loading = js_urls.length;\n",
       "    for (var i = 0; i < js_urls.length; i++) {\n",
       "      var url = js_urls[i];\n",
       "      var s = document.createElement('script');\n",
       "      s.src = url;\n",
       "      s.async = false;\n",
       "      s.onreadystatechange = s.onload = function() {\n",
       "        root._bokeh_is_loading--;\n",
       "        if (root._bokeh_is_loading === 0) {\n",
       "          console.log(\"Bokeh: all BokehJS libraries loaded\");\n",
       "          run_callbacks()\n",
       "        }\n",
       "      };\n",
       "      s.onerror = function() {\n",
       "        console.warn(\"failed to load library \" + url);\n",
       "      };\n",
       "      console.log(\"Bokeh: injecting script tag for BokehJS library: \", url);\n",
       "      document.getElementsByTagName(\"head\")[0].appendChild(s);\n",
       "    }\n",
       "  };var element = document.getElementById(\"dfe72ccc-9d02-4f54-a0cd-223dd1507795\");\n",
       "  if (element == null) {\n",
       "    console.log(\"Bokeh: ERROR: autoload.js configured with elementid 'dfe72ccc-9d02-4f54-a0cd-223dd1507795' but no matching script tag was found. \")\n",
       "    return false;\n",
       "  }\n",
       "\n",
       "  var js_urls = [\"https://cdn.pydata.org/bokeh/release/bokeh-0.13.0.min.js\", \"https://cdn.pydata.org/bokeh/release/bokeh-widgets-0.13.0.min.js\", \"https://cdn.pydata.org/bokeh/release/bokeh-tables-0.13.0.min.js\", \"https://cdn.pydata.org/bokeh/release/bokeh-gl-0.13.0.min.js\"];\n",
       "\n",
       "  var inline_js = [\n",
       "    function(Bokeh) {\n",
       "      Bokeh.set_log_level(\"info\");\n",
       "    },\n",
       "    \n",
       "    function(Bokeh) {\n",
       "      \n",
       "    },\n",
       "    function(Bokeh) {\n",
       "      console.log(\"Bokeh: injecting CSS: https://cdn.pydata.org/bokeh/release/bokeh-0.13.0.min.css\");\n",
       "      Bokeh.embed.inject_css(\"https://cdn.pydata.org/bokeh/release/bokeh-0.13.0.min.css\");\n",
       "      console.log(\"Bokeh: injecting CSS: https://cdn.pydata.org/bokeh/release/bokeh-widgets-0.13.0.min.css\");\n",
       "      Bokeh.embed.inject_css(\"https://cdn.pydata.org/bokeh/release/bokeh-widgets-0.13.0.min.css\");\n",
       "      console.log(\"Bokeh: injecting CSS: https://cdn.pydata.org/bokeh/release/bokeh-tables-0.13.0.min.css\");\n",
       "      Bokeh.embed.inject_css(\"https://cdn.pydata.org/bokeh/release/bokeh-tables-0.13.0.min.css\");\n",
       "    }\n",
       "  ];\n",
       "\n",
       "  function run_inline_js() {\n",
       "    \n",
       "    if ((root.Bokeh !== undefined) || (force === true)) {\n",
       "      for (var i = 0; i < inline_js.length; i++) {\n",
       "        inline_js[i].call(root, root.Bokeh);\n",
       "      }if (force === true) {\n",
       "        display_loaded();\n",
       "      }} else if (Date.now() < root._bokeh_timeout) {\n",
       "      setTimeout(run_inline_js, 100);\n",
       "    } else if (!root._bokeh_failed_load) {\n",
       "      console.log(\"Bokeh: BokehJS failed to load within specified timeout.\");\n",
       "      root._bokeh_failed_load = true;\n",
       "    } else if (force !== true) {\n",
       "      var cell = $(document.getElementById(\"dfe72ccc-9d02-4f54-a0cd-223dd1507795\")).parents('.cell').data().cell;\n",
       "      cell.output_area.append_execute_result(NB_LOAD_WARNING)\n",
       "    }\n",
       "\n",
       "  }\n",
       "\n",
       "  if (root._bokeh_is_loading === 0) {\n",
       "    console.log(\"Bokeh: BokehJS loaded, going straight to plotting\");\n",
       "    run_inline_js();\n",
       "  } else {\n",
       "    load_libs(js_urls, function() {\n",
       "      console.log(\"Bokeh: BokehJS plotting callback run at\", now());\n",
       "      run_inline_js();\n",
       "    });\n",
       "  }\n",
       "}(window));"
      ],
      "application/vnd.bokehjs_load.v0+json": "\n(function(root) {\n  function now() {\n    return new Date();\n  }\n\n  var force = true;\n\n  if (typeof (root._bokeh_onload_callbacks) === \"undefined\" || force === true) {\n    root._bokeh_onload_callbacks = [];\n    root._bokeh_is_loading = undefined;\n  }\n\n  \n\n  \n  if (typeof (root._bokeh_timeout) === \"undefined\" || force === true) {\n    root._bokeh_timeout = Date.now() + 5000;\n    root._bokeh_failed_load = false;\n  }\n\n  var NB_LOAD_WARNING = {'data': {'text/html':\n     \"<div style='background-color: #fdd'>\\n\"+\n     \"<p>\\n\"+\n     \"BokehJS does not appear to have successfully loaded. If loading BokehJS from CDN, this \\n\"+\n     \"may be due to a slow or bad network connection. Possible fixes:\\n\"+\n     \"</p>\\n\"+\n     \"<ul>\\n\"+\n     \"<li>re-rerun `output_notebook()` to attempt to load from CDN again, or</li>\\n\"+\n     \"<li>use INLINE resources instead, as so:</li>\\n\"+\n     \"</ul>\\n\"+\n     \"<code>\\n\"+\n     \"from bokeh.resources import INLINE\\n\"+\n     \"output_notebook(resources=INLINE)\\n\"+\n     \"</code>\\n\"+\n     \"</div>\"}};\n\n  function display_loaded() {\n    var el = document.getElementById(\"dfe72ccc-9d02-4f54-a0cd-223dd1507795\");\n    if (el != null) {\n      el.textContent = \"BokehJS is loading...\";\n    }\n    if (root.Bokeh !== undefined) {\n      if (el != null) {\n        el.textContent = \"BokehJS \" + root.Bokeh.version + \" successfully loaded.\";\n      }\n    } else if (Date.now() < root._bokeh_timeout) {\n      setTimeout(display_loaded, 100)\n    }\n  }\n\n\n  function run_callbacks() {\n    try {\n      root._bokeh_onload_callbacks.forEach(function(callback) { callback() });\n    }\n    finally {\n      delete root._bokeh_onload_callbacks\n    }\n    console.info(\"Bokeh: all callbacks have finished\");\n  }\n\n  function load_libs(js_urls, callback) {\n    root._bokeh_onload_callbacks.push(callback);\n    if (root._bokeh_is_loading > 0) {\n      console.log(\"Bokeh: BokehJS is being loaded, scheduling callback at\", now());\n      return null;\n    }\n    if (js_urls == null || js_urls.length === 0) {\n      run_callbacks();\n      return null;\n    }\n    console.log(\"Bokeh: BokehJS not loaded, scheduling load and callback at\", now());\n    root._bokeh_is_loading = js_urls.length;\n    for (var i = 0; i < js_urls.length; i++) {\n      var url = js_urls[i];\n      var s = document.createElement('script');\n      s.src = url;\n      s.async = false;\n      s.onreadystatechange = s.onload = function() {\n        root._bokeh_is_loading--;\n        if (root._bokeh_is_loading === 0) {\n          console.log(\"Bokeh: all BokehJS libraries loaded\");\n          run_callbacks()\n        }\n      };\n      s.onerror = function() {\n        console.warn(\"failed to load library \" + url);\n      };\n      console.log(\"Bokeh: injecting script tag for BokehJS library: \", url);\n      document.getElementsByTagName(\"head\")[0].appendChild(s);\n    }\n  };var element = document.getElementById(\"dfe72ccc-9d02-4f54-a0cd-223dd1507795\");\n  if (element == null) {\n    console.log(\"Bokeh: ERROR: autoload.js configured with elementid 'dfe72ccc-9d02-4f54-a0cd-223dd1507795' but no matching script tag was found. \")\n    return false;\n  }\n\n  var js_urls = [\"https://cdn.pydata.org/bokeh/release/bokeh-0.13.0.min.js\", \"https://cdn.pydata.org/bokeh/release/bokeh-widgets-0.13.0.min.js\", \"https://cdn.pydata.org/bokeh/release/bokeh-tables-0.13.0.min.js\", \"https://cdn.pydata.org/bokeh/release/bokeh-gl-0.13.0.min.js\"];\n\n  var inline_js = [\n    function(Bokeh) {\n      Bokeh.set_log_level(\"info\");\n    },\n    \n    function(Bokeh) {\n      \n    },\n    function(Bokeh) {\n      console.log(\"Bokeh: injecting CSS: https://cdn.pydata.org/bokeh/release/bokeh-0.13.0.min.css\");\n      Bokeh.embed.inject_css(\"https://cdn.pydata.org/bokeh/release/bokeh-0.13.0.min.css\");\n      console.log(\"Bokeh: injecting CSS: https://cdn.pydata.org/bokeh/release/bokeh-widgets-0.13.0.min.css\");\n      Bokeh.embed.inject_css(\"https://cdn.pydata.org/bokeh/release/bokeh-widgets-0.13.0.min.css\");\n      console.log(\"Bokeh: injecting CSS: https://cdn.pydata.org/bokeh/release/bokeh-tables-0.13.0.min.css\");\n      Bokeh.embed.inject_css(\"https://cdn.pydata.org/bokeh/release/bokeh-tables-0.13.0.min.css\");\n    }\n  ];\n\n  function run_inline_js() {\n    \n    if ((root.Bokeh !== undefined) || (force === true)) {\n      for (var i = 0; i < inline_js.length; i++) {\n        inline_js[i].call(root, root.Bokeh);\n      }if (force === true) {\n        display_loaded();\n      }} else if (Date.now() < root._bokeh_timeout) {\n      setTimeout(run_inline_js, 100);\n    } else if (!root._bokeh_failed_load) {\n      console.log(\"Bokeh: BokehJS failed to load within specified timeout.\");\n      root._bokeh_failed_load = true;\n    } else if (force !== true) {\n      var cell = $(document.getElementById(\"dfe72ccc-9d02-4f54-a0cd-223dd1507795\")).parents('.cell').data().cell;\n      cell.output_area.append_execute_result(NB_LOAD_WARNING)\n    }\n\n  }\n\n  if (root._bokeh_is_loading === 0) {\n    console.log(\"Bokeh: BokehJS loaded, going straight to plotting\");\n    run_inline_js();\n  } else {\n    load_libs(js_urls, function() {\n      console.log(\"Bokeh: BokehJS plotting callback run at\", now());\n      run_inline_js();\n    });\n  }\n}(window));"
     },
     "metadata": {},
     "output_type": "display_data"
    }
   ],
   "source": [
    "from bokeh.io import show, output_notebook\n",
    "from bokeh.models import ColumnDataSource, FactorRange\n",
    "from bokeh.plotting import figure\n",
    "output_notebook()"
   ]
  },
  {
   "cell_type": "code",
   "execution_count": 298,
   "metadata": {},
   "outputs": [],
   "source": [
    "def show_merge_ratios(decisions_table, binned_column, bin_size, num_bins, show_ratio=False):\n",
    "    bin_range = (0, bin_size*num_bins)\n",
    "\n",
    "    merged_decisions = decisions_table.query('result == \"merge\" or result == \"mergeLater\"')\n",
    "    merged_syncounts = merged_decisions[binned_column]\n",
    "    merged_bincounts, merged_bins = np.histogram(merged_syncounts.values, num_bins, range=bin_range)\n",
    "\n",
    "    notmerged_decisions = decisions_table.query('result == \"dontMerge\"')\n",
    "    notmerged_syncounts = notmerged_decisions[binned_column]\n",
    "    notmerged_bincounts, notmerged_bins = np.histogram(notmerged_syncounts.values, num_bins, range=bin_range)\n",
    "\n",
    "    merged_data = merged_bincounts\n",
    "    not_merged_data = notmerged_bincounts\n",
    "    \n",
    "    if show_ratio:\n",
    "        merged_ratio = merged_bincounts / (merged_bincounts + notmerged_bincounts)\n",
    "        notmerged_ratio = notmerged_bincounts / (merged_bincounts + notmerged_bincounts)\n",
    "\n",
    "        merged_ratio = np.nan_to_num(merged_ratio)\n",
    "        notmerged_ratio = np.nan_to_num(notmerged_ratio)\n",
    "        \n",
    "        merged_data = merged_ratio\n",
    "        not_merged_data = notmerged_ratio\n",
    "\n",
    "    label = {True: \"Ratio\", False: \"Counts\"}[show_ratio]\n",
    "    p = figure( y_range=bin_range,\n",
    "                plot_height=400,\n",
    "                x_range=(-1.05*not_merged_data.max(), 1.05*merged_data.max()),\n",
    "                title=f\"(Don't) Merge {label} by {binned_column}\",\n",
    "                x_axis_label=f\"Decision {label} (Don't Merge/Merge)\",\n",
    "                y_axis_label=f\"{binned_column} (bin = {bin_size})\")\n",
    "\n",
    "    p.hbar((merged_bins[:-1] + merged_bins[1:])/2,\n",
    "           bin_size*0.9,\n",
    "           merged_data,\n",
    "           0,\n",
    "           color='navy')\n",
    "\n",
    "    p.hbar((merged_bins[:-1] + merged_bins[1:])/2,\n",
    "           bin_size*0.9,\n",
    "           0,\n",
    "           -not_merged_data,\n",
    "           color='crimson')\n",
    "\n",
    "    show(p)"
   ]
  },
  {
   "cell_type": "code",
   "execution_count": 335,
   "metadata": {
    "scrolled": false
   },
   "outputs": [
    {
     "data": {
      "text/html": [
       "\n",
       "\n",
       "\n",
       "\n",
       "\n",
       "\n",
       "  <div class=\"bk-root\" id=\"02aac8b5-4c00-4936-9270-81a7b1a294b8\"></div>\n"
      ]
     },
     "metadata": {},
     "output_type": "display_data"
    },
    {
     "data": {
      "application/javascript": [
       "(function(root) {\n",
       "  function embed_document(root) {\n",
       "    \n",
       "  var docs_json = {\"1e952287-c312-4213-ba40-a73a78be3feb\":{\"roots\":{\"references\":[{\"attributes\":{\"plot\":{\"id\":\"c4abf5ea-337a-448e-b239-3d20224bae23\",\"subtype\":\"Figure\",\"type\":\"Plot\"},\"ticker\":{\"id\":\"f80dda00-13c9-4b3f-86e1-f47367fab9ce\",\"type\":\"BasicTicker\"}},\"id\":\"5d85f9c9-c17f-4a58-8a4f-e440199cd470\",\"type\":\"Grid\"},{\"attributes\":{},\"id\":\"14210731-0570-4297-9c7f-7f398f2cfd72\",\"type\":\"PanTool\"},{\"attributes\":{},\"id\":\"6ecd1891-a251-42e2-946a-891870214435\",\"type\":\"LinearScale\"},{\"attributes\":{},\"id\":\"4ac5b516-8f67-4e61-a627-3d8ab8669a35\",\"type\":\"Selection\"},{\"attributes\":{},\"id\":\"283454f9-fea8-4560-95f3-2f5a84abb6b3\",\"type\":\"UnionRenderers\"},{\"attributes\":{\"data_source\":{\"id\":\"6e4fc9db-7ade-40a4-9864-be1253575552\",\"type\":\"ColumnDataSource\"},\"glyph\":{\"id\":\"b1554cbc-df2c-4d85-8533-5b3c0ab73dbb\",\"type\":\"HBar\"},\"hover_glyph\":null,\"muted_glyph\":null,\"nonselection_glyph\":{\"id\":\"29708e40-28d5-4e39-8196-c1ab1de99c1b\",\"type\":\"HBar\"},\"selection_glyph\":null,\"view\":{\"id\":\"5388bfa2-90f0-4688-9955-f8d0609550bb\",\"type\":\"CDSView\"}},\"id\":\"6705df86-543a-4f24-a916-46f4abc15c34\",\"type\":\"GlyphRenderer\"},{\"attributes\":{},\"id\":\"91d60f32-16e4-4f7b-a64a-e1f174bcd28b\",\"type\":\"WheelZoomTool\"},{\"attributes\":{\"callback\":null},\"id\":\"d84163af-86b8-4490-9f77-3edbd0290693\",\"type\":\"Range1d\"},{\"attributes\":{},\"id\":\"754ddff8-7b98-421c-b736-0e33977352c3\",\"type\":\"LinearScale\"},{\"attributes\":{},\"id\":\"c39fa022-146e-4b6a-8214-2e2a8ff7ce48\",\"type\":\"ResetTool\"},{\"attributes\":{},\"id\":\"db404bc4-8e69-46bf-889f-1d50dbd482a4\",\"type\":\"BasicTickFormatter\"},{\"attributes\":{\"fill_color\":{\"value\":\"navy\"},\"height\":{\"value\":0.09000000000000001},\"line_color\":{\"value\":\"navy\"},\"right\":{\"field\":\"right\"},\"y\":{\"field\":\"y\"}},\"id\":\"b1554cbc-df2c-4d85-8533-5b3c0ab73dbb\",\"type\":\"HBar\"},{\"attributes\":{\"bottom_units\":\"screen\",\"fill_alpha\":{\"value\":0.5},\"fill_color\":{\"value\":\"lightgrey\"},\"left_units\":\"screen\",\"level\":\"overlay\",\"line_alpha\":{\"value\":1.0},\"line_color\":{\"value\":\"black\"},\"line_dash\":[4,4],\"line_width\":{\"value\":2},\"plot\":null,\"render_mode\":\"css\",\"right_units\":\"screen\",\"top_units\":\"screen\"},\"id\":\"e4f475bc-8ccc-41cc-b533-778d54735202\",\"type\":\"BoxAnnotation\"},{\"attributes\":{},\"id\":\"49eb6c3e-a700-4df4-aa91-be502bd53d13\",\"type\":\"BasicTicker\"},{\"attributes\":{},\"id\":\"da9babb4-efe3-4336-bc27-de84c72ecc2d\",\"type\":\"HelpTool\"},{\"attributes\":{\"dimension\":1,\"plot\":{\"id\":\"c4abf5ea-337a-448e-b239-3d20224bae23\",\"subtype\":\"Figure\",\"type\":\"Plot\"},\"ticker\":{\"id\":\"49eb6c3e-a700-4df4-aa91-be502bd53d13\",\"type\":\"BasicTicker\"}},\"id\":\"e99154a3-3163-41c3-b394-186924ab45ce\",\"type\":\"Grid\"},{\"attributes\":{},\"id\":\"f80dda00-13c9-4b3f-86e1-f47367fab9ce\",\"type\":\"BasicTicker\"},{\"attributes\":{\"plot\":null,\"text\":\"(Don't) Merge Counts by score\"},\"id\":\"ea7b0f27-4b12-4083-958c-38057255b9b3\",\"type\":\"Title\"},{\"attributes\":{},\"id\":\"36ad121a-5d79-4744-9aaf-4627598b1c43\",\"type\":\"Selection\"},{\"attributes\":{\"callback\":null,\"data\":{\"left\":[-27494,-28686,-14853,-9681,-7536,-7267,-9735,-12804,-20195,-58931],\"y\":{\"__ndarray__\":\"mpmZmZmZqT80MzMzMzPDPwAAAAAAANA/Z2ZmZmZm1j/NzMzMzMzcP5qZmZmZmeE/zszMzMzM5D8AAAAAAADoPzQzMzMzM+s/ZmZmZmZm7j8=\",\"dtype\":\"float64\",\"shape\":[10]}},\"selected\":{\"id\":\"4ac5b516-8f67-4e61-a627-3d8ab8669a35\",\"type\":\"Selection\"},\"selection_policy\":{\"id\":\"482663d9-cbff-4a84-87de-463b0c909b4d\",\"type\":\"UnionRenderers\"}},\"id\":\"69938ad4-e47e-4033-9cc5-fa90b8f8c52d\",\"type\":\"ColumnDataSource\"},{\"attributes\":{\"axis_label\":\"Decision Counts (Don't Merge/Merge)\",\"formatter\":{\"id\":\"db404bc4-8e69-46bf-889f-1d50dbd482a4\",\"type\":\"BasicTickFormatter\"},\"plot\":{\"id\":\"c4abf5ea-337a-448e-b239-3d20224bae23\",\"subtype\":\"Figure\",\"type\":\"Plot\"},\"ticker\":{\"id\":\"f80dda00-13c9-4b3f-86e1-f47367fab9ce\",\"type\":\"BasicTicker\"}},\"id\":\"2ad7ce05-14e6-4c09-99db-0e41f9d5e7d6\",\"type\":\"LinearAxis\"},{\"attributes\":{\"source\":{\"id\":\"69938ad4-e47e-4033-9cc5-fa90b8f8c52d\",\"type\":\"ColumnDataSource\"}},\"id\":\"ba8531a1-e48b-4fff-a3e8-d52146a14bbf\",\"type\":\"CDSView\"},{\"attributes\":{\"data_source\":{\"id\":\"69938ad4-e47e-4033-9cc5-fa90b8f8c52d\",\"type\":\"ColumnDataSource\"},\"glyph\":{\"id\":\"d39e6566-c861-441b-a704-fe181703f725\",\"type\":\"HBar\"},\"hover_glyph\":null,\"muted_glyph\":null,\"nonselection_glyph\":{\"id\":\"4e6a92ca-e243-4da5-ad02-4b173f909fce\",\"type\":\"HBar\"},\"selection_glyph\":null,\"view\":{\"id\":\"ba8531a1-e48b-4fff-a3e8-d52146a14bbf\",\"type\":\"CDSView\"}},\"id\":\"0d6cdf92-6e82-4b9d-a9ee-d8a87989f7fb\",\"type\":\"GlyphRenderer\"},{\"attributes\":{\"callback\":null,\"end\":67107.6,\"start\":-61877.55},\"id\":\"c9ebb473-05b2-4f39-95e0-873f7b2b5704\",\"type\":\"Range1d\"},{\"attributes\":{},\"id\":\"76534a3b-d987-400c-9c53-cb695cfb9d0d\",\"type\":\"SaveTool\"},{\"attributes\":{\"fill_alpha\":{\"value\":0.1},\"fill_color\":{\"value\":\"#1f77b4\"},\"height\":{\"value\":0.09000000000000001},\"left\":{\"field\":\"left\"},\"line_alpha\":{\"value\":0.1},\"line_color\":{\"value\":\"#1f77b4\"},\"right\":{\"value\":0},\"y\":{\"field\":\"y\"}},\"id\":\"4e6a92ca-e243-4da5-ad02-4b173f909fce\",\"type\":\"HBar\"},{\"attributes\":{\"active_drag\":\"auto\",\"active_inspect\":\"auto\",\"active_multi\":null,\"active_scroll\":\"auto\",\"active_tap\":\"auto\",\"tools\":[{\"id\":\"14210731-0570-4297-9c7f-7f398f2cfd72\",\"type\":\"PanTool\"},{\"id\":\"91d60f32-16e4-4f7b-a64a-e1f174bcd28b\",\"type\":\"WheelZoomTool\"},{\"id\":\"06fc0cdf-edac-4b01-8f61-8d91331087fa\",\"type\":\"BoxZoomTool\"},{\"id\":\"76534a3b-d987-400c-9c53-cb695cfb9d0d\",\"type\":\"SaveTool\"},{\"id\":\"c39fa022-146e-4b6a-8214-2e2a8ff7ce48\",\"type\":\"ResetTool\"},{\"id\":\"da9babb4-efe3-4336-bc27-de84c72ecc2d\",\"type\":\"HelpTool\"}]},\"id\":\"a483ab97-ff4a-4594-ac61-913ac01ef886\",\"type\":\"Toolbar\"},{\"attributes\":{\"source\":{\"id\":\"6e4fc9db-7ade-40a4-9864-be1253575552\",\"type\":\"ColumnDataSource\"}},\"id\":\"5388bfa2-90f0-4688-9955-f8d0609550bb\",\"type\":\"CDSView\"},{\"attributes\":{\"fill_color\":{\"value\":\"crimson\"},\"height\":{\"value\":0.09000000000000001},\"left\":{\"field\":\"left\"},\"line_color\":{\"value\":\"crimson\"},\"right\":{\"value\":0},\"y\":{\"field\":\"y\"}},\"id\":\"d39e6566-c861-441b-a704-fe181703f725\",\"type\":\"HBar\"},{\"attributes\":{\"axis_label\":\"score (bin = 0.1)\",\"formatter\":{\"id\":\"b23c92a6-3168-4b41-ae55-6cf625d52159\",\"type\":\"BasicTickFormatter\"},\"plot\":{\"id\":\"c4abf5ea-337a-448e-b239-3d20224bae23\",\"subtype\":\"Figure\",\"type\":\"Plot\"},\"ticker\":{\"id\":\"49eb6c3e-a700-4df4-aa91-be502bd53d13\",\"type\":\"BasicTicker\"}},\"id\":\"bdee298f-91a2-4c3e-a6c8-71ecc56ef063\",\"type\":\"LinearAxis\"},{\"attributes\":{},\"id\":\"b23c92a6-3168-4b41-ae55-6cf625d52159\",\"type\":\"BasicTickFormatter\"},{\"attributes\":{},\"id\":\"482663d9-cbff-4a84-87de-463b0c909b4d\",\"type\":\"UnionRenderers\"},{\"attributes\":{\"overlay\":{\"id\":\"e4f475bc-8ccc-41cc-b533-778d54735202\",\"type\":\"BoxAnnotation\"}},\"id\":\"06fc0cdf-edac-4b01-8f61-8d91331087fa\",\"type\":\"BoxZoomTool\"},{\"attributes\":{\"below\":[{\"id\":\"2ad7ce05-14e6-4c09-99db-0e41f9d5e7d6\",\"type\":\"LinearAxis\"}],\"left\":[{\"id\":\"bdee298f-91a2-4c3e-a6c8-71ecc56ef063\",\"type\":\"LinearAxis\"}],\"plot_height\":400,\"renderers\":[{\"id\":\"2ad7ce05-14e6-4c09-99db-0e41f9d5e7d6\",\"type\":\"LinearAxis\"},{\"id\":\"5d85f9c9-c17f-4a58-8a4f-e440199cd470\",\"type\":\"Grid\"},{\"id\":\"bdee298f-91a2-4c3e-a6c8-71ecc56ef063\",\"type\":\"LinearAxis\"},{\"id\":\"e99154a3-3163-41c3-b394-186924ab45ce\",\"type\":\"Grid\"},{\"id\":\"e4f475bc-8ccc-41cc-b533-778d54735202\",\"type\":\"BoxAnnotation\"},{\"id\":\"6705df86-543a-4f24-a916-46f4abc15c34\",\"type\":\"GlyphRenderer\"},{\"id\":\"0d6cdf92-6e82-4b9d-a9ee-d8a87989f7fb\",\"type\":\"GlyphRenderer\"}],\"title\":{\"id\":\"ea7b0f27-4b12-4083-958c-38057255b9b3\",\"type\":\"Title\"},\"toolbar\":{\"id\":\"a483ab97-ff4a-4594-ac61-913ac01ef886\",\"type\":\"Toolbar\"},\"x_range\":{\"id\":\"c9ebb473-05b2-4f39-95e0-873f7b2b5704\",\"type\":\"Range1d\"},\"x_scale\":{\"id\":\"754ddff8-7b98-421c-b736-0e33977352c3\",\"type\":\"LinearScale\"},\"y_range\":{\"id\":\"d84163af-86b8-4490-9f77-3edbd0290693\",\"type\":\"Range1d\"},\"y_scale\":{\"id\":\"6ecd1891-a251-42e2-946a-891870214435\",\"type\":\"LinearScale\"}},\"id\":\"c4abf5ea-337a-448e-b239-3d20224bae23\",\"subtype\":\"Figure\",\"type\":\"Plot\"},{\"attributes\":{\"callback\":null,\"data\":{\"right\":[11111,15369,12334,10426,10191,12078,12565,16719,19302,63912],\"y\":{\"__ndarray__\":\"mpmZmZmZqT80MzMzMzPDPwAAAAAAANA/Z2ZmZmZm1j/NzMzMzMzcP5qZmZmZmeE/zszMzMzM5D8AAAAAAADoPzQzMzMzM+s/ZmZmZmZm7j8=\",\"dtype\":\"float64\",\"shape\":[10]}},\"selected\":{\"id\":\"36ad121a-5d79-4744-9aaf-4627598b1c43\",\"type\":\"Selection\"},\"selection_policy\":{\"id\":\"283454f9-fea8-4560-95f3-2f5a84abb6b3\",\"type\":\"UnionRenderers\"}},\"id\":\"6e4fc9db-7ade-40a4-9864-be1253575552\",\"type\":\"ColumnDataSource\"},{\"attributes\":{\"fill_alpha\":{\"value\":0.1},\"fill_color\":{\"value\":\"#1f77b4\"},\"height\":{\"value\":0.09000000000000001},\"line_alpha\":{\"value\":0.1},\"line_color\":{\"value\":\"#1f77b4\"},\"right\":{\"field\":\"right\"},\"y\":{\"field\":\"y\"}},\"id\":\"29708e40-28d5-4e39-8196-c1ab1de99c1b\",\"type\":\"HBar\"}],\"root_ids\":[\"c4abf5ea-337a-448e-b239-3d20224bae23\"]},\"title\":\"Bokeh Application\",\"version\":\"0.13.0\"}};\n",
       "  var render_items = [{\"docid\":\"1e952287-c312-4213-ba40-a73a78be3feb\",\"roots\":{\"c4abf5ea-337a-448e-b239-3d20224bae23\":\"02aac8b5-4c00-4936-9270-81a7b1a294b8\"}}];\n",
       "  root.Bokeh.embed.embed_items_notebook(docs_json, render_items);\n",
       "\n",
       "  }\n",
       "  if (root.Bokeh !== undefined) {\n",
       "    embed_document(root);\n",
       "  } else {\n",
       "    var attempts = 0;\n",
       "    var timer = setInterval(function(root) {\n",
       "      if (root.Bokeh !== undefined) {\n",
       "        embed_document(root);\n",
       "        clearInterval(timer);\n",
       "      }\n",
       "      attempts++;\n",
       "      if (attempts > 100) {\n",
       "        console.log(\"Bokeh: ERROR: Unable to run BokehJS code because BokehJS library is missing\")\n",
       "        clearInterval(timer);\n",
       "      }\n",
       "    }, 10, root)\n",
       "  }\n",
       "})(window);"
      ],
      "application/vnd.bokehjs_exec.v0+json": ""
     },
     "metadata": {
      "application/vnd.bokehjs_exec.v0+json": {
       "id": "c4abf5ea-337a-448e-b239-3d20224bae23"
      }
     },
     "output_type": "display_data"
    },
    {
     "data": {
      "text/html": [
       "\n",
       "\n",
       "\n",
       "\n",
       "\n",
       "\n",
       "  <div class=\"bk-root\" id=\"d6c10a4e-cc90-4ee0-b3a3-0e2a2f7f78f9\"></div>\n"
      ]
     },
     "metadata": {},
     "output_type": "display_data"
    },
    {
     "data": {
      "application/javascript": [
       "(function(root) {\n",
       "  function embed_document(root) {\n",
       "    \n",
       "  var docs_json = {\"558cd681-2801-42d6-8a81-867c7898b2da\":{\"roots\":{\"references\":[{\"attributes\":{\"dimension\":1,\"plot\":{\"id\":\"aeb9e22a-9969-49db-a6c9-8607a65acb09\",\"subtype\":\"Figure\",\"type\":\"Plot\"},\"ticker\":{\"id\":\"8283d302-ce3e-4909-b280-09b25816db53\",\"type\":\"BasicTicker\"}},\"id\":\"4c886271-be3b-4443-afad-4c03bf146090\",\"type\":\"Grid\"},{\"attributes\":{\"data_source\":{\"id\":\"6da2f694-c417-4504-89c7-855203114d95\",\"type\":\"ColumnDataSource\"},\"glyph\":{\"id\":\"64b7243c-9d0c-46a3-a144-79f2bf9d1918\",\"type\":\"HBar\"},\"hover_glyph\":null,\"muted_glyph\":null,\"nonselection_glyph\":{\"id\":\"f32c0655-54a8-4edc-86ac-90e163833bdf\",\"type\":\"HBar\"},\"selection_glyph\":null,\"view\":{\"id\":\"15408567-3a0d-484f-a245-e0c3a008986a\",\"type\":\"CDSView\"}},\"id\":\"3489ad0e-54f3-4823-9e82-ea1d84cadb8d\",\"type\":\"GlyphRenderer\"},{\"attributes\":{\"source\":{\"id\":\"a706ffc4-ca84-483d-8b1c-01ba3d0c3f14\",\"type\":\"ColumnDataSource\"}},\"id\":\"43813538-5795-4966-a13e-3f048620c061\",\"type\":\"CDSView\"},{\"attributes\":{},\"id\":\"662eac86-ed55-4a8d-be40-280e4248b8c9\",\"type\":\"LinearScale\"},{\"attributes\":{},\"id\":\"aa18f3cc-4d6b-484c-9dd9-2256bd6440be\",\"type\":\"PanTool\"},{\"attributes\":{},\"id\":\"896f02a8-9646-4ed8-b792-1f06842765ca\",\"type\":\"BasicTickFormatter\"},{\"attributes\":{},\"id\":\"8600d063-0668-492c-a8ff-33f475128eee\",\"type\":\"LinearScale\"},{\"attributes\":{\"bottom_units\":\"screen\",\"fill_alpha\":{\"value\":0.5},\"fill_color\":{\"value\":\"lightgrey\"},\"left_units\":\"screen\",\"level\":\"overlay\",\"line_alpha\":{\"value\":1.0},\"line_color\":{\"value\":\"black\"},\"line_dash\":[4,4],\"line_width\":{\"value\":2},\"plot\":null,\"render_mode\":\"css\",\"right_units\":\"screen\",\"top_units\":\"screen\"},\"id\":\"cb9fd6b8-7d7b-46eb-9e7b-274b7643adfc\",\"type\":\"BoxAnnotation\"},{\"attributes\":{\"below\":[{\"id\":\"4a8769e9-b260-43b0-9278-062f67e8eebc\",\"type\":\"LinearAxis\"}],\"left\":[{\"id\":\"28e6e8ee-0a9e-457b-acd2-b2e3eafd7f30\",\"type\":\"LinearAxis\"}],\"plot_height\":400,\"renderers\":[{\"id\":\"4a8769e9-b260-43b0-9278-062f67e8eebc\",\"type\":\"LinearAxis\"},{\"id\":\"a11f7ec8-d4a4-40f3-85d3-80ee77e02b17\",\"type\":\"Grid\"},{\"id\":\"28e6e8ee-0a9e-457b-acd2-b2e3eafd7f30\",\"type\":\"LinearAxis\"},{\"id\":\"4c886271-be3b-4443-afad-4c03bf146090\",\"type\":\"Grid\"},{\"id\":\"cb9fd6b8-7d7b-46eb-9e7b-274b7643adfc\",\"type\":\"BoxAnnotation\"},{\"id\":\"0eeeb35a-999b-4f54-9e36-2908b384bcf6\",\"type\":\"GlyphRenderer\"},{\"id\":\"3489ad0e-54f3-4823-9e82-ea1d84cadb8d\",\"type\":\"GlyphRenderer\"}],\"title\":{\"id\":\"16a4c8ca-1955-48f1-b82b-e418ba74d9b0\",\"type\":\"Title\"},\"toolbar\":{\"id\":\"7a42b513-1ece-42d0-bf2b-58c8f2079a50\",\"type\":\"Toolbar\"},\"x_range\":{\"id\":\"cf6df793-2293-4a0a-aa97-e3b67ad7dbfa\",\"type\":\"Range1d\"},\"x_scale\":{\"id\":\"662eac86-ed55-4a8d-be40-280e4248b8c9\",\"type\":\"LinearScale\"},\"y_range\":{\"id\":\"bb5c7207-4369-4b17-81fe-5f7cb31885fd\",\"type\":\"Range1d\"},\"y_scale\":{\"id\":\"8600d063-0668-492c-a8ff-33f475128eee\",\"type\":\"LinearScale\"}},\"id\":\"aeb9e22a-9969-49db-a6c9-8607a65acb09\",\"subtype\":\"Figure\",\"type\":\"Plot\"},{\"attributes\":{\"fill_color\":{\"value\":\"navy\"},\"height\":{\"value\":0.9},\"line_color\":{\"value\":\"navy\"},\"right\":{\"field\":\"right\"},\"y\":{\"field\":\"y\"}},\"id\":\"7c3f3428-53b7-4a07-b46a-3334265f2948\",\"type\":\"HBar\"},{\"attributes\":{\"fill_color\":{\"value\":\"crimson\"},\"height\":{\"value\":0.9},\"left\":{\"field\":\"left\"},\"line_color\":{\"value\":\"crimson\"},\"right\":{\"value\":0},\"y\":{\"field\":\"y\"}},\"id\":\"64b7243c-9d0c-46a3-a144-79f2bf9d1918\",\"type\":\"HBar\"},{\"attributes\":{},\"id\":\"6eb92ed4-50f3-4d07-b6a4-48e7a3d28324\",\"type\":\"UnionRenderers\"},{\"attributes\":{\"active_drag\":\"auto\",\"active_inspect\":\"auto\",\"active_multi\":null,\"active_scroll\":\"auto\",\"active_tap\":\"auto\",\"tools\":[{\"id\":\"aa18f3cc-4d6b-484c-9dd9-2256bd6440be\",\"type\":\"PanTool\"},{\"id\":\"1be8e87d-970c-4b07-993b-a278410947aa\",\"type\":\"WheelZoomTool\"},{\"id\":\"b99939ed-c61e-4b60-bc8e-fc785f787ee3\",\"type\":\"BoxZoomTool\"},{\"id\":\"fe903d41-b7bb-4541-9443-15b802d61aae\",\"type\":\"SaveTool\"},{\"id\":\"4a4dfcc0-a73f-4900-96ef-ca70ce4b52ed\",\"type\":\"ResetTool\"},{\"id\":\"2e78f8db-ba6b-4668-9768-063eef71e697\",\"type\":\"HelpTool\"}]},\"id\":\"7a42b513-1ece-42d0-bf2b-58c8f2079a50\",\"type\":\"Toolbar\"},{\"attributes\":{},\"id\":\"1be8e87d-970c-4b07-993b-a278410947aa\",\"type\":\"WheelZoomTool\"},{\"attributes\":{\"plot\":{\"id\":\"aeb9e22a-9969-49db-a6c9-8607a65acb09\",\"subtype\":\"Figure\",\"type\":\"Plot\"},\"ticker\":{\"id\":\"1fbdbcbb-45b9-4c73-a3ea-9d318c4163f1\",\"type\":\"BasicTicker\"}},\"id\":\"a11f7ec8-d4a4-40f3-85d3-80ee77e02b17\",\"type\":\"Grid\"},{\"attributes\":{\"plot\":null,\"text\":\"(Don't) Merge Counts by PreSyn_smaller\"},\"id\":\"16a4c8ca-1955-48f1-b82b-e418ba74d9b0\",\"type\":\"Title\"},{\"attributes\":{},\"id\":\"1fbdbcbb-45b9-4c73-a3ea-9d318c4163f1\",\"type\":\"BasicTicker\"},{\"attributes\":{},\"id\":\"2e78f8db-ba6b-4668-9768-063eef71e697\",\"type\":\"HelpTool\"},{\"attributes\":{},\"id\":\"f8bf8904-48ce-4304-bdac-7a0b7d8ac875\",\"type\":\"UnionRenderers\"},{\"attributes\":{},\"id\":\"4a4dfcc0-a73f-4900-96ef-ca70ce4b52ed\",\"type\":\"ResetTool\"},{\"attributes\":{},\"id\":\"55443958-8865-41ee-a06a-a095b840133e\",\"type\":\"BasicTickFormatter\"},{\"attributes\":{\"data_source\":{\"id\":\"a706ffc4-ca84-483d-8b1c-01ba3d0c3f14\",\"type\":\"ColumnDataSource\"},\"glyph\":{\"id\":\"7c3f3428-53b7-4a07-b46a-3334265f2948\",\"type\":\"HBar\"},\"hover_glyph\":null,\"muted_glyph\":null,\"nonselection_glyph\":{\"id\":\"18ad18e2-4ff1-460c-bc99-ecf34eb026c6\",\"type\":\"HBar\"},\"selection_glyph\":null,\"view\":{\"id\":\"43813538-5795-4966-a13e-3f048620c061\",\"type\":\"CDSView\"}},\"id\":\"0eeeb35a-999b-4f54-9e36-2908b384bcf6\",\"type\":\"GlyphRenderer\"},{\"attributes\":{\"overlay\":{\"id\":\"cb9fd6b8-7d7b-46eb-9e7b-274b7643adfc\",\"type\":\"BoxAnnotation\"}},\"id\":\"b99939ed-c61e-4b60-bc8e-fc785f787ee3\",\"type\":\"BoxZoomTool\"},{\"attributes\":{\"axis_label\":\"Decision Counts (Don't Merge/Merge)\",\"formatter\":{\"id\":\"896f02a8-9646-4ed8-b792-1f06842765ca\",\"type\":\"BasicTickFormatter\"},\"plot\":{\"id\":\"aeb9e22a-9969-49db-a6c9-8607a65acb09\",\"subtype\":\"Figure\",\"type\":\"Plot\"},\"ticker\":{\"id\":\"1fbdbcbb-45b9-4c73-a3ea-9d318c4163f1\",\"type\":\"BasicTicker\"}},\"id\":\"4a8769e9-b260-43b0-9278-062f67e8eebc\",\"type\":\"LinearAxis\"},{\"attributes\":{},\"id\":\"fe903d41-b7bb-4541-9443-15b802d61aae\",\"type\":\"SaveTool\"},{\"attributes\":{\"axis_label\":\"PreSyn_smaller (bin = 1)\",\"formatter\":{\"id\":\"55443958-8865-41ee-a06a-a095b840133e\",\"type\":\"BasicTickFormatter\"},\"plot\":{\"id\":\"aeb9e22a-9969-49db-a6c9-8607a65acb09\",\"subtype\":\"Figure\",\"type\":\"Plot\"},\"ticker\":{\"id\":\"8283d302-ce3e-4909-b280-09b25816db53\",\"type\":\"BasicTicker\"}},\"id\":\"28e6e8ee-0a9e-457b-acd2-b2e3eafd7f30\",\"type\":\"LinearAxis\"},{\"attributes\":{\"source\":{\"id\":\"6da2f694-c417-4504-89c7-855203114d95\",\"type\":\"ColumnDataSource\"}},\"id\":\"15408567-3a0d-484f-a245-e0c3a008986a\",\"type\":\"CDSView\"},{\"attributes\":{\"callback\":null,\"end\":50},\"id\":\"bb5c7207-4369-4b17-81fe-5f7cb31885fd\",\"type\":\"Range1d\"},{\"attributes\":{},\"id\":\"18de5dc4-d3ce-4876-bb2a-1b4096257134\",\"type\":\"Selection\"},{\"attributes\":{\"fill_alpha\":{\"value\":0.1},\"fill_color\":{\"value\":\"#1f77b4\"},\"height\":{\"value\":0.9},\"line_alpha\":{\"value\":0.1},\"line_color\":{\"value\":\"#1f77b4\"},\"right\":{\"field\":\"right\"},\"y\":{\"field\":\"y\"}},\"id\":\"18ad18e2-4ff1-460c-bc99-ecf34eb026c6\",\"type\":\"HBar\"},{\"attributes\":{\"fill_alpha\":{\"value\":0.1},\"fill_color\":{\"value\":\"#1f77b4\"},\"height\":{\"value\":0.9},\"left\":{\"field\":\"left\"},\"line_alpha\":{\"value\":0.1},\"line_color\":{\"value\":\"#1f77b4\"},\"right\":{\"value\":0},\"y\":{\"field\":\"y\"}},\"id\":\"f32c0655-54a8-4edc-86ac-90e163833bdf\",\"type\":\"HBar\"},{\"attributes\":{\"callback\":null,\"end\":56658.0,\"start\":-40089.0},\"id\":\"cf6df793-2293-4a0a-aa97-e3b67ad7dbfa\",\"type\":\"Range1d\"},{\"attributes\":{\"callback\":null,\"data\":{\"left\":[-19824,-5342,-38180,-22994,-15703,-11526,-8597,-7032,-5859,-4652,-3942,-3543,-2969,-2626,-2373,-2136,-1906,-1749,-1582,-1430,-1361,-1308,-1133,-1032,-992,-969,-858,-863,-772,-771,-716,-696,-634,-566,-579,-516,-560,-486,-463,-420,-428,-418,-363,-341,-352,-318,-330,-322,-307,-609],\"y\":{\"__ndarray__\":\"AAAAAAAA4D8AAAAAAAD4PwAAAAAAAARAAAAAAAAADEAAAAAAAAASQAAAAAAAABZAAAAAAAAAGkAAAAAAAAAeQAAAAAAAACFAAAAAAAAAI0AAAAAAAAAlQAAAAAAAACdAAAAAAAAAKUAAAAAAAAArQAAAAAAAAC1AAAAAAAAAL0AAAAAAAIAwQAAAAAAAgDFAAAAAAACAMkAAAAAAAIAzQAAAAAAAgDRAAAAAAACANUAAAAAAAIA2QAAAAAAAgDdAAAAAAACAOEAAAAAAAIA5QAAAAAAAgDpAAAAAAACAO0AAAAAAAIA8QAAAAAAAgD1AAAAAAACAPkAAAAAAAIA/QAAAAAAAQEBAAAAAAADAQEAAAAAAAEBBQAAAAAAAwEFAAAAAAABAQkAAAAAAAMBCQAAAAAAAQENAAAAAAADAQ0AAAAAAAEBEQAAAAAAAwERAAAAAAABARUAAAAAAAMBFQAAAAAAAQEZAAAAAAADARkAAAAAAAEBHQAAAAAAAwEdAAAAAAABASEAAAAAAAMBIQA==\",\"dtype\":\"float64\",\"shape\":[50]}},\"selected\":{\"id\":\"18de5dc4-d3ce-4876-bb2a-1b4096257134\",\"type\":\"Selection\"},\"selection_policy\":{\"id\":\"6eb92ed4-50f3-4d07-b6a4-48e7a3d28324\",\"type\":\"UnionRenderers\"}},\"id\":\"6da2f694-c417-4504-89c7-855203114d95\",\"type\":\"ColumnDataSource\"},{\"attributes\":{\"callback\":null,\"data\":{\"right\":[15027,3805,53960,27506,17525,12173,8720,6599,5064,3915,3214,2759,2251,1889,1641,1426,1233,1011,979,849,705,693,608,533,507,495,422,405,342,379,330,306,261,278,253,248,243,214,173,197,171,175,142,125,129,113,122,119,131,202],\"y\":{\"__ndarray__\":\"AAAAAAAA4D8AAAAAAAD4PwAAAAAAAARAAAAAAAAADEAAAAAAAAASQAAAAAAAABZAAAAAAAAAGkAAAAAAAAAeQAAAAAAAACFAAAAAAAAAI0AAAAAAAAAlQAAAAAAAACdAAAAAAAAAKUAAAAAAAAArQAAAAAAAAC1AAAAAAAAAL0AAAAAAAIAwQAAAAAAAgDFAAAAAAACAMkAAAAAAAIAzQAAAAAAAgDRAAAAAAACANUAAAAAAAIA2QAAAAAAAgDdAAAAAAACAOEAAAAAAAIA5QAAAAAAAgDpAAAAAAACAO0AAAAAAAIA8QAAAAAAAgD1AAAAAAACAPkAAAAAAAIA/QAAAAAAAQEBAAAAAAADAQEAAAAAAAEBBQAAAAAAAwEFAAAAAAABAQkAAAAAAAMBCQAAAAAAAQENAAAAAAADAQ0AAAAAAAEBEQAAAAAAAwERAAAAAAABARUAAAAAAAMBFQAAAAAAAQEZAAAAAAADARkAAAAAAAEBHQAAAAAAAwEdAAAAAAABASEAAAAAAAMBIQA==\",\"dtype\":\"float64\",\"shape\":[50]}},\"selected\":{\"id\":\"80f51aca-1162-40c9-aad8-61ed6ff346a9\",\"type\":\"Selection\"},\"selection_policy\":{\"id\":\"f8bf8904-48ce-4304-bdac-7a0b7d8ac875\",\"type\":\"UnionRenderers\"}},\"id\":\"a706ffc4-ca84-483d-8b1c-01ba3d0c3f14\",\"type\":\"ColumnDataSource\"},{\"attributes\":{},\"id\":\"8283d302-ce3e-4909-b280-09b25816db53\",\"type\":\"BasicTicker\"},{\"attributes\":{},\"id\":\"80f51aca-1162-40c9-aad8-61ed6ff346a9\",\"type\":\"Selection\"}],\"root_ids\":[\"aeb9e22a-9969-49db-a6c9-8607a65acb09\"]},\"title\":\"Bokeh Application\",\"version\":\"0.13.0\"}};\n",
       "  var render_items = [{\"docid\":\"558cd681-2801-42d6-8a81-867c7898b2da\",\"roots\":{\"aeb9e22a-9969-49db-a6c9-8607a65acb09\":\"d6c10a4e-cc90-4ee0-b3a3-0e2a2f7f78f9\"}}];\n",
       "  root.Bokeh.embed.embed_items_notebook(docs_json, render_items);\n",
       "\n",
       "  }\n",
       "  if (root.Bokeh !== undefined) {\n",
       "    embed_document(root);\n",
       "  } else {\n",
       "    var attempts = 0;\n",
       "    var timer = setInterval(function(root) {\n",
       "      if (root.Bokeh !== undefined) {\n",
       "        embed_document(root);\n",
       "        clearInterval(timer);\n",
       "      }\n",
       "      attempts++;\n",
       "      if (attempts > 100) {\n",
       "        console.log(\"Bokeh: ERROR: Unable to run BokehJS code because BokehJS library is missing\")\n",
       "        clearInterval(timer);\n",
       "      }\n",
       "    }, 10, root)\n",
       "  }\n",
       "})(window);"
      ],
      "application/vnd.bokehjs_exec.v0+json": ""
     },
     "metadata": {
      "application/vnd.bokehjs_exec.v0+json": {
       "id": "aeb9e22a-9969-49db-a6c9-8607a65acb09"
      }
     },
     "output_type": "display_data"
    },
    {
     "data": {
      "text/html": [
       "\n",
       "\n",
       "\n",
       "\n",
       "\n",
       "\n",
       "  <div class=\"bk-root\" id=\"8bf2d60d-ef4c-4420-a7de-199f9eebc1f4\"></div>\n"
      ]
     },
     "metadata": {},
     "output_type": "display_data"
    },
    {
     "data": {
      "application/javascript": [
       "(function(root) {\n",
       "  function embed_document(root) {\n",
       "    \n",
       "  var docs_json = {\"8182e3d7-045e-4e28-8f65-9fc869265d49\":{\"roots\":{\"references\":[{\"attributes\":{},\"id\":\"a5efb2ed-f576-4e3a-a9a6-2dc5a8acb4af\",\"type\":\"LinearScale\"},{\"attributes\":{\"fill_alpha\":{\"value\":0.1},\"fill_color\":{\"value\":\"#1f77b4\"},\"height\":{\"value\":0.9},\"line_alpha\":{\"value\":0.1},\"line_color\":{\"value\":\"#1f77b4\"},\"right\":{\"field\":\"right\"},\"y\":{\"field\":\"y\"}},\"id\":\"1a03d8f3-50d7-4243-90b7-34a68851085e\",\"type\":\"HBar\"},{\"attributes\":{\"callback\":null,\"end\":7827.75,\"start\":-5622.75},\"id\":\"84888164-2e85-487f-aa5b-38b2b6eedb00\",\"type\":\"Range1d\"},{\"attributes\":{\"callback\":null,\"end\":50},\"id\":\"195516d7-82d7-4ed4-afc7-ade299840005\",\"type\":\"Range1d\"},{\"attributes\":{},\"id\":\"a31313bb-1cbd-441f-ad18-68ce511831a7\",\"type\":\"UnionRenderers\"},{\"attributes\":{\"data_source\":{\"id\":\"e44eacf8-db43-435c-8db9-91bbd6598c10\",\"type\":\"ColumnDataSource\"},\"glyph\":{\"id\":\"348782e8-6b6b-40bd-9f47-94e75bce250a\",\"type\":\"HBar\"},\"hover_glyph\":null,\"muted_glyph\":null,\"nonselection_glyph\":{\"id\":\"1a03d8f3-50d7-4243-90b7-34a68851085e\",\"type\":\"HBar\"},\"selection_glyph\":null,\"view\":{\"id\":\"5282ec68-3f4e-48be-863f-84847ca37cca\",\"type\":\"CDSView\"}},\"id\":\"c383ac24-322d-45ea-ac79-5a3ccf3179ff\",\"type\":\"GlyphRenderer\"},{\"attributes\":{},\"id\":\"d508b19f-8cc8-4d7b-a4ea-98b6182c097a\",\"type\":\"BasicTicker\"},{\"attributes\":{\"data_source\":{\"id\":\"f76ff9bf-6afa-4095-a86a-8db9ef6ce915\",\"type\":\"ColumnDataSource\"},\"glyph\":{\"id\":\"7743041b-50c8-4aca-8f0c-b4a4d8334b9e\",\"type\":\"HBar\"},\"hover_glyph\":null,\"muted_glyph\":null,\"nonselection_glyph\":{\"id\":\"f925f025-240f-46e1-b43a-7a8263f7f5df\",\"type\":\"HBar\"},\"selection_glyph\":null,\"view\":{\"id\":\"70916d8c-ea74-4c3f-83a6-46eb6484cb05\",\"type\":\"CDSView\"}},\"id\":\"643062f1-dc98-4cb8-b576-164a64bbeed5\",\"type\":\"GlyphRenderer\"},{\"attributes\":{},\"id\":\"5caf2092-8cb0-4c39-960d-8edb6d2aa298\",\"type\":\"BasicTicker\"},{\"attributes\":{\"fill_color\":{\"value\":\"crimson\"},\"height\":{\"value\":0.9},\"left\":{\"field\":\"left\"},\"line_color\":{\"value\":\"crimson\"},\"right\":{\"value\":0},\"y\":{\"field\":\"y\"}},\"id\":\"7743041b-50c8-4aca-8f0c-b4a4d8334b9e\",\"type\":\"HBar\"},{\"attributes\":{\"axis_label\":\"PreSyn_larger (bin = 1)\",\"formatter\":{\"id\":\"815d2179-6f3b-4e1b-bc64-80714990e1f2\",\"type\":\"BasicTickFormatter\"},\"plot\":{\"id\":\"61daa668-3d5b-44ca-835b-c50704977e6e\",\"subtype\":\"Figure\",\"type\":\"Plot\"},\"ticker\":{\"id\":\"5caf2092-8cb0-4c39-960d-8edb6d2aa298\",\"type\":\"BasicTicker\"}},\"id\":\"44d9e597-93a8-4ad1-8b07-f42575461615\",\"type\":\"LinearAxis\"},{\"attributes\":{\"axis_label\":\"Decision Counts (Don't Merge/Merge)\",\"formatter\":{\"id\":\"9602d5cb-1681-4ead-84eb-4fe335fa3276\",\"type\":\"BasicTickFormatter\"},\"plot\":{\"id\":\"61daa668-3d5b-44ca-835b-c50704977e6e\",\"subtype\":\"Figure\",\"type\":\"Plot\"},\"ticker\":{\"id\":\"d508b19f-8cc8-4d7b-a4ea-98b6182c097a\",\"type\":\"BasicTicker\"}},\"id\":\"b5c14663-1ddd-43f3-933a-4d36e7746f24\",\"type\":\"LinearAxis\"},{\"attributes\":{},\"id\":\"815d2179-6f3b-4e1b-bc64-80714990e1f2\",\"type\":\"BasicTickFormatter\"},{\"attributes\":{\"callback\":null,\"data\":{\"right\":[2092,653,5766,7455,6584,5991,5134,4617,3959,3410,3177,2977,2698,2529,2341,2178,2039,1865,1820,1741,1699,1666,1524,1327,1363,1414,1243,1272,1124,1268,1111,1213,1062,1044,992,1012,971,1035,880,846,800,877,739,847,778,753,700,763,770,1460],\"y\":{\"__ndarray__\":\"AAAAAAAA4D8AAAAAAAD4PwAAAAAAAARAAAAAAAAADEAAAAAAAAASQAAAAAAAABZAAAAAAAAAGkAAAAAAAAAeQAAAAAAAACFAAAAAAAAAI0AAAAAAAAAlQAAAAAAAACdAAAAAAAAAKUAAAAAAAAArQAAAAAAAAC1AAAAAAAAAL0AAAAAAAIAwQAAAAAAAgDFAAAAAAACAMkAAAAAAAIAzQAAAAAAAgDRAAAAAAACANUAAAAAAAIA2QAAAAAAAgDdAAAAAAACAOEAAAAAAAIA5QAAAAAAAgDpAAAAAAACAO0AAAAAAAIA8QAAAAAAAgD1AAAAAAACAPkAAAAAAAIA/QAAAAAAAQEBAAAAAAADAQEAAAAAAAEBBQAAAAAAAwEFAAAAAAABAQkAAAAAAAMBCQAAAAAAAQENAAAAAAADAQ0AAAAAAAEBEQAAAAAAAwERAAAAAAABARUAAAAAAAMBFQAAAAAAAQEZAAAAAAADARkAAAAAAAEBHQAAAAAAAwEdAAAAAAABASEAAAAAAAMBIQA==\",\"dtype\":\"float64\",\"shape\":[50]}},\"selected\":{\"id\":\"8e7bed45-3d7b-4bc5-9fc7-1bef260abbfe\",\"type\":\"Selection\"},\"selection_policy\":{\"id\":\"c34583d1-ce3e-4e48-8294-dc574c518434\",\"type\":\"UnionRenderers\"}},\"id\":\"e44eacf8-db43-435c-8db9-91bbd6598c10\",\"type\":\"ColumnDataSource\"},{\"attributes\":{\"source\":{\"id\":\"e44eacf8-db43-435c-8db9-91bbd6598c10\",\"type\":\"ColumnDataSource\"}},\"id\":\"5282ec68-3f4e-48be-863f-84847ca37cca\",\"type\":\"CDSView\"},{\"attributes\":{\"plot\":{\"id\":\"61daa668-3d5b-44ca-835b-c50704977e6e\",\"subtype\":\"Figure\",\"type\":\"Plot\"},\"ticker\":{\"id\":\"d508b19f-8cc8-4d7b-a4ea-98b6182c097a\",\"type\":\"BasicTicker\"}},\"id\":\"6f5e70f5-9751-4e36-ba1f-03ceb29fe892\",\"type\":\"Grid\"},{\"attributes\":{},\"id\":\"90abb8cb-d5b9-4bf3-b288-892ac7776326\",\"type\":\"PanTool\"},{\"attributes\":{\"fill_alpha\":{\"value\":0.1},\"fill_color\":{\"value\":\"#1f77b4\"},\"height\":{\"value\":0.9},\"left\":{\"field\":\"left\"},\"line_alpha\":{\"value\":0.1},\"line_color\":{\"value\":\"#1f77b4\"},\"right\":{\"value\":0},\"y\":{\"field\":\"y\"}},\"id\":\"f925f025-240f-46e1-b43a-7a8263f7f5df\",\"type\":\"HBar\"},{\"attributes\":{\"callback\":null,\"data\":{\"left\":[-2558,-884,-4036,-5355,-5212,-5021,-4595,-4163,-3763,-3350,-3187,-2991,-2685,-2616,-2388,-2250,-2066,-2093,-1870,-1975,-1781,-1789,-1705,-1454,-1552,-1595,-1549,-1435,-1365,-1491,-1287,-1451,-1183,-1247,-1156,-1158,-1162,-1111,-1073,-968,-1022,-1036,-935,-959,-880,-921,-840,-908,-805,-1656],\"y\":{\"__ndarray__\":\"AAAAAAAA4D8AAAAAAAD4PwAAAAAAAARAAAAAAAAADEAAAAAAAAASQAAAAAAAABZAAAAAAAAAGkAAAAAAAAAeQAAAAAAAACFAAAAAAAAAI0AAAAAAAAAlQAAAAAAAACdAAAAAAAAAKUAAAAAAAAArQAAAAAAAAC1AAAAAAAAAL0AAAAAAAIAwQAAAAAAAgDFAAAAAAACAMkAAAAAAAIAzQAAAAAAAgDRAAAAAAACANUAAAAAAAIA2QAAAAAAAgDdAAAAAAACAOEAAAAAAAIA5QAAAAAAAgDpAAAAAAACAO0AAAAAAAIA8QAAAAAAAgD1AAAAAAACAPkAAAAAAAIA/QAAAAAAAQEBAAAAAAADAQEAAAAAAAEBBQAAAAAAAwEFAAAAAAABAQkAAAAAAAMBCQAAAAAAAQENAAAAAAADAQ0AAAAAAAEBEQAAAAAAAwERAAAAAAABARUAAAAAAAMBFQAAAAAAAQEZAAAAAAADARkAAAAAAAEBHQAAAAAAAwEdAAAAAAABASEAAAAAAAMBIQA==\",\"dtype\":\"float64\",\"shape\":[50]}},\"selected\":{\"id\":\"c78e8673-7fc9-4e80-b3a9-8c2b6e18d87c\",\"type\":\"Selection\"},\"selection_policy\":{\"id\":\"a31313bb-1cbd-441f-ad18-68ce511831a7\",\"type\":\"UnionRenderers\"}},\"id\":\"f76ff9bf-6afa-4095-a86a-8db9ef6ce915\",\"type\":\"ColumnDataSource\"},{\"attributes\":{\"bottom_units\":\"screen\",\"fill_alpha\":{\"value\":0.5},\"fill_color\":{\"value\":\"lightgrey\"},\"left_units\":\"screen\",\"level\":\"overlay\",\"line_alpha\":{\"value\":1.0},\"line_color\":{\"value\":\"black\"},\"line_dash\":[4,4],\"line_width\":{\"value\":2},\"plot\":null,\"render_mode\":\"css\",\"right_units\":\"screen\",\"top_units\":\"screen\"},\"id\":\"b24fb428-f75c-43b9-8a9e-25355aa7c668\",\"type\":\"BoxAnnotation\"},{\"attributes\":{\"dimension\":1,\"plot\":{\"id\":\"61daa668-3d5b-44ca-835b-c50704977e6e\",\"subtype\":\"Figure\",\"type\":\"Plot\"},\"ticker\":{\"id\":\"5caf2092-8cb0-4c39-960d-8edb6d2aa298\",\"type\":\"BasicTicker\"}},\"id\":\"7efc5540-79fa-4edf-8af5-ae8ba20ec50b\",\"type\":\"Grid\"},{\"attributes\":{},\"id\":\"9602d5cb-1681-4ead-84eb-4fe335fa3276\",\"type\":\"BasicTickFormatter\"},{\"attributes\":{\"plot\":null,\"text\":\"(Don't) Merge Counts by PreSyn_larger\"},\"id\":\"f62e5d92-07c1-47d0-b47c-fecf119b5c61\",\"type\":\"Title\"},{\"attributes\":{\"overlay\":{\"id\":\"b24fb428-f75c-43b9-8a9e-25355aa7c668\",\"type\":\"BoxAnnotation\"}},\"id\":\"3b002643-2bf5-4b3d-9ac0-3038633d204a\",\"type\":\"BoxZoomTool\"},{\"attributes\":{},\"id\":\"948ee803-bf63-4f53-b9f7-70fa7508d2bc\",\"type\":\"SaveTool\"},{\"attributes\":{},\"id\":\"c34583d1-ce3e-4e48-8294-dc574c518434\",\"type\":\"UnionRenderers\"},{\"attributes\":{},\"id\":\"40e8e8fe-2f63-4c35-983d-62f5d149206d\",\"type\":\"ResetTool\"},{\"attributes\":{\"fill_color\":{\"value\":\"navy\"},\"height\":{\"value\":0.9},\"line_color\":{\"value\":\"navy\"},\"right\":{\"field\":\"right\"},\"y\":{\"field\":\"y\"}},\"id\":\"348782e8-6b6b-40bd-9f47-94e75bce250a\",\"type\":\"HBar\"},{\"attributes\":{},\"id\":\"a877d34c-b8a4-454b-b5be-f78715db9098\",\"type\":\"HelpTool\"},{\"attributes\":{},\"id\":\"2763df0c-aded-4802-a636-a44e08ac3c6b\",\"type\":\"WheelZoomTool\"},{\"attributes\":{},\"id\":\"b85efd7b-75e0-4f9b-811b-bffcaff53a5f\",\"type\":\"LinearScale\"},{\"attributes\":{\"active_drag\":\"auto\",\"active_inspect\":\"auto\",\"active_multi\":null,\"active_scroll\":\"auto\",\"active_tap\":\"auto\",\"tools\":[{\"id\":\"90abb8cb-d5b9-4bf3-b288-892ac7776326\",\"type\":\"PanTool\"},{\"id\":\"2763df0c-aded-4802-a636-a44e08ac3c6b\",\"type\":\"WheelZoomTool\"},{\"id\":\"3b002643-2bf5-4b3d-9ac0-3038633d204a\",\"type\":\"BoxZoomTool\"},{\"id\":\"948ee803-bf63-4f53-b9f7-70fa7508d2bc\",\"type\":\"SaveTool\"},{\"id\":\"40e8e8fe-2f63-4c35-983d-62f5d149206d\",\"type\":\"ResetTool\"},{\"id\":\"a877d34c-b8a4-454b-b5be-f78715db9098\",\"type\":\"HelpTool\"}]},\"id\":\"f3addbcf-044c-4eaf-a07a-9d934a75aef0\",\"type\":\"Toolbar\"},{\"attributes\":{\"below\":[{\"id\":\"b5c14663-1ddd-43f3-933a-4d36e7746f24\",\"type\":\"LinearAxis\"}],\"left\":[{\"id\":\"44d9e597-93a8-4ad1-8b07-f42575461615\",\"type\":\"LinearAxis\"}],\"plot_height\":400,\"renderers\":[{\"id\":\"b5c14663-1ddd-43f3-933a-4d36e7746f24\",\"type\":\"LinearAxis\"},{\"id\":\"6f5e70f5-9751-4e36-ba1f-03ceb29fe892\",\"type\":\"Grid\"},{\"id\":\"44d9e597-93a8-4ad1-8b07-f42575461615\",\"type\":\"LinearAxis\"},{\"id\":\"7efc5540-79fa-4edf-8af5-ae8ba20ec50b\",\"type\":\"Grid\"},{\"id\":\"b24fb428-f75c-43b9-8a9e-25355aa7c668\",\"type\":\"BoxAnnotation\"},{\"id\":\"c383ac24-322d-45ea-ac79-5a3ccf3179ff\",\"type\":\"GlyphRenderer\"},{\"id\":\"643062f1-dc98-4cb8-b576-164a64bbeed5\",\"type\":\"GlyphRenderer\"}],\"title\":{\"id\":\"f62e5d92-07c1-47d0-b47c-fecf119b5c61\",\"type\":\"Title\"},\"toolbar\":{\"id\":\"f3addbcf-044c-4eaf-a07a-9d934a75aef0\",\"type\":\"Toolbar\"},\"x_range\":{\"id\":\"84888164-2e85-487f-aa5b-38b2b6eedb00\",\"type\":\"Range1d\"},\"x_scale\":{\"id\":\"a5efb2ed-f576-4e3a-a9a6-2dc5a8acb4af\",\"type\":\"LinearScale\"},\"y_range\":{\"id\":\"195516d7-82d7-4ed4-afc7-ade299840005\",\"type\":\"Range1d\"},\"y_scale\":{\"id\":\"b85efd7b-75e0-4f9b-811b-bffcaff53a5f\",\"type\":\"LinearScale\"}},\"id\":\"61daa668-3d5b-44ca-835b-c50704977e6e\",\"subtype\":\"Figure\",\"type\":\"Plot\"},{\"attributes\":{\"source\":{\"id\":\"f76ff9bf-6afa-4095-a86a-8db9ef6ce915\",\"type\":\"ColumnDataSource\"}},\"id\":\"70916d8c-ea74-4c3f-83a6-46eb6484cb05\",\"type\":\"CDSView\"},{\"attributes\":{},\"id\":\"8e7bed45-3d7b-4bc5-9fc7-1bef260abbfe\",\"type\":\"Selection\"},{\"attributes\":{},\"id\":\"c78e8673-7fc9-4e80-b3a9-8c2b6e18d87c\",\"type\":\"Selection\"}],\"root_ids\":[\"61daa668-3d5b-44ca-835b-c50704977e6e\"]},\"title\":\"Bokeh Application\",\"version\":\"0.13.0\"}};\n",
       "  var render_items = [{\"docid\":\"8182e3d7-045e-4e28-8f65-9fc869265d49\",\"roots\":{\"61daa668-3d5b-44ca-835b-c50704977e6e\":\"8bf2d60d-ef4c-4420-a7de-199f9eebc1f4\"}}];\n",
       "  root.Bokeh.embed.embed_items_notebook(docs_json, render_items);\n",
       "\n",
       "  }\n",
       "  if (root.Bokeh !== undefined) {\n",
       "    embed_document(root);\n",
       "  } else {\n",
       "    var attempts = 0;\n",
       "    var timer = setInterval(function(root) {\n",
       "      if (root.Bokeh !== undefined) {\n",
       "        embed_document(root);\n",
       "        clearInterval(timer);\n",
       "      }\n",
       "      attempts++;\n",
       "      if (attempts > 100) {\n",
       "        console.log(\"Bokeh: ERROR: Unable to run BokehJS code because BokehJS library is missing\")\n",
       "        clearInterval(timer);\n",
       "      }\n",
       "    }, 10, root)\n",
       "  }\n",
       "})(window);"
      ],
      "application/vnd.bokehjs_exec.v0+json": ""
     },
     "metadata": {
      "application/vnd.bokehjs_exec.v0+json": {
       "id": "61daa668-3d5b-44ca-835b-c50704977e6e"
      }
     },
     "output_type": "display_data"
    },
    {
     "data": {
      "text/html": [
       "\n",
       "\n",
       "\n",
       "\n",
       "\n",
       "\n",
       "  <div class=\"bk-root\" id=\"bf3e6da9-cf3e-4acf-972b-8036d4d117c9\"></div>\n"
      ]
     },
     "metadata": {},
     "output_type": "display_data"
    },
    {
     "data": {
      "application/javascript": [
       "(function(root) {\n",
       "  function embed_document(root) {\n",
       "    \n",
       "  var docs_json = {\"3d1d43ba-cff6-4c2f-98db-9a67402c8516\":{\"roots\":{\"references\":[{\"attributes\":{\"callback\":null,\"end\":25861.5,\"start\":-13766.550000000001},\"id\":\"fd0a91ad-8643-465b-852d-e8d002d69191\",\"type\":\"Range1d\"},{\"attributes\":{\"axis_label\":\"PostSyn_smaller (bin = 1)\",\"formatter\":{\"id\":\"26c0f822-ed02-4091-b57d-7fece6a2a85d\",\"type\":\"BasicTickFormatter\"},\"plot\":{\"id\":\"922c8adb-fe55-49af-b28a-f5aaf7819cc9\",\"subtype\":\"Figure\",\"type\":\"Plot\"},\"ticker\":{\"id\":\"0e8f9de5-3780-4877-ae55-307a89cd1c8f\",\"type\":\"BasicTicker\"}},\"id\":\"76b3ac82-d077-4878-91c6-ed4de3653f6e\",\"type\":\"LinearAxis\"},{\"attributes\":{},\"id\":\"6b8d9bf6-314b-4e70-9b82-092d764a1e03\",\"type\":\"UnionRenderers\"},{\"attributes\":{\"fill_alpha\":{\"value\":0.1},\"fill_color\":{\"value\":\"#1f77b4\"},\"height\":{\"value\":0.9},\"line_alpha\":{\"value\":0.1},\"line_color\":{\"value\":\"#1f77b4\"},\"right\":{\"field\":\"right\"},\"y\":{\"field\":\"y\"}},\"id\":\"d89bafb4-ad7d-4487-b9cd-7fa5cf26704f\",\"type\":\"HBar\"},{\"attributes\":{\"bottom_units\":\"screen\",\"fill_alpha\":{\"value\":0.5},\"fill_color\":{\"value\":\"lightgrey\"},\"left_units\":\"screen\",\"level\":\"overlay\",\"line_alpha\":{\"value\":1.0},\"line_color\":{\"value\":\"black\"},\"line_dash\":[4,4],\"line_width\":{\"value\":2},\"plot\":null,\"render_mode\":\"css\",\"right_units\":\"screen\",\"top_units\":\"screen\"},\"id\":\"7f698777-2b7d-4375-ad7a-399c05777c84\",\"type\":\"BoxAnnotation\"},{\"attributes\":{\"data_source\":{\"id\":\"c43e499e-3e9a-4d51-a04a-1e0ba1ec6fc8\",\"type\":\"ColumnDataSource\"},\"glyph\":{\"id\":\"dc0b713b-eb82-4578-a644-4a2703889889\",\"type\":\"HBar\"},\"hover_glyph\":null,\"muted_glyph\":null,\"nonselection_glyph\":{\"id\":\"d89bafb4-ad7d-4487-b9cd-7fa5cf26704f\",\"type\":\"HBar\"},\"selection_glyph\":null,\"view\":{\"id\":\"83611b38-bffa-45a8-9416-e45b1881381b\",\"type\":\"CDSView\"}},\"id\":\"2b5588c8-5da5-41fa-bdf4-b79fab7cd2fa\",\"type\":\"GlyphRenderer\"},{\"attributes\":{\"callback\":null,\"end\":50},\"id\":\"2b3fc978-ca5d-4091-95e7-e48ec1c214b8\",\"type\":\"Range1d\"},{\"attributes\":{\"fill_color\":{\"value\":\"navy\"},\"height\":{\"value\":0.9},\"line_color\":{\"value\":\"navy\"},\"right\":{\"field\":\"right\"},\"y\":{\"field\":\"y\"}},\"id\":\"dc0b713b-eb82-4578-a644-4a2703889889\",\"type\":\"HBar\"},{\"attributes\":{\"axis_label\":\"Decision Counts (Don't Merge/Merge)\",\"formatter\":{\"id\":\"157332eb-acfe-4c06-bba6-cff0913a8bd2\",\"type\":\"BasicTickFormatter\"},\"plot\":{\"id\":\"922c8adb-fe55-49af-b28a-f5aaf7819cc9\",\"subtype\":\"Figure\",\"type\":\"Plot\"},\"ticker\":{\"id\":\"9e4407cb-aad5-49a7-ad58-9d63ca79d926\",\"type\":\"BasicTicker\"}},\"id\":\"fcaa5705-e510-4f20-a4bd-d4e46c28f80f\",\"type\":\"LinearAxis\"},{\"attributes\":{},\"id\":\"a33a7c0e-b97c-47cd-aca3-a409e622fb2f\",\"type\":\"Selection\"},{\"attributes\":{\"fill_color\":{\"value\":\"crimson\"},\"height\":{\"value\":0.9},\"left\":{\"field\":\"left\"},\"line_color\":{\"value\":\"crimson\"},\"right\":{\"value\":0},\"y\":{\"field\":\"y\"}},\"id\":\"b7f34cf5-d8e4-4130-b569-921d466f8acc\",\"type\":\"HBar\"},{\"attributes\":{},\"id\":\"0e8f9de5-3780-4877-ae55-307a89cd1c8f\",\"type\":\"BasicTicker\"},{\"attributes\":{\"dimension\":1,\"plot\":{\"id\":\"922c8adb-fe55-49af-b28a-f5aaf7819cc9\",\"subtype\":\"Figure\",\"type\":\"Plot\"},\"ticker\":{\"id\":\"0e8f9de5-3780-4877-ae55-307a89cd1c8f\",\"type\":\"BasicTicker\"}},\"id\":\"50cbac0f-e075-48be-b488-327660b26e88\",\"type\":\"Grid\"},{\"attributes\":{\"callback\":null,\"data\":{\"left\":[-13111,-12123,-11636,-10346,-9128,-8046,-7148,-6112,-5839,-5195,-6625,-5729,-4984,-4316,-4135,-3553,-3390,-2930,-2710,-2561,-2378,-2169,-2009,-1970,-1764,-1638,-1631,-1443,-1396,-1375,-1234,-1188,-1093,-1092,-974,-993,-947,-898,-905,-838,-814,-747,-836,-744,-692,-667,-622,-622,-602,-1142],\"y\":{\"__ndarray__\":\"AAAAAAAA4D8AAAAAAAD4PwAAAAAAAARAAAAAAAAADEAAAAAAAAASQAAAAAAAABZAAAAAAAAAGkAAAAAAAAAeQAAAAAAAACFAAAAAAAAAI0AAAAAAAAAlQAAAAAAAACdAAAAAAAAAKUAAAAAAAAArQAAAAAAAAC1AAAAAAAAAL0AAAAAAAIAwQAAAAAAAgDFAAAAAAACAMkAAAAAAAIAzQAAAAAAAgDRAAAAAAACANUAAAAAAAIA2QAAAAAAAgDdAAAAAAACAOEAAAAAAAIA5QAAAAAAAgDpAAAAAAACAO0AAAAAAAIA8QAAAAAAAgD1AAAAAAACAPkAAAAAAAIA/QAAAAAAAQEBAAAAAAADAQEAAAAAAAEBBQAAAAAAAwEFAAAAAAABAQkAAAAAAAMBCQAAAAAAAQENAAAAAAADAQ0AAAAAAAEBEQAAAAAAAwERAAAAAAABARUAAAAAAAMBFQAAAAAAAQEZAAAAAAADARkAAAAAAAEBHQAAAAAAAwEdAAAAAAABASEAAAAAAAMBIQA==\",\"dtype\":\"float64\",\"shape\":[50]}},\"selected\":{\"id\":\"79a0e3d8-f5a7-4321-9bff-ff97b02cb37a\",\"type\":\"Selection\"},\"selection_policy\":{\"id\":\"e5beaca2-45cd-4d10-9ed1-a86a7036a76e\",\"type\":\"UnionRenderers\"}},\"id\":\"cbe0c65f-b77f-4ab4-95d4-10dab6056655\",\"type\":\"ColumnDataSource\"},{\"attributes\":{\"source\":{\"id\":\"c43e499e-3e9a-4d51-a04a-1e0ba1ec6fc8\",\"type\":\"ColumnDataSource\"}},\"id\":\"83611b38-bffa-45a8-9416-e45b1881381b\",\"type\":\"CDSView\"},{\"attributes\":{\"fill_alpha\":{\"value\":0.1},\"fill_color\":{\"value\":\"#1f77b4\"},\"height\":{\"value\":0.9},\"left\":{\"field\":\"left\"},\"line_alpha\":{\"value\":0.1},\"line_color\":{\"value\":\"#1f77b4\"},\"right\":{\"value\":0},\"y\":{\"field\":\"y\"}},\"id\":\"a892cdc0-3cd8-4a48-84a2-4d97a250c882\",\"type\":\"HBar\"},{\"attributes\":{},\"id\":\"79a0e3d8-f5a7-4321-9bff-ff97b02cb37a\",\"type\":\"Selection\"},{\"attributes\":{},\"id\":\"157332eb-acfe-4c06-bba6-cff0913a8bd2\",\"type\":\"BasicTickFormatter\"},{\"attributes\":{},\"id\":\"830d2eaf-5f65-4fcd-9a7a-10191c1238bc\",\"type\":\"LinearScale\"},{\"attributes\":{},\"id\":\"33fbb3b5-36d6-4acf-8177-70faa617ad4e\",\"type\":\"PanTool\"},{\"attributes\":{\"plot\":{\"id\":\"922c8adb-fe55-49af-b28a-f5aaf7819cc9\",\"subtype\":\"Figure\",\"type\":\"Plot\"},\"ticker\":{\"id\":\"9e4407cb-aad5-49a7-ad58-9d63ca79d926\",\"type\":\"BasicTicker\"}},\"id\":\"c3db37fa-2765-479a-a59c-62f6da6e1055\",\"type\":\"Grid\"},{\"attributes\":{},\"id\":\"ad5a6e1e-8806-4d28-b305-4a9bb34ceaa6\",\"type\":\"HelpTool\"},{\"attributes\":{},\"id\":\"9e4407cb-aad5-49a7-ad58-9d63ca79d926\",\"type\":\"BasicTicker\"},{\"attributes\":{\"active_drag\":\"auto\",\"active_inspect\":\"auto\",\"active_multi\":null,\"active_scroll\":\"auto\",\"active_tap\":\"auto\",\"tools\":[{\"id\":\"33fbb3b5-36d6-4acf-8177-70faa617ad4e\",\"type\":\"PanTool\"},{\"id\":\"a7deea92-3356-4241-b924-2a8ed332b81c\",\"type\":\"WheelZoomTool\"},{\"id\":\"ed217fb1-776c-44d8-a5d7-8b8b00d4da0d\",\"type\":\"BoxZoomTool\"},{\"id\":\"15760ab6-37a3-4bb3-9c86-e80b77c53832\",\"type\":\"SaveTool\"},{\"id\":\"4220b914-3b23-467f-9c2f-a8ed1aacd1f4\",\"type\":\"ResetTool\"},{\"id\":\"ad5a6e1e-8806-4d28-b305-4a9bb34ceaa6\",\"type\":\"HelpTool\"}]},\"id\":\"568bc044-17a8-4e8b-8d6e-4761c491c603\",\"type\":\"Toolbar\"},{\"attributes\":{},\"id\":\"4220b914-3b23-467f-9c2f-a8ed1aacd1f4\",\"type\":\"ResetTool\"},{\"attributes\":{},\"id\":\"26c0f822-ed02-4091-b57d-7fece6a2a85d\",\"type\":\"BasicTickFormatter\"},{\"attributes\":{\"below\":[{\"id\":\"fcaa5705-e510-4f20-a4bd-d4e46c28f80f\",\"type\":\"LinearAxis\"}],\"left\":[{\"id\":\"76b3ac82-d077-4878-91c6-ed4de3653f6e\",\"type\":\"LinearAxis\"}],\"plot_height\":400,\"renderers\":[{\"id\":\"fcaa5705-e510-4f20-a4bd-d4e46c28f80f\",\"type\":\"LinearAxis\"},{\"id\":\"c3db37fa-2765-479a-a59c-62f6da6e1055\",\"type\":\"Grid\"},{\"id\":\"76b3ac82-d077-4878-91c6-ed4de3653f6e\",\"type\":\"LinearAxis\"},{\"id\":\"50cbac0f-e075-48be-b488-327660b26e88\",\"type\":\"Grid\"},{\"id\":\"7f698777-2b7d-4375-ad7a-399c05777c84\",\"type\":\"BoxAnnotation\"},{\"id\":\"2b5588c8-5da5-41fa-bdf4-b79fab7cd2fa\",\"type\":\"GlyphRenderer\"},{\"id\":\"cbfb9498-5d73-4939-9fb9-de090ab1db83\",\"type\":\"GlyphRenderer\"}],\"title\":{\"id\":\"df54e831-4da4-4394-9d45-885594bb4a22\",\"type\":\"Title\"},\"toolbar\":{\"id\":\"568bc044-17a8-4e8b-8d6e-4761c491c603\",\"type\":\"Toolbar\"},\"x_range\":{\"id\":\"fd0a91ad-8643-465b-852d-e8d002d69191\",\"type\":\"Range1d\"},\"x_scale\":{\"id\":\"21e021ba-7574-47e3-a52a-069c62a84f3d\",\"type\":\"LinearScale\"},\"y_range\":{\"id\":\"2b3fc978-ca5d-4091-95e7-e48ec1c214b8\",\"type\":\"Range1d\"},\"y_scale\":{\"id\":\"830d2eaf-5f65-4fcd-9a7a-10191c1238bc\",\"type\":\"LinearScale\"}},\"id\":\"922c8adb-fe55-49af-b28a-f5aaf7819cc9\",\"subtype\":\"Figure\",\"type\":\"Plot\"},{\"attributes\":{\"callback\":null,\"data\":{\"right\":[24630,19220,15551,12820,10539,8924,7718,6475,5612,4807,5842,4974,4108,3626,3081,2771,2485,2197,1970,1801,1643,1543,1360,1207,1221,1037,1029,972,877,867,776,749,745,647,631,596,556,515,472,551,459,463,451,385,397,374,367,313,312,635],\"y\":{\"__ndarray__\":\"AAAAAAAA4D8AAAAAAAD4PwAAAAAAAARAAAAAAAAADEAAAAAAAAASQAAAAAAAABZAAAAAAAAAGkAAAAAAAAAeQAAAAAAAACFAAAAAAAAAI0AAAAAAAAAlQAAAAAAAACdAAAAAAAAAKUAAAAAAAAArQAAAAAAAAC1AAAAAAAAAL0AAAAAAAIAwQAAAAAAAgDFAAAAAAACAMkAAAAAAAIAzQAAAAAAAgDRAAAAAAACANUAAAAAAAIA2QAAAAAAAgDdAAAAAAACAOEAAAAAAAIA5QAAAAAAAgDpAAAAAAACAO0AAAAAAAIA8QAAAAAAAgD1AAAAAAACAPkAAAAAAAIA/QAAAAAAAQEBAAAAAAADAQEAAAAAAAEBBQAAAAAAAwEFAAAAAAABAQkAAAAAAAMBCQAAAAAAAQENAAAAAAADAQ0AAAAAAAEBEQAAAAAAAwERAAAAAAABARUAAAAAAAMBFQAAAAAAAQEZAAAAAAADARkAAAAAAAEBHQAAAAAAAwEdAAAAAAABASEAAAAAAAMBIQA==\",\"dtype\":\"float64\",\"shape\":[50]}},\"selected\":{\"id\":\"a33a7c0e-b97c-47cd-aca3-a409e622fb2f\",\"type\":\"Selection\"},\"selection_policy\":{\"id\":\"6b8d9bf6-314b-4e70-9b82-092d764a1e03\",\"type\":\"UnionRenderers\"}},\"id\":\"c43e499e-3e9a-4d51-a04a-1e0ba1ec6fc8\",\"type\":\"ColumnDataSource\"},{\"attributes\":{},\"id\":\"a7deea92-3356-4241-b924-2a8ed332b81c\",\"type\":\"WheelZoomTool\"},{\"attributes\":{},\"id\":\"e5beaca2-45cd-4d10-9ed1-a86a7036a76e\",\"type\":\"UnionRenderers\"},{\"attributes\":{\"data_source\":{\"id\":\"cbe0c65f-b77f-4ab4-95d4-10dab6056655\",\"type\":\"ColumnDataSource\"},\"glyph\":{\"id\":\"b7f34cf5-d8e4-4130-b569-921d466f8acc\",\"type\":\"HBar\"},\"hover_glyph\":null,\"muted_glyph\":null,\"nonselection_glyph\":{\"id\":\"a892cdc0-3cd8-4a48-84a2-4d97a250c882\",\"type\":\"HBar\"},\"selection_glyph\":null,\"view\":{\"id\":\"5482645c-6694-4200-b31a-fb561b90ddc5\",\"type\":\"CDSView\"}},\"id\":\"cbfb9498-5d73-4939-9fb9-de090ab1db83\",\"type\":\"GlyphRenderer\"},{\"attributes\":{},\"id\":\"15760ab6-37a3-4bb3-9c86-e80b77c53832\",\"type\":\"SaveTool\"},{\"attributes\":{\"plot\":null,\"text\":\"(Don't) Merge Counts by PostSyn_smaller\"},\"id\":\"df54e831-4da4-4394-9d45-885594bb4a22\",\"type\":\"Title\"},{\"attributes\":{},\"id\":\"21e021ba-7574-47e3-a52a-069c62a84f3d\",\"type\":\"LinearScale\"},{\"attributes\":{\"source\":{\"id\":\"cbe0c65f-b77f-4ab4-95d4-10dab6056655\",\"type\":\"ColumnDataSource\"}},\"id\":\"5482645c-6694-4200-b31a-fb561b90ddc5\",\"type\":\"CDSView\"},{\"attributes\":{\"overlay\":{\"id\":\"7f698777-2b7d-4375-ad7a-399c05777c84\",\"type\":\"BoxAnnotation\"}},\"id\":\"ed217fb1-776c-44d8-a5d7-8b8b00d4da0d\",\"type\":\"BoxZoomTool\"}],\"root_ids\":[\"922c8adb-fe55-49af-b28a-f5aaf7819cc9\"]},\"title\":\"Bokeh Application\",\"version\":\"0.13.0\"}};\n",
       "  var render_items = [{\"docid\":\"3d1d43ba-cff6-4c2f-98db-9a67402c8516\",\"roots\":{\"922c8adb-fe55-49af-b28a-f5aaf7819cc9\":\"bf3e6da9-cf3e-4acf-972b-8036d4d117c9\"}}];\n",
       "  root.Bokeh.embed.embed_items_notebook(docs_json, render_items);\n",
       "\n",
       "  }\n",
       "  if (root.Bokeh !== undefined) {\n",
       "    embed_document(root);\n",
       "  } else {\n",
       "    var attempts = 0;\n",
       "    var timer = setInterval(function(root) {\n",
       "      if (root.Bokeh !== undefined) {\n",
       "        embed_document(root);\n",
       "        clearInterval(timer);\n",
       "      }\n",
       "      attempts++;\n",
       "      if (attempts > 100) {\n",
       "        console.log(\"Bokeh: ERROR: Unable to run BokehJS code because BokehJS library is missing\")\n",
       "        clearInterval(timer);\n",
       "      }\n",
       "    }, 10, root)\n",
       "  }\n",
       "})(window);"
      ],
      "application/vnd.bokehjs_exec.v0+json": ""
     },
     "metadata": {
      "application/vnd.bokehjs_exec.v0+json": {
       "id": "922c8adb-fe55-49af-b28a-f5aaf7819cc9"
      }
     },
     "output_type": "display_data"
    },
    {
     "data": {
      "text/html": [
       "\n",
       "\n",
       "\n",
       "\n",
       "\n",
       "\n",
       "  <div class=\"bk-root\" id=\"229f0a5c-82f3-4a76-8cb0-5a4dc860e561\"></div>\n"
      ]
     },
     "metadata": {},
     "output_type": "display_data"
    },
    {
     "data": {
      "application/javascript": [
       "(function(root) {\n",
       "  function embed_document(root) {\n",
       "    \n",
       "  var docs_json = {\"5df90e42-ee90-4c1c-91de-bd42c0250cd7\":{\"roots\":{\"references\":[{\"attributes\":{},\"id\":\"6007e475-842d-47a2-88c5-3b32da1e8ed9\",\"type\":\"BasicTicker\"},{\"attributes\":{\"axis_label\":\"TotalSyn_smaller (bin = 1)\",\"formatter\":{\"id\":\"fc5bc0ba-5ea7-4d0f-a4e9-709f197e2f17\",\"type\":\"BasicTickFormatter\"},\"plot\":{\"id\":\"8f209210-c28a-4773-a87b-5266ceba19e5\",\"subtype\":\"Figure\",\"type\":\"Plot\"},\"ticker\":{\"id\":\"6007e475-842d-47a2-88c5-3b32da1e8ed9\",\"type\":\"BasicTicker\"}},\"id\":\"c6617e47-b529-4fa0-8685-aecc15706709\",\"type\":\"LinearAxis\"},{\"attributes\":{\"plot\":null,\"text\":\"(Don't) Merge Counts by TotalSyn_smaller\"},\"id\":\"0c81673d-aa74-44b5-a3e1-daddbe45c73b\",\"type\":\"Title\"},{\"attributes\":{},\"id\":\"fc5bc0ba-5ea7-4d0f-a4e9-709f197e2f17\",\"type\":\"BasicTickFormatter\"},{\"attributes\":{},\"id\":\"a7f0e7ad-5ef3-454b-af40-ed3c63e8e3fc\",\"type\":\"SaveTool\"},{\"attributes\":{\"data_source\":{\"id\":\"3a762ae5-9aed-4c7f-b621-feb09b2c2007\",\"type\":\"ColumnDataSource\"},\"glyph\":{\"id\":\"40a0bcae-62e7-4b93-b44d-dbed95c821a4\",\"type\":\"HBar\"},\"hover_glyph\":null,\"muted_glyph\":null,\"nonselection_glyph\":{\"id\":\"69e528df-dd5f-4fcd-91a6-beab83502e02\",\"type\":\"HBar\"},\"selection_glyph\":null,\"view\":{\"id\":\"d7a8476b-b825-4c33-81ce-a265b48b9ff4\",\"type\":\"CDSView\"}},\"id\":\"15b0d0ac-25e1-4e32-8904-bd9980cc9939\",\"type\":\"GlyphRenderer\"},{\"attributes\":{\"callback\":null,\"end\":50},\"id\":\"a3653f79-3809-4f3f-941a-77ff0d3e855e\",\"type\":\"Range1d\"},{\"attributes\":{\"fill_alpha\":{\"value\":0.1},\"fill_color\":{\"value\":\"#1f77b4\"},\"height\":{\"value\":0.9},\"left\":{\"field\":\"left\"},\"line_alpha\":{\"value\":0.1},\"line_color\":{\"value\":\"#1f77b4\"},\"right\":{\"value\":0},\"y\":{\"field\":\"y\"}},\"id\":\"69e528df-dd5f-4fcd-91a6-beab83502e02\",\"type\":\"HBar\"},{\"attributes\":{\"data_source\":{\"id\":\"5e5b195e-4dc7-425a-b15b-8f94d32b3f5b\",\"type\":\"ColumnDataSource\"},\"glyph\":{\"id\":\"7ee86324-0545-407b-8b43-8178b5d5e98f\",\"type\":\"HBar\"},\"hover_glyph\":null,\"muted_glyph\":null,\"nonselection_glyph\":{\"id\":\"7c1b7fa5-023c-4300-ae9b-b1cc1d227d1b\",\"type\":\"HBar\"},\"selection_glyph\":null,\"view\":{\"id\":\"05185026-48f4-4066-9888-40603e908549\",\"type\":\"CDSView\"}},\"id\":\"c69906d3-3160-4759-934c-e6cce0ab5c74\",\"type\":\"GlyphRenderer\"},{\"attributes\":{},\"id\":\"43222ccb-c3d8-4e1d-bb21-45e3690978de\",\"type\":\"Selection\"},{\"attributes\":{},\"id\":\"45a0e91c-51f4-479c-b9f4-3955a292ce0f\",\"type\":\"Selection\"},{\"attributes\":{\"bottom_units\":\"screen\",\"fill_alpha\":{\"value\":0.5},\"fill_color\":{\"value\":\"lightgrey\"},\"left_units\":\"screen\",\"level\":\"overlay\",\"line_alpha\":{\"value\":1.0},\"line_color\":{\"value\":\"black\"},\"line_dash\":[4,4],\"line_width\":{\"value\":2},\"plot\":null,\"render_mode\":\"css\",\"right_units\":\"screen\",\"top_units\":\"screen\"},\"id\":\"8d86aa1a-ec35-479f-b23e-157a9a006ade\",\"type\":\"BoxAnnotation\"},{\"attributes\":{\"dimension\":1,\"plot\":{\"id\":\"8f209210-c28a-4773-a87b-5266ceba19e5\",\"subtype\":\"Figure\",\"type\":\"Plot\"},\"ticker\":{\"id\":\"6007e475-842d-47a2-88c5-3b32da1e8ed9\",\"type\":\"BasicTicker\"}},\"id\":\"5909ba20-4b39-4f6f-adb7-4efe92141e59\",\"type\":\"Grid\"},{\"attributes\":{},\"id\":\"a5fb9e59-98c1-4c94-953b-decedaacede8\",\"type\":\"UnionRenderers\"},{\"attributes\":{\"callback\":null,\"end\":14302.050000000001,\"start\":-8270.85},\"id\":\"535aa4fa-6ad2-4428-8fc1-bff627471931\",\"type\":\"Range1d\"},{\"attributes\":{},\"id\":\"22d28d41-005d-42c4-b195-ae4c9a130a13\",\"type\":\"HelpTool\"},{\"attributes\":{},\"id\":\"b624c047-5c80-4dc9-bcb1-6ecf97a36e44\",\"type\":\"ResetTool\"},{\"attributes\":{},\"id\":\"509dbd0d-b10f-4eb6-abba-ca22da46d5de\",\"type\":\"LinearScale\"},{\"attributes\":{\"axis_label\":\"Decision Counts (Don't Merge/Merge)\",\"formatter\":{\"id\":\"e3a10173-4322-40b1-aca6-add868d022c9\",\"type\":\"BasicTickFormatter\"},\"plot\":{\"id\":\"8f209210-c28a-4773-a87b-5266ceba19e5\",\"subtype\":\"Figure\",\"type\":\"Plot\"},\"ticker\":{\"id\":\"27ad054e-f337-40ec-acce-c25edc6c9f83\",\"type\":\"BasicTicker\"}},\"id\":\"e99b2a67-2d79-47ad-a8f4-2bd86dc70585\",\"type\":\"LinearAxis\"},{\"attributes\":{},\"id\":\"e3a10173-4322-40b1-aca6-add868d022c9\",\"type\":\"BasicTickFormatter\"},{\"attributes\":{\"callback\":null,\"data\":{\"right\":[3391,1163,13621,12961,12197,11035,10136,8936,7871,6911,7658,6564,5716,5048,4589,3997,3478,3217,2885,2605,2356,2139,1967,1787,1714,1520,1507,1394,1277,1173,1158,1061,1006,906,869,811,785,800,745,649,693,610,591,579,537,538,492,522,495,831],\"y\":{\"__ndarray__\":\"AAAAAAAA4D8AAAAAAAD4PwAAAAAAAARAAAAAAAAADEAAAAAAAAASQAAAAAAAABZAAAAAAAAAGkAAAAAAAAAeQAAAAAAAACFAAAAAAAAAI0AAAAAAAAAlQAAAAAAAACdAAAAAAAAAKUAAAAAAAAArQAAAAAAAAC1AAAAAAAAAL0AAAAAAAIAwQAAAAAAAgDFAAAAAAACAMkAAAAAAAIAzQAAAAAAAgDRAAAAAAACANUAAAAAAAIA2QAAAAAAAgDdAAAAAAACAOEAAAAAAAIA5QAAAAAAAgDpAAAAAAACAO0AAAAAAAIA8QAAAAAAAgD1AAAAAAACAPkAAAAAAAIA/QAAAAAAAQEBAAAAAAADAQEAAAAAAAEBBQAAAAAAAwEFAAAAAAABAQkAAAAAAAMBCQAAAAAAAQENAAAAAAADAQ0AAAAAAAEBEQAAAAAAAwERAAAAAAABARUAAAAAAAMBFQAAAAAAAQEZAAAAAAADARkAAAAAAAEBHQAAAAAAAwEdAAAAAAABASEAAAAAAAMBIQA==\",\"dtype\":\"float64\",\"shape\":[50]}},\"selected\":{\"id\":\"43222ccb-c3d8-4e1d-bb21-45e3690978de\",\"type\":\"Selection\"},\"selection_policy\":{\"id\":\"243b10ce-a541-452d-b27c-e61c95ed2ded\",\"type\":\"UnionRenderers\"}},\"id\":\"5e5b195e-4dc7-425a-b15b-8f94d32b3f5b\",\"type\":\"ColumnDataSource\"},{\"attributes\":{\"plot\":{\"id\":\"8f209210-c28a-4773-a87b-5266ceba19e5\",\"subtype\":\"Figure\",\"type\":\"Plot\"},\"ticker\":{\"id\":\"27ad054e-f337-40ec-acce-c25edc6c9f83\",\"type\":\"BasicTicker\"}},\"id\":\"8947967d-9d16-4174-b635-50e82ad50548\",\"type\":\"Grid\"},{\"attributes\":{\"source\":{\"id\":\"5e5b195e-4dc7-425a-b15b-8f94d32b3f5b\",\"type\":\"ColumnDataSource\"}},\"id\":\"05185026-48f4-4066-9888-40603e908549\",\"type\":\"CDSView\"},{\"attributes\":{},\"id\":\"2dd51b9b-a87f-4670-b90f-29845ac345cf\",\"type\":\"PanTool\"},{\"attributes\":{\"below\":[{\"id\":\"e99b2a67-2d79-47ad-a8f4-2bd86dc70585\",\"type\":\"LinearAxis\"}],\"left\":[{\"id\":\"c6617e47-b529-4fa0-8685-aecc15706709\",\"type\":\"LinearAxis\"}],\"plot_height\":400,\"renderers\":[{\"id\":\"e99b2a67-2d79-47ad-a8f4-2bd86dc70585\",\"type\":\"LinearAxis\"},{\"id\":\"8947967d-9d16-4174-b635-50e82ad50548\",\"type\":\"Grid\"},{\"id\":\"c6617e47-b529-4fa0-8685-aecc15706709\",\"type\":\"LinearAxis\"},{\"id\":\"5909ba20-4b39-4f6f-adb7-4efe92141e59\",\"type\":\"Grid\"},{\"id\":\"8d86aa1a-ec35-479f-b23e-157a9a006ade\",\"type\":\"BoxAnnotation\"},{\"id\":\"c69906d3-3160-4759-934c-e6cce0ab5c74\",\"type\":\"GlyphRenderer\"},{\"id\":\"15b0d0ac-25e1-4e32-8904-bd9980cc9939\",\"type\":\"GlyphRenderer\"}],\"title\":{\"id\":\"0c81673d-aa74-44b5-a3e1-daddbe45c73b\",\"type\":\"Title\"},\"toolbar\":{\"id\":\"c521a9ce-0636-4609-aa3f-145c3e15bcde\",\"type\":\"Toolbar\"},\"x_range\":{\"id\":\"535aa4fa-6ad2-4428-8fc1-bff627471931\",\"type\":\"Range1d\"},\"x_scale\":{\"id\":\"509dbd0d-b10f-4eb6-abba-ca22da46d5de\",\"type\":\"LinearScale\"},\"y_range\":{\"id\":\"a3653f79-3809-4f3f-941a-77ff0d3e855e\",\"type\":\"Range1d\"},\"y_scale\":{\"id\":\"ef4c4470-a17b-4afd-8aca-11af3df7d113\",\"type\":\"LinearScale\"}},\"id\":\"8f209210-c28a-4773-a87b-5266ceba19e5\",\"subtype\":\"Figure\",\"type\":\"Plot\"},{\"attributes\":{},\"id\":\"27ad054e-f337-40ec-acce-c25edc6c9f83\",\"type\":\"BasicTicker\"},{\"attributes\":{\"fill_alpha\":{\"value\":0.1},\"fill_color\":{\"value\":\"#1f77b4\"},\"height\":{\"value\":0.9},\"line_alpha\":{\"value\":0.1},\"line_color\":{\"value\":\"#1f77b4\"},\"right\":{\"field\":\"right\"},\"y\":{\"field\":\"y\"}},\"id\":\"7c1b7fa5-023c-4300-ae9b-b1cc1d227d1b\",\"type\":\"HBar\"},{\"attributes\":{},\"id\":\"7eff75cb-bf73-4647-abb3-fbe9a0ed6a2d\",\"type\":\"WheelZoomTool\"},{\"attributes\":{\"active_drag\":\"auto\",\"active_inspect\":\"auto\",\"active_multi\":null,\"active_scroll\":\"auto\",\"active_tap\":\"auto\",\"tools\":[{\"id\":\"2dd51b9b-a87f-4670-b90f-29845ac345cf\",\"type\":\"PanTool\"},{\"id\":\"7eff75cb-bf73-4647-abb3-fbe9a0ed6a2d\",\"type\":\"WheelZoomTool\"},{\"id\":\"24043ae9-5864-40c8-8a68-cd9581061d75\",\"type\":\"BoxZoomTool\"},{\"id\":\"a7f0e7ad-5ef3-454b-af40-ed3c63e8e3fc\",\"type\":\"SaveTool\"},{\"id\":\"b624c047-5c80-4dc9-bcb1-6ecf97a36e44\",\"type\":\"ResetTool\"},{\"id\":\"22d28d41-005d-42c4-b195-ae4c9a130a13\",\"type\":\"HelpTool\"}]},\"id\":\"c521a9ce-0636-4609-aa3f-145c3e15bcde\",\"type\":\"Toolbar\"},{\"attributes\":{\"fill_color\":{\"value\":\"crimson\"},\"height\":{\"value\":0.9},\"left\":{\"field\":\"left\"},\"line_color\":{\"value\":\"crimson\"},\"right\":{\"value\":0},\"y\":{\"field\":\"y\"}},\"id\":\"40a0bcae-62e7-4b93-b44d-dbed95c821a4\",\"type\":\"HBar\"},{\"attributes\":{},\"id\":\"ef4c4470-a17b-4afd-8aca-11af3df7d113\",\"type\":\"LinearScale\"},{\"attributes\":{\"source\":{\"id\":\"3a762ae5-9aed-4c7f-b621-feb09b2c2007\",\"type\":\"ColumnDataSource\"}},\"id\":\"d7a8476b-b825-4c33-81ce-a265b48b9ff4\",\"type\":\"CDSView\"},{\"attributes\":{\"overlay\":{\"id\":\"8d86aa1a-ec35-479f-b23e-157a9a006ade\",\"type\":\"BoxAnnotation\"}},\"id\":\"24043ae9-5864-40c8-8a68-cd9581061d75\",\"type\":\"BoxZoomTool\"},{\"attributes\":{\"callback\":null,\"data\":{\"left\":[-3295,-783,-5232,-7155,-7877,-7616,-7483,-7000,-6572,-5763,-7357,-6752,-6037,-5124,-4566,-4355,-3878,-3633,-3429,-3034,-2817,-2738,-2478,-2275,-2331,-2052,-1945,-1750,-1813,-1664,-1611,-1585,-1401,-1403,-1334,-1306,-1192,-1057,-1101,-1081,-1031,-975,-949,-891,-882,-850,-767,-777,-767,-1495],\"y\":{\"__ndarray__\":\"AAAAAAAA4D8AAAAAAAD4PwAAAAAAAARAAAAAAAAADEAAAAAAAAASQAAAAAAAABZAAAAAAAAAGkAAAAAAAAAeQAAAAAAAACFAAAAAAAAAI0AAAAAAAAAlQAAAAAAAACdAAAAAAAAAKUAAAAAAAAArQAAAAAAAAC1AAAAAAAAAL0AAAAAAAIAwQAAAAAAAgDFAAAAAAACAMkAAAAAAAIAzQAAAAAAAgDRAAAAAAACANUAAAAAAAIA2QAAAAAAAgDdAAAAAAACAOEAAAAAAAIA5QAAAAAAAgDpAAAAAAACAO0AAAAAAAIA8QAAAAAAAgD1AAAAAAACAPkAAAAAAAIA/QAAAAAAAQEBAAAAAAADAQEAAAAAAAEBBQAAAAAAAwEFAAAAAAABAQkAAAAAAAMBCQAAAAAAAQENAAAAAAADAQ0AAAAAAAEBEQAAAAAAAwERAAAAAAABARUAAAAAAAMBFQAAAAAAAQEZAAAAAAADARkAAAAAAAEBHQAAAAAAAwEdAAAAAAABASEAAAAAAAMBIQA==\",\"dtype\":\"float64\",\"shape\":[50]}},\"selected\":{\"id\":\"45a0e91c-51f4-479c-b9f4-3955a292ce0f\",\"type\":\"Selection\"},\"selection_policy\":{\"id\":\"a5fb9e59-98c1-4c94-953b-decedaacede8\",\"type\":\"UnionRenderers\"}},\"id\":\"3a762ae5-9aed-4c7f-b621-feb09b2c2007\",\"type\":\"ColumnDataSource\"},{\"attributes\":{\"fill_color\":{\"value\":\"navy\"},\"height\":{\"value\":0.9},\"line_color\":{\"value\":\"navy\"},\"right\":{\"field\":\"right\"},\"y\":{\"field\":\"y\"}},\"id\":\"7ee86324-0545-407b-8b43-8178b5d5e98f\",\"type\":\"HBar\"},{\"attributes\":{},\"id\":\"243b10ce-a541-452d-b27c-e61c95ed2ded\",\"type\":\"UnionRenderers\"}],\"root_ids\":[\"8f209210-c28a-4773-a87b-5266ceba19e5\"]},\"title\":\"Bokeh Application\",\"version\":\"0.13.0\"}};\n",
       "  var render_items = [{\"docid\":\"5df90e42-ee90-4c1c-91de-bd42c0250cd7\",\"roots\":{\"8f209210-c28a-4773-a87b-5266ceba19e5\":\"229f0a5c-82f3-4a76-8cb0-5a4dc860e561\"}}];\n",
       "  root.Bokeh.embed.embed_items_notebook(docs_json, render_items);\n",
       "\n",
       "  }\n",
       "  if (root.Bokeh !== undefined) {\n",
       "    embed_document(root);\n",
       "  } else {\n",
       "    var attempts = 0;\n",
       "    var timer = setInterval(function(root) {\n",
       "      if (root.Bokeh !== undefined) {\n",
       "        embed_document(root);\n",
       "        clearInterval(timer);\n",
       "      }\n",
       "      attempts++;\n",
       "      if (attempts > 100) {\n",
       "        console.log(\"Bokeh: ERROR: Unable to run BokehJS code because BokehJS library is missing\")\n",
       "        clearInterval(timer);\n",
       "      }\n",
       "    }, 10, root)\n",
       "  }\n",
       "})(window);"
      ],
      "application/vnd.bokehjs_exec.v0+json": ""
     },
     "metadata": {
      "application/vnd.bokehjs_exec.v0+json": {
       "id": "8f209210-c28a-4773-a87b-5266ceba19e5"
      }
     },
     "output_type": "display_data"
    }
   ],
   "source": [
    "show_ratio = False\n",
    "show_merge_ratios(onehop_decisions, 'score', bin_size=0.1, num_bins=10, show_ratio=False)\n",
    "show_merge_ratios(onehop_decisions, 'PreSyn_smaller', bin_size=1, num_bins=50, show_ratio=show_ratio)\n",
    "show_merge_ratios(onehop_decisions, 'PreSyn_larger', bin_size=1, num_bins=50, show_ratio=show_ratio)\n",
    "show_merge_ratios(onehop_decisions, 'PostSyn_smaller', bin_size=1, num_bins=50, show_ratio=show_ratio)\n",
    "show_merge_ratios(onehop_decisions, 'TotalSyn_smaller', bin_size=1, num_bins=50, show_ratio=show_ratio)"
   ]
  },
  {
   "cell_type": "markdown",
   "metadata": {},
   "source": [
    "### Select decisions: Iteration-1 only"
   ]
  },
  {
   "cell_type": "code",
   "execution_count": null,
   "metadata": {},
   "outputs": [],
   "source": [
    "# Load all iteration 1 edges\n",
    "it1_path = ('/nrs/flyem/bergs/final-agglo/speculative-iterations/'\n",
    "         + 'final_20180312_32nm_16nm_all_cbs32_upto10_cb16_upto10_freeze_all_spec_phase1_min0.1.npy')\n",
    "\n",
    "it1_table = np.load(it1_path)\n",
    "normalize_recarray_inplace(it1_table, 'id_a', 'id_b', ['id_a', 'xa', 'ya', 'za'], ['id_b', 'xb', 'yb', 'zb'])\n",
    "it1_df = pd.DataFrame(it1_table)"
   ]
  },
  {
   "cell_type": "code",
   "execution_count": 336,
   "metadata": {},
   "outputs": [],
   "source": [
    "it1_decisions = onehop_decisions.merge(it1_df[['id_a', 'id_b']], how='inner', on=['id_a', 'id_b'])"
   ]
  },
  {
   "cell_type": "code",
   "execution_count": 337,
   "metadata": {},
   "outputs": [
    {
     "data": {
      "text/plain": [
       "(61780, 36)"
      ]
     },
     "execution_count": 337,
     "metadata": {},
     "output_type": "execute_result"
    }
   ],
   "source": [
    "it1_decisions.shape"
   ]
  },
  {
   "cell_type": "code",
   "execution_count": 338,
   "metadata": {},
   "outputs": [
    {
     "data": {
      "text/html": [
       "<div>\n",
       "<style scoped>\n",
       "    .dataframe tbody tr th:only-of-type {\n",
       "        vertical-align: middle;\n",
       "    }\n",
       "\n",
       "    .dataframe tbody tr th {\n",
       "        vertical-align: top;\n",
       "    }\n",
       "\n",
       "    .dataframe thead th {\n",
       "        text-align: right;\n",
       "    }\n",
       "</style>\n",
       "<table border=\"1\" class=\"dataframe\">\n",
       "  <thead>\n",
       "    <tr style=\"text-align: right;\">\n",
       "      <th></th>\n",
       "      <th>id_a</th>\n",
       "      <th>id_b</th>\n",
       "      <th>xa</th>\n",
       "      <th>ya</th>\n",
       "      <th>za</th>\n",
       "      <th>xb</th>\n",
       "      <th>yb</th>\n",
       "      <th>zb</th>\n",
       "      <th>caa</th>\n",
       "      <th>cab</th>\n",
       "      <th>...</th>\n",
       "      <th>PreSyn_smaller</th>\n",
       "      <th>PreSyn_larger</th>\n",
       "      <th>PostSyn_smaller</th>\n",
       "      <th>PostSyn_larger</th>\n",
       "      <th>TotalSyn_a</th>\n",
       "      <th>TotalSyn_b</th>\n",
       "      <th>TotalSyn_smaller</th>\n",
       "      <th>TotalSyn_larger</th>\n",
       "      <th>voxel_count_smaller</th>\n",
       "      <th>voxel_count_larger</th>\n",
       "    </tr>\n",
       "  </thead>\n",
       "  <tbody>\n",
       "    <tr>\n",
       "      <th>0</th>\n",
       "      <td>1046549486</td>\n",
       "      <td>1077588372</td>\n",
       "      <td>23783</td>\n",
       "      <td>28680</td>\n",
       "      <td>15010</td>\n",
       "      <td>23741</td>\n",
       "      <td>28640</td>\n",
       "      <td>15019</td>\n",
       "      <td>0.794859</td>\n",
       "      <td>0.000000</td>\n",
       "      <td>...</td>\n",
       "      <td>0</td>\n",
       "      <td>138</td>\n",
       "      <td>12</td>\n",
       "      <td>840</td>\n",
       "      <td>12</td>\n",
       "      <td>978</td>\n",
       "      <td>12</td>\n",
       "      <td>978</td>\n",
       "      <td>300394</td>\n",
       "      <td>335660312</td>\n",
       "    </tr>\n",
       "    <tr>\n",
       "      <th>1</th>\n",
       "      <td>977036712</td>\n",
       "      <td>977041157</td>\n",
       "      <td>29693</td>\n",
       "      <td>18867</td>\n",
       "      <td>13639</td>\n",
       "      <td>29680</td>\n",
       "      <td>18858</td>\n",
       "      <td>13608</td>\n",
       "      <td>0.946426</td>\n",
       "      <td>0.500000</td>\n",
       "      <td>...</td>\n",
       "      <td>4</td>\n",
       "      <td>6</td>\n",
       "      <td>1</td>\n",
       "      <td>3</td>\n",
       "      <td>7</td>\n",
       "      <td>7</td>\n",
       "      <td>7</td>\n",
       "      <td>7</td>\n",
       "      <td>2346289</td>\n",
       "      <td>12653438</td>\n",
       "    </tr>\n",
       "    <tr>\n",
       "      <th>2</th>\n",
       "      <td>1283276430</td>\n",
       "      <td>1407078886</td>\n",
       "      <td>28101</td>\n",
       "      <td>13397</td>\n",
       "      <td>19731</td>\n",
       "      <td>28123</td>\n",
       "      <td>13344</td>\n",
       "      <td>19716</td>\n",
       "      <td>0.953926</td>\n",
       "      <td>0.000000</td>\n",
       "      <td>...</td>\n",
       "      <td>0</td>\n",
       "      <td>37</td>\n",
       "      <td>10</td>\n",
       "      <td>178</td>\n",
       "      <td>215</td>\n",
       "      <td>10</td>\n",
       "      <td>10</td>\n",
       "      <td>215</td>\n",
       "      <td>191818</td>\n",
       "      <td>161820971</td>\n",
       "    </tr>\n",
       "    <tr>\n",
       "      <th>3</th>\n",
       "      <td>1234774536</td>\n",
       "      <td>1234778963</td>\n",
       "      <td>20549</td>\n",
       "      <td>31154</td>\n",
       "      <td>17365</td>\n",
       "      <td>20590</td>\n",
       "      <td>31165</td>\n",
       "      <td>17433</td>\n",
       "      <td>0.972158</td>\n",
       "      <td>0.795663</td>\n",
       "      <td>...</td>\n",
       "      <td>0</td>\n",
       "      <td>1209</td>\n",
       "      <td>15</td>\n",
       "      <td>15550</td>\n",
       "      <td>15</td>\n",
       "      <td>16759</td>\n",
       "      <td>15</td>\n",
       "      <td>16759</td>\n",
       "      <td>126216</td>\n",
       "      <td>3721970395</td>\n",
       "    </tr>\n",
       "    <tr>\n",
       "      <th>4</th>\n",
       "      <td>1624898168</td>\n",
       "      <td>1655932520</td>\n",
       "      <td>17446</td>\n",
       "      <td>14173</td>\n",
       "      <td>23217</td>\n",
       "      <td>17422</td>\n",
       "      <td>14175</td>\n",
       "      <td>23262</td>\n",
       "      <td>0.995802</td>\n",
       "      <td>0.989871</td>\n",
       "      <td>...</td>\n",
       "      <td>0</td>\n",
       "      <td>132</td>\n",
       "      <td>15</td>\n",
       "      <td>101</td>\n",
       "      <td>233</td>\n",
       "      <td>15</td>\n",
       "      <td>15</td>\n",
       "      <td>233</td>\n",
       "      <td>679760</td>\n",
       "      <td>141993284</td>\n",
       "    </tr>\n",
       "  </tbody>\n",
       "</table>\n",
       "<p>5 rows × 36 columns</p>\n",
       "</div>"
      ],
      "text/plain": [
       "         id_a        id_b     xa     ya     za     xb     yb     zb       caa  \\\n",
       "0  1046549486  1077588372  23783  28680  15010  23741  28640  15019  0.794859   \n",
       "1   977036712   977041157  29693  18867  13639  29680  18858  13608  0.946426   \n",
       "2  1283276430  1407078886  28101  13397  19731  28123  13344  19716  0.953926   \n",
       "3  1234774536  1234778963  20549  31154  17365  20590  31165  17433  0.972158   \n",
       "4  1624898168  1655932520  17446  14173  23217  17422  14175  23262  0.995802   \n",
       "\n",
       "        cab        ...          PreSyn_smaller  PreSyn_larger  \\\n",
       "0  0.000000        ...                       0            138   \n",
       "1  0.500000        ...                       4              6   \n",
       "2  0.000000        ...                       0             37   \n",
       "3  0.795663        ...                       0           1209   \n",
       "4  0.989871        ...                       0            132   \n",
       "\n",
       "   PostSyn_smaller  PostSyn_larger  TotalSyn_a  TotalSyn_b  TotalSyn_smaller  \\\n",
       "0               12             840          12         978                12   \n",
       "1                1               3           7           7                 7   \n",
       "2               10             178         215          10                10   \n",
       "3               15           15550          15       16759                15   \n",
       "4               15             101         233          15                15   \n",
       "\n",
       "   TotalSyn_larger  voxel_count_smaller voxel_count_larger  \n",
       "0              978               300394          335660312  \n",
       "1                7              2346289           12653438  \n",
       "2              215               191818          161820971  \n",
       "3            16759               126216         3721970395  \n",
       "4              233               679760          141993284  \n",
       "\n",
       "[5 rows x 36 columns]"
      ]
     },
     "execution_count": 338,
     "metadata": {},
     "output_type": "execute_result"
    }
   ],
   "source": [
    "it1_decisions.head()"
   ]
  },
  {
   "cell_type": "code",
   "execution_count": 369,
   "metadata": {},
   "outputs": [
    {
     "data": {
      "text/plain": [
       "0.85304193738924983"
      ]
     },
     "execution_count": 369,
     "metadata": {},
     "output_type": "execute_result"
    }
   ],
   "source": [
    "it1_new_decisions = it1_decisions.query('PreSyn_smaller == 2')['result'].value_counts()\n",
    "(it1_new_decisions['merge'] + it1_new_decisions['mergeLater']) / it1_new_decisions.sum()"
   ]
  },
  {
   "cell_type": "code",
   "execution_count": 359,
   "metadata": {},
   "outputs": [
    {
     "data": {
      "text/plain": [
       "6573"
      ]
     },
     "execution_count": 359,
     "metadata": {},
     "output_type": "execute_result"
    }
   ],
   "source": [
    "it1_new_decisions.sum()"
   ]
  },
  {
   "cell_type": "code",
   "execution_count": 355,
   "metadata": {},
   "outputs": [
    {
     "data": {
      "text/html": [
       "\n",
       "\n",
       "\n",
       "\n",
       "\n",
       "\n",
       "  <div class=\"bk-root\" id=\"be2c2151-35c0-42f2-8803-93813057f516\"></div>\n"
      ]
     },
     "metadata": {},
     "output_type": "display_data"
    },
    {
     "data": {
      "application/javascript": [
       "(function(root) {\n",
       "  function embed_document(root) {\n",
       "    \n",
       "  var docs_json = {\"19e316b2-da63-4754-bcf6-19c1fb5b7c82\":{\"roots\":{\"references\":[{\"attributes\":{\"dimension\":1,\"plot\":{\"id\":\"5f9b5444-3809-4a55-b81f-cb8ee61983d6\",\"subtype\":\"Figure\",\"type\":\"Plot\"},\"ticker\":{\"id\":\"871766f3-1d8b-4d89-bc01-1332b67a125b\",\"type\":\"BasicTicker\"}},\"id\":\"974a4209-2da7-4b97-91fc-8a15e07f9800\",\"type\":\"Grid\"},{\"attributes\":{},\"id\":\"4ced29a1-9b6d-43ed-bc15-20d066474eff\",\"type\":\"UnionRenderers\"},{\"attributes\":{\"fill_color\":{\"value\":\"crimson\"},\"height\":{\"value\":0.9},\"left\":{\"field\":\"left\"},\"line_color\":{\"value\":\"crimson\"},\"right\":{\"value\":0},\"y\":{\"field\":\"y\"}},\"id\":\"88e88859-c7cb-429f-acb9-b8aabe7a3f86\",\"type\":\"HBar\"},{\"attributes\":{\"source\":{\"id\":\"f9dc84d2-2c22-45a0-9deb-9649c4f89a52\",\"type\":\"ColumnDataSource\"}},\"id\":\"52bbf67c-4933-456c-81d7-7ec7d2ecf22b\",\"type\":\"CDSView\"},{\"attributes\":{\"active_drag\":\"auto\",\"active_inspect\":\"auto\",\"active_multi\":null,\"active_scroll\":\"auto\",\"active_tap\":\"auto\",\"tools\":[{\"id\":\"e641f49b-91bd-489c-bc33-dc3a8e32579f\",\"type\":\"PanTool\"},{\"id\":\"0ff3b1f4-8436-428c-b3d7-5b2e63c986ac\",\"type\":\"WheelZoomTool\"},{\"id\":\"de5bdc21-8165-4de2-bf91-01f60829c84c\",\"type\":\"BoxZoomTool\"},{\"id\":\"7ae1a9c5-9e65-45fd-843d-aed01dec16e1\",\"type\":\"SaveTool\"},{\"id\":\"56ca08b9-2312-4d17-8215-752579a72142\",\"type\":\"ResetTool\"},{\"id\":\"0dd712dc-39db-4e5a-a8b9-067e1e83d2b8\",\"type\":\"HelpTool\"}]},\"id\":\"36e3e3be-0364-4c7d-98f4-2756257392cf\",\"type\":\"Toolbar\"},{\"attributes\":{},\"id\":\"7682a4f9-463f-4083-9a28-8fec7e7ac5c2\",\"type\":\"Selection\"},{\"attributes\":{},\"id\":\"b1f54d08-6d44-4a97-8810-c0218d61252f\",\"type\":\"BasicTickFormatter\"},{\"attributes\":{\"callback\":null,\"data\":{\"left\":[-100,-67,-77,-64,-59,-69,-30,-59,-43,-30,-623,-470,-285,-237,-152,-151,-110,-59,-63,-77],\"y\":{\"__ndarray__\":\"AAAAAAAA4D8AAAAAAAD4PwAAAAAAAARAAAAAAAAADEAAAAAAAAASQAAAAAAAABZAAAAAAAAAGkAAAAAAAAAeQAAAAAAAACFAAAAAAAAAI0AAAAAAAAAlQAAAAAAAACdAAAAAAAAAKUAAAAAAAAArQAAAAAAAAC1AAAAAAAAAL0AAAAAAAIAwQAAAAAAAgDFAAAAAAACAMkAAAAAAAIAzQA==\",\"dtype\":\"float64\",\"shape\":[20]}},\"selected\":{\"id\":\"feba0808-1c7d-415c-9133-8890223a448d\",\"type\":\"Selection\"},\"selection_policy\":{\"id\":\"4ced29a1-9b6d-43ed-bc15-20d066474eff\",\"type\":\"UnionRenderers\"}},\"id\":\"f9dc84d2-2c22-45a0-9deb-9649c4f89a52\",\"type\":\"ColumnDataSource\"},{\"attributes\":{},\"id\":\"81721cb0-a0a8-417f-8d28-f4ab7d0c1b28\",\"type\":\"LinearScale\"},{\"attributes\":{},\"id\":\"2f7b4a36-58d3-4db3-9926-61e1d25c84c6\",\"type\":\"UnionRenderers\"},{\"attributes\":{\"bottom_units\":\"screen\",\"fill_alpha\":{\"value\":0.5},\"fill_color\":{\"value\":\"lightgrey\"},\"left_units\":\"screen\",\"level\":\"overlay\",\"line_alpha\":{\"value\":1.0},\"line_color\":{\"value\":\"black\"},\"line_dash\":[4,4],\"line_width\":{\"value\":2},\"plot\":null,\"render_mode\":\"css\",\"right_units\":\"screen\",\"top_units\":\"screen\"},\"id\":\"d0c57291-1bd2-4c1e-afe2-3ea946cf86bf\",\"type\":\"BoxAnnotation\"},{\"attributes\":{\"data_source\":{\"id\":\"f9dc84d2-2c22-45a0-9deb-9649c4f89a52\",\"type\":\"ColumnDataSource\"},\"glyph\":{\"id\":\"88e88859-c7cb-429f-acb9-b8aabe7a3f86\",\"type\":\"HBar\"},\"hover_glyph\":null,\"muted_glyph\":null,\"nonselection_glyph\":{\"id\":\"ef8da015-df88-4ef8-99c5-d9538230c25e\",\"type\":\"HBar\"},\"selection_glyph\":null,\"view\":{\"id\":\"52bbf67c-4933-456c-81d7-7ec7d2ecf22b\",\"type\":\"CDSView\"}},\"id\":\"bcdce88f-c1fd-4f6c-99e9-fa4ac4b892a6\",\"type\":\"GlyphRenderer\"},{\"attributes\":{},\"id\":\"7ae1a9c5-9e65-45fd-843d-aed01dec16e1\",\"type\":\"SaveTool\"},{\"attributes\":{},\"id\":\"56ca08b9-2312-4d17-8215-752579a72142\",\"type\":\"ResetTool\"},{\"attributes\":{},\"id\":\"feba0808-1c7d-415c-9133-8890223a448d\",\"type\":\"Selection\"},{\"attributes\":{\"callback\":null,\"end\":863.1,\"start\":-654.15},\"id\":\"5af778b4-9bb5-4253-96ca-93bff1dcf937\",\"type\":\"Range1d\"},{\"attributes\":{\"callback\":null,\"data\":{\"right\":[83,26,32,28,19,11,23,20,15,13,822,563,393,309,203,151,117,98,75,92],\"y\":{\"__ndarray__\":\"AAAAAAAA4D8AAAAAAAD4PwAAAAAAAARAAAAAAAAADEAAAAAAAAASQAAAAAAAABZAAAAAAAAAGkAAAAAAAAAeQAAAAAAAACFAAAAAAAAAI0AAAAAAAAAlQAAAAAAAACdAAAAAAAAAKUAAAAAAAAArQAAAAAAAAC1AAAAAAAAAL0AAAAAAAIAwQAAAAAAAgDFAAAAAAACAMkAAAAAAAIAzQA==\",\"dtype\":\"float64\",\"shape\":[20]}},\"selected\":{\"id\":\"7682a4f9-463f-4083-9a28-8fec7e7ac5c2\",\"type\":\"Selection\"},\"selection_policy\":{\"id\":\"2f7b4a36-58d3-4db3-9926-61e1d25c84c6\",\"type\":\"UnionRenderers\"}},\"id\":\"f56138db-e56b-4661-9c4e-5d8fff377894\",\"type\":\"ColumnDataSource\"},{\"attributes\":{},\"id\":\"cbdeff32-88cb-45f1-afeb-2b53ebf6db9f\",\"type\":\"LinearScale\"},{\"attributes\":{\"axis_label\":\"Decision Counts (Don't Merge/Merge)\",\"formatter\":{\"id\":\"b1f54d08-6d44-4a97-8810-c0218d61252f\",\"type\":\"BasicTickFormatter\"},\"plot\":{\"id\":\"5f9b5444-3809-4a55-b81f-cb8ee61983d6\",\"subtype\":\"Figure\",\"type\":\"Plot\"},\"ticker\":{\"id\":\"835cb5a6-f871-4985-976f-df001f8a2a12\",\"type\":\"BasicTicker\"}},\"id\":\"24ff170a-f4b7-4a5b-b8ae-953158ea0ac7\",\"type\":\"LinearAxis\"},{\"attributes\":{\"plot\":{\"id\":\"5f9b5444-3809-4a55-b81f-cb8ee61983d6\",\"subtype\":\"Figure\",\"type\":\"Plot\"},\"ticker\":{\"id\":\"835cb5a6-f871-4985-976f-df001f8a2a12\",\"type\":\"BasicTicker\"}},\"id\":\"98cc3595-42c0-483a-bf71-8ae8a862532e\",\"type\":\"Grid\"},{\"attributes\":{},\"id\":\"83fe56d8-5bd5-4871-898e-c4af483bc2fc\",\"type\":\"BasicTickFormatter\"},{\"attributes\":{\"plot\":null,\"text\":\"(Don't) Merge Counts by PostSyn_smaller\"},\"id\":\"c18f18cd-8d92-467b-893a-0d9b44e4041e\",\"type\":\"Title\"},{\"attributes\":{},\"id\":\"835cb5a6-f871-4985-976f-df001f8a2a12\",\"type\":\"BasicTicker\"},{\"attributes\":{\"axis_label\":\"PostSyn_smaller (bin = 1)\",\"formatter\":{\"id\":\"83fe56d8-5bd5-4871-898e-c4af483bc2fc\",\"type\":\"BasicTickFormatter\"},\"plot\":{\"id\":\"5f9b5444-3809-4a55-b81f-cb8ee61983d6\",\"subtype\":\"Figure\",\"type\":\"Plot\"},\"ticker\":{\"id\":\"871766f3-1d8b-4d89-bc01-1332b67a125b\",\"type\":\"BasicTicker\"}},\"id\":\"d910088a-2eb4-4017-b0d6-e8828e103ab8\",\"type\":\"LinearAxis\"},{\"attributes\":{},\"id\":\"871766f3-1d8b-4d89-bc01-1332b67a125b\",\"type\":\"BasicTicker\"},{\"attributes\":{\"fill_alpha\":{\"value\":0.1},\"fill_color\":{\"value\":\"#1f77b4\"},\"height\":{\"value\":0.9},\"line_alpha\":{\"value\":0.1},\"line_color\":{\"value\":\"#1f77b4\"},\"right\":{\"field\":\"right\"},\"y\":{\"field\":\"y\"}},\"id\":\"e258937f-56d2-43c4-b001-e449c897a3a1\",\"type\":\"HBar\"},{\"attributes\":{\"fill_alpha\":{\"value\":0.1},\"fill_color\":{\"value\":\"#1f77b4\"},\"height\":{\"value\":0.9},\"left\":{\"field\":\"left\"},\"line_alpha\":{\"value\":0.1},\"line_color\":{\"value\":\"#1f77b4\"},\"right\":{\"value\":0},\"y\":{\"field\":\"y\"}},\"id\":\"ef8da015-df88-4ef8-99c5-d9538230c25e\",\"type\":\"HBar\"},{\"attributes\":{\"below\":[{\"id\":\"24ff170a-f4b7-4a5b-b8ae-953158ea0ac7\",\"type\":\"LinearAxis\"}],\"left\":[{\"id\":\"d910088a-2eb4-4017-b0d6-e8828e103ab8\",\"type\":\"LinearAxis\"}],\"plot_height\":400,\"renderers\":[{\"id\":\"24ff170a-f4b7-4a5b-b8ae-953158ea0ac7\",\"type\":\"LinearAxis\"},{\"id\":\"98cc3595-42c0-483a-bf71-8ae8a862532e\",\"type\":\"Grid\"},{\"id\":\"d910088a-2eb4-4017-b0d6-e8828e103ab8\",\"type\":\"LinearAxis\"},{\"id\":\"974a4209-2da7-4b97-91fc-8a15e07f9800\",\"type\":\"Grid\"},{\"id\":\"d0c57291-1bd2-4c1e-afe2-3ea946cf86bf\",\"type\":\"BoxAnnotation\"},{\"id\":\"12aed899-2b95-495d-91ed-4949ea7d43e5\",\"type\":\"GlyphRenderer\"},{\"id\":\"bcdce88f-c1fd-4f6c-99e9-fa4ac4b892a6\",\"type\":\"GlyphRenderer\"}],\"title\":{\"id\":\"c18f18cd-8d92-467b-893a-0d9b44e4041e\",\"type\":\"Title\"},\"toolbar\":{\"id\":\"36e3e3be-0364-4c7d-98f4-2756257392cf\",\"type\":\"Toolbar\"},\"x_range\":{\"id\":\"5af778b4-9bb5-4253-96ca-93bff1dcf937\",\"type\":\"Range1d\"},\"x_scale\":{\"id\":\"cbdeff32-88cb-45f1-afeb-2b53ebf6db9f\",\"type\":\"LinearScale\"},\"y_range\":{\"id\":\"74c6be46-b569-46c3-af46-88d49ec2ae2b\",\"type\":\"Range1d\"},\"y_scale\":{\"id\":\"81721cb0-a0a8-417f-8d28-f4ab7d0c1b28\",\"type\":\"LinearScale\"}},\"id\":\"5f9b5444-3809-4a55-b81f-cb8ee61983d6\",\"subtype\":\"Figure\",\"type\":\"Plot\"},{\"attributes\":{\"data_source\":{\"id\":\"f56138db-e56b-4661-9c4e-5d8fff377894\",\"type\":\"ColumnDataSource\"},\"glyph\":{\"id\":\"10f113b4-852e-4522-b673-f3700275c2cb\",\"type\":\"HBar\"},\"hover_glyph\":null,\"muted_glyph\":null,\"nonselection_glyph\":{\"id\":\"e258937f-56d2-43c4-b001-e449c897a3a1\",\"type\":\"HBar\"},\"selection_glyph\":null,\"view\":{\"id\":\"fd6e5e54-e35e-4367-a612-314b836926a0\",\"type\":\"CDSView\"}},\"id\":\"12aed899-2b95-495d-91ed-4949ea7d43e5\",\"type\":\"GlyphRenderer\"},{\"attributes\":{},\"id\":\"0ff3b1f4-8436-428c-b3d7-5b2e63c986ac\",\"type\":\"WheelZoomTool\"},{\"attributes\":{\"callback\":null,\"end\":20},\"id\":\"74c6be46-b569-46c3-af46-88d49ec2ae2b\",\"type\":\"Range1d\"},{\"attributes\":{\"source\":{\"id\":\"f56138db-e56b-4661-9c4e-5d8fff377894\",\"type\":\"ColumnDataSource\"}},\"id\":\"fd6e5e54-e35e-4367-a612-314b836926a0\",\"type\":\"CDSView\"},{\"attributes\":{},\"id\":\"e641f49b-91bd-489c-bc33-dc3a8e32579f\",\"type\":\"PanTool\"},{\"attributes\":{\"fill_color\":{\"value\":\"navy\"},\"height\":{\"value\":0.9},\"line_color\":{\"value\":\"navy\"},\"right\":{\"field\":\"right\"},\"y\":{\"field\":\"y\"}},\"id\":\"10f113b4-852e-4522-b673-f3700275c2cb\",\"type\":\"HBar\"},{\"attributes\":{\"overlay\":{\"id\":\"d0c57291-1bd2-4c1e-afe2-3ea946cf86bf\",\"type\":\"BoxAnnotation\"}},\"id\":\"de5bdc21-8165-4de2-bf91-01f60829c84c\",\"type\":\"BoxZoomTool\"},{\"attributes\":{},\"id\":\"0dd712dc-39db-4e5a-a8b9-067e1e83d2b8\",\"type\":\"HelpTool\"}],\"root_ids\":[\"5f9b5444-3809-4a55-b81f-cb8ee61983d6\"]},\"title\":\"Bokeh Application\",\"version\":\"0.13.0\"}};\n",
       "  var render_items = [{\"docid\":\"19e316b2-da63-4754-bcf6-19c1fb5b7c82\",\"roots\":{\"5f9b5444-3809-4a55-b81f-cb8ee61983d6\":\"be2c2151-35c0-42f2-8803-93813057f516\"}}];\n",
       "  root.Bokeh.embed.embed_items_notebook(docs_json, render_items);\n",
       "\n",
       "  }\n",
       "  if (root.Bokeh !== undefined) {\n",
       "    embed_document(root);\n",
       "  } else {\n",
       "    var attempts = 0;\n",
       "    var timer = setInterval(function(root) {\n",
       "      if (root.Bokeh !== undefined) {\n",
       "        embed_document(root);\n",
       "        clearInterval(timer);\n",
       "      }\n",
       "      attempts++;\n",
       "      if (attempts > 100) {\n",
       "        console.log(\"Bokeh: ERROR: Unable to run BokehJS code because BokehJS library is missing\")\n",
       "        clearInterval(timer);\n",
       "      }\n",
       "    }, 10, root)\n",
       "  }\n",
       "})(window);"
      ],
      "application/vnd.bokehjs_exec.v0+json": ""
     },
     "metadata": {
      "application/vnd.bokehjs_exec.v0+json": {
       "id": "5f9b5444-3809-4a55-b81f-cb8ee61983d6"
      }
     },
     "output_type": "display_data"
    }
   ],
   "source": [
    "show_merge_ratios(it1_decisions.query('PreSyn_smaller < 2'),\n",
    "                                      'PostSyn_smaller', bin_size=1, num_bins=20, show_ratio=False)"
   ]
  },
  {
   "cell_type": "code",
   "execution_count": 401,
   "metadata": {
    "scrolled": false
   },
   "outputs": [
    {
     "data": {
      "text/html": [
       "\n",
       "\n",
       "\n",
       "\n",
       "\n",
       "\n",
       "  <div class=\"bk-root\" id=\"aeebb6dd-b2b4-4655-ac3d-518e1e720776\"></div>\n"
      ]
     },
     "metadata": {},
     "output_type": "display_data"
    },
    {
     "data": {
      "application/javascript": [
       "(function(root) {\n",
       "  function embed_document(root) {\n",
       "    \n",
       "  var docs_json = {\"dfb0b3f5-0950-4be1-a549-c225626029a8\":{\"roots\":{\"references\":[{\"attributes\":{\"callback\":null,\"end\":20},\"id\":\"e8255fa4-e85f-4a46-a91b-4312c7b08d6e\",\"type\":\"Range1d\"},{\"attributes\":{\"axis_label\":\"Decision Counts (Don't Merge/Merge)\",\"formatter\":{\"id\":\"0f08bc6c-acf5-425a-abde-8b8eab8a5f08\",\"type\":\"BasicTickFormatter\"},\"plot\":{\"id\":\"e85c90c2-a58b-4309-aac1-394745123b94\",\"subtype\":\"Figure\",\"type\":\"Plot\"},\"ticker\":{\"id\":\"92a60481-1875-4ba2-b5b5-535ff308e07a\",\"type\":\"BasicTicker\"}},\"id\":\"2e4df64e-24f1-4e35-974c-52e0ee467a30\",\"type\":\"LinearAxis\"},{\"attributes\":{\"callback\":null,\"data\":{\"right\":[3001,437,21663,9064,4982,3161,2018,1367,946,618,484,330,246,171,125,78,64,48,32,41],\"y\":{\"__ndarray__\":\"AAAAAAAA4D8AAAAAAAD4PwAAAAAAAARAAAAAAAAADEAAAAAAAAASQAAAAAAAABZAAAAAAAAAGkAAAAAAAAAeQAAAAAAAACFAAAAAAAAAI0AAAAAAAAAlQAAAAAAAACdAAAAAAAAAKUAAAAAAAAArQAAAAAAAAC1AAAAAAAAAL0AAAAAAAIAwQAAAAAAAgDFAAAAAAACAMkAAAAAAAIAzQA==\",\"dtype\":\"float64\",\"shape\":[20]}},\"selected\":{\"id\":\"a38c5839-eb99-4c68-8167-cf468f6eb0d6\",\"type\":\"Selection\"},\"selection_policy\":{\"id\":\"251bbd8d-bbb8-4cb5-ab0e-68cb3cb3c741\",\"type\":\"UnionRenderers\"}},\"id\":\"a086e6f6-c6e6-49f8-a64f-d167c8e9065b\",\"type\":\"ColumnDataSource\"},{\"attributes\":{},\"id\":\"77d51e9c-c434-4d32-8c33-097d77b0313e\",\"type\":\"UnionRenderers\"},{\"attributes\":{},\"id\":\"b8f42d4d-be78-4fc1-a23d-5945ca29b7a3\",\"type\":\"LinearScale\"},{\"attributes\":{\"callback\":null,\"end\":22746.15,\"start\":-3893.4},\"id\":\"d99fe45d-9045-4d78-bf03-1d617ee6ef16\",\"type\":\"Range1d\"},{\"attributes\":{\"data_source\":{\"id\":\"a086e6f6-c6e6-49f8-a64f-d167c8e9065b\",\"type\":\"ColumnDataSource\"},\"glyph\":{\"id\":\"4a1fbed8-5f23-402b-9028-2414c532f4ab\",\"type\":\"HBar\"},\"hover_glyph\":null,\"muted_glyph\":null,\"nonselection_glyph\":{\"id\":\"cfded41b-9419-4ac4-a5b4-38b6a8d004d2\",\"type\":\"HBar\"},\"selection_glyph\":null,\"view\":{\"id\":\"da88fcaf-190e-43df-8630-24a402dd3c0c\",\"type\":\"CDSView\"}},\"id\":\"5ea31004-6174-4cc5-bd6b-7f9739078c4c\",\"type\":\"GlyphRenderer\"},{\"attributes\":{\"bottom_units\":\"screen\",\"fill_alpha\":{\"value\":0.5},\"fill_color\":{\"value\":\"lightgrey\"},\"left_units\":\"screen\",\"level\":\"overlay\",\"line_alpha\":{\"value\":1.0},\"line_color\":{\"value\":\"black\"},\"line_dash\":[4,4],\"line_width\":{\"value\":2},\"plot\":null,\"render_mode\":\"css\",\"right_units\":\"screen\",\"top_units\":\"screen\"},\"id\":\"6e725462-fc01-4f18-8d4c-f1a375b01509\",\"type\":\"BoxAnnotation\"},{\"attributes\":{\"below\":[{\"id\":\"2e4df64e-24f1-4e35-974c-52e0ee467a30\",\"type\":\"LinearAxis\"}],\"left\":[{\"id\":\"d606ded9-c3a9-4dd8-b564-43a4053ad64b\",\"type\":\"LinearAxis\"}],\"plot_height\":400,\"renderers\":[{\"id\":\"2e4df64e-24f1-4e35-974c-52e0ee467a30\",\"type\":\"LinearAxis\"},{\"id\":\"8b788569-a793-4ad2-a4f6-d744aac33042\",\"type\":\"Grid\"},{\"id\":\"d606ded9-c3a9-4dd8-b564-43a4053ad64b\",\"type\":\"LinearAxis\"},{\"id\":\"4a654aa8-6788-4adc-9433-1cfa922fe2db\",\"type\":\"Grid\"},{\"id\":\"6e725462-fc01-4f18-8d4c-f1a375b01509\",\"type\":\"BoxAnnotation\"},{\"id\":\"5ea31004-6174-4cc5-bd6b-7f9739078c4c\",\"type\":\"GlyphRenderer\"},{\"id\":\"4ea4e617-63f3-4463-abc3-c7629f79628c\",\"type\":\"GlyphRenderer\"}],\"title\":{\"id\":\"35eebda9-62c5-49c3-916c-52e0d2ebc97d\",\"type\":\"Title\"},\"toolbar\":{\"id\":\"08abf3cb-f82d-475b-be46-236fc3be2fa7\",\"type\":\"Toolbar\"},\"x_range\":{\"id\":\"d99fe45d-9045-4d78-bf03-1d617ee6ef16\",\"type\":\"Range1d\"},\"x_scale\":{\"id\":\"b8f42d4d-be78-4fc1-a23d-5945ca29b7a3\",\"type\":\"LinearScale\"},\"y_range\":{\"id\":\"e8255fa4-e85f-4a46-a91b-4312c7b08d6e\",\"type\":\"Range1d\"},\"y_scale\":{\"id\":\"cbb32ad6-cec2-4abf-9213-54869eba8337\",\"type\":\"LinearScale\"}},\"id\":\"e85c90c2-a58b-4309-aac1-394745123b94\",\"subtype\":\"Figure\",\"type\":\"Plot\"},{\"attributes\":{\"active_drag\":\"auto\",\"active_inspect\":\"auto\",\"active_multi\":null,\"active_scroll\":\"auto\",\"active_tap\":\"auto\",\"tools\":[{\"id\":\"d77444c5-9efd-4ec0-a46d-07bb6099344e\",\"type\":\"PanTool\"},{\"id\":\"abce03ba-6ced-4825-85f4-d92619cd8e39\",\"type\":\"WheelZoomTool\"},{\"id\":\"b406976c-733f-4d55-a9f9-263901694bbf\",\"type\":\"BoxZoomTool\"},{\"id\":\"e74bb887-9734-42e1-870d-3dfe1b0fb88d\",\"type\":\"SaveTool\"},{\"id\":\"35738ad3-2c1d-4a5f-bb13-0fbdc32bea91\",\"type\":\"ResetTool\"},{\"id\":\"9b59bf9b-1778-4688-99f0-2cf12735deb0\",\"type\":\"HelpTool\"}]},\"id\":\"08abf3cb-f82d-475b-be46-236fc3be2fa7\",\"type\":\"Toolbar\"},{\"attributes\":{},\"id\":\"0f08bc6c-acf5-425a-abde-8b8eab8a5f08\",\"type\":\"BasicTickFormatter\"},{\"attributes\":{},\"id\":\"0dcefb33-04ae-4a53-a4af-3763baeecb80\",\"type\":\"BasicTicker\"},{\"attributes\":{\"axis_label\":\"PreSyn_smaller (bin = 1)\",\"formatter\":{\"id\":\"3a6e439e-9bbe-467f-ac79-b35dce5eb4e4\",\"type\":\"BasicTickFormatter\"},\"plot\":{\"id\":\"e85c90c2-a58b-4309-aac1-394745123b94\",\"subtype\":\"Figure\",\"type\":\"Plot\"},\"ticker\":{\"id\":\"0dcefb33-04ae-4a53-a4af-3763baeecb80\",\"type\":\"BasicTicker\"}},\"id\":\"d606ded9-c3a9-4dd8-b564-43a4053ad64b\",\"type\":\"LinearAxis\"},{\"attributes\":{},\"id\":\"745e6696-bc74-4e78-b2ed-01afcf206c20\",\"type\":\"Selection\"},{\"attributes\":{\"source\":{\"id\":\"9df8e11c-6042-453c-89b4-28e539140669\",\"type\":\"ColumnDataSource\"}},\"id\":\"58b75ad3-161f-458c-a90e-2ca0837c164a\",\"type\":\"CDSView\"},{\"attributes\":{},\"id\":\"251bbd8d-bbb8-4cb5-ab0e-68cb3cb3c741\",\"type\":\"UnionRenderers\"},{\"attributes\":{},\"id\":\"d77444c5-9efd-4ec0-a46d-07bb6099344e\",\"type\":\"PanTool\"},{\"attributes\":{},\"id\":\"a38c5839-eb99-4c68-8167-cf468f6eb0d6\",\"type\":\"Selection\"},{\"attributes\":{},\"id\":\"3a6e439e-9bbe-467f-ac79-b35dce5eb4e4\",\"type\":\"BasicTickFormatter\"},{\"attributes\":{\"fill_alpha\":{\"value\":0.1},\"fill_color\":{\"value\":\"#1f77b4\"},\"height\":{\"value\":0.9},\"line_alpha\":{\"value\":0.1},\"line_color\":{\"value\":\"#1f77b4\"},\"right\":{\"field\":\"right\"},\"y\":{\"field\":\"y\"}},\"id\":\"cfded41b-9419-4ac4-a5b4-38b6a8d004d2\",\"type\":\"HBar\"},{\"attributes\":{\"plot\":null,\"text\":\"(Don't) Merge Counts by PreSyn_smaller\"},\"id\":\"35eebda9-62c5-49c3-916c-52e0d2ebc97d\",\"type\":\"Title\"},{\"attributes\":{\"fill_color\":{\"value\":\"crimson\"},\"height\":{\"value\":0.9},\"left\":{\"field\":\"left\"},\"line_color\":{\"value\":\"crimson\"},\"right\":{\"value\":0},\"y\":{\"field\":\"y\"}},\"id\":\"aac2f7a4-078c-4371-a997-ea2e47f6dffc\",\"type\":\"HBar\"},{\"attributes\":{\"overlay\":{\"id\":\"6e725462-fc01-4f18-8d4c-f1a375b01509\",\"type\":\"BoxAnnotation\"}},\"id\":\"b406976c-733f-4d55-a9f9-263901694bbf\",\"type\":\"BoxZoomTool\"},{\"attributes\":{},\"id\":\"e74bb887-9734-42e1-870d-3dfe1b0fb88d\",\"type\":\"SaveTool\"},{\"attributes\":{\"source\":{\"id\":\"a086e6f6-c6e6-49f8-a64f-d167c8e9065b\",\"type\":\"ColumnDataSource\"}},\"id\":\"da88fcaf-190e-43df-8630-24a402dd3c0c\",\"type\":\"CDSView\"},{\"attributes\":{\"fill_alpha\":{\"value\":0.1},\"fill_color\":{\"value\":\"#1f77b4\"},\"height\":{\"value\":0.9},\"left\":{\"field\":\"left\"},\"line_alpha\":{\"value\":0.1},\"line_color\":{\"value\":\"#1f77b4\"},\"right\":{\"value\":0},\"y\":{\"field\":\"y\"}},\"id\":\"f751c1a1-071e-475e-bc30-96901f0ed617\",\"type\":\"HBar\"},{\"attributes\":{},\"id\":\"abce03ba-6ced-4825-85f4-d92619cd8e39\",\"type\":\"WheelZoomTool\"},{\"attributes\":{},\"id\":\"cbb32ad6-cec2-4abf-9213-54869eba8337\",\"type\":\"LinearScale\"},{\"attributes\":{\"callback\":null,\"data\":{\"left\":[-2683,-433,-3708,-1911,-1155,-759,-541,-369,-298,-207,-143,-105,-83,-88,-36,-33,-32,-26,-20,-26],\"y\":{\"__ndarray__\":\"AAAAAAAA4D8AAAAAAAD4PwAAAAAAAARAAAAAAAAADEAAAAAAAAASQAAAAAAAABZAAAAAAAAAGkAAAAAAAAAeQAAAAAAAACFAAAAAAAAAI0AAAAAAAAAlQAAAAAAAACdAAAAAAAAAKUAAAAAAAAArQAAAAAAAAC1AAAAAAAAAL0AAAAAAAIAwQAAAAAAAgDFAAAAAAACAMkAAAAAAAIAzQA==\",\"dtype\":\"float64\",\"shape\":[20]}},\"selected\":{\"id\":\"745e6696-bc74-4e78-b2ed-01afcf206c20\",\"type\":\"Selection\"},\"selection_policy\":{\"id\":\"77d51e9c-c434-4d32-8c33-097d77b0313e\",\"type\":\"UnionRenderers\"}},\"id\":\"9df8e11c-6042-453c-89b4-28e539140669\",\"type\":\"ColumnDataSource\"},{\"attributes\":{\"fill_color\":{\"value\":\"navy\"},\"height\":{\"value\":0.9},\"line_color\":{\"value\":\"navy\"},\"right\":{\"field\":\"right\"},\"y\":{\"field\":\"y\"}},\"id\":\"4a1fbed8-5f23-402b-9028-2414c532f4ab\",\"type\":\"HBar\"},{\"attributes\":{},\"id\":\"9b59bf9b-1778-4688-99f0-2cf12735deb0\",\"type\":\"HelpTool\"},{\"attributes\":{\"dimension\":1,\"plot\":{\"id\":\"e85c90c2-a58b-4309-aac1-394745123b94\",\"subtype\":\"Figure\",\"type\":\"Plot\"},\"ticker\":{\"id\":\"0dcefb33-04ae-4a53-a4af-3763baeecb80\",\"type\":\"BasicTicker\"}},\"id\":\"4a654aa8-6788-4adc-9433-1cfa922fe2db\",\"type\":\"Grid\"},{\"attributes\":{\"data_source\":{\"id\":\"9df8e11c-6042-453c-89b4-28e539140669\",\"type\":\"ColumnDataSource\"},\"glyph\":{\"id\":\"aac2f7a4-078c-4371-a997-ea2e47f6dffc\",\"type\":\"HBar\"},\"hover_glyph\":null,\"muted_glyph\":null,\"nonselection_glyph\":{\"id\":\"f751c1a1-071e-475e-bc30-96901f0ed617\",\"type\":\"HBar\"},\"selection_glyph\":null,\"view\":{\"id\":\"58b75ad3-161f-458c-a90e-2ca0837c164a\",\"type\":\"CDSView\"}},\"id\":\"4ea4e617-63f3-4463-abc3-c7629f79628c\",\"type\":\"GlyphRenderer\"},{\"attributes\":{\"plot\":{\"id\":\"e85c90c2-a58b-4309-aac1-394745123b94\",\"subtype\":\"Figure\",\"type\":\"Plot\"},\"ticker\":{\"id\":\"92a60481-1875-4ba2-b5b5-535ff308e07a\",\"type\":\"BasicTicker\"}},\"id\":\"8b788569-a793-4ad2-a4f6-d744aac33042\",\"type\":\"Grid\"},{\"attributes\":{},\"id\":\"35738ad3-2c1d-4a5f-bb13-0fbdc32bea91\",\"type\":\"ResetTool\"},{\"attributes\":{},\"id\":\"92a60481-1875-4ba2-b5b5-535ff308e07a\",\"type\":\"BasicTicker\"}],\"root_ids\":[\"e85c90c2-a58b-4309-aac1-394745123b94\"]},\"title\":\"Bokeh Application\",\"version\":\"0.13.0\"}};\n",
       "  var render_items = [{\"docid\":\"dfb0b3f5-0950-4be1-a549-c225626029a8\",\"roots\":{\"e85c90c2-a58b-4309-aac1-394745123b94\":\"aeebb6dd-b2b4-4655-ac3d-518e1e720776\"}}];\n",
       "  root.Bokeh.embed.embed_items_notebook(docs_json, render_items);\n",
       "\n",
       "  }\n",
       "  if (root.Bokeh !== undefined) {\n",
       "    embed_document(root);\n",
       "  } else {\n",
       "    var attempts = 0;\n",
       "    var timer = setInterval(function(root) {\n",
       "      if (root.Bokeh !== undefined) {\n",
       "        embed_document(root);\n",
       "        clearInterval(timer);\n",
       "      }\n",
       "      attempts++;\n",
       "      if (attempts > 100) {\n",
       "        console.log(\"Bokeh: ERROR: Unable to run BokehJS code because BokehJS library is missing\")\n",
       "        clearInterval(timer);\n",
       "      }\n",
       "    }, 10, root)\n",
       "  }\n",
       "})(window);"
      ],
      "application/vnd.bokehjs_exec.v0+json": ""
     },
     "metadata": {
      "application/vnd.bokehjs_exec.v0+json": {
       "id": "e85c90c2-a58b-4309-aac1-394745123b94"
      }
     },
     "output_type": "display_data"
    },
    {
     "data": {
      "text/html": [
       "\n",
       "\n",
       "\n",
       "\n",
       "\n",
       "\n",
       "  <div class=\"bk-root\" id=\"da659691-02c7-450f-a2fe-f52784f040f1\"></div>\n"
      ]
     },
     "metadata": {},
     "output_type": "display_data"
    },
    {
     "data": {
      "application/javascript": [
       "(function(root) {\n",
       "  function embed_document(root) {\n",
       "    \n",
       "  var docs_json = {\"1a922e0a-a913-4a58-8971-613c5700b150\":{\"roots\":{\"references\":[{\"attributes\":{\"axis_label\":\"Decision Ratio (Don't Merge/Merge)\",\"formatter\":{\"id\":\"9d4264d1-0195-43d1-8a0e-9446e86641ef\",\"type\":\"BasicTickFormatter\"},\"plot\":{\"id\":\"0a378e0b-3ca0-4191-8db9-b0c816da6279\",\"subtype\":\"Figure\",\"type\":\"Plot\"},\"ticker\":{\"id\":\"dfacafdd-e92c-46b1-af1e-a9b37f786796\",\"type\":\"BasicTicker\"}},\"id\":\"5a1ca798-51bb-480c-bcd1-e1a6678c2f9e\",\"type\":\"LinearAxis\"},{\"attributes\":{},\"id\":\"9d4264d1-0195-43d1-8a0e-9446e86641ef\",\"type\":\"BasicTickFormatter\"},{\"attributes\":{\"callback\":null,\"end\":0.8965413267115999,\"start\":-0.5225862068965518},\"id\":\"273ce6f6-131b-4f50-a1d9-854a5feadd52\",\"type\":\"Range1d\"},{\"attributes\":{\"plot\":null,\"text\":\"(Don't) Merge Ratio by PreSyn_smaller\"},\"id\":\"91a9a78b-8c3b-4b77-bcec-712966a27b04\",\"type\":\"Title\"},{\"attributes\":{\"bottom_units\":\"screen\",\"fill_alpha\":{\"value\":0.5},\"fill_color\":{\"value\":\"lightgrey\"},\"left_units\":\"screen\",\"level\":\"overlay\",\"line_alpha\":{\"value\":1.0},\"line_color\":{\"value\":\"black\"},\"line_dash\":[4,4],\"line_width\":{\"value\":2},\"plot\":null,\"render_mode\":\"css\",\"right_units\":\"screen\",\"top_units\":\"screen\"},\"id\":\"4008cad1-de96-4b96-9f2f-6123eb7211d5\",\"type\":\"BoxAnnotation\"},{\"attributes\":{\"fill_color\":{\"value\":\"crimson\"},\"height\":{\"value\":0.9},\"left\":{\"field\":\"left\"},\"line_color\":{\"value\":\"crimson\"},\"right\":{\"value\":0},\"y\":{\"field\":\"y\"}},\"id\":\"ef44872e-5045-44ae-ae6d-7c23704f8d28\",\"type\":\"HBar\"},{\"attributes\":{},\"id\":\"dfacafdd-e92c-46b1-af1e-a9b37f786796\",\"type\":\"BasicTicker\"},{\"attributes\":{\"callback\":null,\"end\":20},\"id\":\"6e2b765f-1f82-4954-b593-7505219f36ba\",\"type\":\"Range1d\"},{\"attributes\":{},\"id\":\"0b2fe23d-26e4-4b97-a8db-8f73dfdee4f9\",\"type\":\"LinearScale\"},{\"attributes\":{},\"id\":\"21c1e7ba-29b4-4446-abb0-a729cb5303b6\",\"type\":\"BasicTickFormatter\"},{\"attributes\":{\"data_source\":{\"id\":\"fc8ede0f-7116-415c-811c-9629537bd551\",\"type\":\"ColumnDataSource\"},\"glyph\":{\"id\":\"769f1641-909b-47a2-baa2-126bd85a0d65\",\"type\":\"HBar\"},\"hover_glyph\":null,\"muted_glyph\":null,\"nonselection_glyph\":{\"id\":\"2b1ea5a7-f6ed-4411-a8ad-5c3d6c520010\",\"type\":\"HBar\"},\"selection_glyph\":null,\"view\":{\"id\":\"57bdba26-0a06-42b9-b469-3d70ea62cb8e\",\"type\":\"CDSView\"}},\"id\":\"8db79922-3550-4f12-8ee8-7ed970fb40e2\",\"type\":\"GlyphRenderer\"},{\"attributes\":{},\"id\":\"028820c2-f8db-45a2-8ea8-a319e1ae5f5a\",\"type\":\"PanTool\"},{\"attributes\":{},\"id\":\"9001efe6-1bcc-4275-bdad-16a490baa125\",\"type\":\"LinearScale\"},{\"attributes\":{},\"id\":\"907eb99c-7d9a-4536-a6f1-e9d706b10182\",\"type\":\"Selection\"},{\"attributes\":{\"fill_color\":{\"value\":\"navy\"},\"height\":{\"value\":0.9},\"line_color\":{\"value\":\"navy\"},\"right\":{\"field\":\"right\"},\"y\":{\"field\":\"y\"}},\"id\":\"769f1641-909b-47a2-baa2-126bd85a0d65\",\"type\":\"HBar\"},{\"attributes\":{\"source\":{\"id\":\"fc8ede0f-7116-415c-811c-9629537bd551\",\"type\":\"ColumnDataSource\"}},\"id\":\"57bdba26-0a06-42b9-b469-3d70ea62cb8e\",\"type\":\"CDSView\"},{\"attributes\":{\"fill_alpha\":{\"value\":0.1},\"fill_color\":{\"value\":\"#1f77b4\"},\"height\":{\"value\":0.9},\"line_alpha\":{\"value\":0.1},\"line_color\":{\"value\":\"#1f77b4\"},\"right\":{\"field\":\"right\"},\"y\":{\"field\":\"y\"}},\"id\":\"2b1ea5a7-f6ed-4411-a8ad-5c3d6c520010\",\"type\":\"HBar\"},{\"attributes\":{},\"id\":\"65cf6f88-cb6e-4053-a52b-b57055b6f877\",\"type\":\"UnionRenderers\"},{\"attributes\":{},\"id\":\"e85f8cbc-6174-4452-a35c-5b9bf46a59f0\",\"type\":\"HelpTool\"},{\"attributes\":{\"plot\":{\"id\":\"0a378e0b-3ca0-4191-8db9-b0c816da6279\",\"subtype\":\"Figure\",\"type\":\"Plot\"},\"ticker\":{\"id\":\"dfacafdd-e92c-46b1-af1e-a9b37f786796\",\"type\":\"BasicTicker\"}},\"id\":\"08ad8982-3dca-4373-bb68-2266b6437107\",\"type\":\"Grid\"},{\"attributes\":{},\"id\":\"b53bb77d-9300-44c9-b77e-0415ecc1d156\",\"type\":\"Selection\"},{\"attributes\":{\"overlay\":{\"id\":\"4008cad1-de96-4b96-9f2f-6123eb7211d5\",\"type\":\"BoxAnnotation\"}},\"id\":\"8954e35d-2c32-4c5a-834a-f6788b1fda41\",\"type\":\"BoxZoomTool\"},{\"attributes\":{\"callback\":null,\"data\":{\"left\":{\"__ndarray__\":\"WKmkpq813r9fpf3rVdrfv/SCym4UtcK/YX7qpalJxr8my0q3BhfIv2XDEdOeyMi/2X70jIEPy79a1CxqFjXLv/qwn7KRqc6/D1DuAOUO0L8W01lMZzHNv0dY7mmE5c6/02m4e1kl0L/sW+G0w77Vv4FPDpcBn8y/bzBFPusG079VVVVVVVXVv8ln3WCKfNa/2Ymd2Imd2L8ElbNb+NXYvw==\",\"dtype\":\"float64\",\"shape\":[20]},\"y\":{\"__ndarray__\":\"AAAAAAAA4D8AAAAAAAD4PwAAAAAAAARAAAAAAAAADEAAAAAAAAASQAAAAAAAABZAAAAAAAAAGkAAAAAAAAAeQAAAAAAAACFAAAAAAAAAI0AAAAAAAAAlQAAAAAAAACdAAAAAAAAAKUAAAAAAAAArQAAAAAAAAC1AAAAAAAAAL0AAAAAAAIAwQAAAAAAAgDFAAAAAAACAMkAAAAAAAIAzQA==\",\"dtype\":\"float64\",\"shape\":[20]}},\"selected\":{\"id\":\"b53bb77d-9300-44c9-b77e-0415ecc1d156\",\"type\":\"Selection\"},\"selection_policy\":{\"id\":\"b57ca361-95c2-4a51-9c9f-030a812a045f\",\"type\":\"UnionRenderers\"}},\"id\":\"785f685c-acd0-42ff-88fa-9566e55a54be\",\"type\":\"ColumnDataSource\"},{\"attributes\":{},\"id\":\"b57ca361-95c2-4a51-9c9f-030a812a045f\",\"type\":\"UnionRenderers\"},{\"attributes\":{\"callback\":null,\"data\":{\"right\":{\"__ndarray__\":\"VKutLCjl4D9RLQEK1RLgP0NfTeS6Uus/aGCFlpVt6j83TS1SPvrpPyePO0vYzek/SuDCnB886T/qynRlujLpP8ETWJObVeg/+deIf4345z86i+ksprPoP+5phOWeRug/F8sjQlPt5z8KUo8lniDlPyBsPJo/2Og/yWfdYIp85j9VVVVVVVXlPxxMkc+6weQ/FDuxEzux4z9+NSbSA5XjPw==\",\"dtype\":\"float64\",\"shape\":[20]},\"y\":{\"__ndarray__\":\"AAAAAAAA4D8AAAAAAAD4PwAAAAAAAARAAAAAAAAADEAAAAAAAAASQAAAAAAAABZAAAAAAAAAGkAAAAAAAAAeQAAAAAAAACFAAAAAAAAAI0AAAAAAAAAlQAAAAAAAACdAAAAAAAAAKUAAAAAAAAArQAAAAAAAAC1AAAAAAAAAL0AAAAAAAIAwQAAAAAAAgDFAAAAAAACAMkAAAAAAAIAzQA==\",\"dtype\":\"float64\",\"shape\":[20]}},\"selected\":{\"id\":\"907eb99c-7d9a-4536-a6f1-e9d706b10182\",\"type\":\"Selection\"},\"selection_policy\":{\"id\":\"65cf6f88-cb6e-4053-a52b-b57055b6f877\",\"type\":\"UnionRenderers\"}},\"id\":\"fc8ede0f-7116-415c-811c-9629537bd551\",\"type\":\"ColumnDataSource\"},{\"attributes\":{},\"id\":\"b2dd8148-1bbd-4805-b10f-114a3623fb7b\",\"type\":\"WheelZoomTool\"},{\"attributes\":{\"source\":{\"id\":\"785f685c-acd0-42ff-88fa-9566e55a54be\",\"type\":\"ColumnDataSource\"}},\"id\":\"8f4cf19d-683a-47d3-9c59-93331f7fd062\",\"type\":\"CDSView\"},{\"attributes\":{},\"id\":\"4f39ac6e-17f3-491e-ba47-55915c188207\",\"type\":\"BasicTicker\"},{\"attributes\":{\"fill_alpha\":{\"value\":0.1},\"fill_color\":{\"value\":\"#1f77b4\"},\"height\":{\"value\":0.9},\"left\":{\"field\":\"left\"},\"line_alpha\":{\"value\":0.1},\"line_color\":{\"value\":\"#1f77b4\"},\"right\":{\"value\":0},\"y\":{\"field\":\"y\"}},\"id\":\"6956b14e-4da2-4762-b75a-568df47cc8b3\",\"type\":\"HBar\"},{\"attributes\":{\"dimension\":1,\"plot\":{\"id\":\"0a378e0b-3ca0-4191-8db9-b0c816da6279\",\"subtype\":\"Figure\",\"type\":\"Plot\"},\"ticker\":{\"id\":\"4f39ac6e-17f3-491e-ba47-55915c188207\",\"type\":\"BasicTicker\"}},\"id\":\"5f22ef91-f581-40d2-83f8-bc268e2c0be2\",\"type\":\"Grid\"},{\"attributes\":{},\"id\":\"86c1fbee-0d38-4721-a757-df8ec57f4bec\",\"type\":\"ResetTool\"},{\"attributes\":{},\"id\":\"e6b52bf2-b6cc-49b3-a34d-3798e2bc83cc\",\"type\":\"SaveTool\"},{\"attributes\":{\"below\":[{\"id\":\"5a1ca798-51bb-480c-bcd1-e1a6678c2f9e\",\"type\":\"LinearAxis\"}],\"left\":[{\"id\":\"2f81557d-6388-4aaa-b3c9-8f5d05764f1c\",\"type\":\"LinearAxis\"}],\"plot_height\":400,\"renderers\":[{\"id\":\"5a1ca798-51bb-480c-bcd1-e1a6678c2f9e\",\"type\":\"LinearAxis\"},{\"id\":\"08ad8982-3dca-4373-bb68-2266b6437107\",\"type\":\"Grid\"},{\"id\":\"2f81557d-6388-4aaa-b3c9-8f5d05764f1c\",\"type\":\"LinearAxis\"},{\"id\":\"5f22ef91-f581-40d2-83f8-bc268e2c0be2\",\"type\":\"Grid\"},{\"id\":\"4008cad1-de96-4b96-9f2f-6123eb7211d5\",\"type\":\"BoxAnnotation\"},{\"id\":\"8db79922-3550-4f12-8ee8-7ed970fb40e2\",\"type\":\"GlyphRenderer\"},{\"id\":\"1ad34eca-dabb-4b3b-a7df-34c2c88a2eb0\",\"type\":\"GlyphRenderer\"}],\"title\":{\"id\":\"91a9a78b-8c3b-4b77-bcec-712966a27b04\",\"type\":\"Title\"},\"toolbar\":{\"id\":\"9cd19bc3-91d6-4f78-995c-1e6332297086\",\"type\":\"Toolbar\"},\"x_range\":{\"id\":\"273ce6f6-131b-4f50-a1d9-854a5feadd52\",\"type\":\"Range1d\"},\"x_scale\":{\"id\":\"0b2fe23d-26e4-4b97-a8db-8f73dfdee4f9\",\"type\":\"LinearScale\"},\"y_range\":{\"id\":\"6e2b765f-1f82-4954-b593-7505219f36ba\",\"type\":\"Range1d\"},\"y_scale\":{\"id\":\"9001efe6-1bcc-4275-bdad-16a490baa125\",\"type\":\"LinearScale\"}},\"id\":\"0a378e0b-3ca0-4191-8db9-b0c816da6279\",\"subtype\":\"Figure\",\"type\":\"Plot\"},{\"attributes\":{\"data_source\":{\"id\":\"785f685c-acd0-42ff-88fa-9566e55a54be\",\"type\":\"ColumnDataSource\"},\"glyph\":{\"id\":\"ef44872e-5045-44ae-ae6d-7c23704f8d28\",\"type\":\"HBar\"},\"hover_glyph\":null,\"muted_glyph\":null,\"nonselection_glyph\":{\"id\":\"6956b14e-4da2-4762-b75a-568df47cc8b3\",\"type\":\"HBar\"},\"selection_glyph\":null,\"view\":{\"id\":\"8f4cf19d-683a-47d3-9c59-93331f7fd062\",\"type\":\"CDSView\"}},\"id\":\"1ad34eca-dabb-4b3b-a7df-34c2c88a2eb0\",\"type\":\"GlyphRenderer\"},{\"attributes\":{\"axis_label\":\"PreSyn_smaller (bin = 1)\",\"formatter\":{\"id\":\"21c1e7ba-29b4-4446-abb0-a729cb5303b6\",\"type\":\"BasicTickFormatter\"},\"plot\":{\"id\":\"0a378e0b-3ca0-4191-8db9-b0c816da6279\",\"subtype\":\"Figure\",\"type\":\"Plot\"},\"ticker\":{\"id\":\"4f39ac6e-17f3-491e-ba47-55915c188207\",\"type\":\"BasicTicker\"}},\"id\":\"2f81557d-6388-4aaa-b3c9-8f5d05764f1c\",\"type\":\"LinearAxis\"},{\"attributes\":{\"active_drag\":\"auto\",\"active_inspect\":\"auto\",\"active_multi\":null,\"active_scroll\":\"auto\",\"active_tap\":\"auto\",\"tools\":[{\"id\":\"028820c2-f8db-45a2-8ea8-a319e1ae5f5a\",\"type\":\"PanTool\"},{\"id\":\"b2dd8148-1bbd-4805-b10f-114a3623fb7b\",\"type\":\"WheelZoomTool\"},{\"id\":\"8954e35d-2c32-4c5a-834a-f6788b1fda41\",\"type\":\"BoxZoomTool\"},{\"id\":\"e6b52bf2-b6cc-49b3-a34d-3798e2bc83cc\",\"type\":\"SaveTool\"},{\"id\":\"86c1fbee-0d38-4721-a757-df8ec57f4bec\",\"type\":\"ResetTool\"},{\"id\":\"e85f8cbc-6174-4452-a35c-5b9bf46a59f0\",\"type\":\"HelpTool\"}]},\"id\":\"9cd19bc3-91d6-4f78-995c-1e6332297086\",\"type\":\"Toolbar\"}],\"root_ids\":[\"0a378e0b-3ca0-4191-8db9-b0c816da6279\"]},\"title\":\"Bokeh Application\",\"version\":\"0.13.0\"}};\n",
       "  var render_items = [{\"docid\":\"1a922e0a-a913-4a58-8971-613c5700b150\",\"roots\":{\"0a378e0b-3ca0-4191-8db9-b0c816da6279\":\"da659691-02c7-450f-a2fe-f52784f040f1\"}}];\n",
       "  root.Bokeh.embed.embed_items_notebook(docs_json, render_items);\n",
       "\n",
       "  }\n",
       "  if (root.Bokeh !== undefined) {\n",
       "    embed_document(root);\n",
       "  } else {\n",
       "    var attempts = 0;\n",
       "    var timer = setInterval(function(root) {\n",
       "      if (root.Bokeh !== undefined) {\n",
       "        embed_document(root);\n",
       "        clearInterval(timer);\n",
       "      }\n",
       "      attempts++;\n",
       "      if (attempts > 100) {\n",
       "        console.log(\"Bokeh: ERROR: Unable to run BokehJS code because BokehJS library is missing\")\n",
       "        clearInterval(timer);\n",
       "      }\n",
       "    }, 10, root)\n",
       "  }\n",
       "})(window);"
      ],
      "application/vnd.bokehjs_exec.v0+json": ""
     },
     "metadata": {
      "application/vnd.bokehjs_exec.v0+json": {
       "id": "0a378e0b-3ca0-4191-8db9-b0c816da6279"
      }
     },
     "output_type": "display_data"
    },
    {
     "data": {
      "text/html": [
       "\n",
       "\n",
       "\n",
       "\n",
       "\n",
       "\n",
       "  <div class=\"bk-root\" id=\"ed24bb46-7f71-4a18-bb18-9e16b70e7592\"></div>\n"
      ]
     },
     "metadata": {},
     "output_type": "display_data"
    },
    {
     "data": {
      "application/javascript": [
       "(function(root) {\n",
       "  function embed_document(root) {\n",
       "    \n",
       "  var docs_json = {\"99e47d84-ecec-4ac5-abe7-9c50e68bfe60\":{\"roots\":{\"references\":[{\"attributes\":{\"dimension\":1,\"plot\":{\"id\":\"b649535f-e77d-43c4-a179-5f19e42524dc\",\"subtype\":\"Figure\",\"type\":\"Plot\"},\"ticker\":{\"id\":\"aad89c53-680d-4adb-88b5-7c5ad2966bb3\",\"type\":\"BasicTicker\"}},\"id\":\"6a6598cc-945b-47fb-b0a3-61a2fb46d5b8\",\"type\":\"Grid\"},{\"attributes\":{\"below\":[{\"id\":\"b9a68139-e04b-48e3-a38a-bfcf31511aac\",\"type\":\"LinearAxis\"}],\"left\":[{\"id\":\"c5a01910-b885-4dce-bcb1-19664fec067f\",\"type\":\"LinearAxis\"}],\"plot_height\":400,\"renderers\":[{\"id\":\"b9a68139-e04b-48e3-a38a-bfcf31511aac\",\"type\":\"LinearAxis\"},{\"id\":\"f9a69fa5-98f2-439f-9da2-8eec6ee87abf\",\"type\":\"Grid\"},{\"id\":\"c5a01910-b885-4dce-bcb1-19664fec067f\",\"type\":\"LinearAxis\"},{\"id\":\"6a6598cc-945b-47fb-b0a3-61a2fb46d5b8\",\"type\":\"Grid\"},{\"id\":\"5f6cdbfd-42a4-428f-84a6-eb736053aa66\",\"type\":\"BoxAnnotation\"},{\"id\":\"70c73ed5-3833-41ee-a9f6-9f426a890092\",\"type\":\"GlyphRenderer\"},{\"id\":\"894119bc-3c19-4840-957a-1034f2bd56ea\",\"type\":\"GlyphRenderer\"}],\"title\":{\"id\":\"db67b292-5b08-4eb6-b1fd-85426253733c\",\"type\":\"Title\"},\"toolbar\":{\"id\":\"4e5e1f64-6da4-4d87-83ab-e1dcd2a5a564\",\"type\":\"Toolbar\"},\"x_range\":{\"id\":\"1574ce77-a387-4970-be1e-9c9edbe2c8ac\",\"type\":\"Range1d\"},\"x_scale\":{\"id\":\"2eb4aea3-c4ad-4f35-9dc0-0a34954b5a54\",\"type\":\"LinearScale\"},\"y_range\":{\"id\":\"404fdc65-cc44-4977-93c5-2cd0c941b502\",\"type\":\"Range1d\"},\"y_scale\":{\"id\":\"251efd01-cd96-4743-8cfd-6bff8ee5fba5\",\"type\":\"LinearScale\"}},\"id\":\"b649535f-e77d-43c4-a179-5f19e42524dc\",\"subtype\":\"Figure\",\"type\":\"Plot\"},{\"attributes\":{},\"id\":\"aad89c53-680d-4adb-88b5-7c5ad2966bb3\",\"type\":\"BasicTicker\"},{\"attributes\":{\"fill_color\":{\"value\":\"crimson\"},\"height\":{\"value\":0.9},\"left\":{\"field\":\"left\"},\"line_color\":{\"value\":\"crimson\"},\"right\":{\"value\":0},\"y\":{\"field\":\"y\"}},\"id\":\"ec977f2d-e8ed-4e10-b65d-e7417a06ffcf\",\"type\":\"HBar\"},{\"attributes\":{\"callback\":null,\"end\":10251.15,\"start\":-1199.1000000000001},\"id\":\"1574ce77-a387-4970-be1e-9c9edbe2c8ac\",\"type\":\"Range1d\"},{\"attributes\":{\"plot\":{\"id\":\"b649535f-e77d-43c4-a179-5f19e42524dc\",\"subtype\":\"Figure\",\"type\":\"Plot\"},\"ticker\":{\"id\":\"2fe99ee8-109e-46bb-b933-c95cd5aa8a67\",\"type\":\"BasicTicker\"}},\"id\":\"f9a69fa5-98f2-439f-9da2-8eec6ee87abf\",\"type\":\"Grid\"},{\"attributes\":{\"axis_label\":\"Decision Counts (Don't Merge/Merge)\",\"formatter\":{\"id\":\"c812f383-00b0-49cd-bec6-376c29dd7adb\",\"type\":\"BasicTickFormatter\"},\"plot\":{\"id\":\"b649535f-e77d-43c4-a179-5f19e42524dc\",\"subtype\":\"Figure\",\"type\":\"Plot\"},\"ticker\":{\"id\":\"2fe99ee8-109e-46bb-b933-c95cd5aa8a67\",\"type\":\"BasicTicker\"}},\"id\":\"b9a68139-e04b-48e3-a38a-bfcf31511aac\",\"type\":\"LinearAxis\"},{\"attributes\":{},\"id\":\"3593fe11-85ce-4970-8be1-4963ba473764\",\"type\":\"Selection\"},{\"attributes\":{\"plot\":null,\"text\":\"(Don't) Merge Counts by PostSyn_smaller\"},\"id\":\"db67b292-5b08-4eb6-b1fd-85426253733c\",\"type\":\"Title\"},{\"attributes\":{},\"id\":\"49d3a781-2607-47af-bdea-0aa93cce1baa\",\"type\":\"Selection\"},{\"attributes\":{\"data_source\":{\"id\":\"2316183b-e75b-483c-b5c7-3730f0041fe2\",\"type\":\"ColumnDataSource\"},\"glyph\":{\"id\":\"ec977f2d-e8ed-4e10-b65d-e7417a06ffcf\",\"type\":\"HBar\"},\"hover_glyph\":null,\"muted_glyph\":null,\"nonselection_glyph\":{\"id\":\"ec721f1e-4da9-4562-bd46-07213bb816f0\",\"type\":\"HBar\"},\"selection_glyph\":null,\"view\":{\"id\":\"c7b5fc25-a920-4439-aed3-237e038419e3\",\"type\":\"CDSView\"}},\"id\":\"894119bc-3c19-4840-957a-1034f2bd56ea\",\"type\":\"GlyphRenderer\"},{\"attributes\":{\"source\":{\"id\":\"d1a6b7fd-a0fc-410c-bc3e-c74245c1e2cd\",\"type\":\"ColumnDataSource\"}},\"id\":\"2bff88bd-b3c5-43b0-b16f-87b1a40f0761\",\"type\":\"CDSView\"},{\"attributes\":{\"overlay\":{\"id\":\"5f6cdbfd-42a4-428f-84a6-eb736053aa66\",\"type\":\"BoxAnnotation\"}},\"id\":\"18d24ecf-63d7-4eba-a87e-96763112c1f8\",\"type\":\"BoxZoomTool\"},{\"attributes\":{\"callback\":null,\"data\":{\"right\":[9763,6724,5197,3930,3078,2615,2152,1779,1398,1191,1862,1447,1171,935,725,614,525,441,395,582],\"y\":{\"__ndarray__\":\"AAAAAAAA4D8AAAAAAAD4PwAAAAAAAARAAAAAAAAADEAAAAAAAAASQAAAAAAAABZAAAAAAAAAGkAAAAAAAAAeQAAAAAAAACFAAAAAAAAAI0AAAAAAAAAlQAAAAAAAACdAAAAAAAAAKUAAAAAAAAArQAAAAAAAAC1AAAAAAAAAL0AAAAAAAIAwQAAAAAAAgDFAAAAAAACAMkAAAAAAAIAzQA==\",\"dtype\":\"float64\",\"shape\":[20]}},\"selected\":{\"id\":\"49d3a781-2607-47af-bdea-0aa93cce1baa\",\"type\":\"Selection\"},\"selection_policy\":{\"id\":\"e8949820-96f9-4849-aa53-d5f49abfb239\",\"type\":\"UnionRenderers\"}},\"id\":\"d1a6b7fd-a0fc-410c-bc3e-c74245c1e2cd\",\"type\":\"ColumnDataSource\"},{\"attributes\":{},\"id\":\"ae85d37b-032a-4d5a-bd1a-cc6a1232ec1e\",\"type\":\"WheelZoomTool\"},{\"attributes\":{},\"id\":\"ede2b7ba-97ad-4575-9e2c-db0650160031\",\"type\":\"UnionRenderers\"},{\"attributes\":{},\"id\":\"29378748-e38b-4549-b624-fb7f5198b9ea\",\"type\":\"SaveTool\"},{\"attributes\":{},\"id\":\"e8949820-96f9-4849-aa53-d5f49abfb239\",\"type\":\"UnionRenderers\"},{\"attributes\":{},\"id\":\"251efd01-cd96-4743-8cfd-6bff8ee5fba5\",\"type\":\"LinearScale\"},{\"attributes\":{\"fill_alpha\":{\"value\":0.1},\"fill_color\":{\"value\":\"#1f77b4\"},\"height\":{\"value\":0.9},\"left\":{\"field\":\"left\"},\"line_alpha\":{\"value\":0.1},\"line_color\":{\"value\":\"#1f77b4\"},\"right\":{\"value\":0},\"y\":{\"field\":\"y\"}},\"id\":\"ec721f1e-4da9-4562-bd46-07213bb816f0\",\"type\":\"HBar\"},{\"attributes\":{\"data_source\":{\"id\":\"d1a6b7fd-a0fc-410c-bc3e-c74245c1e2cd\",\"type\":\"ColumnDataSource\"},\"glyph\":{\"id\":\"2c2c8b3e-fe62-4050-bd64-f5ea5cc66ffb\",\"type\":\"HBar\"},\"hover_glyph\":null,\"muted_glyph\":null,\"nonselection_glyph\":{\"id\":\"83b11a2b-2645-4ae5-af8f-09297f7d791f\",\"type\":\"HBar\"},\"selection_glyph\":null,\"view\":{\"id\":\"2bff88bd-b3c5-43b0-b16f-87b1a40f0761\",\"type\":\"CDSView\"}},\"id\":\"70c73ed5-3833-41ee-a9f6-9f426a890092\",\"type\":\"GlyphRenderer\"},{\"attributes\":{},\"id\":\"e0df8f64-4d2d-4552-91b0-606de98ecc2c\",\"type\":\"BasicTickFormatter\"},{\"attributes\":{},\"id\":\"34ce4b9d-4b7d-4775-9e64-4117b38e2102\",\"type\":\"HelpTool\"},{\"attributes\":{},\"id\":\"f4787474-d86e-4b8a-90c5-7bdf7a7020e9\",\"type\":\"ResetTool\"},{\"attributes\":{},\"id\":\"2fe99ee8-109e-46bb-b933-c95cd5aa8a67\",\"type\":\"BasicTicker\"},{\"attributes\":{},\"id\":\"c812f383-00b0-49cd-bec6-376c29dd7adb\",\"type\":\"BasicTickFormatter\"},{\"attributes\":{\"active_drag\":\"auto\",\"active_inspect\":\"auto\",\"active_multi\":null,\"active_scroll\":\"auto\",\"active_tap\":\"auto\",\"tools\":[{\"id\":\"cebe8efd-6f19-4323-8644-660cba5d124d\",\"type\":\"PanTool\"},{\"id\":\"ae85d37b-032a-4d5a-bd1a-cc6a1232ec1e\",\"type\":\"WheelZoomTool\"},{\"id\":\"18d24ecf-63d7-4eba-a87e-96763112c1f8\",\"type\":\"BoxZoomTool\"},{\"id\":\"29378748-e38b-4549-b624-fb7f5198b9ea\",\"type\":\"SaveTool\"},{\"id\":\"f4787474-d86e-4b8a-90c5-7bdf7a7020e9\",\"type\":\"ResetTool\"},{\"id\":\"34ce4b9d-4b7d-4775-9e64-4117b38e2102\",\"type\":\"HelpTool\"}]},\"id\":\"4e5e1f64-6da4-4d87-83ab-e1dcd2a5a564\",\"type\":\"Toolbar\"},{\"attributes\":{\"fill_color\":{\"value\":\"navy\"},\"height\":{\"value\":0.9},\"line_color\":{\"value\":\"navy\"},\"right\":{\"field\":\"right\"},\"y\":{\"field\":\"y\"}},\"id\":\"2c2c8b3e-fe62-4050-bd64-f5ea5cc66ffb\",\"type\":\"HBar\"},{\"attributes\":{},\"id\":\"cebe8efd-6f19-4323-8644-660cba5d124d\",\"type\":\"PanTool\"},{\"attributes\":{},\"id\":\"2eb4aea3-c4ad-4f35-9dc0-0a34954b5a54\",\"type\":\"LinearScale\"},{\"attributes\":{\"callback\":null,\"end\":20},\"id\":\"404fdc65-cc44-4977-93c5-2cd0c941b502\",\"type\":\"Range1d\"},{\"attributes\":{\"bottom_units\":\"screen\",\"fill_alpha\":{\"value\":0.5},\"fill_color\":{\"value\":\"lightgrey\"},\"left_units\":\"screen\",\"level\":\"overlay\",\"line_alpha\":{\"value\":1.0},\"line_color\":{\"value\":\"black\"},\"line_dash\":[4,4],\"line_width\":{\"value\":2},\"plot\":null,\"render_mode\":\"css\",\"right_units\":\"screen\",\"top_units\":\"screen\"},\"id\":\"5f6cdbfd-42a4-428f-84a6-eb736053aa66\",\"type\":\"BoxAnnotation\"},{\"attributes\":{\"source\":{\"id\":\"2316183b-e75b-483c-b5c7-3730f0041fe2\",\"type\":\"ColumnDataSource\"}},\"id\":\"c7b5fc25-a920-4439-aed3-237e038419e3\",\"type\":\"CDSView\"},{\"attributes\":{\"axis_label\":\"PostSyn_smaller (bin = 1)\",\"formatter\":{\"id\":\"e0df8f64-4d2d-4552-91b0-606de98ecc2c\",\"type\":\"BasicTickFormatter\"},\"plot\":{\"id\":\"b649535f-e77d-43c4-a179-5f19e42524dc\",\"subtype\":\"Figure\",\"type\":\"Plot\"},\"ticker\":{\"id\":\"aad89c53-680d-4adb-88b5-7c5ad2966bb3\",\"type\":\"BasicTicker\"}},\"id\":\"c5a01910-b885-4dce-bcb1-19664fec067f\",\"type\":\"LinearAxis\"},{\"attributes\":{\"fill_alpha\":{\"value\":0.1},\"fill_color\":{\"value\":\"#1f77b4\"},\"height\":{\"value\":0.9},\"line_alpha\":{\"value\":0.1},\"line_color\":{\"value\":\"#1f77b4\"},\"right\":{\"field\":\"right\"},\"y\":{\"field\":\"y\"}},\"id\":\"83b11a2b-2645-4ae5-af8f-09297f7d791f\",\"type\":\"HBar\"},{\"attributes\":{\"callback\":null,\"data\":{\"left\":[-1129,-1142,-1074,-901,-737,-677,-607,-475,-450,-388,-889,-696,-484,-420,-316,-323,-220,-180,-161,-271],\"y\":{\"__ndarray__\":\"AAAAAAAA4D8AAAAAAAD4PwAAAAAAAARAAAAAAAAADEAAAAAAAAASQAAAAAAAABZAAAAAAAAAGkAAAAAAAAAeQAAAAAAAACFAAAAAAAAAI0AAAAAAAAAlQAAAAAAAACdAAAAAAAAAKUAAAAAAAAArQAAAAAAAAC1AAAAAAAAAL0AAAAAAAIAwQAAAAAAAgDFAAAAAAACAMkAAAAAAAIAzQA==\",\"dtype\":\"float64\",\"shape\":[20]}},\"selected\":{\"id\":\"3593fe11-85ce-4970-8be1-4963ba473764\",\"type\":\"Selection\"},\"selection_policy\":{\"id\":\"ede2b7ba-97ad-4575-9e2c-db0650160031\",\"type\":\"UnionRenderers\"}},\"id\":\"2316183b-e75b-483c-b5c7-3730f0041fe2\",\"type\":\"ColumnDataSource\"}],\"root_ids\":[\"b649535f-e77d-43c4-a179-5f19e42524dc\"]},\"title\":\"Bokeh Application\",\"version\":\"0.13.0\"}};\n",
       "  var render_items = [{\"docid\":\"99e47d84-ecec-4ac5-abe7-9c50e68bfe60\",\"roots\":{\"b649535f-e77d-43c4-a179-5f19e42524dc\":\"ed24bb46-7f71-4a18-bb18-9e16b70e7592\"}}];\n",
       "  root.Bokeh.embed.embed_items_notebook(docs_json, render_items);\n",
       "\n",
       "  }\n",
       "  if (root.Bokeh !== undefined) {\n",
       "    embed_document(root);\n",
       "  } else {\n",
       "    var attempts = 0;\n",
       "    var timer = setInterval(function(root) {\n",
       "      if (root.Bokeh !== undefined) {\n",
       "        embed_document(root);\n",
       "        clearInterval(timer);\n",
       "      }\n",
       "      attempts++;\n",
       "      if (attempts > 100) {\n",
       "        console.log(\"Bokeh: ERROR: Unable to run BokehJS code because BokehJS library is missing\")\n",
       "        clearInterval(timer);\n",
       "      }\n",
       "    }, 10, root)\n",
       "  }\n",
       "})(window);"
      ],
      "application/vnd.bokehjs_exec.v0+json": ""
     },
     "metadata": {
      "application/vnd.bokehjs_exec.v0+json": {
       "id": "b649535f-e77d-43c4-a179-5f19e42524dc"
      }
     },
     "output_type": "display_data"
    },
    {
     "data": {
      "text/html": [
       "\n",
       "\n",
       "\n",
       "\n",
       "\n",
       "\n",
       "  <div class=\"bk-root\" id=\"7454ed17-6335-47d6-afc8-571faa5df132\"></div>\n"
      ]
     },
     "metadata": {},
     "output_type": "display_data"
    },
    {
     "data": {
      "application/javascript": [
       "(function(root) {\n",
       "  function embed_document(root) {\n",
       "    \n",
       "  var docs_json = {\"3982daa4-24bf-4827-b1e9-29927a53674f\":{\"roots\":{\"references\":[{\"attributes\":{\"fill_color\":{\"value\":\"crimson\"},\"height\":{\"value\":0.9},\"left\":{\"field\":\"left\"},\"line_color\":{\"value\":\"crimson\"},\"right\":{\"value\":0},\"y\":{\"field\":\"y\"}},\"id\":\"10b51df9-d487-449d-9a93-11815ed8e70a\",\"type\":\"HBar\"},{\"attributes\":{\"plot\":{\"id\":\"2ff0cdb0-8dca-4357-8241-19d12fbccca9\",\"subtype\":\"Figure\",\"type\":\"Plot\"},\"ticker\":{\"id\":\"4fe61345-aaf3-4796-9d59-ab83ecd8679a\",\"type\":\"BasicTicker\"}},\"id\":\"d588a3f7-ba45-4863-a26b-1c0aa9d8bc71\",\"type\":\"Grid\"},{\"attributes\":{\"axis_label\":\"PostSyn_smaller (bin = 1)\",\"formatter\":{\"id\":\"53e05697-00f0-4271-ac7c-5f5adf41ffaf\",\"type\":\"BasicTickFormatter\"},\"plot\":{\"id\":\"2ff0cdb0-8dca-4357-8241-19d12fbccca9\",\"subtype\":\"Figure\",\"type\":\"Plot\"},\"ticker\":{\"id\":\"dcfd1805-36a4-4134-a61c-d76578ee3fe4\",\"type\":\"BasicTicker\"}},\"id\":\"ff0eb288-700c-405d-9a12-9110a1604422\",\"type\":\"LinearAxis\"},{\"attributes\":{\"below\":[{\"id\":\"ff9e1c21-7961-41d9-9aab-8ac432e44d61\",\"type\":\"LinearAxis\"}],\"left\":[{\"id\":\"ff0eb288-700c-405d-9a12-9110a1604422\",\"type\":\"LinearAxis\"}],\"plot_height\":400,\"renderers\":[{\"id\":\"ff9e1c21-7961-41d9-9aab-8ac432e44d61\",\"type\":\"LinearAxis\"},{\"id\":\"d588a3f7-ba45-4863-a26b-1c0aa9d8bc71\",\"type\":\"Grid\"},{\"id\":\"ff0eb288-700c-405d-9a12-9110a1604422\",\"type\":\"LinearAxis\"},{\"id\":\"48d9f00d-619d-48cf-a8bd-ebf21fecaeb0\",\"type\":\"Grid\"},{\"id\":\"e942f508-07be-4e89-8e49-65404d4e21bf\",\"type\":\"BoxAnnotation\"},{\"id\":\"9af2e3dc-474d-4d6a-b98d-14d548816f85\",\"type\":\"GlyphRenderer\"},{\"id\":\"0af40c32-c049-464c-9cc0-e6ed67f9ba75\",\"type\":\"GlyphRenderer\"}],\"title\":{\"id\":\"c8a8d8bd-c448-486c-aac9-b1cbdd175546\",\"type\":\"Title\"},\"toolbar\":{\"id\":\"f7bd8e94-f0a1-41d3-b6a4-f4ef8c8d9ad6\",\"type\":\"Toolbar\"},\"x_range\":{\"id\":\"c4a5697a-0178-4a26-bac9-a5ab03cabba8\",\"type\":\"Range1d\"},\"x_scale\":{\"id\":\"2cebaff4-e7aa-486f-a36b-e73e2103e968\",\"type\":\"LinearScale\"},\"y_range\":{\"id\":\"91f59aca-97d0-4132-b678-586476d42a54\",\"type\":\"Range1d\"},\"y_scale\":{\"id\":\"e6a22710-02eb-4b34-bd3b-00608795e507\",\"type\":\"LinearScale\"}},\"id\":\"2ff0cdb0-8dca-4357-8241-19d12fbccca9\",\"subtype\":\"Figure\",\"type\":\"Plot\"},{\"attributes\":{\"dimension\":1,\"plot\":{\"id\":\"2ff0cdb0-8dca-4357-8241-19d12fbccca9\",\"subtype\":\"Figure\",\"type\":\"Plot\"},\"ticker\":{\"id\":\"dcfd1805-36a4-4134-a61c-d76578ee3fe4\",\"type\":\"BasicTicker\"}},\"id\":\"48d9f00d-619d-48cf-a8bd-ebf21fecaeb0\",\"type\":\"Grid\"},{\"attributes\":{\"plot\":null,\"text\":\"(Don't) Merge Ratio by PostSyn_smaller\"},\"id\":\"c8a8d8bd-c448-486c-aac9-b1cbdd175546\",\"type\":\"Title\"},{\"attributes\":{\"callback\":null,\"end\":20},\"id\":\"91f59aca-97d0-4132-b678-586476d42a54\",\"type\":\"Range1d\"},{\"attributes\":{\"bottom_units\":\"screen\",\"fill_alpha\":{\"value\":0.5},\"fill_color\":{\"value\":\"lightgrey\"},\"left_units\":\"screen\",\"level\":\"overlay\",\"line_alpha\":{\"value\":1.0},\"line_color\":{\"value\":\"black\"},\"line_dash\":[4,4],\"line_width\":{\"value\":2},\"plot\":null,\"render_mode\":\"css\",\"right_units\":\"screen\",\"top_units\":\"screen\"},\"id\":\"e942f508-07be-4e89-8e49-65404d4e21bf\",\"type\":\"BoxAnnotation\"},{\"attributes\":{\"data_source\":{\"id\":\"c04be3e6-7ca2-4b82-bcea-3544a9a2b612\",\"type\":\"ColumnDataSource\"},\"glyph\":{\"id\":\"7bf9493b-6ac9-49b0-80ae-37d578f5beeb\",\"type\":\"HBar\"},\"hover_glyph\":null,\"muted_glyph\":null,\"nonselection_glyph\":{\"id\":\"898450ca-4166-4ead-8e30-5245b92082bf\",\"type\":\"HBar\"},\"selection_glyph\":null,\"view\":{\"id\":\"085d8d5e-c9c8-4eb0-a462-0ff5d4bf9748\",\"type\":\"CDSView\"}},\"id\":\"9af2e3dc-474d-4d6a-b98d-14d548816f85\",\"type\":\"GlyphRenderer\"},{\"attributes\":{},\"id\":\"e6a22710-02eb-4b34-bd3b-00608795e507\",\"type\":\"LinearScale\"},{\"attributes\":{},\"id\":\"2cebaff4-e7aa-486f-a36b-e73e2103e968\",\"type\":\"LinearScale\"},{\"attributes\":{\"active_drag\":\"auto\",\"active_inspect\":\"auto\",\"active_multi\":null,\"active_scroll\":\"auto\",\"active_tap\":\"auto\",\"tools\":[{\"id\":\"b25d3080-e59f-4095-913a-f07f59a56b00\",\"type\":\"PanTool\"},{\"id\":\"ac6febbb-a8af-4f7e-9818-27cb3cd2c2f1\",\"type\":\"WheelZoomTool\"},{\"id\":\"66703e72-6bc9-46b4-aa03-37e247893264\",\"type\":\"BoxZoomTool\"},{\"id\":\"b7abbaf4-439c-4d58-8119-9d7978289a64\",\"type\":\"SaveTool\"},{\"id\":\"b9c40749-7685-44a3-83a4-17c6b2cf7812\",\"type\":\"ResetTool\"},{\"id\":\"507ebaeb-a7c3-47fa-b1b7-9a2d4b0cdfcf\",\"type\":\"HelpTool\"}]},\"id\":\"f7bd8e94-f0a1-41d3-b6a4-f4ef8c8d9ad6\",\"type\":\"Toolbar\"},{\"attributes\":{\"fill_alpha\":{\"value\":0.1},\"fill_color\":{\"value\":\"#1f77b4\"},\"height\":{\"value\":0.9},\"left\":{\"field\":\"left\"},\"line_alpha\":{\"value\":0.1},\"line_color\":{\"value\":\"#1f77b4\"},\"right\":{\"value\":0},\"y\":{\"field\":\"y\"}},\"id\":\"35cde280-4f6f-4a91-a482-ae8dc69f3c7b\",\"type\":\"HBar\"},{\"attributes\":{},\"id\":\"dcfd1805-36a4-4134-a61c-d76578ee3fe4\",\"type\":\"BasicTicker\"},{\"attributes\":{\"fill_alpha\":{\"value\":0.1},\"fill_color\":{\"value\":\"#1f77b4\"},\"height\":{\"value\":0.9},\"line_alpha\":{\"value\":0.1},\"line_color\":{\"value\":\"#1f77b4\"},\"right\":{\"field\":\"right\"},\"y\":{\"field\":\"y\"}},\"id\":\"898450ca-4166-4ead-8e30-5245b92082bf\",\"type\":\"HBar\"},{\"attributes\":{},\"id\":\"b7abbaf4-439c-4d58-8119-9d7978289a64\",\"type\":\"SaveTool\"},{\"attributes\":{\"callback\":null,\"end\":0.9411632390745501,\"start\":-0.36195304162219855},\"id\":\"c4a5697a-0178-4a26-bac9-a5ab03cabba8\",\"type\":\"Range1d\"},{\"attributes\":{},\"id\":\"4a9f7fc9-50ef-4159-898e-dd819ee612ca\",\"type\":\"Selection\"},{\"attributes\":{},\"id\":\"53e05697-00f0-4271-ac7c-5f5adf41ffaf\",\"type\":\"BasicTickFormatter\"},{\"attributes\":{},\"id\":\"98465681-0122-4894-8b80-f3e70643f8e2\",\"type\":\"UnionRenderers\"},{\"attributes\":{},\"id\":\"b25d3080-e59f-4095-913a-f07f59a56b00\",\"type\":\"PanTool\"},{\"attributes\":{},\"id\":\"5877ad7b-c7f7-4a6e-b045-3f40449fb28a\",\"type\":\"BasicTickFormatter\"},{\"attributes\":{\"source\":{\"id\":\"c04be3e6-7ca2-4b82-bcea-3544a9a2b612\",\"type\":\"ColumnDataSource\"}},\"id\":\"085d8d5e-c9c8-4eb0-a462-0ff5d4bf9748\",\"type\":\"CDSView\"},{\"attributes\":{},\"id\":\"b9c40749-7685-44a3-83a4-17c6b2cf7812\",\"type\":\"ResetTool\"},{\"attributes\":{\"data_source\":{\"id\":\"2a1fe6bb-b81a-4a9e-b494-f2e12118bcbd\",\"type\":\"ColumnDataSource\"},\"glyph\":{\"id\":\"10b51df9-d487-449d-9a93-11815ed8e70a\",\"type\":\"HBar\"},\"hover_glyph\":null,\"muted_glyph\":null,\"nonselection_glyph\":{\"id\":\"35cde280-4f6f-4a91-a482-ae8dc69f3c7b\",\"type\":\"HBar\"},\"selection_glyph\":null,\"view\":{\"id\":\"c0d4bad1-f304-4068-89cc-64ebb4332b6e\",\"type\":\"CDSView\"}},\"id\":\"0af40c32-c049-464c-9cc0-e6ed67f9ba75\",\"type\":\"GlyphRenderer\"},{\"attributes\":{\"fill_color\":{\"value\":\"navy\"},\"height\":{\"value\":0.9},\"line_color\":{\"value\":\"navy\"},\"right\":{\"field\":\"right\"},\"y\":{\"field\":\"y\"}},\"id\":\"7bf9493b-6ac9-49b0-80ae-37d578f5beeb\",\"type\":\"HBar\"},{\"attributes\":{\"callback\":null,\"data\":{\"right\":{\"__ndarray__\":\"1AVWr92u7D/MwEa1q1rrP6DTQDQAheo/b/L/HikI6j8Xne0dbtHpP4ebVJBQa+k/6ryUW7P16D/36faXpUHpP8fUwN4xNeg/27GlBgUj6D8HxlBktqjlPx9hDXBqm+U/5F2n6kWk5j9SxwNEyBTmP/1arotISeY/EcDZqxP45D9I/rzK4ozmP2wH5tqBueY/GhZcKtu75j/+8GkjYtXlPw==\",\"dtype\":\"float64\",\"shape\":[20]},\"y\":{\"__ndarray__\":\"AAAAAAAA4D8AAAAAAAD4PwAAAAAAAARAAAAAAAAADEAAAAAAAAASQAAAAAAAABZAAAAAAAAAGkAAAAAAAAAeQAAAAAAAACFAAAAAAAAAI0AAAAAAAAAlQAAAAAAAACdAAAAAAAAAKUAAAAAAAAArQAAAAAAAAC1AAAAAAAAAL0AAAAAAAIAwQAAAAAAAgDFAAAAAAACAMkAAAAAAAIAzQA==\",\"dtype\":\"float64\",\"shape\":[20]}},\"selected\":{\"id\":\"4a9f7fc9-50ef-4159-898e-dd819ee612ca\",\"type\":\"Selection\"},\"selection_policy\":{\"id\":\"c0157c6a-22b2-4a85-9183-9a72c10380f8\",\"type\":\"UnionRenderers\"}},\"id\":\"c04be3e6-7ca2-4b82-bcea-3544a9a2b612\",\"type\":\"ColumnDataSource\"},{\"attributes\":{\"source\":{\"id\":\"2a1fe6bb-b81a-4a9e-b494-f2e12118bcbd\",\"type\":\"ColumnDataSource\"}},\"id\":\"c0d4bad1-f304-4068-89cc-64ebb4332b6e\",\"type\":\"CDSView\"},{\"attributes\":{},\"id\":\"4fe61345-aaf3-4796-9d59-ab83ecd8679a\",\"type\":\"BasicTicker\"},{\"attributes\":{},\"id\":\"ac6febbb-a8af-4f7e-9818-27cb3cd2c2f1\",\"type\":\"WheelZoomTool\"},{\"attributes\":{},\"id\":\"507ebaeb-a7c3-47fa-b1b7-9a2d4b0cdfcf\",\"type\":\"HelpTool\"},{\"attributes\":{\"overlay\":{\"id\":\"e942f508-07be-4e89-8e49-65404d4e21bf\",\"type\":\"BoxAnnotation\"}},\"id\":\"66703e72-6bc9-46b4-aa03-37e247893264\",\"type\":\"BoxZoomTool\"},{\"attributes\":{},\"id\":\"c0157c6a-22b2-4a85-9183-9a72c10380f8\",\"type\":\"UnionRenderers\"},{\"attributes\":{\"callback\":null,\"data\":{\"left\":{\"__ndarray__\":\"XtFPhRKJur/Q/OQqUZXCv3+x/C7/68W/QzYAhFvfx7+ki0mIR7rIv+ORrb69Usq/VwytkTIpzL8jWCSgafnKv+Ks/IQ4K8+/lThp5etzz7/zc143k67Uv8M95R8rydS/N0SxKnS30r9ccfh3b9bTvwVKo+hubdO/3X9MqNgP1r9wA4ZqOubSvynxM0r8jNK/zNNHq0mI0r8DHiy5O1XUvw==\",\"dtype\":\"float64\",\"shape\":[20]},\"y\":{\"__ndarray__\":\"AAAAAAAA4D8AAAAAAAD4PwAAAAAAAARAAAAAAAAADEAAAAAAAAASQAAAAAAAABZAAAAAAAAAGkAAAAAAAAAeQAAAAAAAACFAAAAAAAAAI0AAAAAAAAAlQAAAAAAAACdAAAAAAAAAKUAAAAAAAAArQAAAAAAAAC1AAAAAAAAAL0AAAAAAAIAwQAAAAAAAgDFAAAAAAACAMkAAAAAAAIAzQA==\",\"dtype\":\"float64\",\"shape\":[20]}},\"selected\":{\"id\":\"7c9bd93e-0be1-453f-a7b6-6aff9352dd20\",\"type\":\"Selection\"},\"selection_policy\":{\"id\":\"98465681-0122-4894-8b80-f3e70643f8e2\",\"type\":\"UnionRenderers\"}},\"id\":\"2a1fe6bb-b81a-4a9e-b494-f2e12118bcbd\",\"type\":\"ColumnDataSource\"},{\"attributes\":{},\"id\":\"7c9bd93e-0be1-453f-a7b6-6aff9352dd20\",\"type\":\"Selection\"},{\"attributes\":{\"axis_label\":\"Decision Ratio (Don't Merge/Merge)\",\"formatter\":{\"id\":\"5877ad7b-c7f7-4a6e-b045-3f40449fb28a\",\"type\":\"BasicTickFormatter\"},\"plot\":{\"id\":\"2ff0cdb0-8dca-4357-8241-19d12fbccca9\",\"subtype\":\"Figure\",\"type\":\"Plot\"},\"ticker\":{\"id\":\"4fe61345-aaf3-4796-9d59-ab83ecd8679a\",\"type\":\"BasicTicker\"}},\"id\":\"ff9e1c21-7961-41d9-9aab-8ac432e44d61\",\"type\":\"LinearAxis\"}],\"root_ids\":[\"2ff0cdb0-8dca-4357-8241-19d12fbccca9\"]},\"title\":\"Bokeh Application\",\"version\":\"0.13.0\"}};\n",
       "  var render_items = [{\"docid\":\"3982daa4-24bf-4827-b1e9-29927a53674f\",\"roots\":{\"2ff0cdb0-8dca-4357-8241-19d12fbccca9\":\"7454ed17-6335-47d6-afc8-571faa5df132\"}}];\n",
       "  root.Bokeh.embed.embed_items_notebook(docs_json, render_items);\n",
       "\n",
       "  }\n",
       "  if (root.Bokeh !== undefined) {\n",
       "    embed_document(root);\n",
       "  } else {\n",
       "    var attempts = 0;\n",
       "    var timer = setInterval(function(root) {\n",
       "      if (root.Bokeh !== undefined) {\n",
       "        embed_document(root);\n",
       "        clearInterval(timer);\n",
       "      }\n",
       "      attempts++;\n",
       "      if (attempts > 100) {\n",
       "        console.log(\"Bokeh: ERROR: Unable to run BokehJS code because BokehJS library is missing\")\n",
       "        clearInterval(timer);\n",
       "      }\n",
       "    }, 10, root)\n",
       "  }\n",
       "})(window);"
      ],
      "application/vnd.bokehjs_exec.v0+json": ""
     },
     "metadata": {
      "application/vnd.bokehjs_exec.v0+json": {
       "id": "2ff0cdb0-8dca-4357-8241-19d12fbccca9"
      }
     },
     "output_type": "display_data"
    }
   ],
   "source": [
    "show_merge_ratios(it1_decisions, 'PreSyn_smaller', bin_size=1, num_bins=20, show_ratio=False)\n",
    "show_merge_ratios(it1_decisions, 'PreSyn_smaller', bin_size=1, num_bins=20, show_ratio=True)\n",
    "#show_merge_ratios(it1_decisions, 'PreSyn_larger', bin_size=1, num_bins=20, show_ratio=show_ratio)\n",
    "\n",
    "show_merge_ratios(it1_decisions, 'PostSyn_smaller', bin_size=1, num_bins=20, show_ratio=False)\n",
    "show_merge_ratios(it1_decisions, 'PostSyn_smaller', bin_size=1, num_bins=20, show_ratio=True)\n",
    "#show_merge_ratios(it1_decisions, 'PostSyn_larger', bin_size=1, num_bins=20, show_ratio=show_ratio)\n",
    "\n",
    "#show_merge_ratios(it1_decisions, 'TotalSyn_smaller', bin_size=1, num_bins=20, show_ratio=show_ratio)\n",
    "#show_merge_ratios(it1_decisions, 'TotalSyn_larger', bin_size=1, num_bins=20, show_ratio=show_ratio)"
   ]
  },
  {
   "cell_type": "markdown",
   "metadata": {},
   "source": [
    "### Select decisions: Recent set only"
   ]
  },
  {
   "cell_type": "code",
   "execution_count": 56,
   "metadata": {},
   "outputs": [],
   "source": [
    "recent_assignments = pd.read_csv('remaining-onehop-assignments-7254-20180823.csv')"
   ]
  },
  {
   "cell_type": "code",
   "execution_count": 57,
   "metadata": {},
   "outputs": [
    {
     "ename": "NameError",
     "evalue": "name 'onehop_decisions' is not defined",
     "output_type": "error",
     "traceback": [
      "\u001b[0;31m---------------------------------------------------------------------------\u001b[0m",
      "\u001b[0;31mNameError\u001b[0m                                 Traceback (most recent call last)",
      "\u001b[0;32m<ipython-input-57-4b1bc861b235>\u001b[0m in \u001b[0;36m<module>\u001b[0;34m()\u001b[0m\n\u001b[0;32m----> 1\u001b[0;31m \u001b[0mrecent_decisions\u001b[0m \u001b[0;34m=\u001b[0m \u001b[0monehop_decisions\u001b[0m\u001b[0;34m.\u001b[0m\u001b[0mmerge\u001b[0m\u001b[0;34m(\u001b[0m\u001b[0mrecent_assignments\u001b[0m\u001b[0;34m[\u001b[0m\u001b[0;34m[\u001b[0m\u001b[0;34m'id_a'\u001b[0m\u001b[0;34m,\u001b[0m \u001b[0;34m'id_b'\u001b[0m\u001b[0;34m]\u001b[0m\u001b[0;34m]\u001b[0m\u001b[0;34m,\u001b[0m \u001b[0mhow\u001b[0m\u001b[0;34m=\u001b[0m\u001b[0;34m'inner'\u001b[0m\u001b[0;34m,\u001b[0m \u001b[0mon\u001b[0m\u001b[0;34m=\u001b[0m\u001b[0;34m[\u001b[0m\u001b[0;34m'id_a'\u001b[0m\u001b[0;34m,\u001b[0m \u001b[0;34m'id_b'\u001b[0m\u001b[0;34m]\u001b[0m\u001b[0;34m)\u001b[0m\u001b[0;34m\u001b[0m\u001b[0m\n\u001b[0m",
      "\u001b[0;31mNameError\u001b[0m: name 'onehop_decisions' is not defined"
     ]
    }
   ],
   "source": [
    "recent_decisions = onehop_decisions.merge(recent_assignments[['id_a', 'id_b']], how='inner', on=['id_a', 'id_b'])"
   ]
  },
  {
   "cell_type": "code",
   "execution_count": 391,
   "metadata": {},
   "outputs": [
    {
     "data": {
      "text/plain": [
       "(73210, 36)"
      ]
     },
     "execution_count": 391,
     "metadata": {},
     "output_type": "execute_result"
    }
   ],
   "source": [
    "recent_decisions.shape"
   ]
  },
  {
   "cell_type": "code",
   "execution_count": 393,
   "metadata": {},
   "outputs": [
    {
     "data": {
      "text/plain": [
       "0.22182761917770796"
      ]
     },
     "execution_count": 393,
     "metadata": {},
     "output_type": "execute_result"
    }
   ],
   "source": [
    "recent_counts = recent_decisions['result'].value_counts()\n",
    "(recent_counts['merge'] + recent_counts['mergeLater']) / recent_counts.sum()"
   ]
  },
  {
   "cell_type": "code",
   "execution_count": 417,
   "metadata": {},
   "outputs": [
    {
     "data": {
      "text/plain": [
       "(26706, 36)"
      ]
     },
     "execution_count": 417,
     "metadata": {},
     "output_type": "execute_result"
    }
   ],
   "source": [
    "q = ('(PreSyn_smaller < 2 and (PostSyn_smaller >= 10 or voxel_count_smaller >= 10e6))')\n",
    "recent_decisions.query(q).shape"
   ]
  },
  {
   "cell_type": "code",
   "execution_count": 416,
   "metadata": {},
   "outputs": [
    {
     "data": {
      "text/plain": [
       "(42607, 36)"
      ]
     },
     "execution_count": 416,
     "metadata": {},
     "output_type": "execute_result"
    }
   ],
   "source": [
    "recent_decisions.query('PreSyn_smaller >= 2').shape"
   ]
  },
  {
   "cell_type": "code",
   "execution_count": null,
   "metadata": {},
   "outputs": [],
   "source": [
    "recent_`adecisions.query('PreSyn_smaller >= 2 or PostSyn_smaller >= 10 or (voxel_count_smaller >= 10e6 and ').shape"
   ]
  },
  {
   "cell_type": "code",
   "execution_count": 406,
   "metadata": {},
   "outputs": [
    {
     "data": {
      "text/plain": [
       "<matplotlib.axes._subplots.AxesSubplot at 0x2b0f9893fa20>"
      ]
     },
     "execution_count": 406,
     "metadata": {},
     "output_type": "execute_result"
    },
    {
     "data": {
      "image/png": "[encoded data removed]",
      "text/plain": [
       "<Figure size 360x360 with 1 Axes>"
      ]
     },
     "metadata": {},
     "output_type": "display_data"
    }
   ],
   "source": [
    "#recent_decisions.query('PostSyn_smaller < 100')['PostSyn_smaller'].hist()"
   ]
  },
  {
   "cell_type": "code",
   "execution_count": 395,
   "metadata": {},
   "outputs": [
    {
     "data": {
      "text/plain": [
       "<matplotlib.axes._subplots.AxesSubplot at 0x2b0f985da128>"
      ]
     },
     "execution_count": 395,
     "metadata": {},
     "output_type": "execute_result"
    },
    {
     "data": {
      "image/png": "[encoded data removed]",
      "text/plain": [
       "<Figure size 360x360 with 1 Axes>"
      ]
     },
     "metadata": {},
     "output_type": "display_data"
    }
   ],
   "source": [
    "recent_decisions['PreSyn_smaller'].hist()"
   ]
  },
  {
   "cell_type": "code",
   "execution_count": 400,
   "metadata": {
    "scrolled": false
   },
   "outputs": [
    {
     "data": {
      "text/html": [
       "\n",
       "\n",
       "\n",
       "\n",
       "\n",
       "\n",
       "  <div class=\"bk-root\" id=\"88ef4a98-7dbc-4a5b-b30b-73e2473624da\"></div>\n"
      ]
     },
     "metadata": {},
     "output_type": "display_data"
    },
    {
     "data": {
      "application/javascript": [
       "(function(root) {\n",
       "  function embed_document(root) {\n",
       "    \n",
       "  var docs_json = {\"e2fc5563-0d79-4224-a888-c7f36f3be981\":{\"roots\":{\"references\":[{\"attributes\":{},\"id\":\"09fa1dab-df71-4d00-838e-fcf37ea632c0\",\"type\":\"SaveTool\"},{\"attributes\":{},\"id\":\"6dd407a7-6ece-4c8e-88a5-63202b9bdd0b\",\"type\":\"ResetTool\"},{\"attributes\":{\"callback\":null,\"end\":7096.950000000001,\"start\":-18669.0},\"id\":\"4354c013-c31d-4e96-9f7d-ac513c739f6d\",\"type\":\"Range1d\"},{\"attributes\":{},\"id\":\"40136c67-79a2-4a7f-b82f-15a0b60b723a\",\"type\":\"BasicTicker\"},{\"attributes\":{\"source\":{\"id\":\"408efad2-e00a-4360-92ce-40a25593b1c3\",\"type\":\"ColumnDataSource\"}},\"id\":\"74cf6be3-83c1-49c0-bc2c-d8d9e099f4e8\",\"type\":\"CDSView\"},{\"attributes\":{},\"id\":\"7d0b9004-2287-4c41-abe8-73fd0de5f702\",\"type\":\"LinearScale\"},{\"attributes\":{},\"id\":\"f4777675-6b40-4224-b260-1aa8143e34d8\",\"type\":\"WheelZoomTool\"},{\"attributes\":{},\"id\":\"295e9a79-dbd5-4f42-ba15-b32e22e757cd\",\"type\":\"LinearScale\"},{\"attributes\":{\"source\":{\"id\":\"2b75ab9b-39d8-4307-b581-bee9c8c81230\",\"type\":\"ColumnDataSource\"}},\"id\":\"53d7d030-0b13-4f4b-9879-6a2a734417a1\",\"type\":\"CDSView\"},{\"attributes\":{\"callback\":null,\"end\":20},\"id\":\"4dcf130d-7254-4443-b892-7bdc9ebf3719\",\"type\":\"Range1d\"},{\"attributes\":{\"dimension\":1,\"plot\":{\"id\":\"bd7ee3c0-4e18-4d9c-9eeb-8e8cc1276b66\",\"subtype\":\"Figure\",\"type\":\"Plot\"},\"ticker\":{\"id\":\"70bf8ee5-5b2d-4acd-9680-e9efd9462248\",\"type\":\"BasicTicker\"}},\"id\":\"34366f1c-bd1d-457b-83a4-f56db6896cb6\",\"type\":\"Grid\"},{\"attributes\":{\"fill_color\":{\"value\":\"crimson\"},\"height\":{\"value\":0.9},\"left\":{\"field\":\"left\"},\"line_color\":{\"value\":\"crimson\"},\"right\":{\"value\":0},\"y\":{\"field\":\"y\"}},\"id\":\"11fc1414-2e0b-4057-9ad7-6a53dc15d1e6\",\"type\":\"HBar\"},{\"attributes\":{\"fill_alpha\":{\"value\":0.1},\"fill_color\":{\"value\":\"#1f77b4\"},\"height\":{\"value\":0.9},\"line_alpha\":{\"value\":0.1},\"line_color\":{\"value\":\"#1f77b4\"},\"right\":{\"field\":\"right\"},\"y\":{\"field\":\"y\"}},\"id\":\"f88164c2-aa78-46f8-91e2-27325e87a28b\",\"type\":\"HBar\"},{\"attributes\":{\"plot\":null,\"text\":\"(Don't) Merge Counts by PreSyn_smaller\"},\"id\":\"fe269dfb-9c6f-4c1d-bc95-2aa36a193ef9\",\"type\":\"Title\"},{\"attributes\":{\"active_drag\":\"auto\",\"active_inspect\":\"auto\",\"active_multi\":null,\"active_scroll\":\"auto\",\"active_tap\":\"auto\",\"tools\":[{\"id\":\"5ae548fc-c384-4593-8178-9770fa6e7b56\",\"type\":\"PanTool\"},{\"id\":\"f4777675-6b40-4224-b260-1aa8143e34d8\",\"type\":\"WheelZoomTool\"},{\"id\":\"01f9db5c-25f8-4373-ab12-273c714ab650\",\"type\":\"BoxZoomTool\"},{\"id\":\"09fa1dab-df71-4d00-838e-fcf37ea632c0\",\"type\":\"SaveTool\"},{\"id\":\"6dd407a7-6ece-4c8e-88a5-63202b9bdd0b\",\"type\":\"ResetTool\"},{\"id\":\"395bc7f1-0a94-4c5f-91b2-5049ec708e9d\",\"type\":\"HelpTool\"}]},\"id\":\"55351fb3-8b37-439c-beb9-3513e0d5ce51\",\"type\":\"Toolbar\"},{\"attributes\":{\"axis_label\":\"PreSyn_smaller (bin = 1)\",\"formatter\":{\"id\":\"7743f850-2153-4e52-a1f0-fd957ddbbad8\",\"type\":\"BasicTickFormatter\"},\"plot\":{\"id\":\"bd7ee3c0-4e18-4d9c-9eeb-8e8cc1276b66\",\"subtype\":\"Figure\",\"type\":\"Plot\"},\"ticker\":{\"id\":\"70bf8ee5-5b2d-4acd-9680-e9efd9462248\",\"type\":\"BasicTicker\"}},\"id\":\"efc5abe2-dadc-42c2-8fba-58a74ba23dbd\",\"type\":\"LinearAxis\"},{\"attributes\":{\"axis_label\":\"Decision Counts (Don't Merge/Merge)\",\"formatter\":{\"id\":\"c14eb629-f27f-4c5b-8f40-ce4ecf7e5fc3\",\"type\":\"BasicTickFormatter\"},\"plot\":{\"id\":\"bd7ee3c0-4e18-4d9c-9eeb-8e8cc1276b66\",\"subtype\":\"Figure\",\"type\":\"Plot\"},\"ticker\":{\"id\":\"40136c67-79a2-4a7f-b82f-15a0b60b723a\",\"type\":\"BasicTicker\"}},\"id\":\"8dc93bfa-18c2-4dd1-b4a3-03534a5b8a4b\",\"type\":\"LinearAxis\"},{\"attributes\":{\"data_source\":{\"id\":\"2b75ab9b-39d8-4307-b581-bee9c8c81230\",\"type\":\"ColumnDataSource\"},\"glyph\":{\"id\":\"3c7ecf51-3970-4e70-b867-1213475ec4f1\",\"type\":\"HBar\"},\"hover_glyph\":null,\"muted_glyph\":null,\"nonselection_glyph\":{\"id\":\"f88164c2-aa78-46f8-91e2-27325e87a28b\",\"type\":\"HBar\"},\"selection_glyph\":null,\"view\":{\"id\":\"53d7d030-0b13-4f4b-9879-6a2a734417a1\",\"type\":\"CDSView\"}},\"id\":\"c53f9537-ed27-4153-aeb7-b2a0a1c8ec34\",\"type\":\"GlyphRenderer\"},{\"attributes\":{\"fill_color\":{\"value\":\"navy\"},\"height\":{\"value\":0.9},\"line_color\":{\"value\":\"navy\"},\"right\":{\"field\":\"right\"},\"y\":{\"field\":\"y\"}},\"id\":\"3c7ecf51-3970-4e70-b867-1213475ec4f1\",\"type\":\"HBar\"},{\"attributes\":{\"plot\":{\"id\":\"bd7ee3c0-4e18-4d9c-9eeb-8e8cc1276b66\",\"subtype\":\"Figure\",\"type\":\"Plot\"},\"ticker\":{\"id\":\"40136c67-79a2-4a7f-b82f-15a0b60b723a\",\"type\":\"BasicTicker\"}},\"id\":\"3d38da3d-6c1d-4132-bc47-df01cf530921\",\"type\":\"Grid\"},{\"attributes\":{},\"id\":\"70bf8ee5-5b2d-4acd-9680-e9efd9462248\",\"type\":\"BasicTicker\"},{\"attributes\":{},\"id\":\"ae8d2d7e-1f1a-4088-ac27-4fc749f9542e\",\"type\":\"Selection\"},{\"attributes\":{},\"id\":\"c14eb629-f27f-4c5b-8f40-ce4ecf7e5fc3\",\"type\":\"BasicTickFormatter\"},{\"attributes\":{},\"id\":\"5ae548fc-c384-4593-8178-9770fa6e7b56\",\"type\":\"PanTool\"},{\"attributes\":{\"bottom_units\":\"screen\",\"fill_alpha\":{\"value\":0.5},\"fill_color\":{\"value\":\"lightgrey\"},\"left_units\":\"screen\",\"level\":\"overlay\",\"line_alpha\":{\"value\":1.0},\"line_color\":{\"value\":\"black\"},\"line_dash\":[4,4],\"line_width\":{\"value\":2},\"plot\":null,\"render_mode\":\"css\",\"right_units\":\"screen\",\"top_units\":\"screen\"},\"id\":\"03657f4f-442c-43b9-81cb-512d1e8c7987\",\"type\":\"BoxAnnotation\"},{\"attributes\":{\"overlay\":{\"id\":\"03657f4f-442c-43b9-81cb-512d1e8c7987\",\"type\":\"BoxAnnotation\"}},\"id\":\"01f9db5c-25f8-4373-ab12-273c714ab650\",\"type\":\"BoxZoomTool\"},{\"attributes\":{},\"id\":\"395bc7f1-0a94-4c5f-91b2-5049ec708e9d\",\"type\":\"HelpTool\"},{\"attributes\":{\"data_source\":{\"id\":\"408efad2-e00a-4360-92ce-40a25593b1c3\",\"type\":\"ColumnDataSource\"},\"glyph\":{\"id\":\"11fc1414-2e0b-4057-9ad7-6a53dc15d1e6\",\"type\":\"HBar\"},\"hover_glyph\":null,\"muted_glyph\":null,\"nonselection_glyph\":{\"id\":\"f5ced6af-585d-4816-81e8-6221757ba0dd\",\"type\":\"HBar\"},\"selection_glyph\":null,\"view\":{\"id\":\"74cf6be3-83c1-49c0-bc2c-d8d9e099f4e8\",\"type\":\"CDSView\"}},\"id\":\"005c8f86-e8ed-4c7c-841b-8c75bc956554\",\"type\":\"GlyphRenderer\"},{\"attributes\":{\"callback\":null,\"data\":{\"right\":[6759,1121,2372,1173,767,595,440,342,291,216,180,196,140,147,109,110,84,74,91,105],\"y\":{\"__ndarray__\":\"AAAAAAAA4D8AAAAAAAD4PwAAAAAAAARAAAAAAAAADEAAAAAAAAASQAAAAAAAABZAAAAAAAAAGkAAAAAAAAAeQAAAAAAAACFAAAAAAAAAI0AAAAAAAAAlQAAAAAAAACdAAAAAAAAAKUAAAAAAAAArQAAAAAAAAC1AAAAAAAAAL0AAAAAAAIAwQAAAAAAAgDFAAAAAAACAMkAAAAAAAIAzQA==\",\"dtype\":\"float64\",\"shape\":[20]}},\"selected\":{\"id\":\"ae8d2d7e-1f1a-4088-ac27-4fc749f9542e\",\"type\":\"Selection\"},\"selection_policy\":{\"id\":\"49263fde-5ca4-40fc-b17f-dae856b4d4fb\",\"type\":\"UnionRenderers\"}},\"id\":\"2b75ab9b-39d8-4307-b581-bee9c8c81230\",\"type\":\"ColumnDataSource\"},{\"attributes\":{},\"id\":\"49263fde-5ca4-40fc-b17f-dae856b4d4fb\",\"type\":\"UnionRenderers\"},{\"attributes\":{},\"id\":\"48e69871-efa2-4a23-9281-24e41481cf4a\",\"type\":\"Selection\"},{\"attributes\":{\"fill_alpha\":{\"value\":0.1},\"fill_color\":{\"value\":\"#1f77b4\"},\"height\":{\"value\":0.9},\"left\":{\"field\":\"left\"},\"line_alpha\":{\"value\":0.1},\"line_color\":{\"value\":\"#1f77b4\"},\"right\":{\"value\":0},\"y\":{\"field\":\"y\"}},\"id\":\"f5ced6af-585d-4816-81e8-6221757ba0dd\",\"type\":\"HBar\"},{\"attributes\":{\"callback\":null,\"data\":{\"left\":[-17780,-4670,-5685,-3573,-2535,-2039,-1526,-1334,-1160,-952,-818,-806,-631,-602,-570,-524,-455,-449,-410,-720],\"y\":{\"__ndarray__\":\"AAAAAAAA4D8AAAAAAAD4PwAAAAAAAARAAAAAAAAADEAAAAAAAAASQAAAAAAAABZAAAAAAAAAGkAAAAAAAAAeQAAAAAAAACFAAAAAAAAAI0AAAAAAAAAlQAAAAAAAACdAAAAAAAAAKUAAAAAAAAArQAAAAAAAAC1AAAAAAAAAL0AAAAAAAIAwQAAAAAAAgDFAAAAAAACAMkAAAAAAAIAzQA==\",\"dtype\":\"float64\",\"shape\":[20]}},\"selected\":{\"id\":\"48e69871-efa2-4a23-9281-24e41481cf4a\",\"type\":\"Selection\"},\"selection_policy\":{\"id\":\"9413ba63-4f10-4ead-ba33-48041a1c2211\",\"type\":\"UnionRenderers\"}},\"id\":\"408efad2-e00a-4360-92ce-40a25593b1c3\",\"type\":\"ColumnDataSource\"},{\"attributes\":{\"below\":[{\"id\":\"8dc93bfa-18c2-4dd1-b4a3-03534a5b8a4b\",\"type\":\"LinearAxis\"}],\"left\":[{\"id\":\"efc5abe2-dadc-42c2-8fba-58a74ba23dbd\",\"type\":\"LinearAxis\"}],\"plot_height\":400,\"renderers\":[{\"id\":\"8dc93bfa-18c2-4dd1-b4a3-03534a5b8a4b\",\"type\":\"LinearAxis\"},{\"id\":\"3d38da3d-6c1d-4132-bc47-df01cf530921\",\"type\":\"Grid\"},{\"id\":\"efc5abe2-dadc-42c2-8fba-58a74ba23dbd\",\"type\":\"LinearAxis\"},{\"id\":\"34366f1c-bd1d-457b-83a4-f56db6896cb6\",\"type\":\"Grid\"},{\"id\":\"03657f4f-442c-43b9-81cb-512d1e8c7987\",\"type\":\"BoxAnnotation\"},{\"id\":\"c53f9537-ed27-4153-aeb7-b2a0a1c8ec34\",\"type\":\"GlyphRenderer\"},{\"id\":\"005c8f86-e8ed-4c7c-841b-8c75bc956554\",\"type\":\"GlyphRenderer\"}],\"title\":{\"id\":\"fe269dfb-9c6f-4c1d-bc95-2aa36a193ef9\",\"type\":\"Title\"},\"toolbar\":{\"id\":\"55351fb3-8b37-439c-beb9-3513e0d5ce51\",\"type\":\"Toolbar\"},\"x_range\":{\"id\":\"4354c013-c31d-4e96-9f7d-ac513c739f6d\",\"type\":\"Range1d\"},\"x_scale\":{\"id\":\"7d0b9004-2287-4c41-abe8-73fd0de5f702\",\"type\":\"LinearScale\"},\"y_range\":{\"id\":\"4dcf130d-7254-4443-b892-7bdc9ebf3719\",\"type\":\"Range1d\"},\"y_scale\":{\"id\":\"295e9a79-dbd5-4f42-ba15-b32e22e757cd\",\"type\":\"LinearScale\"}},\"id\":\"bd7ee3c0-4e18-4d9c-9eeb-8e8cc1276b66\",\"subtype\":\"Figure\",\"type\":\"Plot\"},{\"attributes\":{},\"id\":\"9413ba63-4f10-4ead-ba33-48041a1c2211\",\"type\":\"UnionRenderers\"},{\"attributes\":{},\"id\":\"7743f850-2153-4e52-a1f0-fd957ddbbad8\",\"type\":\"BasicTickFormatter\"}],\"root_ids\":[\"bd7ee3c0-4e18-4d9c-9eeb-8e8cc1276b66\"]},\"title\":\"Bokeh Application\",\"version\":\"0.13.0\"}};\n",
       "  var render_items = [{\"docid\":\"e2fc5563-0d79-4224-a888-c7f36f3be981\",\"roots\":{\"bd7ee3c0-4e18-4d9c-9eeb-8e8cc1276b66\":\"88ef4a98-7dbc-4a5b-b30b-73e2473624da\"}}];\n",
       "  root.Bokeh.embed.embed_items_notebook(docs_json, render_items);\n",
       "\n",
       "  }\n",
       "  if (root.Bokeh !== undefined) {\n",
       "    embed_document(root);\n",
       "  } else {\n",
       "    var attempts = 0;\n",
       "    var timer = setInterval(function(root) {\n",
       "      if (root.Bokeh !== undefined) {\n",
       "        embed_document(root);\n",
       "        clearInterval(timer);\n",
       "      }\n",
       "      attempts++;\n",
       "      if (attempts > 100) {\n",
       "        console.log(\"Bokeh: ERROR: Unable to run BokehJS code because BokehJS library is missing\")\n",
       "        clearInterval(timer);\n",
       "      }\n",
       "    }, 10, root)\n",
       "  }\n",
       "})(window);"
      ],
      "application/vnd.bokehjs_exec.v0+json": ""
     },
     "metadata": {
      "application/vnd.bokehjs_exec.v0+json": {
       "id": "bd7ee3c0-4e18-4d9c-9eeb-8e8cc1276b66"
      }
     },
     "output_type": "display_data"
    },
    {
     "data": {
      "text/html": [
       "\n",
       "\n",
       "\n",
       "\n",
       "\n",
       "\n",
       "  <div class=\"bk-root\" id=\"a6d5285e-8dd9-459b-a2cd-1d23e5796ece\"></div>\n"
      ]
     },
     "metadata": {},
     "output_type": "display_data"
    },
    {
     "data": {
      "application/javascript": [
       "(function(root) {\n",
       "  function embed_document(root) {\n",
       "    \n",
       "  var docs_json = {\"0d417e71-bc17-4efc-8657-5937c3b294d6\":{\"roots\":{\"references\":[{\"attributes\":{\"overlay\":{\"id\":\"a8f33fd6-d55e-494b-bc26-d76ae124028d\",\"type\":\"BoxAnnotation\"}},\"id\":\"2150d8c2-b580-42c7-b323-3bbe50a88704\",\"type\":\"BoxZoomTool\"},{\"attributes\":{},\"id\":\"e2bb2421-46d0-4b9e-aabb-cb9f531169fb\",\"type\":\"Selection\"},{\"attributes\":{},\"id\":\"98835da0-80a8-4b72-a1a0-cccbb4547b85\",\"type\":\"UnionRenderers\"},{\"attributes\":{\"fill_color\":{\"value\":\"navy\"},\"height\":{\"value\":0.9},\"line_color\":{\"value\":\"navy\"},\"right\":{\"field\":\"right\"},\"y\":{\"field\":\"y\"}},\"id\":\"0f43f988-6d73-4f01-a042-198e9d716834\",\"type\":\"HBar\"},{\"attributes\":{\"fill_color\":{\"value\":\"crimson\"},\"height\":{\"value\":0.9},\"left\":{\"field\":\"left\"},\"line_color\":{\"value\":\"crimson\"},\"right\":{\"value\":0},\"y\":{\"field\":\"y\"}},\"id\":\"5d3003af-db6c-418c-bfb6-018104fffc1a\",\"type\":\"HBar\"},{\"attributes\":{\"fill_alpha\":{\"value\":0.1},\"fill_color\":{\"value\":\"#1f77b4\"},\"height\":{\"value\":0.9},\"left\":{\"field\":\"left\"},\"line_alpha\":{\"value\":0.1},\"line_color\":{\"value\":\"#1f77b4\"},\"right\":{\"value\":0},\"y\":{\"field\":\"y\"}},\"id\":\"7bac8663-3c62-4a58-8a5e-aeafcd7a707b\",\"type\":\"HBar\"},{\"attributes\":{\"data_source\":{\"id\":\"e0b4692a-88f2-4ec5-84d9-a277dbe34fee\",\"type\":\"ColumnDataSource\"},\"glyph\":{\"id\":\"0f43f988-6d73-4f01-a042-198e9d716834\",\"type\":\"HBar\"},\"hover_glyph\":null,\"muted_glyph\":null,\"nonselection_glyph\":{\"id\":\"fe874044-486a-46e8-a22e-f9d4c6b8d652\",\"type\":\"HBar\"},\"selection_glyph\":null,\"view\":{\"id\":\"e7f81d6a-43a6-455b-a54f-b146257ec91b\",\"type\":\"CDSView\"}},\"id\":\"3393a238-9df6-4a2a-b4a5-2f869b85e16f\",\"type\":\"GlyphRenderer\"},{\"attributes\":{\"source\":{\"id\":\"684c357e-9a94-4067-881b-5da6b12171b9\",\"type\":\"ColumnDataSource\"}},\"id\":\"5c5cca23-269c-466e-80e8-59c39e878ef4\",\"type\":\"CDSView\"},{\"attributes\":{},\"id\":\"8384b544-3c15-4465-bd28-fa0347b7d466\",\"type\":\"LinearScale\"},{\"attributes\":{},\"id\":\"5f79b06d-5c51-483f-8d31-3cfa054eea4a\",\"type\":\"HelpTool\"},{\"attributes\":{},\"id\":\"1e3cba8c-092c-47c7-9ac4-cbc909cc9cd6\",\"type\":\"BasicTickFormatter\"},{\"attributes\":{\"bottom_units\":\"screen\",\"fill_alpha\":{\"value\":0.5},\"fill_color\":{\"value\":\"lightgrey\"},\"left_units\":\"screen\",\"level\":\"overlay\",\"line_alpha\":{\"value\":1.0},\"line_color\":{\"value\":\"black\"},\"line_dash\":[4,4],\"line_width\":{\"value\":2},\"plot\":null,\"render_mode\":\"css\",\"right_units\":\"screen\",\"top_units\":\"screen\"},\"id\":\"a8f33fd6-d55e-494b-bc26-d76ae124028d\",\"type\":\"BoxAnnotation\"},{\"attributes\":{\"axis_label\":\"PreSyn_smaller (bin = 1)\",\"formatter\":{\"id\":\"1e3cba8c-092c-47c7-9ac4-cbc909cc9cd6\",\"type\":\"BasicTickFormatter\"},\"plot\":{\"id\":\"caed61f4-5608-437b-a11a-63e4147f4165\",\"subtype\":\"Figure\",\"type\":\"Plot\"},\"ticker\":{\"id\":\"b11fffea-0157-410d-872f-1d4704ed22c7\",\"type\":\"BasicTicker\"}},\"id\":\"7714d44f-a532-4b46-9a13-ee331820cdd2\",\"type\":\"LinearAxis\"},{\"attributes\":{},\"id\":\"57fb1124-e8dc-4110-a3c2-ee8c7c06d338\",\"type\":\"SaveTool\"},{\"attributes\":{},\"id\":\"ded8ec0d-bf11-4138-8960-b4883951173c\",\"type\":\"ResetTool\"},{\"attributes\":{\"data_source\":{\"id\":\"684c357e-9a94-4067-881b-5da6b12171b9\",\"type\":\"ColumnDataSource\"},\"glyph\":{\"id\":\"5d3003af-db6c-418c-bfb6-018104fffc1a\",\"type\":\"HBar\"},\"hover_glyph\":null,\"muted_glyph\":null,\"nonselection_glyph\":{\"id\":\"7bac8663-3c62-4a58-8a5e-aeafcd7a707b\",\"type\":\"HBar\"},\"selection_glyph\":null,\"view\":{\"id\":\"5c5cca23-269c-466e-80e8-59c39e878ef4\",\"type\":\"CDSView\"}},\"id\":\"f1f7a4b2-d689-4851-99e3-86347b702015\",\"type\":\"GlyphRenderer\"},{\"attributes\":{\"plot\":{\"id\":\"caed61f4-5608-437b-a11a-63e4147f4165\",\"subtype\":\"Figure\",\"type\":\"Plot\"},\"ticker\":{\"id\":\"54171922-5724-4156-b210-93f6cb59bd7d\",\"type\":\"BasicTicker\"}},\"id\":\"22fd415d-ebf9-4a2a-a773-1b3cc3b0ba21\",\"type\":\"Grid\"},{\"attributes\":{},\"id\":\"1c283d6e-4326-4338-9c48-57d30838ec01\",\"type\":\"Selection\"},{\"attributes\":{\"callback\":null,\"end\":0.30912250217202436,\"start\":-0.9163636363636364},\"id\":\"bca6eaee-5341-4959-ae45-92ec4ad7313f\",\"type\":\"Range1d\"},{\"attributes\":{},\"id\":\"41aaf35f-f05b-45e4-8962-69719fa14245\",\"type\":\"UnionRenderers\"},{\"attributes\":{\"plot\":null,\"text\":\"(Don't) Merge Ratio by PreSyn_smaller\"},\"id\":\"ea478393-dccd-4599-b153-84328b23ce18\",\"type\":\"Title\"},{\"attributes\":{},\"id\":\"54171922-5724-4156-b210-93f6cb59bd7d\",\"type\":\"BasicTicker\"},{\"attributes\":{},\"id\":\"292a0e68-58d6-453a-b712-0ace51107bb4\",\"type\":\"WheelZoomTool\"},{\"attributes\":{},\"id\":\"1ec8cac1-cda2-418a-88bf-87e26dbc18a5\",\"type\":\"BasicTickFormatter\"},{\"attributes\":{},\"id\":\"1b693d64-dcfc-4065-9b79-0b7b02587b35\",\"type\":\"LinearScale\"},{\"attributes\":{\"dimension\":1,\"plot\":{\"id\":\"caed61f4-5608-437b-a11a-63e4147f4165\",\"subtype\":\"Figure\",\"type\":\"Plot\"},\"ticker\":{\"id\":\"b11fffea-0157-410d-872f-1d4704ed22c7\",\"type\":\"BasicTicker\"}},\"id\":\"27337434-8390-4fbe-8526-2fea6c902800\",\"type\":\"Grid\"},{\"attributes\":{\"source\":{\"id\":\"e0b4692a-88f2-4ec5-84d9-a277dbe34fee\",\"type\":\"ColumnDataSource\"}},\"id\":\"e7f81d6a-43a6-455b-a54f-b146257ec91b\",\"type\":\"CDSView\"},{\"attributes\":{\"fill_alpha\":{\"value\":0.1},\"fill_color\":{\"value\":\"#1f77b4\"},\"height\":{\"value\":0.9},\"line_alpha\":{\"value\":0.1},\"line_color\":{\"value\":\"#1f77b4\"},\"right\":{\"field\":\"right\"},\"y\":{\"field\":\"y\"}},\"id\":\"fe874044-486a-46e8-a22e-f9d4c6b8d652\",\"type\":\"HBar\"},{\"attributes\":{},\"id\":\"b11fffea-0157-410d-872f-1d4704ed22c7\",\"type\":\"BasicTicker\"},{\"attributes\":{\"active_drag\":\"auto\",\"active_inspect\":\"auto\",\"active_multi\":null,\"active_scroll\":\"auto\",\"active_tap\":\"auto\",\"tools\":[{\"id\":\"bfbc19e1-fa6e-457f-bbaa-76c7b1c0f128\",\"type\":\"PanTool\"},{\"id\":\"292a0e68-58d6-453a-b712-0ace51107bb4\",\"type\":\"WheelZoomTool\"},{\"id\":\"2150d8c2-b580-42c7-b323-3bbe50a88704\",\"type\":\"BoxZoomTool\"},{\"id\":\"57fb1124-e8dc-4110-a3c2-ee8c7c06d338\",\"type\":\"SaveTool\"},{\"id\":\"ded8ec0d-bf11-4138-8960-b4883951173c\",\"type\":\"ResetTool\"},{\"id\":\"5f79b06d-5c51-483f-8d31-3cfa054eea4a\",\"type\":\"HelpTool\"}]},\"id\":\"b00d0396-589c-4541-b0c1-2584f575c263\",\"type\":\"Toolbar\"},{\"attributes\":{\"callback\":null,\"end\":20},\"id\":\"937ce263-ef5f-4977-a89d-507aafd87be5\",\"type\":\"Range1d\"},{\"attributes\":{\"axis_label\":\"Decision Ratio (Don't Merge/Merge)\",\"formatter\":{\"id\":\"1ec8cac1-cda2-418a-88bf-87e26dbc18a5\",\"type\":\"BasicTickFormatter\"},\"plot\":{\"id\":\"caed61f4-5608-437b-a11a-63e4147f4165\",\"subtype\":\"Figure\",\"type\":\"Plot\"},\"ticker\":{\"id\":\"54171922-5724-4156-b210-93f6cb59bd7d\",\"type\":\"BasicTicker\"}},\"id\":\"6c12e0e6-cf6a-4597-860d-7929ec4b0e97\",\"type\":\"LinearAxis\"},{\"attributes\":{},\"id\":\"bfbc19e1-fa6e-457f-bbaa-76c7b1c0f128\",\"type\":\"PanTool\"},{\"attributes\":{\"callback\":null,\"data\":{\"right\":{\"__ndarray__\":\"nYhbTsug0T/aK+AvG8fIP64hvBd919I/heNnmcqizz9vt9vtdrvNP79bCPEI6sw/fkSvuaGlzD9tT2qGjB7KP1N+nJuqq8k/vXr16tWrxz+yQgpkDxbHP/ZDr2W1Cck/Fz4XPhc+xz/7hVhRGh/JP5WaKtlAjMQ/h00guEw1xj/Oyk+Is/LDP62azNpjHMI/G78iTN8/xz9KkKcEeUrAPw==\",\"dtype\":\"float64\",\"shape\":[20]},\"y\":{\"__ndarray__\":\"AAAAAAAA4D8AAAAAAAD4PwAAAAAAAARAAAAAAAAADEAAAAAAAAASQAAAAAAAABZAAAAAAAAAGkAAAAAAAAAeQAAAAAAAACFAAAAAAAAAI0AAAAAAAAAlQAAAAAAAACdAAAAAAAAAKUAAAAAAAAArQAAAAAAAAC1AAAAAAAAAL0AAAAAAAIAwQAAAAAAAgDFAAAAAAACAMkAAAAAAAIAzQA==\",\"dtype\":\"float64\",\"shape\":[20]}},\"selected\":{\"id\":\"1c283d6e-4326-4338-9c48-57d30838ec01\",\"type\":\"Selection\"},\"selection_policy\":{\"id\":\"41aaf35f-f05b-45e4-8962-69719fa14245\",\"type\":\"UnionRenderers\"}},\"id\":\"e0b4692a-88f2-4ec5-84d9-a277dbe34fee\",\"type\":\"ColumnDataSource\"},{\"attributes\":{\"callback\":null,\"data\":{\"left\":{\"__ndarray__\":\"sjvSWJov578J9Qc0Oc7pvynvIXRBlOa/HwemWU0X6L8kEolEIpHovxDpvcN9xei/4C6UkZfW6L8lbGXeXHjpv2vgGFkVlem/UaFChQoV6r9Ub/0mfDrqvwMvlKaSvem/ejB6MHow6r+B3qlrObjpv1tZtcnv3Oq/nuz30axy6r9MDewdUwPrv1XZTAnneOu/OVD3LAgw6r/tG9a+Ye3rvw==\",\"dtype\":\"float64\",\"shape\":[20]},\"y\":{\"__ndarray__\":\"AAAAAAAA4D8AAAAAAAD4PwAAAAAAAARAAAAAAAAADEAAAAAAAAASQAAAAAAAABZAAAAAAAAAGkAAAAAAAAAeQAAAAAAAACFAAAAAAAAAI0AAAAAAAAAlQAAAAAAAACdAAAAAAAAAKUAAAAAAAAArQAAAAAAAAC1AAAAAAAAAL0AAAAAAAIAwQAAAAAAAgDFAAAAAAACAMkAAAAAAAIAzQA==\",\"dtype\":\"float64\",\"shape\":[20]}},\"selected\":{\"id\":\"e2bb2421-46d0-4b9e-aabb-cb9f531169fb\",\"type\":\"Selection\"},\"selection_policy\":{\"id\":\"98835da0-80a8-4b72-a1a0-cccbb4547b85\",\"type\":\"UnionRenderers\"}},\"id\":\"684c357e-9a94-4067-881b-5da6b12171b9\",\"type\":\"ColumnDataSource\"},{\"attributes\":{\"below\":[{\"id\":\"6c12e0e6-cf6a-4597-860d-7929ec4b0e97\",\"type\":\"LinearAxis\"}],\"left\":[{\"id\":\"7714d44f-a532-4b46-9a13-ee331820cdd2\",\"type\":\"LinearAxis\"}],\"plot_height\":400,\"renderers\":[{\"id\":\"6c12e0e6-cf6a-4597-860d-7929ec4b0e97\",\"type\":\"LinearAxis\"},{\"id\":\"22fd415d-ebf9-4a2a-a773-1b3cc3b0ba21\",\"type\":\"Grid\"},{\"id\":\"7714d44f-a532-4b46-9a13-ee331820cdd2\",\"type\":\"LinearAxis\"},{\"id\":\"27337434-8390-4fbe-8526-2fea6c902800\",\"type\":\"Grid\"},{\"id\":\"a8f33fd6-d55e-494b-bc26-d76ae124028d\",\"type\":\"BoxAnnotation\"},{\"id\":\"3393a238-9df6-4a2a-b4a5-2f869b85e16f\",\"type\":\"GlyphRenderer\"},{\"id\":\"f1f7a4b2-d689-4851-99e3-86347b702015\",\"type\":\"GlyphRenderer\"}],\"title\":{\"id\":\"ea478393-dccd-4599-b153-84328b23ce18\",\"type\":\"Title\"},\"toolbar\":{\"id\":\"b00d0396-589c-4541-b0c1-2584f575c263\",\"type\":\"Toolbar\"},\"x_range\":{\"id\":\"bca6eaee-5341-4959-ae45-92ec4ad7313f\",\"type\":\"Range1d\"},\"x_scale\":{\"id\":\"1b693d64-dcfc-4065-9b79-0b7b02587b35\",\"type\":\"LinearScale\"},\"y_range\":{\"id\":\"937ce263-ef5f-4977-a89d-507aafd87be5\",\"type\":\"Range1d\"},\"y_scale\":{\"id\":\"8384b544-3c15-4465-bd28-fa0347b7d466\",\"type\":\"LinearScale\"}},\"id\":\"caed61f4-5608-437b-a11a-63e4147f4165\",\"subtype\":\"Figure\",\"type\":\"Plot\"}],\"root_ids\":[\"caed61f4-5608-437b-a11a-63e4147f4165\"]},\"title\":\"Bokeh Application\",\"version\":\"0.13.0\"}};\n",
       "  var render_items = [{\"docid\":\"0d417e71-bc17-4efc-8657-5937c3b294d6\",\"roots\":{\"caed61f4-5608-437b-a11a-63e4147f4165\":\"a6d5285e-8dd9-459b-a2cd-1d23e5796ece\"}}];\n",
       "  root.Bokeh.embed.embed_items_notebook(docs_json, render_items);\n",
       "\n",
       "  }\n",
       "  if (root.Bokeh !== undefined) {\n",
       "    embed_document(root);\n",
       "  } else {\n",
       "    var attempts = 0;\n",
       "    var timer = setInterval(function(root) {\n",
       "      if (root.Bokeh !== undefined) {\n",
       "        embed_document(root);\n",
       "        clearInterval(timer);\n",
       "      }\n",
       "      attempts++;\n",
       "      if (attempts > 100) {\n",
       "        console.log(\"Bokeh: ERROR: Unable to run BokehJS code because BokehJS library is missing\")\n",
       "        clearInterval(timer);\n",
       "      }\n",
       "    }, 10, root)\n",
       "  }\n",
       "})(window);"
      ],
      "application/vnd.bokehjs_exec.v0+json": ""
     },
     "metadata": {
      "application/vnd.bokehjs_exec.v0+json": {
       "id": "caed61f4-5608-437b-a11a-63e4147f4165"
      }
     },
     "output_type": "display_data"
    },
    {
     "data": {
      "text/html": [
       "\n",
       "\n",
       "\n",
       "\n",
       "\n",
       "\n",
       "  <div class=\"bk-root\" id=\"9e2a2585-23e6-4484-9e6c-df360dd031df\"></div>\n"
      ]
     },
     "metadata": {},
     "output_type": "display_data"
    },
    {
     "data": {
      "application/javascript": [
       "(function(root) {\n",
       "  function embed_document(root) {\n",
       "    \n",
       "  var docs_json = {\"94cd937d-7869-4a47-92a3-d728fa2c2305\":{\"roots\":{\"references\":[{\"attributes\":{\"below\":[{\"id\":\"6e81c889-a533-415c-a68b-ea36db24231a\",\"type\":\"LinearAxis\"}],\"left\":[{\"id\":\"2308f829-33a9-422e-99a2-bb911ee15b13\",\"type\":\"LinearAxis\"}],\"plot_height\":400,\"renderers\":[{\"id\":\"6e81c889-a533-415c-a68b-ea36db24231a\",\"type\":\"LinearAxis\"},{\"id\":\"2f6d4dca-905e-4277-bca1-2ca3890576dd\",\"type\":\"Grid\"},{\"id\":\"2308f829-33a9-422e-99a2-bb911ee15b13\",\"type\":\"LinearAxis\"},{\"id\":\"de54f77c-c2a2-4c93-9bad-2d0bfdd73ec2\",\"type\":\"Grid\"},{\"id\":\"ff0dfe56-a778-4358-9e27-40118f5c45e9\",\"type\":\"BoxAnnotation\"},{\"id\":\"5ce67240-51ae-4742-98bd-063c92c6b571\",\"type\":\"GlyphRenderer\"},{\"id\":\"3a9313a9-f0c3-48cb-b725-0822677ccca1\",\"type\":\"GlyphRenderer\"}],\"title\":{\"id\":\"faad5e39-be56-43f9-843b-029654bc84f2\",\"type\":\"Title\"},\"toolbar\":{\"id\":\"d3090011-f551-4bf1-a177-9cdd688b1353\",\"type\":\"Toolbar\"},\"x_range\":{\"id\":\"2f8517a9-1fa8-457c-8391-d4db5f823cfc\",\"type\":\"Range1d\"},\"x_scale\":{\"id\":\"14ad2cc4-ba85-40e9-993a-0f66a6976a07\",\"type\":\"LinearScale\"},\"y_range\":{\"id\":\"82c2d6bf-abed-494d-878e-407871076128\",\"type\":\"Range1d\"},\"y_scale\":{\"id\":\"a341a7ed-418a-4525-9700-6dcdd0273a44\",\"type\":\"LinearScale\"}},\"id\":\"2171205e-98cc-4133-9275-fd2d757f7e77\",\"subtype\":\"Figure\",\"type\":\"Plot\"},{\"attributes\":{},\"id\":\"14ad2cc4-ba85-40e9-993a-0f66a6976a07\",\"type\":\"LinearScale\"},{\"attributes\":{\"axis_label\":\"Decision Counts (Don't Merge/Merge)\",\"formatter\":{\"id\":\"a1ac4b2d-9506-4dd2-875f-e883da04c092\",\"type\":\"BasicTickFormatter\"},\"plot\":{\"id\":\"2171205e-98cc-4133-9275-fd2d757f7e77\",\"subtype\":\"Figure\",\"type\":\"Plot\"},\"ticker\":{\"id\":\"b219b19b-6359-4f15-b0de-ef177e40d853\",\"type\":\"BasicTicker\"}},\"id\":\"6e81c889-a533-415c-a68b-ea36db24231a\",\"type\":\"LinearAxis\"},{\"attributes\":{},\"id\":\"ba66a929-1a95-492f-99e7-1f8ece82a755\",\"type\":\"Selection\"},{\"attributes\":{\"callback\":null,\"data\":{\"right\":[1897,976,797,611,505,464,396,354,320,288,1599,1165,819,739,536,425,348,276,274,394],\"y\":{\"__ndarray__\":\"AAAAAAAA4D8AAAAAAAD4PwAAAAAAAARAAAAAAAAADEAAAAAAAAASQAAAAAAAABZAAAAAAAAAGkAAAAAAAAAeQAAAAAAAACFAAAAAAAAAI0AAAAAAAAAlQAAAAAAAACdAAAAAAAAAKUAAAAAAAAArQAAAAAAAAC1AAAAAAAAAL0AAAAAAAIAwQAAAAAAAgDFAAAAAAACAMkAAAAAAAIAzQA==\",\"dtype\":\"float64\",\"shape\":[20]}},\"selected\":{\"id\":\"12591e22-5210-4506-845c-771178ad71ce\",\"type\":\"Selection\"},\"selection_policy\":{\"id\":\"2f4376a1-c12a-494d-821e-e4684a706664\",\"type\":\"UnionRenderers\"}},\"id\":\"4aa86796-1fbe-4116-ae45-05ad3bcaea38\",\"type\":\"ColumnDataSource\"},{\"attributes\":{\"plot\":null,\"text\":\"(Don't) Merge Counts by PostSyn_smaller\"},\"id\":\"faad5e39-be56-43f9-843b-029654bc84f2\",\"type\":\"Title\"},{\"attributes\":{\"callback\":null,\"data\":{\"left\":[-4491,-2577,-2267,-2036,-1850,-1608,-1455,-1299,-1264,-1101,-3032,-2446,-1975,-1618,-1464,-1287,-1199,-970,-917,-1603],\"y\":{\"__ndarray__\":\"AAAAAAAA4D8AAAAAAAD4PwAAAAAAAARAAAAAAAAADEAAAAAAAAASQAAAAAAAABZAAAAAAAAAGkAAAAAAAAAeQAAAAAAAACFAAAAAAAAAI0AAAAAAAAAlQAAAAAAAACdAAAAAAAAAKUAAAAAAAAArQAAAAAAAAC1AAAAAAAAAL0AAAAAAAIAwQAAAAAAAgDFAAAAAAACAMkAAAAAAAIAzQA==\",\"dtype\":\"float64\",\"shape\":[20]}},\"selected\":{\"id\":\"ba66a929-1a95-492f-99e7-1f8ece82a755\",\"type\":\"Selection\"},\"selection_policy\":{\"id\":\"a0081423-5391-44a8-800b-f8eda92983e3\",\"type\":\"UnionRenderers\"}},\"id\":\"12e8b316-ffe5-432e-9e1c-b146570df298\",\"type\":\"ColumnDataSource\"},{\"attributes\":{},\"id\":\"b219b19b-6359-4f15-b0de-ef177e40d853\",\"type\":\"BasicTicker\"},{\"attributes\":{},\"id\":\"12591e22-5210-4506-845c-771178ad71ce\",\"type\":\"Selection\"},{\"attributes\":{\"axis_label\":\"PostSyn_smaller (bin = 1)\",\"formatter\":{\"id\":\"4ca361fc-2e55-49aa-9539-c529008f8632\",\"type\":\"BasicTickFormatter\"},\"plot\":{\"id\":\"2171205e-98cc-4133-9275-fd2d757f7e77\",\"subtype\":\"Figure\",\"type\":\"Plot\"},\"ticker\":{\"id\":\"80b79878-dfd4-4bdb-b86e-593976ddb3c0\",\"type\":\"BasicTicker\"}},\"id\":\"2308f829-33a9-422e-99a2-bb911ee15b13\",\"type\":\"LinearAxis\"},{\"attributes\":{},\"id\":\"a1ac4b2d-9506-4dd2-875f-e883da04c092\",\"type\":\"BasicTickFormatter\"},{\"attributes\":{\"data_source\":{\"id\":\"12e8b316-ffe5-432e-9e1c-b146570df298\",\"type\":\"ColumnDataSource\"},\"glyph\":{\"id\":\"3e0f34cf-67cf-4538-ad62-9a2002a169ec\",\"type\":\"HBar\"},\"hover_glyph\":null,\"muted_glyph\":null,\"nonselection_glyph\":{\"id\":\"1e0362e0-fc54-43cc-8116-0cc3badb26bb\",\"type\":\"HBar\"},\"selection_glyph\":null,\"view\":{\"id\":\"d6565eac-785a-4d87-b3fa-60915e6d4ac4\",\"type\":\"CDSView\"}},\"id\":\"3a9313a9-f0c3-48cb-b725-0822677ccca1\",\"type\":\"GlyphRenderer\"},{\"attributes\":{},\"id\":\"4ca361fc-2e55-49aa-9539-c529008f8632\",\"type\":\"BasicTickFormatter\"},{\"attributes\":{\"fill_alpha\":{\"value\":0.1},\"fill_color\":{\"value\":\"#1f77b4\"},\"height\":{\"value\":0.9},\"left\":{\"field\":\"left\"},\"line_alpha\":{\"value\":0.1},\"line_color\":{\"value\":\"#1f77b4\"},\"right\":{\"value\":0},\"y\":{\"field\":\"y\"}},\"id\":\"1e0362e0-fc54-43cc-8116-0cc3badb26bb\",\"type\":\"HBar\"},{\"attributes\":{\"callback\":null,\"end\":20},\"id\":\"82c2d6bf-abed-494d-878e-407871076128\",\"type\":\"Range1d\"},{\"attributes\":{\"active_drag\":\"auto\",\"active_inspect\":\"auto\",\"active_multi\":null,\"active_scroll\":\"auto\",\"active_tap\":\"auto\",\"tools\":[{\"id\":\"365d0a59-484e-4bce-be99-2baf99d3298e\",\"type\":\"PanTool\"},{\"id\":\"dbf5e30e-cc41-4fbb-a0a0-2716e55ee347\",\"type\":\"WheelZoomTool\"},{\"id\":\"efa8edd8-6e78-401d-8c8d-e63cdeeb738b\",\"type\":\"BoxZoomTool\"},{\"id\":\"ebd5c71f-f833-4968-b936-33f971365d09\",\"type\":\"SaveTool\"},{\"id\":\"a77854ed-6d9d-44d4-817f-fa8621db405c\",\"type\":\"ResetTool\"},{\"id\":\"b3f211b7-8d7c-4877-a232-64193f10814f\",\"type\":\"HelpTool\"}]},\"id\":\"d3090011-f551-4bf1-a177-9cdd688b1353\",\"type\":\"Toolbar\"},{\"attributes\":{\"fill_color\":{\"value\":\"navy\"},\"height\":{\"value\":0.9},\"line_color\":{\"value\":\"navy\"},\"right\":{\"field\":\"right\"},\"y\":{\"field\":\"y\"}},\"id\":\"52f534ad-2121-44e2-b466-f540d45c249f\",\"type\":\"HBar\"},{\"attributes\":{},\"id\":\"80b79878-dfd4-4bdb-b86e-593976ddb3c0\",\"type\":\"BasicTicker\"},{\"attributes\":{},\"id\":\"a77854ed-6d9d-44d4-817f-fa8621db405c\",\"type\":\"ResetTool\"},{\"attributes\":{\"data_source\":{\"id\":\"4aa86796-1fbe-4116-ae45-05ad3bcaea38\",\"type\":\"ColumnDataSource\"},\"glyph\":{\"id\":\"52f534ad-2121-44e2-b466-f540d45c249f\",\"type\":\"HBar\"},\"hover_glyph\":null,\"muted_glyph\":null,\"nonselection_glyph\":{\"id\":\"fef72684-b070-4e37-8523-b8c76aef0f77\",\"type\":\"HBar\"},\"selection_glyph\":null,\"view\":{\"id\":\"6a729ec0-adb3-4d28-b1e6-7f0c5cfc8be9\",\"type\":\"CDSView\"}},\"id\":\"5ce67240-51ae-4742-98bd-063c92c6b571\",\"type\":\"GlyphRenderer\"},{\"attributes\":{},\"id\":\"b3f211b7-8d7c-4877-a232-64193f10814f\",\"type\":\"HelpTool\"},{\"attributes\":{\"fill_color\":{\"value\":\"crimson\"},\"height\":{\"value\":0.9},\"left\":{\"field\":\"left\"},\"line_color\":{\"value\":\"crimson\"},\"right\":{\"value\":0},\"y\":{\"field\":\"y\"}},\"id\":\"3e0f34cf-67cf-4538-ad62-9a2002a169ec\",\"type\":\"HBar\"},{\"attributes\":{\"source\":{\"id\":\"12e8b316-ffe5-432e-9e1c-b146570df298\",\"type\":\"ColumnDataSource\"}},\"id\":\"d6565eac-785a-4d87-b3fa-60915e6d4ac4\",\"type\":\"CDSView\"},{\"attributes\":{\"callback\":null,\"end\":1991.8500000000001,\"start\":-4715.55},\"id\":\"2f8517a9-1fa8-457c-8391-d4db5f823cfc\",\"type\":\"Range1d\"},{\"attributes\":{},\"id\":\"dbf5e30e-cc41-4fbb-a0a0-2716e55ee347\",\"type\":\"WheelZoomTool\"},{\"attributes\":{\"plot\":{\"id\":\"2171205e-98cc-4133-9275-fd2d757f7e77\",\"subtype\":\"Figure\",\"type\":\"Plot\"},\"ticker\":{\"id\":\"b219b19b-6359-4f15-b0de-ef177e40d853\",\"type\":\"BasicTicker\"}},\"id\":\"2f6d4dca-905e-4277-bca1-2ca3890576dd\",\"type\":\"Grid\"},{\"attributes\":{},\"id\":\"ebd5c71f-f833-4968-b936-33f971365d09\",\"type\":\"SaveTool\"},{\"attributes\":{},\"id\":\"a0081423-5391-44a8-800b-f8eda92983e3\",\"type\":\"UnionRenderers\"},{\"attributes\":{\"bottom_units\":\"screen\",\"fill_alpha\":{\"value\":0.5},\"fill_color\":{\"value\":\"lightgrey\"},\"left_units\":\"screen\",\"level\":\"overlay\",\"line_alpha\":{\"value\":1.0},\"line_color\":{\"value\":\"black\"},\"line_dash\":[4,4],\"line_width\":{\"value\":2},\"plot\":null,\"render_mode\":\"css\",\"right_units\":\"screen\",\"top_units\":\"screen\"},\"id\":\"ff0dfe56-a778-4358-9e27-40118f5c45e9\",\"type\":\"BoxAnnotation\"},{\"attributes\":{\"overlay\":{\"id\":\"ff0dfe56-a778-4358-9e27-40118f5c45e9\",\"type\":\"BoxAnnotation\"}},\"id\":\"efa8edd8-6e78-401d-8c8d-e63cdeeb738b\",\"type\":\"BoxZoomTool\"},{\"attributes\":{\"fill_alpha\":{\"value\":0.1},\"fill_color\":{\"value\":\"#1f77b4\"},\"height\":{\"value\":0.9},\"line_alpha\":{\"value\":0.1},\"line_color\":{\"value\":\"#1f77b4\"},\"right\":{\"field\":\"right\"},\"y\":{\"field\":\"y\"}},\"id\":\"fef72684-b070-4e37-8523-b8c76aef0f77\",\"type\":\"HBar\"},{\"attributes\":{\"source\":{\"id\":\"4aa86796-1fbe-4116-ae45-05ad3bcaea38\",\"type\":\"ColumnDataSource\"}},\"id\":\"6a729ec0-adb3-4d28-b1e6-7f0c5cfc8be9\",\"type\":\"CDSView\"},{\"attributes\":{},\"id\":\"2f4376a1-c12a-494d-821e-e4684a706664\",\"type\":\"UnionRenderers\"},{\"attributes\":{\"dimension\":1,\"plot\":{\"id\":\"2171205e-98cc-4133-9275-fd2d757f7e77\",\"subtype\":\"Figure\",\"type\":\"Plot\"},\"ticker\":{\"id\":\"80b79878-dfd4-4bdb-b86e-593976ddb3c0\",\"type\":\"BasicTicker\"}},\"id\":\"de54f77c-c2a2-4c93-9bad-2d0bfdd73ec2\",\"type\":\"Grid\"},{\"attributes\":{},\"id\":\"a341a7ed-418a-4525-9700-6dcdd0273a44\",\"type\":\"LinearScale\"},{\"attributes\":{},\"id\":\"365d0a59-484e-4bce-be99-2baf99d3298e\",\"type\":\"PanTool\"}],\"root_ids\":[\"2171205e-98cc-4133-9275-fd2d757f7e77\"]},\"title\":\"Bokeh Application\",\"version\":\"0.13.0\"}};\n",
       "  var render_items = [{\"docid\":\"94cd937d-7869-4a47-92a3-d728fa2c2305\",\"roots\":{\"2171205e-98cc-4133-9275-fd2d757f7e77\":\"9e2a2585-23e6-4484-9e6c-df360dd031df\"}}];\n",
       "  root.Bokeh.embed.embed_items_notebook(docs_json, render_items);\n",
       "\n",
       "  }\n",
       "  if (root.Bokeh !== undefined) {\n",
       "    embed_document(root);\n",
       "  } else {\n",
       "    var attempts = 0;\n",
       "    var timer = setInterval(function(root) {\n",
       "      if (root.Bokeh !== undefined) {\n",
       "        embed_document(root);\n",
       "        clearInterval(timer);\n",
       "      }\n",
       "      attempts++;\n",
       "      if (attempts > 100) {\n",
       "        console.log(\"Bokeh: ERROR: Unable to run BokehJS code because BokehJS library is missing\")\n",
       "        clearInterval(timer);\n",
       "      }\n",
       "    }, 10, root)\n",
       "  }\n",
       "})(window);"
      ],
      "application/vnd.bokehjs_exec.v0+json": ""
     },
     "metadata": {
      "application/vnd.bokehjs_exec.v0+json": {
       "id": "2171205e-98cc-4133-9275-fd2d757f7e77"
      }
     },
     "output_type": "display_data"
    },
    {
     "data": {
      "text/html": [
       "\n",
       "\n",
       "\n",
       "\n",
       "\n",
       "\n",
       "  <div class=\"bk-root\" id=\"87245a5a-4eba-4f29-8779-a026afa72da0\"></div>\n"
      ]
     },
     "metadata": {},
     "output_type": "display_data"
    },
    {
     "data": {
      "application/javascript": [
       "(function(root) {\n",
       "  function embed_document(root) {\n",
       "    \n",
       "  var docs_json = {\"20d2e860-95d7-4ce2-90fc-150d3b3c11a0\":{\"roots\":{\"references\":[{\"attributes\":{\"plot\":{\"id\":\"6de8de38-114c-46f8-a27b-c243a3d12eac\",\"subtype\":\"Figure\",\"type\":\"Plot\"},\"ticker\":{\"id\":\"a1a59f26-504c-456e-8dab-4ead7672f09d\",\"type\":\"BasicTicker\"}},\"id\":\"3a5f584d-8d97-483e-b384-723fc7b500e8\",\"type\":\"Grid\"},{\"attributes\":{\"below\":[{\"id\":\"714b8c6d-efd4-4457-93c2-f62670e5a53c\",\"type\":\"LinearAxis\"}],\"left\":[{\"id\":\"a196e965-7aed-4506-a7bf-2de38f5302d3\",\"type\":\"LinearAxis\"}],\"plot_height\":400,\"renderers\":[{\"id\":\"714b8c6d-efd4-4457-93c2-f62670e5a53c\",\"type\":\"LinearAxis\"},{\"id\":\"3a5f584d-8d97-483e-b384-723fc7b500e8\",\"type\":\"Grid\"},{\"id\":\"a196e965-7aed-4506-a7bf-2de38f5302d3\",\"type\":\"LinearAxis\"},{\"id\":\"c7a6a8ec-3339-4d33-bb78-0b1eb6d58d53\",\"type\":\"Grid\"},{\"id\":\"f8988bf8-7e9f-4fa7-94d7-8b3403141bdc\",\"type\":\"BoxAnnotation\"},{\"id\":\"6a537639-d6c7-4d48-b659-9a48fb4234ee\",\"type\":\"GlyphRenderer\"},{\"id\":\"b4ea0083-29da-4f70-aa6d-d9378e5e7069\",\"type\":\"GlyphRenderer\"}],\"title\":{\"id\":\"807ffa81-4d85-4f40-b29d-c266297560c5\",\"type\":\"Title\"},\"toolbar\":{\"id\":\"fa80a38f-5f57-4c6e-8294-99b99739806d\",\"type\":\"Toolbar\"},\"x_range\":{\"id\":\"cf99befb-95db-4477-a752-8bfe86656672\",\"type\":\"Range1d\"},\"x_scale\":{\"id\":\"efd94b37-f64b-4107-9c5e-d57650a66115\",\"type\":\"LinearScale\"},\"y_range\":{\"id\":\"b9cf6d56-b7dd-414b-b169-1f28b8f65cc2\",\"type\":\"Range1d\"},\"y_scale\":{\"id\":\"5ba510df-cd38-4a11-a0b1-48046a23acae\",\"type\":\"LinearScale\"}},\"id\":\"6de8de38-114c-46f8-a27b-c243a3d12eac\",\"subtype\":\"Figure\",\"type\":\"Plot\"},{\"attributes\":{\"data_source\":{\"id\":\"afe6268a-f087-4dc6-b563-0bc0c54c94c3\",\"type\":\"ColumnDataSource\"},\"glyph\":{\"id\":\"f66cc2bc-cc88-4718-b9f2-0518c7e12017\",\"type\":\"HBar\"},\"hover_glyph\":null,\"muted_glyph\":null,\"nonselection_glyph\":{\"id\":\"76106aed-0df4-4e52-ba59-a989d26346d9\",\"type\":\"HBar\"},\"selection_glyph\":null,\"view\":{\"id\":\"e05e6d57-93df-4b7f-8452-f3d7dadd37b3\",\"type\":\"CDSView\"}},\"id\":\"b4ea0083-29da-4f70-aa6d-d9378e5e7069\",\"type\":\"GlyphRenderer\"},{\"attributes\":{\"callback\":null,\"data\":{\"right\":{\"__ndarray__\":\"Dp4eVXEB0z+w2/eQpJTRP4JD5dfDpdA/tNlTK8CLzT/q/s0Dr3LLP6DKEfoBqsw/CTO9eFViyz/wpJtnd2nLPzFvZ0jM28k/VBjsmzqKyj/2BxDSGBnWP7Z7faLkpdQ/ghLPfpzC0j/o6/SN8RDUP/T91HjpJtE/zn4hVpTGzz8dNsscNsvMPzMtjrpmWsw/1xGL35ByzT+9RWBV/kDJPw==\",\"dtype\":\"float64\",\"shape\":[20]},\"y\":{\"__ndarray__\":\"AAAAAAAA4D8AAAAAAAD4PwAAAAAAAARAAAAAAAAADEAAAAAAAAASQAAAAAAAABZAAAAAAAAAGkAAAAAAAAAeQAAAAAAAACFAAAAAAAAAI0AAAAAAAAAlQAAAAAAAACdAAAAAAAAAKUAAAAAAAAArQAAAAAAAAC1AAAAAAAAAL0AAAAAAAIAwQAAAAAAAgDFAAAAAAACAMkAAAAAAAIAzQA==\",\"dtype\":\"float64\",\"shape\":[20]}},\"selected\":{\"id\":\"074ae04e-9461-4887-b75d-60c06e94ce38\",\"type\":\"Selection\"},\"selection_policy\":{\"id\":\"6ca0b338-d924-45f4-b1ba-2c336a00609e\",\"type\":\"UnionRenderers\"}},\"id\":\"28452125-c722-40f4-b0c9-4d3102749af4\",\"type\":\"ColumnDataSource\"},{\"attributes\":{},\"id\":\"5ba510df-cd38-4a11-a0b1-48046a23acae\",\"type\":\"LinearScale\"},{\"attributes\":{},\"id\":\"074ae04e-9461-4887-b75d-60c06e94ce38\",\"type\":\"Selection\"},{\"attributes\":{\"fill_alpha\":{\"value\":0.1},\"fill_color\":{\"value\":\"#1f77b4\"},\"height\":{\"value\":0.9},\"line_alpha\":{\"value\":0.1},\"line_color\":{\"value\":\"#1f77b4\"},\"right\":{\"field\":\"right\"},\"y\":{\"field\":\"y\"}},\"id\":\"7e0b150e-a77e-4eba-95f4-02f4eed4985f\",\"type\":\"HBar\"},{\"attributes\":{\"plot\":null,\"text\":\"(Don't) Merge Ratio by PostSyn_smaller\"},\"id\":\"807ffa81-4d85-4f40-b29d-c266297560c5\",\"type\":\"Title\"},{\"attributes\":{\"fill_color\":{\"value\":\"navy\"},\"height\":{\"value\":0.9},\"line_color\":{\"value\":\"navy\"},\"right\":{\"field\":\"right\"},\"y\":{\"field\":\"y\"}},\"id\":\"083fba89-46dd-4b46-ab2b-7e78f5bb7d55\",\"type\":\"HBar\"},{\"attributes\":{},\"id\":\"a1a59f26-504c-456e-8dab-4ead7672f09d\",\"type\":\"BasicTicker\"},{\"attributes\":{\"fill_alpha\":{\"value\":0.1},\"fill_color\":{\"value\":\"#1f77b4\"},\"height\":{\"value\":0.9},\"left\":{\"field\":\"left\"},\"line_alpha\":{\"value\":0.1},\"line_color\":{\"value\":\"#1f77b4\"},\"right\":{\"value\":0},\"y\":{\"field\":\"y\"}},\"id\":\"76106aed-0df4-4e52-ba59-a989d26346d9\",\"type\":\"HBar\"},{\"attributes\":{},\"id\":\"f212e87c-56fd-4bbd-b01d-c7c091430112\",\"type\":\"PanTool\"},{\"attributes\":{\"axis_label\":\"Decision Ratio (Don't Merge/Merge)\",\"formatter\":{\"id\":\"484dc5a6-8bb9-4912-a430-74f707de3cfc\",\"type\":\"BasicTickFormatter\"},\"plot\":{\"id\":\"6de8de38-114c-46f8-a27b-c243a3d12eac\",\"subtype\":\"Figure\",\"type\":\"Plot\"},\"ticker\":{\"id\":\"a1a59f26-504c-456e-8dab-4ead7672f09d\",\"type\":\"BasicTicker\"}},\"id\":\"714b8c6d-efd4-4457-93c2-f62670e5a53c\",\"type\":\"LinearAxis\"},{\"attributes\":{},\"id\":\"274c2155-9846-458f-8155-3c2f72c188b8\",\"type\":\"SaveTool\"},{\"attributes\":{},\"id\":\"39a09135-cb70-46c9-9e54-fb443813b056\",\"type\":\"WheelZoomTool\"},{\"attributes\":{\"fill_color\":{\"value\":\"crimson\"},\"height\":{\"value\":0.9},\"left\":{\"field\":\"left\"},\"line_color\":{\"value\":\"crimson\"},\"right\":{\"value\":0},\"y\":{\"field\":\"y\"}},\"id\":\"f66cc2bc-cc88-4718-b9f2-0518c7e12017\",\"type\":\"HBar\"},{\"attributes\":{\"bottom_units\":\"screen\",\"fill_alpha\":{\"value\":0.5},\"fill_color\":{\"value\":\"lightgrey\"},\"left_units\":\"screen\",\"level\":\"overlay\",\"line_alpha\":{\"value\":1.0},\"line_color\":{\"value\":\"black\"},\"line_dash\":[4,4],\"line_width\":{\"value\":2},\"plot\":null,\"render_mode\":\"css\",\"right_units\":\"screen\",\"top_units\":\"screen\"},\"id\":\"f8988bf8-7e9f-4fa7-94d7-8b3403141bdc\",\"type\":\"BoxAnnotation\"},{\"attributes\":{},\"id\":\"8cc9dd09-099e-425a-b483-e623ca12e200\",\"type\":\"BasicTickFormatter\"},{\"attributes\":{\"dimension\":1,\"plot\":{\"id\":\"6de8de38-114c-46f8-a27b-c243a3d12eac\",\"subtype\":\"Figure\",\"type\":\"Plot\"},\"ticker\":{\"id\":\"3f6daef0-7e96-401c-8b68-ff8e069b1aa1\",\"type\":\"BasicTicker\"}},\"id\":\"c7a6a8ec-3339-4d33-bb78-0b1eb6d58d53\",\"type\":\"Grid\"},{\"attributes\":{\"data_source\":{\"id\":\"28452125-c722-40f4-b0c9-4d3102749af4\",\"type\":\"ColumnDataSource\"},\"glyph\":{\"id\":\"083fba89-46dd-4b46-ab2b-7e78f5bb7d55\",\"type\":\"HBar\"},\"hover_glyph\":null,\"muted_glyph\":null,\"nonselection_glyph\":{\"id\":\"7e0b150e-a77e-4eba-95f4-02f4eed4985f\",\"type\":\"HBar\"},\"selection_glyph\":null,\"view\":{\"id\":\"932d87e3-bdc1-477d-b07e-4ecb051cb852\",\"type\":\"CDSView\"}},\"id\":\"6a537639-d6c7-4d48-b659-9a48fb4234ee\",\"type\":\"GlyphRenderer\"},{\"attributes\":{\"source\":{\"id\":\"28452125-c722-40f4-b0c9-4d3102749af4\",\"type\":\"ColumnDataSource\"}},\"id\":\"932d87e3-bdc1-477d-b07e-4ecb051cb852\",\"type\":\"CDSView\"},{\"attributes\":{},\"id\":\"b745478f-01de-420e-be33-74af711fad17\",\"type\":\"HelpTool\"},{\"attributes\":{},\"id\":\"484dc5a6-8bb9-4912-a430-74f707de3cfc\",\"type\":\"BasicTickFormatter\"},{\"attributes\":{},\"id\":\"efd94b37-f64b-4107-9c5e-d57650a66115\",\"type\":\"LinearScale\"},{\"attributes\":{},\"id\":\"2bb3a568-ed5f-45f7-8e7e-85b6cd59669a\",\"type\":\"ResetTool\"},{\"attributes\":{\"callback\":null,\"end\":0.3625458864176204,\"start\":-0.8428392588883326},\"id\":\"cf99befb-95db-4477-a752-8bfe86656672\",\"type\":\"Range1d\"},{\"attributes\":{\"axis_label\":\"PostSyn_smaller (bin = 1)\",\"formatter\":{\"id\":\"8cc9dd09-099e-425a-b483-e623ca12e200\",\"type\":\"BasicTickFormatter\"},\"plot\":{\"id\":\"6de8de38-114c-46f8-a27b-c243a3d12eac\",\"subtype\":\"Figure\",\"type\":\"Plot\"},\"ticker\":{\"id\":\"3f6daef0-7e96-401c-8b68-ff8e069b1aa1\",\"type\":\"BasicTicker\"}},\"id\":\"a196e965-7aed-4506-a7bf-2de38f5302d3\",\"type\":\"LinearAxis\"},{\"attributes\":{\"overlay\":{\"id\":\"f8988bf8-7e9f-4fa7-94d7-8b3403141bdc\",\"type\":\"BoxAnnotation\"}},\"id\":\"e1e353c3-0231-4467-acdc-aaf68c912d51\",\"type\":\"BoxZoomTool\"},{\"attributes\":{\"callback\":null,\"end\":20},\"id\":\"b9cf6d56-b7dd-414b-b169-1f28b8f65cc2\",\"type\":\"Range1d\"},{\"attributes\":{},\"id\":\"369bad9c-8cdb-45ee-aeca-88c27a228cd6\",\"type\":\"Selection\"},{\"attributes\":{},\"id\":\"3f6daef0-7e96-401c-8b68-ff8e069b1aa1\",\"type\":\"BasicTicker\"},{\"attributes\":{\"source\":{\"id\":\"afe6268a-f087-4dc6-b563-0bc0c54c94c3\",\"type\":\"ColumnDataSource\"}},\"id\":\"e05e6d57-93df-4b7f-8452-f3d7dadd37b3\",\"type\":\"CDSView\"},{\"attributes\":{},\"id\":\"6ca0b338-d924-45f4-b1ba-2c336a00609e\",\"type\":\"UnionRenderers\"},{\"attributes\":{\"callback\":null,\"data\":{\"left\":{\"__ndarray__\":\"+bBwVUd/5r8oEoS3rTXnvz9eDRQeree/kwkr9Q+d6L9GgAw/VCPpv1iNe4F/1ei/PrPQoWon6b/EFhkmoiXpvzQk5u0Miem/6/kEWXFd6b8F/PeWc/PkvyVCwa4NreW/v3aYwLGe5r8MigU5h/flvwaBlUOLbOe/TaB36loO6L95Ms14Ms3ov7N0XFFm6ei/ijsdyFuj6L+R7qdqwK/pvw==\",\"dtype\":\"float64\",\"shape\":[20]},\"y\":{\"__ndarray__\":\"AAAAAAAA4D8AAAAAAAD4PwAAAAAAAARAAAAAAAAADEAAAAAAAAASQAAAAAAAABZAAAAAAAAAGkAAAAAAAAAeQAAAAAAAACFAAAAAAAAAI0AAAAAAAAAlQAAAAAAAACdAAAAAAAAAKUAAAAAAAAArQAAAAAAAAC1AAAAAAAAAL0AAAAAAAIAwQAAAAAAAgDFAAAAAAACAMkAAAAAAAIAzQA==\",\"dtype\":\"float64\",\"shape\":[20]}},\"selected\":{\"id\":\"369bad9c-8cdb-45ee-aeca-88c27a228cd6\",\"type\":\"Selection\"},\"selection_policy\":{\"id\":\"17cb3579-23c9-41b4-a01b-52796293c143\",\"type\":\"UnionRenderers\"}},\"id\":\"afe6268a-f087-4dc6-b563-0bc0c54c94c3\",\"type\":\"ColumnDataSource\"},{\"attributes\":{},\"id\":\"17cb3579-23c9-41b4-a01b-52796293c143\",\"type\":\"UnionRenderers\"},{\"attributes\":{\"active_drag\":\"auto\",\"active_inspect\":\"auto\",\"active_multi\":null,\"active_scroll\":\"auto\",\"active_tap\":\"auto\",\"tools\":[{\"id\":\"f212e87c-56fd-4bbd-b01d-c7c091430112\",\"type\":\"PanTool\"},{\"id\":\"39a09135-cb70-46c9-9e54-fb443813b056\",\"type\":\"WheelZoomTool\"},{\"id\":\"e1e353c3-0231-4467-acdc-aaf68c912d51\",\"type\":\"BoxZoomTool\"},{\"id\":\"274c2155-9846-458f-8155-3c2f72c188b8\",\"type\":\"SaveTool\"},{\"id\":\"2bb3a568-ed5f-45f7-8e7e-85b6cd59669a\",\"type\":\"ResetTool\"},{\"id\":\"b745478f-01de-420e-be33-74af711fad17\",\"type\":\"HelpTool\"}]},\"id\":\"fa80a38f-5f57-4c6e-8294-99b99739806d\",\"type\":\"Toolbar\"}],\"root_ids\":[\"6de8de38-114c-46f8-a27b-c243a3d12eac\"]},\"title\":\"Bokeh Application\",\"version\":\"0.13.0\"}};\n",
       "  var render_items = [{\"docid\":\"20d2e860-95d7-4ce2-90fc-150d3b3c11a0\",\"roots\":{\"6de8de38-114c-46f8-a27b-c243a3d12eac\":\"87245a5a-4eba-4f29-8779-a026afa72da0\"}}];\n",
       "  root.Bokeh.embed.embed_items_notebook(docs_json, render_items);\n",
       "\n",
       "  }\n",
       "  if (root.Bokeh !== undefined) {\n",
       "    embed_document(root);\n",
       "  } else {\n",
       "    var attempts = 0;\n",
       "    var timer = setInterval(function(root) {\n",
       "      if (root.Bokeh !== undefined) {\n",
       "        embed_document(root);\n",
       "        clearInterval(timer);\n",
       "      }\n",
       "      attempts++;\n",
       "      if (attempts > 100) {\n",
       "        console.log(\"Bokeh: ERROR: Unable to run BokehJS code because BokehJS library is missing\")\n",
       "        clearInterval(timer);\n",
       "      }\n",
       "    }, 10, root)\n",
       "  }\n",
       "})(window);"
      ],
      "application/vnd.bokehjs_exec.v0+json": ""
     },
     "metadata": {
      "application/vnd.bokehjs_exec.v0+json": {
       "id": "6de8de38-114c-46f8-a27b-c243a3d12eac"
      }
     },
     "output_type": "display_data"
    }
   ],
   "source": [
    "show_merge_ratios(recent_decisions, 'PreSyn_smaller', bin_size=1, num_bins=20, show_ratio=False)\n",
    "show_merge_ratios(recent_decisions, 'PreSyn_smaller', bin_size=1, num_bins=20, show_ratio=True)\n",
    "#show_merge_ratios(recent_decisions, 'PreSyn_larger', bin_size=1, num_bins=20, show_ratio=show_ratio)\n",
    "\n",
    "show_merge_ratios(recent_decisions, 'PostSyn_smaller', bin_size=1, num_bins=20, show_ratio=False)\n",
    "show_merge_ratios(recent_decisions, 'PostSyn_smaller', bin_size=1, num_bins=20, show_ratio=True)\n",
    "#show_merge_ratios(recent_decisions, 'PostSyn_larger', bin_size=1, num_bins=20, show_ratio=show_ratio)\n",
    "\n",
    "#show_merge_ratios(recent_decisions, 'TotalSyn_smaller', bin_size=1, num_bins=20, show_ratio=show_ratio)\n",
    "#show_merge_ratios(recent_decisions, 'TotalSyn_larger', bin_size=1, num_bins=20, show_ratio=show_ratio)"
   ]
  },
  {
   "cell_type": "code",
   "execution_count": 418,
   "metadata": {},
   "outputs": [],
   "source": [
    "recent_it1_decisions = recent_decisions.merge(it1_df[['id_a', 'id_b']], how='inner', on=['id_a', 'id_b'])"
   ]
  },
  {
   "cell_type": "code",
   "execution_count": 420,
   "metadata": {},
   "outputs": [
    {
     "data": {
      "text/plain": [
       "(6050, 36)"
      ]
     },
     "execution_count": 420,
     "metadata": {},
     "output_type": "execute_result"
    }
   ],
   "source": [
    "recent_it1_decisions.shape"
   ]
  },
  {
   "cell_type": "code",
   "execution_count": 423,
   "metadata": {},
   "outputs": [
    {
     "data": {
      "text/plain": [
       "0.47719008264462809"
      ]
     },
     "execution_count": 423,
     "metadata": {},
     "output_type": "execute_result"
    }
   ],
   "source": [
    "ritc = recent_it1_decisions['result'].value_counts()\n",
    "(ritc['merge'] + ritc['mergeLater']) / ritc.sum()"
   ]
  },
  {
   "cell_type": "markdown",
   "metadata": {},
   "source": [
    "### Recent, limited to 160k group (no \"second-favorites\")"
   ]
  },
  {
   "cell_type": "code",
   "execution_count": null,
   "metadata": {},
   "outputs": [],
   "source": [
    "recent_no_second_favorites = load_focused_table('remaining-onehop-assignments-7254-20180824.csv')"
   ]
  },
  {
   "cell_type": "code",
   "execution_count": null,
   "metadata": {},
   "outputs": [],
   "source": [
    "recent_no_second_favorites.head()"
   ]
  },
  {
   "cell_type": "code",
   "execution_count": null,
   "metadata": {},
   "outputs": [],
   "source": [
    "recent_no_second_favorites['body_a'] = analysis_mapper.apply(recent_no_second_favorites['id_a'].values, True)\n",
    "recent_no_second_favorites['body_b'] = analysis_mapper.apply(recent_no_second_favorites['id_b'].values, True)"
   ]
  },
  {
   "cell_type": "code",
   "execution_count": null,
   "metadata": {},
   "outputs": [],
   "source": [
    "recent_no_second_favorites.head()"
   ]
  },
  {
   "cell_type": "code",
   "execution_count": null,
   "metadata": {},
   "outputs": [],
   "source": [
    "# Remove previously reviewed\n",
    "_merged = recent_no_second_favorites[['id_a', 'id_b']].merge(previous_focused_decisions[['id_a', 'id_b']],\n",
    "                                                             how='left',\n",
    "                                                             on=['id_a', 'id_b'],\n",
    "                                                             indicator='source_table')\n",
    "unreviewed_pos = (_merged['source_table'] == 'left_only')\n",
    "recent_no_second_favorites_unreviewed = recent_no_second_favorites.loc[unreviewed_pos].copy()"
   ]
  },
  {
   "cell_type": "code",
   "execution_count": null,
   "metadata": {},
   "outputs": [],
   "source": [
    "focused_bodies_table.head()"
   ]
  },
  {
   "cell_type": "code",
   "execution_count": null,
   "metadata": {},
   "outputs": [],
   "source": [
    "# Remove edges between \"old\" bodies (i.e. 2 tbars on both sides.)\n",
    "recent_no_second_favorites_unreviewed = recent_no_second_favorites_unreviewed.merge(focused_bodies_table,\n",
    "                                            how='inner', left_on='body_a', right_index=True)\n",
    "recent_no_second_favorites_unreviewed = recent_no_second_favorites_unreviewed.merge(focused_bodies_table,\n",
    "                                            how='inner', left_on='body_b', right_index=True,\n",
    "                                           suffixes=['_a', '_b'])\n",
    "\n",
    "# Remove edges that involve two bodies that already had >= 2 t-bars\n",
    "# (How did these make it into the set?)\n",
    "filtered_table = recent_no_second_favorites_unreviewed.query('not (PreSyn_a >= 2 and PreSyn_b >= 2)')\n",
    "#filtered_table.to_csv('remaining-onehop-assignments-7254-20180905.csv', index=False, header=True)"
   ]
  },
  {
   "cell_type": "code",
   "execution_count": 55,
   "metadata": {},
   "outputs": [
    {
     "name": "stderr",
     "output_type": "stream",
     "text": [
      "100%|██████████| 16/16 [00:02<00:00,  5.39it/s]\n"
     ]
    }
   ],
   "source": [
    "generate_assignments(filtered_table, 5000, 'remaining-onehop-assignments-7254-20180905')"
   ]
  },
  {
   "cell_type": "code",
   "execution_count": 56,
   "metadata": {},
   "outputs": [
    {
     "data": {
      "text/plain": [
       "(82561, 17)"
      ]
     },
     "execution_count": 56,
     "metadata": {},
     "output_type": "execute_result"
    }
   ],
   "source": [
    "filtered_table.shape"
   ]
  },
  {
   "cell_type": "code",
   "execution_count": null,
   "metadata": {},
   "outputs": [],
   "source": []
  },
  {
   "cell_type": "code",
   "execution_count": null,
   "metadata": {},
   "outputs": [],
   "source": []
  },
  {
   "cell_type": "markdown",
   "metadata": {},
   "source": [
    "### Decisions"
   ]
  },
  {
   "cell_type": "code",
   "execution_count": 55,
   "metadata": {},
   "outputs": [
    {
     "ename": "NameError",
     "evalue": "name 'recent_decisions' is not defined",
     "output_type": "error",
     "traceback": [
      "\u001b[0;31m---------------------------------------------------------------------------\u001b[0m",
      "\u001b[0;31mNameError\u001b[0m                                 Traceback (most recent call last)",
      "\u001b[0;32m<ipython-input-55-beabf54efdab>\u001b[0m in \u001b[0;36m<module>\u001b[0;34m()\u001b[0m\n\u001b[0;32m----> 1\u001b[0;31m recent_no_2nd_fav_decisions = recent_decisions.merge(recent_no_second_favorites[['id_a', 'id_b']],\n\u001b[0m\u001b[1;32m      2\u001b[0m                                                      how='inner', on=['id_a', 'id_b'])\n",
      "\u001b[0;31mNameError\u001b[0m: name 'recent_decisions' is not defined"
     ]
    }
   ],
   "source": [
    "recent_no_2nd_fav_decisions = recent_decisions.merge(recent_no_second_favorites[['id_a', 'id_b']],\n",
    "                                                     how='inner', on=['id_a', 'id_b'])"
   ]
  },
  {
   "cell_type": "code",
   "execution_count": null,
   "metadata": {},
   "outputs": [],
   "source": [
    "rno2f = recent_no_2nd_fav_decisions['result'].value_counts()\n",
    "(rno2f['merge'] + rno2f['mergeLater']) / rno2f.sum()"
   ]
  },
  {
   "cell_type": "code",
   "execution_count": null,
   "metadata": {},
   "outputs": [],
   "source": [
    "recent_new_subset = recent_no_2nd_fav_decisions.query('PreSyn_a < 2 or PreSyn_b < 2')"
   ]
  },
  {
   "cell_type": "code",
   "execution_count": null,
   "metadata": {},
   "outputs": [],
   "source": [
    "new_subset_counts = recent_new_subset['result'].value_counts()"
   ]
  },
  {
   "cell_type": "code",
   "execution_count": null,
   "metadata": {},
   "outputs": [],
   "source": [
    "(new_subset_counts['merge'] + new_subset_counts['mergeLater']) / new_subset_counts.sum()"
   ]
  },
  {
   "cell_type": "code",
   "execution_count": null,
   "metadata": {},
   "outputs": [],
   "source": []
  },
  {
   "cell_type": "code",
   "execution_count": null,
   "metadata": {},
   "outputs": [],
   "source": []
  },
  {
   "cell_type": "markdown",
   "metadata": {},
   "source": [
    "### Unrelated: Check tarsupervoxels status"
   ]
  },
  {
   "cell_type": "code",
   "execution_count": 14,
   "metadata": {},
   "outputs": [
    {
     "data": {
      "text/html": [
       "<div>\n",
       "<style scoped>\n",
       "    .dataframe tbody tr th:only-of-type {\n",
       "        vertical-align: middle;\n",
       "    }\n",
       "\n",
       "    .dataframe tbody tr th {\n",
       "        vertical-align: top;\n",
       "    }\n",
       "\n",
       "    .dataframe thead th {\n",
       "        text-align: right;\n",
       "    }\n",
       "</style>\n",
       "<table border=\"1\" class=\"dataframe\">\n",
       "  <thead>\n",
       "    <tr style=\"text-align: right;\">\n",
       "      <th></th>\n",
       "      <th>body</th>\n",
       "      <th>voxel_count</th>\n",
       "      <th>sv_count</th>\n",
       "      <th>PostSyn</th>\n",
       "      <th>PreSyn</th>\n",
       "    </tr>\n",
       "  </thead>\n",
       "  <tbody>\n",
       "    <tr>\n",
       "      <th>0</th>\n",
       "      <td>1497973422</td>\n",
       "      <td>12385573026</td>\n",
       "      <td>8953</td>\n",
       "      <td>8397</td>\n",
       "      <td>66</td>\n",
       "    </tr>\n",
       "    <tr>\n",
       "      <th>1</th>\n",
       "      <td>5813024096</td>\n",
       "      <td>10992947053</td>\n",
       "      <td>8172</td>\n",
       "      <td>7393</td>\n",
       "      <td>111</td>\n",
       "    </tr>\n",
       "    <tr>\n",
       "      <th>2</th>\n",
       "      <td>262840563</td>\n",
       "      <td>10492068511</td>\n",
       "      <td>6347</td>\n",
       "      <td>764</td>\n",
       "      <td>647</td>\n",
       "    </tr>\n",
       "    <tr>\n",
       "      <th>3</th>\n",
       "      <td>263199096</td>\n",
       "      <td>10129123402</td>\n",
       "      <td>2867</td>\n",
       "      <td>72</td>\n",
       "      <td>50</td>\n",
       "    </tr>\n",
       "    <tr>\n",
       "      <th>4</th>\n",
       "      <td>947573616</td>\n",
       "      <td>9261844618</td>\n",
       "      <td>7916</td>\n",
       "      <td>18638</td>\n",
       "      <td>4494</td>\n",
       "    </tr>\n",
       "  </tbody>\n",
       "</table>\n",
       "</div>"
      ],
      "text/plain": [
       "         body  voxel_count  sv_count  PostSyn  PreSyn\n",
       "0  1497973422  12385573026      8953     8397      66\n",
       "1  5813024096  10992947053      8172     7393     111\n",
       "2   262840563  10492068511      6347      764     647\n",
       "3   263199096  10129123402      2867       72      50\n",
       "4   947573616   9261844618      7916    18638    4494"
      ]
     },
     "execution_count": 14,
     "metadata": {},
     "output_type": "execute_result"
    }
   ],
   "source": [
    "master_focused_table = pd.DataFrame(np.load('focused-9e0d-2tbars-10psds-10.0Mv.npy'))\n",
    "master_focused_table.head()"
   ]
  },
  {
   "cell_type": "code",
   "execution_count": 15,
   "metadata": {},
   "outputs": [],
   "source": [
    "missing_svs = pd.read_csv('missing-focused-svs-9e0d.csv', dtype=np.uint64)"
   ]
  },
  {
   "cell_type": "code",
   "execution_count": 22,
   "metadata": {},
   "outputs": [
    {
     "name": "stderr",
     "output_type": "stream",
     "text": [
      "100%|██████████| 15/15 [00:01<00:00,  8.62it/s]\n"
     ]
    }
   ],
   "source": [
    "statuses = []\n",
    "for start in trange(0, len(missing_svs), 10_000):\n",
    "    sv_batch = missing_svs['sv'].iloc[start:start+10_000].values\n",
    "    statuses.append( fetch_exists('emdata3:8900', '9e0d', 'segmentation_sv_meshes', sv_batch) )"
   ]
  },
  {
   "cell_type": "code",
   "execution_count": 25,
   "metadata": {},
   "outputs": [],
   "source": [
    "missing_svs['exists'] = pd.concat(statuses).values"
   ]
  },
  {
   "cell_type": "code",
   "execution_count": 28,
   "metadata": {},
   "outputs": [
    {
     "data": {
      "text/plain": [
       "188"
      ]
     },
     "execution_count": 28,
     "metadata": {},
     "output_type": "execute_result"
    }
   ],
   "source": [
    "(~missing_svs['exists']).sum()"
   ]
  },
  {
   "cell_type": "code",
   "execution_count": 33,
   "metadata": {},
   "outputs": [],
   "source": [
    "pd.Series(pd.unique(missing_svs.query('not exists and size > 100')['body']), name='body')\\\n",
    "  .to_csv('straggler-bodies-9e0d.csv')"
   ]
  },
  {
   "cell_type": "code",
   "execution_count": null,
   "metadata": {},
   "outputs": [],
   "source": []
  }
 ],
 "metadata": {
  "kernelspec": {
   "display_name": "Python 3",
   "language": "python",
   "name": "python3"
  },
  "language_info": {
   "codemirror_mode": {
    "name": "ipython",
    "version": 3
   },
   "file_extension": ".py",
   "mimetype": "text/x-python",
   "name": "python",
   "nbconvert_exporter": "python",
   "pygments_lexer": "ipython3",
   "version": "3.6.3"
  }
 },
 "nbformat": 4,
 "nbformat_minor": 2
}
