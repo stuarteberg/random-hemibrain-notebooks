{
 "cells": [
  {
   "cell_type": "code",
   "execution_count": 1,
   "metadata": {},
   "outputs": [],
   "source": [
    "%load_ext autoreload\n",
    "%autoreload 2"
   ]
  },
  {
   "cell_type": "code",
   "execution_count": 2,
   "metadata": {},
   "outputs": [],
   "source": [
    "import os\n",
    "import sys\n",
    "import glob\n",
    "import logging\n",
    "from datetime import datetime\n",
    "\n",
    "import requests\n",
    "from tqdm import tqdm, tqdm_notebook, trange\n",
    "\n",
    "import numpy as np\n",
    "import pandas as pd\n",
    "\n",
    "from dvidutils import LabelMapper\n",
    "from libdvid import DVIDNodeService\n",
    "\n",
    "from neuclease import configure_default_logging\n",
    "from neuclease.dvid import *\n",
    "from neuclease.dvid.keyvalue import fetch_keyvalues\n",
    "from neuclease.util import Timer, closest_approach\n",
    "from neuclease.merge_table import normalize_recarray_inplace, generate_focused_assignment, generate_assignments\n",
    "from neuclease.focused.ingest import *\n",
    "from neuclease.focused.ingest import fetch_focused_decisions\n",
    "from neuclease.focused.scores import calc_speculative_scores\n",
    "from neuclease.focused.favorites import compute_favorites, mark_favorites, extract_favorites"
   ]
  },
  {
   "cell_type": "code",
   "execution_count": 3,
   "metadata": {},
   "outputs": [],
   "source": [
    "from matplotlib import pylab as plt\n",
    "plt.rcParams['figure.figsize'] = [5, 5]"
   ]
  },
  {
   "cell_type": "code",
   "execution_count": 4,
   "metadata": {},
   "outputs": [],
   "source": [
    "#import imp\n",
    "#import neuclease.dvid.kafka\n",
    "#imp.reload(neuclease.dvid.kafka)\n",
    "#from neuclease.dvid.kafka import read_kafka_messages"
   ]
  },
  {
   "cell_type": "code",
   "execution_count": 5,
   "metadata": {},
   "outputs": [
    {
     "name": "stdout",
     "output_type": "stream",
     "text": [
      "This notebook:\n",
      "http://lsf-rtm/cacti/plugins/grid/grid_bjobs.php?action=viewjob&tab=hostgraph&clusterid=1&indexid=0&jobid=46497749&submit_time=1536343895\n"
     ]
    }
   ],
   "source": [
    "from DVIDSparkServices.spark_launch_scripts.janelia_lsf.lsf_utils import get_hostgraph_url\n",
    "print(\"This notebook:\")\n",
    "print(get_hostgraph_url(os.environ[\"LSB_JOBID\"]))\n",
    "#print(\"Cluster:\")\n",
    "#print(get_hostgraph_url(os.environ[\"MASTER_BJOB_ID\"]))"
   ]
  },
  {
   "cell_type": "code",
   "execution_count": 6,
   "metadata": {},
   "outputs": [],
   "source": [
    "root_logger = logging.getLogger()\n",
    "root_logger.handlers = []\n",
    "configure_default_logging()"
   ]
  },
  {
   "cell_type": "code",
   "execution_count": 7,
   "metadata": {},
   "outputs": [
    {
     "data": {
      "text/plain": [
       "'/nrs/flyem/bergs/complete-ffn-agglo'"
      ]
     },
     "execution_count": 7,
     "metadata": {},
     "output_type": "execute_result"
    }
   ],
   "source": [
    "pwd"
   ]
  },
  {
   "cell_type": "code",
   "execution_count": 8,
   "metadata": {},
   "outputs": [
    {
     "data": {
      "text/plain": [
       "''"
      ]
     },
     "execution_count": 8,
     "metadata": {},
     "output_type": "execute_result"
    }
   ],
   "source": [
    "sc"
   ]
  },
  {
   "cell_type": "markdown",
   "metadata": {},
   "source": [
    "### UUIDS"
   ]
  },
  {
   "cell_type": "code",
   "execution_count": 58,
   "metadata": {},
   "outputs": [],
   "source": [
    "# The starting agglo\n",
    "initial_agglo_node = ('emdata3:8900', 'ac901')\n",
    "\n",
    "# # The uuid used when loading the neo4j instance (for 'important bodies')\n",
    "# neo4j_reference = DvidInstanceInfo('emdata3:8900', '52f9', 'segmentation')\n",
    "\n",
    "# # The last supervoxel splits: One past the neo4j node\n",
    "analysis_node = ('emdata3:8900', '662e')\n",
    "\n",
    "# Current master\n",
    "master_node = ('emdata3:8900', '9e0d')"
   ]
  },
  {
   "cell_type": "markdown",
   "metadata": {},
   "source": [
    "### Analysis Node mapping"
   ]
  },
  {
   "cell_type": "code",
   "execution_count": 10,
   "metadata": {},
   "outputs": [],
   "source": [
    "#msgs = read_kafka_messages(*analysis_node, 'segmentation', consumer_timeout=4.0)"
   ]
  },
  {
   "cell_type": "code",
   "execution_count": 11,
   "metadata": {},
   "outputs": [
    {
     "name": "stdout",
     "output_type": "stream",
     "text": [
      "INFO [2018-09-07 14:20:03,058] Reading kafka messages from ['kafka.int.janelia.org:9092', 'kafka2.int.janelia.org:9092', 'kafka3.int.janelia.org:9092'] for emdata3:8900 / 662e / segmentation\n",
      "INFO [2018-09-07 14:20:36,848] Reading 911374 kafka messages took 33.78953313827515 seconds\n",
      "INFO [2018-09-07 14:20:44,051] Fetching http://emdata3:8900/api/node/662e/segmentation/mappings...\n",
      "INFO [2018-09-07 14:21:18,389] Fetching http://emdata3:8900/api/node/662e/segmentation/mappings took 0:00:34.336402\n",
      "INFO [2018-09-07 14:21:18,390] Parsing mapping...\n",
      "INFO [2018-09-07 14:21:25,800] Parsing mapping took 0:00:07.410044\n",
      "INFO [2018-09-07 14:21:25,856] Constructing missing identity-mappings...\n",
      "INFO [2018-09-07 14:21:47,785] Constructing missing identity-mappings took 0:00:21.928757\n"
     ]
    }
   ],
   "source": [
    "analysis_mapping = fetch_complete_mappings(*analysis_node, 'segmentation')"
   ]
  },
  {
   "cell_type": "code",
   "execution_count": 12,
   "metadata": {},
   "outputs": [],
   "source": [
    "#analysis_mapping = fetch_mappings(*analysis_node, 'segmentation')"
   ]
  },
  {
   "cell_type": "code",
   "execution_count": 13,
   "metadata": {},
   "outputs": [],
   "source": [
    "analysis_mapper = LabelMapper(analysis_mapping.index.values, analysis_mapping.values)"
   ]
  },
  {
   "cell_type": "markdown",
   "metadata": {},
   "source": [
    "### Previous decisions"
   ]
  },
  {
   "cell_type": "code",
   "execution_count": 59,
   "metadata": {},
   "outputs": [
    {
     "name": "stdout",
     "output_type": "stream",
     "text": [
      "Loaded 530289 previous decisions\n",
      "CPU times: user 58.7 s, sys: 5.47 s, total: 1min 4s\n",
      "Wall time: 1min 33s\n"
     ]
    }
   ],
   "source": [
    "%%time\n",
    "LOAD_PREVIOUS_FROM_CSV = False\n",
    "_path = f'focused-decisions-{master_node[1]}-{datetime.now().date()}.csv'\n",
    "\n",
    "if LOAD_PREVIOUS_FROM_CSV:\n",
    "    df = pd.read_csv(_path)\n",
    "    df.fillna(0.0, inplace=True)\n",
    "    df['sv_a'] = df['sv_a'].astype(np.uint64)\n",
    "    df['sv_b'] = df['sv_b'].astype(np.uint64)\n",
    "    df['body_a'] = df['body_a'].astype(np.uint64)\n",
    "    df['body_b'] = df['body_b'].astype(np.uint64)\n",
    "    previous_focused_decisions = df\n",
    "else:\n",
    "    previous_focused_decisions = fetch_focused_decisions(*master_node, 'segmentation_merged',\n",
    "                                                         normalize_pairs='sv')\n",
    "\n",
    "    previous_focused_decisions.to_csv(_path, index=False, header=True)\n",
    "\n",
    "# Body info is nearly useless because they correspond to the body ID\n",
    "# at the time the edge was assigned -- not the current body ID.\n",
    "# Let's delete the body columns to ensure we don't accidentally try to use it for anything.\n",
    "del previous_focused_decisions['body_a']\n",
    "del previous_focused_decisions['body_b']\n",
    "\n",
    "previous_focused_decisions.rename(inplace=True, columns={'sv_a': 'id_a', 'sv_b': 'id_b'})\n",
    "\n",
    "assert previous_focused_decisions.eval('id_a <= id_b').all()\n",
    "print(f\"Loaded {len(previous_focused_decisions)} previous decisions\")"
   ]
  },
  {
   "cell_type": "code",
   "execution_count": 60,
   "metadata": {},
   "outputs": [
    {
     "name": "stdout",
     "output_type": "stream",
     "text": [
      "TOTAL decisions: 530289\n",
      "Merge(later) Decisions: 282385 (53.3%)\n"
     ]
    },
    {
     "data": {
      "text/plain": [
       "<matplotlib.axes._subplots.AxesSubplot at 0x2b7485a03588>"
      ]
     },
     "execution_count": 60,
     "metadata": {},
     "output_type": "execute_result"
    },
    {
     "data": {
      "image/png": "[encoded data removed]",
      "text/plain": [
       "<Figure size 360x360 with 1 Axes>"
      ]
     },
     "metadata": {},
     "output_type": "display_data"
    }
   ],
   "source": [
    "print(f\"TOTAL decisions: {len(previous_focused_decisions)}\")\n",
    "merge_decisions = previous_focused_decisions.eval('result == \"merge\" or result == \"mergeLater\"').sum()\n",
    "merge_rate = merge_decisions / len(previous_focused_decisions)\n",
    "print(f\"Merge(later) Decisions: {merge_decisions} ({100*merge_rate:.1f}%)\")\n",
    "previous_focused_decisions['result'].value_counts().plot(kind='pie')"
   ]
  },
  {
   "cell_type": "code",
   "execution_count": 16,
   "metadata": {},
   "outputs": [],
   "source": [
    "def drop_previously_reviewed(df, previous_focused_decisions_df):\n",
    "    \"\"\"\n",
    "    Given a DataFrame of speculative focused decisions and \n",
    "    a DataFrame of previously reviewed focused decisions,\n",
    "    drop all previous decisions from the speculative set,\n",
    "    regardless of review results.\n",
    "    \"\"\"\n",
    "    comparison_df = previous_focused_decisions_df[['id_a', 'id_b']].drop_duplicates()\n",
    "    in_prev = df[['id_a', 'id_b']].merge(comparison_df,\n",
    "                                         how='left',\n",
    "                                         on=['id_a', 'id_b'],\n",
    "                                         indicator='side')\n",
    "\n",
    "    keep_rows = (in_prev['side'] == 'left_only')\n",
    "    return df[keep_rows.values]"
   ]
  },
  {
   "cell_type": "markdown",
   "metadata": {},
   "source": [
    "### Important bodies"
   ]
  },
  {
   "cell_type": "code",
   "execution_count": 17,
   "metadata": {},
   "outputs": [
    {
     "name": "stdout",
     "output_type": "stream",
     "text": [
      "Working with 702995 focused bodies\n"
     ]
    }
   ],
   "source": [
    "##\n",
    "## Using Analysis node state!\n",
    "##\n",
    "\n",
    "#focused_bodies_path = 'focused-7254-2tbars-2psds-10.0Mv.npy'\n",
    "focused_bodies_path = 'focused-662e-2tbars-2psds-10.0Mv.npy'\n",
    "focused_bodies_table = pd.DataFrame(np.load(focused_bodies_path))\n",
    "focused_bodies_table.set_index('body', inplace=True)\n",
    "\n",
    "# Filter for 0.5 criteria\n",
    "focused_bodies_table.query('PreSyn >= 2 or PostSyn >= 10 or voxel_count >= 10e6', inplace=True)\n",
    "\n",
    "important_bodies = set(focused_bodies_table.index)\n",
    "print(f\"Working with {len(important_bodies)} focused bodies\")"
   ]
  },
  {
   "cell_type": "markdown",
   "metadata": {},
   "source": [
    "### Recent, limited to 160k group (no \"second-favorites\")"
   ]
  },
  {
   "cell_type": "code",
   "execution_count": 64,
   "metadata": {},
   "outputs": [],
   "source": [
    "recent_no_second_favorites = load_focused_table('remaining-onehop-assignments-7254-20180824.csv')"
   ]
  },
  {
   "cell_type": "code",
   "execution_count": 65,
   "metadata": {},
   "outputs": [
    {
     "data": {
      "text/html": [
       "<div>\n",
       "<style scoped>\n",
       "    .dataframe tbody tr th:only-of-type {\n",
       "        vertical-align: middle;\n",
       "    }\n",
       "\n",
       "    .dataframe tbody tr th {\n",
       "        vertical-align: top;\n",
       "    }\n",
       "\n",
       "    .dataframe thead th {\n",
       "        text-align: right;\n",
       "    }\n",
       "</style>\n",
       "<table border=\"1\" class=\"dataframe\">\n",
       "  <thead>\n",
       "    <tr style=\"text-align: right;\">\n",
       "      <th></th>\n",
       "      <th>id_a</th>\n",
       "      <th>id_b</th>\n",
       "      <th>body_a</th>\n",
       "      <th>body_b</th>\n",
       "      <th>xa</th>\n",
       "      <th>ya</th>\n",
       "      <th>za</th>\n",
       "      <th>xb</th>\n",
       "      <th>yb</th>\n",
       "      <th>zb</th>\n",
       "      <th>score</th>\n",
       "    </tr>\n",
       "  </thead>\n",
       "  <tbody>\n",
       "    <tr>\n",
       "      <th>0</th>\n",
       "      <td>978215387</td>\n",
       "      <td>978216166</td>\n",
       "      <td>978215387</td>\n",
       "      <td>359913281</td>\n",
       "      <td>10726</td>\n",
       "      <td>20941</td>\n",
       "      <td>13865</td>\n",
       "      <td>10740</td>\n",
       "      <td>20910</td>\n",
       "      <td>13867</td>\n",
       "      <td>-0.164567</td>\n",
       "    </tr>\n",
       "    <tr>\n",
       "      <th>1</th>\n",
       "      <td>2180107316</td>\n",
       "      <td>2180452882</td>\n",
       "      <td>5813024833</td>\n",
       "      <td>1870483009</td>\n",
       "      <td>16954</td>\n",
       "      <td>10118</td>\n",
       "      <td>30845</td>\n",
       "      <td>16947</td>\n",
       "      <td>10081</td>\n",
       "      <td>30876</td>\n",
       "      <td>-0.998103</td>\n",
       "    </tr>\n",
       "    <tr>\n",
       "      <th>2</th>\n",
       "      <td>1590940221</td>\n",
       "      <td>1590940303</td>\n",
       "      <td>5812990497</td>\n",
       "      <td>1498176639</td>\n",
       "      <td>32150</td>\n",
       "      <td>10377</td>\n",
       "      <td>22590</td>\n",
       "      <td>32194</td>\n",
       "      <td>10354</td>\n",
       "      <td>22608</td>\n",
       "      <td>-0.988324</td>\n",
       "    </tr>\n",
       "    <tr>\n",
       "      <th>3</th>\n",
       "      <td>1046549486</td>\n",
       "      <td>1077588372</td>\n",
       "      <td>1046549307</td>\n",
       "      <td>388280297</td>\n",
       "      <td>23783</td>\n",
       "      <td>28680</td>\n",
       "      <td>15010</td>\n",
       "      <td>23741</td>\n",
       "      <td>28640</td>\n",
       "      <td>15019</td>\n",
       "      <td>-0.172622</td>\n",
       "    </tr>\n",
       "    <tr>\n",
       "      <th>4</th>\n",
       "      <td>1563444916</td>\n",
       "      <td>2024133404</td>\n",
       "      <td>5812993175</td>\n",
       "      <td>1962072998</td>\n",
       "      <td>4637</td>\n",
       "      <td>8953</td>\n",
       "      <td>28349</td>\n",
       "      <td>4632</td>\n",
       "      <td>8918</td>\n",
       "      <td>28397</td>\n",
       "      <td>-0.996784</td>\n",
       "    </tr>\n",
       "  </tbody>\n",
       "</table>\n",
       "</div>"
      ],
      "text/plain": [
       "         id_a        id_b      body_a      body_b     xa     ya     za     xb  \\\n",
       "0   978215387   978216166   978215387   359913281  10726  20941  13865  10740   \n",
       "1  2180107316  2180452882  5813024833  1870483009  16954  10118  30845  16947   \n",
       "2  1590940221  1590940303  5812990497  1498176639  32150  10377  22590  32194   \n",
       "3  1046549486  1077588372  1046549307   388280297  23783  28680  15010  23741   \n",
       "4  1563444916  2024133404  5812993175  1962072998   4637   8953  28349   4632   \n",
       "\n",
       "      yb     zb     score  \n",
       "0  20910  13867 -0.164567  \n",
       "1  10081  30876 -0.998103  \n",
       "2  10354  22608 -0.988324  \n",
       "3  28640  15019 -0.172622  \n",
       "4   8918  28397 -0.996784  "
      ]
     },
     "execution_count": 65,
     "metadata": {},
     "output_type": "execute_result"
    }
   ],
   "source": [
    "recent_no_second_favorites.head()"
   ]
  },
  {
   "cell_type": "code",
   "execution_count": 66,
   "metadata": {},
   "outputs": [],
   "source": [
    "recent_no_second_favorites['body_a'] = analysis_mapper.apply(recent_no_second_favorites['id_a'].values, True)\n",
    "recent_no_second_favorites['body_b'] = analysis_mapper.apply(recent_no_second_favorites['id_b'].values, True)"
   ]
  },
  {
   "cell_type": "code",
   "execution_count": 67,
   "metadata": {},
   "outputs": [
    {
     "data": {
      "text/html": [
       "<div>\n",
       "<style scoped>\n",
       "    .dataframe tbody tr th:only-of-type {\n",
       "        vertical-align: middle;\n",
       "    }\n",
       "\n",
       "    .dataframe tbody tr th {\n",
       "        vertical-align: top;\n",
       "    }\n",
       "\n",
       "    .dataframe thead th {\n",
       "        text-align: right;\n",
       "    }\n",
       "</style>\n",
       "<table border=\"1\" class=\"dataframe\">\n",
       "  <thead>\n",
       "    <tr style=\"text-align: right;\">\n",
       "      <th></th>\n",
       "      <th>id_a</th>\n",
       "      <th>id_b</th>\n",
       "      <th>body_a</th>\n",
       "      <th>body_b</th>\n",
       "      <th>xa</th>\n",
       "      <th>ya</th>\n",
       "      <th>za</th>\n",
       "      <th>xb</th>\n",
       "      <th>yb</th>\n",
       "      <th>zb</th>\n",
       "      <th>score</th>\n",
       "    </tr>\n",
       "  </thead>\n",
       "  <tbody>\n",
       "    <tr>\n",
       "      <th>0</th>\n",
       "      <td>978215387</td>\n",
       "      <td>978216166</td>\n",
       "      <td>978215387</td>\n",
       "      <td>359913281</td>\n",
       "      <td>10726</td>\n",
       "      <td>20941</td>\n",
       "      <td>13865</td>\n",
       "      <td>10740</td>\n",
       "      <td>20910</td>\n",
       "      <td>13867</td>\n",
       "      <td>-0.164567</td>\n",
       "    </tr>\n",
       "    <tr>\n",
       "      <th>1</th>\n",
       "      <td>2180107316</td>\n",
       "      <td>2180452882</td>\n",
       "      <td>5813024833</td>\n",
       "      <td>1870483009</td>\n",
       "      <td>16954</td>\n",
       "      <td>10118</td>\n",
       "      <td>30845</td>\n",
       "      <td>16947</td>\n",
       "      <td>10081</td>\n",
       "      <td>30876</td>\n",
       "      <td>-0.998103</td>\n",
       "    </tr>\n",
       "    <tr>\n",
       "      <th>2</th>\n",
       "      <td>1590940221</td>\n",
       "      <td>1590940303</td>\n",
       "      <td>5812990497</td>\n",
       "      <td>1498176639</td>\n",
       "      <td>32150</td>\n",
       "      <td>10377</td>\n",
       "      <td>22590</td>\n",
       "      <td>32194</td>\n",
       "      <td>10354</td>\n",
       "      <td>22608</td>\n",
       "      <td>-0.988324</td>\n",
       "    </tr>\n",
       "    <tr>\n",
       "      <th>3</th>\n",
       "      <td>1046549486</td>\n",
       "      <td>1077588372</td>\n",
       "      <td>1046549307</td>\n",
       "      <td>388280297</td>\n",
       "      <td>23783</td>\n",
       "      <td>28680</td>\n",
       "      <td>15010</td>\n",
       "      <td>23741</td>\n",
       "      <td>28640</td>\n",
       "      <td>15019</td>\n",
       "      <td>-0.172622</td>\n",
       "    </tr>\n",
       "    <tr>\n",
       "      <th>4</th>\n",
       "      <td>1563444916</td>\n",
       "      <td>2024133404</td>\n",
       "      <td>5812993175</td>\n",
       "      <td>1962072998</td>\n",
       "      <td>4637</td>\n",
       "      <td>8953</td>\n",
       "      <td>28349</td>\n",
       "      <td>4632</td>\n",
       "      <td>8918</td>\n",
       "      <td>28397</td>\n",
       "      <td>-0.996784</td>\n",
       "    </tr>\n",
       "  </tbody>\n",
       "</table>\n",
       "</div>"
      ],
      "text/plain": [
       "         id_a        id_b      body_a      body_b     xa     ya     za     xb  \\\n",
       "0   978215387   978216166   978215387   359913281  10726  20941  13865  10740   \n",
       "1  2180107316  2180452882  5813024833  1870483009  16954  10118  30845  16947   \n",
       "2  1590940221  1590940303  5812990497  1498176639  32150  10377  22590  32194   \n",
       "3  1046549486  1077588372  1046549307   388280297  23783  28680  15010  23741   \n",
       "4  1563444916  2024133404  5812993175  1962072998   4637   8953  28349   4632   \n",
       "\n",
       "      yb     zb     score  \n",
       "0  20910  13867 -0.164567  \n",
       "1  10081  30876 -0.998103  \n",
       "2  10354  22608 -0.988324  \n",
       "3  28640  15019 -0.172622  \n",
       "4   8918  28397 -0.996784  "
      ]
     },
     "execution_count": 67,
     "metadata": {},
     "output_type": "execute_result"
    }
   ],
   "source": [
    "recent_no_second_favorites.head()"
   ]
  },
  {
   "cell_type": "code",
   "execution_count": 68,
   "metadata": {},
   "outputs": [],
   "source": [
    "# Remove previously reviewed\n",
    "_merged = recent_no_second_favorites[['id_a', 'id_b']].merge(previous_focused_decisions[['id_a', 'id_b']],\n",
    "                                                             how='left',\n",
    "                                                             on=['id_a', 'id_b'],\n",
    "                                                             indicator='source_table')\n",
    "unreviewed_pos = (_merged['source_table'] == 'left_only')\n",
    "recent_no_second_favorites_unreviewed = recent_no_second_favorites.loc[unreviewed_pos].copy()"
   ]
  },
  {
   "cell_type": "code",
   "execution_count": 69,
   "metadata": {},
   "outputs": [
    {
     "data": {
      "text/html": [
       "<div>\n",
       "<style scoped>\n",
       "    .dataframe tbody tr th:only-of-type {\n",
       "        vertical-align: middle;\n",
       "    }\n",
       "\n",
       "    .dataframe tbody tr th {\n",
       "        vertical-align: top;\n",
       "    }\n",
       "\n",
       "    .dataframe thead th {\n",
       "        text-align: right;\n",
       "    }\n",
       "</style>\n",
       "<table border=\"1\" class=\"dataframe\">\n",
       "  <thead>\n",
       "    <tr style=\"text-align: right;\">\n",
       "      <th></th>\n",
       "      <th>voxel_count</th>\n",
       "      <th>sv_count</th>\n",
       "      <th>PostSyn</th>\n",
       "      <th>PreSyn</th>\n",
       "    </tr>\n",
       "    <tr>\n",
       "      <th>body</th>\n",
       "      <th></th>\n",
       "      <th></th>\n",
       "      <th></th>\n",
       "      <th></th>\n",
       "    </tr>\n",
       "  </thead>\n",
       "  <tbody>\n",
       "    <tr>\n",
       "      <th>1497973422</th>\n",
       "      <td>11818299675</td>\n",
       "      <td>8719</td>\n",
       "      <td>8308</td>\n",
       "      <td>65</td>\n",
       "    </tr>\n",
       "    <tr>\n",
       "      <th>5813024096</th>\n",
       "      <td>10985904465</td>\n",
       "      <td>8126</td>\n",
       "      <td>7393</td>\n",
       "      <td>109</td>\n",
       "    </tr>\n",
       "    <tr>\n",
       "      <th>263199096</th>\n",
       "      <td>9674671304</td>\n",
       "      <td>2650</td>\n",
       "      <td>51</td>\n",
       "      <td>34</td>\n",
       "    </tr>\n",
       "    <tr>\n",
       "      <th>262840563</th>\n",
       "      <td>9591276440</td>\n",
       "      <td>3957</td>\n",
       "      <td>386</td>\n",
       "      <td>468</td>\n",
       "    </tr>\n",
       "    <tr>\n",
       "      <th>5813021092</th>\n",
       "      <td>9522426145</td>\n",
       "      <td>10636</td>\n",
       "      <td>2933</td>\n",
       "      <td>1160</td>\n",
       "    </tr>\n",
       "  </tbody>\n",
       "</table>\n",
       "</div>"
      ],
      "text/plain": [
       "            voxel_count  sv_count  PostSyn  PreSyn\n",
       "body                                              \n",
       "1497973422  11818299675      8719     8308      65\n",
       "5813024096  10985904465      8126     7393     109\n",
       "263199096    9674671304      2650       51      34\n",
       "262840563    9591276440      3957      386     468\n",
       "5813021092   9522426145     10636     2933    1160"
      ]
     },
     "execution_count": 69,
     "metadata": {},
     "output_type": "execute_result"
    }
   ],
   "source": [
    "focused_bodies_table.head()"
   ]
  },
  {
   "cell_type": "code",
   "execution_count": 70,
   "metadata": {},
   "outputs": [],
   "source": [
    "# Remove edges between \"old\" bodies (i.e. 2 tbars on both sides.)\n",
    "recent_no_second_favorites_unreviewed = recent_no_second_favorites_unreviewed.merge(focused_bodies_table,\n",
    "                                            how='inner', left_on='body_a', right_index=True)\n",
    "recent_no_second_favorites_unreviewed = recent_no_second_favorites_unreviewed.merge(focused_bodies_table,\n",
    "                                            how='inner', left_on='body_b', right_index=True,\n",
    "                                           suffixes=['_a', '_b'])\n",
    "\n",
    "# Remove edges that involve two bodies that already had >= 2 t-bars\n",
    "# (How did these make it into the set?)\n",
    "filtered_table = recent_no_second_favorites_unreviewed.query('not (PreSyn_a >= 2 and PreSyn_b >= 2)')\n",
    "#filtered_table.to_csv('remaining-onehop-assignments-7254-20180905.csv', index=False, header=True)"
   ]
  },
  {
   "cell_type": "code",
   "execution_count": 71,
   "metadata": {},
   "outputs": [
    {
     "name": "stderr",
     "output_type": "stream",
     "text": [
      "100%|██████████| 11/11 [00:01<00:00,  6.79it/s]\n"
     ]
    }
   ],
   "source": [
    "generate_assignments(filtered_table, 5000, 'remaining-onehop-assignments-7254-20180907')"
   ]
  },
  {
   "cell_type": "code",
   "execution_count": 72,
   "metadata": {},
   "outputs": [
    {
     "data": {
      "text/plain": [
       "(59724, 19)"
      ]
     },
     "execution_count": 72,
     "metadata": {},
     "output_type": "execute_result"
    }
   ],
   "source": [
    "filtered_table.shape"
   ]
  },
  {
   "cell_type": "code",
   "execution_count": 50,
   "metadata": {},
   "outputs": [
    {
     "data": {
      "text/html": [
       "<div>\n",
       "<style scoped>\n",
       "    .dataframe tbody tr th:only-of-type {\n",
       "        vertical-align: middle;\n",
       "    }\n",
       "\n",
       "    .dataframe tbody tr th {\n",
       "        vertical-align: top;\n",
       "    }\n",
       "\n",
       "    .dataframe thead th {\n",
       "        text-align: right;\n",
       "    }\n",
       "</style>\n",
       "<table border=\"1\" class=\"dataframe\">\n",
       "  <thead>\n",
       "    <tr style=\"text-align: right;\">\n",
       "      <th></th>\n",
       "      <th>id_a</th>\n",
       "      <th>id_b</th>\n",
       "      <th>body_a</th>\n",
       "      <th>body_b</th>\n",
       "      <th>xa</th>\n",
       "      <th>ya</th>\n",
       "      <th>za</th>\n",
       "      <th>xb</th>\n",
       "      <th>yb</th>\n",
       "      <th>zb</th>\n",
       "      <th>score</th>\n",
       "      <th>voxel_count_a</th>\n",
       "      <th>sv_count_a</th>\n",
       "      <th>PostSyn_a</th>\n",
       "      <th>PreSyn_a</th>\n",
       "      <th>voxel_count_b</th>\n",
       "      <th>sv_count_b</th>\n",
       "      <th>PostSyn_b</th>\n",
       "      <th>PreSyn_b</th>\n",
       "    </tr>\n",
       "  </thead>\n",
       "  <tbody>\n",
       "    <tr>\n",
       "      <th>23638</th>\n",
       "      <td>1932777456</td>\n",
       "      <td>1933118423</td>\n",
       "      <td>5813022932</td>\n",
       "      <td>1932777341</td>\n",
       "      <td>9134</td>\n",
       "      <td>11543</td>\n",
       "      <td>27246</td>\n",
       "      <td>9169</td>\n",
       "      <td>11483</td>\n",
       "      <td>27207</td>\n",
       "      <td>-0.625019</td>\n",
       "      <td>1726258766</td>\n",
       "      <td>1392</td>\n",
       "      <td>3076</td>\n",
       "      <td>397</td>\n",
       "      <td>85683</td>\n",
       "      <td>3</td>\n",
       "      <td>11</td>\n",
       "      <td>0</td>\n",
       "    </tr>\n",
       "  </tbody>\n",
       "</table>\n",
       "</div>"
      ],
      "text/plain": [
       "             id_a        id_b      body_a      body_b    xa     ya     za  \\\n",
       "23638  1932777456  1933118423  5813022932  1932777341  9134  11543  27246   \n",
       "\n",
       "         xb     yb     zb     score  voxel_count_a  sv_count_a  PostSyn_a  \\\n",
       "23638  9169  11483  27207 -0.625019     1726258766        1392       3076   \n",
       "\n",
       "       PreSyn_a  voxel_count_b  sv_count_b  PostSyn_b  PreSyn_b  \n",
       "23638       397          85683           3         11         0  "
      ]
     },
     "execution_count": 50,
     "metadata": {},
     "output_type": "execute_result"
    }
   ],
   "source": [
    "#recent_no_second_favorites_unreviewed[recent_no_second_favorites_unreviewed[['id_a', 'id_b']].values == [1932777456, 1933118423]]\n",
    "recent_no_second_favorites_unreviewed.query('id_a == 1932777456 and id_b == 1933118423')"
   ]
  },
  {
   "cell_type": "code",
   "execution_count": null,
   "metadata": {},
   "outputs": [],
   "source": [
    "previous_focused_decisions['body_a'] = analysis_mapper.apply(previous_focused_decisions['id_a'].values, True)\n",
    "previous_focused_decisions['body_b'] = analysis_mapper.apply(previous_focused_decisions['id_b'].values, True)"
   ]
  },
  {
   "cell_type": "code",
   "execution_count": 63,
   "metadata": {},
   "outputs": [
    {
     "data": {
      "text/html": [
       "<div>\n",
       "<style scoped>\n",
       "    .dataframe tbody tr th:only-of-type {\n",
       "        vertical-align: middle;\n",
       "    }\n",
       "\n",
       "    .dataframe tbody tr th {\n",
       "        vertical-align: top;\n",
       "    }\n",
       "\n",
       "    .dataframe thead th {\n",
       "        text-align: right;\n",
       "    }\n",
       "</style>\n",
       "<table border=\"1\" class=\"dataframe\">\n",
       "  <thead>\n",
       "    <tr style=\"text-align: right;\">\n",
       "      <th></th>\n",
       "      <th>build version</th>\n",
       "      <th>initial 3D angle method</th>\n",
       "      <th>result</th>\n",
       "      <th>result history</th>\n",
       "      <th>source</th>\n",
       "      <th>id_a</th>\n",
       "      <th>id_b</th>\n",
       "      <th>time</th>\n",
       "      <th>time to complete (ms)</th>\n",
       "      <th>time zone</th>\n",
       "      <th>user</th>\n",
       "      <th>using hybrid meshes</th>\n",
       "      <th>xa</th>\n",
       "      <th>xb</th>\n",
       "      <th>ya</th>\n",
       "      <th>yb</th>\n",
       "      <th>za</th>\n",
       "      <th>zb</th>\n",
       "    </tr>\n",
       "  </thead>\n",
       "  <tbody>\n",
       "    <tr>\n",
       "      <th>286593</th>\n",
       "      <td>neu3-develop-0.1.post1420-0_g6e6e408</td>\n",
       "      <td>method 1 (normal to acquisition axis Z)</td>\n",
       "      <td>merge</td>\n",
       "      <td>[merge]</td>\n",
       "      <td>/groups/flyem/data/hemi_brain/whole_hemi_brain...</td>\n",
       "      <td>1932777456</td>\n",
       "      <td>1933118423</td>\n",
       "      <td>2018-09-07T14:13:47</td>\n",
       "      <td>[255704]</td>\n",
       "      <td>EDT</td>\n",
       "      <td>smithk2</td>\n",
       "      <td>True</td>\n",
       "      <td>9149.0</td>\n",
       "      <td>9149.0</td>\n",
       "      <td>11506.0</td>\n",
       "      <td>11505.0</td>\n",
       "      <td>27223.0</td>\n",
       "      <td>27222.0</td>\n",
       "    </tr>\n",
       "  </tbody>\n",
       "</table>\n",
       "</div>"
      ],
      "text/plain": [
       "                               build version  \\\n",
       "286593  neu3-develop-0.1.post1420-0_g6e6e408   \n",
       "\n",
       "                        initial 3D angle method result result history  \\\n",
       "286593  method 1 (normal to acquisition axis Z)  merge        [merge]   \n",
       "\n",
       "                                                   source        id_a  \\\n",
       "286593  /groups/flyem/data/hemi_brain/whole_hemi_brain...  1932777456   \n",
       "\n",
       "              id_b                 time time to complete (ms) time zone  \\\n",
       "286593  1933118423  2018-09-07T14:13:47              [255704]       EDT   \n",
       "\n",
       "           user using hybrid meshes      xa      xb       ya       yb  \\\n",
       "286593  smithk2                True  9149.0  9149.0  11506.0  11505.0   \n",
       "\n",
       "             za       zb  \n",
       "286593  27223.0  27222.0  "
      ]
     },
     "execution_count": 63,
     "metadata": {},
     "output_type": "execute_result"
    }
   ],
   "source": [
    "previous_focused_decisions.query('id_a == 1932777456 and id_b == 1933118423')\n",
    "#previous_focused_decisions.query('body_a == 5813022932 and body_b == 1932777341')"
   ]
  },
  {
   "cell_type": "code",
   "execution_count": 62,
   "metadata": {},
   "outputs": [
    {
     "data": {
      "text/plain": [
       "200"
      ]
     },
     "execution_count": 62,
     "metadata": {},
     "output_type": "execute_result"
    }
   ],
   "source": [
    "import requests\n",
    "r = requests.get('http://emdata3:8900/api/node/9e0d/segmentation_merged/key/1932777456+1933118423')\n",
    "r.status_code"
   ]
  },
  {
   "cell_type": "markdown",
   "metadata": {},
   "source": [
    "### Decisions"
   ]
  },
  {
   "cell_type": "code",
   "execution_count": 55,
   "metadata": {},
   "outputs": [
    {
     "ename": "NameError",
     "evalue": "name 'recent_decisions' is not defined",
     "output_type": "error",
     "traceback": [
      "\u001b[0;31m---------------------------------------------------------------------------\u001b[0m",
      "\u001b[0;31mNameError\u001b[0m                                 Traceback (most recent call last)",
      "\u001b[0;32m<ipython-input-55-beabf54efdab>\u001b[0m in \u001b[0;36m<module>\u001b[0;34m()\u001b[0m\n\u001b[0;32m----> 1\u001b[0;31m recent_no_2nd_fav_decisions = recent_decisions.merge(recent_no_second_favorites[['id_a', 'id_b']],\n\u001b[0m\u001b[1;32m      2\u001b[0m                                                      how='inner', on=['id_a', 'id_b'])\n",
      "\u001b[0;31mNameError\u001b[0m: name 'recent_decisions' is not defined"
     ]
    }
   ],
   "source": [
    "recent_no_2nd_fav_decisions = recent_decisions.merge(recent_no_second_favorites[['id_a', 'id_b']],\n",
    "                                                     how='inner', on=['id_a', 'id_b'])"
   ]
  },
  {
   "cell_type": "code",
   "execution_count": null,
   "metadata": {},
   "outputs": [],
   "source": [
    "rno2f = recent_no_2nd_fav_decisions['result'].value_counts()\n",
    "(rno2f['merge'] + rno2f['mergeLater']) / rno2f.sum()"
   ]
  },
  {
   "cell_type": "code",
   "execution_count": null,
   "metadata": {},
   "outputs": [],
   "source": [
    "recent_new_subset = recent_no_2nd_fav_decisions.query('PreSyn_a < 2 or PreSyn_b < 2')"
   ]
  },
  {
   "cell_type": "code",
   "execution_count": null,
   "metadata": {},
   "outputs": [],
   "source": [
    "new_subset_counts = recent_new_subset['result'].value_counts()"
   ]
  },
  {
   "cell_type": "code",
   "execution_count": null,
   "metadata": {},
   "outputs": [],
   "source": [
    "(new_subset_counts['merge'] + new_subset_counts['mergeLater']) / new_subset_counts.sum()"
   ]
  },
  {
   "cell_type": "code",
   "execution_count": null,
   "metadata": {},
   "outputs": [],
   "source": []
  },
  {
   "cell_type": "code",
   "execution_count": null,
   "metadata": {},
   "outputs": [],
   "source": []
  },
  {
   "cell_type": "markdown",
   "metadata": {},
   "source": [
    "### Unrelated: Check tarsupervoxels status"
   ]
  },
  {
   "cell_type": "code",
   "execution_count": 14,
   "metadata": {},
   "outputs": [
    {
     "data": {
      "text/html": [
       "<div>\n",
       "<style scoped>\n",
       "    .dataframe tbody tr th:only-of-type {\n",
       "        vertical-align: middle;\n",
       "    }\n",
       "\n",
       "    .dataframe tbody tr th {\n",
       "        vertical-align: top;\n",
       "    }\n",
       "\n",
       "    .dataframe thead th {\n",
       "        text-align: right;\n",
       "    }\n",
       "</style>\n",
       "<table border=\"1\" class=\"dataframe\">\n",
       "  <thead>\n",
       "    <tr style=\"text-align: right;\">\n",
       "      <th></th>\n",
       "      <th>body</th>\n",
       "      <th>voxel_count</th>\n",
       "      <th>sv_count</th>\n",
       "      <th>PostSyn</th>\n",
       "      <th>PreSyn</th>\n",
       "    </tr>\n",
       "  </thead>\n",
       "  <tbody>\n",
       "    <tr>\n",
       "      <th>0</th>\n",
       "      <td>1497973422</td>\n",
       "      <td>12385573026</td>\n",
       "      <td>8953</td>\n",
       "      <td>8397</td>\n",
       "      <td>66</td>\n",
       "    </tr>\n",
       "    <tr>\n",
       "      <th>1</th>\n",
       "      <td>5813024096</td>\n",
       "      <td>10992947053</td>\n",
       "      <td>8172</td>\n",
       "      <td>7393</td>\n",
       "      <td>111</td>\n",
       "    </tr>\n",
       "    <tr>\n",
       "      <th>2</th>\n",
       "      <td>262840563</td>\n",
       "      <td>10492068511</td>\n",
       "      <td>6347</td>\n",
       "      <td>764</td>\n",
       "      <td>647</td>\n",
       "    </tr>\n",
       "    <tr>\n",
       "      <th>3</th>\n",
       "      <td>263199096</td>\n",
       "      <td>10129123402</td>\n",
       "      <td>2867</td>\n",
       "      <td>72</td>\n",
       "      <td>50</td>\n",
       "    </tr>\n",
       "    <tr>\n",
       "      <th>4</th>\n",
       "      <td>947573616</td>\n",
       "      <td>9261844618</td>\n",
       "      <td>7916</td>\n",
       "      <td>18638</td>\n",
       "      <td>4494</td>\n",
       "    </tr>\n",
       "  </tbody>\n",
       "</table>\n",
       "</div>"
      ],
      "text/plain": [
       "         body  voxel_count  sv_count  PostSyn  PreSyn\n",
       "0  1497973422  12385573026      8953     8397      66\n",
       "1  5813024096  10992947053      8172     7393     111\n",
       "2   262840563  10492068511      6347      764     647\n",
       "3   263199096  10129123402      2867       72      50\n",
       "4   947573616   9261844618      7916    18638    4494"
      ]
     },
     "execution_count": 14,
     "metadata": {},
     "output_type": "execute_result"
    }
   ],
   "source": [
    "master_focused_table = pd.DataFrame(np.load('focused-9e0d-2tbars-10psds-10.0Mv.npy'))\n",
    "master_focused_table.head()"
   ]
  },
  {
   "cell_type": "code",
   "execution_count": 15,
   "metadata": {},
   "outputs": [],
   "source": [
    "missing_svs = pd.read_csv('missing-focused-svs-9e0d.csv', dtype=np.uint64)"
   ]
  },
  {
   "cell_type": "code",
   "execution_count": 22,
   "metadata": {},
   "outputs": [
    {
     "name": "stderr",
     "output_type": "stream",
     "text": [
      "100%|██████████| 15/15 [00:01<00:00,  8.62it/s]\n"
     ]
    }
   ],
   "source": [
    "statuses = []\n",
    "for start in trange(0, len(missing_svs), 10_000):\n",
    "    sv_batch = missing_svs['sv'].iloc[start:start+10_000].values\n",
    "    statuses.append( fetch_exists('emdata3:8900', '9e0d', 'segmentation_sv_meshes', sv_batch) )"
   ]
  },
  {
   "cell_type": "code",
   "execution_count": 25,
   "metadata": {},
   "outputs": [],
   "source": [
    "missing_svs['exists'] = pd.concat(statuses).values"
   ]
  },
  {
   "cell_type": "code",
   "execution_count": 28,
   "metadata": {},
   "outputs": [
    {
     "data": {
      "text/plain": [
       "188"
      ]
     },
     "execution_count": 28,
     "metadata": {},
     "output_type": "execute_result"
    }
   ],
   "source": [
    "(~missing_svs['exists']).sum()"
   ]
  },
  {
   "cell_type": "code",
   "execution_count": 33,
   "metadata": {},
   "outputs": [],
   "source": [
    "pd.Series(pd.unique(missing_svs.query('not exists and size > 100')['body']), name='body')\\\n",
    "  .to_csv('straggler-bodies-9e0d.csv')"
   ]
  },
  {
   "cell_type": "code",
   "execution_count": null,
   "metadata": {},
   "outputs": [],
   "source": []
  }
 ],
 "metadata": {
  "kernelspec": {
   "display_name": "Python 3",
   "language": "python",
   "name": "python3"
  },
  "language_info": {
   "codemirror_mode": {
    "name": "ipython",
    "version": 3
   },
   "file_extension": ".py",
   "mimetype": "text/x-python",
   "name": "python",
   "nbconvert_exporter": "python",
   "pygments_lexer": "ipython3",
   "version": "3.6.3"
  }
 },
 "nbformat": 4,
 "nbformat_minor": 2
}
