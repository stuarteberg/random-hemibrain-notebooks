{
 "cells": [
  {
   "cell_type": "code",
   "execution_count": 1,
   "metadata": {},
   "outputs": [],
   "source": [
    "%load_ext autoreload\n",
    "%autoreload 2"
   ]
  },
  {
   "cell_type": "code",
   "execution_count": 87,
   "metadata": {},
   "outputs": [],
   "source": [
    "import os\n",
    "import sys\n",
    "import glob\n",
    "import logging\n",
    "\n",
    "import requests\n",
    "from tqdm import tqdm,tqdm_notebook\n",
    "\n",
    "import numpy as np\n",
    "import pandas as pd\n",
    "\n",
    "from dvidutils import LabelMapper\n",
    "from libdvid import DVIDNodeService\n",
    "\n",
    "from neuclease import configure_default_logging\n",
    "from neuclease.dvid import *\n",
    "from neuclease.util import Timer, closest_approach\n",
    "from neuclease.merge_table import normalize_recarray_inplace, generate_focused_assignment, generate_assignments\n",
    "from neuclease.focused.ingest import *\n",
    "from neuclease.focused.scores import calc_speculative_scores\n",
    "from neuclease.focused.favorites import compute_favorites, mark_favorites, extract_favorites"
   ]
  },
  {
   "cell_type": "code",
   "execution_count": 3,
   "metadata": {},
   "outputs": [
    {
     "name": "stdout",
     "output_type": "stream",
     "text": [
      "This notebook:\n",
      "http://lsf-rtm/cacti/plugins/grid/grid_bjobs.php?action=viewjob&tab=hostgraph&clusterid=1&indexid=0&jobid=45356134&submit_time=1535045542\n",
      "Cluster:\n",
      "http://lsf-rtm/cacti/plugins/grid/grid_bjobs.php?action=viewjob&tab=hostgraph&clusterid=1&indexid=0&jobid=45363882&submit_time=1535058895\n"
     ]
    }
   ],
   "source": [
    "from DVIDSparkServices.spark_launch_scripts.janelia_lsf.lsf_utils import get_hostgraph_url\n",
    "print(\"This notebook:\")\n",
    "print(get_hostgraph_url(os.environ[\"LSB_JOBID\"]))\n",
    "print(\"Cluster:\")\n",
    "print(get_hostgraph_url(os.environ[\"MASTER_BJOB_ID\"]))"
   ]
  },
  {
   "cell_type": "code",
   "execution_count": 4,
   "metadata": {},
   "outputs": [],
   "source": [
    "root_logger = logging.getLogger()\n",
    "root_logger.handlers = []\n",
    "configure_default_logging()"
   ]
  },
  {
   "cell_type": "code",
   "execution_count": 5,
   "metadata": {},
   "outputs": [
    {
     "data": {
      "text/plain": [
       "'/nrs/flyem/bergs/complete-ffn-agglo'"
      ]
     },
     "execution_count": 5,
     "metadata": {},
     "output_type": "execute_result"
    }
   ],
   "source": [
    "pwd"
   ]
  },
  {
   "cell_type": "code",
   "execution_count": 6,
   "metadata": {},
   "outputs": [
    {
     "data": {
      "text/html": [
       "\n",
       "        <div>\n",
       "            <p><b>SparkContext</b></p>\n",
       "\n",
       "            <p><a href=\"http://h10u32:4040\">Spark UI</a></p>\n",
       "\n",
       "            <dl>\n",
       "              <dt>Version</dt>\n",
       "                <dd><code>v2.2.0</code></dd>\n",
       "              <dt>Master</dt>\n",
       "                <dd><code>spark://h05u31:7077</code></dd>\n",
       "              <dt>AppName</dt>\n",
       "                <dd><code>PySparkShell</code></dd>\n",
       "            </dl>\n",
       "        </div>\n",
       "        "
      ],
      "text/plain": [
       "<SparkContext master=spark://h05u31:7077 appName=PySparkShell>"
      ]
     },
     "execution_count": 6,
     "metadata": {},
     "output_type": "execute_result"
    }
   ],
   "source": [
    "sc"
   ]
  },
  {
   "cell_type": "markdown",
   "metadata": {},
   "source": [
    "### UUIDS"
   ]
  },
  {
   "cell_type": "code",
   "execution_count": 7,
   "metadata": {},
   "outputs": [],
   "source": [
    "# The starting agglo\n",
    "initial_agglo_node = ('emdata3:8900', 'ac901')\n",
    "\n",
    "# # The uuid used when loading the neo4j instance (for 'important bodies')\n",
    "# neo4j_reference = DvidInstanceInfo('emdata3:8900', '52f9', 'segmentation')\n",
    "\n",
    "# # The last supervoxel splits: One past the neo4j node\n",
    "# analysis_node = DvidInstanceInfo('emdata3:8900', '662e', 'segmentation')\n",
    "\n",
    "# Current master\n",
    "master_node = ('emdata3:8900', '7254')"
   ]
  },
  {
   "cell_type": "markdown",
   "metadata": {},
   "source": [
    "### Master mapping"
   ]
  },
  {
   "cell_type": "code",
   "execution_count": 8,
   "metadata": {},
   "outputs": [
    {
     "name": "stdout",
     "output_type": "stream",
     "text": [
      "INFO [2018-08-23 17:16:15,604] Reading kafka messages from kafka.int.janelia.org:9092 for emdata3:8900 / 7254 / segmentation\n",
      "INFO [2018-08-23 17:16:29,833] Reading 518722 kafka messages took 14.22805666923523 seconds\n",
      "INFO [2018-08-23 17:16:35,744] Fetching http://emdata3:8900/api/node/7254/segmentation/mappings...\n",
      "INFO [2018-08-23 17:17:11,935] Fetching http://emdata3:8900/api/node/7254/segmentation/mappings took 0:00:36.189828\n",
      "INFO [2018-08-23 17:17:11,936] Parsing mapping...\n",
      "INFO [2018-08-23 17:17:20,246] Parsing mapping took 0:00:08.309619\n",
      "INFO [2018-08-23 17:17:20,251] Constructing missing identity-mappings...\n",
      "INFO [2018-08-23 17:17:43,633] Constructing missing identity-mappings took 0:00:23.381171\n"
     ]
    }
   ],
   "source": [
    "master_mapping = fetch_complete_mappings(*master_node, 'segmentation')"
   ]
  },
  {
   "cell_type": "markdown",
   "metadata": {},
   "source": [
    "### Previous decisions"
   ]
  },
  {
   "cell_type": "code",
   "execution_count": 13,
   "metadata": {},
   "outputs": [
    {
     "name": "stdout",
     "output_type": "stream",
     "text": [
      "Loaded 405243 previous decisions\n"
     ]
    }
   ],
   "source": [
    "LOAD_PREVIOUS_FROM_CSV = True\n",
    "_path = f'focused-decisions-{master_node[1]}-2018-08-23.csv'\n",
    "\n",
    "if LOAD_PREVIOUS_FROM_CSV:\n",
    "    df = pd.read_csv(_path)\n",
    "    df.fillna(0.0, inplace=True)\n",
    "    df['sv_a'] = df['sv_a'].astype(np.uint64)\n",
    "    df['sv_b'] = df['sv_b'].astype(np.uint64)\n",
    "    df['body_a'] = df['body_a'].astype(np.uint64)\n",
    "    df['body_b'] = df['body_b'].astype(np.uint64)\n",
    "    previous_focused_decisions = df\n",
    "else:\n",
    "    previous_focused_decisions = fetch_focused_decisions(*master_node, 'segmentation_merged',\n",
    "                                                         normalize_pairs='sv', show_progress=True)\n",
    "\n",
    "previous_focused_decisions.to_csv(_path, index=False, header=True)\n",
    "previous_focused_decisions.rename(inplace=True, columns={'sv_a': 'id_a', 'sv_b': 'id_b'})\n",
    "print(f\"Loaded {len(previous_focused_decisions)} previous decisions\")"
   ]
  },
  {
   "cell_type": "markdown",
   "metadata": {},
   "source": [
    "### Important bodies"
   ]
  },
  {
   "cell_type": "code",
   "execution_count": 14,
   "metadata": {},
   "outputs": [
    {
     "name": "stdout",
     "output_type": "stream",
     "text": [
      "Working with 589591 focused bodies\n"
     ]
    }
   ],
   "source": [
    "focused_bodies_path = 'focused-bodies-table-7254.csv'\n",
    "focused_bodies_table = pd.read_csv(focused_bodies_path, dtype={'body': np.uint64})\n",
    "focused_bodies_table.set_index('body', inplace=True)\n",
    "important_bodies = set(focused_bodies_table.index)\n",
    "print(f\"Working with {len(important_bodies)} focused bodies\")"
   ]
  },
  {
   "cell_type": "markdown",
   "metadata": {},
   "source": [
    "### Load/filter/score 2-hop tables\n",
    "\n",
    "- load pre-updated tables (coords already fixed, supervoxels updated)\n",
    "- normalize (`a<b`)\n",
    "- filter\n",
    "   - important TWO-HOP\n",
    "   - non-merged\n",
    "   - not yet reviewed\n",
    "     - Note: this will toss out previously reviewed 'favorite' edges, meaning the next 'favorite' we pick below will be e.g. 2nd-favorite (if it survives the threshold).  Is that what we want?\n",
    "- append scores"
   ]
  },
  {
   "cell_type": "code",
   "execution_count": 19,
   "metadata": {},
   "outputs": [],
   "source": [
    "os.makedirs(f'twohop-tables-{master_node[1]}/32nm', exist_ok=True)\n",
    "os.makedirs(f'twohop-tables-{master_node[1]}/16nm', exist_ok=True)\n",
    "os.makedirs(f'twohop-tables-{master_node[1]}/8nm', exist_ok=True)\n",
    "\n",
    "previous_sv_values = previous_focused_decisions[['id_a', 'id_b']].values\n",
    "\n",
    "driver_cwd = os.getcwd()\n",
    "\n",
    "def apply_mapping_and_filter_to_partition(paths):\n",
    "    print(\"init mapping...\")\n",
    "    # Must create mapper here since it cannot be pickled.\n",
    "    mapper = LabelMapper(master_mapping.index.values, master_mapping.values)\n",
    "\n",
    "    # Compute once\n",
    "    print(\"init sv pairs...\")\n",
    "    previous_sv_pairs = set(map(tuple, previous_sv_values))\n",
    "\n",
    "    def apply_mapping_and_filter(npy_path):\n",
    "        \"\"\"\n",
    "        Load the table from the given npy file,\n",
    "        apply the body mapping, and remove rows with matching bodies.\n",
    "        Also remove rows that correspond to decisions that have already been made.\n",
    "        \n",
    "        The resulting filtered table is stored in 'twohop-tables-*/*nm/'\n",
    "        \"\"\"\n",
    "        print(\"loading table...\")\n",
    "        table = np.load(npy_path)\n",
    "        df = pd.DataFrame(table)\n",
    "\n",
    "        print(\"mapping bodies...\")\n",
    "        # A bug above caused the type to be int64. Fix that now.\n",
    "        df['id_a'] = df['id_a'].astype(np.uint64, copy=False)\n",
    "        df['id_b'] = df['id_b'].astype(np.uint64, copy=False)\n",
    "        \n",
    "        df['body_a'] = mapper.apply(df['id_a'].values, allow_unmapped=True)\n",
    "        df['body_b'] = mapper.apply(df['id_b'].values, allow_unmapped=True)\n",
    "\n",
    "        important_bodies # Referenced to ensure capture in this closure\n",
    "\n",
    "        print(\"filtering...\")\n",
    "        # Drop internal edges,\n",
    "        # Filter for important bodies (on at least one end -- capture 1-hop and 2-hop)\n",
    "        q = '(body_a != body_b) and ((body_a in @important_bodies) or (body_b in @important_bodies))'\n",
    "        df.query(q, inplace=True)\n",
    "\n",
    "        print(\"normalizing...\")\n",
    "        table = df.to_records(index=False)\n",
    "        normalize_recarray_inplace(table, 'id_a', 'id_b',\n",
    "                                  ['id_a', 'body_a', 'xa', 'ya', 'za', 'caa', 'cba', 'da'],\n",
    "                                  ['id_b', 'body_b', 'xb', 'yb', 'zb', 'cbb', 'cab', 'db'])\n",
    "        df = pd.DataFrame(table)\n",
    "        \n",
    "        # Drop edges that have already been considered.\n",
    "        print(\"dropping previous decisions...\")\n",
    "        sv_pairs = list(map(tuple, df[['id_a', 'id_b']].values))\n",
    "        df['sv_pair'] = sv_pairs\n",
    "        df = df[~(df['sv_pair'].isin(previous_sv_pairs))]\n",
    "        del df['sv_pair']\n",
    "        \n",
    "        print(\"scores...\")\n",
    "        df['score'] = calc_speculative_scores(df[['caa', 'cab', 'cba', 'cbb']].to_records(index=False))\n",
    "        \n",
    "        print(\"writing...\")\n",
    "        res = df['resolution'].iloc[0]\n",
    "        fname = os.path.split(npy_path)[-1]\n",
    "        output_path = f'{driver_cwd}/twohop-tables-{master_node[1]}/{res}nm/{fname}'\n",
    "        np.save(output_path, df.to_records(index=False))\n",
    "\n",
    "        return len(df)\n",
    "    \n",
    "    return list(map(apply_mapping_and_filter, paths))"
   ]
  },
  {
   "cell_type": "code",
   "execution_count": 60,
   "metadata": {
    "scrolled": false
   },
   "outputs": [],
   "source": [
    "# Test one first\n",
    "#%time apply_mapping_and_filter_to_partition(['updated-tables/32nm/data-00000-of-00100.npy'])"
   ]
  },
  {
   "cell_type": "code",
   "execution_count": 20,
   "metadata": {},
   "outputs": [
    {
     "name": "stdout",
     "output_type": "stream",
     "text": [
      "INFO [2018-08-23 17:32:09,033] Processing 32nm......\n",
      "INFO [2018-08-23 17:33:27,120] Processing 32nm... took 0:01:18.085101\n",
      "INFO [2018-08-23 17:33:27,122] Processing 16nm......\n",
      "INFO [2018-08-23 17:35:13,886] Processing 16nm... took 0:01:46.763498\n",
      "INFO [2018-08-23 17:35:13,889] Processing 8nm......\n",
      "INFO [2018-08-23 17:37:19,104] Processing 8nm... took 0:02:05.215029\n",
      "DONE. Total filtered edges: 906662181\n"
     ]
    }
   ],
   "source": [
    "filtered_totals = {}\n",
    "\n",
    "for res in [32, 16, 8]:\n",
    "    with Timer(f\"Processing {res}nm...\"):\n",
    "        paths = map(os.path.abspath, glob.glob(f'updated-tables/{res}nm/data-*.npy'))\n",
    "        filtered_totals[res] = sc.parallelize(paths).mapPartitions(apply_mapping_and_filter_to_partition).sum()\n",
    "    \n",
    "print(f\"DONE. Total filtered edges: {sum(filtered_totals.values())}\")"
   ]
  },
  {
   "cell_type": "code",
   "execution_count": 37,
   "metadata": {},
   "outputs": [
    {
     "data": {
      "text/plain": [
       "<matplotlib.axes._subplots.AxesSubplot at 0x2b6d2801b240>"
      ]
     },
     "execution_count": 37,
     "metadata": {},
     "output_type": "execute_result"
    },
    {
     "data": {
      "image/png": "[encoded data removed]",
      "text/plain": [
       "<Figure size 432x288 with 1 Axes>"
      ]
     },
     "metadata": {},
     "output_type": "display_data"
    }
   ],
   "source": [
    "pd.Series(filtered_totals).plot(kind='pie')"
   ]
  },
  {
   "cell_type": "markdown",
   "metadata": {},
   "source": [
    "### Select 1-hop edges"
   ]
  },
  {
   "cell_type": "code",
   "execution_count": 67,
   "metadata": {},
   "outputs": [
    {
     "name": "stdout",
     "output_type": "stream",
     "text": [
      "Selected 234106600 one-hop edges\n"
     ]
    }
   ],
   "source": [
    "os.makedirs(f'onehop-tables-{master_node[1]}/32nm', exist_ok=True)\n",
    "os.makedirs(f'onehop-tables-{master_node[1]}/16nm', exist_ok=True)\n",
    "os.makedirs(f'onehop-tables-{master_node[1]}/8nm', exist_ok=True)\n",
    "\n",
    "driver_cwd = os.getcwd()\n",
    "\n",
    "def select_and_write_onehop(twohop_path):\n",
    "    important_bodies # ref for pickle\n",
    "\n",
    "    print(\"reading...\")\n",
    "    df = pd.DataFrame(np.load(twohop_path))\n",
    "    res = df['resolution'].iloc[0]\n",
    "    \n",
    "    print(\"filtering...\")\n",
    "    q = 'body_a in @important_bodies and body_b in @important_bodies'\n",
    "    df.query(q, inplace=True)\n",
    "    \n",
    "    print(\"writing...\")\n",
    "    fname = os.path.split(twohop_path)[-1]\n",
    "    output_path = f'{driver_cwd}/onehop-tables-{master_node[1]}/{res}nm/{fname}'\n",
    "    np.save(output_path, df.to_records(index=False))\n",
    "    return len(df)\n",
    "    \n",
    "all_twohop_chunk_paths = map(os.path.abspath, glob.glob('twohop-tables-7254/*nm/*.npy'))\n",
    "total_onehop_edges = sc.parallelize(all_twohop_chunk_paths).map(select_and_write_onehop).sum()\n",
    "print(f\"Selected {total_onehop_edges} one-hop edges\")"
   ]
  },
  {
   "cell_type": "markdown",
   "metadata": {},
   "source": [
    "### Load into combined table"
   ]
  },
  {
   "cell_type": "code",
   "execution_count": 68,
   "metadata": {},
   "outputs": [
    {
     "data": {
      "application/vnd.jupyter.widget-view+json": {
       "model_id": "f81286f2359a4d9a8db7870145eb03e8",
       "version_major": 2,
       "version_minor": 0
      },
      "text/html": [
       "<p>Failed to display Jupyter Widget of type <code>HBox</code>.</p>\n",
       "<p>\n",
       "  If you're reading this message in the Jupyter Notebook or JupyterLab Notebook, it may mean\n",
       "  that the widgets JavaScript is still loading. If this message persists, it\n",
       "  likely means that the widgets JavaScript library is either not installed or\n",
       "  not enabled. See the <a href=\"https://ipywidgets.readthedocs.io/en/stable/user_install.html\">Jupyter\n",
       "  Widgets Documentation</a> for setup instructions.\n",
       "</p>\n",
       "<p>\n",
       "  If you're reading this message in another frontend (for example, a static\n",
       "  rendering on GitHub or <a href=\"https://nbviewer.jupyter.org/\">NBViewer</a>),\n",
       "  it may mean that your frontend doesn't currently support widgets.\n",
       "</p>\n"
      ],
      "text/plain": [
       "HBox(children=(IntProgress(value=0, max=300), HTML(value='')))"
      ]
     },
     "metadata": {},
     "output_type": "display_data"
    },
    {
     "name": "stdout",
     "output_type": "stream",
     "text": [
      "\n",
      "Combined table is 20.8 GB\n"
     ]
    }
   ],
   "source": [
    "all_onehop_chunk_paths = glob.glob('onehop-tables-7254/*nm/*.npy')\n",
    "all_onehop_chunks = list(map(np.load, tqdm_notebook(all_onehop_chunk_paths)))\n",
    "combined_onehop_table = np.concatenate(all_onehop_chunks)\n",
    "del all_onehop_chunks\n",
    "print(f\"Combined table is {combined_onehop_table.nbytes / 1e9:.1f} GB\")"
   ]
  },
  {
   "cell_type": "code",
   "execution_count": 69,
   "metadata": {},
   "outputs": [
    {
     "name": "stdout",
     "output_type": "stream",
     "text": [
      "CPU times: user 55.7 s, sys: 16.9 s, total: 1min 12s\n",
      "Wall time: 53.5 s\n"
     ]
    }
   ],
   "source": [
    "%time combined_onehop_df = pd.DataFrame(combined_onehop_table)"
   ]
  },
  {
   "cell_type": "code",
   "execution_count": 70,
   "metadata": {},
   "outputs": [
    {
     "data": {
      "text/html": [
       "<div>\n",
       "<style scoped>\n",
       "    .dataframe tbody tr th:only-of-type {\n",
       "        vertical-align: middle;\n",
       "    }\n",
       "\n",
       "    .dataframe tbody tr th {\n",
       "        vertical-align: top;\n",
       "    }\n",
       "\n",
       "    .dataframe thead th {\n",
       "        text-align: right;\n",
       "    }\n",
       "</style>\n",
       "<table border=\"1\" class=\"dataframe\">\n",
       "  <thead>\n",
       "    <tr style=\"text-align: right;\">\n",
       "      <th></th>\n",
       "      <th>id_a</th>\n",
       "      <th>id_b</th>\n",
       "      <th>xa</th>\n",
       "      <th>ya</th>\n",
       "      <th>za</th>\n",
       "      <th>xb</th>\n",
       "      <th>yb</th>\n",
       "      <th>zb</th>\n",
       "      <th>caa</th>\n",
       "      <th>cab</th>\n",
       "      <th>cba</th>\n",
       "      <th>cbb</th>\n",
       "      <th>iou</th>\n",
       "      <th>da</th>\n",
       "      <th>db</th>\n",
       "      <th>resolution</th>\n",
       "      <th>body_a</th>\n",
       "      <th>body_b</th>\n",
       "      <th>score</th>\n",
       "    </tr>\n",
       "  </thead>\n",
       "  <tbody>\n",
       "    <tr>\n",
       "      <th>0</th>\n",
       "      <td>1012359606</td>\n",
       "      <td>1135833306</td>\n",
       "      <td>16448</td>\n",
       "      <td>23743</td>\n",
       "      <td>15961</td>\n",
       "      <td>16401</td>\n",
       "      <td>23783</td>\n",
       "      <td>15924</td>\n",
       "      <td>0.982629</td>\n",
       "      <td>0.000000</td>\n",
       "      <td>0.001461</td>\n",
       "      <td>0.992530</td>\n",
       "      <td>0.000019</td>\n",
       "      <td>0.002408</td>\n",
       "      <td>0.000507</td>\n",
       "      <td>8</td>\n",
       "      <td>5813039957</td>\n",
       "      <td>1135828787</td>\n",
       "      <td>0.001461</td>\n",
       "    </tr>\n",
       "    <tr>\n",
       "      <th>1</th>\n",
       "      <td>1016749434</td>\n",
       "      <td>1016753364</td>\n",
       "      <td>10412</td>\n",
       "      <td>30574</td>\n",
       "      <td>14398</td>\n",
       "      <td>10406</td>\n",
       "      <td>30626</td>\n",
       "      <td>14399</td>\n",
       "      <td>0.986544</td>\n",
       "      <td>0.000000</td>\n",
       "      <td>0.000000</td>\n",
       "      <td>0.947968</td>\n",
       "      <td>0.000000</td>\n",
       "      <td>0.001237</td>\n",
       "      <td>0.002138</td>\n",
       "      <td>8</td>\n",
       "      <td>1016749259</td>\n",
       "      <td>1016758041</td>\n",
       "      <td>0.000000</td>\n",
       "    </tr>\n",
       "    <tr>\n",
       "      <th>2</th>\n",
       "      <td>1049662264</td>\n",
       "      <td>1049662419</td>\n",
       "      <td>27573</td>\n",
       "      <td>32595</td>\n",
       "      <td>14852</td>\n",
       "      <td>27513</td>\n",
       "      <td>32615</td>\n",
       "      <td>14878</td>\n",
       "      <td>0.991906</td>\n",
       "      <td>0.002317</td>\n",
       "      <td>0.000069</td>\n",
       "      <td>0.918828</td>\n",
       "      <td>0.000000</td>\n",
       "      <td>0.002363</td>\n",
       "      <td>0.003926</td>\n",
       "      <td>8</td>\n",
       "      <td>613175370</td>\n",
       "      <td>5813049530</td>\n",
       "      <td>0.002317</td>\n",
       "    </tr>\n",
       "    <tr>\n",
       "      <th>3</th>\n",
       "      <td>1075054375</td>\n",
       "      <td>1167852620</td>\n",
       "      <td>12425</td>\n",
       "      <td>24956</td>\n",
       "      <td>16373</td>\n",
       "      <td>12436</td>\n",
       "      <td>24992</td>\n",
       "      <td>16339</td>\n",
       "      <td>0.777855</td>\n",
       "      <td>0.000000</td>\n",
       "      <td>0.000000</td>\n",
       "      <td>0.970840</td>\n",
       "      <td>0.000000</td>\n",
       "      <td>0.009229</td>\n",
       "      <td>0.000394</td>\n",
       "      <td>8</td>\n",
       "      <td>890191637</td>\n",
       "      <td>823058891</td>\n",
       "      <td>0.000000</td>\n",
       "    </tr>\n",
       "    <tr>\n",
       "      <th>4</th>\n",
       "      <td>1097365311</td>\n",
       "      <td>1097706148</td>\n",
       "      <td>23432</td>\n",
       "      <td>14451</td>\n",
       "      <td>15693</td>\n",
       "      <td>23444</td>\n",
       "      <td>14463</td>\n",
       "      <td>15684</td>\n",
       "      <td>0.994048</td>\n",
       "      <td>0.000359</td>\n",
       "      <td>0.000000</td>\n",
       "      <td>0.905296</td>\n",
       "      <td>0.000000</td>\n",
       "      <td>0.000107</td>\n",
       "      <td>0.000662</td>\n",
       "      <td>8</td>\n",
       "      <td>5813040784</td>\n",
       "      <td>973566036</td>\n",
       "      <td>0.000359</td>\n",
       "    </tr>\n",
       "  </tbody>\n",
       "</table>\n",
       "</div>"
      ],
      "text/plain": [
       "         id_a        id_b     xa     ya     za     xb     yb     zb       caa  \\\n",
       "0  1012359606  1135833306  16448  23743  15961  16401  23783  15924  0.982629   \n",
       "1  1016749434  1016753364  10412  30574  14398  10406  30626  14399  0.986544   \n",
       "2  1049662264  1049662419  27573  32595  14852  27513  32615  14878  0.991906   \n",
       "3  1075054375  1167852620  12425  24956  16373  12436  24992  16339  0.777855   \n",
       "4  1097365311  1097706148  23432  14451  15693  23444  14463  15684  0.994048   \n",
       "\n",
       "        cab       cba       cbb       iou        da        db  resolution  \\\n",
       "0  0.000000  0.001461  0.992530  0.000019  0.002408  0.000507           8   \n",
       "1  0.000000  0.000000  0.947968  0.000000  0.001237  0.002138           8   \n",
       "2  0.002317  0.000069  0.918828  0.000000  0.002363  0.003926           8   \n",
       "3  0.000000  0.000000  0.970840  0.000000  0.009229  0.000394           8   \n",
       "4  0.000359  0.000000  0.905296  0.000000  0.000107  0.000662           8   \n",
       "\n",
       "       body_a      body_b     score  \n",
       "0  5813039957  1135828787  0.001461  \n",
       "1  1016749259  1016758041  0.000000  \n",
       "2   613175370  5813049530  0.002317  \n",
       "3   890191637   823058891  0.000000  \n",
       "4  5813040784   973566036  0.000359  "
      ]
     },
     "execution_count": 70,
     "metadata": {},
     "output_type": "execute_result"
    }
   ],
   "source": [
    "combined_onehop_df.head()"
   ]
  },
  {
   "cell_type": "code",
   "execution_count": 71,
   "metadata": {},
   "outputs": [
    {
     "name": "stdout",
     "output_type": "stream",
     "text": [
      "CPU times: user 25.2 s, sys: 17.1 s, total: 42.3 s\n",
      "Wall time: 5.11 s\n"
     ]
    }
   ],
   "source": [
    "### Discard unneeded columns\n",
    "%time combined_onehop_df = combined_onehop_df[['id_a', 'id_b', 'body_a', 'body_b', 'score', 'xa', 'ya', 'za', 'xb', 'yb', 'zb']].copy()"
   ]
  },
  {
   "cell_type": "code",
   "execution_count": 75,
   "metadata": {},
   "outputs": [
    {
     "data": {
      "text/plain": [
       "14.046396079999999"
      ]
     },
     "execution_count": 75,
     "metadata": {},
     "output_type": "execute_result"
    }
   ],
   "source": [
    "combined_onehop_df.memory_usage().sum() / 1e9"
   ]
  },
  {
   "cell_type": "markdown",
   "metadata": {},
   "source": [
    "### Pre-threshold by score"
   ]
  },
  {
   "cell_type": "code",
   "execution_count": 81,
   "metadata": {},
   "outputs": [
    {
     "name": "stdout",
     "output_type": "stream",
     "text": [
      "Thresholded table has 2.1M rows (0.1 GB)\n"
     ]
    },
    {
     "data": {
      "text/plain": [
       "<matplotlib.axes._subplots.AxesSubplot at 0x2b6d2812bf28>"
      ]
     },
     "execution_count": 81,
     "metadata": {},
     "output_type": "execute_result"
    },
    {
     "data": {
      "image/png": "[encoded data removed]",
      "text/plain": [
       "<Figure size 432x288 with 1 Axes>"
      ]
     },
     "metadata": {},
     "output_type": "display_data"
    }
   ],
   "source": [
    "thresholded_df = combined_onehop_df[combined_onehop_df['score'] >= 0.1].copy()\n",
    "\n",
    "_rows = len(thresholded_df)\n",
    "_nbytes = thresholded_table.memory_usage().sum()\n",
    "print(f\"Thresholded table has {_rows/1e6:.1f}M rows ({_nbytes/1e9:.1f} GB)\")\n",
    "\n",
    "# Michal's scores use \"higher is better\",\n",
    "# but compute_favorites() assumes \"lower is better\"\n",
    "thresholded_df['score'] *= -1\n",
    "thresholded_df['score'].hist()"
   ]
  },
  {
   "cell_type": "markdown",
   "metadata": {},
   "source": [
    "### Choose favorites"
   ]
  },
  {
   "cell_type": "code",
   "execution_count": 82,
   "metadata": {},
   "outputs": [
    {
     "name": "stdout",
     "output_type": "stream",
     "text": [
      "Found 317314 favorites\n",
      "CPU times: user 1min 24s, sys: 8.4 s, total: 1min 32s\n",
      "Wall time: 1min 9s\n"
     ]
    }
   ],
   "source": [
    "%%time\n",
    "body_favorites = compute_favorites(thresholded_df)\n",
    "print(f\"Found {len(body_favorites)} favorites\")"
   ]
  },
  {
   "cell_type": "code",
   "execution_count": 83,
   "metadata": {},
   "outputs": [
    {
     "name": "stdout",
     "output_type": "stream",
     "text": [
      "CPU times: user 8.06 s, sys: 2.42 s, total: 10.5 s\n",
      "Wall time: 812 ms\n"
     ]
    }
   ],
   "source": [
    "%%time\n",
    "favorite_flags_df = mark_favorites(thresholded_df, body_favorites)\n",
    "favorite_onehop_df = extract_favorites(thresholded_df, favorite_flags_df, only_mutual=False)"
   ]
  },
  {
   "cell_type": "code",
   "execution_count": 85,
   "metadata": {},
   "outputs": [],
   "source": [
    "favorite_onehop_df = favorite_onehop_df[['id_a','id_b','body_a','body_b','xa','ya','za','xb','yb','zb','score']]\n",
    "favorite_onehop_df.to_csv('remaining-onehop-assignments-7254-20180823.csv', index=False)"
   ]
  },
  {
   "cell_type": "code",
   "execution_count": 94,
   "metadata": {},
   "outputs": [
    {
     "data": {
      "text/plain": [
       "(264610, 11)"
      ]
     },
     "execution_count": 94,
     "metadata": {},
     "output_type": "execute_result"
    }
   ],
   "source": [
    "favorite_onehop_df.shape"
   ]
  },
  {
   "cell_type": "markdown",
   "metadata": {},
   "source": [
    "### Generate assignments"
   ]
  },
  {
   "cell_type": "code",
   "execution_count": 90,
   "metadata": {},
   "outputs": [
    {
     "name": "stderr",
     "output_type": "stream",
     "text": [
      "100%|██████████| 26/26 [00:08<00:00,  3.02it/s]\n"
     ]
    }
   ],
   "source": [
    "generate_assignments(favorite_onehop_df, 10_000, 'remaining-onehop-assignments-7254-20180823')"
   ]
  },
  {
   "cell_type": "code",
   "execution_count": 92,
   "metadata": {},
   "outputs": [],
   "source": [
    "# sample assignment\n",
    "np.random.seed(0)\n",
    "_choices = np.random.choice(favorite_onehop_df.index, size=(100,), replace=False)\n",
    "_ = generate_focused_assignment(favorite_onehop_df.loc[_choices],\n",
    "                                'remaining-onehop-assignments-7254-20180823-SAMPLE-ASSIGNMENT.json')"
   ]
  },
  {
   "cell_type": "code",
   "execution_count": null,
   "metadata": {},
   "outputs": [],
   "source": []
  }
 ],
 "metadata": {
  "kernelspec": {
   "display_name": "Python 3",
   "language": "python",
   "name": "python3"
  },
  "language_info": {
   "codemirror_mode": {
    "name": "ipython",
    "version": 3
   },
   "file_extension": ".py",
   "mimetype": "text/x-python",
   "name": "python",
   "nbconvert_exporter": "python",
   "pygments_lexer": "ipython3",
   "version": "3.6.3"
  }
 },
 "nbformat": 4,
 "nbformat_minor": 2
}
