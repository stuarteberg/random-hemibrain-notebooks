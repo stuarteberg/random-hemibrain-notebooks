{
 "cells": [
  {
   "cell_type": "code",
   "execution_count": 1,
   "metadata": {},
   "outputs": [],
   "source": [
    "%load_ext autoreload\n",
    "%autoreload 2"
   ]
  },
  {
   "cell_type": "code",
   "execution_count": 2,
   "metadata": {},
   "outputs": [],
   "source": [
    "import os\n",
    "import sys\n",
    "import glob\n",
    "import logging\n",
    "\n",
    "import requests\n",
    "from tqdm import tqdm,tqdm_notebook\n",
    "\n",
    "import numpy as np\n",
    "import pandas as pd\n",
    "\n",
    "from dvidutils import LabelMapper\n",
    "from libdvid import DVIDNodeService\n",
    "\n",
    "from neuclease import configure_default_logging\n",
    "from neuclease.dvid import *\n",
    "from neuclease.dvid.keyvalue import fetch_keyvalues\n",
    "from neuclease.util import Timer, closest_approach\n",
    "from neuclease.merge_table import normalize_recarray_inplace, generate_focused_assignment, generate_assignments\n",
    "from neuclease.focused.ingest import *\n",
    "from neuclease.focused.ingest import fetch_focused_decisions\n",
    "from neuclease.focused.scores import calc_speculative_scores\n",
    "from neuclease.focused.favorites import compute_favorites, mark_favorites, extract_favorites"
   ]
  },
  {
   "cell_type": "code",
   "execution_count": 3,
   "metadata": {},
   "outputs": [],
   "source": [
    "# import imp\n",
    "# import neuclease.dvid.keyvalue\n",
    "# imp.reload(neuclease.dvid.keyvalue)\n",
    "# from neuclease.dvid.keyvalue import fetch_keyvalues"
   ]
  },
  {
   "cell_type": "code",
   "execution_count": 4,
   "metadata": {},
   "outputs": [
    {
     "name": "stdout",
     "output_type": "stream",
     "text": [
      "This notebook:\n",
      "http://lsf-rtm/cacti/plugins/grid/grid_bjobs.php?action=viewjob&tab=hostgraph&clusterid=1&indexid=0&jobid=46353180&submit_time=1536162010\n"
     ]
    }
   ],
   "source": [
    "from DVIDSparkServices.spark_launch_scripts.janelia_lsf.lsf_utils import get_hostgraph_url\n",
    "print(\"This notebook:\")\n",
    "print(get_hostgraph_url(os.environ[\"LSB_JOBID\"]))\n",
    "#print(\"Cluster:\")\n",
    "#print(get_hostgraph_url(os.environ[\"MASTER_BJOB_ID\"]))"
   ]
  },
  {
   "cell_type": "code",
   "execution_count": 5,
   "metadata": {},
   "outputs": [],
   "source": [
    "root_logger = logging.getLogger()\n",
    "root_logger.handlers = []\n",
    "configure_default_logging()"
   ]
  },
  {
   "cell_type": "code",
   "execution_count": 6,
   "metadata": {},
   "outputs": [
    {
     "data": {
      "text/plain": [
       "'/nrs/flyem/bergs/complete-ffn-agglo'"
      ]
     },
     "execution_count": 6,
     "metadata": {},
     "output_type": "execute_result"
    }
   ],
   "source": [
    "pwd"
   ]
  },
  {
   "cell_type": "code",
   "execution_count": 7,
   "metadata": {},
   "outputs": [
    {
     "data": {
      "text/plain": [
       "''"
      ]
     },
     "execution_count": 7,
     "metadata": {},
     "output_type": "execute_result"
    }
   ],
   "source": [
    "sc"
   ]
  },
  {
   "cell_type": "markdown",
   "metadata": {},
   "source": [
    "### UUIDS"
   ]
  },
  {
   "cell_type": "code",
   "execution_count": 8,
   "metadata": {},
   "outputs": [],
   "source": [
    "# The starting agglo\n",
    "initial_agglo_node = ('emdata3:8900', 'ac901')\n",
    "\n",
    "# # The uuid used when loading the neo4j instance (for 'important bodies')\n",
    "# neo4j_reference = DvidInstanceInfo('emdata3:8900', '52f9', 'segmentation')\n",
    "\n",
    "# # The last supervoxel splits: One past the neo4j node\n",
    "analysis_node = DvidInstanceInfo('emdata3:8900', '662e', 'segmentation')\n",
    "\n",
    "# Current master\n",
    "master_node = ('emdata3:8900', '7254')"
   ]
  },
  {
   "cell_type": "markdown",
   "metadata": {},
   "source": [
    "### Analysis mapping"
   ]
  },
  {
   "cell_type": "code",
   "execution_count": 17,
   "metadata": {},
   "outputs": [
    {
     "name": "stdout",
     "output_type": "stream",
     "text": [
      "INFO [2018-09-05 11:45:24,831] Fetching http://emdata3:8900/api/node/662e/segmentation/mappings...\n",
      "INFO [2018-09-05 11:46:01,970] Fetching http://emdata3:8900/api/node/662e/segmentation/mappings took 0:00:37.136331\n",
      "INFO [2018-09-05 11:46:01,972] Parsing mapping...\n",
      "INFO [2018-09-05 11:46:10,170] Parsing mapping took 0:00:08.195509\n"
     ]
    }
   ],
   "source": [
    "#analysis_mapping = fetch_complete_mappings(*analysis_node, 'segmentation')\n",
    "analysis_mapping = fetch_mappings(*analysis_node, 'segmentation')"
   ]
  },
  {
   "cell_type": "code",
   "execution_count": 18,
   "metadata": {},
   "outputs": [
    {
     "ename": "AttributeError",
     "evalue": "'numpy.ndarray' object has no attribute 'index'",
     "output_type": "error",
     "traceback": [
      "\u001b[0;31m---------------------------------------------------------------------------\u001b[0m",
      "\u001b[0;31mAttributeError\u001b[0m                            Traceback (most recent call last)",
      "\u001b[0;32m<ipython-input-18-089d537bf431>\u001b[0m in \u001b[0;36m<module>\u001b[0;34m()\u001b[0m\n\u001b[0;32m----> 1\u001b[0;31m \u001b[0manalysis_mapper\u001b[0m \u001b[0;34m=\u001b[0m \u001b[0mLabelMapper\u001b[0m\u001b[0;34m(\u001b[0m\u001b[0manalysis_mapping\u001b[0m\u001b[0;34m.\u001b[0m\u001b[0mindex\u001b[0m\u001b[0;34m.\u001b[0m\u001b[0mvalues\u001b[0m\u001b[0;34m,\u001b[0m \u001b[0manalysis_mapping\u001b[0m\u001b[0;34m.\u001b[0m\u001b[0mvalues\u001b[0m\u001b[0;34m)\u001b[0m\u001b[0;34m\u001b[0m\u001b[0m\n\u001b[0m",
      "\u001b[0;31mAttributeError\u001b[0m: 'numpy.ndarray' object has no attribute 'index'"
     ]
    }
   ],
   "source": [
    "analysis_mapper = LabelMapper(analysis_mapping.index.values, analysis_mapping.values)"
   ]
  },
  {
   "cell_type": "markdown",
   "metadata": {},
   "source": [
    "### Previous decisions"
   ]
  },
  {
   "cell_type": "code",
   "execution_count": 54,
   "metadata": {},
   "outputs": [
    {
     "name": "stdout",
     "output_type": "stream",
     "text": [
      "Loaded 480432 previous decisions\n",
      "CPU times: user 1min 5s, sys: 8.28 s, total: 1min 13s\n",
      "Wall time: 1min 35s\n"
     ]
    }
   ],
   "source": [
    "%%time\n",
    "LOAD_PREVIOUS_FROM_CSV = False\n",
    "_path = f'focused-decisions-{master_node[1]}-2018-08-23.csv'\n",
    "\n",
    "if LOAD_PREVIOUS_FROM_CSV:\n",
    "    df = pd.read_csv(_path)\n",
    "    df.fillna(0.0, inplace=True)\n",
    "    df['sv_a'] = df['sv_a'].astype(np.uint64)\n",
    "    df['sv_b'] = df['sv_b'].astype(np.uint64)\n",
    "    df['body_a'] = df['body_a'].astype(np.uint64)\n",
    "    df['body_b'] = df['body_b'].astype(np.uint64)\n",
    "    previous_focused_decisions = df\n",
    "else:\n",
    "    previous_focused_decisions = fetch_focused_decisions(*master_node, 'segmentation_merged',\n",
    "                                                         normalize_pairs='sv')\n",
    "\n",
    "    previous_focused_decisions.to_csv(_path, index=False, header=True)\n",
    "\n",
    "# Body info is nearly useless because they correspond to the body ID\n",
    "# at the time the edge was assigned -- not the current body ID.\n",
    "# Let's delete the body columns to ensure we don't accidentally try to use it for anything.\n",
    "del previous_focused_decisions['body_a']\n",
    "del previous_focused_decisions['body_b']\n",
    "\n",
    "previous_focused_decisions.rename(inplace=True, columns={'sv_a': 'id_a', 'sv_b': 'id_b'})\n",
    "\n",
    "assert previous_focused_decisions.eval('id_a <= id_b').all()\n",
    "print(f\"Loaded {len(previous_focused_decisions)} previous decisions\")"
   ]
  },
  {
   "cell_type": "code",
   "execution_count": 55,
   "metadata": {},
   "outputs": [
    {
     "name": "stdout",
     "output_type": "stream",
     "text": [
      "TOTAL decisions: 480432\n"
     ]
    },
    {
     "data": {
      "text/plain": [
       "267464"
      ]
     },
     "execution_count": 55,
     "metadata": {},
     "output_type": "execute_result"
    }
   ],
   "source": [
    "print(f\"TOTAL decisions: {len(previous_focused_decisions)}\")\n",
    "#previous_focused_decisions['result'].value_counts()\n",
    "previous_focused_decisions.eval('result == \"merge\" or result == \"mergeLater\"').sum()"
   ]
  },
  {
   "cell_type": "code",
   "execution_count": 56,
   "metadata": {},
   "outputs": [
    {
     "data": {
      "text/plain": [
       "Index(['build version', 'initial 3D angle method', 'result', 'result history',\n",
       "       'source', 'id_a', 'id_b', 'time', 'time to complete (ms)', 'time zone',\n",
       "       'user', 'using hybrid meshes', 'xa', 'xb', 'ya', 'yb', 'za', 'zb'],\n",
       "      dtype='object')"
      ]
     },
     "execution_count": 56,
     "metadata": {},
     "output_type": "execute_result"
    }
   ],
   "source": [
    "previous_focused_decisions.columns"
   ]
  },
  {
   "cell_type": "code",
   "execution_count": 31,
   "metadata": {},
   "outputs": [],
   "source": [
    "_p0 = '/nrs/flyem/bergs/complete-ffn-agglo/remaining-onehop-assignments-7254-20180823/assignment-000-adjusted.csv'\n",
    "_p1 = '/nrs/flyem/bergs/complete-ffn-agglo/remaining-onehop-assignments-7254-20180823/assignment-001-adjusted.csv'\n",
    "\n",
    "assignment0 = pd.read_csv(_p0)\n",
    "assignment1 = pd.read_csv(_p1)\n",
    "\n",
    "assignment0 = pd.concat((assignment0, assignment1))\n",
    "assignment0.rename(inplace=True, columns={'supervoxel ID 1': 'id_a',\n",
    "                                          'supervoxel ID 2': 'id_b',\n",
    "                                          'coordinate-status': 'coordinate_status'})"
   ]
  },
  {
   "cell_type": "code",
   "execution_count": 32,
   "metadata": {},
   "outputs": [],
   "source": [
    "assignment0_copy = assignment0.copy()\n",
    "swap_rows = (assignment0['id_a'] > assignment0['id_b'])\n",
    "assignment0.loc[swap_rows, 'id_a'] = assignment0_copy.loc[swap_rows, 'id_b']\n",
    "assignment0.loc[swap_rows, 'id_b'] = assignment0_copy.loc[swap_rows, 'id_a']\n",
    "\n",
    "assignment0.loc[swap_rows, 'xa'] = assignment0_copy.loc[swap_rows, 'xb']\n",
    "assignment0.loc[swap_rows, 'ya'] = assignment0_copy.loc[swap_rows, 'yb']\n",
    "assignment0.loc[swap_rows, 'za'] = assignment0_copy.loc[swap_rows, 'zb']\n",
    "\n",
    "assignment0.loc[swap_rows, 'xb'] = assignment0_copy.loc[swap_rows, 'xa']\n",
    "assignment0.loc[swap_rows, 'yb'] = assignment0_copy.loc[swap_rows, 'ya']\n",
    "assignment0.loc[swap_rows, 'zb'] = assignment0_copy.loc[swap_rows, 'za']"
   ]
  },
  {
   "cell_type": "code",
   "execution_count": 33,
   "metadata": {},
   "outputs": [],
   "source": [
    "ass0_prev = previous_focused_decisions.merge(assignment0, how='inner', on=['id_a', 'id_b'])"
   ]
  },
  {
   "cell_type": "code",
   "execution_count": 45,
   "metadata": {},
   "outputs": [],
   "source": [
    "ass0_prev['completion_secs'] = list(map(lambda l: l[0] / 1000, ass0_prev['time to complete (ms)']))"
   ]
  },
  {
   "cell_type": "code",
   "execution_count": 34,
   "metadata": {},
   "outputs": [
    {
     "data": {
      "text/plain": [
       "(18784, 28)"
      ]
     },
     "execution_count": 34,
     "metadata": {},
     "output_type": "execute_result"
    }
   ],
   "source": [
    "ass0_prev.shape"
   ]
  },
  {
   "cell_type": "code",
   "execution_count": 46,
   "metadata": {},
   "outputs": [
    {
     "data": {
      "text/html": [
       "<div>\n",
       "<style scoped>\n",
       "    .dataframe tbody tr th:only-of-type {\n",
       "        vertical-align: middle;\n",
       "    }\n",
       "\n",
       "    .dataframe tbody tr th {\n",
       "        vertical-align: top;\n",
       "    }\n",
       "\n",
       "    .dataframe thead th {\n",
       "        text-align: right;\n",
       "    }\n",
       "</style>\n",
       "<table border=\"1\" class=\"dataframe\">\n",
       "  <thead>\n",
       "    <tr style=\"text-align: right;\">\n",
       "      <th></th>\n",
       "      <th>completion_secs</th>\n",
       "      <th>result</th>\n",
       "      <th>coordinate_status</th>\n",
       "    </tr>\n",
       "  </thead>\n",
       "  <tbody>\n",
       "    <tr>\n",
       "      <th>0</th>\n",
       "      <td>4.201</td>\n",
       "      <td>irrelevant</td>\n",
       "      <td>adjusted-at-scale-0</td>\n",
       "    </tr>\n",
       "    <tr>\n",
       "      <th>1</th>\n",
       "      <td>8.508</td>\n",
       "      <td>mergeLater</td>\n",
       "      <td>adjusted-at-scale-0</td>\n",
       "    </tr>\n",
       "    <tr>\n",
       "      <th>2</th>\n",
       "      <td>4.469</td>\n",
       "      <td>dontMerge</td>\n",
       "      <td>adjusted-at-scale-0</td>\n",
       "    </tr>\n",
       "    <tr>\n",
       "      <th>3</th>\n",
       "      <td>9.064</td>\n",
       "      <td>merge</td>\n",
       "      <td>adjusted-at-scale-0</td>\n",
       "    </tr>\n",
       "    <tr>\n",
       "      <th>4</th>\n",
       "      <td>4.917</td>\n",
       "      <td>dontMerge</td>\n",
       "      <td>adjusted-at-scale-0</td>\n",
       "    </tr>\n",
       "  </tbody>\n",
       "</table>\n",
       "</div>"
      ],
      "text/plain": [
       "   completion_secs      result    coordinate_status\n",
       "0            4.201  irrelevant  adjusted-at-scale-0\n",
       "1            8.508  mergeLater  adjusted-at-scale-0\n",
       "2            4.469   dontMerge  adjusted-at-scale-0\n",
       "3            9.064       merge  adjusted-at-scale-0\n",
       "4            4.917   dontMerge  adjusted-at-scale-0"
      ]
     },
     "execution_count": 46,
     "metadata": {},
     "output_type": "execute_result"
    }
   ],
   "source": [
    "ass0_prev[['completion_secs', 'result', 'coordinate_status']].head()"
   ]
  },
  {
   "cell_type": "code",
   "execution_count": 62,
   "metadata": {},
   "outputs": [
    {
     "data": {
      "text/plain": [
       "count    18577.000000\n",
       "mean        18.291978\n",
       "std         32.265138\n",
       "min          0.000000\n",
       "25%          3.443000\n",
       "50%          7.435000\n",
       "75%         17.868000\n",
       "max        299.279000\n",
       "Name: completion_secs, dtype: float64"
      ]
     },
     "execution_count": 62,
     "metadata": {},
     "output_type": "execute_result"
    }
   ],
   "source": [
    "ass0_prev.query('completion_secs < 5*60')['completion_secs'].describe()"
   ]
  },
  {
   "cell_type": "code",
   "execution_count": 59,
   "metadata": {},
   "outputs": [
    {
     "name": "stdout",
     "output_type": "stream",
     "text": [
      "Time-to-complete with 'adjusted' (good) coordinates:\n"
     ]
    },
    {
     "data": {
      "image/png": "[encoded data removed]",
      "text/plain": [
       "<Figure size 432x288 with 1 Axes>"
      ]
     },
     "metadata": {},
     "output_type": "display_data"
    }
   ],
   "source": [
    "q = 'coordinate_status != \"misplaced\" and completion_secs < 100'\n",
    "ass0_prev.query(q)['completion_secs'].hist(bins=20)\n",
    "print(\"Time-to-complete with 'adjusted' (good) coordinates:\")"
   ]
  },
  {
   "cell_type": "code",
   "execution_count": 60,
   "metadata": {
    "scrolled": true
   },
   "outputs": [
    {
     "name": "stdout",
     "output_type": "stream",
     "text": [
      "Time-to-complete with 'misplaced' (bad) coordinates:\n"
     ]
    },
    {
     "data": {
      "image/png": "[encoded data removed]",
      "text/plain": [
       "<Figure size 432x288 with 1 Axes>"
      ]
     },
     "metadata": {},
     "output_type": "display_data"
    }
   ],
   "source": [
    "q = 'coordinate_status == \"misplaced\" and completion_secs < 100'\n",
    "ass0_prev.query(q)['completion_secs'].hist(bins=20)\n",
    "print(\"Time-to-complete with 'misplaced' (bad) coordinates:\")"
   ]
  },
  {
   "cell_type": "code",
   "execution_count": 31,
   "metadata": {},
   "outputs": [],
   "source": [
    "def drop_previously_reviewed(df, previous_focused_decisions_df):\n",
    "    \"\"\"\n",
    "    Given a DataFrame of speculative focused decisions and \n",
    "    a DataFrame of previously reviewed focused decisions,\n",
    "    drop all previous decisions from the speculative set,\n",
    "    regardless of review results.\n",
    "    \"\"\"\n",
    "    comparison_df = previous_focused_decisions_df[['id_a', 'id_b']].drop_duplicates()\n",
    "    in_prev = df[['id_a', 'id_b']].merge(comparison_df,\n",
    "                                         how='left',\n",
    "                                         on=['id_a', 'id_b'],\n",
    "                                         indicator='side')\n",
    "\n",
    "    keep_rows = (in_prev['side'] == 'left_only')\n",
    "    return df[keep_rows.values]"
   ]
  },
  {
   "cell_type": "markdown",
   "metadata": {},
   "source": [
    "### Important bodies"
   ]
  },
  {
   "cell_type": "code",
   "execution_count": 9,
   "metadata": {},
   "outputs": [
    {
     "name": "stdout",
     "output_type": "stream",
     "text": [
      "Working with 703548 focused bodies\n"
     ]
    }
   ],
   "source": [
    "##\n",
    "## Using Analysis node state!\n",
    "##\n",
    "\n",
    "#focused_bodies_path = 'focused-7254-2tbars-2psds-10.0Mv.npy'\n",
    "focused_bodies_path = 'focused-662e-2tbars-2psds-10.0Mv.npy'\n",
    "focused_bodies_table = pd.DataFrame(np.load(focused_bodies_path))\n",
    "focused_bodies_table.set_index('body', inplace=True)\n",
    "\n",
    "# Filter for 0.5 criteria\n",
    "focused_bodies_table.query('PreSyn >= 2 or PostSyn >= 10 or voxel_count >= 10e6', inplace=True)\n",
    "\n",
    "important_bodies = set(focused_bodies_table.index)\n",
    "print(f\"Working with {len(important_bodies)} focused bodies\")"
   ]
  },
  {
   "cell_type": "markdown",
   "metadata": {},
   "source": [
    "### Load/filter/score 2-hop tables\n",
    "\n",
    "- load pre-updated tables (coords already fixed, supervoxels updated)\n",
    "- normalize (`a<b`)\n",
    "- filter\n",
    "   - important TWO-HOP\n",
    "   - non-merged\n",
    "   - not yet reviewed\n",
    "     - Note: this will toss out previously reviewed 'favorite' edges, meaning the next 'favorite' we pick below will be e.g. 2nd-favorite (if it survives the threshold).  Is that what we want?\n",
    "- append scores"
   ]
  },
  {
   "cell_type": "code",
   "execution_count": 15,
   "metadata": {},
   "outputs": [],
   "source": [
    "DROP_PREVIOUSLY_REVIEWED = False\n",
    "\n",
    "#NODE = master_node\n",
    "NODE = analysis_node\n",
    "\n",
    "if DROP_PREVIOUSLY_REVIEWED:\n",
    "    TWOHOP_OUTPUT_DIR = f'twohop-tables-including-reviewed-{NODE[1]}'\n",
    "else:\n",
    "    TWOHOP_OUTPUT_DIR = f'twohop-tables-excluding-reviewed-{NODE[1]}'\n",
    "\n",
    "os.makedirs(f'{TWOHOP_OUTPUT_DIR}/32nm', exist_ok=True)\n",
    "os.makedirs(f'{TWOHOP_OUTPUT_DIR}/16nm', exist_ok=True)\n",
    "os.makedirs(f'{TWOHOP_OUTPUT_DIR}/8nm', exist_ok=True)\n",
    "\n",
    "previous_sv_values = previous_focused_decisions[['id_a', 'id_b']].values\n",
    "\n",
    "driver_cwd = os.getcwd()\n",
    "\n",
    "\n",
    "def apply_mapping_and_filter_to_partition(paths):\n",
    "    print(\"init mapping...\")\n",
    "    # Must create mapper here since it cannot be pickled.\n",
    "    mapper = LabelMapper(master_mapping.index.values, master_mapping.values)\n",
    "\n",
    "    # Compute once\n",
    "    print(\"init sv pairs...\")\n",
    "    previous_sv_pairs = set(map(tuple, previous_sv_values))\n",
    "\n",
    "    def apply_mapping_and_filter(npy_path):\n",
    "        \"\"\"\n",
    "        Load the table from the given npy file,\n",
    "        apply the body mapping, and remove rows with matching bodies.\n",
    "        Also remove rows that correspond to decisions that have already been made.\n",
    "        \n",
    "        The resulting filtered table is stored in 'twohop-tables-*-reviewed-*/*nm/',\n",
    "        (See TWOHOP_OUTPUT_DIR, above.)\n",
    "        \"\"\"\n",
    "        print(\"loading table...\")\n",
    "        table = np.load(npy_path)\n",
    "        df = pd.DataFrame(table)\n",
    "\n",
    "        print(\"mapping bodies...\")\n",
    "        # A bug above caused the type to be int64. Fix that now.\n",
    "        df['id_a'] = df['id_a'].astype(np.uint64, copy=False)\n",
    "        df['id_b'] = df['id_b'].astype(np.uint64, copy=False)\n",
    "        \n",
    "        df['body_a'] = mapper.apply(df['id_a'].values, allow_unmapped=True)\n",
    "        df['body_b'] = mapper.apply(df['id_b'].values, allow_unmapped=True)\n",
    "\n",
    "        important_bodies, TWOHOP_OUTPUT_DIR # Referenced to ensure capture in this closure\n",
    "\n",
    "        print(\"filtering...\")\n",
    "        # Drop internal edges,\n",
    "        # Filter for important bodies (on at least one end -- capture 1-hop and 2-hop)\n",
    "        q = '(body_a != body_b) and ((body_a in @important_bodies) or (body_b in @important_bodies))'\n",
    "        df.query(q, inplace=True)\n",
    "\n",
    "        print(\"normalizing...\")\n",
    "        table = df.to_records(index=False)\n",
    "        normalize_recarray_inplace(table, 'id_a', 'id_b',\n",
    "                                  ['id_a', 'body_a', 'xa', 'ya', 'za', 'caa', 'cba', 'da'],\n",
    "                                  ['id_b', 'body_b', 'xb', 'yb', 'zb', 'cbb', 'cab', 'db'])\n",
    "        df = pd.DataFrame(table)\n",
    "        if DROP_PREVIOUSLY_REVIEWED:\n",
    "            df = drop_previously_reviewed(df, previous_focused_decisions)\n",
    "        \n",
    "        print(\"scores...\")\n",
    "        df['score'] = calc_speculative_scores(df[['caa', 'cab', 'cba', 'cbb']].to_records(index=False))\n",
    "        \n",
    "        print(\"writing...\")\n",
    "        res = df['resolution'].iloc[0]\n",
    "        fname = os.path.split(npy_path)[-1]\n",
    "        output_path = f'{driver_cwd}/{TWOHOP_OUTPUT_DIR}/{res}nm/{fname}'\n",
    "        np.save(output_path, df.to_records(index=False))\n",
    "\n",
    "        return len(df)\n",
    "    \n",
    "    return list(map(apply_mapping_and_filter, paths))"
   ]
  },
  {
   "cell_type": "code",
   "execution_count": 17,
   "metadata": {
    "scrolled": false
   },
   "outputs": [],
   "source": [
    "# Test one first\n",
    "#%time apply_mapping_and_filter_to_partition(['updated-tables/32nm/data-00000-of-00100.npy'])"
   ]
  },
  {
   "cell_type": "code",
   "execution_count": 18,
   "metadata": {},
   "outputs": [
    {
     "name": "stdout",
     "output_type": "stream",
     "text": [
      "INFO [2018-08-24 11:14:21,898] Processing 32nm......\n",
      "INFO [2018-08-24 11:15:44,347] Processing 32nm... took 0:01:22.447598\n",
      "INFO [2018-08-24 11:15:44,350] Processing 16nm......\n",
      "INFO [2018-08-24 11:17:18,383] Processing 16nm... took 0:01:34.032903\n",
      "INFO [2018-08-24 11:17:18,388] Processing 8nm......\n",
      "INFO [2018-08-24 11:19:16,355] Processing 8nm... took 0:01:57.966335\n",
      "DONE. Total filtered edges: 907113216\n"
     ]
    }
   ],
   "source": [
    "filtered_totals = {}\n",
    "\n",
    "for res in [32, 16, 8]:\n",
    "    with Timer(f\"Processing {res}nm...\"):\n",
    "        paths = map(os.path.abspath, glob.glob(f'updated-tables/{res}nm/data-*.npy'))\n",
    "        filtered_totals[res] = sc.parallelize(paths).mapPartitions(apply_mapping_and_filter_to_partition).sum()\n",
    "    \n",
    "print(f\"DONE. Total filtered edges: {sum(filtered_totals.values())}\")"
   ]
  },
  {
   "cell_type": "code",
   "execution_count": 19,
   "metadata": {},
   "outputs": [
    {
     "data": {
      "text/plain": [
       "<matplotlib.axes._subplots.AxesSubplot at 0x2b441043a358>"
      ]
     },
     "execution_count": 19,
     "metadata": {},
     "output_type": "execute_result"
    },
    {
     "data": {
      "image/png": "[encoded data removed]",
      "text/plain": [
       "<Figure size 432x288 with 1 Axes>"
      ]
     },
     "metadata": {},
     "output_type": "display_data"
    }
   ],
   "source": [
    "pd.Series(filtered_totals).plot(kind='pie')"
   ]
  },
  {
   "cell_type": "markdown",
   "metadata": {},
   "source": [
    "### Select 1-hop edges"
   ]
  },
  {
   "cell_type": "code",
   "execution_count": 22,
   "metadata": {},
   "outputs": [
    {
     "name": "stdout",
     "output_type": "stream",
     "text": [
      "Selected 234436514 one-hop edges\n"
     ]
    }
   ],
   "source": [
    "driver_cwd = os.getcwd()\n",
    "\n",
    "#NODE = master_node\n",
    "NODE = analysis_node\n",
    "\n",
    "if DROP_PREVIOUSLY_REVIEWED:\n",
    "    ONEHOP_OUTPUT_DIR = f'{driver_cwd}/onehop-tables-excluding-reviewed-{NODE[1]}'\n",
    "else:\n",
    "    ONEHOP_OUTPUT_DIR = f'{driver_cwd}/onehop-tables-including-reviewed-{NODE[1]}'\n",
    "    \n",
    "os.makedirs(f'{ONEHOP_OUTPUT_DIR}/32nm', exist_ok=True)\n",
    "os.makedirs(f'{ONEHOP_OUTPUT_DIR}/16nm', exist_ok=True)\n",
    "os.makedirs(f'{ONEHOP_OUTPUT_DIR}/8nm', exist_ok=True)\n",
    "\n",
    "\n",
    "def select_and_write_onehop(twohop_path):\n",
    "    important_bodies # ref for pickle\n",
    "\n",
    "    print(\"reading...\")\n",
    "    df = pd.DataFrame(np.load(twohop_path))\n",
    "    res = df['resolution'].iloc[0]\n",
    "    \n",
    "    print(\"filtering...\")\n",
    "    q = 'body_a in @important_bodies and body_b in @important_bodies'\n",
    "    df.query(q, inplace=True)\n",
    "    \n",
    "    print(\"writing...\")\n",
    "    fname = os.path.split(twohop_path)[-1]\n",
    "    output_path = f'{ONEHOP_OUTPUT_DIR}/{res}nm/{fname}'\n",
    "    np.save(output_path, df.to_records(index=False))\n",
    "    return len(df)\n",
    "\n",
    "all_twohop_chunk_paths = map(os.path.abspath, glob.glob(f'{TWOHOP_OUTPUT_DIR}/*nm/*.npy'))\n",
    "total_onehop_edges = sc.parallelize(all_twohop_chunk_paths).map(select_and_write_onehop).sum()\n",
    "print(f\"Selected {total_onehop_edges} one-hop edges\")"
   ]
  },
  {
   "cell_type": "markdown",
   "metadata": {},
   "source": [
    "### Load into combined table"
   ]
  },
  {
   "cell_type": "code",
   "execution_count": 24,
   "metadata": {},
   "outputs": [
    {
     "data": {
      "application/vnd.jupyter.widget-view+json": {
       "model_id": "1c39467de82b4a75a66499d0e2b2cf59",
       "version_major": 2,
       "version_minor": 0
      },
      "text/html": [
       "<p>Failed to display Jupyter Widget of type <code>HBox</code>.</p>\n",
       "<p>\n",
       "  If you're reading this message in the Jupyter Notebook or JupyterLab Notebook, it may mean\n",
       "  that the widgets JavaScript is still loading. If this message persists, it\n",
       "  likely means that the widgets JavaScript library is either not installed or\n",
       "  not enabled. See the <a href=\"https://ipywidgets.readthedocs.io/en/stable/user_install.html\">Jupyter\n",
       "  Widgets Documentation</a> for setup instructions.\n",
       "</p>\n",
       "<p>\n",
       "  If you're reading this message in another frontend (for example, a static\n",
       "  rendering on GitHub or <a href=\"https://nbviewer.jupyter.org/\">NBViewer</a>),\n",
       "  it may mean that your frontend doesn't currently support widgets.\n",
       "</p>\n"
      ],
      "text/plain": [
       "HBox(children=(IntProgress(value=0, max=300), HTML(value='')))"
      ]
     },
     "metadata": {},
     "output_type": "display_data"
    },
    {
     "name": "stdout",
     "output_type": "stream",
     "text": [
      "\n",
      "Combined table is 20.9 GB\n"
     ]
    }
   ],
   "source": [
    "all_onehop_chunk_paths = glob.glob(f'{ONEHOP_OUTPUT_DIR}/*nm/*.npy')\n",
    "all_onehop_chunks = list(map(np.load, tqdm_notebook(all_onehop_chunk_paths)))\n",
    "combined_onehop_table = np.concatenate(all_onehop_chunks)\n",
    "del all_onehop_chunks\n",
    "print(f\"Combined table is {combined_onehop_table.nbytes / 1e9:.1f} GB\")"
   ]
  },
  {
   "cell_type": "code",
   "execution_count": 25,
   "metadata": {},
   "outputs": [
    {
     "name": "stdout",
     "output_type": "stream",
     "text": [
      "CPU times: user 51.7 s, sys: 13.7 s, total: 1min 5s\n",
      "Wall time: 46.2 s\n"
     ]
    }
   ],
   "source": [
    "%time combined_onehop_df = pd.DataFrame(combined_onehop_table)"
   ]
  },
  {
   "cell_type": "code",
   "execution_count": 26,
   "metadata": {},
   "outputs": [
    {
     "data": {
      "text/html": [
       "<div>\n",
       "<style scoped>\n",
       "    .dataframe tbody tr th:only-of-type {\n",
       "        vertical-align: middle;\n",
       "    }\n",
       "\n",
       "    .dataframe tbody tr th {\n",
       "        vertical-align: top;\n",
       "    }\n",
       "\n",
       "    .dataframe thead th {\n",
       "        text-align: right;\n",
       "    }\n",
       "</style>\n",
       "<table border=\"1\" class=\"dataframe\">\n",
       "  <thead>\n",
       "    <tr style=\"text-align: right;\">\n",
       "      <th></th>\n",
       "      <th>id_a</th>\n",
       "      <th>id_b</th>\n",
       "      <th>xa</th>\n",
       "      <th>ya</th>\n",
       "      <th>za</th>\n",
       "      <th>xb</th>\n",
       "      <th>yb</th>\n",
       "      <th>zb</th>\n",
       "      <th>caa</th>\n",
       "      <th>cab</th>\n",
       "      <th>cba</th>\n",
       "      <th>cbb</th>\n",
       "      <th>iou</th>\n",
       "      <th>da</th>\n",
       "      <th>db</th>\n",
       "      <th>resolution</th>\n",
       "      <th>body_a</th>\n",
       "      <th>body_b</th>\n",
       "      <th>score</th>\n",
       "    </tr>\n",
       "  </thead>\n",
       "  <tbody>\n",
       "    <tr>\n",
       "      <th>0</th>\n",
       "      <td>1012359606</td>\n",
       "      <td>1135833306</td>\n",
       "      <td>16448</td>\n",
       "      <td>23743</td>\n",
       "      <td>15961</td>\n",
       "      <td>16401</td>\n",
       "      <td>23783</td>\n",
       "      <td>15924</td>\n",
       "      <td>0.982629</td>\n",
       "      <td>0.000000</td>\n",
       "      <td>0.001461</td>\n",
       "      <td>0.992530</td>\n",
       "      <td>0.000019</td>\n",
       "      <td>0.002408</td>\n",
       "      <td>0.000507</td>\n",
       "      <td>8</td>\n",
       "      <td>5813039957</td>\n",
       "      <td>1135828787</td>\n",
       "      <td>0.001461</td>\n",
       "    </tr>\n",
       "    <tr>\n",
       "      <th>1</th>\n",
       "      <td>1016749434</td>\n",
       "      <td>1016753364</td>\n",
       "      <td>10412</td>\n",
       "      <td>30574</td>\n",
       "      <td>14398</td>\n",
       "      <td>10406</td>\n",
       "      <td>30626</td>\n",
       "      <td>14399</td>\n",
       "      <td>0.986544</td>\n",
       "      <td>0.000000</td>\n",
       "      <td>0.000000</td>\n",
       "      <td>0.947968</td>\n",
       "      <td>0.000000</td>\n",
       "      <td>0.001237</td>\n",
       "      <td>0.002138</td>\n",
       "      <td>8</td>\n",
       "      <td>1016749259</td>\n",
       "      <td>1016758041</td>\n",
       "      <td>0.000000</td>\n",
       "    </tr>\n",
       "    <tr>\n",
       "      <th>2</th>\n",
       "      <td>1049662264</td>\n",
       "      <td>1049662419</td>\n",
       "      <td>27573</td>\n",
       "      <td>32595</td>\n",
       "      <td>14852</td>\n",
       "      <td>27513</td>\n",
       "      <td>32615</td>\n",
       "      <td>14878</td>\n",
       "      <td>0.991906</td>\n",
       "      <td>0.002317</td>\n",
       "      <td>0.000069</td>\n",
       "      <td>0.918828</td>\n",
       "      <td>0.000000</td>\n",
       "      <td>0.002363</td>\n",
       "      <td>0.003926</td>\n",
       "      <td>8</td>\n",
       "      <td>613175370</td>\n",
       "      <td>5813049530</td>\n",
       "      <td>0.002317</td>\n",
       "    </tr>\n",
       "    <tr>\n",
       "      <th>3</th>\n",
       "      <td>1075054375</td>\n",
       "      <td>1167852620</td>\n",
       "      <td>12425</td>\n",
       "      <td>24956</td>\n",
       "      <td>16373</td>\n",
       "      <td>12436</td>\n",
       "      <td>24992</td>\n",
       "      <td>16339</td>\n",
       "      <td>0.777855</td>\n",
       "      <td>0.000000</td>\n",
       "      <td>0.000000</td>\n",
       "      <td>0.970840</td>\n",
       "      <td>0.000000</td>\n",
       "      <td>0.009229</td>\n",
       "      <td>0.000394</td>\n",
       "      <td>8</td>\n",
       "      <td>890191637</td>\n",
       "      <td>823058891</td>\n",
       "      <td>0.000000</td>\n",
       "    </tr>\n",
       "    <tr>\n",
       "      <th>4</th>\n",
       "      <td>1097365311</td>\n",
       "      <td>1097706148</td>\n",
       "      <td>23432</td>\n",
       "      <td>14451</td>\n",
       "      <td>15693</td>\n",
       "      <td>23444</td>\n",
       "      <td>14463</td>\n",
       "      <td>15684</td>\n",
       "      <td>0.994048</td>\n",
       "      <td>0.000359</td>\n",
       "      <td>0.000000</td>\n",
       "      <td>0.905296</td>\n",
       "      <td>0.000000</td>\n",
       "      <td>0.000107</td>\n",
       "      <td>0.000662</td>\n",
       "      <td>8</td>\n",
       "      <td>5813040784</td>\n",
       "      <td>973566036</td>\n",
       "      <td>0.000359</td>\n",
       "    </tr>\n",
       "  </tbody>\n",
       "</table>\n",
       "</div>"
      ],
      "text/plain": [
       "         id_a        id_b     xa     ya     za     xb     yb     zb       caa  \\\n",
       "0  1012359606  1135833306  16448  23743  15961  16401  23783  15924  0.982629   \n",
       "1  1016749434  1016753364  10412  30574  14398  10406  30626  14399  0.986544   \n",
       "2  1049662264  1049662419  27573  32595  14852  27513  32615  14878  0.991906   \n",
       "3  1075054375  1167852620  12425  24956  16373  12436  24992  16339  0.777855   \n",
       "4  1097365311  1097706148  23432  14451  15693  23444  14463  15684  0.994048   \n",
       "\n",
       "        cab       cba       cbb       iou        da        db  resolution  \\\n",
       "0  0.000000  0.001461  0.992530  0.000019  0.002408  0.000507           8   \n",
       "1  0.000000  0.000000  0.947968  0.000000  0.001237  0.002138           8   \n",
       "2  0.002317  0.000069  0.918828  0.000000  0.002363  0.003926           8   \n",
       "3  0.000000  0.000000  0.970840  0.000000  0.009229  0.000394           8   \n",
       "4  0.000359  0.000000  0.905296  0.000000  0.000107  0.000662           8   \n",
       "\n",
       "       body_a      body_b     score  \n",
       "0  5813039957  1135828787  0.001461  \n",
       "1  1016749259  1016758041  0.000000  \n",
       "2   613175370  5813049530  0.002317  \n",
       "3   890191637   823058891  0.000000  \n",
       "4  5813040784   973566036  0.000359  "
      ]
     },
     "execution_count": 26,
     "metadata": {},
     "output_type": "execute_result"
    }
   ],
   "source": [
    "combined_onehop_df.head()"
   ]
  },
  {
   "cell_type": "code",
   "execution_count": 27,
   "metadata": {},
   "outputs": [
    {
     "name": "stdout",
     "output_type": "stream",
     "text": [
      "CPU times: user 25.3 s, sys: 17.6 s, total: 42.9 s\n",
      "Wall time: 5.44 s\n"
     ]
    }
   ],
   "source": [
    "### Discard unneeded columns\n",
    "%time combined_onehop_df = combined_onehop_df[['id_a', 'id_b', 'body_a', 'body_b', 'score', 'xa', 'ya', 'za', 'xb', 'yb', 'zb']].copy()"
   ]
  },
  {
   "cell_type": "code",
   "execution_count": 28,
   "metadata": {},
   "outputs": [
    {
     "data": {
      "text/plain": [
       "14.06619092"
      ]
     },
     "execution_count": 28,
     "metadata": {},
     "output_type": "execute_result"
    }
   ],
   "source": [
    "combined_onehop_df.memory_usage().sum() / 1e9"
   ]
  },
  {
   "cell_type": "markdown",
   "metadata": {},
   "source": [
    "### Pre-threshold by score"
   ]
  },
  {
   "cell_type": "code",
   "execution_count": 30,
   "metadata": {},
   "outputs": [
    {
     "name": "stdout",
     "output_type": "stream",
     "text": [
      "Thresholded table has 2.3M rows (0.2 GB)\n"
     ]
    },
    {
     "data": {
      "text/plain": [
       "<matplotlib.axes._subplots.AxesSubplot at 0x2b442e0a8d30>"
      ]
     },
     "execution_count": 30,
     "metadata": {},
     "output_type": "execute_result"
    },
    {
     "data": {
      "image/png": "[encoded data removed]",
      "text/plain": [
       "<Figure size 432x288 with 1 Axes>"
      ]
     },
     "metadata": {},
     "output_type": "display_data"
    }
   ],
   "source": [
    "thresholded_df = combined_onehop_df[combined_onehop_df['score'] >= 0.1].copy()\n",
    "\n",
    "_rows = len(thresholded_df)\n",
    "_nbytes = thresholded_df.memory_usage().sum()\n",
    "print(f\"Thresholded table has {_rows/1e6:.1f}M rows ({_nbytes/1e9:.1f} GB)\")\n",
    "\n",
    "# Michal's scores use \"higher is better\",\n",
    "# but compute_favorites() assumes \"lower is better\"\n",
    "thresholded_df['score'] *= -1\n",
    "thresholded_df['score'].hist()"
   ]
  },
  {
   "cell_type": "markdown",
   "metadata": {},
   "source": [
    "### Choose favorites"
   ]
  },
  {
   "cell_type": "code",
   "execution_count": 31,
   "metadata": {},
   "outputs": [
    {
     "name": "stdout",
     "output_type": "stream",
     "text": [
      "Found 376703 favorites\n",
      "CPU times: user 1min 40s, sys: 9.51 s, total: 1min 50s\n",
      "Wall time: 1min 19s\n"
     ]
    }
   ],
   "source": [
    "%%time\n",
    "body_favorites = compute_favorites(thresholded_df)\n",
    "print(f\"Found {len(body_favorites)} favorites\")"
   ]
  },
  {
   "cell_type": "code",
   "execution_count": 32,
   "metadata": {},
   "outputs": [
    {
     "name": "stdout",
     "output_type": "stream",
     "text": [
      "CPU times: user 7.97 s, sys: 2.68 s, total: 10.6 s\n",
      "Wall time: 831 ms\n"
     ]
    }
   ],
   "source": [
    "%%time\n",
    "favorite_flags_df = mark_favorites(thresholded_df, body_favorites)\n",
    "favorite_onehop_df = extract_favorites(thresholded_df, favorite_flags_df, only_mutual=False)"
   ]
  },
  {
   "cell_type": "markdown",
   "metadata": {},
   "source": [
    "### Exclude previously reviewed (if they weren't pre-excluded above)"
   ]
  },
  {
   "cell_type": "code",
   "execution_count": 34,
   "metadata": {},
   "outputs": [
    {
     "name": "stdout",
     "output_type": "stream",
     "text": [
      "dropping previous decisions...\n",
      "169983 favorites remain after dropping previously-reviewed\n"
     ]
    }
   ],
   "source": [
    "edges_were_dropped_above = DROP_PREVIOUSLY_REVIEWED\n",
    "\n",
    "if not edges_were_dropped_above:\n",
    "    print(\"dropping previous decisions...\")\n",
    "    previous_sv_values = previous_focused_decisions[['id_a', 'id_b']].values\n",
    "    previous_sv_pairs = set(map(tuple, previous_sv_values))\n",
    "\n",
    "    # Drop edges that have already been considered.\n",
    "    sv_pairs = list(map(tuple, favorite_onehop_df[['id_a', 'id_b']].values))\n",
    "    favorite_onehop_df['sv_pair'] = sv_pairs\n",
    "    favorite_onehop_df = favorite_onehop_df[~(favorite_onehop_df['sv_pair'].isin(previous_sv_pairs))]\n",
    "    del favorite_onehop_df['sv_pair']\n",
    "\n",
    "    print(f\"{len(favorite_onehop_df)} favorites remain after dropping previously-reviewed\")"
   ]
  },
  {
   "cell_type": "code",
   "execution_count": 35,
   "metadata": {},
   "outputs": [],
   "source": [
    "favorite_onehop_df = favorite_onehop_df[['id_a','id_b','body_a','body_b','xa','ya','za','xb','yb','zb','score']]\n",
    "favorite_onehop_df.to_csv('remaining-onehop-assignments-7254-20180824.csv', index=False)"
   ]
  },
  {
   "cell_type": "code",
   "execution_count": 36,
   "metadata": {},
   "outputs": [
    {
     "data": {
      "text/plain": [
       "(169983, 11)"
      ]
     },
     "execution_count": 36,
     "metadata": {},
     "output_type": "execute_result"
    }
   ],
   "source": [
    "favorite_onehop_df.shape"
   ]
  },
  {
   "cell_type": "markdown",
   "metadata": {},
   "source": [
    "### Generate assignments"
   ]
  },
  {
   "cell_type": "code",
   "execution_count": 37,
   "metadata": {},
   "outputs": [
    {
     "name": "stderr",
     "output_type": "stream",
     "text": [
      "100%|██████████| 16/16 [00:05<00:00,  2.87it/s]\n"
     ]
    }
   ],
   "source": [
    "generate_assignments(favorite_onehop_df, 10_000, 'remaining-onehop-assignments-7254-20180824')"
   ]
  },
  {
   "cell_type": "code",
   "execution_count": 38,
   "metadata": {},
   "outputs": [],
   "source": [
    "# sample assignment\n",
    "np.random.seed(0)\n",
    "_choices = np.random.choice(favorite_onehop_df.index, size=(100,), replace=False)\n",
    "_ = generate_focused_assignment(favorite_onehop_df.loc[_choices],\n",
    "                                'remaining-onehop-assignments-7254-20180824-SAMPLE-ASSIGNMENT.json')"
   ]
  },
  {
   "cell_type": "markdown",
   "metadata": {},
   "source": [
    "## Just use Michal's iteration 1"
   ]
  },
  {
   "cell_type": "code",
   "execution_count": 14,
   "metadata": {},
   "outputs": [],
   "source": [
    "# Load all iteration 1 edges\n",
    "it1_path = ('/nrs/flyem/bergs/final-agglo/speculative-iterations/'\n",
    "         + 'final_20180312_32nm_16nm_all_cbs32_upto10_cb16_upto10_freeze_all_spec_phase1_min0.1.npy')\n",
    "\n",
    "it1_table = np.load(it1_path)\n",
    "normalize_recarray_inplace(it1_table, 'id_a', 'id_b', ['id_a', 'xa', 'ya', 'za'], ['id_b', 'xb', 'yb', 'zb'])\n",
    "it1_df = pd.DataFrame(it1_table)"
   ]
  },
  {
   "cell_type": "code",
   "execution_count": 17,
   "metadata": {},
   "outputs": [],
   "source": [
    "# Apply body mapping from current master node\n",
    "it1_df['body_a'] = master_mapper.apply(it1_df['id_a'].values, True)\n",
    "it1_df['body_b'] = master_mapper.apply(it1_df['id_b'].values, True)"
   ]
  },
  {
   "cell_type": "code",
   "execution_count": 23,
   "metadata": {},
   "outputs": [],
   "source": [
    "# Filter for 1-hop edges only\n",
    "it1_df.query('body_a in @important_bodies and body_b in @important_bodies', inplace=True)"
   ]
  },
  {
   "cell_type": "code",
   "execution_count": 25,
   "metadata": {},
   "outputs": [],
   "source": [
    "# Drop internal edges for assigning\n",
    "it1_df.query('body_a != body_b', inplace=True)"
   ]
  },
  {
   "cell_type": "code",
   "execution_count": 32,
   "metadata": {},
   "outputs": [
    {
     "name": "stdout",
     "output_type": "stream",
     "text": [
      "CPU times: user 3.77 s, sys: 1.41 s, total: 5.18 s\n",
      "Wall time: 513 ms\n"
     ]
    }
   ],
   "source": [
    "assert it1_df.eval('id_a <= id_b').all()\n",
    "assert previous_focused_decisions.eval('id_a <= id_b').all()\n",
    "%time it1_df = drop_previously_reviewed(it1_df, previous_focused_decisions)"
   ]
  },
  {
   "cell_type": "code",
   "execution_count": 37,
   "metadata": {},
   "outputs": [
    {
     "name": "stdout",
     "output_type": "stream",
     "text": [
      "Assigning 18388 filtered it1 edges\n"
     ]
    }
   ],
   "source": [
    "print(f\"Assigning {len(it1_df)} filtered it1 edges\")"
   ]
  },
  {
   "cell_type": "markdown",
   "metadata": {},
   "source": [
    "### Generate assignments"
   ]
  },
  {
   "cell_type": "code",
   "execution_count": 39,
   "metadata": {},
   "outputs": [
    {
     "name": "stderr",
     "output_type": "stream",
     "text": [
      "100%|██████████| 3/3 [00:00<00:00,  5.23it/s]\n"
     ]
    }
   ],
   "source": [
    "generate_assignments(it1_df, 5000, 'remaining-it1-assignments-7254-20180830')"
   ]
  },
  {
   "cell_type": "code",
   "execution_count": 35,
   "metadata": {},
   "outputs": [],
   "source": [
    "# sample assignment\n",
    "np.random.seed(0)\n",
    "_choices = np.random.choice(it1_df.index, size=(100,), replace=False)\n",
    "_ = generate_focused_assignment(it1_df.loc[_choices],\n",
    "                                'remaining-it1-assignments-7254-20180830-SAMPLE-ASSIGNMENT.json')"
   ]
  },
  {
   "cell_type": "markdown",
   "metadata": {},
   "source": [
    "### De-duplicate body pairs?"
   ]
  },
  {
   "cell_type": "code",
   "execution_count": 36,
   "metadata": {},
   "outputs": [
    {
     "data": {
      "text/plain": [
       "914"
      ]
     },
     "execution_count": 36,
     "metadata": {},
     "output_type": "execute_result"
    }
   ],
   "source": [
    "it1_df.duplicated(['body_a', 'body_b']).sum()"
   ]
  },
  {
   "cell_type": "code",
   "execution_count": 65,
   "metadata": {},
   "outputs": [
    {
     "data": {
      "text/plain": [
       "32952"
      ]
     },
     "execution_count": 65,
     "metadata": {},
     "output_type": "execute_result"
    }
   ],
   "source": [
    "# it1_records = it1_df.to_records(index=False)\n",
    "# normalize_recarray_inplace(it1_records, 'body_a', 'body_b',\n",
    "#                            ['body_a', 'id_a', 'xa', 'ya', 'za'],\n",
    "#                            ['body_b', 'id_b', 'xb', 'yb', 'zb'])\n",
    "# it1_deduplicated_df = pd.DataFrame(it1_records).drop_duplicates(['body_a', 'body_b'])\n",
    "# len(it1_deduplicated_df)"
   ]
  },
  {
   "cell_type": "code",
   "execution_count": 213,
   "metadata": {},
   "outputs": [],
   "source": [
    "#it1_deduplicated_df['score'].hist()"
   ]
  },
  {
   "cell_type": "code",
   "execution_count": null,
   "metadata": {},
   "outputs": [],
   "source": [
    "#it1_deduplicated_df.query('score > 13.1')['score'].hist()"
   ]
  },
  {
   "cell_type": "code",
   "execution_count": null,
   "metadata": {},
   "outputs": [],
   "source": [
    "#it1_deduplicated_df['score'][it1_deduplicated_df['score'] > 13.1].shape"
   ]
  },
  {
   "cell_type": "code",
   "execution_count": null,
   "metadata": {},
   "outputs": [],
   "source": [
    "#len(it1_thresholded_df)/len(it1_deduplicated_df)"
   ]
  },
  {
   "cell_type": "code",
   "execution_count": 188,
   "metadata": {},
   "outputs": [
    {
     "name": "stderr",
     "output_type": "stream",
     "text": [
      "100%|██████████| 50/50 [00:00<00:00, 295.91it/s]\n"
     ]
    }
   ],
   "source": [
    "#claire_assignments = glob.glob('remaining-*-7254-2018082*-SAMPLE-ASSIGNMENT.json')\n",
    "claire_assignments = ['remaining-onehop-assignments-7254-20180824-SAMPLE-ASSIGNMENT.json']\n",
    "\n",
    "claire_edges = []\n",
    "for path in claire_assignments:\n",
    "    with open(path, 'r') as f:\n",
    "        assignment = json.load(f)\n",
    "        for task in assignment['task list']:\n",
    "            pair = (task['supervoxel ID 1'], task['supervoxel ID 2'])\n",
    "            claire_edges.append(pair)\n",
    "\n",
    "claire_decisions = fetch_focused_decisions(*master_node, 'segmentation_merged', normalize_pairs='sv',\n",
    "                                           subset_pairs=claire_edges, show_progress=True)"
   ]
  },
  {
   "cell_type": "code",
   "execution_count": 189,
   "metadata": {},
   "outputs": [
    {
     "data": {
      "text/plain": [
       "(50, 19)"
      ]
     },
     "execution_count": 189,
     "metadata": {},
     "output_type": "execute_result"
    }
   ],
   "source": [
    "claire_decisions.shape"
   ]
  },
  {
   "cell_type": "code",
   "execution_count": 190,
   "metadata": {},
   "outputs": [],
   "source": [
    "#it1_df.query('id_a == 955469006 or id_b == 955469006')"
   ]
  },
  {
   "cell_type": "code",
   "execution_count": 191,
   "metadata": {},
   "outputs": [],
   "source": [
    "#previous_focused_decisions.query('id_a == 955469006')"
   ]
  },
  {
   "cell_type": "code",
   "execution_count": 161,
   "metadata": {
    "scrolled": false
   },
   "outputs": [],
   "source": [
    "#claire_decisions.iloc[-200:][['time', 'user', 'sv_a', 'sv_b', 'body_a', 'body_b', 'result']].sort_values('time')"
   ]
  },
  {
   "cell_type": "code",
   "execution_count": 114,
   "metadata": {},
   "outputs": [],
   "source": [
    "psd_bodies = focused_bodies_table.query('PostSyn >= 10 and PreSyn < 2')"
   ]
  },
  {
   "cell_type": "code",
   "execution_count": 115,
   "metadata": {},
   "outputs": [],
   "source": [
    "empty_bodies = focused_bodies_table.query('PostSyn < 10 and PreSyn < 2')"
   ]
  },
  {
   "cell_type": "code",
   "execution_count": 192,
   "metadata": {},
   "outputs": [],
   "source": [
    "def get_type(body):\n",
    "    if body in empty_bodies.index:\n",
    "        return 'empty'\n",
    "    elif body in psd_bodies.index:\n",
    "        return 'psd'\n",
    "    else:\n",
    "        return 'tbar'\n",
    "\n",
    "claire_decisions['type_a'] = list(map(get_type, claire_decisions['body_a']))\n",
    "claire_decisions['type_b'] = list(map(get_type, claire_decisions['body_b']))"
   ]
  },
  {
   "cell_type": "code",
   "execution_count": 193,
   "metadata": {},
   "outputs": [
    {
     "data": {
      "text/plain": [
       "0"
      ]
     },
     "execution_count": 193,
     "metadata": {},
     "output_type": "execute_result"
    }
   ],
   "source": [
    "claire_decisions.rename(inplace=True, columns={'sv_a': 'id_a', 'sv_b': 'id_b'})\n",
    "drop_previously_reviewed_inplace(claire_decisions, previous_focused_decisions)"
   ]
  },
  {
   "cell_type": "code",
   "execution_count": null,
   "metadata": {
    "scrolled": false
   },
   "outputs": [],
   "source": [
    "from matplotlib import pyplot as plt\n",
    "plt.rcParams['figure.figsize'] = [10, 25]\n",
    "\n",
    "types = np.sort(claire_decisions[['type_a', 'type_b']].values, axis=1)\n",
    "type_results = pd.DataFrame(types, columns=['t1', 't2'])\n",
    "type_results['result'] = claire_decisions['result'].values\n",
    "type_results\n",
    "\n",
    "fig, axs = plt.subplots(5,1)\n",
    "\n",
    "for i, (key, group) in enumerate(type_results.groupby(['t1', 't2'])):\n",
    "    title = f\"{key[0]}/{key[1]}\"\n",
    "    group['result'].value_counts().plot(kind='bar', ax=axs[i], title=title, ylim=(0,15))\n",
    "\n",
    "plt.subplots_adjust(top=2, bottom=1, wspace=None, hspace=None)"
   ]
  },
  {
   "cell_type": "code",
   "execution_count": 198,
   "metadata": {},
   "outputs": [],
   "source": [
    "df = claire_decisions[['time', 'user', 'id_a', 'id_a', 'body_a', 'body_b', 'result', 'type_a', 'type_b']].sort_values('time')"
   ]
  },
  {
   "cell_type": "code",
   "execution_count": 217,
   "metadata": {},
   "outputs": [],
   "source": [
    "_k = fetch_keys(*master_node, 'focused_complete_02')"
   ]
  },
  {
   "cell_type": "code",
   "execution_count": 225,
   "metadata": {},
   "outputs": [],
   "source": [
    "#_k"
   ]
  },
  {
   "cell_type": "code",
   "execution_count": 221,
   "metadata": {},
   "outputs": [
    {
     "data": {
      "text/plain": [
       "b'{\"status\":\"Not examined\",\"supervoxel point 1\":[15787,11257,14348],\"comment\":\"iteration-evaluation, iteration-1\",\"supervoxel ID 1\":1001794547,\"coordinate-status\":\"adjusted\",\"assigned\":22771,\"supervoxel point 2\":[15786,11258,14347],\"supervoxel ID 2\":1001799164,\"focused ID\":\"1001794547_1001799164\",\"task type\":\"body merge\"}\\n'"
      ]
     },
     "execution_count": 221,
     "metadata": {},
     "output_type": "execute_result"
    }
   ],
   "source": [
    "fetch_key(*master_node, 'focused_complete_02', '1001794547_1001799164')"
   ]
  },
  {
   "cell_type": "markdown",
   "metadata": {},
   "source": [
    "### Previously assigned It1"
   ]
  },
  {
   "cell_type": "code",
   "execution_count": 25,
   "metadata": {},
   "outputs": [
    {
     "name": "stdout",
     "output_type": "stream",
     "text": [
      "CPU times: user 4.36 s, sys: 694 ms, total: 5.05 s\n",
      "Wall time: 7.08 s\n"
     ]
    }
   ],
   "source": [
    "%%time\n",
    "assigned_it1_decisions = fetch_focused_decisions('emdata3:8900', '7254', 'focused_complete_02',\n",
    "                                                 normalize_pairs='sv')"
   ]
  },
  {
   "cell_type": "code",
   "execution_count": 26,
   "metadata": {},
   "outputs": [],
   "source": [
    "assert assigned_it1_decisions.eval('sv_a <= sv_b').all()"
   ]
  },
  {
   "cell_type": "code",
   "execution_count": 27,
   "metadata": {},
   "outputs": [],
   "source": [
    "assigned_it1_decisions.rename(inplace=True, columns={'sv_a': 'id_a', 'sv_b': 'id_b'})"
   ]
  },
  {
   "cell_type": "code",
   "execution_count": 28,
   "metadata": {},
   "outputs": [],
   "source": [
    "#assigned_it1_decisions['status'].value_counts().plot(kind='pie')"
   ]
  },
  {
   "cell_type": "code",
   "execution_count": 29,
   "metadata": {},
   "outputs": [
    {
     "data": {
      "text/plain": [
       "(50923, 14)"
      ]
     },
     "execution_count": 29,
     "metadata": {},
     "output_type": "execute_result"
    }
   ],
   "source": [
    "assigned_it1_decisions.shape"
   ]
  },
  {
   "cell_type": "code",
   "execution_count": 30,
   "metadata": {},
   "outputs": [
    {
     "data": {
      "text/plain": [
       "(135035, 11)"
      ]
     },
     "execution_count": 30,
     "metadata": {},
     "output_type": "execute_result"
    }
   ],
   "source": [
    "it1_df.shape"
   ]
  },
  {
   "cell_type": "code",
   "execution_count": 31,
   "metadata": {},
   "outputs": [],
   "source": [
    "# Append score from it1 table\n",
    "assigned_it1_decisions = assigned_it1_decisions.merge(it1_df[['id_a', 'id_b', 'score']],\n",
    "                                                      on=['id_a', 'id_b'], how='left')"
   ]
  },
  {
   "cell_type": "code",
   "execution_count": 32,
   "metadata": {},
   "outputs": [],
   "source": [
    "assigned_it1_decisions['body_a'] = master_mapper.apply(assigned_it1_decisions['id_a'].values, True)\n",
    "assigned_it1_decisions['body_b'] = master_mapper.apply(assigned_it1_decisions['id_b'].values, True)"
   ]
  },
  {
   "cell_type": "code",
   "execution_count": 33,
   "metadata": {},
   "outputs": [],
   "source": [
    "# Append results\n",
    "assigned_it1_decisions = assigned_it1_decisions.merge(previous_focused_decisions[['id_a', 'id_b', 'result']],\n",
    "                                                      on=['id_a', 'id_b'], how='left')"
   ]
  },
  {
   "cell_type": "code",
   "execution_count": 34,
   "metadata": {},
   "outputs": [
    {
     "data": {
      "text/html": [
       "<div>\n",
       "<style scoped>\n",
       "    .dataframe tbody tr th:only-of-type {\n",
       "        vertical-align: middle;\n",
       "    }\n",
       "\n",
       "    .dataframe tbody tr th {\n",
       "        vertical-align: top;\n",
       "    }\n",
       "\n",
       "    .dataframe thead th {\n",
       "        text-align: right;\n",
       "    }\n",
       "</style>\n",
       "<table border=\"1\" class=\"dataframe\">\n",
       "  <thead>\n",
       "    <tr style=\"text-align: right;\">\n",
       "      <th></th>\n",
       "      <th>id_a</th>\n",
       "      <th>id_b</th>\n",
       "      <th>body_a</th>\n",
       "      <th>body_b</th>\n",
       "      <th>score</th>\n",
       "      <th>result</th>\n",
       "    </tr>\n",
       "  </thead>\n",
       "  <tbody>\n",
       "    <tr>\n",
       "      <th>0</th>\n",
       "      <td>1001794547</td>\n",
       "      <td>1001799164</td>\n",
       "      <td>939725093</td>\n",
       "      <td>939725093</td>\n",
       "      <td>13.023951</td>\n",
       "      <td>merge</td>\n",
       "    </tr>\n",
       "    <tr>\n",
       "      <th>1</th>\n",
       "      <td>1001794547</td>\n",
       "      <td>1001799164</td>\n",
       "      <td>939725093</td>\n",
       "      <td>939725093</td>\n",
       "      <td>13.023951</td>\n",
       "      <td>merge</td>\n",
       "    </tr>\n",
       "    <tr>\n",
       "      <th>2</th>\n",
       "      <td>1002473020</td>\n",
       "      <td>1033848591</td>\n",
       "      <td>878333234</td>\n",
       "      <td>1001794614</td>\n",
       "      <td>13.038699</td>\n",
       "      <td>dontMerge</td>\n",
       "    </tr>\n",
       "    <tr>\n",
       "      <th>3</th>\n",
       "      <td>1002843708</td>\n",
       "      <td>1260055739</td>\n",
       "      <td>1002507131</td>\n",
       "      <td>1002507131</td>\n",
       "      <td>13.063377</td>\n",
       "      <td>merge</td>\n",
       "    </tr>\n",
       "    <tr>\n",
       "      <th>4</th>\n",
       "      <td>1002843708</td>\n",
       "      <td>1353159845</td>\n",
       "      <td>1002507131</td>\n",
       "      <td>1002507131</td>\n",
       "      <td>13.011014</td>\n",
       "      <td>merge</td>\n",
       "    </tr>\n",
       "  </tbody>\n",
       "</table>\n",
       "</div>"
      ],
      "text/plain": [
       "         id_a        id_b      body_a      body_b      score     result\n",
       "0  1001794547  1001799164   939725093   939725093  13.023951      merge\n",
       "1  1001794547  1001799164   939725093   939725093  13.023951      merge\n",
       "2  1002473020  1033848591   878333234  1001794614  13.038699  dontMerge\n",
       "3  1002843708  1260055739  1002507131  1002507131  13.063377      merge\n",
       "4  1002843708  1353159845  1002507131  1002507131  13.011014      merge"
      ]
     },
     "execution_count": 34,
     "metadata": {},
     "output_type": "execute_result"
    }
   ],
   "source": [
    "assigned_it1_decisions[['id_a', 'id_b', 'body_a', 'body_b', 'score', 'result']].head()"
   ]
  },
  {
   "cell_type": "code",
   "execution_count": 35,
   "metadata": {},
   "outputs": [
    {
     "data": {
      "text/plain": [
       "<Figure size 360x360 with 0 Axes>"
      ]
     },
     "metadata": {},
     "output_type": "display_data"
    }
   ],
   "source": [
    "from matplotlib import pylab as plt\n",
    "plt.rcParams['figure.figsize'] = [5, 5]\n",
    "\n",
    "plt.subplots_adjust(top=1, bottom=0, wspace=None, hspace=None)\n",
    "#plt.clf()\n",
    "#plt.cla()\n",
    "#plt.close()"
   ]
  },
  {
   "cell_type": "code",
   "execution_count": 36,
   "metadata": {},
   "outputs": [
    {
     "data": {
      "text/plain": [
       "<matplotlib.axes._subplots.AxesSubplot at 0x2ac3a36c2ac8>"
      ]
     },
     "execution_count": 36,
     "metadata": {},
     "output_type": "execute_result"
    },
    {
     "data": {
      "image/png": "[encoded data removed]",
      "text/plain": [
       "<Figure size 360x360 with 1 Axes>"
      ]
     },
     "metadata": {},
     "output_type": "display_data"
    }
   ],
   "source": [
    "assigned_it1_decisions['result'].value_counts().plot(kind='pie')"
   ]
  },
  {
   "cell_type": "code",
   "execution_count": 37,
   "metadata": {},
   "outputs": [
    {
     "data": {
      "text/plain": [
       "<matplotlib.axes._subplots.AxesSubplot at 0x2ac3b1aff358>"
      ]
     },
     "execution_count": 37,
     "metadata": {},
     "output_type": "execute_result"
    },
    {
     "data": {
      "image/png": "[encoded data removed]",
      "text/plain": [
       "<Figure size 360x360 with 1 Axes>"
      ]
     },
     "metadata": {},
     "output_type": "display_data"
    }
   ],
   "source": [
    "assigned_it1_decisions['score'].hist()"
   ]
  },
  {
   "cell_type": "code",
   "execution_count": 38,
   "metadata": {},
   "outputs": [
    {
     "data": {
      "text/plain": [
       "<matplotlib.axes._subplots.AxesSubplot at 0x2ac3b1b3c160>"
      ]
     },
     "execution_count": 38,
     "metadata": {},
     "output_type": "execute_result"
    },
    {
     "data": {
      "image/png": "[encoded data removed]",
      "text/plain": [
       "<Figure size 360x360 with 1 Axes>"
      ]
     },
     "metadata": {},
     "output_type": "display_data"
    }
   ],
   "source": [
    "assigned_it1_decisions.query('score > 13.0 and score <= 13.1')['result'].value_counts().plot(kind='pie')"
   ]
  },
  {
   "cell_type": "code",
   "execution_count": 39,
   "metadata": {},
   "outputs": [
    {
     "data": {
      "text/plain": [
       "<matplotlib.axes._subplots.AxesSubplot at 0x2ac3b1bc4198>"
      ]
     },
     "execution_count": 39,
     "metadata": {},
     "output_type": "execute_result"
    },
    {
     "data": {
      "image/png": "[encoded data removed]",
      "text/plain": [
       "<Figure size 360x360 with 1 Axes>"
      ]
     },
     "metadata": {},
     "output_type": "display_data"
    }
   ],
   "source": [
    "assigned_it1_decisions.query('score > 13.1 and score <= 13.2')['result'].value_counts().plot(kind='pie')"
   ]
  },
  {
   "cell_type": "code",
   "execution_count": 40,
   "metadata": {},
   "outputs": [
    {
     "data": {
      "text/plain": [
       "<matplotlib.axes._subplots.AxesSubplot at 0x2ac3b1c11390>"
      ]
     },
     "execution_count": 40,
     "metadata": {},
     "output_type": "execute_result"
    },
    {
     "data": {
      "image/png": "[encoded data removed]",
      "text/plain": [
       "<Figure size 360x360 with 1 Axes>"
      ]
     },
     "metadata": {},
     "output_type": "display_data"
    }
   ],
   "source": [
    "assigned_it1_decisions.query('score > 13.2 and score <= 13.3')['result'].value_counts().plot(kind='pie')"
   ]
  },
  {
   "cell_type": "code",
   "execution_count": 41,
   "metadata": {},
   "outputs": [
    {
     "data": {
      "text/plain": [
       "<matplotlib.axes._subplots.AxesSubplot at 0x2ac3b1c5a668>"
      ]
     },
     "execution_count": 41,
     "metadata": {},
     "output_type": "execute_result"
    },
    {
     "data": {
      "image/png": "[encoded data removed]",
      "text/plain": [
       "<Figure size 360x360 with 1 Axes>"
      ]
     },
     "metadata": {},
     "output_type": "display_data"
    }
   ],
   "source": [
    "assigned_it1_decisions.query('score > 13.3 and score <= 13.4')['result'].value_counts().plot(kind='pie')"
   ]
  },
  {
   "cell_type": "code",
   "execution_count": 42,
   "metadata": {},
   "outputs": [
    {
     "data": {
      "text/plain": [
       "<matplotlib.axes._subplots.AxesSubplot at 0x2ac3b1ca5860>"
      ]
     },
     "execution_count": 42,
     "metadata": {},
     "output_type": "execute_result"
    },
    {
     "data": {
      "image/png": "[encoded data removed]",
      "text/plain": [
       "<Figure size 360x360 with 1 Axes>"
      ]
     },
     "metadata": {},
     "output_type": "display_data"
    }
   ],
   "source": [
    "assigned_it1_decisions.query('score > 13.4 and score <= 13.5')['result'].value_counts().plot(kind='pie')"
   ]
  },
  {
   "cell_type": "code",
   "execution_count": 43,
   "metadata": {},
   "outputs": [
    {
     "data": {
      "text/plain": [
       "<matplotlib.axes._subplots.AxesSubplot at 0x2ac3b1cf2a20>"
      ]
     },
     "execution_count": 43,
     "metadata": {},
     "output_type": "execute_result"
    },
    {
     "data": {
      "image/png": "[encoded data removed]",
      "text/plain": [
       "<Figure size 360x360 with 1 Axes>"
      ]
     },
     "metadata": {},
     "output_type": "display_data"
    }
   ],
   "source": [
    "assigned_it1_decisions.query('score > 13.5 and score <= 13.6')['result'].value_counts().plot(kind='pie')"
   ]
  },
  {
   "cell_type": "code",
   "execution_count": 44,
   "metadata": {},
   "outputs": [
    {
     "data": {
      "text/plain": [
       "<matplotlib.axes._subplots.AxesSubplot at 0x2ac3b1d3cf98>"
      ]
     },
     "execution_count": 44,
     "metadata": {},
     "output_type": "execute_result"
    },
    {
     "data": {
      "image/png": "[encoded data removed]",
      "text/plain": [
       "<Figure size 360x360 with 1 Axes>"
      ]
     },
     "metadata": {},
     "output_type": "display_data"
    }
   ],
   "source": [
    "assigned_it1_decisions.query('score > 13.6 and score <= 13.7')['result'].value_counts().plot(kind='pie')"
   ]
  },
  {
   "cell_type": "code",
   "execution_count": 45,
   "metadata": {},
   "outputs": [
    {
     "data": {
      "text/plain": [
       "<matplotlib.axes._subplots.AxesSubplot at 0x2ac3b1d8d358>"
      ]
     },
     "execution_count": 45,
     "metadata": {},
     "output_type": "execute_result"
    },
    {
     "data": {
      "image/png": "[encoded data removed]",
      "text/plain": [
       "<Figure size 360x360 with 1 Axes>"
      ]
     },
     "metadata": {},
     "output_type": "display_data"
    }
   ],
   "source": [
    "assigned_it1_decisions.query('score > 13.7 and score <= 13.8')['result'].value_counts().plot(kind='pie')"
   ]
  },
  {
   "cell_type": "code",
   "execution_count": 46,
   "metadata": {},
   "outputs": [
    {
     "data": {
      "text/plain": [
       "<matplotlib.axes._subplots.AxesSubplot at 0x2ac3b1dd5940>"
      ]
     },
     "execution_count": 46,
     "metadata": {},
     "output_type": "execute_result"
    },
    {
     "data": {
      "image/png": "[encoded data removed]",
      "text/plain": [
       "<Figure size 360x360 with 1 Axes>"
      ]
     },
     "metadata": {},
     "output_type": "display_data"
    }
   ],
   "source": [
    "assigned_it1_decisions.query('score > 13.8 and score <= 13.9')['result'].value_counts().plot(kind='pie')"
   ]
  },
  {
   "cell_type": "code",
   "execution_count": 47,
   "metadata": {},
   "outputs": [
    {
     "data": {
      "text/plain": [
       "<matplotlib.axes._subplots.AxesSubplot at 0x2ac3b1e21c88>"
      ]
     },
     "execution_count": 47,
     "metadata": {},
     "output_type": "execute_result"
    },
    {
     "data": {
      "image/png": "[encoded data removed]",
      "text/plain": [
       "<Figure size 360x360 with 1 Axes>"
      ]
     },
     "metadata": {},
     "output_type": "display_data"
    }
   ],
   "source": [
    "assigned_it1_decisions.query('score > 13.9 and score <= 14')['result'].value_counts().plot(kind='pie')"
   ]
  },
  {
   "cell_type": "markdown",
   "metadata": {},
   "source": [
    "#### New it1 edges"
   ]
  },
  {
   "cell_type": "code",
   "execution_count": 48,
   "metadata": {},
   "outputs": [],
   "source": [
    "unreviewed_it1_df = drop_previously_reviewed(it1_df, previous_focused_decisions)"
   ]
  },
  {
   "cell_type": "code",
   "execution_count": 49,
   "metadata": {},
   "outputs": [
    {
     "data": {
      "text/plain": [
       "<matplotlib.axes._subplots.AxesSubplot at 0x2ac3b1e73a58>"
      ]
     },
     "execution_count": 49,
     "metadata": {},
     "output_type": "execute_result"
    },
    {
     "data": {
      "image/png": "[encoded data removed]",
      "text/plain": [
       "<Figure size 360x360 with 1 Axes>"
      ]
     },
     "metadata": {},
     "output_type": "display_data"
    }
   ],
   "source": [
    "unreviewed_it1_df['score'].hist()"
   ]
  },
  {
   "cell_type": "code",
   "execution_count": 74,
   "metadata": {},
   "outputs": [
    {
     "name": "stdout",
     "output_type": "stream",
     "text": [
      "\n",
      "Previously assigned scores:\n"
     ]
    },
    {
     "data": {
      "image/png": "[encoded data removed]",
      "text/plain": [
       "<Figure size 360x360 with 1 Axes>"
      ]
     },
     "metadata": {},
     "output_type": "display_data"
    }
   ],
   "source": [
    "assigned_score_counts = assigned_it1_decisions['score'].round(1).value_counts()\n",
    "assigned_score_counts.index = list(map(lambda score: f'{score:.1f}', assigned_score_counts.index))\n",
    "assigned_score_counts.plot(kind='pie')\n",
    "print(\"\")\n",
    "print(\"Previously assigned scores:\")"
   ]
  },
  {
   "cell_type": "code",
   "execution_count": 58,
   "metadata": {},
   "outputs": [
    {
     "name": "stdout",
     "output_type": "stream",
     "text": [
      "\n",
      "New batch scores:\n"
     ]
    },
    {
     "data": {
      "image/png": "[encoded data removed]",
      "text/plain": [
       "<Figure size 360x360 with 1 Axes>"
      ]
     },
     "metadata": {},
     "output_type": "display_data"
    }
   ],
   "source": [
    "score_counts = unreviewed_it1_df['score'].round(1).value_counts()\n",
    "score_counts.index = list(map(lambda score: f'{score:.1f}', score_counts.index))\n",
    "score_counts.plot(kind='pie')\n",
    "print(\"\")\n",
    "print(\"New batch scores:\")"
   ]
  },
  {
   "cell_type": "code",
   "execution_count": 64,
   "metadata": {},
   "outputs": [],
   "source": [
    "from bokeh.io import show, output_notebook\n",
    "from bokeh.models import ColumnDataSource, FactorRange\n",
    "from bokeh.plotting import figure"
   ]
  },
  {
   "cell_type": "code",
   "execution_count": 237,
   "metadata": {},
   "outputs": [
    {
     "data": {
      "text/html": [
       "\n",
       "\n",
       "\n",
       "\n",
       "\n",
       "\n",
       "  <div class=\"bk-root\" id=\"85436e86-d7b9-41eb-8153-e345ec483ba2\"></div>\n"
      ]
     },
     "metadata": {},
     "output_type": "display_data"
    },
    {
     "data": {
      "application/javascript": [
       "(function(root) {\n",
       "  function embed_document(root) {\n",
       "    \n",
       "  var docs_json = {\"dec07e24-7f38-4863-8de6-19f1fb5ee11b\":{\"roots\":{\"references\":[{\"attributes\":{},\"id\":\"ba11a41c-0e57-42d8-9d6c-1931f0207ccf\",\"type\":\"Selection\"},{\"attributes\":{\"active_drag\":\"auto\",\"active_inspect\":\"auto\",\"active_multi\":null,\"active_scroll\":\"auto\",\"active_tap\":\"auto\",\"tools\":[{\"id\":\"35e906c9-1309-4609-a655-0e3d9fb18f24\",\"type\":\"PanTool\"},{\"id\":\"4cce3391-a07e-4e5e-8835-c8603f66a9c5\",\"type\":\"WheelZoomTool\"},{\"id\":\"00b762d7-388f-4212-ab7e-5c599fab4b28\",\"type\":\"BoxZoomTool\"},{\"id\":\"5a8f63bf-e990-42d2-926e-7b74708e0d05\",\"type\":\"SaveTool\"},{\"id\":\"9431aafe-33b3-407c-afad-58faf0978353\",\"type\":\"ResetTool\"},{\"id\":\"dfbe76fa-2eef-454a-8f2e-2d650b1b1e49\",\"type\":\"HelpTool\"}]},\"id\":\"5aa1be6c-3ae5-4dd5-a3eb-aeb90c09e841\",\"type\":\"Toolbar\"},{\"attributes\":{},\"id\":\"46dc0f4e-c201-4e87-992c-2190ec5bc6a5\",\"type\":\"BasicTickFormatter\"},{\"attributes\":{\"below\":[{\"id\":\"24283069-ec4b-44af-99ef-4880303d222f\",\"type\":\"LinearAxis\"}],\"left\":[{\"id\":\"b92d4311-3966-4bda-91a1-a201766aaf9c\",\"type\":\"CategoricalAxis\"}],\"plot_height\":300,\"renderers\":[{\"id\":\"24283069-ec4b-44af-99ef-4880303d222f\",\"type\":\"LinearAxis\"},{\"id\":\"11b23dcb-8ac0-4594-ad24-8735fc078091\",\"type\":\"Grid\"},{\"id\":\"b92d4311-3966-4bda-91a1-a201766aaf9c\",\"type\":\"CategoricalAxis\"},{\"id\":\"80e7d343-e2d4-42bf-95d2-afaea5a73edf\",\"type\":\"Grid\"},{\"id\":\"cb36c735-ce8b-4713-a144-c8630219572c\",\"type\":\"BoxAnnotation\"},{\"id\":\"a646786d-cd6d-4e17-9641-a9206a2eef58\",\"type\":\"GlyphRenderer\"},{\"id\":\"a71db5eb-8d6d-46fe-9b8f-d87754b24be5\",\"type\":\"GlyphRenderer\"}],\"title\":{\"id\":\"289f37a0-3ab9-4fe8-a893-7c8c86ccb5d2\",\"type\":\"Title\"},\"toolbar\":{\"id\":\"5aa1be6c-3ae5-4dd5-a3eb-aeb90c09e841\",\"type\":\"Toolbar\"},\"x_range\":{\"id\":\"bc441b1d-8d96-4cbf-8211-f58a658d5874\",\"type\":\"Range1d\"},\"x_scale\":{\"id\":\"48a92617-a133-4142-addf-600853d956d0\",\"type\":\"LinearScale\"},\"y_range\":{\"id\":\"055b2c81-1570-46f9-a99e-12784ff8d7b9\",\"type\":\"FactorRange\"},\"y_scale\":{\"id\":\"d1334a72-a15c-4460-b349-8a35a078fb53\",\"type\":\"CategoricalScale\"}},\"id\":\"aa71c003-b4f5-43a9-8099-faacb46e8a2e\",\"subtype\":\"Figure\",\"type\":\"Plot\"},{\"attributes\":{\"plot\":null,\"text\":\"(Don't) Merge Counts by Score\"},\"id\":\"289f37a0-3ab9-4fe8-a893-7c8c86ccb5d2\",\"type\":\"Title\"},{\"attributes\":{},\"id\":\"d1334a72-a15c-4460-b349-8a35a078fb53\",\"type\":\"CategoricalScale\"},{\"attributes\":{},\"id\":\"ac842832-0fce-4ca3-b7b6-dbed45636d29\",\"type\":\"CategoricalTickFormatter\"},{\"attributes\":{\"fill_color\":{\"value\":\"navy\"},\"height\":{\"value\":0.9},\"line_color\":{\"value\":\"navy\"},\"right\":{\"field\":\"right\"},\"y\":{\"field\":\"y\"}},\"id\":\"7b62b8fb-746c-4efa-998b-abdb5d118a1c\",\"type\":\"HBar\"},{\"attributes\":{\"fill_alpha\":{\"value\":0.1},\"fill_color\":{\"value\":\"#1f77b4\"},\"height\":{\"value\":0.9},\"line_alpha\":{\"value\":0.1},\"line_color\":{\"value\":\"#1f77b4\"},\"right\":{\"field\":\"right\"},\"y\":{\"field\":\"y\"}},\"id\":\"7f811f62-2435-458a-80c6-821dcd0c3011\",\"type\":\"HBar\"},{\"attributes\":{},\"id\":\"35e906c9-1309-4609-a655-0e3d9fb18f24\",\"type\":\"PanTool\"},{\"attributes\":{\"callback\":null,\"data\":{\"left\":[-5075,-2193,-613,-381,-202,-169,-186,-241,-309,-199],\"y\":[\"13.0\",\"13.1\",\"13.2\",\"13.3\",\"13.4\",\"13.5\",\"13.6\",\"13.7\",\"13.8\",\"13.9\"]},\"selected\":{\"id\":\"6db65fb9-debd-4370-b7f9-9c0d8c2b4045\",\"type\":\"Selection\"},\"selection_policy\":{\"id\":\"fedd2d27-4713-4aa0-be07-3e4b8b6908eb\",\"type\":\"UnionRenderers\"}},\"id\":\"c25f446b-c27b-456e-9fd4-10a86989658c\",\"type\":\"ColumnDataSource\"},{\"attributes\":{\"callback\":null,\"factors\":[\"13.9\",\"13.8\",\"13.7\",\"13.6\",\"13.5\",\"13.4\",\"13.3\",\"13.2\",\"13.1\",\"13.0\"]},\"id\":\"055b2c81-1570-46f9-a99e-12784ff8d7b9\",\"type\":\"FactorRange\"},{\"attributes\":{},\"id\":\"6db65fb9-debd-4370-b7f9-9c0d8c2b4045\",\"type\":\"Selection\"},{\"attributes\":{\"plot\":{\"id\":\"aa71c003-b4f5-43a9-8099-faacb46e8a2e\",\"subtype\":\"Figure\",\"type\":\"Plot\"},\"ticker\":{\"id\":\"7b88daea-36f3-4ceb-b007-f25d9fc0544c\",\"type\":\"BasicTicker\"}},\"id\":\"11b23dcb-8ac0-4594-ad24-8735fc078091\",\"type\":\"Grid\"},{\"attributes\":{},\"id\":\"48a92617-a133-4142-addf-600853d956d0\",\"type\":\"LinearScale\"},{\"attributes\":{\"formatter\":{\"id\":\"46dc0f4e-c201-4e87-992c-2190ec5bc6a5\",\"type\":\"BasicTickFormatter\"},\"plot\":{\"id\":\"aa71c003-b4f5-43a9-8099-faacb46e8a2e\",\"subtype\":\"Figure\",\"type\":\"Plot\"},\"ticker\":{\"id\":\"7b88daea-36f3-4ceb-b007-f25d9fc0544c\",\"type\":\"BasicTicker\"}},\"id\":\"24283069-ec4b-44af-99ef-4880303d222f\",\"type\":\"LinearAxis\"},{\"attributes\":{},\"id\":\"7b88daea-36f3-4ceb-b007-f25d9fc0544c\",\"type\":\"BasicTicker\"},{\"attributes\":{},\"id\":\"4cce3391-a07e-4e5e-8835-c8603f66a9c5\",\"type\":\"WheelZoomTool\"},{\"attributes\":{\"data_source\":{\"id\":\"76568da7-ec4d-473e-b3a8-02da55044358\",\"type\":\"ColumnDataSource\"},\"glyph\":{\"id\":\"7b62b8fb-746c-4efa-998b-abdb5d118a1c\",\"type\":\"HBar\"},\"hover_glyph\":null,\"muted_glyph\":null,\"nonselection_glyph\":{\"id\":\"7f811f62-2435-458a-80c6-821dcd0c3011\",\"type\":\"HBar\"},\"selection_glyph\":null,\"view\":{\"id\":\"d4403228-b8a3-43de-8cbe-b73ed561052f\",\"type\":\"CDSView\"}},\"id\":\"a646786d-cd6d-4e17-9641-a9206a2eef58\",\"type\":\"GlyphRenderer\"},{\"attributes\":{\"formatter\":{\"id\":\"ac842832-0fce-4ca3-b7b6-dbed45636d29\",\"type\":\"CategoricalTickFormatter\"},\"plot\":{\"id\":\"aa71c003-b4f5-43a9-8099-faacb46e8a2e\",\"subtype\":\"Figure\",\"type\":\"Plot\"},\"ticker\":{\"id\":\"67adf03e-976b-4b2c-9784-a4b42e3ed1a6\",\"type\":\"CategoricalTicker\"}},\"id\":\"b92d4311-3966-4bda-91a1-a201766aaf9c\",\"type\":\"CategoricalAxis\"},{\"attributes\":{\"dimension\":1,\"plot\":{\"id\":\"aa71c003-b4f5-43a9-8099-faacb46e8a2e\",\"subtype\":\"Figure\",\"type\":\"Plot\"},\"ticker\":{\"id\":\"67adf03e-976b-4b2c-9784-a4b42e3ed1a6\",\"type\":\"CategoricalTicker\"}},\"id\":\"80e7d343-e2d4-42bf-95d2-afaea5a73edf\",\"type\":\"Grid\"},{\"attributes\":{\"source\":{\"id\":\"76568da7-ec4d-473e-b3a8-02da55044358\",\"type\":\"ColumnDataSource\"}},\"id\":\"d4403228-b8a3-43de-8cbe-b73ed561052f\",\"type\":\"CDSView\"},{\"attributes\":{},\"id\":\"9431aafe-33b3-407c-afad-58faf0978353\",\"type\":\"ResetTool\"},{\"attributes\":{},\"id\":\"5a8f63bf-e990-42d2-926e-7b74708e0d05\",\"type\":\"SaveTool\"},{\"attributes\":{},\"id\":\"67adf03e-976b-4b2c-9784-a4b42e3ed1a6\",\"type\":\"CategoricalTicker\"},{\"attributes\":{\"overlay\":{\"id\":\"cb36c735-ce8b-4713-a144-c8630219572c\",\"type\":\"BoxAnnotation\"}},\"id\":\"00b762d7-388f-4212-ab7e-5c599fab4b28\",\"type\":\"BoxZoomTool\"},{\"attributes\":{\"callback\":null,\"end\":28249.100000000002,\"start\":-5582.5},\"id\":\"bc441b1d-8d96-4cbf-8211-f58a658d5874\",\"type\":\"Range1d\"},{\"attributes\":{\"bottom_units\":\"screen\",\"fill_alpha\":{\"value\":0.5},\"fill_color\":{\"value\":\"lightgrey\"},\"left_units\":\"screen\",\"level\":\"overlay\",\"line_alpha\":{\"value\":1.0},\"line_color\":{\"value\":\"black\"},\"line_dash\":[4,4],\"line_width\":{\"value\":2},\"plot\":null,\"render_mode\":\"css\",\"right_units\":\"screen\",\"top_units\":\"screen\"},\"id\":\"cb36c735-ce8b-4713-a144-c8630219572c\",\"type\":\"BoxAnnotation\"},{\"attributes\":{\"source\":{\"id\":\"c25f446b-c27b-456e-9fd4-10a86989658c\",\"type\":\"ColumnDataSource\"}},\"id\":\"69abe7a1-0f29-4773-8728-9df427413f0d\",\"type\":\"CDSView\"},{\"attributes\":{\"data_source\":{\"id\":\"c25f446b-c27b-456e-9fd4-10a86989658c\",\"type\":\"ColumnDataSource\"},\"glyph\":{\"id\":\"342206fd-1cdb-4b30-8c34-d00037aaae86\",\"type\":\"HBar\"},\"hover_glyph\":null,\"muted_glyph\":null,\"nonselection_glyph\":{\"id\":\"7905e1e9-2351-4988-b242-20d1ceb468cb\",\"type\":\"HBar\"},\"selection_glyph\":null,\"view\":{\"id\":\"69abe7a1-0f29-4773-8728-9df427413f0d\",\"type\":\"CDSView\"}},\"id\":\"a71db5eb-8d6d-46fe-9b8f-d87754b24be5\",\"type\":\"GlyphRenderer\"},{\"attributes\":{\"fill_color\":{\"value\":\"crimson\"},\"height\":{\"value\":0.9},\"left\":{\"field\":\"left\"},\"line_color\":{\"value\":\"crimson\"},\"right\":{\"value\":0},\"y\":{\"field\":\"y\"}},\"id\":\"342206fd-1cdb-4b30-8c34-d00037aaae86\",\"type\":\"HBar\"},{\"attributes\":{},\"id\":\"e3e37644-9a56-4aa7-b32f-092992cab36a\",\"type\":\"UnionRenderers\"},{\"attributes\":{\"callback\":null,\"data\":{\"right\":[25681,9762,2996,1940,1407,1162,941,818,684,276],\"y\":[\"13.0\",\"13.1\",\"13.2\",\"13.3\",\"13.4\",\"13.5\",\"13.6\",\"13.7\",\"13.8\",\"13.9\"]},\"selected\":{\"id\":\"ba11a41c-0e57-42d8-9d6c-1931f0207ccf\",\"type\":\"Selection\"},\"selection_policy\":{\"id\":\"e3e37644-9a56-4aa7-b32f-092992cab36a\",\"type\":\"UnionRenderers\"}},\"id\":\"76568da7-ec4d-473e-b3a8-02da55044358\",\"type\":\"ColumnDataSource\"},{\"attributes\":{\"fill_alpha\":{\"value\":0.1},\"fill_color\":{\"value\":\"#1f77b4\"},\"height\":{\"value\":0.9},\"left\":{\"field\":\"left\"},\"line_alpha\":{\"value\":0.1},\"line_color\":{\"value\":\"#1f77b4\"},\"right\":{\"value\":0},\"y\":{\"field\":\"y\"}},\"id\":\"7905e1e9-2351-4988-b242-20d1ceb468cb\",\"type\":\"HBar\"},{\"attributes\":{},\"id\":\"dfbe76fa-2eef-454a-8f2e-2d650b1b1e49\",\"type\":\"HelpTool\"},{\"attributes\":{},\"id\":\"fedd2d27-4713-4aa0-be07-3e4b8b6908eb\",\"type\":\"UnionRenderers\"}],\"root_ids\":[\"aa71c003-b4f5-43a9-8099-faacb46e8a2e\"]},\"title\":\"Bokeh Application\",\"version\":\"0.13.0\"}};\n",
       "  var render_items = [{\"docid\":\"dec07e24-7f38-4863-8de6-19f1fb5ee11b\",\"roots\":{\"aa71c003-b4f5-43a9-8099-faacb46e8a2e\":\"85436e86-d7b9-41eb-8153-e345ec483ba2\"}}];\n",
       "  root.Bokeh.embed.embed_items_notebook(docs_json, render_items);\n",
       "\n",
       "  }\n",
       "  if (root.Bokeh !== undefined) {\n",
       "    embed_document(root);\n",
       "  } else {\n",
       "    var attempts = 0;\n",
       "    var timer = setInterval(function(root) {\n",
       "      if (root.Bokeh !== undefined) {\n",
       "        embed_document(root);\n",
       "        clearInterval(timer);\n",
       "      }\n",
       "      attempts++;\n",
       "      if (attempts > 100) {\n",
       "        console.log(\"Bokeh: ERROR: Unable to run BokehJS code because BokehJS library is missing\")\n",
       "        clearInterval(timer);\n",
       "      }\n",
       "    }, 10, root)\n",
       "  }\n",
       "})(window);"
      ],
      "application/vnd.bokehjs_exec.v0+json": ""
     },
     "metadata": {
      "application/vnd.bokehjs_exec.v0+json": {
       "id": "aa71c003-b4f5-43a9-8099-faacb46e8a2e"
      }
     },
     "output_type": "display_data"
    },
    {
     "data": {
      "text/html": [
       "<div>\n",
       "<style scoped>\n",
       "    .dataframe tbody tr th:only-of-type {\n",
       "        vertical-align: middle;\n",
       "    }\n",
       "\n",
       "    .dataframe tbody tr th {\n",
       "        vertical-align: top;\n",
       "    }\n",
       "\n",
       "    .dataframe thead th {\n",
       "        text-align: right;\n",
       "    }\n",
       "</style>\n",
       "<table border=\"1\" class=\"dataframe\">\n",
       "  <thead>\n",
       "    <tr style=\"text-align: right;\">\n",
       "      <th></th>\n",
       "      <th>ratio</th>\n",
       "    </tr>\n",
       "    <tr>\n",
       "      <th>score</th>\n",
       "      <th></th>\n",
       "    </tr>\n",
       "  </thead>\n",
       "  <tbody>\n",
       "    <tr>\n",
       "      <th>13.0</th>\n",
       "      <td>0.834992</td>\n",
       "    </tr>\n",
       "    <tr>\n",
       "      <th>13.1</th>\n",
       "      <td>0.816562</td>\n",
       "    </tr>\n",
       "    <tr>\n",
       "      <th>13.2</th>\n",
       "      <td>0.830147</td>\n",
       "    </tr>\n",
       "    <tr>\n",
       "      <th>13.3</th>\n",
       "      <td>0.835847</td>\n",
       "    </tr>\n",
       "    <tr>\n",
       "      <th>13.4</th>\n",
       "      <td>0.874456</td>\n",
       "    </tr>\n",
       "    <tr>\n",
       "      <th>13.5</th>\n",
       "      <td>0.873028</td>\n",
       "    </tr>\n",
       "    <tr>\n",
       "      <th>13.6</th>\n",
       "      <td>0.834960</td>\n",
       "    </tr>\n",
       "    <tr>\n",
       "      <th>13.7</th>\n",
       "      <td>0.772427</td>\n",
       "    </tr>\n",
       "    <tr>\n",
       "      <th>13.8</th>\n",
       "      <td>0.688822</td>\n",
       "    </tr>\n",
       "    <tr>\n",
       "      <th>13.9</th>\n",
       "      <td>0.581053</td>\n",
       "    </tr>\n",
       "  </tbody>\n",
       "</table>\n",
       "</div>"
      ],
      "text/plain": [
       "          ratio\n",
       "score          \n",
       "13.0   0.834992\n",
       "13.1   0.816562\n",
       "13.2   0.830147\n",
       "13.3   0.835847\n",
       "13.4   0.874456\n",
       "13.5   0.873028\n",
       "13.6   0.834960\n",
       "13.7   0.772427\n",
       "13.8   0.688822\n",
       "13.9   0.581053"
      ]
     },
     "execution_count": 237,
     "metadata": {},
     "output_type": "execute_result"
    }
   ],
   "source": [
    "assigned_merge_counts = (assigned_it1_decisions.query('result == \"merge\" or result == \"mergeLater\"')['score']\n",
    "                          .round(1).apply(lambda v: f'{v:.1f}').value_counts())\n",
    "assigned_merge_counts.index.name = 'score'\n",
    "assigned_merge_counts.name = 'count'\n",
    "assigned_merge_counts = pd.DataFrame(assigned_merge_counts).reset_index()\n",
    "assigned_merge_counts.sort_values('score', inplace=True)\n",
    "assigned_merge_counts.query('score != \"nan\"', inplace=True)\n",
    "\n",
    "\n",
    "assigned_dontmerge_counts = (assigned_it1_decisions.query('result == \"dontMerge\"')['score']\n",
    "                          .round(1).apply(lambda v: f'{v:.1f}').value_counts())\n",
    "assigned_dontmerge_counts.index.name = 'score'\n",
    "assigned_dontmerge_counts.name = 'count'\n",
    "assigned_dontmerge_counts = pd.DataFrame(assigned_dontmerge_counts).reset_index()\n",
    "assigned_dontmerge_counts.sort_values('score', inplace=True)\n",
    "assigned_dontmerge_counts.query('score != \"nan\"', inplace=True)\n",
    "\n",
    "merge_max = assigned_merge_counts['count'].max()\n",
    "dontmerge_max = assigned_dontmerge_counts['count'].max()\n",
    "\n",
    "p = figure( y_range=assigned_merge_counts['score'][::-1],\n",
    "            plot_height=300,\n",
    "            x_range=(-dontmerge_max*1.1, merge_max*1.1),\n",
    "            title=\"(Don't) Merge Counts by Score\" )\n",
    "\n",
    "p.hbar(assigned_merge_counts['score'],\n",
    "       0.9,\n",
    "       assigned_merge_counts['count'],\n",
    "       color='navy')\n",
    "\n",
    "p.hbar(assigned_dontmerge_counts['score'],\n",
    "       0.9,\n",
    "       0,\n",
    "       -assigned_dontmerge_counts['count'],\n",
    "       color='crimson')\n",
    "\n",
    "show(p)\n",
    "\n",
    "merge_count_table = assigned_merge_counts.merge(assigned_dontmerge_counts,\n",
    "                                                how='outer', on='score', suffixes=['_merge', '_dontMerge'])\n",
    "merge_count_table['ratio'] = merge_count_table['count_merge'] / ( merge_count_table['count_merge'] + merge_count_table['count_dontMerge'] )\n",
    "merge_count_table[['score', 'ratio']].set_index('score')"
   ]
  },
  {
   "cell_type": "code",
   "execution_count": 372,
   "metadata": {},
   "outputs": [
    {
     "data": {
      "text/plain": [
       "(95278, 4)"
      ]
     },
     "execution_count": 372,
     "metadata": {},
     "output_type": "execute_result"
    }
   ],
   "source": [
    "focused_bodies_table.query('PreSyn == 2')"
   ]
  },
  {
   "cell_type": "code",
   "execution_count": 373,
   "metadata": {},
   "outputs": [
    {
     "data": {
      "text/plain": [
       "589778"
      ]
     },
     "execution_count": 373,
     "metadata": {},
     "output_type": "execute_result"
    }
   ],
   "source": [
    "len(focused_bodies_table)"
   ]
  },
  {
   "cell_type": "code",
   "execution_count": 238,
   "metadata": {},
   "outputs": [
    {
     "data": {
      "text/html": [
       "<div>\n",
       "<style scoped>\n",
       "    .dataframe tbody tr th:only-of-type {\n",
       "        vertical-align: middle;\n",
       "    }\n",
       "\n",
       "    .dataframe tbody tr th {\n",
       "        vertical-align: top;\n",
       "    }\n",
       "\n",
       "    .dataframe thead th {\n",
       "        text-align: right;\n",
       "    }\n",
       "</style>\n",
       "<table border=\"1\" class=\"dataframe\">\n",
       "  <thead>\n",
       "    <tr style=\"text-align: right;\">\n",
       "      <th></th>\n",
       "      <th>voxel_count</th>\n",
       "      <th>PostSyn</th>\n",
       "      <th>PreSyn</th>\n",
       "    </tr>\n",
       "    <tr>\n",
       "      <th>body</th>\n",
       "      <th></th>\n",
       "      <th></th>\n",
       "      <th></th>\n",
       "    </tr>\n",
       "  </thead>\n",
       "  <tbody>\n",
       "    <tr>\n",
       "      <th>1497973422</th>\n",
       "      <td>11823856010</td>\n",
       "      <td>8308.0</td>\n",
       "      <td>65.0</td>\n",
       "    </tr>\n",
       "    <tr>\n",
       "      <th>5813024096</th>\n",
       "      <td>10992947053</td>\n",
       "      <td>7393.0</td>\n",
       "      <td>111.0</td>\n",
       "    </tr>\n",
       "    <tr>\n",
       "      <th>262840563</th>\n",
       "      <td>10356857879</td>\n",
       "      <td>716.0</td>\n",
       "      <td>615.0</td>\n",
       "    </tr>\n",
       "    <tr>\n",
       "      <th>263199096</th>\n",
       "      <td>9677149202</td>\n",
       "      <td>51.0</td>\n",
       "      <td>36.0</td>\n",
       "    </tr>\n",
       "    <tr>\n",
       "      <th>262504004</th>\n",
       "      <td>8350396028</td>\n",
       "      <td>215.0</td>\n",
       "      <td>326.0</td>\n",
       "    </tr>\n",
       "  </tbody>\n",
       "</table>\n",
       "</div>"
      ],
      "text/plain": [
       "            voxel_count  PostSyn  PreSyn\n",
       "body                                    \n",
       "1497973422  11823856010   8308.0    65.0\n",
       "5813024096  10992947053   7393.0   111.0\n",
       "262840563   10356857879    716.0   615.0\n",
       "263199096    9677149202     51.0    36.0\n",
       "262504004    8350396028    215.0   326.0"
      ]
     },
     "execution_count": 238,
     "metadata": {},
     "output_type": "execute_result"
    }
   ],
   "source": [
    "focused_bodies_table.head()"
   ]
  },
  {
   "cell_type": "code",
   "execution_count": 267,
   "metadata": {},
   "outputs": [],
   "source": [
    "#filtered_tbar_bodies_table = focused_bodies_table.query('(PreSyn + PostSyn) < 100')"
   ]
  },
  {
   "cell_type": "code",
   "execution_count": 312,
   "metadata": {},
   "outputs": [],
   "source": [
    "it1_decisions_a = assigned_it1_decisions.merge(focused_bodies_table,\n",
    "                                               how='inner', left_on='body_a', right_index=True)\n",
    "\n",
    "it1_decisions_b = assigned_it1_decisions.merge(focused_bodies_table,\n",
    "                                               how='inner', left_on='body_b', right_index=True)\n",
    "\n",
    "it1_decisions = pd.concat((it1_decisions_a, it1_decisions_b))\n",
    "it1_decisions['TotalSyn'] = it1_decisions.eval('PreSyn + PostSyn')"
   ]
  },
  {
   "cell_type": "code",
   "execution_count": 271,
   "metadata": {},
   "outputs": [],
   "source": [
    "small_it1_decisions_a['TotalSyn'] = small_it1_decisions_a.eval('PreSyn + PostSyn')"
   ]
  },
  {
   "cell_type": "code",
   "execution_count": 378,
   "metadata": {},
   "outputs": [
    {
     "name": "stdout",
     "output_type": "stream",
     "text": [
      "h09u03.int.janelia.org\r\n"
     ]
    }
   ],
   "source": [
    "!uname -n"
   ]
  },
  {
   "cell_type": "code",
   "execution_count": 342,
   "metadata": {},
   "outputs": [],
   "source": [
    "def show_merge_ratios(decisions_table, binned_column, bin_size, num_bins, show_ratio=False):\n",
    "    bin_range = (0, bin_size*num_bins)\n",
    "\n",
    "    merged_decisions = decisions_table.query('result == \"merge\" or result == \"mergeLater\"')\n",
    "    merged_syncounts = merged_decisions[binned_column]\n",
    "    merged_bincounts, merged_bins = np.histogram(merged_syncounts.values, num_bins, range=bin_range)\n",
    "\n",
    "    notmerged_decisions = decisions_table.query('result == \"dontMerge\"')\n",
    "    notmerged_syncounts = notmerged_decisions[binned_column]\n",
    "    notmerged_bincounts, notmerged_bins = np.histogram(notmerged_syncounts.values, num_bins, range=bin_range)\n",
    "\n",
    "    merged_data = merged_bincounts\n",
    "    not_merged_data = notmerged_bincounts\n",
    "    \n",
    "    if show_ratio:\n",
    "        merged_ratio = merged_bincounts / (merged_bincounts + notmerged_bincounts)\n",
    "        notmerged_ratio = notmerged_bincounts / (merged_bincounts + notmerged_bincounts)\n",
    "\n",
    "        merged_ratio = np.nan_to_num(merged_ratio)\n",
    "        notmerged_ratio = np.nan_to_num(notmerged_ratio)\n",
    "        \n",
    "        merged_data = merged_ratio\n",
    "        not_merged_data = notmerged_ratio\n",
    "\n",
    "    label = {True: \"Ratio\", False: \"Counts\"}[show_ratio]\n",
    "    p = figure( y_range=bin_range,\n",
    "                plot_height=400,\n",
    "                x_range=(-1.05*not_merged_data.max(), 1.05*merged_data.max()),\n",
    "                title=f\"(Don't) Merge {label} by {binned_column}\",\n",
    "                x_axis_label=f\"Decision {label} (Don't Merge/Merge)\",\n",
    "                y_axis_label=f\"{binned_column} (bin = {bin_size})\")\n",
    "\n",
    "    p.hbar((merged_bins[:-1] + merged_bins[1:])/2,\n",
    "           bin_size*0.9,\n",
    "           merged_data,\n",
    "           0,\n",
    "           color='navy')\n",
    "\n",
    "    p.hbar((merged_bins[:-1] + merged_bins[1:])/2,\n",
    "           bin_size*0.9,\n",
    "           0,\n",
    "           -not_merged_data,\n",
    "           color='crimson')\n",
    "\n",
    "    show(p)"
   ]
  },
  {
   "cell_type": "code",
   "execution_count": 345,
   "metadata": {
    "scrolled": false
   },
   "outputs": [
    {
     "data": {
      "text/html": [
       "\n",
       "\n",
       "\n",
       "\n",
       "\n",
       "\n",
       "  <div class=\"bk-root\" id=\"b543829a-cafe-44a8-b9e5-6b2a55c1c00a\"></div>\n"
      ]
     },
     "metadata": {},
     "output_type": "display_data"
    },
    {
     "data": {
      "application/javascript": [
       "(function(root) {\n",
       "  function embed_document(root) {\n",
       "    \n",
       "  var docs_json = {\"adb43259-599d-417f-8d08-08576a74a9d0\":{\"roots\":{\"references\":[{\"attributes\":{\"axis_label\":\"Decision Ratio (Don't Merge/Merge)\",\"formatter\":{\"id\":\"2e673bd6-7013-4ce4-8ece-0e9cb216a017\",\"type\":\"BasicTickFormatter\"},\"plot\":{\"id\":\"78fb7edb-9a65-4e84-9b37-ba813097773b\",\"subtype\":\"Figure\",\"type\":\"Plot\"},\"ticker\":{\"id\":\"dc1baad4-9d8c-4c59-ba41-108c24018a8b\",\"type\":\"BasicTicker\"}},\"id\":\"30580765-3005-42f8-b984-973e47e4b951\",\"type\":\"LinearAxis\"},{\"attributes\":{},\"id\":\"211778c8-c367-469f-9a5d-a5088d9dca39\",\"type\":\"SaveTool\"},{\"attributes\":{},\"id\":\"e5809a05-55d4-4b30-b45b-0ed8d6b78bd2\",\"type\":\"UnionRenderers\"},{\"attributes\":{\"data_source\":{\"id\":\"826419a9-11a5-411f-90cb-3d6d37e5326e\",\"type\":\"ColumnDataSource\"},\"glyph\":{\"id\":\"f5bb5f49-e3b8-4ec0-acb7-f856efd399df\",\"type\":\"HBar\"},\"hover_glyph\":null,\"muted_glyph\":null,\"nonselection_glyph\":{\"id\":\"49d93619-6ec9-42a4-b09e-6cf81f030be1\",\"type\":\"HBar\"},\"selection_glyph\":null,\"view\":{\"id\":\"acf8fbab-c185-409b-9550-4a95821f46d0\",\"type\":\"CDSView\"}},\"id\":\"424081ac-b30d-46a3-bc78-d2080497f1cf\",\"type\":\"GlyphRenderer\"},{\"attributes\":{},\"id\":\"2120303f-a0de-43e9-bbf2-bf3e2262d4c3\",\"type\":\"Selection\"},{\"attributes\":{\"callback\":null,\"end\":50},\"id\":\"3af104ae-73fa-4a32-bc5e-ee8342d8c1dc\",\"type\":\"Range1d\"},{\"attributes\":{},\"id\":\"d8727261-1378-4169-8619-74f70efc0750\",\"type\":\"UnionRenderers\"},{\"attributes\":{\"callback\":null,\"end\":0.9645348837209302,\"start\":-0.957016348773842},\"id\":\"02173adf-3f67-4f26-ac43-f3b9d6ba65c6\",\"type\":\"Range1d\"},{\"attributes\":{},\"id\":\"9f07aa8d-37cc-40d2-889a-ca8dbcfb89cb\",\"type\":\"HelpTool\"},{\"attributes\":{},\"id\":\"31ad7ff5-9bc3-48eb-b7f1-41d73873cd11\",\"type\":\"LinearScale\"},{\"attributes\":{},\"id\":\"8cf80ccb-8c53-4d96-b130-df5b58b1a4b8\",\"type\":\"BasicTickFormatter\"},{\"attributes\":{},\"id\":\"dc1baad4-9d8c-4c59-ba41-108c24018a8b\",\"type\":\"BasicTicker\"},{\"attributes\":{\"overlay\":{\"id\":\"8d170c83-907c-434e-bab4-c8c166eec4c8\",\"type\":\"BoxAnnotation\"}},\"id\":\"168059cb-989c-4bc1-beca-f093c408b515\",\"type\":\"BoxZoomTool\"},{\"attributes\":{\"source\":{\"id\":\"826419a9-11a5-411f-90cb-3d6d37e5326e\",\"type\":\"ColumnDataSource\"}},\"id\":\"acf8fbab-c185-409b-9550-4a95821f46d0\",\"type\":\"CDSView\"},{\"attributes\":{\"fill_alpha\":{\"value\":0.1},\"fill_color\":{\"value\":\"#1f77b4\"},\"height\":{\"value\":0.9},\"left\":{\"field\":\"left\"},\"line_alpha\":{\"value\":0.1},\"line_color\":{\"value\":\"#1f77b4\"},\"right\":{\"value\":0},\"y\":{\"field\":\"y\"}},\"id\":\"76cd593d-b4f8-4818-97d2-f68680f5cb31\",\"type\":\"HBar\"},{\"attributes\":{},\"id\":\"26f56123-dba6-41c8-844d-87a96013adde\",\"type\":\"Selection\"},{\"attributes\":{\"callback\":null,\"data\":{\"left\":{\"__ndarray__\":\"2NfX19fX57+1tLS0tLTkv5C77UznH+y/BvmV54wq7b+fbOsMY/fVv4wK/6LCv9C/4w0rWNUJzL/yjgG7qBfHvxtHrMWnAMi/qS3KexYZw7/XHFz4dKPDv3IiGSeSccK/g3pNZKkZwL+kyAVy7FnBv5wz0Co+TLy/ZIDyacO9ub9Q0p5FoAO7v5/bM9yqJ7m/t8Sp33NLvL9hGQ6W4WC5vzGeHa2KLLq/zHq/rPfLur/n8UoTVmy+v/wtnCPxZLi/5ktUF3PiuL/ONPnNSWW4v61eNxbbm7i/uaUB45dbur9Kn/RJn/S5v57YiZ3Yib2/OY7jOI7juL8WJPHY07e9vx6uZQ7gfra/SLnACjJVtr/gpIFs+U26v1tA2GNRZLy/t2vlhGf6u78AAAAAAIC8v3qhF3qhF7q/NmVNWVPWtL+0the82QS1v1Y5JsSCrL2/rbegDKv1tr/xiKQGR4G3v3ztzE/T5bi/dcL40TbKt79USfAn5c68v7GRDhvpsMG/LnKdCRg8tr9ztB/uMp+4vw==\",\"dtype\":\"float64\",\"shape\":[50]},\"y\":{\"__ndarray__\":\"AAAAAAAA4D8AAAAAAAD4PwAAAAAAAARAAAAAAAAADEAAAAAAAAASQAAAAAAAABZAAAAAAAAAGkAAAAAAAAAeQAAAAAAAACFAAAAAAAAAI0AAAAAAAAAlQAAAAAAAACdAAAAAAAAAKUAAAAAAAAArQAAAAAAAAC1AAAAAAAAAL0AAAAAAAIAwQAAAAAAAgDFAAAAAAACAMkAAAAAAAIAzQAAAAAAAgDRAAAAAAACANUAAAAAAAIA2QAAAAAAAgDdAAAAAAACAOEAAAAAAAIA5QAAAAAAAgDpAAAAAAACAO0AAAAAAAIA8QAAAAAAAgD1AAAAAAACAPkAAAAAAAIA/QAAAAAAAQEBAAAAAAADAQEAAAAAAAEBBQAAAAAAAwEFAAAAAAABAQkAAAAAAAMBCQAAAAAAAQENAAAAAAADAQ0AAAAAAAEBEQAAAAAAAwERAAAAAAABARUAAAAAAAMBFQAAAAAAAQEZAAAAAAADARkAAAAAAAEBHQAAAAAAAwEdAAAAAAABASEAAAAAAAMBIQA==\",\"dtype\":\"float64\",\"shape\":[50]}},\"selected\":{\"id\":\"2120303f-a0de-43e9-bbf2-bf3e2262d4c3\",\"type\":\"Selection\"},\"selection_policy\":{\"id\":\"d8727261-1378-4169-8619-74f70efc0750\",\"type\":\"UnionRenderers\"}},\"id\":\"7a4d72d6-af1d-4e33-990a-aaeaa9f250c6\",\"type\":\"ColumnDataSource\"},{\"attributes\":{\"below\":[{\"id\":\"30580765-3005-42f8-b984-973e47e4b951\",\"type\":\"LinearAxis\"}],\"left\":[{\"id\":\"8e483eb1-7ade-4775-a420-f8b98f738679\",\"type\":\"LinearAxis\"}],\"plot_height\":400,\"renderers\":[{\"id\":\"30580765-3005-42f8-b984-973e47e4b951\",\"type\":\"LinearAxis\"},{\"id\":\"6e458fde-3f50-4077-98d9-9fc9a5d5c7c9\",\"type\":\"Grid\"},{\"id\":\"8e483eb1-7ade-4775-a420-f8b98f738679\",\"type\":\"LinearAxis\"},{\"id\":\"2118f515-d026-4080-895c-b0c43702d2bd\",\"type\":\"Grid\"},{\"id\":\"8d170c83-907c-434e-bab4-c8c166eec4c8\",\"type\":\"BoxAnnotation\"},{\"id\":\"424081ac-b30d-46a3-bc78-d2080497f1cf\",\"type\":\"GlyphRenderer\"},{\"id\":\"0f4bcfe2-db4c-4620-9e21-4e221124fb88\",\"type\":\"GlyphRenderer\"}],\"title\":{\"id\":\"fa5002f4-4de0-4a5a-9217-53672a29dcc2\",\"type\":\"Title\"},\"toolbar\":{\"id\":\"cdf66be0-4069-47af-9b76-dac342d1b31a\",\"type\":\"Toolbar\"},\"x_range\":{\"id\":\"02173adf-3f67-4f26-ac43-f3b9d6ba65c6\",\"type\":\"Range1d\"},\"x_scale\":{\"id\":\"e38f6203-3b1c-48e8-9c89-bace1d32c0bb\",\"type\":\"LinearScale\"},\"y_range\":{\"id\":\"3af104ae-73fa-4a32-bc5e-ee8342d8c1dc\",\"type\":\"Range1d\"},\"y_scale\":{\"id\":\"31ad7ff5-9bc3-48eb-b7f1-41d73873cd11\",\"type\":\"LinearScale\"}},\"id\":\"78fb7edb-9a65-4e84-9b37-ba813097773b\",\"subtype\":\"Figure\",\"type\":\"Plot\"},{\"attributes\":{\"source\":{\"id\":\"7a4d72d6-af1d-4e33-990a-aaeaa9f250c6\",\"type\":\"ColumnDataSource\"}},\"id\":\"3898825d-2863-40d7-964a-1c4b1521ac87\",\"type\":\"CDSView\"},{\"attributes\":{\"plot\":{\"id\":\"78fb7edb-9a65-4e84-9b37-ba813097773b\",\"subtype\":\"Figure\",\"type\":\"Plot\"},\"ticker\":{\"id\":\"dc1baad4-9d8c-4c59-ba41-108c24018a8b\",\"type\":\"BasicTicker\"}},\"id\":\"6e458fde-3f50-4077-98d9-9fc9a5d5c7c9\",\"type\":\"Grid\"},{\"attributes\":{\"fill_color\":{\"value\":\"navy\"},\"height\":{\"value\":0.9},\"line_color\":{\"value\":\"navy\"},\"right\":{\"field\":\"right\"},\"y\":{\"field\":\"y\"}},\"id\":\"f5bb5f49-e3b8-4ec0-acb7-f856efd399df\",\"type\":\"HBar\"},{\"attributes\":{\"axis_label\":\"PreSyn (bin = 1)\",\"formatter\":{\"id\":\"8cf80ccb-8c53-4d96-b130-df5b58b1a4b8\",\"type\":\"BasicTickFormatter\"},\"plot\":{\"id\":\"78fb7edb-9a65-4e84-9b37-ba813097773b\",\"subtype\":\"Figure\",\"type\":\"Plot\"},\"ticker\":{\"id\":\"f5ef62b1-fb6d-47b1-bd77-08772fffdd77\",\"type\":\"BasicTicker\"}},\"id\":\"8e483eb1-7ade-4775-a420-f8b98f738679\",\"type\":\"LinearAxis\"},{\"attributes\":{},\"id\":\"ea17822b-9e1a-4e35-a806-04f70ab47e63\",\"type\":\"WheelZoomTool\"},{\"attributes\":{},\"id\":\"c35420c6-3488-447d-be7e-0d4dc518f15b\",\"type\":\"ResetTool\"},{\"attributes\":{\"fill_alpha\":{\"value\":0.1},\"fill_color\":{\"value\":\"#1f77b4\"},\"height\":{\"value\":0.9},\"line_alpha\":{\"value\":0.1},\"line_color\":{\"value\":\"#1f77b4\"},\"right\":{\"field\":\"right\"},\"y\":{\"field\":\"y\"}},\"id\":\"49d93619-6ec9-42a4-b09e-6cf81f030be1\",\"type\":\"HBar\"},{\"attributes\":{},\"id\":\"f5ef62b1-fb6d-47b1-bd77-08772fffdd77\",\"type\":\"BasicTicker\"},{\"attributes\":{\"callback\":null,\"data\":{\"right\":{\"__ndarray__\":\"UFBQUFBQ0D+XlpaWlpbWP4EjkpjFAL8/zjdQw5irtj+xSYp5TgTlP7p6gK4eoOc/hzz1qYr96D9DnD/RFTrqPznulA7W/+k/lnQNYbo56z/K+OjBIhfrP2S3OXabY+s/X6HsppX56z/XjX7jhKnrP4z5pTp4duw/86/BkkfI7D+2JUz3i5/sP4yEeaQK2+w/accKhJF27D/UPD7N49PsPzpMXKpuuuw/pxBoCoGm7D/DoZY9dTLsP0B6jNth8+w/g3YVnbHj7D9m2UDGVvPsPyoUOZ2E7Ow/ScufA4207D8XbMEWbMHsP+zETuzETuw/OY7jOI7j7D992+GEBUnsPzxKM/4jMO0/1+invlk17T9ky2/SQLbsP/X3hNN1c+w/iVJjD7OA7D8AAAAAAHDsP9ELvdALvew/WVPWlDVl7T8pCX3IZF/tP9U4e6dvSuw/Culrnkoh7T/ibisf1w/tP1BiBpZF4+w/sefAJbkG7T/V9gFbI2bsP5RbPLnFk+s/ulHM/nw47T9yCTyiGezsPw==\",\"dtype\":\"float64\",\"shape\":[50]},\"y\":{\"__ndarray__\":\"AAAAAAAA4D8AAAAAAAD4PwAAAAAAAARAAAAAAAAADEAAAAAAAAASQAAAAAAAABZAAAAAAAAAGkAAAAAAAAAeQAAAAAAAACFAAAAAAAAAI0AAAAAAAAAlQAAAAAAAACdAAAAAAAAAKUAAAAAAAAArQAAAAAAAAC1AAAAAAAAAL0AAAAAAAIAwQAAAAAAAgDFAAAAAAACAMkAAAAAAAIAzQAAAAAAAgDRAAAAAAACANUAAAAAAAIA2QAAAAAAAgDdAAAAAAACAOEAAAAAAAIA5QAAAAAAAgDpAAAAAAACAO0AAAAAAAIA8QAAAAAAAgD1AAAAAAACAPkAAAAAAAIA/QAAAAAAAQEBAAAAAAADAQEAAAAAAAEBBQAAAAAAAwEFAAAAAAABAQkAAAAAAAMBCQAAAAAAAQENAAAAAAADAQ0AAAAAAAEBEQAAAAAAAwERAAAAAAABARUAAAAAAAMBFQAAAAAAAQEZAAAAAAADARkAAAAAAAEBHQAAAAAAAwEdAAAAAAABASEAAAAAAAMBIQA==\",\"dtype\":\"float64\",\"shape\":[50]}},\"selected\":{\"id\":\"26f56123-dba6-41c8-844d-87a96013adde\",\"type\":\"Selection\"},\"selection_policy\":{\"id\":\"e5809a05-55d4-4b30-b45b-0ed8d6b78bd2\",\"type\":\"UnionRenderers\"}},\"id\":\"826419a9-11a5-411f-90cb-3d6d37e5326e\",\"type\":\"ColumnDataSource\"},{\"attributes\":{\"bottom_units\":\"screen\",\"fill_alpha\":{\"value\":0.5},\"fill_color\":{\"value\":\"lightgrey\"},\"left_units\":\"screen\",\"level\":\"overlay\",\"line_alpha\":{\"value\":1.0},\"line_color\":{\"value\":\"black\"},\"line_dash\":[4,4],\"line_width\":{\"value\":2},\"plot\":null,\"render_mode\":\"css\",\"right_units\":\"screen\",\"top_units\":\"screen\"},\"id\":\"8d170c83-907c-434e-bab4-c8c166eec4c8\",\"type\":\"BoxAnnotation\"},{\"attributes\":{},\"id\":\"9d2f6165-5e73-463d-b03c-a475d24f7526\",\"type\":\"PanTool\"},{\"attributes\":{\"dimension\":1,\"plot\":{\"id\":\"78fb7edb-9a65-4e84-9b37-ba813097773b\",\"subtype\":\"Figure\",\"type\":\"Plot\"},\"ticker\":{\"id\":\"f5ef62b1-fb6d-47b1-bd77-08772fffdd77\",\"type\":\"BasicTicker\"}},\"id\":\"2118f515-d026-4080-895c-b0c43702d2bd\",\"type\":\"Grid\"},{\"attributes\":{\"plot\":null,\"text\":\"(Don't) Merge Ratio by PreSyn\"},\"id\":\"fa5002f4-4de0-4a5a-9217-53672a29dcc2\",\"type\":\"Title\"},{\"attributes\":{},\"id\":\"2e673bd6-7013-4ce4-8ece-0e9cb216a017\",\"type\":\"BasicTickFormatter\"},{\"attributes\":{\"active_drag\":\"auto\",\"active_inspect\":\"auto\",\"active_multi\":null,\"active_scroll\":\"auto\",\"active_tap\":\"auto\",\"tools\":[{\"id\":\"9d2f6165-5e73-463d-b03c-a475d24f7526\",\"type\":\"PanTool\"},{\"id\":\"ea17822b-9e1a-4e35-a806-04f70ab47e63\",\"type\":\"WheelZoomTool\"},{\"id\":\"168059cb-989c-4bc1-beca-f093c408b515\",\"type\":\"BoxZoomTool\"},{\"id\":\"211778c8-c367-469f-9a5d-a5088d9dca39\",\"type\":\"SaveTool\"},{\"id\":\"c35420c6-3488-447d-be7e-0d4dc518f15b\",\"type\":\"ResetTool\"},{\"id\":\"9f07aa8d-37cc-40d2-889a-ca8dbcfb89cb\",\"type\":\"HelpTool\"}]},\"id\":\"cdf66be0-4069-47af-9b76-dac342d1b31a\",\"type\":\"Toolbar\"},{\"attributes\":{},\"id\":\"e38f6203-3b1c-48e8-9c89-bace1d32c0bb\",\"type\":\"LinearScale\"},{\"attributes\":{\"fill_color\":{\"value\":\"crimson\"},\"height\":{\"value\":0.9},\"left\":{\"field\":\"left\"},\"line_color\":{\"value\":\"crimson\"},\"right\":{\"value\":0},\"y\":{\"field\":\"y\"}},\"id\":\"f47232b4-d5a8-47ff-ae6b-eda7712d94df\",\"type\":\"HBar\"},{\"attributes\":{\"data_source\":{\"id\":\"7a4d72d6-af1d-4e33-990a-aaeaa9f250c6\",\"type\":\"ColumnDataSource\"},\"glyph\":{\"id\":\"f47232b4-d5a8-47ff-ae6b-eda7712d94df\",\"type\":\"HBar\"},\"hover_glyph\":null,\"muted_glyph\":null,\"nonselection_glyph\":{\"id\":\"76cd593d-b4f8-4818-97d2-f68680f5cb31\",\"type\":\"HBar\"},\"selection_glyph\":null,\"view\":{\"id\":\"3898825d-2863-40d7-964a-1c4b1521ac87\",\"type\":\"CDSView\"}},\"id\":\"0f4bcfe2-db4c-4620-9e21-4e221124fb88\",\"type\":\"GlyphRenderer\"}],\"root_ids\":[\"78fb7edb-9a65-4e84-9b37-ba813097773b\"]},\"title\":\"Bokeh Application\",\"version\":\"0.13.0\"}};\n",
       "  var render_items = [{\"docid\":\"adb43259-599d-417f-8d08-08576a74a9d0\",\"roots\":{\"78fb7edb-9a65-4e84-9b37-ba813097773b\":\"b543829a-cafe-44a8-b9e5-6b2a55c1c00a\"}}];\n",
       "  root.Bokeh.embed.embed_items_notebook(docs_json, render_items);\n",
       "\n",
       "  }\n",
       "  if (root.Bokeh !== undefined) {\n",
       "    embed_document(root);\n",
       "  } else {\n",
       "    var attempts = 0;\n",
       "    var timer = setInterval(function(root) {\n",
       "      if (root.Bokeh !== undefined) {\n",
       "        embed_document(root);\n",
       "        clearInterval(timer);\n",
       "      }\n",
       "      attempts++;\n",
       "      if (attempts > 100) {\n",
       "        console.log(\"Bokeh: ERROR: Unable to run BokehJS code because BokehJS library is missing\")\n",
       "        clearInterval(timer);\n",
       "      }\n",
       "    }, 10, root)\n",
       "  }\n",
       "})(window);"
      ],
      "application/vnd.bokehjs_exec.v0+json": ""
     },
     "metadata": {
      "application/vnd.bokehjs_exec.v0+json": {
       "id": "78fb7edb-9a65-4e84-9b37-ba813097773b"
      }
     },
     "output_type": "display_data"
    },
    {
     "data": {
      "text/html": [
       "\n",
       "\n",
       "\n",
       "\n",
       "\n",
       "\n",
       "  <div class=\"bk-root\" id=\"df364f5b-9088-44bb-b19b-166944ae719e\"></div>\n"
      ]
     },
     "metadata": {},
     "output_type": "display_data"
    },
    {
     "data": {
      "application/javascript": [
       "(function(root) {\n",
       "  function embed_document(root) {\n",
       "    \n",
       "  var docs_json = {\"476869fb-1d0e-491d-9175-0e3157dbfe7e\":{\"roots\":{\"references\":[{\"attributes\":{},\"id\":\"c707238a-5e33-4726-973c-f26996ea35dc\",\"type\":\"LinearScale\"},{\"attributes\":{\"fill_alpha\":{\"value\":0.1},\"fill_color\":{\"value\":\"#1f77b4\"},\"height\":{\"value\":0.9},\"left\":{\"field\":\"left\"},\"line_alpha\":{\"value\":0.1},\"line_color\":{\"value\":\"#1f77b4\"},\"right\":{\"value\":0},\"y\":{\"field\":\"y\"}},\"id\":\"f0fc6481-3686-4ecb-bba7-755eac942db3\",\"type\":\"HBar\"},{\"attributes\":{\"active_drag\":\"auto\",\"active_inspect\":\"auto\",\"active_multi\":null,\"active_scroll\":\"auto\",\"active_tap\":\"auto\",\"tools\":[{\"id\":\"1df9e231-c7e0-46ca-8268-e10d9655521a\",\"type\":\"PanTool\"},{\"id\":\"2931e6a2-a3f3-499e-aae4-7d1b34dbfe58\",\"type\":\"WheelZoomTool\"},{\"id\":\"824a10ca-a858-4ac5-8c1d-4debfd54c8a1\",\"type\":\"BoxZoomTool\"},{\"id\":\"36980e29-b9fd-4357-8770-1c57d1a0490f\",\"type\":\"SaveTool\"},{\"id\":\"bbc03f5d-12c8-4dc6-9a8f-c5a6cacfcdea\",\"type\":\"ResetTool\"},{\"id\":\"9c78f02a-be94-4039-97ed-81c297623220\",\"type\":\"HelpTool\"}]},\"id\":\"c346b212-4f93-42a3-93cf-08d644ece67e\",\"type\":\"Toolbar\"},{\"attributes\":{\"fill_alpha\":{\"value\":0.1},\"fill_color\":{\"value\":\"#1f77b4\"},\"height\":{\"value\":0.9},\"line_alpha\":{\"value\":0.1},\"line_color\":{\"value\":\"#1f77b4\"},\"right\":{\"field\":\"right\"},\"y\":{\"field\":\"y\"}},\"id\":\"c43826f3-0f2a-4483-bce4-5d4149d7ee6a\",\"type\":\"HBar\"},{\"attributes\":{},\"id\":\"36980e29-b9fd-4357-8770-1c57d1a0490f\",\"type\":\"SaveTool\"},{\"attributes\":{},\"id\":\"f1c9febb-74bd-4eb0-bddc-3fb52df98b7b\",\"type\":\"BasicTickFormatter\"},{\"attributes\":{\"plot\":null,\"text\":\"(Don't) Merge Ratio by PostSyn\"},\"id\":\"8f560fad-e08b-47a6-a6d5-e2af74c1b3b1\",\"type\":\"Title\"},{\"attributes\":{},\"id\":\"9c78f02a-be94-4039-97ed-81c297623220\",\"type\":\"HelpTool\"},{\"attributes\":{\"callback\":null,\"end\":50},\"id\":\"0acae9ff-29ae-4c11-889b-8e2b782d3c75\",\"type\":\"Range1d\"},{\"attributes\":{},\"id\":\"f3534f8b-adda-4e14-b529-b6d80025b067\",\"type\":\"BasicTicker\"},{\"attributes\":{\"fill_color\":{\"value\":\"navy\"},\"height\":{\"value\":0.9},\"line_color\":{\"value\":\"navy\"},\"right\":{\"field\":\"right\"},\"y\":{\"field\":\"y\"}},\"id\":\"e0459ecb-695e-42c6-beb6-7fda792538a9\",\"type\":\"HBar\"},{\"attributes\":{\"axis_label\":\"Decision Ratio (Don't Merge/Merge)\",\"formatter\":{\"id\":\"f1c9febb-74bd-4eb0-bddc-3fb52df98b7b\",\"type\":\"BasicTickFormatter\"},\"plot\":{\"id\":\"3147e54a-065e-4e14-949a-37e62cd9dbe0\",\"subtype\":\"Figure\",\"type\":\"Plot\"},\"ticker\":{\"id\":\"f3534f8b-adda-4e14-b529-b6d80025b067\",\"type\":\"BasicTicker\"}},\"id\":\"7d3405ce-a7a5-4c88-8ddf-0a887805a380\",\"type\":\"LinearAxis\"},{\"attributes\":{\"below\":[{\"id\":\"7d3405ce-a7a5-4c88-8ddf-0a887805a380\",\"type\":\"LinearAxis\"}],\"left\":[{\"id\":\"b8967dd0-54f9-4288-a00f-1bb89f1f8cf1\",\"type\":\"LinearAxis\"}],\"plot_height\":400,\"renderers\":[{\"id\":\"7d3405ce-a7a5-4c88-8ddf-0a887805a380\",\"type\":\"LinearAxis\"},{\"id\":\"52b9377e-08aa-42fb-b957-f32e7754ca14\",\"type\":\"Grid\"},{\"id\":\"b8967dd0-54f9-4288-a00f-1bb89f1f8cf1\",\"type\":\"LinearAxis\"},{\"id\":\"27be73dc-62c6-4ac0-9529-b2c13bcd1d3e\",\"type\":\"Grid\"},{\"id\":\"c64567f6-7a51-4b22-bd06-b081b8c13bdf\",\"type\":\"BoxAnnotation\"},{\"id\":\"000e10f4-6771-4a87-8482-6904286fd634\",\"type\":\"GlyphRenderer\"},{\"id\":\"14b85099-f022-477b-b03a-be1b654e1c35\",\"type\":\"GlyphRenderer\"}],\"title\":{\"id\":\"8f560fad-e08b-47a6-a6d5-e2af74c1b3b1\",\"type\":\"Title\"},\"toolbar\":{\"id\":\"c346b212-4f93-42a3-93cf-08d644ece67e\",\"type\":\"Toolbar\"},\"x_range\":{\"id\":\"0b5558fc-82ff-4716-a73b-fd232335eed5\",\"type\":\"Range1d\"},\"x_scale\":{\"id\":\"7fc22dbb-3db2-486f-af6c-48b6d6697443\",\"type\":\"LinearScale\"},\"y_range\":{\"id\":\"0acae9ff-29ae-4c11-889b-8e2b782d3c75\",\"type\":\"Range1d\"},\"y_scale\":{\"id\":\"c707238a-5e33-4726-973c-f26996ea35dc\",\"type\":\"LinearScale\"}},\"id\":\"3147e54a-065e-4e14-949a-37e62cd9dbe0\",\"subtype\":\"Figure\",\"type\":\"Plot\"},{\"attributes\":{\"callback\":null,\"data\":{\"right\":{\"__ndarray__\":\"Po2w3NMI3z/rRwRxdGjiP9kd2v4eu+M/Z5VPONtm5T8hq21atuLlP004N8EE1OY/weUnnUEc5z9W+J90HbnnP5CfV4QVduc/+IVbe2P15z/godbO9TLpPzmLF9bUzOk/icBwFEQz6T+rl6WsiifpP6fnSwRcHeo/lQ/jfl1S6T/wtTLkAo3qP2elEiW5DOo/9zhZxoNA6j8WJ/0GqY/pP7sNygox9uk/6qAO6qAO6j/pwHu+MW3qP82vMr/K/Oo/GFc/6KjA6z9I4XoUrkfrP7U1/m4eoeo/5bzX51fO6z/qWwCHSIbqP0ULZ0Aoues/iluhuBWK6z9bqZVaqZXqP8m9i12V3Os/ntXOame16z9J/ThTLF3rP/cWmfyT2us/RP67Um9R7D9B0VaD5wjsP/Mt3/It3+o/Z+vQb7YO7T+12MZPi23sP1IEbIy20+w/qlZoic+U6z/DSd2Xx1bsP7nG4hqLa+w/AAAAAADw6z8mtJfQXkLrP6ESR8NHCOw/5rwjkWfO6z8vxXyhdQbtPw==\",\"dtype\":\"float64\",\"shape\":[50]},\"y\":{\"__ndarray__\":\"AAAAAAAA4D8AAAAAAAD4PwAAAAAAAARAAAAAAAAADEAAAAAAAAASQAAAAAAAABZAAAAAAAAAGkAAAAAAAAAeQAAAAAAAACFAAAAAAAAAI0AAAAAAAAAlQAAAAAAAACdAAAAAAAAAKUAAAAAAAAArQAAAAAAAAC1AAAAAAAAAL0AAAAAAAIAwQAAAAAAAgDFAAAAAAACAMkAAAAAAAIAzQAAAAAAAgDRAAAAAAACANUAAAAAAAIA2QAAAAAAAgDdAAAAAAACAOEAAAAAAAIA5QAAAAAAAgDpAAAAAAACAO0AAAAAAAIA8QAAAAAAAgD1AAAAAAACAPkAAAAAAAIA/QAAAAAAAQEBAAAAAAADAQEAAAAAAAEBBQAAAAAAAwEFAAAAAAABAQkAAAAAAAMBCQAAAAAAAQENAAAAAAADAQ0AAAAAAAEBEQAAAAAAAwERAAAAAAABARUAAAAAAAMBFQAAAAAAAQEZAAAAAAADARkAAAAAAAEBHQAAAAAAAwEdAAAAAAABASEAAAAAAAMBIQA==\",\"dtype\":\"float64\",\"shape\":[50]}},\"selected\":{\"id\":\"9b3b5761-51a9-4da9-b347-3e704600dcb2\",\"type\":\"Selection\"},\"selection_policy\":{\"id\":\"a683d14a-e0fc-4baa-ba79-fb39a64fa0b3\",\"type\":\"UnionRenderers\"}},\"id\":\"e24341d1-8497-47bc-b5bf-590f992f7acc\",\"type\":\"ColumnDataSource\"},{\"attributes\":{},\"id\":\"bbc03f5d-12c8-4dc6-9a8f-c5a6cacfcdea\",\"type\":\"ResetTool\"},{\"attributes\":{\"callback\":null,\"end\":0.953448275862069,\"start\":-0.5408405172413793},\"id\":\"0b5558fc-82ff-4716-a73b-fd232335eed5\",\"type\":\"Range1d\"},{\"attributes\":{},\"id\":\"d8712b21-aff4-40e0-975f-7a9f948e3010\",\"type\":\"UnionRenderers\"},{\"attributes\":{},\"id\":\"a683d14a-e0fc-4baa-ba79-fb39a64fa0b3\",\"type\":\"UnionRenderers\"},{\"attributes\":{},\"id\":\"c1e2b4f4-1d67-4219-984c-586c8bb164bb\",\"type\":\"Selection\"},{\"attributes\":{\"data_source\":{\"id\":\"e24341d1-8497-47bc-b5bf-590f992f7acc\",\"type\":\"ColumnDataSource\"},\"glyph\":{\"id\":\"e0459ecb-695e-42c6-beb6-7fda792538a9\",\"type\":\"HBar\"},\"hover_glyph\":null,\"muted_glyph\":null,\"nonselection_glyph\":{\"id\":\"c43826f3-0f2a-4483-bce4-5d4149d7ee6a\",\"type\":\"HBar\"},\"selection_glyph\":null,\"view\":{\"id\":\"575057aa-27e8-440e-bb39-061ff20e2252\",\"type\":\"CDSView\"}},\"id\":\"000e10f4-6771-4a87-8482-6904286fd634\",\"type\":\"GlyphRenderer\"},{\"attributes\":{\"plot\":{\"id\":\"3147e54a-065e-4e14-949a-37e62cd9dbe0\",\"subtype\":\"Figure\",\"type\":\"Plot\"},\"ticker\":{\"id\":\"f3534f8b-adda-4e14-b529-b6d80025b067\",\"type\":\"BasicTicker\"}},\"id\":\"52b9377e-08aa-42fb-b957-f32e7754ca14\",\"type\":\"Grid\"},{\"attributes\":{},\"id\":\"3efc7c5c-8d82-47b0-bce7-1a97313ffd74\",\"type\":\"BasicTickFormatter\"},{\"attributes\":{\"axis_label\":\"PostSyn (bin = 1)\",\"formatter\":{\"id\":\"3efc7c5c-8d82-47b0-bce7-1a97313ffd74\",\"type\":\"BasicTickFormatter\"},\"plot\":{\"id\":\"3147e54a-065e-4e14-949a-37e62cd9dbe0\",\"subtype\":\"Figure\",\"type\":\"Plot\"},\"ticker\":{\"id\":\"82b290ce-c8ad-49ad-8b50-283726d8165a\",\"type\":\"BasicTicker\"}},\"id\":\"b8967dd0-54f9-4288-a00f-1bb89f1f8cf1\",\"type\":\"LinearAxis\"},{\"attributes\":{\"overlay\":{\"id\":\"c64567f6-7a51-4b22-bd06-b081b8c13bdf\",\"type\":\"BoxAnnotation\"}},\"id\":\"824a10ca-a858-4ac5-8c1d-4debfd54c8a1\",\"type\":\"BoxZoomTool\"},{\"attributes\":{},\"id\":\"9b3b5761-51a9-4da9-b347-3e704600dcb2\",\"type\":\"Selection\"},{\"attributes\":{\"dimension\":1,\"plot\":{\"id\":\"3147e54a-065e-4e14-949a-37e62cd9dbe0\",\"subtype\":\"Figure\",\"type\":\"Plot\"},\"ticker\":{\"id\":\"82b290ce-c8ad-49ad-8b50-283726d8165a\",\"type\":\"BasicTicker\"}},\"id\":\"27be73dc-62c6-4ac0-9529-b2c13bcd1d3e\",\"type\":\"Grid\"},{\"attributes\":{\"data_source\":{\"id\":\"68799b0a-84cf-4975-a4e6-44346bfd0f8f\",\"type\":\"ColumnDataSource\"},\"glyph\":{\"id\":\"9ea0e501-639c-4b65-a2ad-99b28bd27c9f\",\"type\":\"HBar\"},\"hover_glyph\":null,\"muted_glyph\":null,\"nonselection_glyph\":{\"id\":\"f0fc6481-3686-4ecb-bba7-755eac942db3\",\"type\":\"HBar\"},\"selection_glyph\":null,\"view\":{\"id\":\"02413206-9759-4df6-aaa0-c4eba2c95573\",\"type\":\"CDSView\"}},\"id\":\"14b85099-f022-477b-b03a-be1b654e1c35\",\"type\":\"GlyphRenderer\"},{\"attributes\":{\"source\":{\"id\":\"e24341d1-8497-47bc-b5bf-590f992f7acc\",\"type\":\"ColumnDataSource\"}},\"id\":\"575057aa-27e8-440e-bb39-061ff20e2252\",\"type\":\"CDSView\"},{\"attributes\":{\"source\":{\"id\":\"68799b0a-84cf-4975-a4e6-44346bfd0f8f\",\"type\":\"ColumnDataSource\"}},\"id\":\"02413206-9759-4df6-aaa0-c4eba2c95573\",\"type\":\"CDSView\"},{\"attributes\":{},\"id\":\"82b290ce-c8ad-49ad-8b50-283726d8165a\",\"type\":\"BasicTicker\"},{\"attributes\":{},\"id\":\"1df9e231-c7e0-46ca-8268-e10d9655521a\",\"type\":\"PanTool\"},{\"attributes\":{\"callback\":null,\"data\":{\"left\":{\"__ndarray__\":\"YbmnEZZ74L8pcPcdFy/bv07ESwLCidi/MtVgj0ky1b++qSRLkzrUv2aPkX32V9K/fjSwxXzH0b9UD8AWxY3Qv+DAUPfUE9G/EPRICTkV0L+BeKXEKDTLvxzToaeszMi/2/08ru8yy79ToWlN1WHLv2Nh0O6Pise/q8FzBIq2yr9CKDVv9MvFv2RqtWsbzce/JByb5vD9xr+oYwvkW8HJvxPJ19Q7J8i/WHzFV3zFx79c/BAGOUvGv81ANQPVDMS/oaMCX1z9wL/hehSuR+HCvy0pB0SGe8W/agyhYKDGwL9WkP7j3ebFv+vSY/5eG8G/2JF6HanXwb+WWqmVWqnFv9sI0YmqjcC/ianEVGIqwb/bChyzTovCvyWkmw2wlcC/3A0gaoV0vb/8dUnlw7i/vzVIgzRIg8S/yKR4gUyKt79YOsmBpZO8v2/dn5xLYrm/WKVe2sGswb/msRVBw0m9vzrK6Sino7y/AAAAAABAwL9oL6G9hPbCv/Rqx+XBvb+/Zgxxu2HGwL+G1hn0Usy3vw==\",\"dtype\":\"float64\",\"shape\":[50]},\"y\":{\"__ndarray__\":\"AAAAAAAA4D8AAAAAAAD4PwAAAAAAAARAAAAAAAAADEAAAAAAAAASQAAAAAAAABZAAAAAAAAAGkAAAAAAAAAeQAAAAAAAACFAAAAAAAAAI0AAAAAAAAAlQAAAAAAAACdAAAAAAAAAKUAAAAAAAAArQAAAAAAAAC1AAAAAAAAAL0AAAAAAAIAwQAAAAAAAgDFAAAAAAACAMkAAAAAAAIAzQAAAAAAAgDRAAAAAAACANUAAAAAAAIA2QAAAAAAAgDdAAAAAAACAOEAAAAAAAIA5QAAAAAAAgDpAAAAAAACAO0AAAAAAAIA8QAAAAAAAgD1AAAAAAACAPkAAAAAAAIA/QAAAAAAAQEBAAAAAAADAQEAAAAAAAEBBQAAAAAAAwEFAAAAAAABAQkAAAAAAAMBCQAAAAAAAQENAAAAAAADAQ0AAAAAAAEBEQAAAAAAAwERAAAAAAABARUAAAAAAAMBFQAAAAAAAQEZAAAAAAADARkAAAAAAAEBHQAAAAAAAwEdAAAAAAABASEAAAAAAAMBIQA==\",\"dtype\":\"float64\",\"shape\":[50]}},\"selected\":{\"id\":\"c1e2b4f4-1d67-4219-984c-586c8bb164bb\",\"type\":\"Selection\"},\"selection_policy\":{\"id\":\"d8712b21-aff4-40e0-975f-7a9f948e3010\",\"type\":\"UnionRenderers\"}},\"id\":\"68799b0a-84cf-4975-a4e6-44346bfd0f8f\",\"type\":\"ColumnDataSource\"},{\"attributes\":{\"bottom_units\":\"screen\",\"fill_alpha\":{\"value\":0.5},\"fill_color\":{\"value\":\"lightgrey\"},\"left_units\":\"screen\",\"level\":\"overlay\",\"line_alpha\":{\"value\":1.0},\"line_color\":{\"value\":\"black\"},\"line_dash\":[4,4],\"line_width\":{\"value\":2},\"plot\":null,\"render_mode\":\"css\",\"right_units\":\"screen\",\"top_units\":\"screen\"},\"id\":\"c64567f6-7a51-4b22-bd06-b081b8c13bdf\",\"type\":\"BoxAnnotation\"},{\"attributes\":{},\"id\":\"2931e6a2-a3f3-499e-aae4-7d1b34dbfe58\",\"type\":\"WheelZoomTool\"},{\"attributes\":{\"fill_color\":{\"value\":\"crimson\"},\"height\":{\"value\":0.9},\"left\":{\"field\":\"left\"},\"line_color\":{\"value\":\"crimson\"},\"right\":{\"value\":0},\"y\":{\"field\":\"y\"}},\"id\":\"9ea0e501-639c-4b65-a2ad-99b28bd27c9f\",\"type\":\"HBar\"},{\"attributes\":{},\"id\":\"7fc22dbb-3db2-486f-af6c-48b6d6697443\",\"type\":\"LinearScale\"}],\"root_ids\":[\"3147e54a-065e-4e14-949a-37e62cd9dbe0\"]},\"title\":\"Bokeh Application\",\"version\":\"0.13.0\"}};\n",
       "  var render_items = [{\"docid\":\"476869fb-1d0e-491d-9175-0e3157dbfe7e\",\"roots\":{\"3147e54a-065e-4e14-949a-37e62cd9dbe0\":\"df364f5b-9088-44bb-b19b-166944ae719e\"}}];\n",
       "  root.Bokeh.embed.embed_items_notebook(docs_json, render_items);\n",
       "\n",
       "  }\n",
       "  if (root.Bokeh !== undefined) {\n",
       "    embed_document(root);\n",
       "  } else {\n",
       "    var attempts = 0;\n",
       "    var timer = setInterval(function(root) {\n",
       "      if (root.Bokeh !== undefined) {\n",
       "        embed_document(root);\n",
       "        clearInterval(timer);\n",
       "      }\n",
       "      attempts++;\n",
       "      if (attempts > 100) {\n",
       "        console.log(\"Bokeh: ERROR: Unable to run BokehJS code because BokehJS library is missing\")\n",
       "        clearInterval(timer);\n",
       "      }\n",
       "    }, 10, root)\n",
       "  }\n",
       "})(window);"
      ],
      "application/vnd.bokehjs_exec.v0+json": ""
     },
     "metadata": {
      "application/vnd.bokehjs_exec.v0+json": {
       "id": "3147e54a-065e-4e14-949a-37e62cd9dbe0"
      }
     },
     "output_type": "display_data"
    },
    {
     "name": "stderr",
     "output_type": "stream",
     "text": [
      "/groups/flyem/proj/cluster/miniforge/envs/flyem/lib/python3.6/site-packages/ipykernel_launcher.py:16: RuntimeWarning: invalid value encountered in true_divide\n",
      "  app.launch_new_instance()\n",
      "/groups/flyem/proj/cluster/miniforge/envs/flyem/lib/python3.6/site-packages/ipykernel_launcher.py:17: RuntimeWarning: invalid value encountered in true_divide\n"
     ]
    },
    {
     "data": {
      "text/html": [
       "\n",
       "\n",
       "\n",
       "\n",
       "\n",
       "\n",
       "  <div class=\"bk-root\" id=\"3c9f169f-cff5-461d-b3f9-8ca22671b164\"></div>\n"
      ]
     },
     "metadata": {},
     "output_type": "display_data"
    },
    {
     "data": {
      "application/javascript": [
       "(function(root) {\n",
       "  function embed_document(root) {\n",
       "    \n",
       "  var docs_json = {\"daebb6d9-4db0-47f0-a718-1cc957facde4\":{\"roots\":{\"references\":[{\"attributes\":{},\"id\":\"162e4f93-77ab-4024-bb4e-44e15c893aee\",\"type\":\"UnionRenderers\"},{\"attributes\":{\"active_drag\":\"auto\",\"active_inspect\":\"auto\",\"active_multi\":null,\"active_scroll\":\"auto\",\"active_tap\":\"auto\",\"tools\":[{\"id\":\"15752087-25d8-4ea8-97c2-2ca7665656bc\",\"type\":\"PanTool\"},{\"id\":\"c049c74f-5c91-430a-ac36-b7e884660c10\",\"type\":\"WheelZoomTool\"},{\"id\":\"806fe33f-a2db-47c7-9a60-3724bc393b7a\",\"type\":\"BoxZoomTool\"},{\"id\":\"81608cc8-4fbb-4799-b0bf-ca39447e6fa0\",\"type\":\"SaveTool\"},{\"id\":\"2fec4371-1b0f-4818-b02f-272f6ea4bf5f\",\"type\":\"ResetTool\"},{\"id\":\"f57b03bc-dc48-49dd-b0d8-a608f1860011\",\"type\":\"HelpTool\"}]},\"id\":\"688d5ec7-703d-4647-bc4b-25f0829dd97b\",\"type\":\"Toolbar\"},{\"attributes\":{\"source\":{\"id\":\"cf3b34fb-f68b-4b69-bd6f-ccb2864063c6\",\"type\":\"ColumnDataSource\"}},\"id\":\"0d5e0f19-15e2-43d5-9b16-86277d134978\",\"type\":\"CDSView\"},{\"attributes\":{},\"id\":\"be8a2fa6-668e-4ee3-89ed-df48e260ac9a\",\"type\":\"BasicTickFormatter\"},{\"attributes\":{\"fill_color\":{\"value\":\"crimson\"},\"height\":{\"value\":0.9},\"left\":{\"field\":\"left\"},\"line_color\":{\"value\":\"crimson\"},\"right\":{\"value\":0},\"y\":{\"field\":\"y\"}},\"id\":\"d21db0fd-cd86-4951-bbae-11e459cfc36c\",\"type\":\"HBar\"},{\"attributes\":{},\"id\":\"fa921cad-65c9-4f2f-9682-d31802cd6322\",\"type\":\"BasicTicker\"},{\"attributes\":{},\"id\":\"94aba280-7a39-4227-aec5-3dda9c3e47b7\",\"type\":\"BasicTickFormatter\"},{\"attributes\":{\"axis_label\":\"TotalSyn (bin = 1)\",\"formatter\":{\"id\":\"94aba280-7a39-4227-aec5-3dda9c3e47b7\",\"type\":\"BasicTickFormatter\"},\"plot\":{\"id\":\"1029f556-ecdb-4047-9aa4-58ff7c517e28\",\"subtype\":\"Figure\",\"type\":\"Plot\"},\"ticker\":{\"id\":\"fa921cad-65c9-4f2f-9682-d31802cd6322\",\"type\":\"BasicTicker\"}},\"id\":\"ad38555a-1141-46b4-9913-8aa68f3df916\",\"type\":\"LinearAxis\"},{\"attributes\":{\"axis_label\":\"Decision Ratio (Don't Merge/Merge)\",\"formatter\":{\"id\":\"be8a2fa6-668e-4ee3-89ed-df48e260ac9a\",\"type\":\"BasicTickFormatter\"},\"plot\":{\"id\":\"1029f556-ecdb-4047-9aa4-58ff7c517e28\",\"subtype\":\"Figure\",\"type\":\"Plot\"},\"ticker\":{\"id\":\"d0fbefa9-2fe5-44c6-8f92-313e8b82345d\",\"type\":\"BasicTicker\"}},\"id\":\"4e1e70ac-5d59-4d34-9648-6b33d6777482\",\"type\":\"LinearAxis\"},{\"attributes\":{\"data_source\":{\"id\":\"cf3b34fb-f68b-4b69-bd6f-ccb2864063c6\",\"type\":\"ColumnDataSource\"},\"glyph\":{\"id\":\"d21db0fd-cd86-4951-bbae-11e459cfc36c\",\"type\":\"HBar\"},\"hover_glyph\":null,\"muted_glyph\":null,\"nonselection_glyph\":{\"id\":\"d9f8656f-dc56-43ae-9986-f0f5379e0b1c\",\"type\":\"HBar\"},\"selection_glyph\":null,\"view\":{\"id\":\"0d5e0f19-15e2-43d5-9b16-86277d134978\",\"type\":\"CDSView\"}},\"id\":\"9ec6714e-fd72-4a25-a16f-e6b0b410239a\",\"type\":\"GlyphRenderer\"},{\"attributes\":{},\"id\":\"f57b03bc-dc48-49dd-b0d8-a608f1860011\",\"type\":\"HelpTool\"},{\"attributes\":{\"source\":{\"id\":\"335af0bd-bf3f-46e0-ba9a-5d8f38c33c67\",\"type\":\"ColumnDataSource\"}},\"id\":\"dade8967-214c-4ca8-9348-18a8c9a5af65\",\"type\":\"CDSView\"},{\"attributes\":{\"callback\":null,\"end\":0.9531914893617022,\"start\":-0.8920731707317073},\"id\":\"afb4163d-0018-4a9c-8ce0-840d72834c57\",\"type\":\"Range1d\"},{\"attributes\":{\"fill_alpha\":{\"value\":0.1},\"fill_color\":{\"value\":\"#1f77b4\"},\"height\":{\"value\":0.9},\"left\":{\"field\":\"left\"},\"line_alpha\":{\"value\":0.1},\"line_color\":{\"value\":\"#1f77b4\"},\"right\":{\"value\":0},\"y\":{\"field\":\"y\"}},\"id\":\"d9f8656f-dc56-43ae-9986-f0f5379e0b1c\",\"type\":\"HBar\"},{\"attributes\":{},\"id\":\"81608cc8-4fbb-4799-b0bf-ca39447e6fa0\",\"type\":\"SaveTool\"},{\"attributes\":{\"data_source\":{\"id\":\"335af0bd-bf3f-46e0-ba9a-5d8f38c33c67\",\"type\":\"ColumnDataSource\"},\"glyph\":{\"id\":\"73d905d3-0147-4302-94e7-e0f56d9a823d\",\"type\":\"HBar\"},\"hover_glyph\":null,\"muted_glyph\":null,\"nonselection_glyph\":{\"id\":\"a0b662f6-8984-4434-a1b9-3379c7fe1008\",\"type\":\"HBar\"},\"selection_glyph\":null,\"view\":{\"id\":\"dade8967-214c-4ca8-9348-18a8c9a5af65\",\"type\":\"CDSView\"}},\"id\":\"e19a6bfa-599e-496e-b2bf-e051061b974e\",\"type\":\"GlyphRenderer\"},{\"attributes\":{\"overlay\":{\"id\":\"ad9568ec-c480-4596-a188-2ac713ba80ca\",\"type\":\"BoxAnnotation\"}},\"id\":\"806fe33f-a2db-47c7-9a60-3724bc393b7a\",\"type\":\"BoxZoomTool\"},{\"attributes\":{\"plot\":null,\"text\":\"(Don't) Merge Ratio by TotalSyn\"},\"id\":\"7c247afa-63ee-4e67-a4b9-a2caf3bf4672\",\"type\":\"Title\"},{\"attributes\":{},\"id\":\"c049c74f-5c91-430a-ac36-b7e884660c10\",\"type\":\"WheelZoomTool\"},{\"attributes\":{\"plot\":{\"id\":\"1029f556-ecdb-4047-9aa4-58ff7c517e28\",\"subtype\":\"Figure\",\"type\":\"Plot\"},\"ticker\":{\"id\":\"d0fbefa9-2fe5-44c6-8f92-313e8b82345d\",\"type\":\"BasicTicker\"}},\"id\":\"a32b0d26-82b7-4770-bf5c-58c252875dd6\",\"type\":\"Grid\"},{\"attributes\":{},\"id\":\"53057d59-2bfb-4a9f-a6a9-5c99ad4d45e3\",\"type\":\"Selection\"},{\"attributes\":{\"fill_alpha\":{\"value\":0.1},\"fill_color\":{\"value\":\"#1f77b4\"},\"height\":{\"value\":0.9},\"line_alpha\":{\"value\":0.1},\"line_color\":{\"value\":\"#1f77b4\"},\"right\":{\"field\":\"right\"},\"y\":{\"field\":\"y\"}},\"id\":\"a0b662f6-8984-4434-a1b9-3379c7fe1008\",\"type\":\"HBar\"},{\"attributes\":{\"dimension\":1,\"plot\":{\"id\":\"1029f556-ecdb-4047-9aa4-58ff7c517e28\",\"subtype\":\"Figure\",\"type\":\"Plot\"},\"ticker\":{\"id\":\"fa921cad-65c9-4f2f-9682-d31802cd6322\",\"type\":\"BasicTicker\"}},\"id\":\"c266c859-04ba-4717-80ed-246a02ef2eef\",\"type\":\"Grid\"},{\"attributes\":{},\"id\":\"9611476c-4be8-42f7-83cb-8846c7fbd276\",\"type\":\"LinearScale\"},{\"attributes\":{\"callback\":null,\"end\":50},\"id\":\"8c591ed9-62c9-4bb2-91b1-673ebac63b06\",\"type\":\"Range1d\"},{\"attributes\":{},\"id\":\"81b332a8-fbdc-4457-aabd-40c5969e4ee4\",\"type\":\"LinearScale\"},{\"attributes\":{},\"id\":\"04ad6b2e-e031-4922-b297-24917528d957\",\"type\":\"UnionRenderers\"},{\"attributes\":{\"below\":[{\"id\":\"4e1e70ac-5d59-4d34-9648-6b33d6777482\",\"type\":\"LinearAxis\"}],\"left\":[{\"id\":\"ad38555a-1141-46b4-9913-8aa68f3df916\",\"type\":\"LinearAxis\"}],\"plot_height\":400,\"renderers\":[{\"id\":\"4e1e70ac-5d59-4d34-9648-6b33d6777482\",\"type\":\"LinearAxis\"},{\"id\":\"a32b0d26-82b7-4770-bf5c-58c252875dd6\",\"type\":\"Grid\"},{\"id\":\"ad38555a-1141-46b4-9913-8aa68f3df916\",\"type\":\"LinearAxis\"},{\"id\":\"c266c859-04ba-4717-80ed-246a02ef2eef\",\"type\":\"Grid\"},{\"id\":\"ad9568ec-c480-4596-a188-2ac713ba80ca\",\"type\":\"BoxAnnotation\"},{\"id\":\"e19a6bfa-599e-496e-b2bf-e051061b974e\",\"type\":\"GlyphRenderer\"},{\"id\":\"9ec6714e-fd72-4a25-a16f-e6b0b410239a\",\"type\":\"GlyphRenderer\"}],\"title\":{\"id\":\"7c247afa-63ee-4e67-a4b9-a2caf3bf4672\",\"type\":\"Title\"},\"toolbar\":{\"id\":\"688d5ec7-703d-4647-bc4b-25f0829dd97b\",\"type\":\"Toolbar\"},\"x_range\":{\"id\":\"afb4163d-0018-4a9c-8ce0-840d72834c57\",\"type\":\"Range1d\"},\"x_scale\":{\"id\":\"81b332a8-fbdc-4457-aabd-40c5969e4ee4\",\"type\":\"LinearScale\"},\"y_range\":{\"id\":\"8c591ed9-62c9-4bb2-91b1-673ebac63b06\",\"type\":\"Range1d\"},\"y_scale\":{\"id\":\"9611476c-4be8-42f7-83cb-8846c7fbd276\",\"type\":\"LinearScale\"}},\"id\":\"1029f556-ecdb-4047-9aa4-58ff7c517e28\",\"subtype\":\"Figure\",\"type\":\"Plot\"},{\"attributes\":{\"fill_color\":{\"value\":\"navy\"},\"height\":{\"value\":0.9},\"line_color\":{\"value\":\"navy\"},\"right\":{\"field\":\"right\"},\"y\":{\"field\":\"y\"}},\"id\":\"73d905d3-0147-4302-94e7-e0f56d9a823d\",\"type\":\"HBar\"},{\"attributes\":{},\"id\":\"2fec4371-1b0f-4818-b02f-272f6ea4bf5f\",\"type\":\"ResetTool\"},{\"attributes\":{\"callback\":null,\"data\":{\"left\":{\"__ndarray__\":\"kiRJkiRJwr8AAAAAAAAAgKqhnZsa2um/MOv9st4v67+da5qAz9Tmv+QF5MRY2uK/3+3e7d7t3r/TK/U/lkjbv/AKYKNq6Ni/TDe0xlfx17+f1hIIKBHVvyiYJJTfvdO/b07rwUXR07/tvFax37vRv2W1vDGCic6/AAAAAAAA0L/tXQHnf2/Lv+VTUman6cy/lhI2QIzGy7/NFt+Lba7Kv0omjMdBvMu/l3Ipl3Ipx79nUHtKD9fEv7/QZuL8Xce/7FBnM33Gxr9XFFpqsjrGv7N/C0vcTMe/to58oa7Ryb81RU1RU9TEv3FsmsP3W8K/QgNjKDJbxL8WTat8MfzDv8u3fMu3fMO/ez9PGUuTxb8wlARDSTDEv3D5lm/5lr+/mQtqgHF7v7/Hv7eOoDS7v5eWlpaWlsK/j/62N1xAwr83THMX/FW8v7TD3VY+rr+/eTwej8fjwb/w6JWx/Y6+v+axFUHDSb2/DH2DB5rVur/EtCcykN6/v178iYRTmre/h2nugr+Kw7/X9dr0KYC9vw==\",\"dtype\":\"float64\",\"shape\":[50]},\"y\":{\"__ndarray__\":\"AAAAAAAA4D8AAAAAAAD4PwAAAAAAAARAAAAAAAAADEAAAAAAAAASQAAAAAAAABZAAAAAAAAAGkAAAAAAAAAeQAAAAAAAACFAAAAAAAAAI0AAAAAAAAAlQAAAAAAAACdAAAAAAAAAKUAAAAAAAAArQAAAAAAAAC1AAAAAAAAAL0AAAAAAAIAwQAAAAAAAgDFAAAAAAACAMkAAAAAAAIAzQAAAAAAAgDRAAAAAAACANUAAAAAAAIA2QAAAAAAAgDdAAAAAAACAOEAAAAAAAIA5QAAAAAAAgDpAAAAAAACAO0AAAAAAAIA8QAAAAAAAgD1AAAAAAACAPkAAAAAAAIA/QAAAAAAAQEBAAAAAAADAQEAAAAAAAEBBQAAAAAAAwEFAAAAAAABAQkAAAAAAAMBCQAAAAAAAQENAAAAAAADAQ0AAAAAAAEBEQAAAAAAAwERAAAAAAABARUAAAAAAAMBFQAAAAAAAQEZAAAAAAADARkAAAAAAAEBHQAAAAAAAwEdAAAAAAABASEAAAAAAAMBIQA==\",\"dtype\":\"float64\",\"shape\":[50]}},\"selected\":{\"id\":\"a5d5f20d-53a9-419e-b1e8-afc8065d1627\",\"type\":\"Selection\"},\"selection_policy\":{\"id\":\"04ad6b2e-e031-4922-b297-24917528d957\",\"type\":\"UnionRenderers\"}},\"id\":\"cf3b34fb-f68b-4b69-bd6f-ccb2864063c6\",\"type\":\"ColumnDataSource\"},{\"attributes\":{\"bottom_units\":\"screen\",\"fill_alpha\":{\"value\":0.5},\"fill_color\":{\"value\":\"lightgrey\"},\"left_units\":\"screen\",\"level\":\"overlay\",\"line_alpha\":{\"value\":1.0},\"line_color\":{\"value\":\"black\"},\"line_dash\":[4,4],\"line_width\":{\"value\":2},\"plot\":null,\"render_mode\":\"css\",\"right_units\":\"screen\",\"top_units\":\"screen\"},\"id\":\"ad9568ec-c480-4596-a188-2ac713ba80ca\",\"type\":\"BoxAnnotation\"},{\"attributes\":{\"callback\":null,\"data\":{\"right\":{\"__ndarray__\":\"27Zt27Zt6z8AAAAAAAAAAFl5iZGVl8g/QVMINIVAwz/HKMv+YFbSPzj0N3ZOS9o/EYkQiRCJ4D8XagXgtFviP4j6T67Ki+M/WuSlHFQH5D+wlPb7a3flP+yz7TUQIeY/yFgKH10X5j+JoVQnECLnP6fSkHOfXeg/AAAAAAAA6D+FqD8GICTpPwdrayaWxeg/Wnvy71wO6T9NOgidZFTpP232HI7vEOk/WqM1WqM16j/mK2EtPMrqP9BLZseAKOo/xSsms2BO6j/qemllU3HqPxMgPe3ILOo/U9ygV5SL6T+zrqwr68rqP+RkGQ8Caes/MD/ndTPp6j+7LNWg8wDrPw3SIA3SIOs/ITCsOS2b6j/02j6v7fPqP9IgDdIgDew/jb7yz5EQ7D8HCCnua5nsP1paWlpaWus/XEAS8uhv6z95lhF9QHXsP4lHJDU4Cuw/4nA4HA6H6z/iQs1JIC7sP8NJ3ZfHVuw/XpAPv0yl7D9nCbv5LQTsP3TAbo+1DO0/nmVEH1Ad6z9FoWTB+k/sPw==\",\"dtype\":\"float64\",\"shape\":[50]},\"y\":{\"__ndarray__\":\"AAAAAAAA4D8AAAAAAAD4PwAAAAAAAARAAAAAAAAADEAAAAAAAAASQAAAAAAAABZAAAAAAAAAGkAAAAAAAAAeQAAAAAAAACFAAAAAAAAAI0AAAAAAAAAlQAAAAAAAACdAAAAAAAAAKUAAAAAAAAArQAAAAAAAAC1AAAAAAAAAL0AAAAAAAIAwQAAAAAAAgDFAAAAAAACAMkAAAAAAAIAzQAAAAAAAgDRAAAAAAACANUAAAAAAAIA2QAAAAAAAgDdAAAAAAACAOEAAAAAAAIA5QAAAAAAAgDpAAAAAAACAO0AAAAAAAIA8QAAAAAAAgD1AAAAAAACAPkAAAAAAAIA/QAAAAAAAQEBAAAAAAADAQEAAAAAAAEBBQAAAAAAAwEFAAAAAAABAQkAAAAAAAMBCQAAAAAAAQENAAAAAAADAQ0AAAAAAAEBEQAAAAAAAwERAAAAAAABARUAAAAAAAMBFQAAAAAAAQEZAAAAAAADARkAAAAAAAEBHQAAAAAAAwEdAAAAAAABASEAAAAAAAMBIQA==\",\"dtype\":\"float64\",\"shape\":[50]}},\"selected\":{\"id\":\"53057d59-2bfb-4a9f-a6a9-5c99ad4d45e3\",\"type\":\"Selection\"},\"selection_policy\":{\"id\":\"162e4f93-77ab-4024-bb4e-44e15c893aee\",\"type\":\"UnionRenderers\"}},\"id\":\"335af0bd-bf3f-46e0-ba9a-5d8f38c33c67\",\"type\":\"ColumnDataSource\"},{\"attributes\":{},\"id\":\"a5d5f20d-53a9-419e-b1e8-afc8065d1627\",\"type\":\"Selection\"},{\"attributes\":{},\"id\":\"15752087-25d8-4ea8-97c2-2ca7665656bc\",\"type\":\"PanTool\"},{\"attributes\":{},\"id\":\"d0fbefa9-2fe5-44c6-8f92-313e8b82345d\",\"type\":\"BasicTicker\"}],\"root_ids\":[\"1029f556-ecdb-4047-9aa4-58ff7c517e28\"]},\"title\":\"Bokeh Application\",\"version\":\"0.13.0\"}};\n",
       "  var render_items = [{\"docid\":\"daebb6d9-4db0-47f0-a718-1cc957facde4\",\"roots\":{\"1029f556-ecdb-4047-9aa4-58ff7c517e28\":\"3c9f169f-cff5-461d-b3f9-8ca22671b164\"}}];\n",
       "  root.Bokeh.embed.embed_items_notebook(docs_json, render_items);\n",
       "\n",
       "  }\n",
       "  if (root.Bokeh !== undefined) {\n",
       "    embed_document(root);\n",
       "  } else {\n",
       "    var attempts = 0;\n",
       "    var timer = setInterval(function(root) {\n",
       "      if (root.Bokeh !== undefined) {\n",
       "        embed_document(root);\n",
       "        clearInterval(timer);\n",
       "      }\n",
       "      attempts++;\n",
       "      if (attempts > 100) {\n",
       "        console.log(\"Bokeh: ERROR: Unable to run BokehJS code because BokehJS library is missing\")\n",
       "        clearInterval(timer);\n",
       "      }\n",
       "    }, 10, root)\n",
       "  }\n",
       "})(window);"
      ],
      "application/vnd.bokehjs_exec.v0+json": ""
     },
     "metadata": {
      "application/vnd.bokehjs_exec.v0+json": {
       "id": "1029f556-ecdb-4047-9aa4-58ff7c517e28"
      }
     },
     "output_type": "display_data"
    }
   ],
   "source": [
    "show_ratio = True\n",
    "show_merge_ratios(it1_decisions, 'PreSyn', bin_size=1, num_bins=50, show_ratio=show_ratio)\n",
    "show_merge_ratios(it1_decisions, 'PostSyn', bin_size=1, num_bins=50, show_ratio=show_ratio)\n",
    "show_merge_ratios(it1_decisions, 'TotalSyn', bin_size=1, num_bins=50, show_ratio=show_ratio)"
   ]
  },
  {
   "cell_type": "code",
   "execution_count": 361,
   "metadata": {},
   "outputs": [],
   "source": [
    "#it1_decisions.head()"
   ]
  },
  {
   "cell_type": "code",
   "execution_count": 377,
   "metadata": {},
   "outputs": [
    {
     "data": {
      "text/html": [
       "\n",
       "\n",
       "\n",
       "\n",
       "\n",
       "\n",
       "  <div class=\"bk-root\" id=\"11dd1042-07a1-48e0-93a8-f2e08a9818fd\"></div>\n"
      ]
     },
     "metadata": {},
     "output_type": "display_data"
    },
    {
     "data": {
      "application/javascript": [
       "(function(root) {\n",
       "  function embed_document(root) {\n",
       "    \n",
       "  var docs_json = {\"15a24fd7-9d17-40c8-a6bc-24092415760e\":{\"roots\":{\"references\":[{\"attributes\":{\"bottom_units\":\"screen\",\"fill_alpha\":{\"value\":0.5},\"fill_color\":{\"value\":\"lightgrey\"},\"left_units\":\"screen\",\"level\":\"overlay\",\"line_alpha\":{\"value\":1.0},\"line_color\":{\"value\":\"black\"},\"line_dash\":[4,4],\"line_width\":{\"value\":2},\"plot\":null,\"render_mode\":\"css\",\"right_units\":\"screen\",\"top_units\":\"screen\"},\"id\":\"bba6f128-2f59-4cca-80f1-b943cae331d6\",\"type\":\"BoxAnnotation\"},{\"attributes\":{},\"id\":\"b828afdf-51d6-4bf9-92dd-2e01065c1d71\",\"type\":\"PanTool\"},{\"attributes\":{\"data_source\":{\"id\":\"75325237-2011-48b5-83ad-80c932b1fe27\",\"type\":\"ColumnDataSource\"},\"glyph\":{\"id\":\"7a393fd7-f26d-4f38-ae24-a5038f2520ac\",\"type\":\"HBar\"},\"hover_glyph\":null,\"muted_glyph\":null,\"nonselection_glyph\":{\"id\":\"657b2acf-90e8-486b-b65c-3c5521a89bff\",\"type\":\"HBar\"},\"selection_glyph\":null,\"view\":{\"id\":\"e23513e6-b85e-4180-9f97-d44e281bb360\",\"type\":\"CDSView\"}},\"id\":\"d46da8ab-54ec-44d1-a9f3-f5ace2ce8045\",\"type\":\"GlyphRenderer\"},{\"attributes\":{},\"id\":\"33fe4572-a29b-4439-a872-a4ddc7143a56\",\"type\":\"WheelZoomTool\"},{\"attributes\":{\"plot\":null,\"text\":\"(Don't) Merge Counts by PostSyn\"},\"id\":\"d52fd8c2-4a3d-4487-b8a6-da8b56a82e48\",\"type\":\"Title\"},{\"attributes\":{\"fill_color\":{\"value\":\"crimson\"},\"height\":{\"value\":0.9},\"left\":{\"field\":\"left\"},\"line_color\":{\"value\":\"crimson\"},\"right\":{\"value\":0},\"y\":{\"field\":\"y\"}},\"id\":\"02cac225-47d9-4d2f-bbdc-7db04bddf07e\",\"type\":\"HBar\"},{\"attributes\":{},\"id\":\"135ebdc7-7c43-4f0c-8597-a96a7d1b7dfc\",\"type\":\"UnionRenderers\"},{\"attributes\":{},\"id\":\"61d94877-8bb6-4905-aa59-d1ff2e1910ab\",\"type\":\"BasicTicker\"},{\"attributes\":{\"axis_label\":\"PostSyn (bin = 1)\",\"formatter\":{\"id\":\"83405c4a-a545-44cf-b684-2e9f966e36b5\",\"type\":\"BasicTickFormatter\"},\"plot\":{\"id\":\"36b08f9d-32c8-4244-9097-1e8a7d50d56e\",\"subtype\":\"Figure\",\"type\":\"Plot\"},\"ticker\":{\"id\":\"af167d04-12ba-400c-9ec1-fdc40c711390\",\"type\":\"BasicTicker\"}},\"id\":\"fe6e595d-741e-48bf-b46c-499f42a0677c\",\"type\":\"LinearAxis\"},{\"attributes\":{\"dimension\":1,\"plot\":{\"id\":\"36b08f9d-32c8-4244-9097-1e8a7d50d56e\",\"subtype\":\"Figure\",\"type\":\"Plot\"},\"ticker\":{\"id\":\"af167d04-12ba-400c-9ec1-fdc40c711390\",\"type\":\"BasicTicker\"}},\"id\":\"98e6aebd-35b1-49a3-8a12-f28e8ba5c7a3\",\"type\":\"Grid\"},{\"attributes\":{\"callback\":null,\"data\":{\"right\":[6,0,0,0,1,0,0,0,2,0,0,1,0,0,1,0,0,0,0,0],\"y\":{\"__ndarray__\":\"AAAAAAAA4D8AAAAAAAD4PwAAAAAAAARAAAAAAAAADEAAAAAAAAASQAAAAAAAABZAAAAAAAAAGkAAAAAAAAAeQAAAAAAAACFAAAAAAAAAI0AAAAAAAAAlQAAAAAAAACdAAAAAAAAAKUAAAAAAAAArQAAAAAAAAC1AAAAAAAAAL0AAAAAAAIAwQAAAAAAAgDFAAAAAAACAMkAAAAAAAIAzQA==\",\"dtype\":\"float64\",\"shape\":[20]}},\"selected\":{\"id\":\"9daee7eb-a317-4245-9f8c-03b4be22c9d3\",\"type\":\"Selection\"},\"selection_policy\":{\"id\":\"135ebdc7-7c43-4f0c-8597-a96a7d1b7dfc\",\"type\":\"UnionRenderers\"}},\"id\":\"75325237-2011-48b5-83ad-80c932b1fe27\",\"type\":\"ColumnDataSource\"},{\"attributes\":{\"callback\":null,\"end\":20},\"id\":\"2b45e309-754e-4ab7-b3d7-5163c9d4dbcc\",\"type\":\"Range1d\"},{\"attributes\":{\"data_source\":{\"id\":\"089c6a4c-eb0d-4f61-b460-de957d696763\",\"type\":\"ColumnDataSource\"},\"glyph\":{\"id\":\"02cac225-47d9-4d2f-bbdc-7db04bddf07e\",\"type\":\"HBar\"},\"hover_glyph\":null,\"muted_glyph\":null,\"nonselection_glyph\":{\"id\":\"24f6d6f4-fd4a-4be3-8fc2-10425d6b2734\",\"type\":\"HBar\"},\"selection_glyph\":null,\"view\":{\"id\":\"3ad299fa-1c31-4b1b-b9a3-4b982ed2403e\",\"type\":\"CDSView\"}},\"id\":\"a1e294a7-05be-4bef-88ab-d17b2a97d848\",\"type\":\"GlyphRenderer\"},{\"attributes\":{\"active_drag\":\"auto\",\"active_inspect\":\"auto\",\"active_multi\":null,\"active_scroll\":\"auto\",\"active_tap\":\"auto\",\"tools\":[{\"id\":\"b828afdf-51d6-4bf9-92dd-2e01065c1d71\",\"type\":\"PanTool\"},{\"id\":\"33fe4572-a29b-4439-a872-a4ddc7143a56\",\"type\":\"WheelZoomTool\"},{\"id\":\"d272a626-02f8-4af6-902b-47cca8e32849\",\"type\":\"BoxZoomTool\"},{\"id\":\"7aed50e9-cdfc-407e-a52e-54775c635691\",\"type\":\"SaveTool\"},{\"id\":\"a17815c1-a073-45bf-8d9c-d80b7d046413\",\"type\":\"ResetTool\"},{\"id\":\"6612aac8-2be6-45f7-96fc-2a49f54157d1\",\"type\":\"HelpTool\"}]},\"id\":\"81684dee-0914-4392-bf34-61faad924472\",\"type\":\"Toolbar\"},{\"attributes\":{},\"id\":\"af167d04-12ba-400c-9ec1-fdc40c711390\",\"type\":\"BasicTicker\"},{\"attributes\":{},\"id\":\"ba3e0f60-9d54-4c05-9c6a-15cf776e4d84\",\"type\":\"Selection\"},{\"attributes\":{\"fill_alpha\":{\"value\":0.1},\"fill_color\":{\"value\":\"#1f77b4\"},\"height\":{\"value\":0.9},\"left\":{\"field\":\"left\"},\"line_alpha\":{\"value\":0.1},\"line_color\":{\"value\":\"#1f77b4\"},\"right\":{\"value\":0},\"y\":{\"field\":\"y\"}},\"id\":\"24f6d6f4-fd4a-4be3-8fc2-10425d6b2734\",\"type\":\"HBar\"},{\"attributes\":{\"callback\":null,\"end\":6.300000000000001,\"start\":-5.25},\"id\":\"b8664de1-69c5-4b95-ac02-f805573cff47\",\"type\":\"Range1d\"},{\"attributes\":{\"callback\":null,\"data\":{\"left\":[-1,0,-1,-1,-2,-2,-1,-1,0,0,0,0,-2,0,0,-3,-1,-1,0,-5],\"y\":{\"__ndarray__\":\"AAAAAAAA4D8AAAAAAAD4PwAAAAAAAARAAAAAAAAADEAAAAAAAAASQAAAAAAAABZAAAAAAAAAGkAAAAAAAAAeQAAAAAAAACFAAAAAAAAAI0AAAAAAAAAlQAAAAAAAACdAAAAAAAAAKUAAAAAAAAArQAAAAAAAAC1AAAAAAAAAL0AAAAAAAIAwQAAAAAAAgDFAAAAAAACAMkAAAAAAAIAzQA==\",\"dtype\":\"float64\",\"shape\":[20]}},\"selected\":{\"id\":\"ba3e0f60-9d54-4c05-9c6a-15cf776e4d84\",\"type\":\"Selection\"},\"selection_policy\":{\"id\":\"aac75c29-83b4-401c-a1b1-d0e4d80de84a\",\"type\":\"UnionRenderers\"}},\"id\":\"089c6a4c-eb0d-4f61-b460-de957d696763\",\"type\":\"ColumnDataSource\"},{\"attributes\":{},\"id\":\"6612aac8-2be6-45f7-96fc-2a49f54157d1\",\"type\":\"HelpTool\"},{\"attributes\":{},\"id\":\"9daee7eb-a317-4245-9f8c-03b4be22c9d3\",\"type\":\"Selection\"},{\"attributes\":{},\"id\":\"83405c4a-a545-44cf-b684-2e9f966e36b5\",\"type\":\"BasicTickFormatter\"},{\"attributes\":{},\"id\":\"aac75c29-83b4-401c-a1b1-d0e4d80de84a\",\"type\":\"UnionRenderers\"},{\"attributes\":{},\"id\":\"14ba24f7-0efe-4827-a01c-04e04a55b1b3\",\"type\":\"BasicTickFormatter\"},{\"attributes\":{},\"id\":\"2aa34f83-bb18-426f-b338-01621f2fef87\",\"type\":\"LinearScale\"},{\"attributes\":{},\"id\":\"a0c248ac-488d-4479-b774-4690a28a7636\",\"type\":\"LinearScale\"},{\"attributes\":{\"source\":{\"id\":\"089c6a4c-eb0d-4f61-b460-de957d696763\",\"type\":\"ColumnDataSource\"}},\"id\":\"3ad299fa-1c31-4b1b-b9a3-4b982ed2403e\",\"type\":\"CDSView\"},{\"attributes\":{\"overlay\":{\"id\":\"bba6f128-2f59-4cca-80f1-b943cae331d6\",\"type\":\"BoxAnnotation\"}},\"id\":\"d272a626-02f8-4af6-902b-47cca8e32849\",\"type\":\"BoxZoomTool\"},{\"attributes\":{\"below\":[{\"id\":\"8b9cefe7-d786-4aff-9954-6749e0f4cf65\",\"type\":\"LinearAxis\"}],\"left\":[{\"id\":\"fe6e595d-741e-48bf-b46c-499f42a0677c\",\"type\":\"LinearAxis\"}],\"plot_height\":400,\"renderers\":[{\"id\":\"8b9cefe7-d786-4aff-9954-6749e0f4cf65\",\"type\":\"LinearAxis\"},{\"id\":\"d57750e9-be76-41c3-9460-5f25a768b7eb\",\"type\":\"Grid\"},{\"id\":\"fe6e595d-741e-48bf-b46c-499f42a0677c\",\"type\":\"LinearAxis\"},{\"id\":\"98e6aebd-35b1-49a3-8a12-f28e8ba5c7a3\",\"type\":\"Grid\"},{\"id\":\"bba6f128-2f59-4cca-80f1-b943cae331d6\",\"type\":\"BoxAnnotation\"},{\"id\":\"d46da8ab-54ec-44d1-a9f3-f5ace2ce8045\",\"type\":\"GlyphRenderer\"},{\"id\":\"a1e294a7-05be-4bef-88ab-d17b2a97d848\",\"type\":\"GlyphRenderer\"}],\"title\":{\"id\":\"d52fd8c2-4a3d-4487-b8a6-da8b56a82e48\",\"type\":\"Title\"},\"toolbar\":{\"id\":\"81684dee-0914-4392-bf34-61faad924472\",\"type\":\"Toolbar\"},\"x_range\":{\"id\":\"b8664de1-69c5-4b95-ac02-f805573cff47\",\"type\":\"Range1d\"},\"x_scale\":{\"id\":\"2aa34f83-bb18-426f-b338-01621f2fef87\",\"type\":\"LinearScale\"},\"y_range\":{\"id\":\"2b45e309-754e-4ab7-b3d7-5163c9d4dbcc\",\"type\":\"Range1d\"},\"y_scale\":{\"id\":\"a0c248ac-488d-4479-b774-4690a28a7636\",\"type\":\"LinearScale\"}},\"id\":\"36b08f9d-32c8-4244-9097-1e8a7d50d56e\",\"subtype\":\"Figure\",\"type\":\"Plot\"},{\"attributes\":{},\"id\":\"a17815c1-a073-45bf-8d9c-d80b7d046413\",\"type\":\"ResetTool\"},{\"attributes\":{\"fill_color\":{\"value\":\"navy\"},\"height\":{\"value\":0.9},\"line_color\":{\"value\":\"navy\"},\"right\":{\"field\":\"right\"},\"y\":{\"field\":\"y\"}},\"id\":\"7a393fd7-f26d-4f38-ae24-a5038f2520ac\",\"type\":\"HBar\"},{\"attributes\":{\"source\":{\"id\":\"75325237-2011-48b5-83ad-80c932b1fe27\",\"type\":\"ColumnDataSource\"}},\"id\":\"e23513e6-b85e-4180-9f97-d44e281bb360\",\"type\":\"CDSView\"},{\"attributes\":{\"fill_alpha\":{\"value\":0.1},\"fill_color\":{\"value\":\"#1f77b4\"},\"height\":{\"value\":0.9},\"line_alpha\":{\"value\":0.1},\"line_color\":{\"value\":\"#1f77b4\"},\"right\":{\"field\":\"right\"},\"y\":{\"field\":\"y\"}},\"id\":\"657b2acf-90e8-486b-b65c-3c5521a89bff\",\"type\":\"HBar\"},{\"attributes\":{\"plot\":{\"id\":\"36b08f9d-32c8-4244-9097-1e8a7d50d56e\",\"subtype\":\"Figure\",\"type\":\"Plot\"},\"ticker\":{\"id\":\"61d94877-8bb6-4905-aa59-d1ff2e1910ab\",\"type\":\"BasicTicker\"}},\"id\":\"d57750e9-be76-41c3-9460-5f25a768b7eb\",\"type\":\"Grid\"},{\"attributes\":{},\"id\":\"7aed50e9-cdfc-407e-a52e-54775c635691\",\"type\":\"SaveTool\"},{\"attributes\":{\"axis_label\":\"Decision Counts (Don't Merge/Merge)\",\"formatter\":{\"id\":\"14ba24f7-0efe-4827-a01c-04e04a55b1b3\",\"type\":\"BasicTickFormatter\"},\"plot\":{\"id\":\"36b08f9d-32c8-4244-9097-1e8a7d50d56e\",\"subtype\":\"Figure\",\"type\":\"Plot\"},\"ticker\":{\"id\":\"61d94877-8bb6-4905-aa59-d1ff2e1910ab\",\"type\":\"BasicTicker\"}},\"id\":\"8b9cefe7-d786-4aff-9954-6749e0f4cf65\",\"type\":\"LinearAxis\"}],\"root_ids\":[\"36b08f9d-32c8-4244-9097-1e8a7d50d56e\"]},\"title\":\"Bokeh Application\",\"version\":\"0.13.0\"}};\n",
       "  var render_items = [{\"docid\":\"15a24fd7-9d17-40c8-a6bc-24092415760e\",\"roots\":{\"36b08f9d-32c8-4244-9097-1e8a7d50d56e\":\"11dd1042-07a1-48e0-93a8-f2e08a9818fd\"}}];\n",
       "  root.Bokeh.embed.embed_items_notebook(docs_json, render_items);\n",
       "\n",
       "  }\n",
       "  if (root.Bokeh !== undefined) {\n",
       "    embed_document(root);\n",
       "  } else {\n",
       "    var attempts = 0;\n",
       "    var timer = setInterval(function(root) {\n",
       "      if (root.Bokeh !== undefined) {\n",
       "        embed_document(root);\n",
       "        clearInterval(timer);\n",
       "      }\n",
       "      attempts++;\n",
       "      if (attempts > 100) {\n",
       "        console.log(\"Bokeh: ERROR: Unable to run BokehJS code because BokehJS library is missing\")\n",
       "        clearInterval(timer);\n",
       "      }\n",
       "    }, 10, root)\n",
       "  }\n",
       "})(window);"
      ],
      "application/vnd.bokehjs_exec.v0+json": ""
     },
     "metadata": {
      "application/vnd.bokehjs_exec.v0+json": {
       "id": "36b08f9d-32c8-4244-9097-1e8a7d50d56e"
      }
     },
     "output_type": "display_data"
    }
   ],
   "source": [
    "# Consider only 2-tbar bodies\n",
    "table = it1_decisions.copy()\n",
    "table['psd_ratio'] = table.eval('PostSyn / PreSyn')\n",
    "\n",
    "#show_merge_ratios(it1_decisions.query('PreSyn == 2'), 'PreSyn', bin_size=1, num_bins=50)\n",
    "#show_merge_ratios(it1_decisions.query('PreSyn == 2'), 'PostSyn', bin_size=1, num_bins=20, show_ratio=False)\n",
    "show_merge_ratios(it1_decisions.query('PreSyn < 2'), 'PostSyn', bin_size=1, num_bins=20, show_ratio=False)\n",
    "#show_merge_ratios(it1_decisions.query('PreSyn < 2'), 'PostSyn', bin_size=1000000, num_bins=20, show_ratio=False)\n",
    "#show_merge_ratios(it1_decisions.query('PreSyn == 2'), 'voxel_count', bin_size=1000000, num_bins=20, show_ratio=True)\n",
    "#show_merge_ratios(table.query('PreSyn >= 1 and PreSyn <= 10'), 'psd_ratio', bin_size=1, num_bins=10)\n",
    "#show_merge_ratios(it1_decisions.query('PreSyn == 2'), 'TotalSyn', bin_size=1, num_bins=50)"
   ]
  },
  {
   "cell_type": "code",
   "execution_count": 367,
   "metadata": {},
   "outputs": [
    {
     "data": {
      "text/plain": [
       "<matplotlib.axes._subplots.AxesSubplot at 0x2ac3b6e36b70>"
      ]
     },
     "execution_count": 367,
     "metadata": {},
     "output_type": "execute_result"
    },
    {
     "data": {
      "image/png": "[encoded data removed]",
      "text/plain": [
       "<Figure size 360x360 with 1 Axes>"
      ]
     },
     "metadata": {},
     "output_type": "display_data"
    }
   ],
   "source": [
    "it1_decisions.query('PreSyn == 2')['result'].value_counts().plot(kind='pie')"
   ]
  },
  {
   "cell_type": "code",
   "execution_count": 368,
   "metadata": {},
   "outputs": [
    {
     "data": {
      "text/plain": [
       "0.036166022189295655"
      ]
     },
     "execution_count": 368,
     "metadata": {},
     "output_type": "execute_result"
    }
   ],
   "source": [
    "len(it1_decisions.query('PreSyn == 2')) / len(it1_decisions)"
   ]
  },
  {
   "cell_type": "code",
   "execution_count": 369,
   "metadata": {},
   "outputs": [
    {
     "data": {
      "text/plain": [
       "110684"
      ]
     },
     "execution_count": 369,
     "metadata": {},
     "output_type": "execute_result"
    }
   ],
   "source": [
    "len(it1_decisions)"
   ]
  },
  {
   "cell_type": "code",
   "execution_count": 371,
   "metadata": {},
   "outputs": [
    {
     "data": {
      "text/plain": [
       "(4003, 22)"
      ]
     },
     "execution_count": 371,
     "metadata": {},
     "output_type": "execute_result"
    }
   ],
   "source": [
    "it1_decisions.query('PreSyn == 2').shape"
   ]
  },
  {
   "cell_type": "code",
   "execution_count": 331,
   "metadata": {},
   "outputs": [
    {
     "ename": "TypeError",
     "evalue": "('unsupported format string passed to Series.__format__', 'occurred at index assigned')",
     "output_type": "error",
     "traceback": [
      "\u001b[0;31m---------------------------------------------------------------------------\u001b[0m",
      "\u001b[0;31mTypeError\u001b[0m                                 Traceback (most recent call last)",
      "\u001b[0;32m<ipython-input-331-ca410f59e76a>\u001b[0m in \u001b[0;36m<module>\u001b[0;34m()\u001b[0m\n\u001b[1;32m      1\u001b[0m small_it1_decisions_a = (small_it1_decisions.query('result == \"merge\" or result == \"mergeLater\"')\n\u001b[0;32m----> 2\u001b[0;31m                           .round(1).apply(lambda v: f'{v:.1f}').value_counts())\n\u001b[0m",
      "\u001b[0;32m/groups/flyem/proj/cluster/miniforge/envs/flyem/lib/python3.6/site-packages/pandas/core/frame.py\u001b[0m in \u001b[0;36mapply\u001b[0;34m(self, func, axis, broadcast, raw, reduce, result_type, args, **kwds)\u001b[0m\n\u001b[1;32m   6012\u001b[0m                          \u001b[0margs\u001b[0m\u001b[0;34m=\u001b[0m\u001b[0margs\u001b[0m\u001b[0;34m,\u001b[0m\u001b[0;34m\u001b[0m\u001b[0m\n\u001b[1;32m   6013\u001b[0m                          kwds=kwds)\n\u001b[0;32m-> 6014\u001b[0;31m         \u001b[0;32mreturn\u001b[0m \u001b[0mop\u001b[0m\u001b[0;34m.\u001b[0m\u001b[0mget_result\u001b[0m\u001b[0;34m(\u001b[0m\u001b[0;34m)\u001b[0m\u001b[0;34m\u001b[0m\u001b[0m\n\u001b[0m\u001b[1;32m   6015\u001b[0m \u001b[0;34m\u001b[0m\u001b[0m\n\u001b[1;32m   6016\u001b[0m     \u001b[0;32mdef\u001b[0m \u001b[0mapplymap\u001b[0m\u001b[0;34m(\u001b[0m\u001b[0mself\u001b[0m\u001b[0;34m,\u001b[0m \u001b[0mfunc\u001b[0m\u001b[0;34m)\u001b[0m\u001b[0;34m:\u001b[0m\u001b[0;34m\u001b[0m\u001b[0m\n",
      "\u001b[0;32m/groups/flyem/proj/cluster/miniforge/envs/flyem/lib/python3.6/site-packages/pandas/core/apply.py\u001b[0m in \u001b[0;36mget_result\u001b[0;34m(self)\u001b[0m\n\u001b[1;32m    316\u001b[0m                                       *self.args, **self.kwds)\n\u001b[1;32m    317\u001b[0m \u001b[0;34m\u001b[0m\u001b[0m\n\u001b[0;32m--> 318\u001b[0;31m         \u001b[0;32mreturn\u001b[0m \u001b[0msuper\u001b[0m\u001b[0;34m(\u001b[0m\u001b[0mFrameRowApply\u001b[0m\u001b[0;34m,\u001b[0m \u001b[0mself\u001b[0m\u001b[0;34m)\u001b[0m\u001b[0;34m.\u001b[0m\u001b[0mget_result\u001b[0m\u001b[0;34m(\u001b[0m\u001b[0;34m)\u001b[0m\u001b[0;34m\u001b[0m\u001b[0m\n\u001b[0m\u001b[1;32m    319\u001b[0m \u001b[0;34m\u001b[0m\u001b[0m\n\u001b[1;32m    320\u001b[0m     \u001b[0;32mdef\u001b[0m \u001b[0mapply_broadcast\u001b[0m\u001b[0;34m(\u001b[0m\u001b[0mself\u001b[0m\u001b[0;34m)\u001b[0m\u001b[0;34m:\u001b[0m\u001b[0;34m\u001b[0m\u001b[0m\n",
      "\u001b[0;32m/groups/flyem/proj/cluster/miniforge/envs/flyem/lib/python3.6/site-packages/pandas/core/apply.py\u001b[0m in \u001b[0;36mget_result\u001b[0;34m(self)\u001b[0m\n\u001b[1;32m    140\u001b[0m             \u001b[0;32mreturn\u001b[0m \u001b[0mself\u001b[0m\u001b[0;34m.\u001b[0m\u001b[0mapply_raw\u001b[0m\u001b[0;34m(\u001b[0m\u001b[0;34m)\u001b[0m\u001b[0;34m\u001b[0m\u001b[0m\n\u001b[1;32m    141\u001b[0m \u001b[0;34m\u001b[0m\u001b[0m\n\u001b[0;32m--> 142\u001b[0;31m         \u001b[0;32mreturn\u001b[0m \u001b[0mself\u001b[0m\u001b[0;34m.\u001b[0m\u001b[0mapply_standard\u001b[0m\u001b[0;34m(\u001b[0m\u001b[0;34m)\u001b[0m\u001b[0;34m\u001b[0m\u001b[0m\n\u001b[0m\u001b[1;32m    143\u001b[0m \u001b[0;34m\u001b[0m\u001b[0m\n\u001b[1;32m    144\u001b[0m     \u001b[0;32mdef\u001b[0m \u001b[0mapply_empty_result\u001b[0m\u001b[0;34m(\u001b[0m\u001b[0mself\u001b[0m\u001b[0;34m)\u001b[0m\u001b[0;34m:\u001b[0m\u001b[0;34m\u001b[0m\u001b[0m\n",
      "\u001b[0;32m/groups/flyem/proj/cluster/miniforge/envs/flyem/lib/python3.6/site-packages/pandas/core/apply.py\u001b[0m in \u001b[0;36mapply_standard\u001b[0;34m(self)\u001b[0m\n\u001b[1;32m    246\u001b[0m \u001b[0;34m\u001b[0m\u001b[0m\n\u001b[1;32m    247\u001b[0m         \u001b[0;31m# compute the result using the series generator\u001b[0m\u001b[0;34m\u001b[0m\u001b[0;34m\u001b[0m\u001b[0m\n\u001b[0;32m--> 248\u001b[0;31m         \u001b[0mself\u001b[0m\u001b[0;34m.\u001b[0m\u001b[0mapply_series_generator\u001b[0m\u001b[0;34m(\u001b[0m\u001b[0;34m)\u001b[0m\u001b[0;34m\u001b[0m\u001b[0m\n\u001b[0m\u001b[1;32m    249\u001b[0m \u001b[0;34m\u001b[0m\u001b[0m\n\u001b[1;32m    250\u001b[0m         \u001b[0;31m# wrap results\u001b[0m\u001b[0;34m\u001b[0m\u001b[0;34m\u001b[0m\u001b[0m\n",
      "\u001b[0;32m/groups/flyem/proj/cluster/miniforge/envs/flyem/lib/python3.6/site-packages/pandas/core/apply.py\u001b[0m in \u001b[0;36mapply_series_generator\u001b[0;34m(self)\u001b[0m\n\u001b[1;32m    275\u001b[0m             \u001b[0;32mtry\u001b[0m\u001b[0;34m:\u001b[0m\u001b[0;34m\u001b[0m\u001b[0m\n\u001b[1;32m    276\u001b[0m                 \u001b[0;32mfor\u001b[0m \u001b[0mi\u001b[0m\u001b[0;34m,\u001b[0m \u001b[0mv\u001b[0m \u001b[0;32min\u001b[0m \u001b[0menumerate\u001b[0m\u001b[0;34m(\u001b[0m\u001b[0mseries_gen\u001b[0m\u001b[0;34m)\u001b[0m\u001b[0;34m:\u001b[0m\u001b[0;34m\u001b[0m\u001b[0m\n\u001b[0;32m--> 277\u001b[0;31m                     \u001b[0mresults\u001b[0m\u001b[0;34m[\u001b[0m\u001b[0mi\u001b[0m\u001b[0;34m]\u001b[0m \u001b[0;34m=\u001b[0m \u001b[0mself\u001b[0m\u001b[0;34m.\u001b[0m\u001b[0mf\u001b[0m\u001b[0;34m(\u001b[0m\u001b[0mv\u001b[0m\u001b[0;34m)\u001b[0m\u001b[0;34m\u001b[0m\u001b[0m\n\u001b[0m\u001b[1;32m    278\u001b[0m                     \u001b[0mkeys\u001b[0m\u001b[0;34m.\u001b[0m\u001b[0mappend\u001b[0m\u001b[0;34m(\u001b[0m\u001b[0mv\u001b[0m\u001b[0;34m.\u001b[0m\u001b[0mname\u001b[0m\u001b[0;34m)\u001b[0m\u001b[0;34m\u001b[0m\u001b[0m\n\u001b[1;32m    279\u001b[0m             \u001b[0;32mexcept\u001b[0m \u001b[0mException\u001b[0m \u001b[0;32mas\u001b[0m \u001b[0me\u001b[0m\u001b[0;34m:\u001b[0m\u001b[0;34m\u001b[0m\u001b[0m\n",
      "\u001b[0;32m<ipython-input-331-ca410f59e76a>\u001b[0m in \u001b[0;36m<lambda>\u001b[0;34m(v)\u001b[0m\n\u001b[1;32m      1\u001b[0m small_it1_decisions_a = (small_it1_decisions.query('result == \"merge\" or result == \"mergeLater\"')\n\u001b[0;32m----> 2\u001b[0;31m                           .round(1).apply(lambda v: f'{v:.1f}').value_counts())\n\u001b[0m",
      "\u001b[0;31mTypeError\u001b[0m: ('unsupported format string passed to Series.__format__', 'occurred at index assigned')"
     ]
    }
   ],
   "source": [
    "small_it1_decisions_a = (small_it1_decisions.query('result == \"merge\" or result == \"mergeLater\"')\n",
    "                          .round(1).apply(lambda v: f'{v:.1f}').value_counts())"
   ]
  },
  {
   "cell_type": "code",
   "execution_count": null,
   "metadata": {},
   "outputs": [],
   "source": []
  },
  {
   "cell_type": "code",
   "execution_count": null,
   "metadata": {},
   "outputs": [],
   "source": []
  },
  {
   "cell_type": "code",
   "execution_count": null,
   "metadata": {},
   "outputs": [],
   "source": []
  },
  {
   "cell_type": "code",
   "execution_count": null,
   "metadata": {},
   "outputs": [],
   "source": []
  },
  {
   "cell_type": "code",
   "execution_count": null,
   "metadata": {},
   "outputs": [],
   "source": []
  },
  {
   "cell_type": "code",
   "execution_count": 257,
   "metadata": {},
   "outputs": [],
   "source": [
    "small_assigned_merge_counts = (small_it1_decisions.query('result == \"merge\" or result == \"mergeLater\"')['score']\n",
    "                          .round(1).apply(lambda v: f'{v:.1f}').value_counts())\n",
    "small_assigned_merge_counts.index.name = 'score'\n",
    "small_assigned_merge_counts.name = 'count'\n",
    "small_assigned_merge_counts = pd.DataFrame(small_assigned_merge_counts).reset_index()\n",
    "small_assigned_merge_counts.sort_values('score', inplace=True)\n",
    "small_assigned_merge_counts.query('score != \"nan\"', inplace=True)\n",
    "\n",
    "small_assigned_dontmerge_counts = (small_it1_decisions.query('result == \"dontMerge\"')['score']\n",
    "                          .round(1).apply(lambda v: f'{v:.1f}').value_counts())\n",
    "small_assigned_dontmerge_counts.index.name = 'score'\n",
    "small_assigned_dontmerge_counts.name = 'count'\n",
    "small_assigned_dontmerge_counts = pd.DataFrame(small_assigned_dontmerge_counts).reset_index()\n",
    "small_assigned_dontmerge_counts.sort_values('score', inplace=True)\n",
    "small_assigned_dontmerge_counts.query('score != \"nan\"', inplace=True)"
   ]
  },
  {
   "cell_type": "code",
   "execution_count": 258,
   "metadata": {},
   "outputs": [
    {
     "data": {
      "text/html": [
       "\n",
       "\n",
       "\n",
       "\n",
       "\n",
       "\n",
       "  <div class=\"bk-root\" id=\"4f0f6866-1aba-4573-91e2-00ae16d6bb0d\"></div>\n"
      ]
     },
     "metadata": {},
     "output_type": "display_data"
    },
    {
     "data": {
      "application/javascript": [
       "(function(root) {\n",
       "  function embed_document(root) {\n",
       "    \n",
       "  var docs_json = {\"556443fa-0f70-439c-b7d3-84f7bf8421e9\":{\"roots\":{\"references\":[{\"attributes\":{\"callback\":null,\"data\":{\"right\":[194,143,69,34,24,21,21,11,15],\"y\":[\"13.0\",\"13.1\",\"13.2\",\"13.3\",\"13.4\",\"13.5\",\"13.6\",\"13.7\",\"13.8\"]},\"selected\":{\"id\":\"79080338-cb10-4700-af7a-194127b70523\",\"type\":\"Selection\"},\"selection_policy\":{\"id\":\"00c4ac3b-c12e-400c-9632-27be5f07ac4d\",\"type\":\"UnionRenderers\"}},\"id\":\"530a4968-a57f-4216-88da-5ad58c81b3c0\",\"type\":\"ColumnDataSource\"},{\"attributes\":{},\"id\":\"367225e3-d751-4397-bae3-fbafb72ca93e\",\"type\":\"UnionRenderers\"},{\"attributes\":{\"data_source\":{\"id\":\"57872859-5dfa-4233-99e2-68ac36e9b093\",\"type\":\"ColumnDataSource\"},\"glyph\":{\"id\":\"9458d570-8f49-4425-961e-c8956939d612\",\"type\":\"HBar\"},\"hover_glyph\":null,\"muted_glyph\":null,\"nonselection_glyph\":{\"id\":\"616e1dd0-6b89-406d-a9e0-8efb32cfb428\",\"type\":\"HBar\"},\"selection_glyph\":null,\"view\":{\"id\":\"d5ee2947-cdfd-4ebf-92d1-f4daa1d8cde6\",\"type\":\"CDSView\"}},\"id\":\"5aad8341-51a1-422b-b29e-5c83a74b9ad7\",\"type\":\"GlyphRenderer\"},{\"attributes\":{\"source\":{\"id\":\"57872859-5dfa-4233-99e2-68ac36e9b093\",\"type\":\"ColumnDataSource\"}},\"id\":\"d5ee2947-cdfd-4ebf-92d1-f4daa1d8cde6\",\"type\":\"CDSView\"},{\"attributes\":{},\"id\":\"5c2a0f78-72ec-4277-8ec3-abed06ecff9c\",\"type\":\"CategoricalTickFormatter\"},{\"attributes\":{\"source\":{\"id\":\"530a4968-a57f-4216-88da-5ad58c81b3c0\",\"type\":\"ColumnDataSource\"}},\"id\":\"0682f989-aeac-4f39-ae4d-800da5283280\",\"type\":\"CDSView\"},{\"attributes\":{},\"id\":\"e925a53d-4a6b-4583-8cb0-fbd5a0e43cbd\",\"type\":\"Selection\"},{\"attributes\":{\"fill_alpha\":{\"value\":0.1},\"fill_color\":{\"value\":\"#1f77b4\"},\"height\":{\"value\":0.9},\"left\":{\"field\":\"left\"},\"line_alpha\":{\"value\":0.1},\"line_color\":{\"value\":\"#1f77b4\"},\"right\":{\"value\":0},\"y\":{\"field\":\"y\"}},\"id\":\"616e1dd0-6b89-406d-a9e0-8efb32cfb428\",\"type\":\"HBar\"},{\"attributes\":{\"below\":[{\"id\":\"94845516-a655-4102-9874-72c3634e9c7c\",\"type\":\"LinearAxis\"}],\"left\":[{\"id\":\"91840334-b671-4046-a6fb-29d9838ca0f7\",\"type\":\"CategoricalAxis\"}],\"plot_height\":300,\"renderers\":[{\"id\":\"94845516-a655-4102-9874-72c3634e9c7c\",\"type\":\"LinearAxis\"},{\"id\":\"f2a48186-6aba-4029-9139-712f3b68fca9\",\"type\":\"Grid\"},{\"id\":\"91840334-b671-4046-a6fb-29d9838ca0f7\",\"type\":\"CategoricalAxis\"},{\"id\":\"ea9a44c8-bfc9-47bc-b06a-ad469c821121\",\"type\":\"Grid\"},{\"id\":\"5904c34b-a8cd-459d-9c7c-a847775091e4\",\"type\":\"BoxAnnotation\"},{\"id\":\"609fe82c-6db8-44e6-a943-0d78df87c2a0\",\"type\":\"GlyphRenderer\"},{\"id\":\"5aad8341-51a1-422b-b29e-5c83a74b9ad7\",\"type\":\"GlyphRenderer\"}],\"title\":{\"id\":\"217d36f5-a321-405d-8ac8-c29ed6fada27\",\"type\":\"Title\"},\"toolbar\":{\"id\":\"49fea57d-4eeb-485c-acad-1fba3308e989\",\"type\":\"Toolbar\"},\"x_range\":{\"id\":\"eb959f45-e61a-4b77-b9d8-c8ea703891bc\",\"type\":\"Range1d\"},\"x_scale\":{\"id\":\"66df6cb2-8ded-45ea-8bc0-6cd5a4d79cd6\",\"type\":\"LinearScale\"},\"y_range\":{\"id\":\"b7722247-3840-4e33-b6e5-f01e47b52514\",\"type\":\"FactorRange\"},\"y_scale\":{\"id\":\"ab901a23-f1dd-41a9-82a9-a489237c50d9\",\"type\":\"CategoricalScale\"}},\"id\":\"35f30d2d-05cd-4d46-9dbd-b09fc7c818b2\",\"subtype\":\"Figure\",\"type\":\"Plot\"},{\"attributes\":{\"active_drag\":\"auto\",\"active_inspect\":\"auto\",\"active_multi\":null,\"active_scroll\":\"auto\",\"active_tap\":\"auto\",\"tools\":[{\"id\":\"7742ff4f-ac49-4cb0-b9e9-27c57adaa4b5\",\"type\":\"PanTool\"},{\"id\":\"72b71240-5e4a-4cc2-af3f-61b0b84732f0\",\"type\":\"WheelZoomTool\"},{\"id\":\"6a7df46b-ef7e-4f2f-a525-b785fff200b2\",\"type\":\"BoxZoomTool\"},{\"id\":\"82e9127c-9153-438c-9e02-e495ecb0fba5\",\"type\":\"SaveTool\"},{\"id\":\"1a27a6e1-efca-4cb1-90e2-4428057bc9c5\",\"type\":\"ResetTool\"},{\"id\":\"e6a0a536-f31b-4370-ac29-b43ceaee4cd3\",\"type\":\"HelpTool\"}]},\"id\":\"49fea57d-4eeb-485c-acad-1fba3308e989\",\"type\":\"Toolbar\"},{\"attributes\":{},\"id\":\"e6a0a536-f31b-4370-ac29-b43ceaee4cd3\",\"type\":\"HelpTool\"},{\"attributes\":{\"callback\":null,\"factors\":[\"13.8\",\"13.7\",\"13.6\",\"13.5\",\"13.4\",\"13.3\",\"13.2\",\"13.1\",\"13.0\"]},\"id\":\"b7722247-3840-4e33-b6e5-f01e47b52514\",\"type\":\"FactorRange\"},{\"attributes\":{},\"id\":\"66df6cb2-8ded-45ea-8bc0-6cd5a4d79cd6\",\"type\":\"LinearScale\"},{\"attributes\":{\"callback\":null,\"end\":213.4,\"start\":-800.8000000000001},\"id\":\"eb959f45-e61a-4b77-b9d8-c8ea703891bc\",\"type\":\"Range1d\"},{\"attributes\":{\"plot\":null,\"text\":\"2-tbar body (Don't) Merge Counts by Score\"},\"id\":\"217d36f5-a321-405d-8ac8-c29ed6fada27\",\"type\":\"Title\"},{\"attributes\":{\"formatter\":{\"id\":\"5f32f189-298a-4a58-adde-55873c70d0d8\",\"type\":\"BasicTickFormatter\"},\"plot\":{\"id\":\"35f30d2d-05cd-4d46-9dbd-b09fc7c818b2\",\"subtype\":\"Figure\",\"type\":\"Plot\"},\"ticker\":{\"id\":\"3b69d48d-e019-401d-88ed-ac591c4412be\",\"type\":\"BasicTicker\"}},\"id\":\"94845516-a655-4102-9874-72c3634e9c7c\",\"type\":\"LinearAxis\"},{\"attributes\":{},\"id\":\"ab901a23-f1dd-41a9-82a9-a489237c50d9\",\"type\":\"CategoricalScale\"},{\"attributes\":{\"plot\":{\"id\":\"35f30d2d-05cd-4d46-9dbd-b09fc7c818b2\",\"subtype\":\"Figure\",\"type\":\"Plot\"},\"ticker\":{\"id\":\"3b69d48d-e019-401d-88ed-ac591c4412be\",\"type\":\"BasicTicker\"}},\"id\":\"f2a48186-6aba-4029-9139-712f3b68fca9\",\"type\":\"Grid\"},{\"attributes\":{\"fill_color\":{\"value\":\"crimson\"},\"height\":{\"value\":0.9},\"left\":{\"field\":\"left\"},\"line_color\":{\"value\":\"crimson\"},\"right\":{\"value\":0},\"y\":{\"field\":\"y\"}},\"id\":\"9458d570-8f49-4425-961e-c8956939d612\",\"type\":\"HBar\"},{\"attributes\":{},\"id\":\"00c4ac3b-c12e-400c-9632-27be5f07ac4d\",\"type\":\"UnionRenderers\"},{\"attributes\":{},\"id\":\"82e9127c-9153-438c-9e02-e495ecb0fba5\",\"type\":\"SaveTool\"},{\"attributes\":{},\"id\":\"5f32f189-298a-4a58-adde-55873c70d0d8\",\"type\":\"BasicTickFormatter\"},{\"attributes\":{\"fill_color\":{\"value\":\"navy\"},\"height\":{\"value\":0.9},\"line_color\":{\"value\":\"navy\"},\"right\":{\"field\":\"right\"},\"y\":{\"field\":\"y\"}},\"id\":\"67f6a1b9-c0e6-492a-9b95-cd9c8ec02fae\",\"type\":\"HBar\"},{\"attributes\":{},\"id\":\"72b71240-5e4a-4cc2-af3f-61b0b84732f0\",\"type\":\"WheelZoomTool\"},{\"attributes\":{\"overlay\":{\"id\":\"5904c34b-a8cd-459d-9c7c-a847775091e4\",\"type\":\"BoxAnnotation\"}},\"id\":\"6a7df46b-ef7e-4f2f-a525-b785fff200b2\",\"type\":\"BoxZoomTool\"},{\"attributes\":{\"callback\":null,\"data\":{\"left\":[-728,-429,-171,-119,-76,-47,-61,-84,-111,-61],\"y\":[\"13.0\",\"13.1\",\"13.2\",\"13.3\",\"13.4\",\"13.5\",\"13.6\",\"13.7\",\"13.8\",\"13.9\"]},\"selected\":{\"id\":\"e925a53d-4a6b-4583-8cb0-fbd5a0e43cbd\",\"type\":\"Selection\"},\"selection_policy\":{\"id\":\"367225e3-d751-4397-bae3-fbafb72ca93e\",\"type\":\"UnionRenderers\"}},\"id\":\"57872859-5dfa-4233-99e2-68ac36e9b093\",\"type\":\"ColumnDataSource\"},{\"attributes\":{},\"id\":\"79080338-cb10-4700-af7a-194127b70523\",\"type\":\"Selection\"},{\"attributes\":{},\"id\":\"1a27a6e1-efca-4cb1-90e2-4428057bc9c5\",\"type\":\"ResetTool\"},{\"attributes\":{},\"id\":\"3b69d48d-e019-401d-88ed-ac591c4412be\",\"type\":\"BasicTicker\"},{\"attributes\":{},\"id\":\"85a701ac-084d-4cfe-8d33-0a7ad12f6d17\",\"type\":\"CategoricalTicker\"},{\"attributes\":{},\"id\":\"7742ff4f-ac49-4cb0-b9e9-27c57adaa4b5\",\"type\":\"PanTool\"},{\"attributes\":{\"fill_alpha\":{\"value\":0.1},\"fill_color\":{\"value\":\"#1f77b4\"},\"height\":{\"value\":0.9},\"line_alpha\":{\"value\":0.1},\"line_color\":{\"value\":\"#1f77b4\"},\"right\":{\"field\":\"right\"},\"y\":{\"field\":\"y\"}},\"id\":\"884c81ed-574b-4976-91c6-6fb5c82a6fd2\",\"type\":\"HBar\"},{\"attributes\":{\"bottom_units\":\"screen\",\"fill_alpha\":{\"value\":0.5},\"fill_color\":{\"value\":\"lightgrey\"},\"left_units\":\"screen\",\"level\":\"overlay\",\"line_alpha\":{\"value\":1.0},\"line_color\":{\"value\":\"black\"},\"line_dash\":[4,4],\"line_width\":{\"value\":2},\"plot\":null,\"render_mode\":\"css\",\"right_units\":\"screen\",\"top_units\":\"screen\"},\"id\":\"5904c34b-a8cd-459d-9c7c-a847775091e4\",\"type\":\"BoxAnnotation\"},{\"attributes\":{\"dimension\":1,\"plot\":{\"id\":\"35f30d2d-05cd-4d46-9dbd-b09fc7c818b2\",\"subtype\":\"Figure\",\"type\":\"Plot\"},\"ticker\":{\"id\":\"85a701ac-084d-4cfe-8d33-0a7ad12f6d17\",\"type\":\"CategoricalTicker\"}},\"id\":\"ea9a44c8-bfc9-47bc-b06a-ad469c821121\",\"type\":\"Grid\"},{\"attributes\":{\"formatter\":{\"id\":\"5c2a0f78-72ec-4277-8ec3-abed06ecff9c\",\"type\":\"CategoricalTickFormatter\"},\"plot\":{\"id\":\"35f30d2d-05cd-4d46-9dbd-b09fc7c818b2\",\"subtype\":\"Figure\",\"type\":\"Plot\"},\"ticker\":{\"id\":\"85a701ac-084d-4cfe-8d33-0a7ad12f6d17\",\"type\":\"CategoricalTicker\"}},\"id\":\"91840334-b671-4046-a6fb-29d9838ca0f7\",\"type\":\"CategoricalAxis\"},{\"attributes\":{\"data_source\":{\"id\":\"530a4968-a57f-4216-88da-5ad58c81b3c0\",\"type\":\"ColumnDataSource\"},\"glyph\":{\"id\":\"67f6a1b9-c0e6-492a-9b95-cd9c8ec02fae\",\"type\":\"HBar\"},\"hover_glyph\":null,\"muted_glyph\":null,\"nonselection_glyph\":{\"id\":\"884c81ed-574b-4976-91c6-6fb5c82a6fd2\",\"type\":\"HBar\"},\"selection_glyph\":null,\"view\":{\"id\":\"0682f989-aeac-4f39-ae4d-800da5283280\",\"type\":\"CDSView\"}},\"id\":\"609fe82c-6db8-44e6-a943-0d78df87c2a0\",\"type\":\"GlyphRenderer\"}],\"root_ids\":[\"35f30d2d-05cd-4d46-9dbd-b09fc7c818b2\"]},\"title\":\"Bokeh Application\",\"version\":\"0.13.0\"}};\n",
       "  var render_items = [{\"docid\":\"556443fa-0f70-439c-b7d3-84f7bf8421e9\",\"roots\":{\"35f30d2d-05cd-4d46-9dbd-b09fc7c818b2\":\"4f0f6866-1aba-4573-91e2-00ae16d6bb0d\"}}];\n",
       "  root.Bokeh.embed.embed_items_notebook(docs_json, render_items);\n",
       "\n",
       "  }\n",
       "  if (root.Bokeh !== undefined) {\n",
       "    embed_document(root);\n",
       "  } else {\n",
       "    var attempts = 0;\n",
       "    var timer = setInterval(function(root) {\n",
       "      if (root.Bokeh !== undefined) {\n",
       "        embed_document(root);\n",
       "        clearInterval(timer);\n",
       "      }\n",
       "      attempts++;\n",
       "      if (attempts > 100) {\n",
       "        console.log(\"Bokeh: ERROR: Unable to run BokehJS code because BokehJS library is missing\")\n",
       "        clearInterval(timer);\n",
       "      }\n",
       "    }, 10, root)\n",
       "  }\n",
       "})(window);"
      ],
      "application/vnd.bokehjs_exec.v0+json": ""
     },
     "metadata": {
      "application/vnd.bokehjs_exec.v0+json": {
       "id": "35f30d2d-05cd-4d46-9dbd-b09fc7c818b2"
      }
     },
     "output_type": "display_data"
    },
    {
     "data": {
      "text/html": [
       "<div>\n",
       "<style scoped>\n",
       "    .dataframe tbody tr th:only-of-type {\n",
       "        vertical-align: middle;\n",
       "    }\n",
       "\n",
       "    .dataframe tbody tr th {\n",
       "        vertical-align: top;\n",
       "    }\n",
       "\n",
       "    .dataframe thead th {\n",
       "        text-align: right;\n",
       "    }\n",
       "</style>\n",
       "<table border=\"1\" class=\"dataframe\">\n",
       "  <thead>\n",
       "    <tr style=\"text-align: right;\">\n",
       "      <th></th>\n",
       "      <th>ratio</th>\n",
       "    </tr>\n",
       "    <tr>\n",
       "      <th>score</th>\n",
       "      <th></th>\n",
       "    </tr>\n",
       "  </thead>\n",
       "  <tbody>\n",
       "    <tr>\n",
       "      <th>13.0</th>\n",
       "      <td>0.210412</td>\n",
       "    </tr>\n",
       "    <tr>\n",
       "      <th>13.1</th>\n",
       "      <td>0.250000</td>\n",
       "    </tr>\n",
       "    <tr>\n",
       "      <th>13.2</th>\n",
       "      <td>0.287500</td>\n",
       "    </tr>\n",
       "    <tr>\n",
       "      <th>13.3</th>\n",
       "      <td>0.222222</td>\n",
       "    </tr>\n",
       "    <tr>\n",
       "      <th>13.4</th>\n",
       "      <td>0.240000</td>\n",
       "    </tr>\n",
       "    <tr>\n",
       "      <th>13.5</th>\n",
       "      <td>0.308824</td>\n",
       "    </tr>\n",
       "    <tr>\n",
       "      <th>13.6</th>\n",
       "      <td>0.256098</td>\n",
       "    </tr>\n",
       "    <tr>\n",
       "      <th>13.7</th>\n",
       "      <td>0.115789</td>\n",
       "    </tr>\n",
       "    <tr>\n",
       "      <th>13.8</th>\n",
       "      <td>0.119048</td>\n",
       "    </tr>\n",
       "    <tr>\n",
       "      <th>13.9</th>\n",
       "      <td>NaN</td>\n",
       "    </tr>\n",
       "  </tbody>\n",
       "</table>\n",
       "</div>"
      ],
      "text/plain": [
       "          ratio\n",
       "score          \n",
       "13.0   0.210412\n",
       "13.1   0.250000\n",
       "13.2   0.287500\n",
       "13.3   0.222222\n",
       "13.4   0.240000\n",
       "13.5   0.308824\n",
       "13.6   0.256098\n",
       "13.7   0.115789\n",
       "13.8   0.119048\n",
       "13.9        NaN"
      ]
     },
     "execution_count": 258,
     "metadata": {},
     "output_type": "execute_result"
    }
   ],
   "source": [
    "merge_max = small_assigned_merge_counts['count'].max()\n",
    "dontmerge_max = small_assigned_dontmerge_counts['count'].max()\n",
    "\n",
    "p = figure( y_range=small_assigned_merge_counts['score'][::-1],\n",
    "            plot_height=300,\n",
    "            x_range=(-dontmerge_max*1.1, merge_max*1.1),\n",
    "            title=\"2-tbar body (Don't) Merge Counts by Score\" )\n",
    "\n",
    "p.hbar(small_assigned_merge_counts['score'],\n",
    "       0.9,\n",
    "       small_assigned_merge_counts['count'],\n",
    "       color='navy')\n",
    "\n",
    "p.hbar(small_assigned_dontmerge_counts['score'],\n",
    "       0.9,\n",
    "       0,\n",
    "       -small_assigned_dontmerge_counts['count'],\n",
    "       color='crimson')\n",
    "\n",
    "show(p)\n",
    "\n",
    "merge_count_table = small_assigned_merge_counts.merge(small_assigned_dontmerge_counts,\n",
    "                                                      how='outer', on='score', suffixes=['_merge', '_dontMerge'])\n",
    "merge_count_table['ratio'] = merge_count_table['count_merge'] / ( merge_count_table['count_merge'] + merge_count_table['count_dontMerge'] )\n",
    "merge_count_table[['score', 'ratio']].set_index('score')"
   ]
  },
  {
   "cell_type": "code",
   "execution_count": 256,
   "metadata": {},
   "outputs": [
    {
     "data": {
      "text/html": [
       "\n",
       "\n",
       "\n",
       "\n",
       "\n",
       "\n",
       "  <div class=\"bk-root\" id=\"b70e7fcf-7e1a-4a0f-aec3-f86e20030f63\"></div>\n"
      ]
     },
     "metadata": {},
     "output_type": "display_data"
    },
    {
     "data": {
      "application/javascript": [
       "(function(root) {\n",
       "  function embed_document(root) {\n",
       "    \n",
       "  var docs_json = {\"6b4ff6a7-de7b-4005-9c61-5f0f347c4137\":{\"roots\":{\"references\":[{\"attributes\":{\"formatter\":{\"id\":\"8d0bb12d-80fe-461d-8012-5951dba6dabf\",\"type\":\"CategoricalTickFormatter\"},\"plot\":{\"id\":\"5622545a-9577-4bfb-a871-69ac066504f5\",\"subtype\":\"Figure\",\"type\":\"Plot\"},\"ticker\":{\"id\":\"6a9b1899-37ce-4198-9971-b862ee82b643\",\"type\":\"CategoricalTicker\"}},\"id\":\"ab64b4ed-fb2b-45b0-83c6-6ddb03b3ae75\",\"type\":\"CategoricalAxis\"},{\"attributes\":{},\"id\":\"20283305-845e-4ef1-a467-87c5d9e0cc71\",\"type\":\"PanTool\"},{\"attributes\":{\"bottom_units\":\"screen\",\"fill_alpha\":{\"value\":0.5},\"fill_color\":{\"value\":\"lightgrey\"},\"left_units\":\"screen\",\"level\":\"overlay\",\"line_alpha\":{\"value\":1.0},\"line_color\":{\"value\":\"black\"},\"line_dash\":[4,4],\"line_width\":{\"value\":2},\"plot\":null,\"render_mode\":\"css\",\"right_units\":\"screen\",\"top_units\":\"screen\"},\"id\":\"cab18444-ac39-4d65-b120-27f5b72e0583\",\"type\":\"BoxAnnotation\"},{\"attributes\":{},\"id\":\"9d4025c5-fb28-4278-86e6-9a34c28d1689\",\"type\":\"HelpTool\"},{\"attributes\":{\"plot\":null,\"text\":\"Unreviewed Counts by Score\"},\"id\":\"14662c50-2c27-4b2f-9b0b-33a222e60685\",\"type\":\"Title\"},{\"attributes\":{},\"id\":\"580cb0f1-4d2f-4659-8875-5b2201d0f528\",\"type\":\"ResetTool\"},{\"attributes\":{\"callback\":null,\"end\":29286.4},\"id\":\"945ba9c2-a73f-4b09-91b0-09e9affb998e\",\"type\":\"Range1d\"},{\"attributes\":{},\"id\":\"b9576425-1a37-4f4a-8de5-6097ffc5ef11\",\"type\":\"SaveTool\"},{\"attributes\":{\"active_drag\":\"auto\",\"active_inspect\":\"auto\",\"active_multi\":null,\"active_scroll\":\"auto\",\"active_tap\":\"auto\",\"tools\":[{\"id\":\"20283305-845e-4ef1-a467-87c5d9e0cc71\",\"type\":\"PanTool\"},{\"id\":\"fa6fd9f8-ddd3-47ab-ab60-5010399aba92\",\"type\":\"WheelZoomTool\"},{\"id\":\"474a580d-42b5-4143-a84f-8c59fd0f704c\",\"type\":\"BoxZoomTool\"},{\"id\":\"b9576425-1a37-4f4a-8de5-6097ffc5ef11\",\"type\":\"SaveTool\"},{\"id\":\"580cb0f1-4d2f-4659-8875-5b2201d0f528\",\"type\":\"ResetTool\"},{\"id\":\"9d4025c5-fb28-4278-86e6-9a34c28d1689\",\"type\":\"HelpTool\"}]},\"id\":\"7c935857-98f8-4ecd-8ca5-ed7140151472\",\"type\":\"Toolbar\"},{\"attributes\":{\"overlay\":{\"id\":\"cab18444-ac39-4d65-b120-27f5b72e0583\",\"type\":\"BoxAnnotation\"}},\"id\":\"474a580d-42b5-4143-a84f-8c59fd0f704c\",\"type\":\"BoxZoomTool\"},{\"attributes\":{},\"id\":\"6a9b1899-37ce-4198-9971-b862ee82b643\",\"type\":\"CategoricalTicker\"},{\"attributes\":{},\"id\":\"fa6fd9f8-ddd3-47ab-ab60-5010399aba92\",\"type\":\"WheelZoomTool\"},{\"attributes\":{\"dimension\":1,\"plot\":{\"id\":\"5622545a-9577-4bfb-a871-69ac066504f5\",\"subtype\":\"Figure\",\"type\":\"Plot\"},\"ticker\":{\"id\":\"6a9b1899-37ce-4198-9971-b862ee82b643\",\"type\":\"CategoricalTicker\"}},\"id\":\"bfaf95c6-64ff-42e7-ae09-cd058f7197ef\",\"type\":\"Grid\"},{\"attributes\":{},\"id\":\"6ca460f2-d8ea-4e7c-9cb4-de80ddc84242\",\"type\":\"LinearScale\"},{\"attributes\":{\"fill_alpha\":{\"value\":0.1},\"fill_color\":{\"value\":\"#1f77b4\"},\"height\":{\"value\":0.9},\"left\":{\"field\":\"left\"},\"line_alpha\":{\"value\":0.1},\"line_color\":{\"value\":\"#1f77b4\"},\"right\":{\"value\":0},\"y\":{\"field\":\"y\"}},\"id\":\"ad36e08d-974e-4e85-9289-fa6472883ba2\",\"type\":\"HBar\"},{\"attributes\":{},\"id\":\"a2b18c76-777b-406e-b22b-e4170700f00d\",\"type\":\"Selection\"},{\"attributes\":{},\"id\":\"02027a43-fd5d-4e2f-8343-514b0b95e80a\",\"type\":\"UnionRenderers\"},{\"attributes\":{\"callback\":null,\"factors\":[\"13.0\",\"13.1\",\"13.2\",\"13.3\",\"13.4\",\"13.5\",\"13.6\",\"13.7\",\"13.8\",\"13.9\"]},\"id\":\"016cc8c8-ae69-4424-b777-1b0ee9653c7f\",\"type\":\"FactorRange\"},{\"attributes\":{},\"id\":\"cf5bc414-88c2-4565-b8aa-09fdc7e526bb\",\"type\":\"BasicTickFormatter\"},{\"attributes\":{},\"id\":\"3c2002df-81ee-4106-bcf6-952614252dc9\",\"type\":\"CategoricalScale\"},{\"attributes\":{\"source\":{\"id\":\"4f31813d-5772-480d-9f9e-bf826dd597c1\",\"type\":\"ColumnDataSource\"}},\"id\":\"12078b4c-efca-465c-a966-63e7dcb4dfbd\",\"type\":\"CDSView\"},{\"attributes\":{\"fill_color\":{\"value\":\"green\"},\"height\":{\"value\":0.9},\"left\":{\"field\":\"left\"},\"line_color\":{\"value\":\"green\"},\"right\":{\"value\":0},\"y\":{\"field\":\"y\"}},\"id\":\"c8a034c9-fba2-4bbc-aea5-8385a7112f67\",\"type\":\"HBar\"},{\"attributes\":{\"data_source\":{\"id\":\"4f31813d-5772-480d-9f9e-bf826dd597c1\",\"type\":\"ColumnDataSource\"},\"glyph\":{\"id\":\"c8a034c9-fba2-4bbc-aea5-8385a7112f67\",\"type\":\"HBar\"},\"hover_glyph\":null,\"muted_glyph\":null,\"nonselection_glyph\":{\"id\":\"ad36e08d-974e-4e85-9289-fa6472883ba2\",\"type\":\"HBar\"},\"selection_glyph\":null,\"view\":{\"id\":\"12078b4c-efca-465c-a966-63e7dcb4dfbd\",\"type\":\"CDSView\"}},\"id\":\"317a14e2-a86f-492c-ae05-4293eb8b5c29\",\"type\":\"GlyphRenderer\"},{\"attributes\":{\"plot\":{\"id\":\"5622545a-9577-4bfb-a871-69ac066504f5\",\"subtype\":\"Figure\",\"type\":\"Plot\"},\"ticker\":{\"id\":\"4c3d3768-5e0f-4e07-9ddd-726267c91f96\",\"type\":\"BasicTicker\"}},\"id\":\"d414a1a7-a8cd-4093-81be-7b8c54fcad53\",\"type\":\"Grid\"},{\"attributes\":{\"formatter\":{\"id\":\"cf5bc414-88c2-4565-b8aa-09fdc7e526bb\",\"type\":\"BasicTickFormatter\"},\"plot\":{\"id\":\"5622545a-9577-4bfb-a871-69ac066504f5\",\"subtype\":\"Figure\",\"type\":\"Plot\"},\"ticker\":{\"id\":\"4c3d3768-5e0f-4e07-9ddd-726267c91f96\",\"type\":\"BasicTicker\"}},\"id\":\"b9736955-b24e-4815-a7e6-bf3c924a3333\",\"type\":\"LinearAxis\"},{\"attributes\":{},\"id\":\"8d0bb12d-80fe-461d-8012-5951dba6dabf\",\"type\":\"CategoricalTickFormatter\"},{\"attributes\":{\"below\":[{\"id\":\"b9736955-b24e-4815-a7e6-bf3c924a3333\",\"type\":\"LinearAxis\"}],\"left\":[{\"id\":\"ab64b4ed-fb2b-45b0-83c6-6ddb03b3ae75\",\"type\":\"CategoricalAxis\"}],\"plot_height\":300,\"renderers\":[{\"id\":\"b9736955-b24e-4815-a7e6-bf3c924a3333\",\"type\":\"LinearAxis\"},{\"id\":\"d414a1a7-a8cd-4093-81be-7b8c54fcad53\",\"type\":\"Grid\"},{\"id\":\"ab64b4ed-fb2b-45b0-83c6-6ddb03b3ae75\",\"type\":\"CategoricalAxis\"},{\"id\":\"bfaf95c6-64ff-42e7-ae09-cd058f7197ef\",\"type\":\"Grid\"},{\"id\":\"cab18444-ac39-4d65-b120-27f5b72e0583\",\"type\":\"BoxAnnotation\"},{\"id\":\"317a14e2-a86f-492c-ae05-4293eb8b5c29\",\"type\":\"GlyphRenderer\"}],\"title\":{\"id\":\"14662c50-2c27-4b2f-9b0b-33a222e60685\",\"type\":\"Title\"},\"toolbar\":{\"id\":\"7c935857-98f8-4ecd-8ca5-ed7140151472\",\"type\":\"Toolbar\"},\"x_range\":{\"id\":\"945ba9c2-a73f-4b09-91b0-09e9affb998e\",\"type\":\"Range1d\"},\"x_scale\":{\"id\":\"6ca460f2-d8ea-4e7c-9cb4-de80ddc84242\",\"type\":\"LinearScale\"},\"y_range\":{\"id\":\"016cc8c8-ae69-4424-b777-1b0ee9653c7f\",\"type\":\"FactorRange\"},\"y_scale\":{\"id\":\"3c2002df-81ee-4106-bcf6-952614252dc9\",\"type\":\"CategoricalScale\"}},\"id\":\"5622545a-9577-4bfb-a871-69ac066504f5\",\"subtype\":\"Figure\",\"type\":\"Plot\"},{\"attributes\":{},\"id\":\"4c3d3768-5e0f-4e07-9ddd-726267c91f96\",\"type\":\"BasicTicker\"},{\"attributes\":{\"callback\":null,\"data\":{\"left\":[26624,17731,8365,6138,4324,3396,2855,2294,1995,896],\"y\":[\"13.9\",\"13.8\",\"13.7\",\"13.6\",\"13.5\",\"13.4\",\"13.3\",\"13.2\",\"13.1\",\"13.0\"]},\"selected\":{\"id\":\"a2b18c76-777b-406e-b22b-e4170700f00d\",\"type\":\"Selection\"},\"selection_policy\":{\"id\":\"02027a43-fd5d-4e2f-8343-514b0b95e80a\",\"type\":\"UnionRenderers\"}},\"id\":\"4f31813d-5772-480d-9f9e-bf826dd597c1\",\"type\":\"ColumnDataSource\"}],\"root_ids\":[\"5622545a-9577-4bfb-a871-69ac066504f5\"]},\"title\":\"Bokeh Application\",\"version\":\"0.13.0\"}};\n",
       "  var render_items = [{\"docid\":\"6b4ff6a7-de7b-4005-9c61-5f0f347c4137\",\"roots\":{\"5622545a-9577-4bfb-a871-69ac066504f5\":\"b70e7fcf-7e1a-4a0f-aec3-f86e20030f63\"}}];\n",
       "  root.Bokeh.embed.embed_items_notebook(docs_json, render_items);\n",
       "\n",
       "  }\n",
       "  if (root.Bokeh !== undefined) {\n",
       "    embed_document(root);\n",
       "  } else {\n",
       "    var attempts = 0;\n",
       "    var timer = setInterval(function(root) {\n",
       "      if (root.Bokeh !== undefined) {\n",
       "        embed_document(root);\n",
       "        clearInterval(timer);\n",
       "      }\n",
       "      attempts++;\n",
       "      if (attempts > 100) {\n",
       "        console.log(\"Bokeh: ERROR: Unable to run BokehJS code because BokehJS library is missing\")\n",
       "        clearInterval(timer);\n",
       "      }\n",
       "    }, 10, root)\n",
       "  }\n",
       "})(window);"
      ],
      "application/vnd.bokehjs_exec.v0+json": ""
     },
     "metadata": {
      "application/vnd.bokehjs_exec.v0+json": {
       "id": "5622545a-9577-4bfb-a871-69ac066504f5"
      }
     },
     "output_type": "display_data"
    }
   ],
   "source": [
    "unreviewed_counts = (unreviewed_it1_df['score']\n",
    "                          .round(1).apply(lambda v: f'{v:.1f}').value_counts())\n",
    "unreviewed_counts.index.name = 'score'\n",
    "unreviewed_counts.name = 'count'\n",
    "unreviewed_counts = pd.DataFrame(unreviewed_counts).reset_index()\n",
    "\n",
    "unreviewed_max = unreviewed_counts['count'].max()\n",
    "\n",
    "p = figure( y_range=unreviewed_counts['score'],\n",
    "            plot_height=300,\n",
    "            x_range=(0, unreviewed_max*1.1),\n",
    "            title=\"Unreviewed Counts by Score\" )\n",
    "\n",
    "p.hbar(unreviewed_counts['score'][::-1],\n",
    "       0.9,\n",
    "       0,\n",
    "       unreviewed_counts['count'],\n",
    "       color='green')\n",
    "\n",
    "show(p)"
   ]
  },
  {
   "cell_type": "code",
   "execution_count": 184,
   "metadata": {},
   "outputs": [
    {
     "name": "stdout",
     "output_type": "stream",
     "text": [
      "PSD counts for assigned 2-tbar bodies:\n"
     ]
    },
    {
     "data": {
      "image/png": "[encoded data removed]",
      "text/plain": [
       "<Figure size 360x360 with 1 Axes>"
      ]
     },
     "metadata": {},
     "output_type": "display_data"
    }
   ],
   "source": [
    "focused_bodies_table.query('PreSyn == 2 and PostSyn >= 10 and PostSyn < 110')['PostSyn'].hist(bins=100)\n",
    "print(\"PSD counts for assigned 2-tbar bodies:\")"
   ]
  },
  {
   "cell_type": "code",
   "execution_count": 187,
   "metadata": {},
   "outputs": [
    {
     "name": "stdout",
     "output_type": "stream",
     "text": [
      "PSD counts for newly assigned 0/1-tbar bodies:\n"
     ]
    },
    {
     "data": {
      "image/png": "[encoded data removed]",
      "text/plain": [
       "<Figure size 360x360 with 1 Axes>"
      ]
     },
     "metadata": {},
     "output_type": "display_data"
    }
   ],
   "source": [
    "focused_bodies_table.query('PreSyn < 2 and PostSyn < 100')['PostSyn'].hist(bins=100)\n",
    "print(\"PSD counts for newly assigned 0/1-tbar bodies:\")"
   ]
  },
  {
   "cell_type": "code",
   "execution_count": 178,
   "metadata": {},
   "outputs": [
    {
     "name": "stdout",
     "output_type": "stream",
     "text": [
      "\n",
      "T-bar counts\n"
     ]
    },
    {
     "data": {
      "image/png": "[encoded data removed]",
      "text/plain": [
       "<Figure size 360x360 with 1 Axes>"
      ]
     },
     "metadata": {},
     "output_type": "display_data"
    }
   ],
   "source": [
    "focused_bodies_table.query('PreSyn >= 0 and PreSyn < 100')['PreSyn'].value_counts().sort_index().plot(kind='pie')\n",
    "print(\"\\nT-bar counts\")"
   ]
  },
  {
   "cell_type": "code",
   "execution_count": null,
   "metadata": {},
   "outputs": [],
   "source": []
  },
  {
   "cell_type": "markdown",
   "metadata": {},
   "source": [
    "## Remove double-2-tbar bodies"
   ]
  },
  {
   "cell_type": "code",
   "execution_count": 10,
   "metadata": {},
   "outputs": [],
   "source": [
    "recent_assigned = pd.read_csv('remaining-onehop-assignments-7254-20180824.csv')"
   ]
  },
  {
   "cell_type": "code",
   "execution_count": 19,
   "metadata": {},
   "outputs": [
    {
     "ename": "NameError",
     "evalue": "name 'analysis_mapper' is not defined",
     "output_type": "error",
     "traceback": [
      "\u001b[0;31m---------------------------------------------------------------------------\u001b[0m",
      "\u001b[0;31mNameError\u001b[0m                                 Traceback (most recent call last)",
      "\u001b[0;32m<ipython-input-19-fbe1dee97626>\u001b[0m in \u001b[0;36m<module>\u001b[0;34m()\u001b[0m\n\u001b[0;32m----> 1\u001b[0;31m \u001b[0mrecent_assigned\u001b[0m\u001b[0;34m[\u001b[0m\u001b[0;34m'body_a'\u001b[0m\u001b[0;34m]\u001b[0m \u001b[0;34m=\u001b[0m \u001b[0manalysis_mapper\u001b[0m\u001b[0;34m(\u001b[0m\u001b[0mrecent_assigned\u001b[0m\u001b[0;34m[\u001b[0m\u001b[0;34m'id_a'\u001b[0m\u001b[0;34m]\u001b[0m\u001b[0;34m.\u001b[0m\u001b[0mvalues\u001b[0m\u001b[0;34m,\u001b[0m \u001b[0;32mTrue\u001b[0m\u001b[0;34m)\u001b[0m\u001b[0;34m\u001b[0m\u001b[0m\n\u001b[0m\u001b[1;32m      2\u001b[0m \u001b[0mrecent_assigned\u001b[0m\u001b[0;34m[\u001b[0m\u001b[0;34m'body_b'\u001b[0m\u001b[0;34m]\u001b[0m \u001b[0;34m=\u001b[0m \u001b[0manalysis_mapper\u001b[0m\u001b[0;34m(\u001b[0m\u001b[0mrecent_assigned\u001b[0m\u001b[0;34m[\u001b[0m\u001b[0;34m'id_b'\u001b[0m\u001b[0;34m]\u001b[0m\u001b[0;34m.\u001b[0m\u001b[0mvalues\u001b[0m\u001b[0;34m,\u001b[0m \u001b[0;32mTrue\u001b[0m\u001b[0;34m)\u001b[0m\u001b[0;34m\u001b[0m\u001b[0m\n",
      "\u001b[0;31mNameError\u001b[0m: name 'analysis_mapper' is not defined"
     ]
    }
   ],
   "source": [
    "recent_assigned['body_a'] = analysis_mapper(recent_assigned['id_a'].values, True)\n",
    "recent_assigned['body_b'] = analysis_mapper(recent_assigned['id_b'].values, True)"
   ]
  },
  {
   "cell_type": "code",
   "execution_count": 13,
   "metadata": {},
   "outputs": [
    {
     "data": {
      "text/html": [
       "<div>\n",
       "<style scoped>\n",
       "    .dataframe tbody tr th:only-of-type {\n",
       "        vertical-align: middle;\n",
       "    }\n",
       "\n",
       "    .dataframe tbody tr th {\n",
       "        vertical-align: top;\n",
       "    }\n",
       "\n",
       "    .dataframe thead th {\n",
       "        text-align: right;\n",
       "    }\n",
       "</style>\n",
       "<table border=\"1\" class=\"dataframe\">\n",
       "  <thead>\n",
       "    <tr style=\"text-align: right;\">\n",
       "      <th></th>\n",
       "      <th>voxel_count</th>\n",
       "      <th>PostSyn</th>\n",
       "      <th>PreSyn</th>\n",
       "    </tr>\n",
       "    <tr>\n",
       "      <th>body</th>\n",
       "      <th></th>\n",
       "      <th></th>\n",
       "      <th></th>\n",
       "    </tr>\n",
       "  </thead>\n",
       "  <tbody>\n",
       "    <tr>\n",
       "      <th>1497973422</th>\n",
       "      <td>11818299675</td>\n",
       "      <td>8308</td>\n",
       "      <td>65</td>\n",
       "    </tr>\n",
       "    <tr>\n",
       "      <th>5813024096</th>\n",
       "      <td>10985904465</td>\n",
       "      <td>7393</td>\n",
       "      <td>109</td>\n",
       "    </tr>\n",
       "    <tr>\n",
       "      <th>263199096</th>\n",
       "      <td>9674671304</td>\n",
       "      <td>51</td>\n",
       "      <td>34</td>\n",
       "    </tr>\n",
       "    <tr>\n",
       "      <th>262840563</th>\n",
       "      <td>9591276440</td>\n",
       "      <td>386</td>\n",
       "      <td>468</td>\n",
       "    </tr>\n",
       "    <tr>\n",
       "      <th>5813021092</th>\n",
       "      <td>9522426145</td>\n",
       "      <td>2933</td>\n",
       "      <td>1160</td>\n",
       "    </tr>\n",
       "  </tbody>\n",
       "</table>\n",
       "</div>"
      ],
      "text/plain": [
       "            voxel_count  PostSyn  PreSyn\n",
       "body                                    \n",
       "1497973422  11818299675     8308      65\n",
       "5813024096  10985904465     7393     109\n",
       "263199096    9674671304       51      34\n",
       "262840563    9591276440      386     468\n",
       "5813021092   9522426145     2933    1160"
      ]
     },
     "execution_count": 13,
     "metadata": {},
     "output_type": "execute_result"
    }
   ],
   "source": [
    "focused_bodies_table.head()"
   ]
  },
  {
   "cell_type": "code",
   "execution_count": null,
   "metadata": {},
   "outputs": [],
   "source": [
    "recent_assigned = recent_assigned.merge(focused_bodies_table, left_)"
   ]
  }
 ],
 "metadata": {
  "kernelspec": {
   "display_name": "Python 3",
   "language": "python",
   "name": "python3"
  },
  "language_info": {
   "codemirror_mode": {
    "name": "ipython",
    "version": 3
   },
   "file_extension": ".py",
   "mimetype": "text/x-python",
   "name": "python",
   "nbconvert_exporter": "python",
   "pygments_lexer": "ipython3",
   "version": "3.6.3"
  }
 },
 "nbformat": 4,
 "nbformat_minor": 2
}
