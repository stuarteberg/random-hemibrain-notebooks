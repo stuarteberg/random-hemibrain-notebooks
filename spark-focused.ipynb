{
 "cells": [
  {
   "cell_type": "code",
   "execution_count": 4,
   "metadata": {},
   "outputs": [],
   "source": [
    "%load_ext autoreload\n",
    "%autoreload 2"
   ]
  },
  {
   "cell_type": "code",
   "execution_count": 5,
   "metadata": {},
   "outputs": [],
   "source": [
    "import glob\n",
    "import os\n",
    "import sys\n",
    "import logging\n",
    "from itertools import chain\n",
    "\n",
    "import requests\n",
    "from tqdm import tqdm, tqdm_notebook, tnrange\n",
    "#tqdm = tqdm_notebook\n",
    "\n",
    "import vigra\n",
    "import numpy as np\n",
    "import pandas as pd\n",
    "from pandas.api.types import CategoricalDtype\n",
    "from numba import jit\n",
    "\n",
    "from dvidutils import LabelMapper\n",
    "from libdvid import DVIDNodeService\n",
    "\n",
    "from neuclease.dvid import *\n",
    "from neuclease.util import Timer\n",
    "from neuclease.misc import find_best_plane"
   ]
  },
  {
   "cell_type": "code",
   "execution_count": 6,
   "metadata": {},
   "outputs": [],
   "source": [
    "from DVIDSparkServices.spark_launch_scripts.janelia_lsf.lsf_utils import get_hostgraph_url"
   ]
  },
  {
   "cell_type": "code",
   "execution_count": 7,
   "metadata": {},
   "outputs": [],
   "source": [
    "handler = logging.StreamHandler(sys.stdout)\n",
    "root_logger = logging.getLogger()\n",
    "root_logger.handlers = []\n",
    "root_logger.addHandler(handler)\n",
    "root_logger.setLevel(logging.INFO)\n",
    "logging.getLogger('kafka').setLevel(logging.WARNING)"
   ]
  },
  {
   "cell_type": "code",
   "execution_count": 8,
   "metadata": {},
   "outputs": [
    {
     "name": "stdout",
     "output_type": "stream",
     "text": [
      "/nrs/flyem/bergs/complete-ffn-agglo\n"
     ]
    }
   ],
   "source": [
    "cd /nrs/flyem/bergs/complete-ffn-agglo/"
   ]
  },
  {
   "cell_type": "code",
   "execution_count": 9,
   "metadata": {},
   "outputs": [
    {
     "name": "stdout",
     "output_type": "stream",
     "text": [
      "h10u12.int.janelia.org\r\n"
     ]
    }
   ],
   "source": [
    "!uname -n"
   ]
  },
  {
   "cell_type": "code",
   "execution_count": 10,
   "metadata": {},
   "outputs": [
    {
     "data": {
      "text/plain": [
       "'/nrs/flyem/bergs/complete-ffn-agglo'"
      ]
     },
     "execution_count": 10,
     "metadata": {},
     "output_type": "execute_result"
    }
   ],
   "source": [
    "pwd"
   ]
  },
  {
   "cell_type": "code",
   "execution_count": 11,
   "metadata": {},
   "outputs": [
    {
     "data": {
      "text/html": [
       "\n",
       "        <div>\n",
       "            <p><b>SparkContext</b></p>\n",
       "\n",
       "            <p><a href=\"http://h10u12:4040\">Spark UI</a></p>\n",
       "\n",
       "            <dl>\n",
       "              <dt>Version</dt>\n",
       "                <dd><code>v2.2.0</code></dd>\n",
       "              <dt>Master</dt>\n",
       "                <dd><code>spark://h02u03:7077</code></dd>\n",
       "              <dt>AppName</dt>\n",
       "                <dd><code>PySparkShell</code></dd>\n",
       "            </dl>\n",
       "        </div>\n",
       "        "
      ],
      "text/plain": [
       "<SparkContext master=spark://h02u03:7077 appName=PySparkShell>"
      ]
     },
     "execution_count": 11,
     "metadata": {},
     "output_type": "execute_result"
    }
   ],
   "source": [
    "sc"
   ]
  },
  {
   "cell_type": "markdown",
   "metadata": {},
   "source": [
    "### Hostgraph URLS"
   ]
  },
  {
   "cell_type": "code",
   "execution_count": 12,
   "metadata": {},
   "outputs": [
    {
     "name": "stdout",
     "output_type": "stream",
     "text": [
      "This notebook:\n",
      "http://lsf-rtm/cacti/plugins/grid/grid_bjobs.php?action=viewjob&tab=hostgraph&clusterid=1&indexid=0&jobid=44106114&submit_time=1532486124\n",
      "Cluster:\n",
      "http://lsf-rtm/cacti/plugins/grid/grid_bjobs.php?action=viewjob&tab=hostgraph&clusterid=1&indexid=0&jobid=44106116&submit_time=1532486137\n"
     ]
    }
   ],
   "source": [
    "print(\"This notebook:\")\n",
    "print(get_hostgraph_url(os.environ[\"LSB_JOBID\"]))\n",
    "print(\"Cluster:\")\n",
    "print(get_hostgraph_url(os.environ[\"MASTER_BJOB_ID\"]))"
   ]
  },
  {
   "cell_type": "markdown",
   "metadata": {},
   "source": [
    "### UUIDs"
   ]
  },
  {
   "cell_type": "code",
   "execution_count": 13,
   "metadata": {},
   "outputs": [],
   "source": [
    "# The starting agglo\n",
    "initial_agglo = DvidInstanceInfo('emdata3:8900', 'ac901', 'segmentation')\n",
    "\n",
    "# The uuid used when loading the neo4j instance (for 'important bodies')\n",
    "neo4j_reference = DvidInstanceInfo('emdata3:8900', '52f9', 'segmentation')\n",
    "\n",
    "# The last supervoxel splits: One past the neo4j node\n",
    "analysis_node = DvidInstanceInfo('emdata3:8900', '662e', 'segmentation')\n",
    "\n",
    "# We won't be using this...\n",
    "current_master = DvidInstanceInfo('emdata3:8900', 'f545', 'segmentation')"
   ]
  },
  {
   "cell_type": "markdown",
   "metadata": {},
   "source": [
    "### Load neo4j-defined important bodies; append final splits"
   ]
  },
  {
   "cell_type": "code",
   "execution_count": 14,
   "metadata": {},
   "outputs": [
    {
     "name": "stdout",
     "output_type": "stream",
     "text": [
      "Reading kafka messages from kafka.int.janelia.org:9092 for emdata3:8900 / 662e / segmentation\n",
      "Reading 166737 kafka messages took 7.111119747161865 seconds\n"
     ]
    }
   ],
   "source": [
    "# This list was generated from node 52f9\n",
    "important_bodies_path = '/nrs/flyem/bergs/complete-ffn-agglo/bodies-0.5-from-neuprint-52f9.csv'\n",
    "important_bodies = pd.read_csv(important_bodies_path, header=0, usecols=['bodyId'], dtype=np.uint64)['bodyId']\n",
    "important_bodies = set(important_bodies)\n",
    "\n",
    "# Read last set of new bodies (from analysis node, after neo4j was loaded).\n",
    "msgs = read_kafka_messages(analysis_node, 'split', 'leaf-only')\n",
    "final_new_bodies = set(chain(*((msg['Target'], msg['NewLabel']) for msg in msgs)))\n",
    "\n",
    "# Append final set\n",
    "important_bodies |= final_new_bodies"
   ]
  },
  {
   "cell_type": "markdown",
   "metadata": {},
   "source": [
    "### Load pre-filtered table"
   ]
  },
  {
   "cell_type": "code",
   "execution_count": 12,
   "metadata": {},
   "outputs": [
    {
     "name": "stdout",
     "output_type": "stream",
     "text": [
      "Loading edge table...\n",
      "Loading edge table took 0:02:27.953363\n",
      "Loaded 755.5M edges\n",
      "Memory usage: 64.2 GB\n"
     ]
    }
   ],
   "source": [
    "# id_a, id_b -- the two supervoxel IDs\n",
    "# xa, ya, za -- point from which segmentation of 'a' was started, 8 nm coordinates\n",
    "# xb, yb, zb -- point from which segmentation of 'b' was started, 8 nm coordinates\n",
    "# caa, cab, cba, cbb -- cXY means: fraction of voxels from the original segment Y recovered when seeding from X\n",
    "# iou -- Jaccard index of the two local segmentations\n",
    "# da, db -- dX means: fraction of voxels that changed value from >0.8 to <0.5 when segmenting & seeding from X;\n",
    "#                     the higher this value is, the more \"internally inconsistent\" the segmentation resolution\n",
    "#                     potentially is; higher thresholds for iou, cXY might be warranted\n",
    "\n",
    "\n",
    "# This table uses SV ids from the 'analysis node', and includes only\n",
    "# edges that mention at least one \"important\" supervoxel\n",
    "with Timer(\"Loading edge table\"):\n",
    "    combined_table = np.load('combined-filtered-table.npy')\n",
    "    combined_df = pd.DataFrame(combined_table)\n",
    "print(f\"Loaded {len(combined_df) / 1e6:.1f}M edges\")\n",
    "print(f\"Memory usage: {combined_df.memory_usage().sum() / 1e9:.1f} GB\")"
   ]
  },
  {
   "cell_type": "code",
   "execution_count": 13,
   "metadata": {},
   "outputs": [
    {
     "name": "stdout",
     "output_type": "stream",
     "text": [
      "CPU times: user 5.07 s, sys: 5.15 s, total: 10.2 s\n",
      "Wall time: 321 ms\n"
     ]
    }
   ],
   "source": [
    "%time all_svs = pd.concat((combined_df['id_a'], combined_df['id_b']), ignore_index=True)"
   ]
  },
  {
   "cell_type": "code",
   "execution_count": 14,
   "metadata": {},
   "outputs": [
    {
     "name": "stdout",
     "output_type": "stream",
     "text": [
      "23034587\n",
      "CPU times: user 3min 31s, sys: 47.9 s, total: 4min 19s\n",
      "Wall time: 2min 42s\n"
     ]
    }
   ],
   "source": [
    "%%time \n",
    "sv_counts = all_svs.value_counts()\n",
    "unimportant_sv_counts = sv_counts[~sv_counts.index.isin(important_bodies)]\n",
    "print((unimportant_sv_counts == 1).sum())"
   ]
  },
  {
   "cell_type": "markdown",
   "metadata": {},
   "source": [
    "### One-hop only?"
   ]
  },
  {
   "cell_type": "code",
   "execution_count": 15,
   "metadata": {},
   "outputs": [
    {
     "data": {
      "text/plain": [
       "509238"
      ]
     },
     "execution_count": 15,
     "metadata": {},
     "output_type": "execute_result"
    }
   ],
   "source": [
    "len(important_bodies)"
   ]
  },
  {
   "cell_type": "code",
   "execution_count": 16,
   "metadata": {},
   "outputs": [],
   "source": [
    "def chunkify_table(table, approx_chunk_len):\n",
    "    approx_chunk_len = int(approx_chunk_len)\n",
    "    total_len = len(table)\n",
    "    num_chunks = max(1, total_len // approx_chunk_len)\n",
    "    chunk_len = total_len // num_chunks\n",
    "\n",
    "    partitions = list(range(0, chunk_len*num_chunks, chunk_len))\n",
    "    if partitions[-1] < total_len:\n",
    "        partitions.append( total_len )\n",
    "\n",
    "    for (start, stop) in zip(partitions[:-1], partitions[1:]):\n",
    "        yield table[start:stop]"
   ]
  },
  {
   "cell_type": "markdown",
   "metadata": {},
   "source": [
    "#### Cache chunks to disk"
   ]
  },
  {
   "cell_type": "code",
   "execution_count": 17,
   "metadata": {},
   "outputs": [],
   "source": [
    "# os.makedirs('combined-filtered-chunks', exist_ok=True)\n",
    "# num_chunks = len(combined_table)//10**6\n",
    "# for i, table_chunk in tqdm(enumerate(chunkify_table(combined_table, 10**6)), total=num_chunks):\n",
    "#     np.save(f'combined-filtered-chunks/chunk-{i:05}.npy', table_chunk)"
   ]
  },
  {
   "cell_type": "code",
   "execution_count": 18,
   "metadata": {},
   "outputs": [],
   "source": [
    "def append_importances(i):\n",
    "    chunk_path = f'/nrs/flyem/bergs/complete-ffn-agglo/combined-filtered-chunks/chunk-{i:05}.npy'\n",
    "    df = pd.DataFrame(np.load(chunk_path))\n",
    "    df['important_a'] = df['body_a'].isin(important_bodies)\n",
    "    df['important_b'] = df['body_b'].isin(important_bodies)\n",
    "    return df.to_records(index=False)"
   ]
  },
  {
   "cell_type": "code",
   "execution_count": 19,
   "metadata": {},
   "outputs": [
    {
     "name": "stdout",
     "output_type": "stream",
     "text": [
      "CPU times: user 31.6 s, sys: 41.8 s, total: 1min 13s\n",
      "Wall time: 2min 58s\n"
     ]
    }
   ],
   "source": [
    "#num_chunks = len(combined_table)//10**6\n",
    "num_chunks = 755\n",
    "%time table_chunks = sc.parallelize(range(num_chunks)).map(append_importances).collect()"
   ]
  },
  {
   "cell_type": "code",
   "execution_count": 20,
   "metadata": {},
   "outputs": [],
   "source": [
    "#combined_table = np.concatenate(table_chunks)"
   ]
  },
  {
   "cell_type": "code",
   "execution_count": 20,
   "metadata": {},
   "outputs": [
    {
     "name": "stderr",
     "output_type": "stream",
     "text": [
      "100%|██████████| 755/755 [00:18<00:00, 41.93it/s]"
     ]
    },
    {
     "name": "stdout",
     "output_type": "stream",
     "text": [
      "CPU times: user 13.7 s, sys: 4.43 s, total: 18.1 s\n",
      "Wall time: 18 s\n"
     ]
    },
    {
     "name": "stderr",
     "output_type": "stream",
     "text": [
      "\n"
     ]
    }
   ],
   "source": [
    "%time onehop_chunks = [chunk[chunk['important_a'] & chunk['important_b']] for chunk in tqdm(table_chunks)]"
   ]
  },
  {
   "cell_type": "code",
   "execution_count": 21,
   "metadata": {},
   "outputs": [
    {
     "data": {
      "text/plain": [
       "162618536"
      ]
     },
     "execution_count": 21,
     "metadata": {},
     "output_type": "execute_result"
    }
   ],
   "source": [
    "sum(map(len, onehop_chunks))"
   ]
  },
  {
   "cell_type": "code",
   "execution_count": 22,
   "metadata": {},
   "outputs": [],
   "source": [
    "@jit(nopython=True)\n",
    "def calc_score_32nm(caa, cab, cba, cbb, iou, da, db):\n",
    "    if (caa >= 0.6 and cab >= 0.6 and cba >= 0.6 and cbb >= 0.6\n",
    "    and iou > 0.8 and (da <= 0.02 or db <= 0.02)):\n",
    "        return 0.0 + (1.0 - iou)\n",
    "    elif (caa >= 0.6 and cab >= 0.6 and cba >= 0.6 and cbb >= 0.6 and iou > 0.4):\n",
    "        return 5.0 + (1.0 - iou)\n",
    "    elif (caa > 0.8 and cab > 0.8):\n",
    "        return 11.0 + (1.0 - min(caa, cab))\n",
    "    else:\n",
    "        return 11.0 + (1.0 - min(cba, cbb))\n",
    "\n",
    "\n",
    "@jit(nopython=True)\n",
    "def calc_score_16nm(caa, cab, cba, cbb, iou, da, db):\n",
    "    if ( caa >= 0.6 and cab >= 0.6 and cba >= 0.6 and cbb >= 0.6\n",
    "    and iou > 0.8 and (da <= 0.02 or db <= 0.02)):\n",
    "        # This is probably wrong...\n",
    "        return 3.0 + (1.0 - iou)\n",
    "\n",
    "# This is the original function...\n",
    "#         if d.id_b = 0 or e.id_b = 0:\n",
    "#             if b.class == 6 and c.class == 6:\n",
    "#                 return 1.0 + (1.0 - iou)\n",
    "#             else:\n",
    "#                 return 2.0 + (1.0 - iou)\n",
    "#         else:\n",
    "#             if b.class = 6 and c.class = 6:\n",
    "#                 return 3.0 + (1.0 - iou)\n",
    "#             else:\n",
    "#                 return 4.0 + (1.0 - iou)\n",
    "    else:\n",
    "        if caa >= 0.6 and cab >= 0.6 and cba >= 0.6 and cbb >= 0.6 and iou >= 0.4:\n",
    "            # This is probably wrong...\n",
    "            return 8.0 + (1.0 - iou)\n",
    "\n",
    "# This is the original function...\n",
    "#             if d.id_b = 0 or e.id_b = 0:\n",
    "#                 if b.class = 6 and c.class = 6:\n",
    "#                     return 6.0 + (1.0 - iou),\n",
    "#                 else:\n",
    "#                     return 7.0 + (1.0 - iou)\n",
    "#             else:\n",
    "#                 if b.class = 6 and c.class = 6:\n",
    "#                     return 8.0 + (1.0 - iou)\n",
    "#                 else:\n",
    "#                     return 9.0 + (1.0 - iou)\n",
    "        else:\n",
    "            if caa > 0.9 and cab > 0.9:\n",
    "                return 12.0 + (1.0 - min(caa, cab))\n",
    "            else:\n",
    "                return 12.0 + (1.0 - min(cba, cbb))\n",
    "\n",
    "\n",
    "@jit(nopython=True)\n",
    "def calc_score_8nm(caa, cab, cba, cbb, iou, da, db):\n",
    "    return 10.0 + (1.0 - iou)\n",
    "\n",
    "\n",
    "@jit(nopython=True)\n",
    "def calc_score(resolution, caa, cab, cba, cbb, iou, da, db):\n",
    "    if resolution == 32:\n",
    "        return calc_score_32nm(caa, cab, cba, cbb, iou, da, db)\n",
    "    if resolution == 16:\n",
    "        return calc_score_16nm(caa, cab, cba, cbb, iou, da, db)\n",
    "    if resolution == 8:\n",
    "        return calc_score_8nm(caa, cab, cba, cbb, iou, da, db)\n",
    "    return np.inf\n",
    "        \n",
    "@jit(nopython=True)\n",
    "def calc_agglo_scores(table):\n",
    "    scores = np.empty(len(table), np.float32)\n",
    "    for i in range(len(table)):\n",
    "        resolution = table['resolution'][i]\n",
    "        caa = table['caa'][i]\n",
    "        cab = table['cab'][i]\n",
    "        cba = table['cba'][i]\n",
    "        cbb = table['cbb'][i]\n",
    "        iou = table['iou'][i]\n",
    "        da = table['da'][i]\n",
    "        db = table['db'][i]\n",
    "        scores[i] = calc_score(resolution, caa, cab, cba, cbb, iou, da, db)\n",
    "    return scores"
   ]
  },
  {
   "cell_type": "code",
   "execution_count": null,
   "metadata": {},
   "outputs": [],
   "source": [
    "#@jit\n",
    "#def calc_speculative_scores(table):\n",
    "    "
   ]
  },
  {
   "cell_type": "code",
   "execution_count": 23,
   "metadata": {},
   "outputs": [
    {
     "name": "stdout",
     "output_type": "stream",
     "text": [
      "CPU times: user 2.46 s, sys: 668 ms, total: 3.13 s\n",
      "Wall time: 3.12 s\n"
     ]
    }
   ],
   "source": [
    "%time onehop_scores = list(map(calc_scores, onehop_chunks))"
   ]
  },
  {
   "cell_type": "code",
   "execution_count": 24,
   "metadata": {},
   "outputs": [],
   "source": [
    "all_onehop_scores = np.concatenate(onehop_scores)"
   ]
  },
  {
   "cell_type": "code",
   "execution_count": 25,
   "metadata": {},
   "outputs": [
    {
     "name": "stdout",
     "output_type": "stream",
     "text": [
      "CPU times: user 3min, sys: 1min 6s, total: 4min 7s\n",
      "Wall time: 8.85 s\n"
     ]
    }
   ],
   "source": [
    "%time onehop_table = np.concatenate(onehop_chunks)"
   ]
  },
  {
   "cell_type": "code",
   "execution_count": 26,
   "metadata": {},
   "outputs": [
    {
     "data": {
      "text/plain": [
       "(162618536,)"
      ]
     },
     "execution_count": 26,
     "metadata": {},
     "output_type": "execute_result"
    }
   ],
   "source": [
    "onehop_table.shape"
   ]
  },
  {
   "cell_type": "code",
   "execution_count": 27,
   "metadata": {},
   "outputs": [
    {
     "data": {
      "text/plain": [
       "<matplotlib.axes._subplots.AxesSubplot at 0x2ba75d6f3160>"
      ]
     },
     "execution_count": 27,
     "metadata": {},
     "output_type": "execute_result"
    },
    {
     "data": {
      "image/png": "[encoded data removed]",
      "text/plain": [
       "<matplotlib.figure.Figure at 0x2ba75d819588>"
      ]
     },
     "metadata": {},
     "output_type": "display_data"
    }
   ],
   "source": [
    "onehop_df = pd.DataFrame(onehop_table)\n",
    "onehop_df['score'] = all_onehop_scores\n",
    "onehop_df['score'].hist()"
   ]
  },
  {
   "cell_type": "code",
   "execution_count": 28,
   "metadata": {},
   "outputs": [
    {
     "name": "stdout",
     "output_type": "stream",
     "text": [
      "CPU times: user 1min 41s, sys: 14.8 s, total: 1min 56s\n",
      "Wall time: 1min 24s\n"
     ]
    }
   ],
   "source": [
    "%time body_a_stats = onehop_df.groupby('body_a').agg({'score': ['min', 'idxmin', 'size']})\n",
    "body_a_stats.columns = ['min_score', 'min_index', 'edge_count']"
   ]
  },
  {
   "cell_type": "code",
   "execution_count": 29,
   "metadata": {},
   "outputs": [
    {
     "name": "stdout",
     "output_type": "stream",
     "text": [
      "CPU times: user 1min 11s, sys: 7.17 s, total: 1min 18s\n",
      "Wall time: 1min 4s\n"
     ]
    }
   ],
   "source": [
    "%time body_b_stats = onehop_df.groupby('body_b').agg({'score': ['min', 'idxmin', 'size']})\n",
    "body_b_stats.columns = ['min_score', 'min_index', 'edge_count']"
   ]
  },
  {
   "cell_type": "code",
   "execution_count": 30,
   "metadata": {},
   "outputs": [
    {
     "name": "stdout",
     "output_type": "stream",
     "text": [
      "CPU times: user 85.1 ms, sys: 17 ms, total: 102 ms\n",
      "Wall time: 101 ms\n"
     ]
    }
   ],
   "source": [
    "%%time\n",
    "merged_body_stats = pd.DataFrame(body_a_stats).merge(body_b_stats, 'outer', left_index=True, right_index=True,\n",
    "                                                      suffixes=['_a', '_b'])"
   ]
  },
  {
   "cell_type": "code",
   "execution_count": 43,
   "metadata": {},
   "outputs": [
    {
     "name": "stdout",
     "output_type": "stream",
     "text": [
      "CPU times: user 1.45 s, sys: 565 ms, total: 2.02 s\n",
      "Wall time: 111 ms\n"
     ]
    }
   ],
   "source": [
    "%%time\n",
    "\n",
    "# Combine scores/indexes and edge counts, and record which side of the edge the score came from.\n",
    "min_scores = merged_body_stats[['min_score_a', 'min_score_b']].min(axis=1)\n",
    "edge_counts = merged_body_stats[['edge_count_a', 'edge_count_b']].sum(axis=1).astype(np.uint32)\n",
    "\n",
    "min_index = merged_body_stats['min_index_b'].copy()\n",
    "pos_a = merged_body_stats['min_score_a'] < merged_body_stats['min_score_b']\n",
    "min_index.loc[pos_a] = merged_body_stats['min_index_a']\n",
    "\n",
    "sides = pd.Series('b', index=merged_body_stats.index)\n",
    "sides.loc[pos_a] = 'a'\n",
    "sides.loc[min_index.isnull()] = 'x'\n",
    "sides = sides.astype('category')\n",
    "\n",
    "body_stats = pd.DataFrame({'min_score': min_scores,\n",
    "                           'min_index': min_index,\n",
    "                           'edge_count': edge_counts,\n",
    "                           'side': sides})"
   ]
  },
  {
   "cell_type": "code",
   "execution_count": 44,
   "metadata": {},
   "outputs": [
    {
     "name": "stdout",
     "output_type": "stream",
     "text": [
      "CPU times: user 10.2 s, sys: 3.82 s, total: 14.1 s\n",
      "Wall time: 1.85 s\n"
     ]
    }
   ],
   "source": [
    "%%time\n",
    "onehop_df['is_favorite_of_a'] = False\n",
    "onehop_df['is_favorite_of_b'] = False\n",
    "\n",
    "body_a_favorite_edges = body_stats.query(\"side == 'a'\")['min_index'].astype(np.int64)\n",
    "body_b_favorite_edges = body_stats.query(\"side == 'b'\")['min_index'].astype(np.int64)\n",
    "\n",
    "onehop_df.loc[body_a_favorite_edges, 'is_favorite_of_a'] = True\n",
    "onehop_df.loc[body_b_favorite_edges, 'is_favorite_of_b'] = True"
   ]
  },
  {
   "cell_type": "code",
   "execution_count": 47,
   "metadata": {},
   "outputs": [
    {
     "name": "stdout",
     "output_type": "stream",
     "text": [
      "508760\n",
      "57517\n"
     ]
    }
   ],
   "source": [
    "#body_stats.isnull().sum()\n",
    "#body_stats[:10]\n",
    "#min_index.isnull().sum()\n",
    "print(onehop_df['is_favorite_of_a'].sum() + onehop_df['is_favorite_of_b'].sum())\n",
    "print((onehop_df['is_favorite_of_a'] & onehop_df['is_favorite_of_b']).sum())"
   ]
  },
  {
   "cell_type": "code",
   "execution_count": 50,
   "metadata": {},
   "outputs": [
    {
     "data": {
      "text/plain": [
       "478"
      ]
     },
     "execution_count": 50,
     "metadata": {},
     "output_type": "execute_result"
    }
   ],
   "source": [
    "len(important_bodies) - 508760"
   ]
  },
  {
   "cell_type": "code",
   "execution_count": null,
   "metadata": {},
   "outputs": [],
   "source": [
    "body_stats['edge_count'].argmax()"
   ]
  },
  {
   "cell_type": "code",
   "execution_count": 87,
   "metadata": {},
   "outputs": [
    {
     "data": {
      "text/plain": [
       "edge_count         181680\n",
       "min_index     1.04102e+08\n",
       "min_score         3.03052\n",
       "side                    a\n",
       "Name: 950880008, dtype: object"
      ]
     },
     "execution_count": 87,
     "metadata": {},
     "output_type": "execute_result"
    }
   ],
   "source": [
    "body_stats.loc[950880008]"
   ]
  },
  {
   "cell_type": "code",
   "execution_count": null,
   "metadata": {},
   "outputs": [],
   "source": [
    "body_stats['edge_count'][body_stats['edge_count'] > 50000].hist()"
   ]
  },
  {
   "cell_type": "code",
   "execution_count": null,
   "metadata": {},
   "outputs": [],
   "source": [
    "body_stats['min_score'].hist()"
   ]
  },
  {
   "cell_type": "code",
   "execution_count": null,
   "metadata": {},
   "outputs": [],
   "source": [
    "s = body_stats['min_score']\n",
    "s[(s > 10) & (s < 11)].hist()"
   ]
  },
  {
   "cell_type": "code",
   "execution_count": null,
   "metadata": {},
   "outputs": [],
   "source": [
    "(s > 12).sum()"
   ]
  },
  {
   "cell_type": "code",
   "execution_count": 108,
   "metadata": {},
   "outputs": [],
   "source": [
    "min_edges = body_stats.drop(0).query('side != \"x\"')['min_index'].astype(np.int64)\n",
    "np.random.seed(0)\n",
    "random_edges = np.random.choice(min_edges.values, 100, False)\n",
    "assignment_table = onehop_df.loc[random_edges]\n",
    "\n",
    "from neuclease.merge_table import generate_focused_assignment\n",
    "_ = generate_focused_assignment(assignment_table, 'test-assignment-20180725.json')"
   ]
  },
  {
   "cell_type": "code",
   "execution_count": 110,
   "metadata": {},
   "outputs": [
    {
     "name": "stdout",
     "output_type": "stream",
     "text": [
      "h10u12.int.janelia.org\r\n"
     ]
    }
   ],
   "source": [
    "!uname -n"
   ]
  },
  {
   "cell_type": "code",
   "execution_count": 52,
   "metadata": {},
   "outputs": [
    {
     "data": {
      "text/plain": [
       "<matplotlib.axes._subplots.AxesSubplot at 0x2ba7f1156860>"
      ]
     },
     "execution_count": 52,
     "metadata": {},
     "output_type": "execute_result"
    },
    {
     "data": {
      "image/png": "[encoded data removed]",
      "text/plain": [
       "<matplotlib.figure.Figure at 0x2ba805a906a0>"
      ]
     },
     "metadata": {},
     "output_type": "display_data"
    }
   ],
   "source": [
    "body_stats['min_score'].hist()"
   ]
  },
  {
   "cell_type": "code",
   "execution_count": 51,
   "metadata": {},
   "outputs": [
    {
     "data": {
      "text/plain": [
       "<matplotlib.axes._subplots.AxesSubplot at 0x2ba805994898>"
      ]
     },
     "metadata": {},
     "output_type": "display_data"
    },
    {
     "data": {
      "image/png": "[encoded data removed]",
      "text/plain": [
       "<matplotlib.figure.Figure at 0x2ba8059940f0>"
      ]
     },
     "metadata": {},
     "output_type": "display_data"
    }
   ],
   "source": [
    "ec = body_stats['edge_count']\n",
    "display(ec.hist())"
   ]
  },
  {
   "cell_type": "code",
   "execution_count": 53,
   "metadata": {},
   "outputs": [
    {
     "name": "stdout",
     "output_type": "stream",
     "text": [
      "508836 bodies with fewer than 50000 edges\n",
      "0.999785831475\n"
     ]
    },
    {
     "data": {
      "text/plain": [
       "<matplotlib.axes._subplots.AxesSubplot at 0x2ba7f2b017f0>"
      ]
     },
     "metadata": {},
     "output_type": "display_data"
    },
    {
     "data": {
      "image/png": "[encoded data removed]",
      "text/plain": [
       "<matplotlib.figure.Figure at 0x2ba7f2b84c50>"
      ]
     },
     "metadata": {},
     "output_type": "display_data"
    }
   ],
   "source": [
    "ec = body_stats['edge_count']\n",
    "\n",
    "cutoff = 50000\n",
    "print((ec < cutoff).sum(), f'bodies with fewer than {cutoff} edges')\n",
    "print((ec < cutoff).sum() / len(ec))\n",
    "display(ec[ec < cutoff].hist())"
   ]
  },
  {
   "cell_type": "code",
   "execution_count": 101,
   "metadata": {},
   "outputs": [
    {
     "name": "stdout",
     "output_type": "stream",
     "text": [
      "504394 bodies with fewer than 10000 edges\n",
      "0.991057972865\n"
     ]
    },
    {
     "data": {
      "text/plain": [
       "<matplotlib.axes._subplots.AxesSubplot at 0x2ba804a3fc50>"
      ]
     },
     "metadata": {},
     "output_type": "display_data"
    },
    {
     "data": {
      "image/png": "[encoded data removed]",
      "text/plain": [
       "<matplotlib.figure.Figure at 0x2ba804ac3d30>"
      ]
     },
     "metadata": {},
     "output_type": "display_data"
    }
   ],
   "source": [
    "ec = body_stats['edge_count']\n",
    "\n",
    "cutoff = 10000\n",
    "print((ec < cutoff).sum(), f'bodies with fewer than {cutoff} edges')\n",
    "print((ec < cutoff).sum() / len(ec))\n",
    "display(ec[ec < cutoff].hist())"
   ]
  },
  {
   "cell_type": "code",
   "execution_count": 55,
   "metadata": {},
   "outputs": [
    {
     "name": "stdout",
     "output_type": "stream",
     "text": [
      "451903 bodies with fewer than 1000 edges\n",
      "0.88792109167\n"
     ]
    },
    {
     "data": {
      "text/plain": [
       "<matplotlib.axes._subplots.AxesSubplot at 0x2ba7f8779be0>"
      ]
     },
     "metadata": {},
     "output_type": "display_data"
    },
    {
     "data": {
      "image/png": "[encoded data removed]",
      "text/plain": [
       "<matplotlib.figure.Figure at 0x2ba805dcff28>"
      ]
     },
     "metadata": {},
     "output_type": "display_data"
    }
   ],
   "source": [
    "ec = body_stats['edge_count']\n",
    "\n",
    "cutoff = 1000\n",
    "print((ec < cutoff).sum(), f'bodies with fewer than {cutoff} edges')\n",
    "print((ec < cutoff).sum() / len(ec))\n",
    "display(ec[ec < cutoff].hist())"
   ]
  },
  {
   "cell_type": "code",
   "execution_count": 56,
   "metadata": {},
   "outputs": [
    {
     "name": "stdout",
     "output_type": "stream",
     "text": [
      "254751 bodies with fewer than 155 edges\n",
      "0.500547210406\n"
     ]
    },
    {
     "data": {
      "text/plain": [
       "<matplotlib.axes._subplots.AxesSubplot at 0x2ba75fe42f98>"
      ]
     },
     "metadata": {},
     "output_type": "display_data"
    },
    {
     "data": {
      "image/png": "[encoded data removed]",
      "text/plain": [
       "<matplotlib.figure.Figure at 0x2ba811b2c4e0>"
      ]
     },
     "metadata": {},
     "output_type": "display_data"
    }
   ],
   "source": [
    "ec = body_stats['edge_count']\n",
    "\n",
    "cutoff = 155\n",
    "print((ec < cutoff).sum(), f'bodies with fewer than {cutoff} edges')\n",
    "print((ec < cutoff).sum() / len(ec))\n",
    "display(ec[ec < cutoff].hist())"
   ]
  },
  {
   "cell_type": "code",
   "execution_count": null,
   "metadata": {},
   "outputs": [],
   "source": []
  },
  {
   "cell_type": "code",
   "execution_count": null,
   "metadata": {},
   "outputs": [],
   "source": []
  },
  {
   "cell_type": "code",
   "execution_count": 57,
   "metadata": {},
   "outputs": [
    {
     "data": {
      "text/plain": [
       "(162618536, 23)"
      ]
     },
     "execution_count": 57,
     "metadata": {},
     "output_type": "execute_result"
    }
   ],
   "source": [
    "onehop_df.shape"
   ]
  },
  {
   "cell_type": "code",
   "execution_count": 58,
   "metadata": {},
   "outputs": [],
   "source": [
    "spec1 = np.load('/nrs/flyem/bergs/final-agglo/speculative-iterations/final_20180312_32nm_16nm_all_cbs32_upto10_cb16_upto10_freeze_all_spec_phase1_min0.1.npy')"
   ]
  },
  {
   "cell_type": "code",
   "execution_count": 59,
   "metadata": {},
   "outputs": [
    {
     "data": {
      "text/plain": [
       "(75446740,)"
      ]
     },
     "execution_count": 59,
     "metadata": {},
     "output_type": "execute_result"
    }
   ],
   "source": [
    "spec1.shape"
   ]
  },
  {
   "cell_type": "code",
   "execution_count": 60,
   "metadata": {},
   "outputs": [],
   "source": [
    "spec1 = pd.DataFrame(spec1)"
   ]
  },
  {
   "cell_type": "code",
   "execution_count": 62,
   "metadata": {},
   "outputs": [
    {
     "data": {
      "text/plain": [
       "<matplotlib.axes._subplots.AxesSubplot at 0x2ba7f3cffb00>"
      ]
     },
     "execution_count": 62,
     "metadata": {},
     "output_type": "execute_result"
    },
    {
     "data": {
      "image/png": "[encoded data removed]",
      "text/plain": [
       "<matplotlib.figure.Figure at 0x2ba7f3ceef28>"
      ]
     },
     "metadata": {},
     "output_type": "display_data"
    }
   ],
   "source": [
    "spec1['score'].hist()"
   ]
  },
  {
   "cell_type": "code",
   "execution_count": 63,
   "metadata": {},
   "outputs": [
    {
     "data": {
      "text/html": [
       "<div>\n",
       "<style>\n",
       "    .dataframe thead tr:only-child th {\n",
       "        text-align: right;\n",
       "    }\n",
       "\n",
       "    .dataframe thead th {\n",
       "        text-align: left;\n",
       "    }\n",
       "\n",
       "    .dataframe tbody tr th {\n",
       "        vertical-align: top;\n",
       "    }\n",
       "</style>\n",
       "<table border=\"1\" class=\"dataframe\">\n",
       "  <thead>\n",
       "    <tr style=\"text-align: right;\">\n",
       "      <th></th>\n",
       "      <th>id_a</th>\n",
       "      <th>id_b</th>\n",
       "      <th>xa</th>\n",
       "      <th>ya</th>\n",
       "      <th>za</th>\n",
       "      <th>xb</th>\n",
       "      <th>yb</th>\n",
       "      <th>zb</th>\n",
       "      <th>score</th>\n",
       "    </tr>\n",
       "  </thead>\n",
       "  <tbody>\n",
       "    <tr>\n",
       "      <th>0</th>\n",
       "      <td>109025907</td>\n",
       "      <td>140060777</td>\n",
       "      <td>23837</td>\n",
       "      <td>20286</td>\n",
       "      <td>1763</td>\n",
       "      <td>23834</td>\n",
       "      <td>20302</td>\n",
       "      <td>1776</td>\n",
       "      <td>13.0</td>\n",
       "    </tr>\n",
       "    <tr>\n",
       "      <th>1</th>\n",
       "      <td>109025923</td>\n",
       "      <td>109025907</td>\n",
       "      <td>23841</td>\n",
       "      <td>20291</td>\n",
       "      <td>1766</td>\n",
       "      <td>23837</td>\n",
       "      <td>20286</td>\n",
       "      <td>1763</td>\n",
       "      <td>13.0</td>\n",
       "    </tr>\n",
       "    <tr>\n",
       "      <th>2</th>\n",
       "      <td>109707975</td>\n",
       "      <td>110049207</td>\n",
       "      <td>23955</td>\n",
       "      <td>21390</td>\n",
       "      <td>1669</td>\n",
       "      <td>23954</td>\n",
       "      <td>21396</td>\n",
       "      <td>1672</td>\n",
       "      <td>13.0</td>\n",
       "    </tr>\n",
       "    <tr>\n",
       "      <th>3</th>\n",
       "      <td>110049207</td>\n",
       "      <td>109707975</td>\n",
       "      <td>23954</td>\n",
       "      <td>21396</td>\n",
       "      <td>1672</td>\n",
       "      <td>23955</td>\n",
       "      <td>21390</td>\n",
       "      <td>1669</td>\n",
       "      <td>13.0</td>\n",
       "    </tr>\n",
       "    <tr>\n",
       "      <th>4</th>\n",
       "      <td>112380390</td>\n",
       "      <td>143415169</td>\n",
       "      <td>18277</td>\n",
       "      <td>24774</td>\n",
       "      <td>1789</td>\n",
       "      <td>18268</td>\n",
       "      <td>24767</td>\n",
       "      <td>1781</td>\n",
       "      <td>13.0</td>\n",
       "    </tr>\n",
       "    <tr>\n",
       "      <th>5</th>\n",
       "      <td>138636189</td>\n",
       "      <td>138636194</td>\n",
       "      <td>17836</td>\n",
       "      <td>18720</td>\n",
       "      <td>2184</td>\n",
       "      <td>17816</td>\n",
       "      <td>18714</td>\n",
       "      <td>2192</td>\n",
       "      <td>13.0</td>\n",
       "    </tr>\n",
       "    <tr>\n",
       "      <th>6</th>\n",
       "      <td>138636194</td>\n",
       "      <td>138636189</td>\n",
       "      <td>17816</td>\n",
       "      <td>18714</td>\n",
       "      <td>2192</td>\n",
       "      <td>17836</td>\n",
       "      <td>18720</td>\n",
       "      <td>2184</td>\n",
       "      <td>13.0</td>\n",
       "    </tr>\n",
       "    <tr>\n",
       "      <th>7</th>\n",
       "      <td>139378906</td>\n",
       "      <td>139720023</td>\n",
       "      <td>23717</td>\n",
       "      <td>19651</td>\n",
       "      <td>1888</td>\n",
       "      <td>23724</td>\n",
       "      <td>19652</td>\n",
       "      <td>1890</td>\n",
       "      <td>13.0</td>\n",
       "    </tr>\n",
       "    <tr>\n",
       "      <th>8</th>\n",
       "      <td>139720022</td>\n",
       "      <td>139378906</td>\n",
       "      <td>23722</td>\n",
       "      <td>19652</td>\n",
       "      <td>1890</td>\n",
       "      <td>23717</td>\n",
       "      <td>19651</td>\n",
       "      <td>1888</td>\n",
       "      <td>13.0</td>\n",
       "    </tr>\n",
       "    <tr>\n",
       "      <th>9</th>\n",
       "      <td>139720023</td>\n",
       "      <td>139720022</td>\n",
       "      <td>23724</td>\n",
       "      <td>19652</td>\n",
       "      <td>1890</td>\n",
       "      <td>23722</td>\n",
       "      <td>19652</td>\n",
       "      <td>1890</td>\n",
       "      <td>13.0</td>\n",
       "    </tr>\n",
       "  </tbody>\n",
       "</table>\n",
       "</div>"
      ],
      "text/plain": [
       "        id_a       id_b     xa     ya    za     xb     yb    zb  score\n",
       "0  109025907  140060777  23837  20286  1763  23834  20302  1776   13.0\n",
       "1  109025923  109025907  23841  20291  1766  23837  20286  1763   13.0\n",
       "2  109707975  110049207  23955  21390  1669  23954  21396  1672   13.0\n",
       "3  110049207  109707975  23954  21396  1672  23955  21390  1669   13.0\n",
       "4  112380390  143415169  18277  24774  1789  18268  24767  1781   13.0\n",
       "5  138636189  138636194  17836  18720  2184  17816  18714  2192   13.0\n",
       "6  138636194  138636189  17816  18714  2192  17836  18720  2184   13.0\n",
       "7  139378906  139720023  23717  19651  1888  23724  19652  1890   13.0\n",
       "8  139720022  139378906  23722  19652  1890  23717  19651  1888   13.0\n",
       "9  139720023  139720022  23724  19652  1890  23722  19652  1890   13.0"
      ]
     },
     "execution_count": 63,
     "metadata": {},
     "output_type": "execute_result"
    }
   ],
   "source": [
    "spec1.iloc[:10]"
   ]
  },
  {
   "cell_type": "code",
   "execution_count": 69,
   "metadata": {},
   "outputs": [
    {
     "name": "stdout",
     "output_type": "stream",
     "text": [
      "CPU times: user 8min 37s, sys: 3min 25s, total: 12min 3s\n",
      "Wall time: 23.5 s\n"
     ]
    }
   ],
   "source": [
    "%time twohop_table = np.concatenate(table_chunks)"
   ]
  },
  {
   "cell_type": "code",
   "execution_count": 70,
   "metadata": {},
   "outputs": [],
   "source": [
    "twohop_scores = calc_scores(twohop_table)"
   ]
  },
  {
   "cell_type": "code",
   "execution_count": 71,
   "metadata": {},
   "outputs": [
    {
     "name": "stdout",
     "output_type": "stream",
     "text": [
      "CPU times: user 2min 40s, sys: 3min 5s, total: 5min 46s\n",
      "Wall time: 3min 26s\n"
     ]
    }
   ],
   "source": [
    "%time twohop_df = pd.DataFrame.from_records(twohop_table)"
   ]
  },
  {
   "cell_type": "code",
   "execution_count": 72,
   "metadata": {},
   "outputs": [],
   "source": [
    "twohop_df['score'] = twohop_scores"
   ]
  },
  {
   "cell_type": "code",
   "execution_count": 81,
   "metadata": {},
   "outputs": [
    {
     "name": "stdout",
     "output_type": "stream",
     "text": [
      "CPU times: user 1min 17s, sys: 1min 3s, total: 2min 20s\n",
      "Wall time: 1min 15s\n"
     ]
    }
   ],
   "source": [
    "%time twohop_subset_df = twohop_df.query('body_a % 20 == 0 or body_b % 20 == 0').copy()"
   ]
  },
  {
   "cell_type": "code",
   "execution_count": 82,
   "metadata": {},
   "outputs": [
    {
     "data": {
      "text/plain": [
       "(71935320, 21)"
      ]
     },
     "execution_count": 82,
     "metadata": {},
     "output_type": "execute_result"
    }
   ],
   "source": [
    "twohop_subset_df.shape"
   ]
  },
  {
   "cell_type": "code",
   "execution_count": 88,
   "metadata": {},
   "outputs": [],
   "source": [
    "del twohop_table\n",
    "del twohop_df\n",
    "del twohop_scores"
   ]
  },
  {
   "cell_type": "code",
   "execution_count": 96,
   "metadata": {},
   "outputs": [
    {
     "name": "stdout",
     "output_type": "stream",
     "text": [
      "CPU times: user 29.9 s, sys: 6.35 s, total: 36.3 s\n",
      "Wall time: 17.8 s\n"
     ]
    }
   ],
   "source": [
    "%%time\n",
    "body_a_stats = twohop_subset_df.groupby('body_a').agg({'score': ['min']})\n",
    "body_a_stats.columns = ['min_score']\n",
    "\n",
    "body_b_stats = twohop_subset_df.groupby('body_b').agg({'score': ['min']})\n",
    "body_b_stats.columns = ['min_score']"
   ]
  },
  {
   "cell_type": "code",
   "execution_count": 90,
   "metadata": {},
   "outputs": [
    {
     "name": "stdout",
     "output_type": "stream",
     "text": [
      "CPU times: user 2.83 s, sys: 899 ms, total: 3.73 s\n",
      "Wall time: 765 ms\n"
     ]
    }
   ],
   "source": [
    "%%time\n",
    "merged_body_stats = pd.DataFrame(body_a_stats).merge(body_b_stats, 'outer', left_index=True, right_index=True,\n",
    "                                                      suffixes=['_a', '_b'])"
   ]
  },
  {
   "cell_type": "code",
   "execution_count": 91,
   "metadata": {},
   "outputs": [
    {
     "name": "stdout",
     "output_type": "stream",
     "text": [
      "CPU times: user 15.5 s, sys: 4.27 s, total: 19.8 s\n",
      "Wall time: 1.35 s\n"
     ]
    }
   ],
   "source": [
    "%%time\n",
    "\n",
    "# Combine scores/indexes and edge counts, and record which side of the edge the score came from.\n",
    "min_scores = merged_body_stats[['min_score_a', 'min_score_b']].min(axis=1)\n",
    "edge_counts = merged_body_stats[['edge_count_a', 'edge_count_b']].sum(axis=1).astype(np.uint32)\n",
    "\n",
    "min_index = merged_body_stats['min_index_b'].copy()\n",
    "pos_a = merged_body_stats['min_score_a'] < merged_body_stats['min_score_b']\n",
    "min_index.loc[pos_a] = merged_body_stats['min_index_a']\n",
    "\n",
    "sides = pd.Series('b', index=merged_body_stats.index)\n",
    "sides.loc[pos_a] = 'a'\n",
    "sides.loc[min_index.isnull()] = 'x'\n",
    "sides = sides.astype('category')\n",
    "\n",
    "twohop_body_stats = pd.DataFrame({'min_score': min_scores,\n",
    "                                  'min_index': min_index,\n",
    "                                  'edge_count': edge_counts,\n",
    "                                  'side': sides})"
   ]
  },
  {
   "cell_type": "code",
   "execution_count": null,
   "metadata": {},
   "outputs": [],
   "source": []
  },
  {
   "cell_type": "code",
   "execution_count": 100,
   "metadata": {},
   "outputs": [
    {
     "data": {
      "text/plain": [
       "<matplotlib.axes._subplots.AxesSubplot at 0x2ba80490eda0>"
      ]
     },
     "execution_count": 100,
     "metadata": {},
     "output_type": "execute_result"
    },
    {
     "data": {
      "image/png": "[encoded data removed]",
      "text/plain": [
       "<matplotlib.figure.Figure at 0x2ba804a0b0f0>"
      ]
     },
     "metadata": {},
     "output_type": "display_data"
    }
   ],
   "source": [
    "q = '(index in @important_bodies) and (index % 20 == 0)'\n",
    "twohop_body_stats.query(q)['min_score'].hist()"
   ]
  },
  {
   "cell_type": "code",
   "execution_count": 95,
   "metadata": {},
   "outputs": [
    {
     "data": {
      "text/plain": [
       "  C_CONTIGUOUS : False\n",
       "  F_CONTIGUOUS : True\n",
       "  OWNDATA : False\n",
       "  WRITEABLE : True\n",
       "  ALIGNED : True\n",
       "  UPDATEIFCOPY : False"
      ]
     },
     "execution_count": 95,
     "metadata": {},
     "output_type": "execute_result"
    }
   ],
   "source": [
    "twohop_subset_df.iloc[:10].values.flags"
   ]
  },
  {
   "cell_type": "code",
   "execution_count": 112,
   "metadata": {},
   "outputs": [
    {
     "data": {
      "text/plain": [
       "<matplotlib.axes._subplots.AxesSubplot at 0x2ba76bf69a20>"
      ]
     },
     "execution_count": 112,
     "metadata": {},
     "output_type": "execute_result"
    },
    {
     "data": {
      "image/png": "[encoded data removed]",
      "text/plain": [
       "<matplotlib.figure.Figure at 0x2ba773fa52b0>"
      ]
     },
     "metadata": {},
     "output_type": "display_data"
    }
   ],
   "source": [
    "onehop_df['resolution'].value_counts().plot(kind='pie')"
   ]
  },
  {
   "cell_type": "code",
   "execution_count": 114,
   "metadata": {},
   "outputs": [
    {
     "data": {
      "text/plain": [
       "16    0.704103\n",
       "32    0.167573\n",
       "8     0.128324\n",
       "Name: resolution, dtype: float64"
      ]
     },
     "execution_count": 114,
     "metadata": {},
     "output_type": "execute_result"
    }
   ],
   "source": [
    "onehop_df['resolution'].value_counts() / len(onehop_df['resolution'])"
   ]
  },
  {
   "cell_type": "code",
   "execution_count": 115,
   "metadata": {},
   "outputs": [
    {
     "name": "stdout",
     "output_type": "stream",
     "text": [
      "CPU times: user 28.2 s, sys: 4.47 s, total: 32.7 s\n",
      "Wall time: 11.2 s\n"
     ]
    }
   ],
   "source": [
    "%%time\n",
    "best_edges_index = body_stats.drop(0).query('side != \"x\"')['min_index'].astype(np.int64)\n",
    "best_onehop_df = onehop_df.loc[best_edges_index]"
   ]
  },
  {
   "cell_type": "code",
   "execution_count": 116,
   "metadata": {},
   "outputs": [
    {
     "data": {
      "text/plain": [
       "(508759, 23)"
      ]
     },
     "execution_count": 116,
     "metadata": {},
     "output_type": "execute_result"
    }
   ],
   "source": [
    "best_onehop_df.shape"
   ]
  },
  {
   "cell_type": "code",
   "execution_count": 119,
   "metadata": {},
   "outputs": [
    {
     "data": {
      "text/plain": [
       "8     0.897505\n",
       "16    0.056080\n",
       "32    0.046415\n",
       "Name: resolution, dtype: float64"
      ]
     },
     "metadata": {},
     "output_type": "display_data"
    },
    {
     "data": {
      "text/plain": [
       "<matplotlib.axes._subplots.AxesSubplot at 0x2ba773e3def0>"
      ]
     },
     "execution_count": 119,
     "metadata": {},
     "output_type": "execute_result"
    },
    {
     "data": {
      "image/png": "[encoded data removed]",
      "text/plain": [
       "<matplotlib.figure.Figure at 0x2ba76bf6c8d0>"
      ]
     },
     "metadata": {},
     "output_type": "display_data"
    }
   ],
   "source": [
    "resolution_fractions = best_onehop_df['resolution'].value_counts() / len(best_onehop_df['resolution'])\n",
    "display(resolution_fractions)\n",
    "resolution_fractions.plot(kind='pie')"
   ]
  },
  {
   "cell_type": "code",
   "execution_count": 125,
   "metadata": {},
   "outputs": [],
   "source": [
    "SMALL_BODY_CUTOFF = 155\n",
    "small_body_stats = body_stats.drop(0).query('side != \"x\" and edge_count <= @SMALL_BODY_CUTOFF')\n",
    "small_best_edges_index = small_body_stats['min_index'].astype(np.int64)\n",
    "\n",
    "np.random.seed(0)\n",
    "random_edges = np.random.choice(small_best_edges_index.values, 100, False)\n",
    "assignment_table = onehop_df.loc[random_edges]\n",
    "\n",
    "from neuclease.merge_table import generate_focused_assignment\n",
    "_ = generate_focused_assignment(assignment_table, 'test-assignment-SMALL-BODIES-20180725.json')\n"
   ]
  },
  {
   "cell_type": "code",
   "execution_count": 121,
   "metadata": {},
   "outputs": [
    {
     "data": {
      "text/plain": [
       "20335"
      ]
     },
     "execution_count": 121,
     "metadata": {},
     "output_type": "execute_result"
    }
   ],
   "source": []
  },
  {
   "cell_type": "code",
   "execution_count": 126,
   "metadata": {},
   "outputs": [
    {
     "data": {
      "text/html": [
       "<div>\n",
       "<style>\n",
       "    .dataframe thead tr:only-child th {\n",
       "        text-align: right;\n",
       "    }\n",
       "\n",
       "    .dataframe thead th {\n",
       "        text-align: left;\n",
       "    }\n",
       "\n",
       "    .dataframe tbody tr th {\n",
       "        vertical-align: top;\n",
       "    }\n",
       "</style>\n",
       "<table border=\"1\" class=\"dataframe\">\n",
       "  <thead>\n",
       "    <tr style=\"text-align: right;\">\n",
       "      <th></th>\n",
       "      <th>id_a</th>\n",
       "      <th>id_b</th>\n",
       "      <th>xa</th>\n",
       "      <th>ya</th>\n",
       "      <th>za</th>\n",
       "      <th>xb</th>\n",
       "      <th>yb</th>\n",
       "      <th>zb</th>\n",
       "      <th>score</th>\n",
       "    </tr>\n",
       "  </thead>\n",
       "  <tbody>\n",
       "    <tr>\n",
       "      <th>0</th>\n",
       "      <td>109025907</td>\n",
       "      <td>140060777</td>\n",
       "      <td>23837</td>\n",
       "      <td>20286</td>\n",
       "      <td>1763</td>\n",
       "      <td>23834</td>\n",
       "      <td>20302</td>\n",
       "      <td>1776</td>\n",
       "      <td>13.0</td>\n",
       "    </tr>\n",
       "    <tr>\n",
       "      <th>1</th>\n",
       "      <td>109025923</td>\n",
       "      <td>109025907</td>\n",
       "      <td>23841</td>\n",
       "      <td>20291</td>\n",
       "      <td>1766</td>\n",
       "      <td>23837</td>\n",
       "      <td>20286</td>\n",
       "      <td>1763</td>\n",
       "      <td>13.0</td>\n",
       "    </tr>\n",
       "    <tr>\n",
       "      <th>2</th>\n",
       "      <td>109707975</td>\n",
       "      <td>110049207</td>\n",
       "      <td>23955</td>\n",
       "      <td>21390</td>\n",
       "      <td>1669</td>\n",
       "      <td>23954</td>\n",
       "      <td>21396</td>\n",
       "      <td>1672</td>\n",
       "      <td>13.0</td>\n",
       "    </tr>\n",
       "    <tr>\n",
       "      <th>3</th>\n",
       "      <td>110049207</td>\n",
       "      <td>109707975</td>\n",
       "      <td>23954</td>\n",
       "      <td>21396</td>\n",
       "      <td>1672</td>\n",
       "      <td>23955</td>\n",
       "      <td>21390</td>\n",
       "      <td>1669</td>\n",
       "      <td>13.0</td>\n",
       "    </tr>\n",
       "    <tr>\n",
       "      <th>4</th>\n",
       "      <td>112380390</td>\n",
       "      <td>143415169</td>\n",
       "      <td>18277</td>\n",
       "      <td>24774</td>\n",
       "      <td>1789</td>\n",
       "      <td>18268</td>\n",
       "      <td>24767</td>\n",
       "      <td>1781</td>\n",
       "      <td>13.0</td>\n",
       "    </tr>\n",
       "    <tr>\n",
       "      <th>5</th>\n",
       "      <td>138636189</td>\n",
       "      <td>138636194</td>\n",
       "      <td>17836</td>\n",
       "      <td>18720</td>\n",
       "      <td>2184</td>\n",
       "      <td>17816</td>\n",
       "      <td>18714</td>\n",
       "      <td>2192</td>\n",
       "      <td>13.0</td>\n",
       "    </tr>\n",
       "    <tr>\n",
       "      <th>6</th>\n",
       "      <td>138636194</td>\n",
       "      <td>138636189</td>\n",
       "      <td>17816</td>\n",
       "      <td>18714</td>\n",
       "      <td>2192</td>\n",
       "      <td>17836</td>\n",
       "      <td>18720</td>\n",
       "      <td>2184</td>\n",
       "      <td>13.0</td>\n",
       "    </tr>\n",
       "    <tr>\n",
       "      <th>7</th>\n",
       "      <td>139378906</td>\n",
       "      <td>139720023</td>\n",
       "      <td>23717</td>\n",
       "      <td>19651</td>\n",
       "      <td>1888</td>\n",
       "      <td>23724</td>\n",
       "      <td>19652</td>\n",
       "      <td>1890</td>\n",
       "      <td>13.0</td>\n",
       "    </tr>\n",
       "    <tr>\n",
       "      <th>8</th>\n",
       "      <td>139720022</td>\n",
       "      <td>139378906</td>\n",
       "      <td>23722</td>\n",
       "      <td>19652</td>\n",
       "      <td>1890</td>\n",
       "      <td>23717</td>\n",
       "      <td>19651</td>\n",
       "      <td>1888</td>\n",
       "      <td>13.0</td>\n",
       "    </tr>\n",
       "    <tr>\n",
       "      <th>9</th>\n",
       "      <td>139720023</td>\n",
       "      <td>139720022</td>\n",
       "      <td>23724</td>\n",
       "      <td>19652</td>\n",
       "      <td>1890</td>\n",
       "      <td>23722</td>\n",
       "      <td>19652</td>\n",
       "      <td>1890</td>\n",
       "      <td>13.0</td>\n",
       "    </tr>\n",
       "  </tbody>\n",
       "</table>\n",
       "</div>"
      ],
      "text/plain": [
       "        id_a       id_b     xa     ya    za     xb     yb    zb  score\n",
       "0  109025907  140060777  23837  20286  1763  23834  20302  1776   13.0\n",
       "1  109025923  109025907  23841  20291  1766  23837  20286  1763   13.0\n",
       "2  109707975  110049207  23955  21390  1669  23954  21396  1672   13.0\n",
       "3  110049207  109707975  23954  21396  1672  23955  21390  1669   13.0\n",
       "4  112380390  143415169  18277  24774  1789  18268  24767  1781   13.0\n",
       "5  138636189  138636194  17836  18720  2184  17816  18714  2192   13.0\n",
       "6  138636194  138636189  17816  18714  2192  17836  18720  2184   13.0\n",
       "7  139378906  139720023  23717  19651  1888  23724  19652  1890   13.0\n",
       "8  139720022  139378906  23722  19652  1890  23717  19651  1888   13.0\n",
       "9  139720023  139720022  23724  19652  1890  23722  19652  1890   13.0"
      ]
     },
     "execution_count": 126,
     "metadata": {},
     "output_type": "execute_result"
    }
   ],
   "source": [
    "spec1.iloc[:10]"
   ]
  },
  {
   "cell_type": "code",
   "execution_count": 137,
   "metadata": {},
   "outputs": [
    {
     "name": "stdout",
     "output_type": "stream",
     "text": [
      "Fetching http://emdata3:8900/api/node/662e/segmentation/mappings...\n",
      "Fetching http://emdata3:8900/api/node/662e/segmentation/mappings took 0:00:31.672613\n",
      "Parsing mapping...\n",
      "Parsing mapping took 0:00:07.636586\n"
     ]
    }
   ],
   "source": [
    "analysis_mapping = fetch_mappings(analysis_node)\n",
    "analysis_mapper = LabelMapper(analysis_mapping.index.values, analysis_mapping.values)"
   ]
  },
  {
   "cell_type": "code",
   "execution_count": 141,
   "metadata": {},
   "outputs": [
    {
     "name": "stdout",
     "output_type": "stream",
     "text": [
      "CPU times: user 2min 46s, sys: 20 s, total: 3min 6s\n",
      "Wall time: 2min 47s\n"
     ]
    }
   ],
   "source": [
    "%%time\n",
    "spec1['body_a'] = analysis_mapper.apply(spec1['id_a'].values, True)\n",
    "spec1['body_b'] = analysis_mapper.apply(spec1['id_b'].values, True)"
   ]
  },
  {
   "cell_type": "code",
   "execution_count": 142,
   "metadata": {},
   "outputs": [],
   "source": [
    "spec1_important = spec1.query('(body_a in @important_bodies) and (body_b in @important_bodies)')"
   ]
  },
  {
   "cell_type": "code",
   "execution_count": 143,
   "metadata": {},
   "outputs": [
    {
     "data": {
      "text/plain": [
       "(79578, 11)"
      ]
     },
     "execution_count": 143,
     "metadata": {},
     "output_type": "execute_result"
    }
   ],
   "source": [
    "spec1_important.shape"
   ]
  },
  {
   "cell_type": "code",
   "execution_count": 144,
   "metadata": {},
   "outputs": [],
   "source": [
    "my_best = set(map(tuple, np.sort(best_onehop_df[['id_a', 'id_b']].values, axis=1)))\n",
    "spec1_important_edges = set(map(tuple, np.sort(spec1_important[['id_a', 'id_b']].values, axis=1)))"
   ]
  },
  {
   "cell_type": "code",
   "execution_count": null,
   "metadata": {},
   "outputs": [],
   "source": []
  },
  {
   "cell_type": "code",
   "execution_count": 145,
   "metadata": {},
   "outputs": [
    {
     "name": "stdout",
     "output_type": "stream",
     "text": [
      "Did not recover 60019 out of 79578 of Michal's merges\n"
     ]
    }
   ],
   "source": [
    "print(f\"Did not recover {len(spec1_important_edges - my_best)} out of {len(spec1_important)} of Michal's merges\")"
   ]
  },
  {
   "cell_type": "code",
   "execution_count": 146,
   "metadata": {},
   "outputs": [
    {
     "data": {
      "text/plain": [
       "DvidInstanceInfo(server='emdata3:8900', uuid='662e', instance='segmentation')"
      ]
     },
     "execution_count": 146,
     "metadata": {},
     "output_type": "execute_result"
    }
   ],
   "source": [
    "analysis_node"
   ]
  },
  {
   "cell_type": "code",
   "execution_count": null,
   "metadata": {},
   "outputs": [],
   "source": []
  }
 ],
 "metadata": {
  "kernelspec": {
   "display_name": "Python 3",
   "language": "python",
   "name": "python3"
  },
  "language_info": {
   "codemirror_mode": {
    "name": "ipython",
    "version": 3
   },
   "file_extension": ".py",
   "mimetype": "text/x-python",
   "name": "python",
   "nbconvert_exporter": "python",
   "pygments_lexer": "ipython3",
   "version": "3.6.2"
  }
 },
 "nbformat": 4,
 "nbformat_minor": 2
}
