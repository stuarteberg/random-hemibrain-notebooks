{
 "cells": [
  {
   "cell_type": "code",
   "execution_count": null,
   "metadata": {},
   "outputs": [],
   "source": [
    "%load_ext autoreload\n",
    "%autoreload 2"
   ]
  },
  {
   "cell_type": "code",
   "execution_count": null,
   "metadata": {},
   "outputs": [],
   "source": [
    "import glob\n",
    "import os\n",
    "import sys\n",
    "import logging\n",
    "from itertools import chain\n",
    "\n",
    "import requests\n",
    "from tqdm import tqdm, tqdm_notebook, tnrange\n",
    "#tqdm = tqdm_notebook\n",
    "\n",
    "import vigra\n",
    "import numpy as np\n",
    "import pandas as pd\n",
    "from pandas.api.types import CategoricalDtype\n",
    "from numba import jit\n",
    "\n",
    "from dvidutils import LabelMapper\n",
    "from libdvid import DVIDNodeService\n",
    "\n",
    "from neuclease.dvid import *\n",
    "from neuclease.util import Timer\n",
    "from neuclease.misc import find_best_plane"
   ]
  },
  {
   "cell_type": "code",
   "execution_count": null,
   "metadata": {},
   "outputs": [],
   "source": [
    "from DVIDSparkServices.spark_launch_scripts.janelia_lsf.lsf_utils import get_hostgraph_url"
   ]
  },
  {
   "cell_type": "code",
   "execution_count": null,
   "metadata": {},
   "outputs": [],
   "source": [
    "handler = logging.StreamHandler(sys.stdout)\n",
    "root_logger = logging.getLogger()\n",
    "root_logger.handlers = []\n",
    "root_logger.addHandler(handler)\n",
    "root_logger.setLevel(logging.INFO)\n",
    "logging.getLogger('kafka').setLevel(logging.WARNING)"
   ]
  },
  {
   "cell_type": "code",
   "execution_count": null,
   "metadata": {},
   "outputs": [],
   "source": [
    "cd /nrs/flyem/bergs/complete-ffn-agglo/"
   ]
  },
  {
   "cell_type": "code",
   "execution_count": 6,
   "metadata": {},
   "outputs": [
    {
     "name": "stdout",
     "output_type": "stream",
     "text": [
      "e05u20.int.janelia.org\r\n"
     ]
    }
   ],
   "source": [
    "!uname -n"
   ]
  },
  {
   "cell_type": "code",
   "execution_count": 7,
   "metadata": {},
   "outputs": [
    {
     "data": {
      "text/plain": [
       "'/nrs/flyem/bergs/complete-ffn-agglo'"
      ]
     },
     "execution_count": 7,
     "metadata": {},
     "output_type": "execute_result"
    }
   ],
   "source": [
    "pwd"
   ]
  },
  {
   "cell_type": "code",
   "execution_count": null,
   "metadata": {},
   "outputs": [],
   "source": [
    "#sc"
   ]
  },
  {
   "cell_type": "markdown",
   "metadata": {},
   "source": [
    "### Hostgraph URLS"
   ]
  },
  {
   "cell_type": "code",
   "execution_count": null,
   "metadata": {},
   "outputs": [],
   "source": [
    "print(\"This notebook:\")\n",
    "print(get_hostgraph_url(os.environ[\"LSB_JOBID\"]))\n",
    "print(\"Cluster:\")\n",
    "print(get_hostgraph_url(os.environ[\"MASTER_BJOB_ID\"]))"
   ]
  },
  {
   "cell_type": "markdown",
   "metadata": {},
   "source": [
    "### UUIDs"
   ]
  },
  {
   "cell_type": "code",
   "execution_count": 8,
   "metadata": {},
   "outputs": [],
   "source": [
    "# The starting agglo\n",
    "initial_agglo = DvidInstanceInfo('emdata3:8900', 'ac901', 'segmentation')\n",
    "\n",
    "# The uuid used when loading the neo4j instance (for 'important bodies')\n",
    "neo4j_reference = DvidInstanceInfo('emdata3:8900', '52f9', 'segmentation')\n",
    "\n",
    "# The last supervoxel splits: One past the neo4j node\n",
    "analysis_node = DvidInstanceInfo('emdata3:8900', '662e', 'segmentation')\n",
    "\n",
    "# We won't be using this...\n",
    "current_master = DvidInstanceInfo('emdata3:8900', '7e52', 'segmentation')"
   ]
  },
  {
   "cell_type": "markdown",
   "metadata": {},
   "source": [
    "### Load neo4j-defined important bodies; append final splits"
   ]
  },
  {
   "cell_type": "code",
   "execution_count": null,
   "metadata": {},
   "outputs": [],
   "source": [
    "# This list was generated from node 52f9\n",
    "important_bodies_path = '/nrs/flyem/bergs/complete-ffn-agglo/bodies-0.5-from-neuprint-52f9.csv'\n",
    "important_bodies = pd.read_csv(important_bodies_path, header=0, usecols=['bodyId'], dtype=np.uint64)['bodyId']\n",
    "important_bodies = set(important_bodies)\n",
    "\n",
    "# Read last set of new bodies (from analysis node, after neo4j was loaded).\n",
    "msgs = read_kafka_messages(analysis_node, 'split', 'leaf-only')\n",
    "final_new_bodies = set(chain(*((msg['Target'], msg['NewLabel']) for msg in msgs)))\n",
    "\n",
    "# Append final set\n",
    "important_bodies |= final_new_bodies"
   ]
  },
  {
   "cell_type": "markdown",
   "metadata": {},
   "source": [
    "### Load pre-filtered table"
   ]
  },
  {
   "cell_type": "code",
   "execution_count": null,
   "metadata": {},
   "outputs": [],
   "source": [
    "# id_a, id_b -- the two supervoxel IDs\n",
    "# xa, ya, za -- point from which segmentation of 'a' was started, 8 nm coordinates\n",
    "# xb, yb, zb -- point from which segmentation of 'b' was started, 8 nm coordinates\n",
    "# caa, cab, cba, cbb -- cXY means: fraction of voxels from the original segment Y recovered when seeding from X\n",
    "# iou -- Jaccard index of the two local segmentations\n",
    "# da, db -- dX means: fraction of voxels that changed value from >0.8 to <0.5 when segmenting & seeding from X;\n",
    "#                     the higher this value is, the more \"internally inconsistent\" the segmentation resolution\n",
    "#                     potentially is; higher thresholds for iou, cXY might be warranted\n",
    "\n",
    "\n",
    "# This table uses SV ids from the 'analysis node', and includes only\n",
    "# edges that mention at least one \"important\" supervoxel\n",
    "with Timer(\"Loading edge table\"):\n",
    "    #combined_table = np.load('combined-filtered-table.npy')\n",
    "    combined_table = np.load('combined-table-with-importances.npy')\n",
    "    combined_df = pd.DataFrame(combined_table)\n",
    "    \n",
    "print(f\"Loaded {len(combined_df) / 1e6:.1f}M edges\")\n",
    "print(f\"Memory usage: {combined_df.memory_usage().sum() / 1e9:.1f} GB\")"
   ]
  },
  {
   "cell_type": "code",
   "execution_count": null,
   "metadata": {},
   "outputs": [],
   "source": [
    "combined_df.columns"
   ]
  },
  {
   "cell_type": "code",
   "execution_count": null,
   "metadata": {},
   "outputs": [],
   "source": [
    "%time all_svs = pd.concat((combined_df['id_a'], combined_df['id_b']), ignore_index=True)"
   ]
  },
  {
   "cell_type": "code",
   "execution_count": null,
   "metadata": {},
   "outputs": [],
   "source": [
    "%%time \n",
    "sv_counts = all_svs.value_counts()\n",
    "unimportant_sv_counts = sv_counts[~sv_counts.index.isin(important_bodies)]\n",
    "print((unimportant_sv_counts == 1).sum())"
   ]
  },
  {
   "cell_type": "markdown",
   "metadata": {},
   "source": [
    "### One-hop only?"
   ]
  },
  {
   "cell_type": "code",
   "execution_count": null,
   "metadata": {},
   "outputs": [],
   "source": [
    "len(important_bodies)"
   ]
  },
  {
   "cell_type": "code",
   "execution_count": null,
   "metadata": {},
   "outputs": [],
   "source": [
    "def chunkify_table(table, approx_chunk_len):\n",
    "    approx_chunk_len = int(approx_chunk_len)\n",
    "    total_len = len(table)\n",
    "    num_chunks = max(1, total_len // approx_chunk_len)\n",
    "    chunk_len = total_len // num_chunks\n",
    "\n",
    "    partitions = list(range(0, chunk_len*num_chunks, chunk_len))\n",
    "    if partitions[-1] < total_len:\n",
    "        partitions.append( total_len )\n",
    "\n",
    "    for (start, stop) in zip(partitions[:-1], partitions[1:]):\n",
    "        yield table[start:stop]"
   ]
  },
  {
   "cell_type": "markdown",
   "metadata": {},
   "source": [
    "#### Cache chunks to disk"
   ]
  },
  {
   "cell_type": "code",
   "execution_count": null,
   "metadata": {},
   "outputs": [],
   "source": [
    "# os.makedirs('combined-filtered-chunks', exist_ok=True)\n",
    "# num_chunks = len(combined_table)//10**6\n",
    "# for i, table_chunk in tqdm(enumerate(chunkify_table(combined_table, 10**6)), total=num_chunks):\n",
    "#     np.save(f'combined-filtered-chunks/chunk-{i:05}.npy', table_chunk)"
   ]
  },
  {
   "cell_type": "code",
   "execution_count": null,
   "metadata": {},
   "outputs": [],
   "source": [
    "def append_importances(i):\n",
    "    chunk_path = f'/nrs/flyem/bergs/complete-ffn-agglo/combined-filtered-chunks/chunk-{i:05}.npy'\n",
    "    df = pd.DataFrame(np.load(chunk_path))\n",
    "    df['important_a'] = df['body_a'].isin(important_bodies)\n",
    "    df['important_b'] = df['body_b'].isin(important_bodies)\n",
    "    return df.to_records(index=False)"
   ]
  },
  {
   "cell_type": "code",
   "execution_count": null,
   "metadata": {},
   "outputs": [],
   "source": [
    "#num_chunks = len(combined_table)//10**6\n",
    "num_chunks = 755\n",
    "#%time table_chunks = sc.parallelize(range(num_chunks)).map(append_importances).collect()"
   ]
  },
  {
   "cell_type": "code",
   "execution_count": null,
   "metadata": {},
   "outputs": [],
   "source": [
    "table_chunks = list(map(append_importances, tnrange(num_chunks)))"
   ]
  },
  {
   "cell_type": "code",
   "execution_count": null,
   "metadata": {},
   "outputs": [],
   "source": [
    "#combined_table = np.concatenate(table_chunks)\n",
    "#%time np.save('combined-table-with-importances.npy', combined_table)"
   ]
  },
  {
   "cell_type": "code",
   "execution_count": null,
   "metadata": {},
   "outputs": [],
   "source": [
    "%%time\n",
    "onehop_table = combined_table[combined_table['important_a'] & combined_table['important_b']]\n",
    "onehop_df = pd.DataFrame.from_records(onehop_table)"
   ]
  },
  {
   "cell_type": "code",
   "execution_count": null,
   "metadata": {},
   "outputs": [],
   "source": [
    "#%time onehop_chunks = [chunk[chunk['important_a'] & chunk['important_b']] for chunk in tqdm(table_chunks)]"
   ]
  },
  {
   "cell_type": "code",
   "execution_count": null,
   "metadata": {},
   "outputs": [],
   "source": [
    "#sum(map(len, onehop_chunks))"
   ]
  },
  {
   "cell_type": "code",
   "execution_count": null,
   "metadata": {},
   "outputs": [],
   "source": [
    "@jit(nopython=True)\n",
    "def calc_score_32nm(caa, cab, cba, cbb, iou, da, db):\n",
    "    if (caa >= 0.6 and cab >= 0.6 and cba >= 0.6 and cbb >= 0.6\n",
    "    and iou > 0.8 and (da <= 0.02 or db <= 0.02)):\n",
    "        return 0.0 + (1.0 - iou)\n",
    "    elif (caa >= 0.6 and cab >= 0.6 and cba >= 0.6 and cbb >= 0.6 and iou > 0.4):\n",
    "        return 5.0 + (1.0 - iou)\n",
    "    elif (caa > 0.8 and cab > 0.8):\n",
    "        return 11.0 + (1.0 - min(caa, cab))\n",
    "    else:\n",
    "        return 11.0 + (1.0 - min(cba, cbb))\n",
    "\n",
    "\n",
    "@jit(nopython=True)\n",
    "def calc_score_16nm(caa, cab, cba, cbb, iou, da, db):\n",
    "    if ( caa >= 0.6 and cab >= 0.6 and cba >= 0.6 and cbb >= 0.6\n",
    "    and iou > 0.8 and (da <= 0.02 or db <= 0.02)):\n",
    "        # This is probably wrong...\n",
    "        return 3.0 + (1.0 - iou)\n",
    "\n",
    "# This is the original function...\n",
    "#         if d.id_b = 0 or e.id_b = 0:\n",
    "#             if b.class == 6 and c.class == 6:\n",
    "#                 return 1.0 + (1.0 - iou)\n",
    "#             else:\n",
    "#                 return 2.0 + (1.0 - iou)\n",
    "#         else:\n",
    "#             if b.class = 6 and c.class = 6:\n",
    "#                 return 3.0 + (1.0 - iou)\n",
    "#             else:\n",
    "#                 return 4.0 + (1.0 - iou)\n",
    "    else:\n",
    "        if caa >= 0.6 and cab >= 0.6 and cba >= 0.6 and cbb >= 0.6 and iou >= 0.4:\n",
    "            # This is probably wrong...\n",
    "            return 8.0 + (1.0 - iou)\n",
    "\n",
    "# This is the original function...\n",
    "#             if d.id_b = 0 or e.id_b = 0:\n",
    "#                 if b.class = 6 and c.class = 6:\n",
    "#                     return 6.0 + (1.0 - iou),\n",
    "#                 else:\n",
    "#                     return 7.0 + (1.0 - iou)\n",
    "#             else:\n",
    "#                 if b.class = 6 and c.class = 6:\n",
    "#                     return 8.0 + (1.0 - iou)\n",
    "#                 else:\n",
    "#                     return 9.0 + (1.0 - iou)\n",
    "        else:\n",
    "            if caa > 0.9 and cab > 0.9:\n",
    "                return 12.0 + (1.0 - min(caa, cab))\n",
    "            else:\n",
    "                return 12.0 + (1.0 - min(cba, cbb))\n",
    "\n",
    "\n",
    "@jit(nopython=True)\n",
    "def calc_score_8nm(caa, cab, cba, cbb, iou, da, db):\n",
    "    return 10.0 + (1.0 - iou)\n",
    "\n",
    "\n",
    "@jit(nopython=True)\n",
    "def calc_score(resolution, caa, cab, cba, cbb, iou, da, db):\n",
    "    if resolution == 32:\n",
    "        return calc_score_32nm(caa, cab, cba, cbb, iou, da, db)\n",
    "    if resolution == 16:\n",
    "        return calc_score_16nm(caa, cab, cba, cbb, iou, da, db)\n",
    "    if resolution == 8:\n",
    "        return calc_score_8nm(caa, cab, cba, cbb, iou, da, db)\n",
    "    return np.inf\n",
    "        \n",
    "@jit(nopython=True)\n",
    "def calc_agglo_scores(table):\n",
    "    scores = np.empty(len(table), np.float32)\n",
    "    for i in range(len(table)):\n",
    "        resolution = table['resolution'][i]\n",
    "        caa = table['caa'][i]\n",
    "        cab = table['cab'][i]\n",
    "        cba = table['cba'][i]\n",
    "        cbb = table['cbb'][i]\n",
    "        iou = table['iou'][i]\n",
    "        da = table['da'][i]\n",
    "        db = table['db'][i]\n",
    "        scores[i] = calc_score(resolution, caa, cab, cba, cbb, iou, da, db)\n",
    "    return scores"
   ]
  },
  {
   "cell_type": "code",
   "execution_count": null,
   "metadata": {},
   "outputs": [],
   "source": [
    "@jit\n",
    "def calc_speculative_scores(table):\n",
    "    # Michal's formula, but inverted so I can continue using 'min' code below\n",
    "    scores = np.empty(len(table), np.float32)\n",
    "    for i in range(len(table)):\n",
    "        caa = table['caa'][i]\n",
    "        cab = table['cab'][i]\n",
    "        cba = table['cba'][i]\n",
    "        cbb = table['cbb'][i]\n",
    "        score = max(min(caa, cab), min(cba, cbb))\n",
    "\n",
    "        # invert so I can continue using 'min' code below\n",
    "        scores[i] = 1.0 - score\n",
    "    return scores"
   ]
  },
  {
   "cell_type": "code",
   "execution_count": null,
   "metadata": {},
   "outputs": [],
   "source": [
    "#%time onehop_scores = list(map(calc_speculative_scores, onehop_chunks))"
   ]
  },
  {
   "cell_type": "code",
   "execution_count": null,
   "metadata": {},
   "outputs": [],
   "source": [
    "#all_onehop_scores = np.concatenate(onehop_scores)"
   ]
  },
  {
   "cell_type": "code",
   "execution_count": null,
   "metadata": {},
   "outputs": [],
   "source": [
    "#%time onehop_table = np.concatenate(onehop_chunks)"
   ]
  },
  {
   "cell_type": "code",
   "execution_count": null,
   "metadata": {},
   "outputs": [],
   "source": [
    "#onehop_df = pd.DataFrame(onehop_table)"
   ]
  },
  {
   "cell_type": "code",
   "execution_count": null,
   "metadata": {},
   "outputs": [],
   "source": [
    "#onehop_df['score'] = all_onehop_scores\n",
    "#onehop_df['score'].hist()"
   ]
  },
  {
   "cell_type": "code",
   "execution_count": null,
   "metadata": {},
   "outputs": [],
   "source": [
    "all_onehop_scores = calc_speculative_scores(onehop_table)\n",
    "onehop_df['score'] = all_onehop_scores"
   ]
  },
  {
   "cell_type": "code",
   "execution_count": null,
   "metadata": {},
   "outputs": [],
   "source": [
    "onehop_df['score'].hist()"
   ]
  },
  {
   "cell_type": "code",
   "execution_count": null,
   "metadata": {},
   "outputs": [],
   "source": [
    "(onehop_df['score'] < 0.9).sum() / len(onehop_df)\n",
    "onehop_df['score'][onehop_df['score'] < 0.9].hist()"
   ]
  },
  {
   "cell_type": "markdown",
   "metadata": {},
   "source": [
    "### Compute favorites"
   ]
  },
  {
   "cell_type": "code",
   "execution_count": null,
   "metadata": {},
   "outputs": [],
   "source": [
    "%%time # ~3 minutes for 1-hops\n",
    "\n",
    "body_a_stats = onehop_df.groupby('body_a').agg({'score': ['min', 'idxmin', 'size']})\n",
    "body_a_stats.columns = ['min_score', 'min_index', 'edge_count']\n",
    "\n",
    "body_b_stats = onehop_df.groupby('body_b').agg({'score': ['min', 'idxmin', 'size']})\n",
    "body_b_stats.columns = ['min_score', 'min_index', 'edge_count']\n",
    "\n",
    "merged_body_stats = pd.DataFrame(body_a_stats).merge(body_b_stats, 'outer',\n",
    "                                                     left_index=True, right_index=True,\n",
    "                                                     suffixes=['_a', '_b'])\n",
    "\n",
    "# Combine scores/indexes and edge counts, and record which side of the edge the score came from.\n",
    "min_scores = merged_body_stats[['min_score_a', 'min_score_b']].min(axis=1)\n",
    "edge_counts = merged_body_stats[['edge_count_a', 'edge_count_b']].sum(axis=1).astype(np.uint32)\n",
    "\n",
    "min_index = merged_body_stats['min_index_b'].copy()\n",
    "pos_a = merged_body_stats['min_score_a'] < merged_body_stats['min_score_b']\n",
    "min_index.loc[pos_a] = merged_body_stats['min_index_a']\n",
    "\n",
    "sides = pd.Series('b', index=merged_body_stats.index)\n",
    "sides.loc[pos_a] = 'a'\n",
    "sides.loc[min_index.isnull()] = 'x'\n",
    "sides = sides.astype('category')\n",
    "\n",
    "body_stats = pd.DataFrame({'min_score': min_scores,\n",
    "                           'min_index': min_index,\n",
    "                           'edge_count': edge_counts,\n",
    "                           'side': sides})\n",
    "\n",
    "body_stats = body_stats.drop(0).query('side != \"x\"')\n",
    "\n",
    "onehop_df['is_favorite_of_a'] = False\n",
    "onehop_df['is_favorite_of_b'] = False\n",
    "\n",
    "body_a_favorite_edges = body_stats.query(\"side == 'a'\")['min_index'].astype(np.int64)\n",
    "body_b_favorite_edges = body_stats.query(\"side == 'b'\")['min_index'].astype(np.int64)\n",
    "\n",
    "onehop_df.loc[body_a_favorite_edges, 'is_favorite_of_a'] = True\n",
    "onehop_df.loc[body_b_favorite_edges, 'is_favorite_of_b'] = True\n",
    "\n",
    "onehop_favorites_df = onehop_df.query('is_favorite_of_a or is_favorite_of_b')\n",
    "onehop_mutual_favorites_df = onehop_favorites_df.query('is_favorite_of_a and is_favorite_of_b')"
   ]
  },
  {
   "cell_type": "markdown",
   "metadata": {},
   "source": [
    "### Threshold favorites"
   ]
  },
  {
   "cell_type": "code",
   "execution_count": null,
   "metadata": {},
   "outputs": [],
   "source": [
    "# Distribution of best scores\n",
    "# (keep in mind that we inverted Michal's score: Now lower is better.)\n",
    "body_stats['min_score'].hist()"
   ]
  },
  {
   "cell_type": "code",
   "execution_count": null,
   "metadata": {},
   "outputs": [],
   "source": [
    "# Michal recommended a cutoff of 0.1 (so, 0.9 for us, after inversion)\n",
    "SCORE_CUTOFF = 0.9\n",
    "thresholded_favorites_df = onehop_favorites_df.query('score <= @SCORE_CUTOFF').copy()\n",
    "\n",
    "num_mutual_favorites = len(onehop_favorites_df.query('is_favorite_of_a and is_favorite_of_b'))\n",
    "print(f\"Found {len(thresholded_favorites_df)} edges after thresholding, \"\n",
    "      f\"including {num_mutual_favorites} mutual favorties\")"
   ]
  },
  {
   "cell_type": "markdown",
   "metadata": {},
   "source": [
    "### Remove already-assigned edges"
   ]
  },
  {
   "cell_type": "code",
   "execution_count": null,
   "metadata": {},
   "outputs": [],
   "source": [
    "instances = \"\"\"\\\n",
    "focused_assign\n",
    "focused_complete\n",
    "focused_complete_01\n",
    "focused_complete_02\n",
    "focused_complete_03\n",
    "\"\"\".split()\n",
    "\n",
    "sv_pairs = []\n",
    "for instance in instances:\n",
    "    for key in fetch_keys((*current_master[:2],instance)):\n",
    "        a,b = key.split('_')\n",
    "        sv_pairs.append( (int(a), int(b)) )\n",
    "\n",
    "assigned_edges = np.array(sv_pairs, dtype=np.int64)\n",
    "assigned_edges.sort(axis=1)\n",
    "\n",
    "assigned_edges = set(map(tuple, assigned_edges))\n",
    "print(f\"Read {len(assigned_edges)} assigned edges.\")"
   ]
  },
  {
   "cell_type": "code",
   "execution_count": null,
   "metadata": {},
   "outputs": [],
   "source": [
    "sorted_pairs = list(map(tuple, np.sort(thresholded_favorites_df[['id_a', 'id_b']].values, axis=1)))\n",
    "sorted_pairs = pd.Series(sorted_pairs, index=thresholded_favorites_df.index)\n",
    "is_unassigned = ~sorted_pairs.isin(assigned_edges)\n",
    "unassigned_favorites_df = thresholded_favorites_df.loc[is_unassigned]\n",
    "print(f\"Found new {len(unassigned_favorites_df)} unassigned favorites\")"
   ]
  },
  {
   "cell_type": "code",
   "execution_count": null,
   "metadata": {},
   "outputs": [],
   "source": [
    "new_assignments_df = unassigned_favorites[['id_a', 'id_b', 'xa', 'ya', 'za', 'xb', 'yb', 'zb', 'score']]\n",
    "new_assignments_df.to_csv('remaining-onehop-assignments-20180731.csv', index=False)"
   ]
  },
  {
   "cell_type": "markdown",
   "metadata": {},
   "source": [
    "# Tom-foolery"
   ]
  },
  {
   "cell_type": "code",
   "execution_count": null,
   "metadata": {},
   "outputs": [],
   "source": [
    "%%time \n",
    "instance = (*current_master[:2], 'segmentation_merged')\n",
    "keys = fetch_keys(instance)\n",
    "\n",
    "rows = []\n",
    "errors = []\n",
    "for key in tqdm(keys):\n",
    "    value = None\n",
    "    try:\n",
    "        value = fetch_key(instance, key, as_json=True)\n",
    "        rows.append( (value['supervoxel ID 1'],\n",
    "                      value['supervoxel ID 2'],\n",
    "                      value['result']) )\n",
    "    except Exception:\n",
    "        errors.append(value)\n",
    "\n",
    "df = pd.DataFrame(rows, columns=['sv_a', 'sv_b', 'decision'])\n",
    "df['sv_a'] = df['sv_a'].astype(np.uint64)\n",
    "df['sv_b'] = df['sv_b'].astype(np.uint64)\n",
    "print(f\"Encountered {len(errors)} errors out of {len(keys)}\")"
   ]
  },
  {
   "cell_type": "code",
   "execution_count": 24,
   "metadata": {},
   "outputs": [],
   "source": [
    "df['body_a'] = analysis_mapper.apply(df['sv_a'].values, True)\n",
    "df['body_b'] = analysis_mapper.apply(df['sv_b'].values, True)"
   ]
  },
  {
   "cell_type": "code",
   "execution_count": 28,
   "metadata": {},
   "outputs": [
    {
     "data": {
      "text/plain": [
       "<matplotlib.axes._subplots.AxesSubplot at 0x2ac215a67630>"
      ]
     },
     "execution_count": 28,
     "metadata": {},
     "output_type": "execute_result"
    },
    {
     "data": {
      "image/png": "[encoded data removed]",
      "text/plain": [
       "<matplotlib.figure.Figure at 0x2ac215a67fd0>"
      ]
     },
     "metadata": {},
     "output_type": "display_data"
    }
   ],
   "source": [
    "df['decision'].value_counts().plot(kind='pie')"
   ]
  },
  {
   "cell_type": "code",
   "execution_count": 29,
   "metadata": {},
   "outputs": [
    {
     "data": {
      "text/plain": [
       "merge                  110108\n",
       "dontMerge               28043\n",
       "irrelevant               3540\n",
       "mergeLater               2424\n",
       "?                          57\n",
       "autoSkippedNoBody          28\n",
       "autoSkippedSameBody        14\n",
       "Name: decision, dtype: int64"
      ]
     },
     "execution_count": 29,
     "metadata": {},
     "output_type": "execute_result"
    }
   ],
   "source": [
    "df['decision'].value_counts()"
   ]
  },
  {
   "cell_type": "code",
   "execution_count": 30,
   "metadata": {},
   "outputs": [],
   "source": [
    "df.to_csv('focused-decisions-20180801.csv')"
   ]
  },
  {
   "cell_type": "code",
   "execution_count": 32,
   "metadata": {},
   "outputs": [
    {
     "data": {
      "text/plain": [
       "138151"
      ]
     },
     "execution_count": 32,
     "metadata": {},
     "output_type": "execute_result"
    }
   ],
   "source": [
    "len(df.query(\"decision == 'merge' or decision == 'dontMerge'\"))"
   ]
  },
  {
   "cell_type": "code",
   "execution_count": null,
   "metadata": {},
   "outputs": [],
   "source": [
    "%time twohop_table = np.concatenate(table_chunks)"
   ]
  },
  {
   "cell_type": "code",
   "execution_count": null,
   "metadata": {},
   "outputs": [],
   "source": [
    "twohop_scores = calc_scores(twohop_table)"
   ]
  },
  {
   "cell_type": "code",
   "execution_count": null,
   "metadata": {},
   "outputs": [],
   "source": [
    "%time twohop_df = pd.DataFrame.from_records(twohop_table)"
   ]
  },
  {
   "cell_type": "code",
   "execution_count": null,
   "metadata": {},
   "outputs": [],
   "source": [
    "twohop_df['score'] = twohop_scores"
   ]
  },
  {
   "cell_type": "code",
   "execution_count": null,
   "metadata": {},
   "outputs": [],
   "source": [
    "%time twohop_subset_df = twohop_df.query('body_a % 20 == 0 or body_b % 20 == 0').copy()"
   ]
  },
  {
   "cell_type": "code",
   "execution_count": null,
   "metadata": {},
   "outputs": [],
   "source": [
    "twohop_subset_df.shape"
   ]
  },
  {
   "cell_type": "code",
   "execution_count": null,
   "metadata": {},
   "outputs": [],
   "source": [
    "del twohop_table\n",
    "del twohop_df\n",
    "del twohop_scores"
   ]
  },
  {
   "cell_type": "code",
   "execution_count": null,
   "metadata": {},
   "outputs": [],
   "source": [
    "%%time\n",
    "body_a_stats = twohop_subset_df.groupby('body_a').agg({'score': ['min']})\n",
    "body_a_stats.columns = ['min_score']\n",
    "\n",
    "body_b_stats = twohop_subset_df.groupby('body_b').agg({'score': ['min']})\n",
    "body_b_stats.columns = ['min_score']"
   ]
  },
  {
   "cell_type": "code",
   "execution_count": null,
   "metadata": {},
   "outputs": [],
   "source": [
    "%%time\n",
    "merged_body_stats = pd.DataFrame(body_a_stats).merge(body_b_stats, 'outer', left_index=True, right_index=True,\n",
    "                                                      suffixes=['_a', '_b'])"
   ]
  },
  {
   "cell_type": "code",
   "execution_count": null,
   "metadata": {},
   "outputs": [],
   "source": [
    "%%time\n",
    "\n",
    "# Combine scores/indexes and edge counts, and record which side of the edge the score came from.\n",
    "min_scores = merged_body_stats[['min_score_a', 'min_score_b']].min(axis=1)\n",
    "edge_counts = merged_body_stats[['edge_count_a', 'edge_count_b']].sum(axis=1).astype(np.uint32)\n",
    "\n",
    "min_index = merged_body_stats['min_index_b'].copy()\n",
    "pos_a = merged_body_stats['min_score_a'] < merged_body_stats['min_score_b']\n",
    "min_index.loc[pos_a] = merged_body_stats['min_index_a']\n",
    "\n",
    "sides = pd.Series('b', index=merged_body_stats.index)\n",
    "sides.loc[pos_a] = 'a'\n",
    "sides.loc[min_index.isnull()] = 'x'\n",
    "sides = sides.astype('category')\n",
    "\n",
    "twohop_body_stats = pd.DataFrame({'min_score': min_scores,\n",
    "                                  'min_index': min_index,\n",
    "                                  'edge_count': edge_counts,\n",
    "                                  'side': sides})"
   ]
  },
  {
   "cell_type": "code",
   "execution_count": null,
   "metadata": {},
   "outputs": [],
   "source": []
  },
  {
   "cell_type": "code",
   "execution_count": null,
   "metadata": {},
   "outputs": [],
   "source": [
    "q = '(index in @important_bodies) and (index % 20 == 0)'\n",
    "twohop_body_stats.query(q)['min_score'].hist()"
   ]
  },
  {
   "cell_type": "code",
   "execution_count": null,
   "metadata": {},
   "outputs": [],
   "source": [
    "twohop_subset_df.iloc[:10].values.flags"
   ]
  },
  {
   "cell_type": "code",
   "execution_count": null,
   "metadata": {},
   "outputs": [],
   "source": [
    "onehop_df['resolution'].value_counts().plot(kind='pie')"
   ]
  },
  {
   "cell_type": "code",
   "execution_count": null,
   "metadata": {},
   "outputs": [],
   "source": [
    "onehop_df['resolution'].value_counts() / len(onehop_df['resolution'])"
   ]
  },
  {
   "cell_type": "code",
   "execution_count": null,
   "metadata": {},
   "outputs": [],
   "source": [
    "%%time\n",
    "best_edges_index = body_stats.drop(0).query('side != \"x\"')['min_index'].astype(np.int64)\n",
    "best_onehop_df = onehop_df.loc[best_edges_index]"
   ]
  },
  {
   "cell_type": "code",
   "execution_count": null,
   "metadata": {},
   "outputs": [],
   "source": [
    "best_onehop_df.shape"
   ]
  },
  {
   "cell_type": "code",
   "execution_count": null,
   "metadata": {},
   "outputs": [],
   "source": [
    "resolution_fractions = best_onehop_df['resolution'].value_counts() / len(best_onehop_df['resolution'])\n",
    "display(resolution_fractions)\n",
    "resolution_fractions.plot(kind='pie')"
   ]
  },
  {
   "cell_type": "code",
   "execution_count": null,
   "metadata": {},
   "outputs": [],
   "source": [
    "SMALL_BODY_CUTOFF = 155\n",
    "small_body_stats = body_stats.drop(0).query('side != \"x\" and edge_count <= @SMALL_BODY_CUTOFF')\n",
    "small_best_edges_index = small_body_stats['min_index'].astype(np.int64)\n",
    "\n",
    "np.random.seed(0)\n",
    "random_edges = np.random.choice(small_best_edges_index.values, 100, False)\n",
    "assignment_table = onehop_df.loc[random_edges]\n",
    "\n",
    "from neuclease.merge_table import generate_focused_assignment\n",
    "_ = generate_focused_assignment(assignment_table, 'test-assignment-SMALL-BODIES-20180725.json')\n"
   ]
  },
  {
   "cell_type": "code",
   "execution_count": null,
   "metadata": {},
   "outputs": [],
   "source": []
  },
  {
   "cell_type": "code",
   "execution_count": null,
   "metadata": {},
   "outputs": [],
   "source": [
    "SCORE_CUTOFF = 0.9\n",
    "good_score_body_stats = body_stats.drop(0).query('side != \"x\" and min_score <= @SCORE_CUTOFF')\n",
    "good_best_edges_index = good_score_body_stats['min_index'].astype(np.int64)\n",
    "\n",
    "print(f\"Found {len(good_score_body_stats)}/{len(body_stats)} bodies with a good edge\")\n",
    "\n",
    "np.random.seed(0)\n",
    "random_edges = np.random.choice(good_best_edges_index.values, 100, False)\n",
    "assignment_table = onehop_df.loc[random_edges]\n",
    "\n",
    "from neuclease.merge_table import generate_focused_assignment\n",
    "_ = generate_focused_assignment(assignment_table, 'test-assignment-good-edges-20180725.json')\n"
   ]
  },
  {
   "cell_type": "code",
   "execution_count": null,
   "metadata": {},
   "outputs": [],
   "source": [
    "SCORE_CUTOFF = 0.9\n",
    "weak_score_body_stats = body_stats.drop(0).query('side != \"x\" and min_score > @SCORE_CUTOFF')\n",
    "weak_best_edges_index = weak_score_body_stats['min_index'].astype(np.int64)\n",
    "\n",
    "print(f\"Found {len(weak_score_body_stats)}/{len(body_stats)} bodies with a weak edge\")\n",
    "\n",
    "np.random.seed(0)\n",
    "random_edges = np.random.choice(weak_best_edges_index.values, 100, False)\n",
    "assignment_table = onehop_df.loc[random_edges]\n",
    "\n",
    "from neuclease.merge_table import generate_focused_assignment\n",
    "_ = generate_focused_assignment(assignment_table, 'test-assignment-weak-edges-20180725.json')\n"
   ]
  },
  {
   "cell_type": "code",
   "execution_count": null,
   "metadata": {},
   "outputs": [],
   "source": [
    "mutal_favorites = onehop_df.query('score <= @SCORE_CUTOFF and is_favorite_of_a and is_favorite_of_b')\n",
    "print(f\"Found {len(mutal_favorites)} mutual favorites\")"
   ]
  },
  {
   "cell_type": "code",
   "execution_count": null,
   "metadata": {},
   "outputs": [],
   "source": [
    "body_stats.query('edge_count > 0').shape"
   ]
  },
  {
   "cell_type": "code",
   "execution_count": null,
   "metadata": {},
   "outputs": [],
   "source": [
    "348863 - 73350"
   ]
  },
  {
   "cell_type": "code",
   "execution_count": null,
   "metadata": {},
   "outputs": [],
   "source": [
    "spec1.iloc[:10]"
   ]
  },
  {
   "cell_type": "code",
   "execution_count": 11,
   "metadata": {},
   "outputs": [
    {
     "name": "stdout",
     "output_type": "stream",
     "text": [
      "Fetching http://emdata3:8900/api/node/662e/segmentation/mappings...\n",
      "Fetching http://emdata3:8900/api/node/662e/segmentation/mappings took 0:00:30.986914\n",
      "Parsing mapping...\n",
      "Parsing mapping took 0:00:06.001045\n"
     ]
    }
   ],
   "source": [
    "analysis_mapping = fetch_mappings(analysis_node)\n",
    "analysis_mapper = LabelMapper(analysis_mapping.index.values, analysis_mapping.values)"
   ]
  },
  {
   "cell_type": "code",
   "execution_count": null,
   "metadata": {},
   "outputs": [],
   "source": [
    "%%time\n",
    "spec1['body_a'] = analysis_mapper.apply(spec1['id_a'].values, True)\n",
    "spec1['body_b'] = analysis_mapper.apply(spec1['id_b'].values, True)"
   ]
  },
  {
   "cell_type": "code",
   "execution_count": null,
   "metadata": {},
   "outputs": [],
   "source": [
    "spec1_important = spec1.query('(body_a in @important_bodies) and (body_b in @important_bodies)')"
   ]
  },
  {
   "cell_type": "code",
   "execution_count": null,
   "metadata": {},
   "outputs": [],
   "source": [
    "spec1_important.shape"
   ]
  },
  {
   "cell_type": "code",
   "execution_count": null,
   "metadata": {},
   "outputs": [],
   "source": [
    "my_best = set(map(tuple, np.sort(best_onehop_df[['id_a', 'id_b']].values, axis=1)))"
   ]
  },
  {
   "cell_type": "code",
   "execution_count": null,
   "metadata": {},
   "outputs": [],
   "source": [
    "spec1_important_edges = set(map(tuple, np.sort(spec1_important[['id_a', 'id_b']].values, axis=1)))"
   ]
  },
  {
   "cell_type": "code",
   "execution_count": null,
   "metadata": {},
   "outputs": [],
   "source": []
  },
  {
   "cell_type": "code",
   "execution_count": null,
   "metadata": {},
   "outputs": [],
   "source": [
    "print(f\"Did not recover {len(spec1_important_edges - my_best)} out of {len(spec1_important)} of Michal's merges\")"
   ]
  },
  {
   "cell_type": "code",
   "execution_count": null,
   "metadata": {},
   "outputs": [],
   "source": [
    "analysis_node"
   ]
  },
  {
   "cell_type": "code",
   "execution_count": null,
   "metadata": {},
   "outputs": [],
   "source": []
  }
 ],
 "metadata": {
  "kernelspec": {
   "display_name": "Python 3",
   "language": "python",
   "name": "python3"
  },
  "language_info": {
   "codemirror_mode": {
    "name": "ipython",
    "version": 3
   },
   "file_extension": ".py",
   "mimetype": "text/x-python",
   "name": "python",
   "nbconvert_exporter": "python",
   "pygments_lexer": "ipython3",
   "version": "3.6.2"
  }
 },
 "nbformat": 4,
 "nbformat_minor": 2
}
