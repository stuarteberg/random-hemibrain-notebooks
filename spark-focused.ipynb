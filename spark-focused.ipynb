{
 "cells": [
  {
   "cell_type": "code",
   "execution_count": 1,
   "metadata": {},
   "outputs": [],
   "source": [
    "%load_ext autoreload\n",
    "%autoreload 2"
   ]
  },
  {
   "cell_type": "code",
   "execution_count": 2,
   "metadata": {},
   "outputs": [],
   "source": [
    "import glob\n",
    "import os\n",
    "import sys\n",
    "import logging\n",
    "from itertools import chain\n",
    "\n",
    "import requests\n",
    "from tqdm import tqdm, tqdm_notebook, tnrange\n",
    "#tqdm = tqdm_notebook\n",
    "\n",
    "import vigra\n",
    "import numpy as np\n",
    "import pandas as pd\n",
    "from pandas.api.types import CategoricalDtype\n",
    "from numba import jit\n",
    "\n",
    "from dvidutils import LabelMapper\n",
    "from libdvid import DVIDNodeService\n",
    "\n",
    "from neuclease.dvid import *\n",
    "from neuclease.util import Timer\n",
    "from neuclease.misc import find_best_plane\n",
    "\n",
    "%matplotlib inline\n",
    "import matplotlib.pyplot as plt"
   ]
  },
  {
   "cell_type": "code",
   "execution_count": 3,
   "metadata": {},
   "outputs": [],
   "source": [
    "from DVIDSparkServices.spark_launch_scripts.janelia_lsf.lsf_utils import get_hostgraph_url"
   ]
  },
  {
   "cell_type": "code",
   "execution_count": 4,
   "metadata": {},
   "outputs": [],
   "source": [
    "handler = logging.StreamHandler(sys.stdout)\n",
    "root_logger = logging.getLogger()\n",
    "root_logger.handlers = []\n",
    "root_logger.addHandler(handler)\n",
    "root_logger.setLevel(logging.INFO)\n",
    "logging.getLogger('kafka').setLevel(logging.WARNING)"
   ]
  },
  {
   "cell_type": "code",
   "execution_count": 5,
   "metadata": {},
   "outputs": [
    {
     "name": "stdout",
     "output_type": "stream",
     "text": [
      "/nrs/flyem/bergs/complete-ffn-agglo\n"
     ]
    }
   ],
   "source": [
    "cd /nrs/flyem/bergs/complete-ffn-agglo/"
   ]
  },
  {
   "cell_type": "code",
   "execution_count": 6,
   "metadata": {},
   "outputs": [
    {
     "name": "stdout",
     "output_type": "stream",
     "text": [
      "h09u27.int.janelia.org\r\n"
     ]
    }
   ],
   "source": [
    "!uname -n"
   ]
  },
  {
   "cell_type": "code",
   "execution_count": 7,
   "metadata": {},
   "outputs": [
    {
     "data": {
      "text/plain": [
       "'/nrs/flyem/bergs/complete-ffn-agglo'"
      ]
     },
     "execution_count": 7,
     "metadata": {},
     "output_type": "execute_result"
    }
   ],
   "source": [
    "pwd"
   ]
  },
  {
   "cell_type": "code",
   "execution_count": 8,
   "metadata": {},
   "outputs": [
    {
     "data": {
      "text/plain": [
       "''"
      ]
     },
     "execution_count": 8,
     "metadata": {},
     "output_type": "execute_result"
    }
   ],
   "source": [
    "sc"
   ]
  },
  {
   "cell_type": "markdown",
   "metadata": {},
   "source": [
    "### Hostgraph URLS"
   ]
  },
  {
   "cell_type": "code",
   "execution_count": 9,
   "metadata": {},
   "outputs": [
    {
     "name": "stdout",
     "output_type": "stream",
     "text": [
      "This notebook:\n",
      "http://lsf-rtm/cacti/plugins/grid/grid_bjobs.php?action=viewjob&tab=hostgraph&clusterid=1&indexid=0&jobid=45032527&submit_time=1534168225\n",
      "Cluster:\n"
     ]
    },
    {
     "ename": "KeyError",
     "evalue": "'MASTER_BJOB_ID'",
     "output_type": "error",
     "traceback": [
      "\u001b[0;31m---------------------------------------------------------------------------\u001b[0m",
      "\u001b[0;31mKeyError\u001b[0m                                  Traceback (most recent call last)",
      "\u001b[0;32m<ipython-input-9-647d768d2396>\u001b[0m in \u001b[0;36m<module>\u001b[0;34m()\u001b[0m\n\u001b[1;32m      2\u001b[0m \u001b[0mprint\u001b[0m\u001b[0;34m(\u001b[0m\u001b[0mget_hostgraph_url\u001b[0m\u001b[0;34m(\u001b[0m\u001b[0mos\u001b[0m\u001b[0;34m.\u001b[0m\u001b[0menviron\u001b[0m\u001b[0;34m[\u001b[0m\u001b[0;34m\"LSB_JOBID\"\u001b[0m\u001b[0;34m]\u001b[0m\u001b[0;34m)\u001b[0m\u001b[0;34m)\u001b[0m\u001b[0;34m\u001b[0m\u001b[0m\n\u001b[1;32m      3\u001b[0m \u001b[0mprint\u001b[0m\u001b[0;34m(\u001b[0m\u001b[0;34m\"Cluster:\"\u001b[0m\u001b[0;34m)\u001b[0m\u001b[0;34m\u001b[0m\u001b[0m\n\u001b[0;32m----> 4\u001b[0;31m \u001b[0mprint\u001b[0m\u001b[0;34m(\u001b[0m\u001b[0mget_hostgraph_url\u001b[0m\u001b[0;34m(\u001b[0m\u001b[0mos\u001b[0m\u001b[0;34m.\u001b[0m\u001b[0menviron\u001b[0m\u001b[0;34m[\u001b[0m\u001b[0;34m\"MASTER_BJOB_ID\"\u001b[0m\u001b[0;34m]\u001b[0m\u001b[0;34m)\u001b[0m\u001b[0;34m)\u001b[0m\u001b[0;34m\u001b[0m\u001b[0m\n\u001b[0m",
      "\u001b[0;32m/groups/flyem/proj/cluster/miniforge/envs/flyem/lib/python3.6/os.py\u001b[0m in \u001b[0;36m__getitem__\u001b[0;34m(self, key)\u001b[0m\n\u001b[1;32m    667\u001b[0m         \u001b[0;32mexcept\u001b[0m \u001b[0mKeyError\u001b[0m\u001b[0;34m:\u001b[0m\u001b[0;34m\u001b[0m\u001b[0m\n\u001b[1;32m    668\u001b[0m             \u001b[0;31m# raise KeyError with the original key value\u001b[0m\u001b[0;34m\u001b[0m\u001b[0;34m\u001b[0m\u001b[0m\n\u001b[0;32m--> 669\u001b[0;31m             \u001b[0;32mraise\u001b[0m \u001b[0mKeyError\u001b[0m\u001b[0;34m(\u001b[0m\u001b[0mkey\u001b[0m\u001b[0;34m)\u001b[0m \u001b[0;32mfrom\u001b[0m \u001b[0;32mNone\u001b[0m\u001b[0;34m\u001b[0m\u001b[0m\n\u001b[0m\u001b[1;32m    670\u001b[0m         \u001b[0;32mreturn\u001b[0m \u001b[0mself\u001b[0m\u001b[0;34m.\u001b[0m\u001b[0mdecodevalue\u001b[0m\u001b[0;34m(\u001b[0m\u001b[0mvalue\u001b[0m\u001b[0;34m)\u001b[0m\u001b[0;34m\u001b[0m\u001b[0m\n\u001b[1;32m    671\u001b[0m \u001b[0;34m\u001b[0m\u001b[0m\n",
      "\u001b[0;31mKeyError\u001b[0m: 'MASTER_BJOB_ID'"
     ]
    }
   ],
   "source": [
    "print(\"This notebook:\")\n",
    "print(get_hostgraph_url(os.environ[\"LSB_JOBID\"]))\n",
    "print(\"Cluster:\")\n",
    "print(get_hostgraph_url(os.environ[\"MASTER_BJOB_ID\"]))"
   ]
  },
  {
   "cell_type": "markdown",
   "metadata": {},
   "source": [
    "### UUIDs"
   ]
  },
  {
   "cell_type": "code",
   "execution_count": 10,
   "metadata": {},
   "outputs": [],
   "source": [
    "# The starting agglo\n",
    "initial_agglo = DvidInstanceInfo('emdata3:8900', 'ac901', 'segmentation')\n",
    "\n",
    "# The uuid used when loading the neo4j instance (for 'important bodies')\n",
    "neo4j_reference = DvidInstanceInfo('emdata3:8900', '52f9', 'segmentation')\n",
    "\n",
    "# The last supervoxel splits: One past the neo4j node\n",
    "analysis_node = DvidInstanceInfo('emdata3:8900', '662e', 'segmentation')\n",
    "\n",
    "# We won't be using this...\n",
    "current_master = DvidInstanceInfo('emdata3:8900', '7254', 'segmentation')"
   ]
  },
  {
   "cell_type": "markdown",
   "metadata": {},
   "source": [
    "### Load neo4j-defined important bodies; append final splits"
   ]
  },
  {
   "cell_type": "code",
   "execution_count": 11,
   "metadata": {},
   "outputs": [
    {
     "name": "stdout",
     "output_type": "stream",
     "text": [
      "Reading kafka messages from kafka.int.janelia.org:9092 for emdata3:8900 / 662e / segmentation\n",
      "Reading 517932 kafka messages took 19.26412034034729 seconds\n"
     ]
    }
   ],
   "source": [
    "# This list was generated from node 52f9\n",
    "important_bodies_path = '/nrs/flyem/bergs/complete-ffn-agglo/bodies-0.5-from-neuprint-52f9.csv'\n",
    "important_bodies = pd.read_csv(important_bodies_path, header=0, usecols=['bodyId'], dtype=np.uint64)['bodyId']\n",
    "important_bodies = set(important_bodies)\n",
    "\n",
    "# Read last set of new bodies (from analysis node, after neo4j was loaded).\n",
    "msgs = read_kafka_messages(*analysis_node, 'split', 'leaf-only')\n",
    "final_new_bodies = set(chain(*((msg['Target'], msg['NewLabel']) for msg in msgs)))\n",
    "\n",
    "# Append final set\n",
    "important_bodies |= final_new_bodies"
   ]
  },
  {
   "cell_type": "markdown",
   "metadata": {},
   "source": [
    "### Load pre-filtered table"
   ]
  },
  {
   "cell_type": "code",
   "execution_count": 49,
   "metadata": {},
   "outputs": [
    {
     "name": "stdout",
     "output_type": "stream",
     "text": [
      "Loading edge table...\n",
      "Loading edge table took 0:05:05.630729\n",
      "Loaded 755.5M edges\n",
      "Memory usage: 65.7 GB\n"
     ]
    }
   ],
   "source": [
    "# id_a, id_b -- the two supervoxel IDs\n",
    "# xa, ya, za -- point from which segmentation of 'a' was started, 8 nm coordinates\n",
    "# xb, yb, zb -- point from which segmentation of 'b' was started, 8 nm coordinates\n",
    "# caa, cab, cba, cbb -- cXY means: fraction of voxels from the original segment Y recovered when seeding from X\n",
    "# iou -- Jaccard index of the two local segmentations\n",
    "# da, db -- dX means: fraction of voxels that changed value from >0.8 to <0.5 when segmenting & seeding from X;\n",
    "#                     the higher this value is, the more \"internally inconsistent\" the segmentation resolution\n",
    "#                     potentially is; higher thresholds for iou, cXY might be warranted\n",
    "\n",
    "\n",
    "# This table uses SV ids from the 'analysis node', and includes only\n",
    "# edges that mention at least one \"important\" supervoxel\n",
    "with Timer(\"Loading edge table\"):\n",
    "    #combined_table = np.load('combined-filtered-table.npy')\n",
    "    combined_table = np.load('combined-table-with-importances.npy')\n",
    "    combined_df = pd.DataFrame(combined_table)\n",
    "    \n",
    "print(f\"Loaded {len(combined_df) / 1e6:.1f}M edges\")\n",
    "print(f\"Memory usage: {combined_df.memory_usage().sum() / 1e9:.1f} GB\")"
   ]
  },
  {
   "cell_type": "code",
   "execution_count": 13,
   "metadata": {},
   "outputs": [
    {
     "data": {
      "text/plain": [
       "Index(['id_a', 'id_b', 'xa', 'ya', 'za', 'xb', 'yb', 'zb', 'caa', 'cab', 'cba',\n",
       "       'cbb', 'iou', 'da', 'db', 'resolution', 'body_a', 'body_b',\n",
       "       'important_a', 'important_b'],\n",
       "      dtype='object')"
      ]
     },
     "execution_count": 13,
     "metadata": {},
     "output_type": "execute_result"
    }
   ],
   "source": [
    "combined_df.columns"
   ]
  },
  {
   "cell_type": "markdown",
   "metadata": {},
   "source": [
    "### Count SVs"
   ]
  },
  {
   "cell_type": "code",
   "execution_count": null,
   "metadata": {},
   "outputs": [],
   "source": [
    "%time all_svs = pd.concat((combined_df['id_a'], combined_df['id_b']), ignore_index=True)"
   ]
  },
  {
   "cell_type": "code",
   "execution_count": null,
   "metadata": {},
   "outputs": [],
   "source": [
    "%%time \n",
    "sv_counts = all_svs.value_counts()\n",
    "unimportant_sv_counts = sv_counts[~sv_counts.index.isin(important_bodies)]\n",
    "print((unimportant_sv_counts == 1).sum())"
   ]
  },
  {
   "cell_type": "markdown",
   "metadata": {},
   "source": [
    "### One-hop only?"
   ]
  },
  {
   "cell_type": "code",
   "execution_count": null,
   "metadata": {},
   "outputs": [],
   "source": [
    "len(important_bodies)"
   ]
  },
  {
   "cell_type": "code",
   "execution_count": null,
   "metadata": {},
   "outputs": [],
   "source": [
    "def chunkify_table(table, approx_chunk_len):\n",
    "    approx_chunk_len = int(approx_chunk_len)\n",
    "    total_len = len(table)\n",
    "    num_chunks = max(1, total_len // approx_chunk_len)\n",
    "    chunk_len = total_len // num_chunks\n",
    "\n",
    "    partitions = list(range(0, chunk_len*num_chunks, chunk_len))\n",
    "    if partitions[-1] < total_len:\n",
    "        partitions.append( total_len )\n",
    "\n",
    "    for (start, stop) in zip(partitions[:-1], partitions[1:]):\n",
    "        yield table[start:stop]"
   ]
  },
  {
   "cell_type": "markdown",
   "metadata": {},
   "source": [
    "#### Cache chunks to disk"
   ]
  },
  {
   "cell_type": "code",
   "execution_count": null,
   "metadata": {},
   "outputs": [],
   "source": [
    "# os.makedirs('combined-filtered-chunks', exist_ok=True)\n",
    "# num_chunks = len(combined_table)//10**6\n",
    "# for i, table_chunk in tqdm(enumerate(chunkify_table(combined_table, 10**6)), total=num_chunks):\n",
    "#     np.save(f'combined-filtered-chunks/chunk-{i:05}.npy', table_chunk)"
   ]
  },
  {
   "cell_type": "code",
   "execution_count": null,
   "metadata": {},
   "outputs": [],
   "source": [
    "def append_importances(i):\n",
    "    chunk_path = f'/nrs/flyem/bergs/complete-ffn-agglo/combined-filtered-chunks/chunk-{i:05}.npy'\n",
    "    df = pd.DataFrame(np.load(chunk_path))\n",
    "    df['important_a'] = df['body_a'].isin(important_bodies)\n",
    "    df['important_b'] = df['body_b'].isin(important_bodies)\n",
    "    return df.to_records(index=False)"
   ]
  },
  {
   "cell_type": "code",
   "execution_count": null,
   "metadata": {},
   "outputs": [],
   "source": [
    "#num_chunks = len(combined_table)//10**6\n",
    "num_chunks = 755\n",
    "#%time table_chunks = sc.parallelize(range(num_chunks)).map(append_importances).collect()"
   ]
  },
  {
   "cell_type": "code",
   "execution_count": null,
   "metadata": {},
   "outputs": [],
   "source": [
    "table_chunks = list(map(append_importances, tnrange(num_chunks)))"
   ]
  },
  {
   "cell_type": "code",
   "execution_count": null,
   "metadata": {},
   "outputs": [],
   "source": [
    "#combined_table = np.concatenate(table_chunks)\n",
    "#%time np.save('combined-table-with-importances.npy', combined_table)"
   ]
  },
  {
   "cell_type": "code",
   "execution_count": 50,
   "metadata": {},
   "outputs": [
    {
     "name": "stdout",
     "output_type": "stream",
     "text": [
      "CPU times: user 18.2 s, sys: 12.6 s, total: 30.8 s\n",
      "Wall time: 30.7 s\n"
     ]
    }
   ],
   "source": [
    "%%time\n",
    "onehop_table = combined_table[combined_table['important_a'] & combined_table['important_b']]"
   ]
  },
  {
   "cell_type": "markdown",
   "metadata": {},
   "source": [
    "## Save/load onehop table"
   ]
  },
  {
   "cell_type": "code",
   "execution_count": 10,
   "metadata": {},
   "outputs": [
    {
     "name": "stdout",
     "output_type": "stream",
     "text": [
      "CPU times: user 0 ns, sys: 6.55 s, total: 6.55 s\n",
      "Wall time: 13.7 s\n"
     ]
    }
   ],
   "source": [
    "#%time np.save('onehop-table.npy', onehop_table)\n",
    "%time onehop_table = np.load('onehop-table.npy')"
   ]
  },
  {
   "cell_type": "code",
   "execution_count": 11,
   "metadata": {},
   "outputs": [],
   "source": [
    "onehop_df = pd.DataFrame(onehop_table)"
   ]
  },
  {
   "cell_type": "code",
   "execution_count": null,
   "metadata": {},
   "outputs": [],
   "source": [
    "#%time onehop_chunks = [chunk[chunk['important_a'] & chunk['important_b']] for chunk in tqdm(table_chunks)]"
   ]
  },
  {
   "cell_type": "code",
   "execution_count": null,
   "metadata": {},
   "outputs": [],
   "source": [
    "#sum(map(len, onehop_chunks))"
   ]
  },
  {
   "cell_type": "code",
   "execution_count": 12,
   "metadata": {},
   "outputs": [],
   "source": [
    "@jit(nopython=True)\n",
    "def calc_score_32nm(caa, cab, cba, cbb, iou, da, db):\n",
    "    if (caa >= 0.6 and cab >= 0.6 and cba >= 0.6 and cbb >= 0.6\n",
    "    and iou > 0.8 and (da <= 0.02 or db <= 0.02)):\n",
    "        return 0.0 + (1.0 - iou)\n",
    "    elif (caa >= 0.6 and cab >= 0.6 and cba >= 0.6 and cbb >= 0.6 and iou > 0.4):\n",
    "        return 5.0 + (1.0 - iou)\n",
    "    elif (caa > 0.8 and cab > 0.8):\n",
    "        return 11.0 + (1.0 - min(caa, cab))\n",
    "    else:\n",
    "        return 11.0 + (1.0 - min(cba, cbb))\n",
    "\n",
    "\n",
    "@jit(nopython=True)\n",
    "def calc_score_16nm(caa, cab, cba, cbb, iou, da, db):\n",
    "    if ( caa >= 0.6 and cab >= 0.6 and cba >= 0.6 and cbb >= 0.6\n",
    "    and iou > 0.8 and (da <= 0.02 or db <= 0.02)):\n",
    "        # This is probably wrong...\n",
    "        return 3.0 + (1.0 - iou)\n",
    "\n",
    "# This is the original function...\n",
    "#         if d.id_b = 0 or e.id_b = 0:\n",
    "#             if b.class == 6 and c.class == 6:\n",
    "#                 return 1.0 + (1.0 - iou)\n",
    "#             else:\n",
    "#                 return 2.0 + (1.0 - iou)\n",
    "#         else:\n",
    "#             if b.class = 6 and c.class = 6:\n",
    "#                 return 3.0 + (1.0 - iou)\n",
    "#             else:\n",
    "#                 return 4.0 + (1.0 - iou)\n",
    "    else:\n",
    "        if caa >= 0.6 and cab >= 0.6 and cba >= 0.6 and cbb >= 0.6 and iou >= 0.4:\n",
    "            # This is probably wrong...\n",
    "            return 8.0 + (1.0 - iou)\n",
    "\n",
    "# This is the original function...\n",
    "#             if d.id_b = 0 or e.id_b = 0:\n",
    "#                 if b.class = 6 and c.class = 6:\n",
    "#                     return 6.0 + (1.0 - iou),\n",
    "#                 else:\n",
    "#                     return 7.0 + (1.0 - iou)\n",
    "#             else:\n",
    "#                 if b.class = 6 and c.class = 6:\n",
    "#                     return 8.0 + (1.0 - iou)\n",
    "#                 else:\n",
    "#                     return 9.0 + (1.0 - iou)\n",
    "        else:\n",
    "            if caa > 0.9 and cab > 0.9:\n",
    "                return 12.0 + (1.0 - min(caa, cab))\n",
    "            else:\n",
    "                return 12.0 + (1.0 - min(cba, cbb))\n",
    "\n",
    "\n",
    "@jit(nopython=True)\n",
    "def calc_score_8nm(caa, cab, cba, cbb, iou, da, db):\n",
    "    return 10.0 + (1.0 - iou)\n",
    "\n",
    "\n",
    "@jit(nopython=True)\n",
    "def calc_score(resolution, caa, cab, cba, cbb, iou, da, db):\n",
    "    if resolution == 32:\n",
    "        return calc_score_32nm(caa, cab, cba, cbb, iou, da, db)\n",
    "    if resolution == 16:\n",
    "        return calc_score_16nm(caa, cab, cba, cbb, iou, da, db)\n",
    "    if resolution == 8:\n",
    "        return calc_score_8nm(caa, cab, cba, cbb, iou, da, db)\n",
    "    return np.inf\n",
    "        \n",
    "@jit(nopython=True)\n",
    "def calc_agglo_scores(table):\n",
    "    scores = np.empty(len(table), np.float32)\n",
    "    for i in range(len(table)):\n",
    "        resolution = table['resolution'][i]\n",
    "        caa = table['caa'][i]\n",
    "        cab = table['cab'][i]\n",
    "        cba = table['cba'][i]\n",
    "        cbb = table['cbb'][i]\n",
    "        iou = table['iou'][i]\n",
    "        da = table['da'][i]\n",
    "        db = table['db'][i]\n",
    "        scores[i] = calc_score(resolution, caa, cab, cba, cbb, iou, da, db)\n",
    "    return scores"
   ]
  },
  {
   "cell_type": "code",
   "execution_count": 13,
   "metadata": {},
   "outputs": [],
   "source": [
    "@jit\n",
    "def calc_speculative_scores(table):\n",
    "    # Michal's formula, but inverted so I can continue using 'min' code below\n",
    "    scores = np.empty(len(table), np.float32)\n",
    "    for i in range(len(table)):\n",
    "        caa = table['caa'][i]\n",
    "        cab = table['cab'][i]\n",
    "        cba = table['cba'][i]\n",
    "        cbb = table['cbb'][i]\n",
    "        score = max(min(caa, cab), min(cba, cbb))\n",
    "\n",
    "        # invert so I can continue using 'min' code below\n",
    "        scores[i] = 1.0 - score\n",
    "    return scores"
   ]
  },
  {
   "cell_type": "code",
   "execution_count": null,
   "metadata": {},
   "outputs": [],
   "source": [
    "#%time onehop_scores = list(map(calc_speculative_scores, onehop_chunks))"
   ]
  },
  {
   "cell_type": "code",
   "execution_count": null,
   "metadata": {},
   "outputs": [],
   "source": [
    "#all_onehop_scores = np.concatenate(onehop_scores)"
   ]
  },
  {
   "cell_type": "code",
   "execution_count": null,
   "metadata": {},
   "outputs": [],
   "source": [
    "#%time onehop_table = np.concatenate(onehop_chunks)"
   ]
  },
  {
   "cell_type": "code",
   "execution_count": null,
   "metadata": {},
   "outputs": [],
   "source": [
    "#onehop_df = pd.DataFrame(onehop_table)"
   ]
  },
  {
   "cell_type": "code",
   "execution_count": null,
   "metadata": {},
   "outputs": [],
   "source": [
    "#onehop_df['score'] = all_onehop_scores\n",
    "#onehop_df['score'].hist()"
   ]
  },
  {
   "cell_type": "code",
   "execution_count": 14,
   "metadata": {},
   "outputs": [],
   "source": [
    "all_onehop_scores = calc_speculative_scores(onehop_table)\n",
    "onehop_df['score'] = all_onehop_scores"
   ]
  },
  {
   "cell_type": "code",
   "execution_count": 15,
   "metadata": {},
   "outputs": [
    {
     "data": {
      "text/plain": [
       "<matplotlib.axes._subplots.AxesSubplot at 0x2aea837e43c8>"
      ]
     },
     "execution_count": 15,
     "metadata": {},
     "output_type": "execute_result"
    },
    {
     "data": {
      "image/png": "[encoded data removed]",
      "text/plain": [
       "<matplotlib.figure.Figure at 0x2aea837235c0>"
      ]
     },
     "metadata": {},
     "output_type": "display_data"
    }
   ],
   "source": [
    "onehop_df['score'].hist()"
   ]
  },
  {
   "cell_type": "code",
   "execution_count": 16,
   "metadata": {},
   "outputs": [
    {
     "data": {
      "text/plain": [
       "<matplotlib.axes._subplots.AxesSubplot at 0x2aea838446d8>"
      ]
     },
     "execution_count": 16,
     "metadata": {},
     "output_type": "execute_result"
    },
    {
     "data": {
      "image/png": "[encoded data removed]",
      "text/plain": [
       "<matplotlib.figure.Figure at 0x2aea837ea5f8>"
      ]
     },
     "metadata": {},
     "output_type": "display_data"
    }
   ],
   "source": [
    "(onehop_df['score'] < 0.9).sum() / len(onehop_df)\n",
    "onehop_df['score'][onehop_df['score'] < 0.9].hist()"
   ]
  },
  {
   "cell_type": "markdown",
   "metadata": {},
   "source": [
    "### Compute favorites"
   ]
  },
  {
   "cell_type": "code",
   "execution_count": 17,
   "metadata": {},
   "outputs": [
    {
     "name": "stdout",
     "output_type": "stream",
     "text": [
      "CPU times: user 5min 26s, sys: 37.5 s, total: 6min 4s\n",
      "Wall time: 4min 53s\n"
     ]
    }
   ],
   "source": [
    "%%time\n",
    "\n",
    "body_a_stats = onehop_df.groupby('body_a').agg({'score': ['min', 'idxmin', 'size']})\n",
    "body_a_stats.columns = ['min_score', 'min_index', 'edge_count']\n",
    "\n",
    "body_b_stats = onehop_df.groupby('body_b').agg({'score': ['min', 'idxmin', 'size']})\n",
    "body_b_stats.columns = ['min_score', 'min_index', 'edge_count']\n",
    "\n",
    "merged_body_stats = pd.DataFrame(body_a_stats).merge(body_b_stats, 'outer',\n",
    "                                                     left_index=True, right_index=True,\n",
    "                                                     suffixes=['_a', '_b'])\n",
    "\n",
    "# Combine scores/indexes and edge counts, and record which side of the edge the score came from.\n",
    "min_scores = merged_body_stats[['min_score_a', 'min_score_b']].min(axis=1)\n",
    "edge_counts = merged_body_stats[['edge_count_a', 'edge_count_b']].sum(axis=1).astype(np.uint32)\n",
    "\n",
    "min_index = merged_body_stats['min_index_b'].copy()\n",
    "pos_a = merged_body_stats['min_score_a'] < merged_body_stats['min_score_b']\n",
    "min_index.loc[pos_a] = merged_body_stats['min_index_a']\n",
    "\n",
    "sides = pd.Series('b', index=merged_body_stats.index)\n",
    "sides.loc[pos_a] = 'a'\n",
    "sides.loc[min_index.isnull()] = 'x'\n",
    "sides = sides.astype('category')\n",
    "\n",
    "body_stats = pd.DataFrame({'min_score': min_scores,\n",
    "                           'min_index': min_index,\n",
    "                           'edge_count': edge_counts,\n",
    "                           'side': sides})\n",
    "\n",
    "body_stats = body_stats.drop(0).query('side != \"x\"')\n",
    "\n",
    "onehop_df['is_favorite_of_a'] = False\n",
    "onehop_df['is_favorite_of_b'] = False\n",
    "\n",
    "body_a_favorite_edges = body_stats.query(\"side == 'a'\")['min_index'].astype(np.int64)\n",
    "body_b_favorite_edges = body_stats.query(\"side == 'b'\")['min_index'].astype(np.int64)\n",
    "\n",
    "onehop_df.loc[body_a_favorite_edges, 'is_favorite_of_a'] = True\n",
    "onehop_df.loc[body_b_favorite_edges, 'is_favorite_of_b'] = True\n",
    "\n",
    "onehop_favorites_df = onehop_df.query('is_favorite_of_a or is_favorite_of_b')\n",
    "onehop_mutual_favorites_df = onehop_favorites_df.query('is_favorite_of_a and is_favorite_of_b')"
   ]
  },
  {
   "cell_type": "code",
   "execution_count": 102,
   "metadata": {},
   "outputs": [],
   "source": [
    "import numpy as np\n",
    "import pandas as pd\n",
    "\n",
    "def compute_favorites(edge_table_df):\n",
    "    body_a_stats = edge_table_df.groupby('body_a').agg({'score': ['min', 'idxmin', 'size']})\n",
    "    body_a_stats.columns = ['min_score', 'min_index', 'edge_count']\n",
    "    \n",
    "    body_b_stats = edge_table_df.groupby('body_b').agg({'score': ['min', 'idxmin', 'size']})\n",
    "    body_b_stats.columns = ['min_score', 'min_index', 'edge_count']\n",
    "    \n",
    "    merged_body_stats = pd.DataFrame(body_a_stats).merge(body_b_stats, 'outer',\n",
    "                                                         left_index=True, right_index=True,\n",
    "                                                         suffixes=['_a', '_b'])\n",
    "    \n",
    "    # Combine scores/indexes and edge counts, and record which\n",
    "    # position (a or b) the body was in for its best edge.\n",
    "    min_scores = merged_body_stats[['min_score_a', 'min_score_b']].min(axis=1)\n",
    "    edge_counts = merged_body_stats[['edge_count_a', 'edge_count_b']].sum(axis=1).astype(np.uint32)\n",
    "    \n",
    "    min_index = merged_body_stats['min_index_b'].copy()\n",
    "    pos_a = merged_body_stats['min_score_a'] < merged_body_stats['min_score_b']\n",
    "    min_index.loc[pos_a] = merged_body_stats['min_index_a']\n",
    "    \n",
    "    sides = pd.Series('b', index=merged_body_stats.index)\n",
    "    sides.loc[pos_a] = 'a'\n",
    "    sides.loc[min_index.isnull()] = 'x'\n",
    "    sides = sides.astype('category')\n",
    "    \n",
    "    # body_favorites is indexed by body\n",
    "    body_favorites = pd.DataFrame({'min_score': min_scores,\n",
    "                               'min_index': min_index,\n",
    "                               'edge_count': edge_counts,\n",
    "                               'side': sides})\n",
    "    \n",
    "    body_favorites = body_favorites.drop(0).query('side != \"x\"')\n",
    "    return body_favorites\n",
    "\n",
    "\n",
    "def mark_favorites(edge_table_df, body_favorites):\n",
    "    favorite_flags_df = pd.DataFrame(columns=['is_favorite_of_a', 'is_favorite_of_b'], index=edge_table_df.index)\n",
    "    favorite_flags_df['is_favorite_of_a'] = False\n",
    "    favorite_flags_df['is_favorite_of_b'] = False\n",
    "    \n",
    "    body_a_favorite_edges = body_favorites.query(\"side == 'a'\")['min_index'].astype(np.int64)\n",
    "    body_b_favorite_edges = body_favorites.query(\"side == 'b'\")['min_index'].astype(np.int64)\n",
    "    \n",
    "    favorite_flags_df.loc[body_a_favorite_edges, 'is_favorite_of_a'] = True\n",
    "    favorite_flags_df.loc[body_b_favorite_edges, 'is_favorite_of_b'] = True\n",
    "    \n",
    "    return favorite_flags_df\n",
    "\n",
    "\n",
    "def extract_favorites(edge_table_df, favorite_flags_df, only_mutual=False):\n",
    "    if only_mutual:\n",
    "        selected = favorite_flags_df.query('is_favorite_of_a and is_favorite_of_b')\n",
    "    else:\n",
    "        selected = favorite_flags_df.query('is_favorite_of_a or is_favorite_of_b')\n",
    "    \n",
    "    return edge_table_df.loc[selected.index]"
   ]
  },
  {
   "cell_type": "code",
   "execution_count": 97,
   "metadata": {},
   "outputs": [
    {
     "name": "stdout",
     "output_type": "stream",
     "text": [
      "CPU times: user 4min, sys: 21.2 s, total: 4min 21s\n",
      "Wall time: 3min 32s\n"
     ]
    }
   ],
   "source": [
    "%time onehop_body_favorites_df = compute_favorites(onehop_df)"
   ]
  },
  {
   "cell_type": "code",
   "execution_count": 98,
   "metadata": {},
   "outputs": [
    {
     "name": "stdout",
     "output_type": "stream",
     "text": [
      "CPU times: user 51.1 s, sys: 7 s, total: 58.1 s\n",
      "Wall time: 48.4 s\n"
     ]
    }
   ],
   "source": [
    "%time onehop_favorite_flags_df = mark_favorites(onehop_df, onehop_body_favorites_df)"
   ]
  },
  {
   "cell_type": "code",
   "execution_count": 103,
   "metadata": {},
   "outputs": [
    {
     "name": "stdout",
     "output_type": "stream",
     "text": [
      "CPU times: user 10.3 s, sys: 4.75 s, total: 15.1 s\n",
      "Wall time: 657 ms\n"
     ]
    }
   ],
   "source": [
    "%time onehop_favorites_df2 = extract_favorites(onehop_df, onehop_favorite_flags_df)"
   ]
  },
  {
   "cell_type": "code",
   "execution_count": 104,
   "metadata": {},
   "outputs": [
    {
     "data": {
      "text/plain": [
       "id_a                True\n",
       "id_b                True\n",
       "xa                  True\n",
       "ya                  True\n",
       "za                  True\n",
       "xb                  True\n",
       "yb                  True\n",
       "zb                  True\n",
       "caa                 True\n",
       "cab                 True\n",
       "cba                 True\n",
       "cbb                 True\n",
       "iou                 True\n",
       "da                  True\n",
       "db                  True\n",
       "resolution          True\n",
       "body_a              True\n",
       "body_b              True\n",
       "important_a         True\n",
       "important_b         True\n",
       "score               True\n",
       "is_favorite_of_a    True\n",
       "is_favorite_of_b    True\n",
       "dtype: bool"
      ]
     },
     "execution_count": 104,
     "metadata": {},
     "output_type": "execute_result"
    }
   ],
   "source": [
    "(onehop_favorites_df2 == onehop_favorites_df).all()"
   ]
  },
  {
   "cell_type": "markdown",
   "metadata": {},
   "source": [
    "### Threshold favorites"
   ]
  },
  {
   "cell_type": "code",
   "execution_count": 59,
   "metadata": {},
   "outputs": [
    {
     "data": {
      "text/plain": [
       "<matplotlib.axes._subplots.AxesSubplot at 0x2b06f2b966d8>"
      ]
     },
     "execution_count": 59,
     "metadata": {},
     "output_type": "execute_result"
    },
    {
     "data": {
      "image/png": "[encoded data removed]",
      "text/plain": [
       "<matplotlib.figure.Figure at 0x2b06f288b7f0>"
      ]
     },
     "metadata": {},
     "output_type": "display_data"
    }
   ],
   "source": [
    "# Distribution of best scores\n",
    "# (keep in mind that we inverted Michal's score: Now lower is better.)\n",
    "body_stats['min_score'].hist()"
   ]
  },
  {
   "cell_type": "code",
   "execution_count": 18,
   "metadata": {},
   "outputs": [
    {
     "name": "stdout",
     "output_type": "stream",
     "text": [
      "Found 275514 edges after thresholding, including 78027 mutual favorties\n"
     ]
    }
   ],
   "source": [
    "# Michal recommended a cutoff of 0.1 (so, 0.9 for us, after inversion)\n",
    "SCORE_CUTOFF = 0.9\n",
    "thresholded_favorites_df = onehop_favorites_df.query('score <= @SCORE_CUTOFF').copy()\n",
    "\n",
    "num_mutual_favorites = len(onehop_favorites_df.query('is_favorite_of_a and is_favorite_of_b'))\n",
    "print(f\"Found {len(thresholded_favorites_df)} edges after thresholding, \"\n",
    "      f\"including {num_mutual_favorites} mutual favorties\")"
   ]
  },
  {
   "cell_type": "code",
   "execution_count": 34,
   "metadata": {},
   "outputs": [
    {
     "data": {
      "text/html": [
       "<div>\n",
       "<style scoped>\n",
       "    .dataframe tbody tr th:only-of-type {\n",
       "        vertical-align: middle;\n",
       "    }\n",
       "\n",
       "    .dataframe tbody tr th {\n",
       "        vertical-align: top;\n",
       "    }\n",
       "\n",
       "    .dataframe thead th {\n",
       "        text-align: right;\n",
       "    }\n",
       "</style>\n",
       "<table border=\"1\" class=\"dataframe\">\n",
       "  <thead>\n",
       "    <tr style=\"text-align: right;\">\n",
       "      <th></th>\n",
       "      <th>id_a</th>\n",
       "      <th>id_b</th>\n",
       "      <th>xa</th>\n",
       "      <th>ya</th>\n",
       "      <th>za</th>\n",
       "      <th>xb</th>\n",
       "      <th>yb</th>\n",
       "      <th>zb</th>\n",
       "      <th>caa</th>\n",
       "      <th>cab</th>\n",
       "      <th>...</th>\n",
       "      <th>da</th>\n",
       "      <th>db</th>\n",
       "      <th>resolution</th>\n",
       "      <th>body_a</th>\n",
       "      <th>body_b</th>\n",
       "      <th>important_a</th>\n",
       "      <th>important_b</th>\n",
       "      <th>score</th>\n",
       "      <th>is_favorite_of_a</th>\n",
       "      <th>is_favorite_of_b</th>\n",
       "    </tr>\n",
       "  </thead>\n",
       "  <tbody>\n",
       "    <tr>\n",
       "      <th>2279</th>\n",
       "      <td>700032735</td>\n",
       "      <td>700032778</td>\n",
       "      <td>21560</td>\n",
       "      <td>22108</td>\n",
       "      <td>10144</td>\n",
       "      <td>21524</td>\n",
       "      <td>22172</td>\n",
       "      <td>10164</td>\n",
       "      <td>0.924235</td>\n",
       "      <td>0.834134</td>\n",
       "      <td>...</td>\n",
       "      <td>0.001096</td>\n",
       "      <td>0.000680</td>\n",
       "      <td>32</td>\n",
       "      <td>420722828</td>\n",
       "      <td>700032778</td>\n",
       "      <td>True</td>\n",
       "      <td>True</td>\n",
       "      <td>0.058181</td>\n",
       "      <td>True</td>\n",
       "      <td>True</td>\n",
       "    </tr>\n",
       "    <tr>\n",
       "      <th>3210</th>\n",
       "      <td>2126584782</td>\n",
       "      <td>2126584808</td>\n",
       "      <td>18676</td>\n",
       "      <td>20788</td>\n",
       "      <td>30052</td>\n",
       "      <td>18672</td>\n",
       "      <td>20896</td>\n",
       "      <td>30204</td>\n",
       "      <td>0.841936</td>\n",
       "      <td>0.233790</td>\n",
       "      <td>...</td>\n",
       "      <td>0.000971</td>\n",
       "      <td>0.000000</td>\n",
       "      <td>32</td>\n",
       "      <td>2063479251</td>\n",
       "      <td>2126584808</td>\n",
       "      <td>True</td>\n",
       "      <td>True</td>\n",
       "      <td>0.766210</td>\n",
       "      <td>False</td>\n",
       "      <td>True</td>\n",
       "    </tr>\n",
       "    <tr>\n",
       "      <th>3407</th>\n",
       "      <td>1069672269</td>\n",
       "      <td>1100710468</td>\n",
       "      <td>16636</td>\n",
       "      <td>18600</td>\n",
       "      <td>15608</td>\n",
       "      <td>16744</td>\n",
       "      <td>18724</td>\n",
       "      <td>15688</td>\n",
       "      <td>0.971326</td>\n",
       "      <td>0.418311</td>\n",
       "      <td>...</td>\n",
       "      <td>0.093548</td>\n",
       "      <td>0.011278</td>\n",
       "      <td>32</td>\n",
       "      <td>1069330399</td>\n",
       "      <td>1100710468</td>\n",
       "      <td>True</td>\n",
       "      <td>True</td>\n",
       "      <td>0.581689</td>\n",
       "      <td>False</td>\n",
       "      <td>True</td>\n",
       "    </tr>\n",
       "    <tr>\n",
       "      <th>6364</th>\n",
       "      <td>1879095745</td>\n",
       "      <td>1879095991</td>\n",
       "      <td>29732</td>\n",
       "      <td>21700</td>\n",
       "      <td>26368</td>\n",
       "      <td>29696</td>\n",
       "      <td>21744</td>\n",
       "      <td>26428</td>\n",
       "      <td>0.637434</td>\n",
       "      <td>0.000139</td>\n",
       "      <td>...</td>\n",
       "      <td>0.050856</td>\n",
       "      <td>0.046348</td>\n",
       "      <td>32</td>\n",
       "      <td>1879095517</td>\n",
       "      <td>1754612072</td>\n",
       "      <td>True</td>\n",
       "      <td>True</td>\n",
       "      <td>0.621829</td>\n",
       "      <td>True</td>\n",
       "      <td>True</td>\n",
       "    </tr>\n",
       "    <tr>\n",
       "      <th>12410</th>\n",
       "      <td>1533243522</td>\n",
       "      <td>1533585380</td>\n",
       "      <td>26096</td>\n",
       "      <td>16172</td>\n",
       "      <td>21808</td>\n",
       "      <td>26056</td>\n",
       "      <td>16252</td>\n",
       "      <td>21896</td>\n",
       "      <td>0.886224</td>\n",
       "      <td>0.057569</td>\n",
       "      <td>...</td>\n",
       "      <td>0.028526</td>\n",
       "      <td>0.003014</td>\n",
       "      <td>32</td>\n",
       "      <td>1533243522</td>\n",
       "      <td>1533585380</td>\n",
       "      <td>True</td>\n",
       "      <td>True</td>\n",
       "      <td>0.045061</td>\n",
       "      <td>False</td>\n",
       "      <td>True</td>\n",
       "    </tr>\n",
       "    <tr>\n",
       "      <th>12831</th>\n",
       "      <td>1076120887</td>\n",
       "      <td>1230587164</td>\n",
       "      <td>10704</td>\n",
       "      <td>25924</td>\n",
       "      <td>17348</td>\n",
       "      <td>10768</td>\n",
       "      <td>25916</td>\n",
       "      <td>17364</td>\n",
       "      <td>0.698086</td>\n",
       "      <td>0.000542</td>\n",
       "      <td>...</td>\n",
       "      <td>0.000000</td>\n",
       "      <td>0.000094</td>\n",
       "      <td>32</td>\n",
       "      <td>1041602702</td>\n",
       "      <td>1137836503</td>\n",
       "      <td>True</td>\n",
       "      <td>True</td>\n",
       "      <td>0.898978</td>\n",
       "      <td>False</td>\n",
       "      <td>True</td>\n",
       "    </tr>\n",
       "    <tr>\n",
       "      <th>14466</th>\n",
       "      <td>1316659274</td>\n",
       "      <td>1315247992</td>\n",
       "      <td>21332</td>\n",
       "      <td>16204</td>\n",
       "      <td>20512</td>\n",
       "      <td>21160</td>\n",
       "      <td>16132</td>\n",
       "      <td>20400</td>\n",
       "      <td>0.879249</td>\n",
       "      <td>0.948086</td>\n",
       "      <td>...</td>\n",
       "      <td>0.001354</td>\n",
       "      <td>0.032865</td>\n",
       "      <td>32</td>\n",
       "      <td>1285624661</td>\n",
       "      <td>1284213619</td>\n",
       "      <td>True</td>\n",
       "      <td>True</td>\n",
       "      <td>0.120751</td>\n",
       "      <td>False</td>\n",
       "      <td>True</td>\n",
       "    </tr>\n",
       "    <tr>\n",
       "      <th>15921</th>\n",
       "      <td>667296328</td>\n",
       "      <td>667296234</td>\n",
       "      <td>22348</td>\n",
       "      <td>20068</td>\n",
       "      <td>9348</td>\n",
       "      <td>22260</td>\n",
       "      <td>19976</td>\n",
       "      <td>9360</td>\n",
       "      <td>0.951768</td>\n",
       "      <td>0.939116</td>\n",
       "      <td>...</td>\n",
       "      <td>0.000149</td>\n",
       "      <td>0.000029</td>\n",
       "      <td>32</td>\n",
       "      <td>667296328</td>\n",
       "      <td>576243061</td>\n",
       "      <td>True</td>\n",
       "      <td>True</td>\n",
       "      <td>0.043699</td>\n",
       "      <td>True</td>\n",
       "      <td>False</td>\n",
       "    </tr>\n",
       "    <tr>\n",
       "      <th>16280</th>\n",
       "      <td>1792267502</td>\n",
       "      <td>1946747088</td>\n",
       "      <td>8088</td>\n",
       "      <td>29028</td>\n",
       "      <td>27124</td>\n",
       "      <td>7956</td>\n",
       "      <td>28984</td>\n",
       "      <td>27120</td>\n",
       "      <td>0.891601</td>\n",
       "      <td>0.234297</td>\n",
       "      <td>...</td>\n",
       "      <td>0.174075</td>\n",
       "      <td>0.125175</td>\n",
       "      <td>32</td>\n",
       "      <td>1636402353</td>\n",
       "      <td>1946747088</td>\n",
       "      <td>True</td>\n",
       "      <td>True</td>\n",
       "      <td>0.328334</td>\n",
       "      <td>False</td>\n",
       "      <td>True</td>\n",
       "    </tr>\n",
       "    <tr>\n",
       "      <th>16286</th>\n",
       "      <td>1796489866</td>\n",
       "      <td>1827524445</td>\n",
       "      <td>22108</td>\n",
       "      <td>35156</td>\n",
       "      <td>25300</td>\n",
       "      <td>22292</td>\n",
       "      <td>35236</td>\n",
       "      <td>25484</td>\n",
       "      <td>0.960639</td>\n",
       "      <td>0.956585</td>\n",
       "      <td>...</td>\n",
       "      <td>0.002965</td>\n",
       "      <td>0.001338</td>\n",
       "      <td>32</td>\n",
       "      <td>1796148556</td>\n",
       "      <td>1827524445</td>\n",
       "      <td>True</td>\n",
       "      <td>True</td>\n",
       "      <td>0.043415</td>\n",
       "      <td>False</td>\n",
       "      <td>True</td>\n",
       "    </tr>\n",
       "  </tbody>\n",
       "</table>\n",
       "<p>10 rows × 23 columns</p>\n",
       "</div>"
      ],
      "text/plain": [
       "             id_a        id_b     xa     ya     za     xb     yb     zb  \\\n",
       "2279    700032735   700032778  21560  22108  10144  21524  22172  10164   \n",
       "3210   2126584782  2126584808  18676  20788  30052  18672  20896  30204   \n",
       "3407   1069672269  1100710468  16636  18600  15608  16744  18724  15688   \n",
       "6364   1879095745  1879095991  29732  21700  26368  29696  21744  26428   \n",
       "12410  1533243522  1533585380  26096  16172  21808  26056  16252  21896   \n",
       "12831  1076120887  1230587164  10704  25924  17348  10768  25916  17364   \n",
       "14466  1316659274  1315247992  21332  16204  20512  21160  16132  20400   \n",
       "15921   667296328   667296234  22348  20068   9348  22260  19976   9360   \n",
       "16280  1792267502  1946747088   8088  29028  27124   7956  28984  27120   \n",
       "16286  1796489866  1827524445  22108  35156  25300  22292  35236  25484   \n",
       "\n",
       "            caa       cab        ...               da        db  resolution  \\\n",
       "2279   0.924235  0.834134        ...         0.001096  0.000680          32   \n",
       "3210   0.841936  0.233790        ...         0.000971  0.000000          32   \n",
       "3407   0.971326  0.418311        ...         0.093548  0.011278          32   \n",
       "6364   0.637434  0.000139        ...         0.050856  0.046348          32   \n",
       "12410  0.886224  0.057569        ...         0.028526  0.003014          32   \n",
       "12831  0.698086  0.000542        ...         0.000000  0.000094          32   \n",
       "14466  0.879249  0.948086        ...         0.001354  0.032865          32   \n",
       "15921  0.951768  0.939116        ...         0.000149  0.000029          32   \n",
       "16280  0.891601  0.234297        ...         0.174075  0.125175          32   \n",
       "16286  0.960639  0.956585        ...         0.002965  0.001338          32   \n",
       "\n",
       "           body_a      body_b  important_a  important_b     score  \\\n",
       "2279    420722828   700032778         True         True  0.058181   \n",
       "3210   2063479251  2126584808         True         True  0.766210   \n",
       "3407   1069330399  1100710468         True         True  0.581689   \n",
       "6364   1879095517  1754612072         True         True  0.621829   \n",
       "12410  1533243522  1533585380         True         True  0.045061   \n",
       "12831  1041602702  1137836503         True         True  0.898978   \n",
       "14466  1285624661  1284213619         True         True  0.120751   \n",
       "15921   667296328   576243061         True         True  0.043699   \n",
       "16280  1636402353  1946747088         True         True  0.328334   \n",
       "16286  1796148556  1827524445         True         True  0.043415   \n",
       "\n",
       "       is_favorite_of_a  is_favorite_of_b  \n",
       "2279               True              True  \n",
       "3210              False              True  \n",
       "3407              False              True  \n",
       "6364               True              True  \n",
       "12410             False              True  \n",
       "12831             False              True  \n",
       "14466             False              True  \n",
       "15921              True             False  \n",
       "16280             False              True  \n",
       "16286             False              True  \n",
       "\n",
       "[10 rows x 23 columns]"
      ]
     },
     "execution_count": 34,
     "metadata": {},
     "output_type": "execute_result"
    }
   ],
   "source": []
  },
  {
   "cell_type": "code",
   "execution_count": 20,
   "metadata": {},
   "outputs": [
    {
     "data": {
      "text/plain": [
       "<matplotlib.axes._subplots.AxesSubplot at 0x2aea83d323c8>"
      ]
     },
     "execution_count": 20,
     "metadata": {},
     "output_type": "execute_result"
    },
    {
     "data": {
      "image/png": "[encoded data removed]",
      "text/plain": [
       "<matplotlib.figure.Figure at 0x2aea8386f9b0>"
      ]
     },
     "metadata": {},
     "output_type": "display_data"
    }
   ],
   "source": [
    "thresholded_favorites_df['score'].hist()"
   ]
  },
  {
   "cell_type": "markdown",
   "metadata": {},
   "source": [
    "### Remove already-assigned edges"
   ]
  },
  {
   "cell_type": "code",
   "execution_count": 23,
   "metadata": {},
   "outputs": [
    {
     "name": "stdout",
     "output_type": "stream",
     "text": [
      "Read 258964 assigned edges.\n"
     ]
    }
   ],
   "source": [
    "instances = \"\"\"\\\n",
    "focused_assign\n",
    "focused_complete\n",
    "focused_complete_01\n",
    "focused_complete_02\n",
    "focused_complete_03\n",
    "\"\"\".split()\n",
    "\n",
    "sv_pairs = []\n",
    "for instance in instances:\n",
    "    for key in fetch_keys(*current_master[:2], instance):\n",
    "        a,b = key.split('_')\n",
    "        sv_pairs.append( (int(a), int(b)) )\n",
    "\n",
    "assigned_edges = np.array(sv_pairs, dtype=np.int64)\n",
    "assigned_edges.sort(axis=1)\n",
    "\n",
    "assigned_edges = set(map(tuple, assigned_edges))\n",
    "print(f\"Read {len(assigned_edges)} assigned edges.\")"
   ]
  },
  {
   "cell_type": "code",
   "execution_count": 51,
   "metadata": {},
   "outputs": [
    {
     "name": "stdout",
     "output_type": "stream",
     "text": [
      "Found new 65096 unassigned favorites\n"
     ]
    }
   ],
   "source": [
    "sorted_pairs = list(map(tuple, np.sort(thresholded_favorites_df[['id_a', 'id_b']].values, axis=1)))\n",
    "sorted_pairs = pd.Series(sorted_pairs, index=thresholded_favorites_df.index)\n",
    "is_unassigned = ~sorted_pairs.isin(assigned_edges)\n",
    "assigned_favorites_df = thresholded_favorites_df.loc[~is_unassigned]\n",
    "unassigned_favorites_df = thresholded_favorites_df.loc[is_unassigned]\n",
    "print(f\"Found new {len(unassigned_favorites_df)} unassigned favorites\")"
   ]
  },
  {
   "cell_type": "code",
   "execution_count": 77,
   "metadata": {},
   "outputs": [
    {
     "data": {
      "text/plain": [
       "326174"
      ]
     },
     "execution_count": 77,
     "metadata": {},
     "output_type": "execute_result"
    }
   ],
   "source": [
    "len(assigned_edges) + len(unassigned_favorites_df)"
   ]
  },
  {
   "cell_type": "code",
   "execution_count": 26,
   "metadata": {},
   "outputs": [
    {
     "data": {
      "text/plain": [
       "<matplotlib.axes._subplots.AxesSubplot at 0x2aeeda9aa9b0>"
      ]
     },
     "execution_count": 26,
     "metadata": {},
     "output_type": "execute_result"
    },
    {
     "data": {
      "image/png": "[encoded data removed]",
      "text/plain": [
       "<matplotlib.figure.Figure at 0x2aea83b92860>"
      ]
     },
     "metadata": {},
     "output_type": "display_data"
    }
   ],
   "source": [
    "unassigned_favorites_df['score'].hist()"
   ]
  },
  {
   "cell_type": "code",
   "execution_count": 52,
   "metadata": {},
   "outputs": [
    {
     "data": {
      "text/plain": [
       "<matplotlib.axes._subplots.AxesSubplot at 0x2aeedbfa8f98>"
      ]
     },
     "execution_count": 52,
     "metadata": {},
     "output_type": "execute_result"
    },
    {
     "data": {
      "image/png": "[encoded data removed]",
      "text/plain": [
       "<matplotlib.figure.Figure at 0x2aeedbdbdcc0>"
      ]
     },
     "metadata": {},
     "output_type": "display_data"
    }
   ],
   "source": [
    "assigned_favorites_df['score'].hist()"
   ]
  },
  {
   "cell_type": "code",
   "execution_count": 55,
   "metadata": {},
   "outputs": [
    {
     "data": {
      "text/plain": [
       "<matplotlib.axes._subplots.AxesSubplot at 0x2aeed8505438>"
      ]
     },
     "metadata": {},
     "output_type": "display_data"
    },
    {
     "data": {
      "image/png": "[encoded data removed]",
      "text/plain": [
       "<matplotlib.figure.Figure at 0x2aeed84b6908>"
      ]
     },
     "metadata": {},
     "output_type": "display_data"
    }
   ],
   "source": [
    "t_count, t_division = np.histogram(thresholded_favorites_df['score'])\n",
    "u_count, u_division = np.histogram(unassigned_favorites_df['score'])\n",
    "a_count, a_division = np.histogram(assigned_favorites_df['score'])\n",
    "\n",
    "assert (t_division == u_division).all()\n",
    "\n",
    "display(pd.Series(t_count - u_count, index=t_division[1:]).plot(kind='bar', ))"
   ]
  },
  {
   "cell_type": "code",
   "execution_count": 56,
   "metadata": {},
   "outputs": [
    {
     "data": {
      "text/plain": [
       "<matplotlib.axes._subplots.AxesSubplot at 0x2aeed85a87f0>"
      ]
     },
     "metadata": {},
     "output_type": "display_data"
    },
    {
     "data": {
      "image/png": "[encoded data removed]",
      "text/plain": [
       "<matplotlib.figure.Figure at 0x2aeed84db208>"
      ]
     },
     "metadata": {},
     "output_type": "display_data"
    }
   ],
   "source": [
    "display(pd.Series(t_count - a_count, index=t_division[1:]).plot(kind='bar', ))"
   ]
  },
  {
   "cell_type": "code",
   "execution_count": 76,
   "metadata": {},
   "outputs": [
    {
     "data": {
      "text/plain": [
       "153943"
      ]
     },
     "execution_count": 76,
     "metadata": {},
     "output_type": "execute_result"
    }
   ],
   "source": [
    "len(unassigned_favorites_df)"
   ]
  },
  {
   "cell_type": "code",
   "execution_count": null,
   "metadata": {},
   "outputs": [],
   "source": [
    "new_assignments_df = unassigned_favorites[['id_a', 'id_b', 'xa', 'ya', 'za', 'xb', 'yb', 'zb', 'score']]\n",
    "new_assignments_df.to_csv('remaining-onehop-assignments-20180731.csv', index=False)"
   ]
  },
  {
   "cell_type": "markdown",
   "metadata": {},
   "source": [
    "# Tom-foolery"
   ]
  },
  {
   "cell_type": "code",
   "execution_count": null,
   "metadata": {},
   "outputs": [],
   "source": [
    "%%time \n",
    "instance = (*current_master[:2], 'segmentation_merged')\n",
    "keys = fetch_keys(instance)\n",
    "\n",
    "rows = []\n",
    "errors = []\n",
    "for key in tqdm(keys):\n",
    "    value = None\n",
    "    try:\n",
    "        value = fetch_key(instance, key, as_json=True)\n",
    "        rows.append( (value['supervoxel ID 1'],\n",
    "                      value['supervoxel ID 2'],\n",
    "                      value['result']) )\n",
    "    except Exception:\n",
    "        errors.append(value)\n",
    "\n",
    "df = pd.DataFrame(rows, columns=['sv_a', 'sv_b', 'decision'])\n",
    "df['sv_a'] = df['sv_a'].astype(np.uint64)\n",
    "df['sv_b'] = df['sv_b'].astype(np.uint64)\n",
    "print(f\"Encountered {len(errors)} errors out of {len(keys)}\")"
   ]
  },
  {
   "cell_type": "code",
   "execution_count": 24,
   "metadata": {},
   "outputs": [],
   "source": [
    "df['body_a'] = analysis_mapper.apply(df['sv_a'].values, True)\n",
    "df['body_b'] = analysis_mapper.apply(df['sv_b'].values, True)"
   ]
  },
  {
   "cell_type": "code",
   "execution_count": 28,
   "metadata": {},
   "outputs": [
    {
     "data": {
      "text/plain": [
       "<matplotlib.axes._subplots.AxesSubplot at 0x2ac215a67630>"
      ]
     },
     "execution_count": 28,
     "metadata": {},
     "output_type": "execute_result"
    },
    {
     "data": {
      "image/png": "[encoded data removed]",
      "text/plain": [
       "<matplotlib.figure.Figure at 0x2ac215a67fd0>"
      ]
     },
     "metadata": {},
     "output_type": "display_data"
    }
   ],
   "source": [
    "df['decision'].value_counts().plot(kind='pie')"
   ]
  },
  {
   "cell_type": "code",
   "execution_count": 29,
   "metadata": {},
   "outputs": [
    {
     "data": {
      "text/plain": [
       "merge                  110108\n",
       "dontMerge               28043\n",
       "irrelevant               3540\n",
       "mergeLater               2424\n",
       "?                          57\n",
       "autoSkippedNoBody          28\n",
       "autoSkippedSameBody        14\n",
       "Name: decision, dtype: int64"
      ]
     },
     "execution_count": 29,
     "metadata": {},
     "output_type": "execute_result"
    }
   ],
   "source": [
    "df['decision'].value_counts()"
   ]
  },
  {
   "cell_type": "code",
   "execution_count": 30,
   "metadata": {},
   "outputs": [],
   "source": [
    "df.to_csv('focused-decisions-20180801.csv')"
   ]
  },
  {
   "cell_type": "code",
   "execution_count": 32,
   "metadata": {},
   "outputs": [
    {
     "data": {
      "text/plain": [
       "138151"
      ]
     },
     "execution_count": 32,
     "metadata": {},
     "output_type": "execute_result"
    }
   ],
   "source": [
    "len(df.query(\"decision == 'merge' or decision == 'dontMerge'\"))"
   ]
  },
  {
   "cell_type": "code",
   "execution_count": null,
   "metadata": {},
   "outputs": [],
   "source": [
    "%time twohop_table = np.concatenate(table_chunks)"
   ]
  },
  {
   "cell_type": "code",
   "execution_count": null,
   "metadata": {},
   "outputs": [],
   "source": [
    "twohop_scores = calc_scores(twohop_table)"
   ]
  },
  {
   "cell_type": "code",
   "execution_count": null,
   "metadata": {},
   "outputs": [],
   "source": [
    "%time twohop_df = pd.DataFrame.from_records(twohop_table)"
   ]
  },
  {
   "cell_type": "code",
   "execution_count": null,
   "metadata": {},
   "outputs": [],
   "source": [
    "twohop_df['score'] = twohop_scores"
   ]
  },
  {
   "cell_type": "code",
   "execution_count": null,
   "metadata": {},
   "outputs": [],
   "source": [
    "%time twohop_subset_df = twohop_df.query('body_a % 20 == 0 or body_b % 20 == 0').copy()"
   ]
  },
  {
   "cell_type": "code",
   "execution_count": null,
   "metadata": {},
   "outputs": [],
   "source": [
    "twohop_subset_df.shape"
   ]
  },
  {
   "cell_type": "code",
   "execution_count": null,
   "metadata": {},
   "outputs": [],
   "source": [
    "del twohop_table\n",
    "del twohop_df\n",
    "del twohop_scores"
   ]
  },
  {
   "cell_type": "code",
   "execution_count": null,
   "metadata": {},
   "outputs": [],
   "source": [
    "%%time\n",
    "body_a_stats = twohop_subset_df.groupby('body_a').agg({'score': ['min']})\n",
    "body_a_stats.columns = ['min_score']\n",
    "\n",
    "body_b_stats = twohop_subset_df.groupby('body_b').agg({'score': ['min']})\n",
    "body_b_stats.columns = ['min_score']"
   ]
  },
  {
   "cell_type": "code",
   "execution_count": null,
   "metadata": {},
   "outputs": [],
   "source": [
    "%%time\n",
    "merged_body_stats = pd.DataFrame(body_a_stats).merge(body_b_stats, 'outer', left_index=True, right_index=True,\n",
    "                                                      suffixes=['_a', '_b'])"
   ]
  },
  {
   "cell_type": "code",
   "execution_count": null,
   "metadata": {},
   "outputs": [],
   "source": [
    "%%time\n",
    "\n",
    "# Combine scores/indexes and edge counts, and record which side of the edge the score came from.\n",
    "min_scores = merged_body_stats[['min_score_a', 'min_score_b']].min(axis=1)\n",
    "edge_counts = merged_body_stats[['edge_count_a', 'edge_count_b']].sum(axis=1).astype(np.uint32)\n",
    "\n",
    "min_index = merged_body_stats['min_index_b'].copy()\n",
    "pos_a = merged_body_stats['min_score_a'] < merged_body_stats['min_score_b']\n",
    "min_index.loc[pos_a] = merged_body_stats['min_index_a']\n",
    "\n",
    "sides = pd.Series('b', index=merged_body_stats.index)\n",
    "sides.loc[pos_a] = 'a'\n",
    "sides.loc[min_index.isnull()] = 'x'\n",
    "sides = sides.astype('category')\n",
    "\n",
    "twohop_body_stats = pd.DataFrame({'min_score': min_scores,\n",
    "                                  'min_index': min_index,\n",
    "                                  'edge_count': edge_counts,\n",
    "                                  'side': sides})"
   ]
  },
  {
   "cell_type": "code",
   "execution_count": null,
   "metadata": {},
   "outputs": [],
   "source": []
  },
  {
   "cell_type": "code",
   "execution_count": null,
   "metadata": {},
   "outputs": [],
   "source": [
    "q = '(index in @important_bodies) and (index % 20 == 0)'\n",
    "twohop_body_stats.query(q)['min_score'].hist()"
   ]
  },
  {
   "cell_type": "code",
   "execution_count": null,
   "metadata": {},
   "outputs": [],
   "source": [
    "twohop_subset_df.iloc[:10].values.flags"
   ]
  },
  {
   "cell_type": "code",
   "execution_count": null,
   "metadata": {},
   "outputs": [],
   "source": [
    "onehop_df['resolution'].value_counts().plot(kind='pie')"
   ]
  },
  {
   "cell_type": "code",
   "execution_count": null,
   "metadata": {},
   "outputs": [],
   "source": [
    "onehop_df['resolution'].value_counts() / len(onehop_df['resolution'])"
   ]
  },
  {
   "cell_type": "code",
   "execution_count": null,
   "metadata": {},
   "outputs": [],
   "source": [
    "%%time\n",
    "best_edges_index = body_stats.drop(0).query('side != \"x\"')['min_index'].astype(np.int64)\n",
    "best_onehop_df = onehop_df.loc[best_edges_index]"
   ]
  },
  {
   "cell_type": "code",
   "execution_count": 34,
   "metadata": {},
   "outputs": [
    {
     "ename": "NameError",
     "evalue": "name 'best_onehop_df' is not defined",
     "output_type": "error",
     "traceback": [
      "\u001b[0;31m---------------------------------------------------------------------------\u001b[0m",
      "\u001b[0;31mNameError\u001b[0m                                 Traceback (most recent call last)",
      "\u001b[0;32m<ipython-input-34-81829a688553>\u001b[0m in \u001b[0;36m<module>\u001b[0;34m()\u001b[0m\n\u001b[0;32m----> 1\u001b[0;31m \u001b[0mbest_onehop_df\u001b[0m\u001b[0;34m.\u001b[0m\u001b[0mshape\u001b[0m\u001b[0;34m\u001b[0m\u001b[0m\n\u001b[0m",
      "\u001b[0;31mNameError\u001b[0m: name 'best_onehop_df' is not defined"
     ]
    }
   ],
   "source": [
    "best_onehop_df.shape"
   ]
  },
  {
   "cell_type": "code",
   "execution_count": null,
   "metadata": {},
   "outputs": [],
   "source": [
    "resolution_fractions = best_onehop_df['resolution'].value_counts() / len(best_onehop_df['resolution'])\n",
    "display(resolution_fractions)\n",
    "resolution_fractions.plot(kind='pie')"
   ]
  },
  {
   "cell_type": "code",
   "execution_count": null,
   "metadata": {},
   "outputs": [],
   "source": [
    "SMALL_BODY_CUTOFF = 155\n",
    "small_body_stats = body_stats.drop(0).query('side != \"x\" and edge_count <= @SMALL_BODY_CUTOFF')\n",
    "small_best_edges_index = small_body_stats['min_index'].astype(np.int64)\n",
    "\n",
    "np.random.seed(0)\n",
    "random_edges = np.random.choice(small_best_edges_index.values, 100, False)\n",
    "assignment_table = onehop_df.loc[random_edges]\n",
    "\n",
    "from neuclease.merge_table import generate_focused_assignment\n",
    "_ = generate_focused_assignment(assignment_table, 'test-assignment-SMALL-BODIES-20180725.json')\n"
   ]
  },
  {
   "cell_type": "code",
   "execution_count": null,
   "metadata": {},
   "outputs": [],
   "source": []
  },
  {
   "cell_type": "code",
   "execution_count": null,
   "metadata": {},
   "outputs": [],
   "source": [
    "SCORE_CUTOFF = 0.9\n",
    "good_score_body_stats = body_stats.drop(0).query('side != \"x\" and min_score <= @SCORE_CUTOFF')\n",
    "good_best_edges_index = good_score_body_stats['min_index'].astype(np.int64)\n",
    "\n",
    "print(f\"Found {len(good_score_body_stats)}/{len(body_stats)} bodies with a good edge\")\n",
    "\n",
    "np.random.seed(0)\n",
    "random_edges = np.random.choice(good_best_edges_index.values, 100, False)\n",
    "assignment_table = onehop_df.loc[random_edges]\n",
    "\n",
    "from neuclease.merge_table import generate_focused_assignment\n",
    "_ = generate_focused_assignment(assignment_table, 'test-assignment-good-edges-20180725.json')\n"
   ]
  },
  {
   "cell_type": "code",
   "execution_count": null,
   "metadata": {},
   "outputs": [],
   "source": [
    "SCORE_CUTOFF = 0.9\n",
    "weak_score_body_stats = body_stats.drop(0).query('side != \"x\" and min_score > @SCORE_CUTOFF')\n",
    "weak_best_edges_index = weak_score_body_stats['min_index'].astype(np.int64)\n",
    "\n",
    "print(f\"Found {len(weak_score_body_stats)}/{len(body_stats)} bodies with a weak edge\")\n",
    "\n",
    "np.random.seed(0)\n",
    "random_edges = np.random.choice(weak_best_edges_index.values, 100, False)\n",
    "assignment_table = onehop_df.loc[random_edges]\n",
    "\n",
    "from neuclease.merge_table import generate_focused_assignment\n",
    "_ = generate_focused_assignment(assignment_table, 'test-assignment-weak-edges-20180725.json')\n"
   ]
  },
  {
   "cell_type": "code",
   "execution_count": null,
   "metadata": {},
   "outputs": [],
   "source": [
    "mutal_favorites = onehop_df.query('score <= @SCORE_CUTOFF and is_favorite_of_a and is_favorite_of_b')\n",
    "print(f\"Found {len(mutal_favorites)} mutual favorites\")"
   ]
  },
  {
   "cell_type": "code",
   "execution_count": null,
   "metadata": {},
   "outputs": [],
   "source": [
    "body_stats.query('edge_count > 0').shape"
   ]
  },
  {
   "cell_type": "code",
   "execution_count": null,
   "metadata": {},
   "outputs": [],
   "source": [
    "348863 - 73350"
   ]
  },
  {
   "cell_type": "code",
   "execution_count": null,
   "metadata": {},
   "outputs": [],
   "source": [
    "spec1.iloc[:10]"
   ]
  },
  {
   "cell_type": "code",
   "execution_count": 11,
   "metadata": {},
   "outputs": [
    {
     "name": "stdout",
     "output_type": "stream",
     "text": [
      "Fetching http://emdata3:8900/api/node/662e/segmentation/mappings...\n",
      "Fetching http://emdata3:8900/api/node/662e/segmentation/mappings took 0:00:30.986914\n",
      "Parsing mapping...\n",
      "Parsing mapping took 0:00:06.001045\n"
     ]
    }
   ],
   "source": [
    "analysis_mapping = fetch_mappings(analysis_node)\n",
    "analysis_mapper = LabelMapper(analysis_mapping.index.values, analysis_mapping.values)"
   ]
  },
  {
   "cell_type": "code",
   "execution_count": null,
   "metadata": {},
   "outputs": [],
   "source": [
    "%%time\n",
    "spec1['body_a'] = analysis_mapper.apply(spec1['id_a'].values, True)\n",
    "spec1['body_b'] = analysis_mapper.apply(spec1['id_b'].values, True)"
   ]
  },
  {
   "cell_type": "code",
   "execution_count": null,
   "metadata": {},
   "outputs": [],
   "source": [
    "spec1_important = spec1.query('(body_a in @important_bodies) and (body_b in @important_bodies)')"
   ]
  },
  {
   "cell_type": "code",
   "execution_count": null,
   "metadata": {},
   "outputs": [],
   "source": [
    "spec1_important.shape"
   ]
  },
  {
   "cell_type": "code",
   "execution_count": null,
   "metadata": {},
   "outputs": [],
   "source": [
    "my_best = set(map(tuple, np.sort(best_onehop_df[['id_a', 'id_b']].values, axis=1)))"
   ]
  },
  {
   "cell_type": "code",
   "execution_count": null,
   "metadata": {},
   "outputs": [],
   "source": [
    "spec1_important_edges = set(map(tuple, np.sort(spec1_important[['id_a', 'id_b']].values, axis=1)))"
   ]
  },
  {
   "cell_type": "code",
   "execution_count": null,
   "metadata": {},
   "outputs": [],
   "source": []
  },
  {
   "cell_type": "code",
   "execution_count": null,
   "metadata": {},
   "outputs": [],
   "source": [
    "print(f\"Did not recover {len(spec1_important_edges - my_best)} out of {len(spec1_important)} of Michal's merges\")"
   ]
  },
  {
   "cell_type": "code",
   "execution_count": null,
   "metadata": {},
   "outputs": [],
   "source": [
    "analysis_node"
   ]
  },
  {
   "cell_type": "code",
   "execution_count": 49,
   "metadata": {},
   "outputs": [
    {
     "data": {
      "text/plain": [
       "509238"
      ]
     },
     "execution_count": 49,
     "metadata": {},
     "output_type": "execute_result"
    }
   ],
   "source": []
  },
  {
   "cell_type": "code",
   "execution_count": 12,
   "metadata": {},
   "outputs": [],
   "source": [
    "new_edges_df = pd.read_csv('hemibrain_662edc_equivs_from_v2_32nm_5563382-FILTERED.csv')\n",
    "new_important_edges_df = new_edges_df.query('body_a in @important_bodies or body_b in @important_bodies')"
   ]
  },
  {
   "cell_type": "code",
   "execution_count": 13,
   "metadata": {},
   "outputs": [
    {
     "data": {
      "text/plain": [
       "136667"
      ]
     },
     "execution_count": 13,
     "metadata": {},
     "output_type": "execute_result"
    }
   ],
   "source": [
    "len(new_important_edges_df)"
   ]
  },
  {
   "cell_type": "code",
   "execution_count": 53,
   "metadata": {},
   "outputs": [],
   "source": [
    "np.random.seed(0)\n",
    "random_edges = np.random.choice(new_important_edges_df.index.values, 200, False)\n",
    "assignment_table = new_important_edges_df.loc[random_edges]\n",
    "\n",
    "from neuclease.merge_table import generate_focused_assignment\n",
    "_ = generate_focused_assignment(assignment_table, 'hemibrain_662edc_equivs_from_v2_32nm_5563382-SAMPLE-ASSIGNMENT-2.json')"
   ]
  },
  {
   "cell_type": "code",
   "execution_count": 62,
   "metadata": {},
   "outputs": [
    {
     "data": {
      "text/html": [
       "<div>\n",
       "<style scoped>\n",
       "    .dataframe tbody tr th:only-of-type {\n",
       "        vertical-align: middle;\n",
       "    }\n",
       "\n",
       "    .dataframe tbody tr th {\n",
       "        vertical-align: top;\n",
       "    }\n",
       "\n",
       "    .dataframe thead th {\n",
       "        text-align: right;\n",
       "    }\n",
       "</style>\n",
       "<table border=\"1\" class=\"dataframe\">\n",
       "  <thead>\n",
       "    <tr style=\"text-align: right;\">\n",
       "      <th></th>\n",
       "      <th>id_a</th>\n",
       "      <th>id_b</th>\n",
       "      <th>xa</th>\n",
       "      <th>ya</th>\n",
       "      <th>za</th>\n",
       "      <th>xb</th>\n",
       "      <th>yb</th>\n",
       "      <th>zb</th>\n",
       "      <th>body_a</th>\n",
       "      <th>body_b</th>\n",
       "    </tr>\n",
       "  </thead>\n",
       "  <tbody>\n",
       "    <tr>\n",
       "      <th>0</th>\n",
       "      <td>483776508</td>\n",
       "      <td>1169273038</td>\n",
       "      <td>18468</td>\n",
       "      <td>26768</td>\n",
       "      <td>16548</td>\n",
       "      <td>18464</td>\n",
       "      <td>26768</td>\n",
       "      <td>16548</td>\n",
       "      <td>329983926</td>\n",
       "      <td>1169268432</td>\n",
       "    </tr>\n",
       "    <tr>\n",
       "      <th>1</th>\n",
       "      <td>1561139661</td>\n",
       "      <td>1561139672</td>\n",
       "      <td>18964</td>\n",
       "      <td>11956</td>\n",
       "      <td>21948</td>\n",
       "      <td>18960</td>\n",
       "      <td>11956</td>\n",
       "      <td>21948</td>\n",
       "      <td>800929667</td>\n",
       "      <td>1561139672</td>\n",
       "    </tr>\n",
       "    <tr>\n",
       "      <th>3</th>\n",
       "      <td>1262148664</td>\n",
       "      <td>1293187714</td>\n",
       "      <td>29756</td>\n",
       "      <td>26580</td>\n",
       "      <td>18004</td>\n",
       "      <td>29752</td>\n",
       "      <td>26580</td>\n",
       "      <td>18004</td>\n",
       "      <td>1262148664</td>\n",
       "      <td>1262809553</td>\n",
       "    </tr>\n",
       "    <tr>\n",
       "      <th>4</th>\n",
       "      <td>2254161019</td>\n",
       "      <td>2254157176</td>\n",
       "      <td>21100</td>\n",
       "      <td>25072</td>\n",
       "      <td>31664</td>\n",
       "      <td>21100</td>\n",
       "      <td>25076</td>\n",
       "      <td>31664</td>\n",
       "      <td>2254161019</td>\n",
       "      <td>2041993364</td>\n",
       "    </tr>\n",
       "    <tr>\n",
       "      <th>6</th>\n",
       "      <td>536404555</td>\n",
       "      <td>106979579</td>\n",
       "      <td>29268</td>\n",
       "      <td>11032</td>\n",
       "      <td>7804</td>\n",
       "      <td>29272</td>\n",
       "      <td>11032</td>\n",
       "      <td>7804</td>\n",
       "      <td>536404555</td>\n",
       "      <td>106979579</td>\n",
       "    </tr>\n",
       "  </tbody>\n",
       "</table>\n",
       "</div>"
      ],
      "text/plain": [
       "         id_a        id_b     xa     ya     za     xb     yb     zb  \\\n",
       "0   483776508  1169273038  18468  26768  16548  18464  26768  16548   \n",
       "1  1561139661  1561139672  18964  11956  21948  18960  11956  21948   \n",
       "3  1262148664  1293187714  29756  26580  18004  29752  26580  18004   \n",
       "4  2254161019  2254157176  21100  25072  31664  21100  25076  31664   \n",
       "6   536404555   106979579  29268  11032   7804  29272  11032   7804   \n",
       "\n",
       "       body_a      body_b  \n",
       "0   329983926  1169268432  \n",
       "1   800929667  1561139672  \n",
       "3  1262148664  1262809553  \n",
       "4  2254161019  2041993364  \n",
       "6   536404555   106979579  "
      ]
     },
     "execution_count": 62,
     "metadata": {},
     "output_type": "execute_result"
    }
   ],
   "source": [
    "new_important_edges_df.iloc[:5]"
   ]
  },
  {
   "cell_type": "code",
   "execution_count": 69,
   "metadata": {},
   "outputs": [],
   "source": [
    "from neuclease.merge_table import normalize_recarray_inplace\n",
    "new_important_edges = new_important_edges_df.to_records(index=False)\n",
    "cols_a = list(filter(lambda col: col[-1] == 'a', new_important_edges_df.columns))\n",
    "cols_b = list(filter(lambda col: col[-1] == 'b', new_important_edges_df.columns))\n",
    "\n",
    "normalize_recarray_inplace(new_important_edges, 'id_a', 'id_b', cols_a, cols_b)\n",
    "new_important_edges_df = pd.DataFrame(new_important_edges)\n",
    "assert new_important_edges_df.eval('id_a < id_b').all()"
   ]
  },
  {
   "cell_type": "code",
   "execution_count": 70,
   "metadata": {},
   "outputs": [
    {
     "data": {
      "text/plain": [
       "(136667, 10)"
      ]
     },
     "execution_count": 70,
     "metadata": {},
     "output_type": "execute_result"
    }
   ],
   "source": [
    "new_important_edges_df.shape"
   ]
  },
  {
   "cell_type": "code",
   "execution_count": 72,
   "metadata": {},
   "outputs": [],
   "source": [
    "already_reviewed_keys = fetch_keys(*current_master[:2], 'segmentation_merged')\n",
    "already_reviewed_pairs = [(int(a), int(b)) for a,b in (s.split('+') for s in already_reviewed_keys)]"
   ]
  },
  {
   "cell_type": "code",
   "execution_count": 79,
   "metadata": {},
   "outputs": [],
   "source": [
    "already_reviewed_ids = np.array(already_reviewed_pairs, dtype=np.uint64)\n",
    "already_reviewed_ids.sort(axis=1)\n",
    "already_reviewed_ids = pd.DataFrame(already_reviewed_ids, columns=['id_a', 'id_b'], dtype=np.uint64)\n",
    "assert already_reviewed_ids.eval('id_a < id_b').all()"
   ]
  },
  {
   "cell_type": "code",
   "execution_count": 95,
   "metadata": {},
   "outputs": [],
   "source": [
    "new_important_edges_df['edge_id'] = list(map(tuple, new_important_edges_df[['id_a', 'id_b']].values))\n",
    "already_reviewed_ids['edge_id'] = list(map(tuple, already_reviewed_ids[['id_a', 'id_b']].values))\n",
    "\n",
    "unreviewed_new_important_df = new_important_edges_df[~new_important_edges_df['edge_id'].isin(already_reviewed_ids['edge_id'])]\n",
    "del unreviewed_new_important_df['edge_id']\n",
    "unreviewed_new_important_df.to_csv('hemibrain_662edc_equivs_from_v2_32nm_5563382-FILTERED-UNREVIEWED.csv', header=True, index=False)"
   ]
  },
  {
   "cell_type": "code",
   "execution_count": 14,
   "metadata": {},
   "outputs": [
    {
     "ename": "NameError",
     "evalue": "name 'unreviewed_new_important_df' is not defined",
     "output_type": "error",
     "traceback": [
      "\u001b[0;31m---------------------------------------------------------------------------\u001b[0m",
      "\u001b[0;31mNameError\u001b[0m                                 Traceback (most recent call last)",
      "\u001b[0;32m<ipython-input-14-f8151008b544>\u001b[0m in \u001b[0;36m<module>\u001b[0;34m()\u001b[0m\n\u001b[0;32m----> 1\u001b[0;31m \u001b[0mprint\u001b[0m\u001b[0;34m(\u001b[0m\u001b[0munreviewed_new_important_df\u001b[0m\u001b[0;34m.\u001b[0m\u001b[0mshape\u001b[0m\u001b[0;34m)\u001b[0m\u001b[0;34m\u001b[0m\u001b[0m\n\u001b[0m",
      "\u001b[0;31mNameError\u001b[0m: name 'unreviewed_new_important_df' is not defined"
     ]
    }
   ],
   "source": [
    "print(unreviewed_new_important_df.shape)"
   ]
  },
  {
   "cell_type": "code",
   "execution_count": 102,
   "metadata": {},
   "outputs": [
    {
     "data": {
      "text/plain": [
       "242.866"
      ]
     },
     "execution_count": 102,
     "metadata": {},
     "output_type": "execute_result"
    }
   ],
   "source": [
    "len(unreviewed_new_important_df) / 500"
   ]
  },
  {
   "cell_type": "code",
   "execution_count": 103,
   "metadata": {},
   "outputs": [
    {
     "name": "stderr",
     "output_type": "stream",
     "text": [
      "100%|██████████| 242/242 [00:08<00:00, 30.12it/s]\n"
     ]
    }
   ],
   "source": [
    "from neuclease.merge_table import generate_assignments\n",
    "generate_assignments(unreviewed_new_important_df, 500, 'hemibrain_662edc_equivs_from_v2_32nm-ASSIGNMENTS')"
   ]
  },
  {
   "cell_type": "code",
   "execution_count": 101,
   "metadata": {},
   "outputs": [
    {
     "name": "stdout",
     "output_type": "stream",
     "text": [
      "id_a,id_b,xa,ya,za,xb,yb,zb,body_a,body_b\r\n",
      "483776508,1169273038,18468,26768,16548,18464,26768,16548,329983926,1169268432\r\n",
      "1561139661,1561139672,18964,11956,21948,18960,11956,21948,800929667,1561139672\r\n",
      "1262148664,1293187714,29756,26580,18004,29752,26580,18004,1262148664,1262809553\r\n",
      "2254157176,2254161019,21100,25076,31664,21100,25072,31664,2041993364,2254161019\r\n",
      "106979579,536404555,29272,11032,7804,29268,11032,7804,106979579,536404555\r\n",
      "106979579,556137599,24064,36644,7832,24064,36640,7832,106979579,556137599\r\n",
      "1222592726,1658078513,27320,16688,23580,27320,16692,23580,1006967204,1658074471\r\n",
      "1994868647,2005342170,8204,17352,29184,8200,17352,29184,1713948917,1498418998\r\n",
      "769505273,1951219527,11724,34916,27796,11724,34916,27792,769505273,1951219527\r\n"
     ]
    }
   ],
   "source": [
    "!head /nrs/flyem/bergs/complete-ffn-agglo/hemibrain_662edc_equivs_from_v2_32nm_5563382-FILTERED-UNREVIEWED.csv"
   ]
  },
  {
   "cell_type": "code",
   "execution_count": null,
   "metadata": {},
   "outputs": [],
   "source": [
    "unreviewed_new_important_df"
   ]
  },
  {
   "cell_type": "code",
   "execution_count": null,
   "metadata": {},
   "outputs": [],
   "source": []
  },
  {
   "cell_type": "code",
   "execution_count": null,
   "metadata": {},
   "outputs": [],
   "source": []
  },
  {
   "cell_type": "code",
   "execution_count": null,
   "metadata": {},
   "outputs": [],
   "source": []
  },
  {
   "cell_type": "code",
   "execution_count": null,
   "metadata": {},
   "outputs": [],
   "source": []
  },
  {
   "cell_type": "code",
   "execution_count": 61,
   "metadata": {},
   "outputs": [
    {
     "ename": "NameError",
     "evalue": "name 'analysis_mapper' is not defined",
     "output_type": "error",
     "traceback": [
      "\u001b[0;31m---------------------------------------------------------------------------\u001b[0m",
      "\u001b[0;31mNameError\u001b[0m                                 Traceback (most recent call last)",
      "\u001b[0;32m<ipython-input-61-a5ade24528b8>\u001b[0m in \u001b[0;36m<module>\u001b[0;34m()\u001b[0m\n\u001b[1;32m      1\u001b[0m \u001b[0moriginally_assigned_df\u001b[0m \u001b[0;34m=\u001b[0m \u001b[0mpd\u001b[0m\u001b[0;34m.\u001b[0m\u001b[0mDataFrame\u001b[0m\u001b[0;34m(\u001b[0m\u001b[0mlist\u001b[0m\u001b[0;34m(\u001b[0m\u001b[0massigned_edges\u001b[0m\u001b[0;34m)\u001b[0m\u001b[0;34m,\u001b[0m \u001b[0mcolumns\u001b[0m\u001b[0;34m=\u001b[0m\u001b[0;34m[\u001b[0m\u001b[0;34m'id_a'\u001b[0m\u001b[0;34m,\u001b[0m \u001b[0;34m'id_b'\u001b[0m\u001b[0;34m]\u001b[0m\u001b[0;34m,\u001b[0m \u001b[0mdtype\u001b[0m\u001b[0;34m=\u001b[0m\u001b[0mnp\u001b[0m\u001b[0;34m.\u001b[0m\u001b[0muint64\u001b[0m\u001b[0;34m)\u001b[0m\u001b[0;34m\u001b[0m\u001b[0m\n\u001b[0;32m----> 2\u001b[0;31m \u001b[0moriginally_assigned_df\u001b[0m\u001b[0;34m[\u001b[0m\u001b[0;34m'body_a'\u001b[0m\u001b[0;34m]\u001b[0m \u001b[0;34m=\u001b[0m \u001b[0manalysis_mapper\u001b[0m\u001b[0;34m.\u001b[0m\u001b[0mapply\u001b[0m\u001b[0;34m(\u001b[0m\u001b[0moriginally_assigned_df\u001b[0m\u001b[0;34m[\u001b[0m\u001b[0;34m'id_a'\u001b[0m\u001b[0;34m]\u001b[0m\u001b[0;34m.\u001b[0m\u001b[0mvalues\u001b[0m\u001b[0;34m,\u001b[0m \u001b[0;32mTrue\u001b[0m\u001b[0;34m)\u001b[0m\u001b[0;34m\u001b[0m\u001b[0m\n\u001b[0m\u001b[1;32m      3\u001b[0m \u001b[0moriginally_assigned_df\u001b[0m\u001b[0;34m[\u001b[0m\u001b[0;34m'body_b'\u001b[0m\u001b[0;34m]\u001b[0m \u001b[0;34m=\u001b[0m \u001b[0manalysis_mapper\u001b[0m\u001b[0;34m.\u001b[0m\u001b[0mapply\u001b[0m\u001b[0;34m(\u001b[0m\u001b[0moriginally_assigned_df\u001b[0m\u001b[0;34m[\u001b[0m\u001b[0;34m'id_b'\u001b[0m\u001b[0;34m]\u001b[0m\u001b[0;34m.\u001b[0m\u001b[0mvalues\u001b[0m\u001b[0;34m,\u001b[0m \u001b[0;32mTrue\u001b[0m\u001b[0;34m)\u001b[0m\u001b[0;34m\u001b[0m\u001b[0m\n\u001b[1;32m      4\u001b[0m \u001b[0;34m\u001b[0m\u001b[0m\n\u001b[1;32m      5\u001b[0m \u001b[0moriginally_assigned\u001b[0m \u001b[0;34m=\u001b[0m \u001b[0moriginally_assigned_df\u001b[0m\u001b[0;34m[\u001b[0m\u001b[0;34m[\u001b[0m\u001b[0;34m'body_a'\u001b[0m\u001b[0;34m,\u001b[0m \u001b[0;34m'body_b'\u001b[0m\u001b[0;34m]\u001b[0m\u001b[0;34m]\u001b[0m\u001b[0;34m.\u001b[0m\u001b[0mvalues\u001b[0m\u001b[0;34m\u001b[0m\u001b[0m\n",
      "\u001b[0;31mNameError\u001b[0m: name 'analysis_mapper' is not defined"
     ]
    }
   ],
   "source": [
    "originally_assigned_df = pd.DataFrame(list(assigned_edges), columns=['id_a', 'id_b'], dtype=np.uint64)\n",
    "originally_assigned_df['body_a'] = analysis_mapper.apply(originally_assigned_df['id_a'].values, True)\n",
    "originally_assigned_df['body_b'] = analysis_mapper.apply(originally_assigned_df['id_b'].values, True)\n",
    "\n",
    "originally_assigned = originally_assigned_df[['body_a', 'body_b']].values\n",
    "newly_assigned = unassigned_favorites_df[['body_a', 'body_b']].values\n",
    "new_method_edges = new_important_edges_df[['body_a', 'body_b']].values\n",
    "\n",
    "old_and_new = np.concatenate( (originally_assigned,\n",
    "                               newly_assigned,\n",
    "                               #thresholded_favorites_df[['body_a', 'body_b']].values,\n",
    "                               new_method_edges) )\n",
    "old_and_new.sort(axis=1)\n",
    "\n",
    "old_and_new_df = pd.DataFrame(old_and_new, columns=['body_x', 'body_y'])\n",
    "dupes = old_and_new_df.duplicated()\n",
    "\n",
    "\n",
    "\n",
    "\n",
    "print(f\"The new edges ({len(new_method_edges)}) include {dupes.sum()} \"\n",
    "      f\"duplicates of previously chosen favorites, and {len(new_method_edges) - dupes.sum()} new ones.\")"
   ]
  },
  {
   "cell_type": "code",
   "execution_count": 92,
   "metadata": {},
   "outputs": [
    {
     "data": {
      "text/plain": [
       "428272"
      ]
     },
     "execution_count": 92,
     "metadata": {},
     "output_type": "execute_result"
    }
   ],
   "source": [
    "len(originally_assigned_df) + len(newly_assigned) + len(new_method_edges) - dupes.sum()"
   ]
  },
  {
   "cell_type": "code",
   "execution_count": 95,
   "metadata": {},
   "outputs": [
    {
     "data": {
      "text/plain": [
       "299790.39999999997"
      ]
     },
     "execution_count": 95,
     "metadata": {},
     "output_type": "execute_result"
    }
   ],
   "source": [
    "428272 * 0.7"
   ]
  },
  {
   "cell_type": "code",
   "execution_count": 79,
   "metadata": {},
   "outputs": [
    {
     "data": {
      "text/plain": [
       "(153943, 23)"
      ]
     },
     "execution_count": 79,
     "metadata": {},
     "output_type": "execute_result"
    }
   ],
   "source": [
    "unassigned_favorites_df.shape"
   ]
  },
  {
   "cell_type": "code",
   "execution_count": 80,
   "metadata": {},
   "outputs": [
    {
     "ename": "AttributeError",
     "evalue": "'set' object has no attribute 'shape'",
     "output_type": "error",
     "traceback": [
      "\u001b[0;31m---------------------------------------------------------------------------\u001b[0m",
      "\u001b[0;31mAttributeError\u001b[0m                            Traceback (most recent call last)",
      "\u001b[0;32m<ipython-input-80-ee62b7588349>\u001b[0m in \u001b[0;36m<module>\u001b[0;34m()\u001b[0m\n\u001b[0;32m----> 1\u001b[0;31m \u001b[0massigned_edges\u001b[0m\u001b[0;34m.\u001b[0m\u001b[0mshape\u001b[0m\u001b[0;34m\u001b[0m\u001b[0m\n\u001b[0m",
      "\u001b[0;31mAttributeError\u001b[0m: 'set' object has no attribute 'shape'"
     ]
    }
   ],
   "source": [
    "assigned_edges.shape"
   ]
  },
  {
   "cell_type": "code",
   "execution_count": 99,
   "metadata": {},
   "outputs": [
    {
     "data": {
      "application/vnd.jupyter.widget-view+json": {
       "model_id": "3013ee8079f0490995f24696d99d3f88",
       "version_major": 2,
       "version_minor": 0
      },
      "text/html": [
       "<p>Failed to display Jupyter Widget of type <code>HBox</code>.</p>\n",
       "<p>\n",
       "  If you're reading this message in the Jupyter Notebook or JupyterLab Notebook, it may mean\n",
       "  that the widgets JavaScript is still loading. If this message persists, it\n",
       "  likely means that the widgets JavaScript library is either not installed or\n",
       "  not enabled. See the <a href=\"https://ipywidgets.readthedocs.io/en/stable/user_install.html\">Jupyter\n",
       "  Widgets Documentation</a> for setup instructions.\n",
       "</p>\n",
       "<p>\n",
       "  If you're reading this message in another frontend (for example, a static\n",
       "  rendering on GitHub or <a href=\"https://nbviewer.jupyter.org/\">NBViewer</a>),\n",
       "  it may mean that your frontend doesn't currently support widgets.\n",
       "</p>\n"
      ],
      "text/plain": [
       "HBox(children=(IntProgress(value=0, max=200), HTML(value='')))"
      ]
     },
     "metadata": {},
     "output_type": "display_data"
    },
    {
     "name": "stdout",
     "output_type": "stream",
     "text": [
      "\n"
     ]
    }
   ],
   "source": [
    "assignment_path = ('/nrs/flyem/bergs/complete-ffn-agglo/'\n",
    "                   'hemibrain_662edc_equivs_from_v2_32nm_5563382-SAMPLE-ASSIGNMENT-2.json')\n",
    "assignment = json.load(open(assignment_path, 'r'))\n",
    "edges = []\n",
    "for task in assignment[\"task list\"]:\n",
    "    sv_a = task[\"supervoxel ID 1\"]\n",
    "    sv_b = task[\"supervoxel ID 2\"]\n",
    "    edges.append( (sv_a, sv_b) )\n",
    "\n",
    "knectc_merge_instance = ('emdata1:8400', '363f', 'segmentation_merged')\n",
    "\n",
    "results = []\n",
    "for (sv_a, sv_b) in tqdm_notebook(edges):\n",
    "    value = fetch_key(knectc_merge_instance, f\"{sv_a}+{sv_b}\", as_json=True)\n",
    "    results.append( value[\"result\"] )"
   ]
  },
  {
   "cell_type": "code",
   "execution_count": 132,
   "metadata": {
    "scrolled": false
   },
   "outputs": [
    {
     "data": {
      "text/html": [
       "<div>\n",
       "<style>\n",
       "    .dataframe thead tr:only-child th {\n",
       "        text-align: right;\n",
       "    }\n",
       "\n",
       "    .dataframe thead th {\n",
       "        text-align: left;\n",
       "    }\n",
       "\n",
       "    .dataframe tbody tr th {\n",
       "        vertical-align: top;\n",
       "    }\n",
       "</style>\n",
       "<table border=\"1\" class=\"dataframe\">\n",
       "  <thead>\n",
       "    <tr style=\"text-align: right;\">\n",
       "      <th></th>\n",
       "      <th>decision</th>\n",
       "    </tr>\n",
       "  </thead>\n",
       "  <tbody>\n",
       "    <tr>\n",
       "      <th>merge</th>\n",
       "      <td>154</td>\n",
       "    </tr>\n",
       "    <tr>\n",
       "      <th>dontMerge</th>\n",
       "      <td>28</td>\n",
       "    </tr>\n",
       "    <tr>\n",
       "      <th>irrelevant</th>\n",
       "      <td>14</td>\n",
       "    </tr>\n",
       "    <tr>\n",
       "      <th>mergeLater</th>\n",
       "      <td>4</td>\n",
       "    </tr>\n",
       "  </tbody>\n",
       "</table>\n",
       "</div>"
      ],
      "text/plain": [
       "            decision\n",
       "merge            154\n",
       "dontMerge         28\n",
       "irrelevant        14\n",
       "mergeLater         4"
      ]
     },
     "metadata": {},
     "output_type": "display_data"
    },
    {
     "name": "stdout",
     "output_type": "stream",
     "text": [
      "---------------------------------------\n",
      "Merge rate (excluding irrelevant): 0.85\n",
      "---------------------------------------\n"
     ]
    },
    {
     "data": {
      "image/png": "[encoded data removed]",
      "text/plain": [
       "<matplotlib.figure.Figure at 0x2ac220eb24e0>"
      ]
     },
     "metadata": {},
     "output_type": "display_data"
    }
   ],
   "source": [
    "chris_decisions_df = pd.DataFrame(edges, columns=['sv_a', 'sv_b'])\n",
    "chris_decisions_df['decision'] = results\n",
    "chris_decision_counts = chris_decisions_df['decision'].value_counts()\n",
    "display(pd.DataFrame(chris_decision_counts))\n",
    "\n",
    "merge_count = chris_decision_counts['merge'] + chris_decision_counts['mergeLater']\n",
    "dont_merge_count = chris_decision_counts['dontMerge']\n",
    "merge_rate = merge_count / (merge_count + dont_merge_count)\n",
    "\n",
    "print(\"---------------------------------------\")\n",
    "print(f\"Merge rate (excluding irrelevant): {merge_rate:.2f}\")\n",
    "print(\"---------------------------------------\")\n",
    "\n",
    "_ = chris_decision_counts.plot(kind='pie')"
   ]
  },
  {
   "cell_type": "code",
   "execution_count": 114,
   "metadata": {},
   "outputs": [
    {
     "name": "stdout",
     "output_type": "stream",
     "text": [
      "Merge rate: 0.8494623655913979\n"
     ]
    }
   ],
   "source": []
  },
  {
   "cell_type": "code",
   "execution_count": null,
   "metadata": {},
   "outputs": [],
   "source": [
    "136667 - 34569"
   ]
  },
  {
   "cell_type": "code",
   "execution_count": 135,
   "metadata": {},
   "outputs": [],
   "source": [
    "chris_decisions_df.to_csv('hemibrain_662edc_equivs_from_v2_32nm_5563382-SAMPLE-ASSIGNMENT-2-DECISIONS.csv', index=False)"
   ]
  },
  {
   "cell_type": "code",
   "execution_count": null,
   "metadata": {},
   "outputs": [],
   "source": []
  },
  {
   "cell_type": "code",
   "execution_count": null,
   "metadata": {},
   "outputs": [],
   "source": []
  },
  {
   "cell_type": "markdown",
   "metadata": {},
   "source": [
    "### Ruchi and Shinya"
   ]
  },
  {
   "cell_type": "code",
   "execution_count": 66,
   "metadata": {},
   "outputs": [],
   "source": [
    "marisa_bodies = \"614413183 645456880 676479156 707854989 707858790 707863263 768590452 861251038 1138212774 1882009576 2147677469 2241451334 5813011118 5813022814 5813034824 5813035694 5813038097\"\n",
    "marisa_bodies = set(map(int, marisa_bodies.split()))\n",
    "\n",
    "q = 'body_a in @marisa_bodies or body_b in @marisa_bodies'\n",
    "marisa_favorites_df = onehop_favorites_df.query(q)"
   ]
  },
  {
   "cell_type": "code",
   "execution_count": 67,
   "metadata": {},
   "outputs": [
    {
     "data": {
      "text/plain": [
       "(58, 23)"
      ]
     },
     "execution_count": 67,
     "metadata": {},
     "output_type": "execute_result"
    }
   ],
   "source": [
    "marisa_favorites_df.shape"
   ]
  },
  {
   "cell_type": "code",
   "execution_count": null,
   "metadata": {},
   "outputs": [],
   "source": []
  },
  {
   "cell_type": "code",
   "execution_count": 72,
   "metadata": {},
   "outputs": [],
   "source": [
    "marisa_bodies_it2 = set(marisa_favorites_df[['body_a', 'body_b']].values.flat)\n",
    "q = 'body_a in @marisa_bodies_it2 or body_b in @marisa_bodies_it2'\n",
    "marisa_it2_favorites_df = onehop_favorites_df.query(q)"
   ]
  },
  {
   "cell_type": "code",
   "execution_count": 73,
   "metadata": {},
   "outputs": [
    {
     "data": {
      "text/plain": [
       "(164, 23)"
      ]
     },
     "execution_count": 73,
     "metadata": {},
     "output_type": "execute_result"
    }
   ],
   "source": [
    "marisa_it2_favorites_df.shape"
   ]
  },
  {
   "cell_type": "code",
   "execution_count": 86,
   "metadata": {},
   "outputs": [],
   "source": [
    "def compute_iterations(table_df, starting_bodies, num_iterations):\n",
    "    starting_bodies = set(starting_bodies)\n",
    "    dfs = []\n",
    "\n",
    "    for _ in range(num_iterations):\n",
    "        q = 'body_a in @starting_bodies or body_b in @starting_bodies'    \n",
    "        df = table_df.query(q)\n",
    "\n",
    "        if len(dfs) == 0 :\n",
    "            dfs.append(df)\n",
    "        else:\n",
    "            prev_df = dfs[-1]\n",
    "            accum_df = pd.concat((prev_df, df))\n",
    "            df_filtered = accum_df.drop_duplicates(['body_a', 'body_b']).iloc[len(prev_df):]\n",
    "            dfs.append( df_filtered )\n",
    "        starting_bodies = set(dfs[-1][['body_a', 'body_b']].values.flat)\n",
    "    return dfs"
   ]
  },
  {
   "cell_type": "code",
   "execution_count": 92,
   "metadata": {},
   "outputs": [
    {
     "name": "stdout",
     "output_type": "stream",
     "text": [
      "Iteration 1: 58\n",
      "Iteration 2: 106\n",
      "Iteration 3: 97\n",
      "Iteration 4: 180\n",
      "Iteration 5: 113\n",
      "Iteration 6: 182\n",
      "Iteration 7: 113\n",
      "Iteration 8: 182\n",
      "Iteration 9: 113\n",
      "Iteration 10: 182\n",
      "TOTAL: 1326\n"
     ]
    }
   ],
   "source": [
    "NUM_ITERATIONS = 10\n",
    "marisa_iteration_dfs = compute_iterations(onehop_favorites_df, marisa_bodies, NUM_ITERATIONS)\n",
    "for i, df in enumerate(marisa_iteration_dfs, start=1):\n",
    "    print(f\"Iteration {i}: {len(df)}\")\n",
    "\n",
    "print(f\"TOTAL: {sum(map(len, marisa_iteration_dfs))}\")"
   ]
  },
  {
   "cell_type": "code",
   "execution_count": 109,
   "metadata": {},
   "outputs": [],
   "source": [
    "from neuclease.merge_table import generate_focused_assignment\n",
    "for i, df in enumerate(marisa_iteration_dfs, start=1):\n",
    "    df.to_csv(f'marisa-iterations/edge-tables/iteration-{i:02d}.csv', index=False)\n",
    "    generate_focused_assignment(df, f'marisa-iterations/assignments/iteration-{i:02d}.json')"
   ]
  },
  {
   "cell_type": "code",
   "execution_count": 113,
   "metadata": {},
   "outputs": [
    {
     "name": "stdout",
     "output_type": "stream",
     "text": [
      "{2241451334, 1138212774, 1882009576, 5813034824, 707858790, 5813035694, 5813038097, 2147677469, 5813022814}\n"
     ]
    }
   ],
   "source": [
    "print(marisa_bodies - set(marisa_iteration_dfs[0][['body_a', 'body_b']].values.flat))"
   ]
  },
  {
   "cell_type": "code",
   "execution_count": 119,
   "metadata": {},
   "outputs": [
    {
     "name": "stdout",
     "output_type": "stream",
     "text": [
      "17 of Marisa's edges are previously unassigned\n"
     ]
    }
   ],
   "source": [
    "df = marisa_iteration_dfs[0]\n",
    "\n",
    "sorted_pairs = list(map(tuple, np.sort(df[['id_a', 'id_b']].values, axis=1)))\n",
    "sorted_pairs = pd.Series(sorted_pairs, index=df.index)\n",
    "is_unassigned = ~sorted_pairs.isin(assigned_edges)\n",
    "unassigned_favorites_df = df.loc[is_unassigned]\n",
    "print(f\"{len(unassigned_favorites_df)} of Marisa's edges are previously unassigned\")"
   ]
  },
  {
   "cell_type": "code",
   "execution_count": null,
   "metadata": {},
   "outputs": [],
   "source": [
    "from neuclease.dvid import *\n",
    "master"
   ]
  },
  {
   "cell_type": "code",
   "execution_count": 13,
   "metadata": {},
   "outputs": [
    {
     "name": "stdout",
     "output_type": "stream",
     "text": [
      "Reading kafka messages from kafka.int.janelia.org:9092 for emdata3:8900 / d585 / segmentation\n",
      "Reading 380801 kafka messages took 17.63081955909729 seconds\n",
      "Fetching http://emdata3:8900/api/node/d585/segmentation/mappings...\n",
      "Fetching http://emdata3:8900/api/node/d585/segmentation/mappings took 0:00:32.507517\n",
      "Parsing mapping...\n",
      "Parsing mapping took 0:00:09.022536\n",
      "Constructing missing identity-mappings...\n",
      "Constructing missing identity-mappings took 0:00:21.473158\n"
     ]
    }
   ],
   "source": [
    "from neuclease.dvid import *\n",
    "master_mapping = fetch_complete_mappings(*current_master)"
   ]
  },
  {
   "cell_type": "code",
   "execution_count": 14,
   "metadata": {},
   "outputs": [
    {
     "data": {
      "text/plain": [
       "(41078989,)"
      ]
     },
     "execution_count": 14,
     "metadata": {},
     "output_type": "execute_result"
    }
   ],
   "source": [
    "master_mapping.shape"
   ]
  },
  {
   "cell_type": "code",
   "execution_count": 15,
   "metadata": {},
   "outputs": [
    {
     "data": {
      "text/plain": [
       "'sv'"
      ]
     },
     "execution_count": 15,
     "metadata": {},
     "output_type": "execute_result"
    }
   ],
   "source": [
    "master_mapping.index.name"
   ]
  },
  {
   "cell_type": "code",
   "execution_count": 16,
   "metadata": {},
   "outputs": [],
   "source": [
    "body_counts = master_mapping.value_counts()"
   ]
  },
  {
   "cell_type": "code",
   "execution_count": 17,
   "metadata": {},
   "outputs": [
    {
     "data": {
      "text/plain": [
       "2567475583    10384\n",
       "5813024523    10043\n",
       "5813050455     9597\n",
       "5813050499     9460\n",
       "1497973422     8748\n",
       "5813024096     8172\n",
       "950880008      8076\n",
       "5813027276     7519\n",
       "298258513      6948\n",
       "1135441187     6430\n",
       "Name: body, dtype: int64"
      ]
     },
     "execution_count": 17,
     "metadata": {},
     "output_type": "execute_result"
    }
   ],
   "source": [
    "body_counts[:10]"
   ]
  },
  {
   "cell_type": "code",
   "execution_count": 18,
   "metadata": {},
   "outputs": [
    {
     "data": {
      "text/plain": [
       "(9670991,)"
      ]
     },
     "execution_count": 18,
     "metadata": {},
     "output_type": "execute_result"
    }
   ],
   "source": [
    "body_counts.shape"
   ]
  },
  {
   "cell_type": "code",
   "execution_count": null,
   "metadata": {},
   "outputs": [],
   "source": []
  }
 ],
 "metadata": {
  "kernelspec": {
   "display_name": "Python 3",
   "language": "python",
   "name": "python3"
  },
  "language_info": {
   "codemirror_mode": {
    "name": "ipython",
    "version": 3
   },
   "file_extension": ".py",
   "mimetype": "text/x-python",
   "name": "python",
   "nbconvert_exporter": "python",
   "pygments_lexer": "ipython3",
   "version": "3.6.3"
  }
 },
 "nbformat": 4,
 "nbformat_minor": 2
}
